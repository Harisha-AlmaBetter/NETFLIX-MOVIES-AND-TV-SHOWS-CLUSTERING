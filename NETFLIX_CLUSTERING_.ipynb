{
  "nbformat": 4,
  "nbformat_minor": 0,
  "metadata": {
    "colab": {
      "name": "NETFLIX CLUSTERING .ipynb",
      "provenance": [],
      "collapsed_sections": [],
      "include_colab_link": true
    },
    "kernelspec": {
      "name": "python3",
      "display_name": "Python 3"
    },
    "language_info": {
      "name": "python"
    }
  },
  "cells": [
    {
      "cell_type": "markdown",
      "metadata": {
        "id": "view-in-github",
        "colab_type": "text"
      },
      "source": [
        "<a href=\"https://colab.research.google.com/github/Harisha-AlmaBetter/NETFLIX-MOVIES-AND-TV-SHOWS-CLUSTERING/blob/main/NETFLIX_CLUSTERING_.ipynb\" target=\"_parent\"><img src=\"https://colab.research.google.com/assets/colab-badge.svg\" alt=\"Open In Colab\"/></a>"
      ]
    },
    {
      "cell_type": "markdown",
      "source": [
        "#<B>NETFLIX MOVIES AND TV SHOWS CLUSTERING"
      ],
      "metadata": {
        "id": "fI0UcTAT0ZoX"
      }
    },
    {
      "cell_type": "markdown",
      "source": [
        "# <B>Problem Statement"
      ],
      "metadata": {
        "id": "oRNsknx80W4W"
      }
    },
    {
      "cell_type": "markdown",
      "metadata": {
        "id": "8M5kyFaVjzXk"
      },
      "source": [
        "**This** dataset consists of tv shows and movies available on Netflix as of 2019. The dataset is collected from Flixable which is a third-party Netflix search engine.\n",
        "\n",
        "In 2018, they released an interesting report which shows that the number of TV shows on Netflix has nearly tripled since 2010. The streaming service’s number of movies has decreased by more than 2,000 titles since 2010, while its number of TV shows has nearly tripled. It will be interesting to explore what all other insights can be obtained from the same dataset.\n",
        "\n",
        "Integrating this dataset with other external datasets such as IMDB ratings, rotten tomatoes can also provide many interesting findings."
      ]
    },
    {
      "cell_type": "markdown",
      "metadata": {
        "id": "tLx5cJO8hzb1"
      },
      "source": [
        "## <b>In this  project, you are required to do </b>\n",
        "1. Exploratory Data Analysis \n",
        "\n",
        "2. Understanding what type content is available in different countries\n",
        "\n",
        "3. Is Netflix has increasingly focusing on TV rather than movies in recent years.\n",
        "4. Clustering similar content by matching text-based features\n",
        "\n"
      ]
    },
    {
      "cell_type": "markdown",
      "metadata": {
        "id": "AzGDqdC4fZ-b"
      },
      "source": [
        "# **Attribute Information**"
      ]
    },
    {
      "cell_type": "markdown",
      "metadata": {
        "id": "jhfLYargscGV"
      },
      "source": [
        "1. show_id : Unique ID for every Movie / Tv Show\n",
        "\n",
        "2. type : Identifier - A Movie or TV Show\n",
        "\n",
        "3. title : Title of the Movie / Tv Show\n",
        "\n",
        "4. director : Director of the Movie\n",
        "\n",
        "5. cast : Actors involved in the movie / show\n",
        "\n",
        "6. country : Country where the movie / show was produced\n",
        "\n",
        "7. date_added : Date it was added on Netflix\n",
        "\n",
        "8. release_year : Actual Releaseyear of the movie / show\n",
        "\n",
        "9. rating : TV Rating of the movie / show\n",
        "\n",
        "10. duration : Total Duration - in minutes or number of seasons\n",
        "\n",
        "11. listed_in : Genere\n",
        "\n",
        "12. description: The Summary description"
      ]
    },
    {
      "cell_type": "markdown",
      "source": [
        "#<b> Import Packages"
      ],
      "metadata": {
        "id": "ozGtdhZFzzZm"
      }
    },
    {
      "cell_type": "code",
      "source": [
        "import pandas as pd\n",
        "import numpy as np\n",
        "\n",
        "import missingno as msno\n",
        "\n",
        "import seaborn as sns\n",
        "import matplotlib.pyplot as plt\n",
        "import plotly.express as px\n",
        "import plotly.graph_objects as go\n",
        "from plotly.subplots import make_subplots\n",
        "\n",
        "\n",
        "%matplotlib inline\n",
        "\n",
        "# Importing Date & Time util modules\n",
        "from dateutil.parser import parse\n",
        "\n",
        "import collections as c\n",
        "\n",
        "\n",
        "import re\n",
        "import nltk\n",
        "nltk.download('stopwords')\n",
        "from nltk.corpus import stopwords\n",
        "\n",
        "#for nlp\n",
        "from sklearn import preprocessing\n",
        "from sklearn.feature_extraction.text import CountVectorizer, TfidfVectorizer\n",
        "from sklearn.model_selection import train_test_split, KFold\n",
        "from nltk.corpus import stopwords\n",
        "from nltk.stem.snowball import SnowballStemmer\n",
        "\n",
        "from sklearn.metrics import silhouette_score\n",
        "from sklearn.cluster import KMeans\n",
        "from sklearn.metrics import silhouette_samples\n",
        "import scipy.cluster.hierarchy as sch\n",
        "\n",
        "\n",
        "import warnings\n",
        "warnings.filterwarnings('ignore')"
      ],
      "metadata": {
        "id": "heJXGwFpnZm-",
        "colab": {
          "base_uri": "https://localhost:8080/"
        },
        "outputId": "d1cd3898-ca4a-44c3-e332-2976b1990424"
      },
      "execution_count": null,
      "outputs": [
        {
          "output_type": "stream",
          "name": "stdout",
          "text": [
            "[nltk_data] Downloading package stopwords to /root/nltk_data...\n",
            "[nltk_data]   Package stopwords is already up-to-date!\n"
          ]
        }
      ]
    },
    {
      "cell_type": "markdown",
      "source": [
        "#<B>Load & Read the dataset"
      ],
      "metadata": {
        "id": "OWpNIKwj1SDJ"
      }
    },
    {
      "cell_type": "code",
      "source": [
        "from google.colab import drive\n",
        "drive.mount('/content/drive')"
      ],
      "metadata": {
        "id": "PrmXLXxc1k_M",
        "colab": {
          "base_uri": "https://localhost:8080/"
        },
        "outputId": "37bc08c6-5d1e-4e7b-86dd-fba4eef93f3b"
      },
      "execution_count": null,
      "outputs": [
        {
          "output_type": "stream",
          "name": "stdout",
          "text": [
            "Mounted at /content/drive\n"
          ]
        }
      ]
    },
    {
      "cell_type": "code",
      "source": [
        "nf=pd.read_csv('/content/drive/MyDrive/Netflix/NETFLIX MOVIES AND TV SHOWS CLUSTERING.csv')"
      ],
      "metadata": {
        "id": "x477-z741u1T"
      },
      "execution_count": null,
      "outputs": []
    },
    {
      "cell_type": "code",
      "source": [
        "nf.head(5).append(nf.tail(5))"
      ],
      "metadata": {
        "colab": {
          "base_uri": "https://localhost:8080/",
          "height": 737
        },
        "id": "tJ5pvJof26fb",
        "outputId": "e21e522e-2152-4756-d6f0-66efeb5ba5b9"
      },
      "execution_count": null,
      "outputs": [
        {
          "output_type": "execute_result",
          "data": {
            "text/plain": [
              "     show_id     type                                    title  \\\n",
              "0         s1  TV Show                                       3%   \n",
              "1         s2    Movie                                     7:19   \n",
              "2         s3    Movie                                    23:59   \n",
              "3         s4    Movie                                        9   \n",
              "4         s5    Movie                                       21   \n",
              "7782   s7783    Movie                                     Zozo   \n",
              "7783   s7784    Movie                                   Zubaan   \n",
              "7784   s7785    Movie                        Zulu Man in Japan   \n",
              "7785   s7786  TV Show                    Zumbo's Just Desserts   \n",
              "7786   s7787    Movie  ZZ TOP: THAT LITTLE OL' BAND FROM TEXAS   \n",
              "\n",
              "               director                                               cast  \\\n",
              "0                   NaN  João Miguel, Bianca Comparato, Michel Gomes, R...   \n",
              "1     Jorge Michel Grau  Demián Bichir, Héctor Bonilla, Oscar Serrano, ...   \n",
              "2          Gilbert Chan  Tedd Chan, Stella Chung, Henley Hii, Lawrence ...   \n",
              "3           Shane Acker  Elijah Wood, John C. Reilly, Jennifer Connelly...   \n",
              "4        Robert Luketic  Jim Sturgess, Kevin Spacey, Kate Bosworth, Aar...   \n",
              "7782        Josef Fares  Imad Creidi, Antoinette Turk, Elias Gergi, Car...   \n",
              "7783        Mozez Singh  Vicky Kaushal, Sarah-Jane Dias, Raaghav Chanan...   \n",
              "7784                NaN                                            Nasty C   \n",
              "7785                NaN                         Adriano Zumbo, Rachel Khoo   \n",
              "7786           Sam Dunn                                                NaN   \n",
              "\n",
              "                                                country          date_added  \\\n",
              "0                                                Brazil     August 14, 2020   \n",
              "1                                                Mexico   December 23, 2016   \n",
              "2                                             Singapore   December 20, 2018   \n",
              "3                                         United States   November 16, 2017   \n",
              "4                                         United States     January 1, 2020   \n",
              "7782  Sweden, Czech Republic, United Kingdom, Denmar...    October 19, 2020   \n",
              "7783                                              India       March 2, 2019   \n",
              "7784                                                NaN  September 25, 2020   \n",
              "7785                                          Australia    October 31, 2020   \n",
              "7786              United Kingdom, Canada, United States       March 1, 2020   \n",
              "\n",
              "      release_year rating   duration  \\\n",
              "0             2020  TV-MA  4 Seasons   \n",
              "1             2016  TV-MA     93 min   \n",
              "2             2011      R     78 min   \n",
              "3             2009  PG-13     80 min   \n",
              "4             2008  PG-13    123 min   \n",
              "7782          2005  TV-MA     99 min   \n",
              "7783          2015  TV-14    111 min   \n",
              "7784          2019  TV-MA     44 min   \n",
              "7785          2019  TV-PG   1 Season   \n",
              "7786          2019  TV-MA     90 min   \n",
              "\n",
              "                                              listed_in  \\\n",
              "0     International TV Shows, TV Dramas, TV Sci-Fi &...   \n",
              "1                          Dramas, International Movies   \n",
              "2                   Horror Movies, International Movies   \n",
              "3     Action & Adventure, Independent Movies, Sci-Fi...   \n",
              "4                                                Dramas   \n",
              "7782                       Dramas, International Movies   \n",
              "7783     Dramas, International Movies, Music & Musicals   \n",
              "7784  Documentaries, International Movies, Music & M...   \n",
              "7785                 International TV Shows, Reality TV   \n",
              "7786                    Documentaries, Music & Musicals   \n",
              "\n",
              "                                            description  \n",
              "0     In a future where the elite inhabit an island ...  \n",
              "1     After a devastating earthquake hits Mexico Cit...  \n",
              "2     When an army recruit is found dead, his fellow...  \n",
              "3     In a postapocalyptic world, rag-doll robots hi...  \n",
              "4     A brilliant group of students become card-coun...  \n",
              "7782  When Lebanon's Civil War deprives Zozo of his ...  \n",
              "7783  A scrappy but poor boy worms his way into a ty...  \n",
              "7784  In this documentary, South African rapper Nast...  \n",
              "7785  Dessert wizard Adriano Zumbo looks for the nex...  \n",
              "7786  This documentary delves into the mystique behi...  "
            ],
            "text/html": [
              "\n",
              "  <div id=\"df-b18f1f81-ddef-475d-a034-5dbcaa156923\">\n",
              "    <div class=\"colab-df-container\">\n",
              "      <div>\n",
              "<style scoped>\n",
              "    .dataframe tbody tr th:only-of-type {\n",
              "        vertical-align: middle;\n",
              "    }\n",
              "\n",
              "    .dataframe tbody tr th {\n",
              "        vertical-align: top;\n",
              "    }\n",
              "\n",
              "    .dataframe thead th {\n",
              "        text-align: right;\n",
              "    }\n",
              "</style>\n",
              "<table border=\"1\" class=\"dataframe\">\n",
              "  <thead>\n",
              "    <tr style=\"text-align: right;\">\n",
              "      <th></th>\n",
              "      <th>show_id</th>\n",
              "      <th>type</th>\n",
              "      <th>title</th>\n",
              "      <th>director</th>\n",
              "      <th>cast</th>\n",
              "      <th>country</th>\n",
              "      <th>date_added</th>\n",
              "      <th>release_year</th>\n",
              "      <th>rating</th>\n",
              "      <th>duration</th>\n",
              "      <th>listed_in</th>\n",
              "      <th>description</th>\n",
              "    </tr>\n",
              "  </thead>\n",
              "  <tbody>\n",
              "    <tr>\n",
              "      <th>0</th>\n",
              "      <td>s1</td>\n",
              "      <td>TV Show</td>\n",
              "      <td>3%</td>\n",
              "      <td>NaN</td>\n",
              "      <td>João Miguel, Bianca Comparato, Michel Gomes, R...</td>\n",
              "      <td>Brazil</td>\n",
              "      <td>August 14, 2020</td>\n",
              "      <td>2020</td>\n",
              "      <td>TV-MA</td>\n",
              "      <td>4 Seasons</td>\n",
              "      <td>International TV Shows, TV Dramas, TV Sci-Fi &amp;...</td>\n",
              "      <td>In a future where the elite inhabit an island ...</td>\n",
              "    </tr>\n",
              "    <tr>\n",
              "      <th>1</th>\n",
              "      <td>s2</td>\n",
              "      <td>Movie</td>\n",
              "      <td>7:19</td>\n",
              "      <td>Jorge Michel Grau</td>\n",
              "      <td>Demián Bichir, Héctor Bonilla, Oscar Serrano, ...</td>\n",
              "      <td>Mexico</td>\n",
              "      <td>December 23, 2016</td>\n",
              "      <td>2016</td>\n",
              "      <td>TV-MA</td>\n",
              "      <td>93 min</td>\n",
              "      <td>Dramas, International Movies</td>\n",
              "      <td>After a devastating earthquake hits Mexico Cit...</td>\n",
              "    </tr>\n",
              "    <tr>\n",
              "      <th>2</th>\n",
              "      <td>s3</td>\n",
              "      <td>Movie</td>\n",
              "      <td>23:59</td>\n",
              "      <td>Gilbert Chan</td>\n",
              "      <td>Tedd Chan, Stella Chung, Henley Hii, Lawrence ...</td>\n",
              "      <td>Singapore</td>\n",
              "      <td>December 20, 2018</td>\n",
              "      <td>2011</td>\n",
              "      <td>R</td>\n",
              "      <td>78 min</td>\n",
              "      <td>Horror Movies, International Movies</td>\n",
              "      <td>When an army recruit is found dead, his fellow...</td>\n",
              "    </tr>\n",
              "    <tr>\n",
              "      <th>3</th>\n",
              "      <td>s4</td>\n",
              "      <td>Movie</td>\n",
              "      <td>9</td>\n",
              "      <td>Shane Acker</td>\n",
              "      <td>Elijah Wood, John C. Reilly, Jennifer Connelly...</td>\n",
              "      <td>United States</td>\n",
              "      <td>November 16, 2017</td>\n",
              "      <td>2009</td>\n",
              "      <td>PG-13</td>\n",
              "      <td>80 min</td>\n",
              "      <td>Action &amp; Adventure, Independent Movies, Sci-Fi...</td>\n",
              "      <td>In a postapocalyptic world, rag-doll robots hi...</td>\n",
              "    </tr>\n",
              "    <tr>\n",
              "      <th>4</th>\n",
              "      <td>s5</td>\n",
              "      <td>Movie</td>\n",
              "      <td>21</td>\n",
              "      <td>Robert Luketic</td>\n",
              "      <td>Jim Sturgess, Kevin Spacey, Kate Bosworth, Aar...</td>\n",
              "      <td>United States</td>\n",
              "      <td>January 1, 2020</td>\n",
              "      <td>2008</td>\n",
              "      <td>PG-13</td>\n",
              "      <td>123 min</td>\n",
              "      <td>Dramas</td>\n",
              "      <td>A brilliant group of students become card-coun...</td>\n",
              "    </tr>\n",
              "    <tr>\n",
              "      <th>7782</th>\n",
              "      <td>s7783</td>\n",
              "      <td>Movie</td>\n",
              "      <td>Zozo</td>\n",
              "      <td>Josef Fares</td>\n",
              "      <td>Imad Creidi, Antoinette Turk, Elias Gergi, Car...</td>\n",
              "      <td>Sweden, Czech Republic, United Kingdom, Denmar...</td>\n",
              "      <td>October 19, 2020</td>\n",
              "      <td>2005</td>\n",
              "      <td>TV-MA</td>\n",
              "      <td>99 min</td>\n",
              "      <td>Dramas, International Movies</td>\n",
              "      <td>When Lebanon's Civil War deprives Zozo of his ...</td>\n",
              "    </tr>\n",
              "    <tr>\n",
              "      <th>7783</th>\n",
              "      <td>s7784</td>\n",
              "      <td>Movie</td>\n",
              "      <td>Zubaan</td>\n",
              "      <td>Mozez Singh</td>\n",
              "      <td>Vicky Kaushal, Sarah-Jane Dias, Raaghav Chanan...</td>\n",
              "      <td>India</td>\n",
              "      <td>March 2, 2019</td>\n",
              "      <td>2015</td>\n",
              "      <td>TV-14</td>\n",
              "      <td>111 min</td>\n",
              "      <td>Dramas, International Movies, Music &amp; Musicals</td>\n",
              "      <td>A scrappy but poor boy worms his way into a ty...</td>\n",
              "    </tr>\n",
              "    <tr>\n",
              "      <th>7784</th>\n",
              "      <td>s7785</td>\n",
              "      <td>Movie</td>\n",
              "      <td>Zulu Man in Japan</td>\n",
              "      <td>NaN</td>\n",
              "      <td>Nasty C</td>\n",
              "      <td>NaN</td>\n",
              "      <td>September 25, 2020</td>\n",
              "      <td>2019</td>\n",
              "      <td>TV-MA</td>\n",
              "      <td>44 min</td>\n",
              "      <td>Documentaries, International Movies, Music &amp; M...</td>\n",
              "      <td>In this documentary, South African rapper Nast...</td>\n",
              "    </tr>\n",
              "    <tr>\n",
              "      <th>7785</th>\n",
              "      <td>s7786</td>\n",
              "      <td>TV Show</td>\n",
              "      <td>Zumbo's Just Desserts</td>\n",
              "      <td>NaN</td>\n",
              "      <td>Adriano Zumbo, Rachel Khoo</td>\n",
              "      <td>Australia</td>\n",
              "      <td>October 31, 2020</td>\n",
              "      <td>2019</td>\n",
              "      <td>TV-PG</td>\n",
              "      <td>1 Season</td>\n",
              "      <td>International TV Shows, Reality TV</td>\n",
              "      <td>Dessert wizard Adriano Zumbo looks for the nex...</td>\n",
              "    </tr>\n",
              "    <tr>\n",
              "      <th>7786</th>\n",
              "      <td>s7787</td>\n",
              "      <td>Movie</td>\n",
              "      <td>ZZ TOP: THAT LITTLE OL' BAND FROM TEXAS</td>\n",
              "      <td>Sam Dunn</td>\n",
              "      <td>NaN</td>\n",
              "      <td>United Kingdom, Canada, United States</td>\n",
              "      <td>March 1, 2020</td>\n",
              "      <td>2019</td>\n",
              "      <td>TV-MA</td>\n",
              "      <td>90 min</td>\n",
              "      <td>Documentaries, Music &amp; Musicals</td>\n",
              "      <td>This documentary delves into the mystique behi...</td>\n",
              "    </tr>\n",
              "  </tbody>\n",
              "</table>\n",
              "</div>\n",
              "      <button class=\"colab-df-convert\" onclick=\"convertToInteractive('df-b18f1f81-ddef-475d-a034-5dbcaa156923')\"\n",
              "              title=\"Convert this dataframe to an interactive table.\"\n",
              "              style=\"display:none;\">\n",
              "        \n",
              "  <svg xmlns=\"http://www.w3.org/2000/svg\" height=\"24px\"viewBox=\"0 0 24 24\"\n",
              "       width=\"24px\">\n",
              "    <path d=\"M0 0h24v24H0V0z\" fill=\"none\"/>\n",
              "    <path d=\"M18.56 5.44l.94 2.06.94-2.06 2.06-.94-2.06-.94-.94-2.06-.94 2.06-2.06.94zm-11 1L8.5 8.5l.94-2.06 2.06-.94-2.06-.94L8.5 2.5l-.94 2.06-2.06.94zm10 10l.94 2.06.94-2.06 2.06-.94-2.06-.94-.94-2.06-.94 2.06-2.06.94z\"/><path d=\"M17.41 7.96l-1.37-1.37c-.4-.4-.92-.59-1.43-.59-.52 0-1.04.2-1.43.59L10.3 9.45l-7.72 7.72c-.78.78-.78 2.05 0 2.83L4 21.41c.39.39.9.59 1.41.59.51 0 1.02-.2 1.41-.59l7.78-7.78 2.81-2.81c.8-.78.8-2.07 0-2.86zM5.41 20L4 18.59l7.72-7.72 1.47 1.35L5.41 20z\"/>\n",
              "  </svg>\n",
              "      </button>\n",
              "      \n",
              "  <style>\n",
              "    .colab-df-container {\n",
              "      display:flex;\n",
              "      flex-wrap:wrap;\n",
              "      gap: 12px;\n",
              "    }\n",
              "\n",
              "    .colab-df-convert {\n",
              "      background-color: #E8F0FE;\n",
              "      border: none;\n",
              "      border-radius: 50%;\n",
              "      cursor: pointer;\n",
              "      display: none;\n",
              "      fill: #1967D2;\n",
              "      height: 32px;\n",
              "      padding: 0 0 0 0;\n",
              "      width: 32px;\n",
              "    }\n",
              "\n",
              "    .colab-df-convert:hover {\n",
              "      background-color: #E2EBFA;\n",
              "      box-shadow: 0px 1px 2px rgba(60, 64, 67, 0.3), 0px 1px 3px 1px rgba(60, 64, 67, 0.15);\n",
              "      fill: #174EA6;\n",
              "    }\n",
              "\n",
              "    [theme=dark] .colab-df-convert {\n",
              "      background-color: #3B4455;\n",
              "      fill: #D2E3FC;\n",
              "    }\n",
              "\n",
              "    [theme=dark] .colab-df-convert:hover {\n",
              "      background-color: #434B5C;\n",
              "      box-shadow: 0px 1px 3px 1px rgba(0, 0, 0, 0.15);\n",
              "      filter: drop-shadow(0px 1px 2px rgba(0, 0, 0, 0.3));\n",
              "      fill: #FFFFFF;\n",
              "    }\n",
              "  </style>\n",
              "\n",
              "      <script>\n",
              "        const buttonEl =\n",
              "          document.querySelector('#df-b18f1f81-ddef-475d-a034-5dbcaa156923 button.colab-df-convert');\n",
              "        buttonEl.style.display =\n",
              "          google.colab.kernel.accessAllowed ? 'block' : 'none';\n",
              "\n",
              "        async function convertToInteractive(key) {\n",
              "          const element = document.querySelector('#df-b18f1f81-ddef-475d-a034-5dbcaa156923');\n",
              "          const dataTable =\n",
              "            await google.colab.kernel.invokeFunction('convertToInteractive',\n",
              "                                                     [key], {});\n",
              "          if (!dataTable) return;\n",
              "\n",
              "          const docLinkHtml = 'Like what you see? Visit the ' +\n",
              "            '<a target=\"_blank\" href=https://colab.research.google.com/notebooks/data_table.ipynb>data table notebook</a>'\n",
              "            + ' to learn more about interactive tables.';\n",
              "          element.innerHTML = '';\n",
              "          dataTable['output_type'] = 'display_data';\n",
              "          await google.colab.output.renderOutput(dataTable, element);\n",
              "          const docLink = document.createElement('div');\n",
              "          docLink.innerHTML = docLinkHtml;\n",
              "          element.appendChild(docLink);\n",
              "        }\n",
              "      </script>\n",
              "    </div>\n",
              "  </div>\n",
              "  "
            ]
          },
          "metadata": {},
          "execution_count": 4
        }
      ]
    },
    {
      "cell_type": "markdown",
      "source": [
        "After a quick glimpse at the dataset, it looks like a typical movies/shows dataset without user ratings. We can also see that there are NaN values in some columns."
      ],
      "metadata": {
        "id": "ejXm1mOfrEKM"
      }
    },
    {
      "cell_type": "markdown",
      "source": [
        "#<B>Checking Shape and Column Names"
      ],
      "metadata": {
        "id": "t5Bs3Qw6YH1C"
      }
    },
    {
      "cell_type": "code",
      "source": [
        "nf.shape"
      ],
      "metadata": {
        "colab": {
          "base_uri": "https://localhost:8080/"
        },
        "id": "htCGcBIuYHIV",
        "outputId": "db21ab45-de60-4f6f-bb82-c47e228863cb"
      },
      "execution_count": null,
      "outputs": [
        {
          "output_type": "execute_result",
          "data": {
            "text/plain": [
              "(7787, 12)"
            ]
          },
          "metadata": {},
          "execution_count": 5
        }
      ]
    },
    {
      "cell_type": "code",
      "source": [
        "nf.columns"
      ],
      "metadata": {
        "colab": {
          "base_uri": "https://localhost:8080/"
        },
        "id": "BSkUPihSYoYT",
        "outputId": "ef585d43-2ad6-4ee9-def3-fcb475bd1037"
      },
      "execution_count": null,
      "outputs": [
        {
          "output_type": "execute_result",
          "data": {
            "text/plain": [
              "Index(['show_id', 'type', 'title', 'director', 'cast', 'country', 'date_added',\n",
              "       'release_year', 'rating', 'duration', 'listed_in', 'description'],\n",
              "      dtype='object')"
            ]
          },
          "metadata": {},
          "execution_count": 6
        }
      ]
    },
    {
      "cell_type": "markdown",
      "source": [
        "<B>To make the column names more meaningful, \"listed_in\" has been changed to \"genres\"."
      ],
      "metadata": {
        "id": "FwVSr3PCYxh3"
      }
    },
    {
      "cell_type": "code",
      "source": [
        "nf.rename(columns = {\"listed_in\":\"genres\"},inplace = True)\n",
        "nf.columns"
      ],
      "metadata": {
        "colab": {
          "base_uri": "https://localhost:8080/"
        },
        "id": "_8EspSHnY1hR",
        "outputId": "76045a04-d8d2-4b71-a83e-d0c7ef5d459f"
      },
      "execution_count": null,
      "outputs": [
        {
          "output_type": "execute_result",
          "data": {
            "text/plain": [
              "Index(['show_id', 'type', 'title', 'director', 'cast', 'country', 'date_added',\n",
              "       'release_year', 'rating', 'duration', 'genres', 'description'],\n",
              "      dtype='object')"
            ]
          },
          "metadata": {},
          "execution_count": 7
        }
      ]
    },
    {
      "cell_type": "markdown",
      "source": [
        "<B>Validating Duplicate Records"
      ],
      "metadata": {
        "id": "BUJCR3W0Zh8z"
      }
    },
    {
      "cell_type": "code",
      "source": [
        "#Drop duplicates if any\n",
        "nf=nf.drop_duplicates()\n",
        "nf.shape"
      ],
      "metadata": {
        "colab": {
          "base_uri": "https://localhost:8080/"
        },
        "id": "uZ_2GC1-ZkXy",
        "outputId": "6ca62004-af2c-4677-a574-df11cdb406bb"
      },
      "execution_count": null,
      "outputs": [
        {
          "output_type": "execute_result",
          "data": {
            "text/plain": [
              "(7787, 12)"
            ]
          },
          "metadata": {},
          "execution_count": 8
        }
      ]
    },
    {
      "cell_type": "markdown",
      "source": [
        "<B>No duplicates found."
      ],
      "metadata": {
        "id": "wie3ZaiXZ6Ls"
      }
    },
    {
      "cell_type": "markdown",
      "source": [
        "# **3. Data Preparation and Cleaning**"
      ],
      "metadata": {
        "id": "0MhrO-Chur-9"
      }
    },
    {
      "cell_type": "code",
      "source": [
        "nf.info()"
      ],
      "metadata": {
        "colab": {
          "base_uri": "https://localhost:8080/"
        },
        "id": "XdRlQnNH3KQN",
        "outputId": "c954f20c-0b3a-4396-8b94-d024fd5edb26"
      },
      "execution_count": null,
      "outputs": [
        {
          "output_type": "stream",
          "name": "stdout",
          "text": [
            "<class 'pandas.core.frame.DataFrame'>\n",
            "Int64Index: 7787 entries, 0 to 7786\n",
            "Data columns (total 12 columns):\n",
            " #   Column        Non-Null Count  Dtype \n",
            "---  ------        --------------  ----- \n",
            " 0   show_id       7787 non-null   object\n",
            " 1   type          7787 non-null   object\n",
            " 2   title         7787 non-null   object\n",
            " 3   director      5398 non-null   object\n",
            " 4   cast          7069 non-null   object\n",
            " 5   country       7280 non-null   object\n",
            " 6   date_added    7777 non-null   object\n",
            " 7   release_year  7787 non-null   int64 \n",
            " 8   rating        7780 non-null   object\n",
            " 9   duration      7787 non-null   object\n",
            " 10  genres        7787 non-null   object\n",
            " 11  description   7787 non-null   object\n",
            "dtypes: int64(1), object(11)\n",
            "memory usage: 790.9+ KB\n"
          ]
        }
      ]
    },
    {
      "cell_type": "markdown",
      "source": [
        "There are 7,787 entries and 12 columns to work with for EDA. Right off the bat, there are a few columns that contain null values ('director', 'cast', 'country', 'date_added', 'rating')."
      ],
      "metadata": {
        "id": "DqlYYJHa3Zq6"
      }
    },
    {
      "cell_type": "code",
      "source": [
        "nf.nunique()"
      ],
      "metadata": {
        "id": "-7eWAYnrsEUt",
        "outputId": "9cdcbe2f-12c4-4824-b505-71bb8b4f4c34",
        "colab": {
          "base_uri": "https://localhost:8080/"
        }
      },
      "execution_count": null,
      "outputs": [
        {
          "output_type": "execute_result",
          "data": {
            "text/plain": [
              "show_id         7787\n",
              "type               2\n",
              "title           7787\n",
              "director        4049\n",
              "cast            6831\n",
              "country          681\n",
              "date_added      1565\n",
              "release_year      73\n",
              "rating            14\n",
              "duration         216\n",
              "genres           492\n",
              "description     7769\n",
              "dtype: int64"
            ]
          },
          "metadata": {},
          "execution_count": 10
        }
      ]
    },
    {
      "cell_type": "markdown",
      "source": [
        "**Observation**: All the show IDs and Titles are unique whereas others might have been repeated once or more times!"
      ],
      "metadata": {
        "id": "cZvgyB47sLsm"
      }
    },
    {
      "cell_type": "markdown",
      "source": [
        "<B>Analyzing basic statistics about each feature, such as count, min, max, and mean."
      ],
      "metadata": {
        "id": "D9pE0tosuBcX"
      }
    },
    {
      "cell_type": "code",
      "source": [
        "nf.describe()"
      ],
      "metadata": {
        "colab": {
          "base_uri": "https://localhost:8080/",
          "height": 300
        },
        "id": "sLdI28983O-7",
        "outputId": "988aec6f-e847-4a30-d49e-6e89003c9c2b"
      },
      "execution_count": null,
      "outputs": [
        {
          "output_type": "execute_result",
          "data": {
            "text/plain": [
              "       release_year\n",
              "count   7787.000000\n",
              "mean    2013.932580\n",
              "std        8.757395\n",
              "min     1925.000000\n",
              "25%     2013.000000\n",
              "50%     2017.000000\n",
              "75%     2018.000000\n",
              "max     2021.000000"
            ],
            "text/html": [
              "\n",
              "  <div id=\"df-092ffe70-8042-4ffb-a668-269c28dd21a7\">\n",
              "    <div class=\"colab-df-container\">\n",
              "      <div>\n",
              "<style scoped>\n",
              "    .dataframe tbody tr th:only-of-type {\n",
              "        vertical-align: middle;\n",
              "    }\n",
              "\n",
              "    .dataframe tbody tr th {\n",
              "        vertical-align: top;\n",
              "    }\n",
              "\n",
              "    .dataframe thead th {\n",
              "        text-align: right;\n",
              "    }\n",
              "</style>\n",
              "<table border=\"1\" class=\"dataframe\">\n",
              "  <thead>\n",
              "    <tr style=\"text-align: right;\">\n",
              "      <th></th>\n",
              "      <th>release_year</th>\n",
              "    </tr>\n",
              "  </thead>\n",
              "  <tbody>\n",
              "    <tr>\n",
              "      <th>count</th>\n",
              "      <td>7787.000000</td>\n",
              "    </tr>\n",
              "    <tr>\n",
              "      <th>mean</th>\n",
              "      <td>2013.932580</td>\n",
              "    </tr>\n",
              "    <tr>\n",
              "      <th>std</th>\n",
              "      <td>8.757395</td>\n",
              "    </tr>\n",
              "    <tr>\n",
              "      <th>min</th>\n",
              "      <td>1925.000000</td>\n",
              "    </tr>\n",
              "    <tr>\n",
              "      <th>25%</th>\n",
              "      <td>2013.000000</td>\n",
              "    </tr>\n",
              "    <tr>\n",
              "      <th>50%</th>\n",
              "      <td>2017.000000</td>\n",
              "    </tr>\n",
              "    <tr>\n",
              "      <th>75%</th>\n",
              "      <td>2018.000000</td>\n",
              "    </tr>\n",
              "    <tr>\n",
              "      <th>max</th>\n",
              "      <td>2021.000000</td>\n",
              "    </tr>\n",
              "  </tbody>\n",
              "</table>\n",
              "</div>\n",
              "      <button class=\"colab-df-convert\" onclick=\"convertToInteractive('df-092ffe70-8042-4ffb-a668-269c28dd21a7')\"\n",
              "              title=\"Convert this dataframe to an interactive table.\"\n",
              "              style=\"display:none;\">\n",
              "        \n",
              "  <svg xmlns=\"http://www.w3.org/2000/svg\" height=\"24px\"viewBox=\"0 0 24 24\"\n",
              "       width=\"24px\">\n",
              "    <path d=\"M0 0h24v24H0V0z\" fill=\"none\"/>\n",
              "    <path d=\"M18.56 5.44l.94 2.06.94-2.06 2.06-.94-2.06-.94-.94-2.06-.94 2.06-2.06.94zm-11 1L8.5 8.5l.94-2.06 2.06-.94-2.06-.94L8.5 2.5l-.94 2.06-2.06.94zm10 10l.94 2.06.94-2.06 2.06-.94-2.06-.94-.94-2.06-.94 2.06-2.06.94z\"/><path d=\"M17.41 7.96l-1.37-1.37c-.4-.4-.92-.59-1.43-.59-.52 0-1.04.2-1.43.59L10.3 9.45l-7.72 7.72c-.78.78-.78 2.05 0 2.83L4 21.41c.39.39.9.59 1.41.59.51 0 1.02-.2 1.41-.59l7.78-7.78 2.81-2.81c.8-.78.8-2.07 0-2.86zM5.41 20L4 18.59l7.72-7.72 1.47 1.35L5.41 20z\"/>\n",
              "  </svg>\n",
              "      </button>\n",
              "      \n",
              "  <style>\n",
              "    .colab-df-container {\n",
              "      display:flex;\n",
              "      flex-wrap:wrap;\n",
              "      gap: 12px;\n",
              "    }\n",
              "\n",
              "    .colab-df-convert {\n",
              "      background-color: #E8F0FE;\n",
              "      border: none;\n",
              "      border-radius: 50%;\n",
              "      cursor: pointer;\n",
              "      display: none;\n",
              "      fill: #1967D2;\n",
              "      height: 32px;\n",
              "      padding: 0 0 0 0;\n",
              "      width: 32px;\n",
              "    }\n",
              "\n",
              "    .colab-df-convert:hover {\n",
              "      background-color: #E2EBFA;\n",
              "      box-shadow: 0px 1px 2px rgba(60, 64, 67, 0.3), 0px 1px 3px 1px rgba(60, 64, 67, 0.15);\n",
              "      fill: #174EA6;\n",
              "    }\n",
              "\n",
              "    [theme=dark] .colab-df-convert {\n",
              "      background-color: #3B4455;\n",
              "      fill: #D2E3FC;\n",
              "    }\n",
              "\n",
              "    [theme=dark] .colab-df-convert:hover {\n",
              "      background-color: #434B5C;\n",
              "      box-shadow: 0px 1px 3px 1px rgba(0, 0, 0, 0.15);\n",
              "      filter: drop-shadow(0px 1px 2px rgba(0, 0, 0, 0.3));\n",
              "      fill: #FFFFFF;\n",
              "    }\n",
              "  </style>\n",
              "\n",
              "      <script>\n",
              "        const buttonEl =\n",
              "          document.querySelector('#df-092ffe70-8042-4ffb-a668-269c28dd21a7 button.colab-df-convert');\n",
              "        buttonEl.style.display =\n",
              "          google.colab.kernel.accessAllowed ? 'block' : 'none';\n",
              "\n",
              "        async function convertToInteractive(key) {\n",
              "          const element = document.querySelector('#df-092ffe70-8042-4ffb-a668-269c28dd21a7');\n",
              "          const dataTable =\n",
              "            await google.colab.kernel.invokeFunction('convertToInteractive',\n",
              "                                                     [key], {});\n",
              "          if (!dataTable) return;\n",
              "\n",
              "          const docLinkHtml = 'Like what you see? Visit the ' +\n",
              "            '<a target=\"_blank\" href=https://colab.research.google.com/notebooks/data_table.ipynb>data table notebook</a>'\n",
              "            + ' to learn more about interactive tables.';\n",
              "          element.innerHTML = '';\n",
              "          dataTable['output_type'] = 'display_data';\n",
              "          await google.colab.output.renderOutput(dataTable, element);\n",
              "          const docLink = document.createElement('div');\n",
              "          docLink.innerHTML = docLinkHtml;\n",
              "          element.appendChild(docLink);\n",
              "        }\n",
              "      </script>\n",
              "    </div>\n",
              "  </div>\n",
              "  "
            ]
          },
          "metadata": {},
          "execution_count": 11
        }
      ]
    },
    {
      "cell_type": "markdown",
      "source": [
        "**Observation**\n",
        "\n",
        "\n",
        "*   Netflix has 25% of movies and TV shows that were released in 2013\n",
        "\n",
        "*   About 75% of Netflix's content consists of movies and TV shows released after 2013\n",
        "\n",
        "\n",
        "*   Data from Netflix shows that new trend movies or TV shows are more prevalent.\n",
        "\n",
        "*   For more subscribers, Netflix should invest in classic Movies and TV shows."
      ],
      "metadata": {
        "id": "_OuiXoKeuHFE"
      }
    },
    {
      "cell_type": "markdown",
      "source": [
        "##**Handling Null Values**"
      ],
      "metadata": {
        "id": "JxBZNHA2sTZu"
      }
    },
    {
      "cell_type": "markdown",
      "source": [
        "We can see that for each of the columns, there are alot different unique values for some of them. It makes sense that show_id is large since it is a unique key used to identify a movie/show. Title, director, cast, country, date_added, listed_in, and description contain many unique values as well."
      ],
      "metadata": {
        "id": "KvF_8Ah7scWA"
      }
    },
    {
      "cell_type": "code",
      "source": [
        "nf.isnull().values.any()"
      ],
      "metadata": {
        "id": "SpZr88Kzsgug",
        "outputId": "cadb4b61-5813-4c0a-d64f-b46393dd29db",
        "colab": {
          "base_uri": "https://localhost:8080/"
        }
      },
      "execution_count": null,
      "outputs": [
        {
          "output_type": "execute_result",
          "data": {
            "text/plain": [
              "True"
            ]
          },
          "metadata": {},
          "execution_count": 12
        }
      ]
    },
    {
      "cell_type": "code",
      "source": [
        "nf.isnull().sum().sum()"
      ],
      "metadata": {
        "id": "wo6TOb0HsqOT",
        "outputId": "1c2a1d6b-d5a8-4dd7-c74c-4f673f3672af",
        "colab": {
          "base_uri": "https://localhost:8080/"
        }
      },
      "execution_count": null,
      "outputs": [
        {
          "output_type": "execute_result",
          "data": {
            "text/plain": [
              "3631"
            ]
          },
          "metadata": {},
          "execution_count": 13
        }
      ]
    },
    {
      "cell_type": "code",
      "source": [
        "nf.isnull().sum()"
      ],
      "metadata": {
        "id": "nHgjruGCtU_4",
        "outputId": "9f354813-ea7d-45ac-91d3-52adf31d4d99",
        "colab": {
          "base_uri": "https://localhost:8080/"
        }
      },
      "execution_count": null,
      "outputs": [
        {
          "output_type": "execute_result",
          "data": {
            "text/plain": [
              "show_id            0\n",
              "type               0\n",
              "title              0\n",
              "director        2389\n",
              "cast             718\n",
              "country          507\n",
              "date_added        10\n",
              "release_year       0\n",
              "rating             7\n",
              "duration           0\n",
              "genres             0\n",
              "description        0\n",
              "dtype: int64"
            ]
          },
          "metadata": {},
          "execution_count": 14
        }
      ]
    },
    {
      "cell_type": "markdown",
      "source": [
        "Above in the heatmap and table, we can see that there are quite a few null values in the dataset. There are a total of 3,631 null values across the entire dataset with 2,389 missing points under 'director', 718 under 'cast', 507 under 'country', 10 under 'date_added', and 7 under 'rating'. We will have to handle all null data points before we can dive into EDA and modeling."
      ],
      "metadata": {
        "id": "N9uc8A3btatN"
      }
    },
    {
      "cell_type": "code",
      "source": [
        "for i in nf.columns:\n",
        "  null_rate = nf[i].isnull().sum()/len(nf)*100\n",
        "  if null_rate > 0 :\n",
        "        print( \"{}'s null rate: {}%\".format(i, round(null_rate, 2)))"
      ],
      "metadata": {
        "colab": {
          "base_uri": "https://localhost:8080/"
        },
        "id": "9HGIrMC7cxeb",
        "outputId": "a83f20fa-3e07-47d1-99d1-a08616cb8ec8"
      },
      "execution_count": null,
      "outputs": [
        {
          "output_type": "stream",
          "name": "stdout",
          "text": [
            "director's null rate: 30.68%\n",
            "cast's null rate: 9.22%\n",
            "country's null rate: 6.51%\n",
            "date_added's null rate: 0.13%\n",
            "rating's null rate: 0.09%\n"
          ]
        }
      ]
    },
    {
      "cell_type": "markdown",
      "source": [
        "Observation: As per our earlier analysis, we can see that the 'director' column has the highest whereas 'rating' column has the lowest number of missing values!"
      ],
      "metadata": {
        "id": "v8tf0qjne-Zm"
      }
    },
    {
      "cell_type": "code",
      "source": [
        "nf['director'].fillna('No Director', inplace=True)\n",
        "nf['cast'].fillna('No Cast', inplace=True)\n",
        "nf['country'].fillna('Country Unavailable', inplace=True)\n",
        "nf.dropna(subset=['date_added','rating'],inplace=True)"
      ],
      "metadata": {
        "id": "qhNMKhEiHlus"
      },
      "execution_count": null,
      "outputs": []
    },
    {
      "cell_type": "code",
      "source": [
        "nf.isnull().any()"
      ],
      "metadata": {
        "colab": {
          "base_uri": "https://localhost:8080/"
        },
        "id": "XlWnzM1lHlw8",
        "outputId": "8d133b76-dc1b-461e-ea5c-dee8c2b1022e"
      },
      "execution_count": null,
      "outputs": [
        {
          "output_type": "execute_result",
          "data": {
            "text/plain": [
              "show_id         False\n",
              "type            False\n",
              "title           False\n",
              "director        False\n",
              "cast            False\n",
              "country         False\n",
              "date_added      False\n",
              "release_year    False\n",
              "rating          False\n",
              "duration        False\n",
              "genres          False\n",
              "description     False\n",
              "dtype: bool"
            ]
          },
          "metadata": {},
          "execution_count": 17
        }
      ]
    },
    {
      "cell_type": "markdown",
      "source": [
        "For null values, the easiest way to get rid of them would be to delete the rows with the missing data. However, this wouldn't be beneficial to our EDA since there is loss of information. \n",
        "\n",
        "Since 'director', 'cast', and 'country' contain the majority of null values, we will choose to treat each missing value as unavailable. The other two labels 'date_added' and 'rating' contains an insignificant portion of the data so we will drop them from the dataset. After, we can see that there are no more null values in the dataset."
      ],
      "metadata": {
        "id": "b-w4zH9vI5eH"
      }
    },
    {
      "cell_type": "markdown",
      "source": [
        "###<B>Splitting the Dataset"
      ],
      "metadata": {
        "id": "BwHwyOsiNVz-"
      }
    },
    {
      "cell_type": "markdown",
      "source": [
        "Since the dataset can either contain movies or shows, it'd be nice to have datasets for both so we can take a deep dive into just Netflix movies or Netflix TV shows so we will create two new datasets. One for movies and the other one for shows."
      ],
      "metadata": {
        "id": "OWIOlwwdNV0A"
      }
    },
    {
      "cell_type": "code",
      "source": [
        "nf_movies = nf[nf['type']=='Movie'].copy()\n",
        "nf_movies.head()"
      ],
      "metadata": {
        "colab": {
          "base_uri": "https://localhost:8080/",
          "height": 337
        },
        "outputId": "e659ca6e-43b4-492b-d076-3b8b5ebe0e0f",
        "id": "k3PWPGHONV0B"
      },
      "execution_count": null,
      "outputs": [
        {
          "output_type": "execute_result",
          "data": {
            "text/plain": [
              "  show_id   type  title           director  \\\n",
              "1      s2  Movie   7:19  Jorge Michel Grau   \n",
              "2      s3  Movie  23:59       Gilbert Chan   \n",
              "3      s4  Movie      9        Shane Acker   \n",
              "4      s5  Movie     21     Robert Luketic   \n",
              "6      s7  Movie    122    Yasir Al Yasiri   \n",
              "\n",
              "                                                cast        country  \\\n",
              "1  Demián Bichir, Héctor Bonilla, Oscar Serrano, ...         Mexico   \n",
              "2  Tedd Chan, Stella Chung, Henley Hii, Lawrence ...      Singapore   \n",
              "3  Elijah Wood, John C. Reilly, Jennifer Connelly...  United States   \n",
              "4  Jim Sturgess, Kevin Spacey, Kate Bosworth, Aar...  United States   \n",
              "6  Amina Khalil, Ahmed Dawood, Tarek Lotfy, Ahmed...          Egypt   \n",
              "\n",
              "          date_added  release_year rating duration  \\\n",
              "1  December 23, 2016          2016  TV-MA   93 min   \n",
              "2  December 20, 2018          2011      R   78 min   \n",
              "3  November 16, 2017          2009  PG-13   80 min   \n",
              "4    January 1, 2020          2008  PG-13  123 min   \n",
              "6       June 1, 2020          2019  TV-MA   95 min   \n",
              "\n",
              "                                              genres  \\\n",
              "1                       Dramas, International Movies   \n",
              "2                Horror Movies, International Movies   \n",
              "3  Action & Adventure, Independent Movies, Sci-Fi...   \n",
              "4                                             Dramas   \n",
              "6                Horror Movies, International Movies   \n",
              "\n",
              "                                         description  \n",
              "1  After a devastating earthquake hits Mexico Cit...  \n",
              "2  When an army recruit is found dead, his fellow...  \n",
              "3  In a postapocalyptic world, rag-doll robots hi...  \n",
              "4  A brilliant group of students become card-coun...  \n",
              "6  After an awful accident, a couple admitted to ...  "
            ],
            "text/html": [
              "\n",
              "  <div id=\"df-6f3ae280-e7c9-46e1-bbb7-8a2eb25a4076\">\n",
              "    <div class=\"colab-df-container\">\n",
              "      <div>\n",
              "<style scoped>\n",
              "    .dataframe tbody tr th:only-of-type {\n",
              "        vertical-align: middle;\n",
              "    }\n",
              "\n",
              "    .dataframe tbody tr th {\n",
              "        vertical-align: top;\n",
              "    }\n",
              "\n",
              "    .dataframe thead th {\n",
              "        text-align: right;\n",
              "    }\n",
              "</style>\n",
              "<table border=\"1\" class=\"dataframe\">\n",
              "  <thead>\n",
              "    <tr style=\"text-align: right;\">\n",
              "      <th></th>\n",
              "      <th>show_id</th>\n",
              "      <th>type</th>\n",
              "      <th>title</th>\n",
              "      <th>director</th>\n",
              "      <th>cast</th>\n",
              "      <th>country</th>\n",
              "      <th>date_added</th>\n",
              "      <th>release_year</th>\n",
              "      <th>rating</th>\n",
              "      <th>duration</th>\n",
              "      <th>genres</th>\n",
              "      <th>description</th>\n",
              "    </tr>\n",
              "  </thead>\n",
              "  <tbody>\n",
              "    <tr>\n",
              "      <th>1</th>\n",
              "      <td>s2</td>\n",
              "      <td>Movie</td>\n",
              "      <td>7:19</td>\n",
              "      <td>Jorge Michel Grau</td>\n",
              "      <td>Demián Bichir, Héctor Bonilla, Oscar Serrano, ...</td>\n",
              "      <td>Mexico</td>\n",
              "      <td>December 23, 2016</td>\n",
              "      <td>2016</td>\n",
              "      <td>TV-MA</td>\n",
              "      <td>93 min</td>\n",
              "      <td>Dramas, International Movies</td>\n",
              "      <td>After a devastating earthquake hits Mexico Cit...</td>\n",
              "    </tr>\n",
              "    <tr>\n",
              "      <th>2</th>\n",
              "      <td>s3</td>\n",
              "      <td>Movie</td>\n",
              "      <td>23:59</td>\n",
              "      <td>Gilbert Chan</td>\n",
              "      <td>Tedd Chan, Stella Chung, Henley Hii, Lawrence ...</td>\n",
              "      <td>Singapore</td>\n",
              "      <td>December 20, 2018</td>\n",
              "      <td>2011</td>\n",
              "      <td>R</td>\n",
              "      <td>78 min</td>\n",
              "      <td>Horror Movies, International Movies</td>\n",
              "      <td>When an army recruit is found dead, his fellow...</td>\n",
              "    </tr>\n",
              "    <tr>\n",
              "      <th>3</th>\n",
              "      <td>s4</td>\n",
              "      <td>Movie</td>\n",
              "      <td>9</td>\n",
              "      <td>Shane Acker</td>\n",
              "      <td>Elijah Wood, John C. Reilly, Jennifer Connelly...</td>\n",
              "      <td>United States</td>\n",
              "      <td>November 16, 2017</td>\n",
              "      <td>2009</td>\n",
              "      <td>PG-13</td>\n",
              "      <td>80 min</td>\n",
              "      <td>Action &amp; Adventure, Independent Movies, Sci-Fi...</td>\n",
              "      <td>In a postapocalyptic world, rag-doll robots hi...</td>\n",
              "    </tr>\n",
              "    <tr>\n",
              "      <th>4</th>\n",
              "      <td>s5</td>\n",
              "      <td>Movie</td>\n",
              "      <td>21</td>\n",
              "      <td>Robert Luketic</td>\n",
              "      <td>Jim Sturgess, Kevin Spacey, Kate Bosworth, Aar...</td>\n",
              "      <td>United States</td>\n",
              "      <td>January 1, 2020</td>\n",
              "      <td>2008</td>\n",
              "      <td>PG-13</td>\n",
              "      <td>123 min</td>\n",
              "      <td>Dramas</td>\n",
              "      <td>A brilliant group of students become card-coun...</td>\n",
              "    </tr>\n",
              "    <tr>\n",
              "      <th>6</th>\n",
              "      <td>s7</td>\n",
              "      <td>Movie</td>\n",
              "      <td>122</td>\n",
              "      <td>Yasir Al Yasiri</td>\n",
              "      <td>Amina Khalil, Ahmed Dawood, Tarek Lotfy, Ahmed...</td>\n",
              "      <td>Egypt</td>\n",
              "      <td>June 1, 2020</td>\n",
              "      <td>2019</td>\n",
              "      <td>TV-MA</td>\n",
              "      <td>95 min</td>\n",
              "      <td>Horror Movies, International Movies</td>\n",
              "      <td>After an awful accident, a couple admitted to ...</td>\n",
              "    </tr>\n",
              "  </tbody>\n",
              "</table>\n",
              "</div>\n",
              "      <button class=\"colab-df-convert\" onclick=\"convertToInteractive('df-6f3ae280-e7c9-46e1-bbb7-8a2eb25a4076')\"\n",
              "              title=\"Convert this dataframe to an interactive table.\"\n",
              "              style=\"display:none;\">\n",
              "        \n",
              "  <svg xmlns=\"http://www.w3.org/2000/svg\" height=\"24px\"viewBox=\"0 0 24 24\"\n",
              "       width=\"24px\">\n",
              "    <path d=\"M0 0h24v24H0V0z\" fill=\"none\"/>\n",
              "    <path d=\"M18.56 5.44l.94 2.06.94-2.06 2.06-.94-2.06-.94-.94-2.06-.94 2.06-2.06.94zm-11 1L8.5 8.5l.94-2.06 2.06-.94-2.06-.94L8.5 2.5l-.94 2.06-2.06.94zm10 10l.94 2.06.94-2.06 2.06-.94-2.06-.94-.94-2.06-.94 2.06-2.06.94z\"/><path d=\"M17.41 7.96l-1.37-1.37c-.4-.4-.92-.59-1.43-.59-.52 0-1.04.2-1.43.59L10.3 9.45l-7.72 7.72c-.78.78-.78 2.05 0 2.83L4 21.41c.39.39.9.59 1.41.59.51 0 1.02-.2 1.41-.59l7.78-7.78 2.81-2.81c.8-.78.8-2.07 0-2.86zM5.41 20L4 18.59l7.72-7.72 1.47 1.35L5.41 20z\"/>\n",
              "  </svg>\n",
              "      </button>\n",
              "      \n",
              "  <style>\n",
              "    .colab-df-container {\n",
              "      display:flex;\n",
              "      flex-wrap:wrap;\n",
              "      gap: 12px;\n",
              "    }\n",
              "\n",
              "    .colab-df-convert {\n",
              "      background-color: #E8F0FE;\n",
              "      border: none;\n",
              "      border-radius: 50%;\n",
              "      cursor: pointer;\n",
              "      display: none;\n",
              "      fill: #1967D2;\n",
              "      height: 32px;\n",
              "      padding: 0 0 0 0;\n",
              "      width: 32px;\n",
              "    }\n",
              "\n",
              "    .colab-df-convert:hover {\n",
              "      background-color: #E2EBFA;\n",
              "      box-shadow: 0px 1px 2px rgba(60, 64, 67, 0.3), 0px 1px 3px 1px rgba(60, 64, 67, 0.15);\n",
              "      fill: #174EA6;\n",
              "    }\n",
              "\n",
              "    [theme=dark] .colab-df-convert {\n",
              "      background-color: #3B4455;\n",
              "      fill: #D2E3FC;\n",
              "    }\n",
              "\n",
              "    [theme=dark] .colab-df-convert:hover {\n",
              "      background-color: #434B5C;\n",
              "      box-shadow: 0px 1px 3px 1px rgba(0, 0, 0, 0.15);\n",
              "      filter: drop-shadow(0px 1px 2px rgba(0, 0, 0, 0.3));\n",
              "      fill: #FFFFFF;\n",
              "    }\n",
              "  </style>\n",
              "\n",
              "      <script>\n",
              "        const buttonEl =\n",
              "          document.querySelector('#df-6f3ae280-e7c9-46e1-bbb7-8a2eb25a4076 button.colab-df-convert');\n",
              "        buttonEl.style.display =\n",
              "          google.colab.kernel.accessAllowed ? 'block' : 'none';\n",
              "\n",
              "        async function convertToInteractive(key) {\n",
              "          const element = document.querySelector('#df-6f3ae280-e7c9-46e1-bbb7-8a2eb25a4076');\n",
              "          const dataTable =\n",
              "            await google.colab.kernel.invokeFunction('convertToInteractive',\n",
              "                                                     [key], {});\n",
              "          if (!dataTable) return;\n",
              "\n",
              "          const docLinkHtml = 'Like what you see? Visit the ' +\n",
              "            '<a target=\"_blank\" href=https://colab.research.google.com/notebooks/data_table.ipynb>data table notebook</a>'\n",
              "            + ' to learn more about interactive tables.';\n",
              "          element.innerHTML = '';\n",
              "          dataTable['output_type'] = 'display_data';\n",
              "          await google.colab.output.renderOutput(dataTable, element);\n",
              "          const docLink = document.createElement('div');\n",
              "          docLink.innerHTML = docLinkHtml;\n",
              "          element.appendChild(docLink);\n",
              "        }\n",
              "      </script>\n",
              "    </div>\n",
              "  </div>\n",
              "  "
            ]
          },
          "metadata": {},
          "execution_count": 18
        }
      ]
    },
    {
      "cell_type": "code",
      "source": [
        "nf_shows = nf[nf['type']=='TV Show'].copy()\n",
        "nf_shows.head()"
      ],
      "metadata": {
        "colab": {
          "base_uri": "https://localhost:8080/",
          "height": 337
        },
        "outputId": "34e47a90-5533-442d-a145-3b33f5ff9b99",
        "id": "_8oZByFcNV0D"
      },
      "execution_count": null,
      "outputs": [
        {
          "output_type": "execute_result",
          "data": {
            "text/plain": [
              "   show_id     type   title              director  \\\n",
              "0       s1  TV Show      3%           No Director   \n",
              "5       s6  TV Show      46           Serdar Akar   \n",
              "11     s12  TV Show    1983           No Director   \n",
              "12     s13  TV Show    1994  Diego Enrique Osorno   \n",
              "16     s17  TV Show  Feb-09           No Director   \n",
              "\n",
              "                                                 cast                country  \\\n",
              "0   João Miguel, Bianca Comparato, Michel Gomes, R...                 Brazil   \n",
              "5   Erdal Beşikçioğlu, Yasemin Allen, Melis Birkan...                 Turkey   \n",
              "11  Robert Więckiewicz, Maciej Musiał, Michalina O...  Poland, United States   \n",
              "12                                            No Cast                 Mexico   \n",
              "16  Shahd El Yaseen, Shaila Sabt, Hala, Hanadi Al-...    Country Unavailable   \n",
              "\n",
              "           date_added  release_year rating   duration  \\\n",
              "0     August 14, 2020          2020  TV-MA  4 Seasons   \n",
              "5        July 1, 2017          2016  TV-MA   1 Season   \n",
              "11  November 30, 2018          2018  TV-MA   1 Season   \n",
              "12       May 17, 2019          2019  TV-MA   1 Season   \n",
              "16     March 20, 2019          2018  TV-14   1 Season   \n",
              "\n",
              "                                               genres  \\\n",
              "0   International TV Shows, TV Dramas, TV Sci-Fi &...   \n",
              "5     International TV Shows, TV Dramas, TV Mysteries   \n",
              "11  Crime TV Shows, International TV Shows, TV Dramas   \n",
              "12  Crime TV Shows, Docuseries, International TV S...   \n",
              "16                  International TV Shows, TV Dramas   \n",
              "\n",
              "                                          description  \n",
              "0   In a future where the elite inhabit an island ...  \n",
              "5   A genetics professor experiments with a treatm...  \n",
              "11  In this dark alt-history thriller, a naïve law...  \n",
              "12  Archival video and new interviews examine Mexi...  \n",
              "16  As a psychology professor faces Alzheimer's, h...  "
            ],
            "text/html": [
              "\n",
              "  <div id=\"df-f629bcd9-10fc-45bf-b0a8-a7891f5784b8\">\n",
              "    <div class=\"colab-df-container\">\n",
              "      <div>\n",
              "<style scoped>\n",
              "    .dataframe tbody tr th:only-of-type {\n",
              "        vertical-align: middle;\n",
              "    }\n",
              "\n",
              "    .dataframe tbody tr th {\n",
              "        vertical-align: top;\n",
              "    }\n",
              "\n",
              "    .dataframe thead th {\n",
              "        text-align: right;\n",
              "    }\n",
              "</style>\n",
              "<table border=\"1\" class=\"dataframe\">\n",
              "  <thead>\n",
              "    <tr style=\"text-align: right;\">\n",
              "      <th></th>\n",
              "      <th>show_id</th>\n",
              "      <th>type</th>\n",
              "      <th>title</th>\n",
              "      <th>director</th>\n",
              "      <th>cast</th>\n",
              "      <th>country</th>\n",
              "      <th>date_added</th>\n",
              "      <th>release_year</th>\n",
              "      <th>rating</th>\n",
              "      <th>duration</th>\n",
              "      <th>genres</th>\n",
              "      <th>description</th>\n",
              "    </tr>\n",
              "  </thead>\n",
              "  <tbody>\n",
              "    <tr>\n",
              "      <th>0</th>\n",
              "      <td>s1</td>\n",
              "      <td>TV Show</td>\n",
              "      <td>3%</td>\n",
              "      <td>No Director</td>\n",
              "      <td>João Miguel, Bianca Comparato, Michel Gomes, R...</td>\n",
              "      <td>Brazil</td>\n",
              "      <td>August 14, 2020</td>\n",
              "      <td>2020</td>\n",
              "      <td>TV-MA</td>\n",
              "      <td>4 Seasons</td>\n",
              "      <td>International TV Shows, TV Dramas, TV Sci-Fi &amp;...</td>\n",
              "      <td>In a future where the elite inhabit an island ...</td>\n",
              "    </tr>\n",
              "    <tr>\n",
              "      <th>5</th>\n",
              "      <td>s6</td>\n",
              "      <td>TV Show</td>\n",
              "      <td>46</td>\n",
              "      <td>Serdar Akar</td>\n",
              "      <td>Erdal Beşikçioğlu, Yasemin Allen, Melis Birkan...</td>\n",
              "      <td>Turkey</td>\n",
              "      <td>July 1, 2017</td>\n",
              "      <td>2016</td>\n",
              "      <td>TV-MA</td>\n",
              "      <td>1 Season</td>\n",
              "      <td>International TV Shows, TV Dramas, TV Mysteries</td>\n",
              "      <td>A genetics professor experiments with a treatm...</td>\n",
              "    </tr>\n",
              "    <tr>\n",
              "      <th>11</th>\n",
              "      <td>s12</td>\n",
              "      <td>TV Show</td>\n",
              "      <td>1983</td>\n",
              "      <td>No Director</td>\n",
              "      <td>Robert Więckiewicz, Maciej Musiał, Michalina O...</td>\n",
              "      <td>Poland, United States</td>\n",
              "      <td>November 30, 2018</td>\n",
              "      <td>2018</td>\n",
              "      <td>TV-MA</td>\n",
              "      <td>1 Season</td>\n",
              "      <td>Crime TV Shows, International TV Shows, TV Dramas</td>\n",
              "      <td>In this dark alt-history thriller, a naïve law...</td>\n",
              "    </tr>\n",
              "    <tr>\n",
              "      <th>12</th>\n",
              "      <td>s13</td>\n",
              "      <td>TV Show</td>\n",
              "      <td>1994</td>\n",
              "      <td>Diego Enrique Osorno</td>\n",
              "      <td>No Cast</td>\n",
              "      <td>Mexico</td>\n",
              "      <td>May 17, 2019</td>\n",
              "      <td>2019</td>\n",
              "      <td>TV-MA</td>\n",
              "      <td>1 Season</td>\n",
              "      <td>Crime TV Shows, Docuseries, International TV S...</td>\n",
              "      <td>Archival video and new interviews examine Mexi...</td>\n",
              "    </tr>\n",
              "    <tr>\n",
              "      <th>16</th>\n",
              "      <td>s17</td>\n",
              "      <td>TV Show</td>\n",
              "      <td>Feb-09</td>\n",
              "      <td>No Director</td>\n",
              "      <td>Shahd El Yaseen, Shaila Sabt, Hala, Hanadi Al-...</td>\n",
              "      <td>Country Unavailable</td>\n",
              "      <td>March 20, 2019</td>\n",
              "      <td>2018</td>\n",
              "      <td>TV-14</td>\n",
              "      <td>1 Season</td>\n",
              "      <td>International TV Shows, TV Dramas</td>\n",
              "      <td>As a psychology professor faces Alzheimer's, h...</td>\n",
              "    </tr>\n",
              "  </tbody>\n",
              "</table>\n",
              "</div>\n",
              "      <button class=\"colab-df-convert\" onclick=\"convertToInteractive('df-f629bcd9-10fc-45bf-b0a8-a7891f5784b8')\"\n",
              "              title=\"Convert this dataframe to an interactive table.\"\n",
              "              style=\"display:none;\">\n",
              "        \n",
              "  <svg xmlns=\"http://www.w3.org/2000/svg\" height=\"24px\"viewBox=\"0 0 24 24\"\n",
              "       width=\"24px\">\n",
              "    <path d=\"M0 0h24v24H0V0z\" fill=\"none\"/>\n",
              "    <path d=\"M18.56 5.44l.94 2.06.94-2.06 2.06-.94-2.06-.94-.94-2.06-.94 2.06-2.06.94zm-11 1L8.5 8.5l.94-2.06 2.06-.94-2.06-.94L8.5 2.5l-.94 2.06-2.06.94zm10 10l.94 2.06.94-2.06 2.06-.94-2.06-.94-.94-2.06-.94 2.06-2.06.94z\"/><path d=\"M17.41 7.96l-1.37-1.37c-.4-.4-.92-.59-1.43-.59-.52 0-1.04.2-1.43.59L10.3 9.45l-7.72 7.72c-.78.78-.78 2.05 0 2.83L4 21.41c.39.39.9.59 1.41.59.51 0 1.02-.2 1.41-.59l7.78-7.78 2.81-2.81c.8-.78.8-2.07 0-2.86zM5.41 20L4 18.59l7.72-7.72 1.47 1.35L5.41 20z\"/>\n",
              "  </svg>\n",
              "      </button>\n",
              "      \n",
              "  <style>\n",
              "    .colab-df-container {\n",
              "      display:flex;\n",
              "      flex-wrap:wrap;\n",
              "      gap: 12px;\n",
              "    }\n",
              "\n",
              "    .colab-df-convert {\n",
              "      background-color: #E8F0FE;\n",
              "      border: none;\n",
              "      border-radius: 50%;\n",
              "      cursor: pointer;\n",
              "      display: none;\n",
              "      fill: #1967D2;\n",
              "      height: 32px;\n",
              "      padding: 0 0 0 0;\n",
              "      width: 32px;\n",
              "    }\n",
              "\n",
              "    .colab-df-convert:hover {\n",
              "      background-color: #E2EBFA;\n",
              "      box-shadow: 0px 1px 2px rgba(60, 64, 67, 0.3), 0px 1px 3px 1px rgba(60, 64, 67, 0.15);\n",
              "      fill: #174EA6;\n",
              "    }\n",
              "\n",
              "    [theme=dark] .colab-df-convert {\n",
              "      background-color: #3B4455;\n",
              "      fill: #D2E3FC;\n",
              "    }\n",
              "\n",
              "    [theme=dark] .colab-df-convert:hover {\n",
              "      background-color: #434B5C;\n",
              "      box-shadow: 0px 1px 3px 1px rgba(0, 0, 0, 0.15);\n",
              "      filter: drop-shadow(0px 1px 2px rgba(0, 0, 0, 0.3));\n",
              "      fill: #FFFFFF;\n",
              "    }\n",
              "  </style>\n",
              "\n",
              "      <script>\n",
              "        const buttonEl =\n",
              "          document.querySelector('#df-f629bcd9-10fc-45bf-b0a8-a7891f5784b8 button.colab-df-convert');\n",
              "        buttonEl.style.display =\n",
              "          google.colab.kernel.accessAllowed ? 'block' : 'none';\n",
              "\n",
              "        async function convertToInteractive(key) {\n",
              "          const element = document.querySelector('#df-f629bcd9-10fc-45bf-b0a8-a7891f5784b8');\n",
              "          const dataTable =\n",
              "            await google.colab.kernel.invokeFunction('convertToInteractive',\n",
              "                                                     [key], {});\n",
              "          if (!dataTable) return;\n",
              "\n",
              "          const docLinkHtml = 'Like what you see? Visit the ' +\n",
              "            '<a target=\"_blank\" href=https://colab.research.google.com/notebooks/data_table.ipynb>data table notebook</a>'\n",
              "            + ' to learn more about interactive tables.';\n",
              "          element.innerHTML = '';\n",
              "          dataTable['output_type'] = 'display_data';\n",
              "          await google.colab.output.renderOutput(dataTable, element);\n",
              "          const docLink = document.createElement('div');\n",
              "          docLink.innerHTML = docLinkHtml;\n",
              "          element.appendChild(docLink);\n",
              "        }\n",
              "      </script>\n",
              "    </div>\n",
              "  </div>\n",
              "  "
            ]
          },
          "metadata": {},
          "execution_count": 19
        }
      ]
    },
    {
      "cell_type": "markdown",
      "source": [
        "Date Added: First, the date is in the following format: 25 September, 2021. This is a text (string) which is not actionable. We need to take the text and turn it into a date format. The second thing we want to do is to seperate the year and place it in a different column which we will call \"added_year\". This will help me in next steps\n",
        "\n",
        "Rating: It appears like there is nothing wrong with 'rating'. But, to the outside reader - ratings like 'TV-MA' or 'PG-13' means nothing. We just know that the rating means \"for specific audiance\". So, we want to conduct a research to understand all the ratings, and then change the text into a more readable, appropriate text\n",
        "\n",
        "Listed In: simply put, 'genre'. However, we do notice something odd. Values like \"International TV Show\" or \"International Movie\" are not genres. These are types of content. So, let's split all the \"International\" to a different column, and remove them from \"listed_in"
      ],
      "metadata": {
        "id": "Z_hY1ODGBtjv"
      }
    },
    {
      "cell_type": "code",
      "source": [
        "#adding columns of month and year of addition\n",
        "nf['year_added'] = pd.DatetimeIndex(nf['date_added']).year\n",
        "nf['month_added'] = pd.DatetimeIndex(nf['date_added']).month_name()\n",
        "nf.head()"
      ],
      "metadata": {
        "id": "3HVzDeXns0AV",
        "outputId": "6dfdb3d6-888c-49b4-d07d-8e69ad02d3a6",
        "colab": {
          "base_uri": "https://localhost:8080/",
          "height": 406
        }
      },
      "execution_count": null,
      "outputs": [
        {
          "output_type": "execute_result",
          "data": {
            "text/plain": [
              "  show_id     type  title           director  \\\n",
              "0      s1  TV Show     3%        No Director   \n",
              "1      s2    Movie   7:19  Jorge Michel Grau   \n",
              "2      s3    Movie  23:59       Gilbert Chan   \n",
              "3      s4    Movie      9        Shane Acker   \n",
              "4      s5    Movie     21     Robert Luketic   \n",
              "\n",
              "                                                cast        country  \\\n",
              "0  João Miguel, Bianca Comparato, Michel Gomes, R...         Brazil   \n",
              "1  Demián Bichir, Héctor Bonilla, Oscar Serrano, ...         Mexico   \n",
              "2  Tedd Chan, Stella Chung, Henley Hii, Lawrence ...      Singapore   \n",
              "3  Elijah Wood, John C. Reilly, Jennifer Connelly...  United States   \n",
              "4  Jim Sturgess, Kevin Spacey, Kate Bosworth, Aar...  United States   \n",
              "\n",
              "          date_added  release_year rating   duration  \\\n",
              "0    August 14, 2020          2020  TV-MA  4 Seasons   \n",
              "1  December 23, 2016          2016  TV-MA     93 min   \n",
              "2  December 20, 2018          2011      R     78 min   \n",
              "3  November 16, 2017          2009  PG-13     80 min   \n",
              "4    January 1, 2020          2008  PG-13    123 min   \n",
              "\n",
              "                                              genres  \\\n",
              "0  International TV Shows, TV Dramas, TV Sci-Fi &...   \n",
              "1                       Dramas, International Movies   \n",
              "2                Horror Movies, International Movies   \n",
              "3  Action & Adventure, Independent Movies, Sci-Fi...   \n",
              "4                                             Dramas   \n",
              "\n",
              "                                         description  year_added month_added  \n",
              "0  In a future where the elite inhabit an island ...        2020      August  \n",
              "1  After a devastating earthquake hits Mexico Cit...        2016    December  \n",
              "2  When an army recruit is found dead, his fellow...        2018    December  \n",
              "3  In a postapocalyptic world, rag-doll robots hi...        2017    November  \n",
              "4  A brilliant group of students become card-coun...        2020     January  "
            ],
            "text/html": [
              "\n",
              "  <div id=\"df-cd969724-629c-4882-b705-3e825ec78a52\">\n",
              "    <div class=\"colab-df-container\">\n",
              "      <div>\n",
              "<style scoped>\n",
              "    .dataframe tbody tr th:only-of-type {\n",
              "        vertical-align: middle;\n",
              "    }\n",
              "\n",
              "    .dataframe tbody tr th {\n",
              "        vertical-align: top;\n",
              "    }\n",
              "\n",
              "    .dataframe thead th {\n",
              "        text-align: right;\n",
              "    }\n",
              "</style>\n",
              "<table border=\"1\" class=\"dataframe\">\n",
              "  <thead>\n",
              "    <tr style=\"text-align: right;\">\n",
              "      <th></th>\n",
              "      <th>show_id</th>\n",
              "      <th>type</th>\n",
              "      <th>title</th>\n",
              "      <th>director</th>\n",
              "      <th>cast</th>\n",
              "      <th>country</th>\n",
              "      <th>date_added</th>\n",
              "      <th>release_year</th>\n",
              "      <th>rating</th>\n",
              "      <th>duration</th>\n",
              "      <th>genres</th>\n",
              "      <th>description</th>\n",
              "      <th>year_added</th>\n",
              "      <th>month_added</th>\n",
              "    </tr>\n",
              "  </thead>\n",
              "  <tbody>\n",
              "    <tr>\n",
              "      <th>0</th>\n",
              "      <td>s1</td>\n",
              "      <td>TV Show</td>\n",
              "      <td>3%</td>\n",
              "      <td>No Director</td>\n",
              "      <td>João Miguel, Bianca Comparato, Michel Gomes, R...</td>\n",
              "      <td>Brazil</td>\n",
              "      <td>August 14, 2020</td>\n",
              "      <td>2020</td>\n",
              "      <td>TV-MA</td>\n",
              "      <td>4 Seasons</td>\n",
              "      <td>International TV Shows, TV Dramas, TV Sci-Fi &amp;...</td>\n",
              "      <td>In a future where the elite inhabit an island ...</td>\n",
              "      <td>2020</td>\n",
              "      <td>August</td>\n",
              "    </tr>\n",
              "    <tr>\n",
              "      <th>1</th>\n",
              "      <td>s2</td>\n",
              "      <td>Movie</td>\n",
              "      <td>7:19</td>\n",
              "      <td>Jorge Michel Grau</td>\n",
              "      <td>Demián Bichir, Héctor Bonilla, Oscar Serrano, ...</td>\n",
              "      <td>Mexico</td>\n",
              "      <td>December 23, 2016</td>\n",
              "      <td>2016</td>\n",
              "      <td>TV-MA</td>\n",
              "      <td>93 min</td>\n",
              "      <td>Dramas, International Movies</td>\n",
              "      <td>After a devastating earthquake hits Mexico Cit...</td>\n",
              "      <td>2016</td>\n",
              "      <td>December</td>\n",
              "    </tr>\n",
              "    <tr>\n",
              "      <th>2</th>\n",
              "      <td>s3</td>\n",
              "      <td>Movie</td>\n",
              "      <td>23:59</td>\n",
              "      <td>Gilbert Chan</td>\n",
              "      <td>Tedd Chan, Stella Chung, Henley Hii, Lawrence ...</td>\n",
              "      <td>Singapore</td>\n",
              "      <td>December 20, 2018</td>\n",
              "      <td>2011</td>\n",
              "      <td>R</td>\n",
              "      <td>78 min</td>\n",
              "      <td>Horror Movies, International Movies</td>\n",
              "      <td>When an army recruit is found dead, his fellow...</td>\n",
              "      <td>2018</td>\n",
              "      <td>December</td>\n",
              "    </tr>\n",
              "    <tr>\n",
              "      <th>3</th>\n",
              "      <td>s4</td>\n",
              "      <td>Movie</td>\n",
              "      <td>9</td>\n",
              "      <td>Shane Acker</td>\n",
              "      <td>Elijah Wood, John C. Reilly, Jennifer Connelly...</td>\n",
              "      <td>United States</td>\n",
              "      <td>November 16, 2017</td>\n",
              "      <td>2009</td>\n",
              "      <td>PG-13</td>\n",
              "      <td>80 min</td>\n",
              "      <td>Action &amp; Adventure, Independent Movies, Sci-Fi...</td>\n",
              "      <td>In a postapocalyptic world, rag-doll robots hi...</td>\n",
              "      <td>2017</td>\n",
              "      <td>November</td>\n",
              "    </tr>\n",
              "    <tr>\n",
              "      <th>4</th>\n",
              "      <td>s5</td>\n",
              "      <td>Movie</td>\n",
              "      <td>21</td>\n",
              "      <td>Robert Luketic</td>\n",
              "      <td>Jim Sturgess, Kevin Spacey, Kate Bosworth, Aar...</td>\n",
              "      <td>United States</td>\n",
              "      <td>January 1, 2020</td>\n",
              "      <td>2008</td>\n",
              "      <td>PG-13</td>\n",
              "      <td>123 min</td>\n",
              "      <td>Dramas</td>\n",
              "      <td>A brilliant group of students become card-coun...</td>\n",
              "      <td>2020</td>\n",
              "      <td>January</td>\n",
              "    </tr>\n",
              "  </tbody>\n",
              "</table>\n",
              "</div>\n",
              "      <button class=\"colab-df-convert\" onclick=\"convertToInteractive('df-cd969724-629c-4882-b705-3e825ec78a52')\"\n",
              "              title=\"Convert this dataframe to an interactive table.\"\n",
              "              style=\"display:none;\">\n",
              "        \n",
              "  <svg xmlns=\"http://www.w3.org/2000/svg\" height=\"24px\"viewBox=\"0 0 24 24\"\n",
              "       width=\"24px\">\n",
              "    <path d=\"M0 0h24v24H0V0z\" fill=\"none\"/>\n",
              "    <path d=\"M18.56 5.44l.94 2.06.94-2.06 2.06-.94-2.06-.94-.94-2.06-.94 2.06-2.06.94zm-11 1L8.5 8.5l.94-2.06 2.06-.94-2.06-.94L8.5 2.5l-.94 2.06-2.06.94zm10 10l.94 2.06.94-2.06 2.06-.94-2.06-.94-.94-2.06-.94 2.06-2.06.94z\"/><path d=\"M17.41 7.96l-1.37-1.37c-.4-.4-.92-.59-1.43-.59-.52 0-1.04.2-1.43.59L10.3 9.45l-7.72 7.72c-.78.78-.78 2.05 0 2.83L4 21.41c.39.39.9.59 1.41.59.51 0 1.02-.2 1.41-.59l7.78-7.78 2.81-2.81c.8-.78.8-2.07 0-2.86zM5.41 20L4 18.59l7.72-7.72 1.47 1.35L5.41 20z\"/>\n",
              "  </svg>\n",
              "      </button>\n",
              "      \n",
              "  <style>\n",
              "    .colab-df-container {\n",
              "      display:flex;\n",
              "      flex-wrap:wrap;\n",
              "      gap: 12px;\n",
              "    }\n",
              "\n",
              "    .colab-df-convert {\n",
              "      background-color: #E8F0FE;\n",
              "      border: none;\n",
              "      border-radius: 50%;\n",
              "      cursor: pointer;\n",
              "      display: none;\n",
              "      fill: #1967D2;\n",
              "      height: 32px;\n",
              "      padding: 0 0 0 0;\n",
              "      width: 32px;\n",
              "    }\n",
              "\n",
              "    .colab-df-convert:hover {\n",
              "      background-color: #E2EBFA;\n",
              "      box-shadow: 0px 1px 2px rgba(60, 64, 67, 0.3), 0px 1px 3px 1px rgba(60, 64, 67, 0.15);\n",
              "      fill: #174EA6;\n",
              "    }\n",
              "\n",
              "    [theme=dark] .colab-df-convert {\n",
              "      background-color: #3B4455;\n",
              "      fill: #D2E3FC;\n",
              "    }\n",
              "\n",
              "    [theme=dark] .colab-df-convert:hover {\n",
              "      background-color: #434B5C;\n",
              "      box-shadow: 0px 1px 3px 1px rgba(0, 0, 0, 0.15);\n",
              "      filter: drop-shadow(0px 1px 2px rgba(0, 0, 0, 0.3));\n",
              "      fill: #FFFFFF;\n",
              "    }\n",
              "  </style>\n",
              "\n",
              "      <script>\n",
              "        const buttonEl =\n",
              "          document.querySelector('#df-cd969724-629c-4882-b705-3e825ec78a52 button.colab-df-convert');\n",
              "        buttonEl.style.display =\n",
              "          google.colab.kernel.accessAllowed ? 'block' : 'none';\n",
              "\n",
              "        async function convertToInteractive(key) {\n",
              "          const element = document.querySelector('#df-cd969724-629c-4882-b705-3e825ec78a52');\n",
              "          const dataTable =\n",
              "            await google.colab.kernel.invokeFunction('convertToInteractive',\n",
              "                                                     [key], {});\n",
              "          if (!dataTable) return;\n",
              "\n",
              "          const docLinkHtml = 'Like what you see? Visit the ' +\n",
              "            '<a target=\"_blank\" href=https://colab.research.google.com/notebooks/data_table.ipynb>data table notebook</a>'\n",
              "            + ' to learn more about interactive tables.';\n",
              "          element.innerHTML = '';\n",
              "          dataTable['output_type'] = 'display_data';\n",
              "          await google.colab.output.renderOutput(dataTable, element);\n",
              "          const docLink = document.createElement('div');\n",
              "          docLink.innerHTML = docLinkHtml;\n",
              "          element.appendChild(docLink);\n",
              "        }\n",
              "      </script>\n",
              "    </div>\n",
              "  </div>\n",
              "  "
            ]
          },
          "metadata": {},
          "execution_count": 20
        }
      ]
    },
    {
      "cell_type": "markdown",
      "source": [
        "Processing the 'rating' column'. Here we have 2 phases, because not only we need to interpert what every rating means, we also need to change it to a more understandable text. Our course of action will be:\n",
        "\n",
        "1. Listing all the unique ratings for movies and TV shows apart\n",
        "2.Check for similarities / differences between TV and movie ratings\n",
        "3. Interpert what every rating means\n",
        "4. Decide on new rating categories and change accordingly"
      ],
      "metadata": {
        "id": "jZzA2giiE_cn"
      }
    },
    {
      "cell_type": "code",
      "source": [
        "'''nf['rating'] = nf['rating'].replace({   'TV-PG': 'Older Kids',\n",
        "    'TV-MA': 'Adults',\n",
        "    'TV-Y7-FV': 'Older Kids',\n",
        "    'TV-Y7': 'Older Kids',\n",
        "    'TV-14': 'Teens',\n",
        "    'R': 'Adults',\n",
        "    'TV-Y': 'Kids',\n",
        "    'NR': 'Adults',\n",
        "    'PG-13': 'Teens',\n",
        "    'TV-G': 'Kids',\n",
        "    'PG': 'Older Kids',\n",
        "    'G': 'Kids',\n",
        "    'UR': 'Adults',\n",
        "    'NC-17': 'Adults'})'''"
      ],
      "metadata": {
        "id": "htf7aGc1Go9z",
        "colab": {
          "base_uri": "https://localhost:8080/",
          "height": 53
        },
        "outputId": "bd99e3e4-6d19-4a29-ea17-61389558ca93"
      },
      "execution_count": null,
      "outputs": [
        {
          "output_type": "execute_result",
          "data": {
            "text/plain": [
              "\"nf['rating'] = nf['rating'].replace({   'TV-PG': 'Older Kids',\\n    'TV-MA': 'Adults',\\n    'TV-Y7-FV': 'Older Kids',\\n    'TV-Y7': 'Older Kids',\\n    'TV-14': 'Teens',\\n    'R': 'Adults',\\n    'TV-Y': 'Kids',\\n    'NR': 'Adults',\\n    'PG-13': 'Teens',\\n    'TV-G': 'Kids',\\n    'PG': 'Older Kids',\\n    'G': 'Kids',\\n    'UR': 'Adults',\\n    'NC-17': 'Adults'})\""
            ],
            "application/vnd.google.colaboratory.intrinsic+json": {
              "type": "string"
            }
          },
          "metadata": {},
          "execution_count": 21
        }
      ]
    },
    {
      "cell_type": "markdown",
      "source": [
        "Now, let's deal with \"International\" types:"
      ],
      "metadata": {
        "id": "mVJX2jLTHJPC"
      }
    },
    {
      "cell_type": "code",
      "source": [
        "nf['international'] = nf['genres'].apply(lambda x: \"International\" in x) \n",
        "\n",
        "nf['genres'] = nf['genres'].apply(lambda x: x.split(\", \")) \n",
        "\n",
        "nf[(nf['type'] == 'TV Show') & (nf['international'] == True)]['genres'].apply(lambda x: x.remove(\"International TV Shows\"))\n",
        "\n",
        "nf[(nf['type'] == 'Movie') & (nf['international'] == True)]['genres'].apply(lambda x: x.remove(\"International Movies\"))\n",
        "\n",
        "nf['genres'] = nf['genres'].apply(lambda x: \", \".join(x)) "
      ],
      "metadata": {
        "id": "ZWk9NVYZKUBh"
      },
      "execution_count": null,
      "outputs": []
    },
    {
      "cell_type": "markdown",
      "source": [
        "Next and final issue is to make sure to replace all NaN values with \"Not Available\" as we initially wanted"
      ],
      "metadata": {
        "id": "S221xx6DMacB"
      }
    },
    {
      "cell_type": "code",
      "source": [
        "nf = nf.fillna(\"Not Available\")"
      ],
      "metadata": {
        "id": "wzHcnr0AMlR3"
      },
      "execution_count": null,
      "outputs": []
    },
    {
      "cell_type": "markdown",
      "source": [
        "###<B>Targets based on \"rating\"\n"
      ],
      "metadata": {
        "id": "WLNs5krADVXB"
      }
    },
    {
      "cell_type": "code",
      "source": [
        "print('TV Shows Ratings:',nf[nf['type'] == 'TV Show']['rating'].unique(),'\\n')\n",
        "print('Movies Ratings:',nf[nf['type'] == 'Movie']['rating'].unique())"
      ],
      "metadata": {
        "colab": {
          "base_uri": "https://localhost:8080/"
        },
        "id": "rz-biIZvEpoK",
        "outputId": "d60ec831-0d66-4401-d840-d848e44f1b2a"
      },
      "execution_count": null,
      "outputs": [
        {
          "output_type": "stream",
          "name": "stdout",
          "text": [
            "TV Shows Ratings: ['TV-MA' 'TV-14' 'TV-PG' 'TV-Y7' 'TV-G' 'TV-Y' 'NR' 'R' 'TV-Y7-FV'] \n",
            "\n",
            "Movies Ratings: ['TV-MA' 'R' 'PG-13' 'TV-14' 'TV-PG' 'NR' 'TV-G' 'TV-Y' 'PG' 'G' 'TV-Y7'\n",
            " 'NC-17' 'TV-Y7-FV' 'UR']\n"
          ]
        }
      ]
    },
    {
      "cell_type": "markdown",
      "source": [
        "We see here that although all TV shows have a rating that starts with 'TV-' that makes them unique, some of the movie titles also have a rating that starts with 'TV-'. So its a mix.\n",
        "\n",
        "After research, we decided to categorize the different ratings based on CONTENT (and not AGE). From our understanding, there are 6 content categories in which we want to divide the ratings by:\n",
        "\n",
        "*   Kids\n",
        "*   All Ages\n",
        "*   Teens\n",
        "*   Brief Violence/Nude\n",
        "*   Adult Content\n",
        "*   Unrated"
      ],
      "metadata": {
        "id": "f7yZ761aFrHd"
      }
    },
    {
      "cell_type": "markdown",
      "source": [
        "**Classifying the 'rating' feature into three categories. (Kids, Teenagers, Adults)**\n",
        "\n",
        "TV-Y\tKids\n",
        "\n",
        "TV-Y7\tKids\n",
        "\n",
        "TV-Y7-FV\tKids\n",
        "\n",
        "G\tKids\n",
        "\n",
        "TV-G\tKids\n",
        "\n",
        "PG\tKids\n",
        "\n",
        "TV-PG\tKids\n",
        "\n",
        "PG-13\tTeenagers\n",
        "\n",
        "TV-14\tTeenagers\n",
        "\n",
        "TV-MA\tAdults\n",
        "\n",
        "R\tAdults\n",
        "\n",
        "NC-17\tAdults\n",
        "\n",
        "NR\tAdults\n",
        "\n",
        "UR\tAdults"
      ],
      "metadata": {
        "id": "FnPGzaKyDVXD"
      }
    },
    {
      "cell_type": "code",
      "source": [
        "custom_rating = {\n",
        "    'TV-PG': 'Older Kids',\n",
        "    'TV-MA': 'Adults',\n",
        "    'TV-Y7-FV': 'Older Kids',\n",
        "    'TV-Y7': 'Older Kids',\n",
        "    'TV-14': 'Teens',\n",
        "    'R': 'Adults',\n",
        "    'TV-Y': 'Kids',\n",
        "    'NR': 'Adults',\n",
        "    'PG-13': 'Teens',\n",
        "    'TV-G': 'Kids',\n",
        "    'PG': 'Older Kids',\n",
        "    'G': 'Kids',\n",
        "    'UR': 'Adults',\n",
        "    'NC-17': 'Adults'\n",
        "}\n",
        "\n",
        "nf['ratings_cat'] = nf['rating'].replace(to_replace = custom_rating)\n",
        "nf['ratings_cat'].unique()"
      ],
      "metadata": {
        "outputId": "ede62cd8-fbad-421e-fcee-a4529a2488e2",
        "colab": {
          "base_uri": "https://localhost:8080/"
        },
        "id": "euwuRCGoDVXE"
      },
      "execution_count": null,
      "outputs": [
        {
          "output_type": "execute_result",
          "data": {
            "text/plain": [
              "array(['Adults', 'Teens', 'Older Kids', 'Kids'], dtype=object)"
            ]
          },
          "metadata": {},
          "execution_count": 25
        }
      ]
    },
    {
      "cell_type": "markdown",
      "source": [
        "**Observation:** This looks so much more clear. Using the target_ages column we can easily make out the intended audience for a particular movie!"
      ],
      "metadata": {
        "id": "vkzpM1OVDVXG"
      }
    },
    {
      "cell_type": "markdown",
      "source": [
        "Let's fix the datatype"
      ],
      "metadata": {
        "id": "bSse5DOhDVXH"
      }
    },
    {
      "cell_type": "code",
      "source": [
        "#type should be a category\n",
        "nf['type'] = pd.Categorical(nf['type'])\n",
        "\n",
        "# ratings_cat is another category (4 classes)\n",
        "nf['ratings_cat'] = pd.Categorical(nf['ratings_cat'], categories=['Kids', 'Older Kids', 'Teens', 'Adults'])\n",
        "\n",
        "# Year added should be integer so we can compare with `released_year`\n",
        "nf['year_added'] = pd.to_numeric(nf['year_added'])\n"
      ],
      "metadata": {
        "id": "FCdCUe8uDVXH"
      },
      "execution_count": null,
      "outputs": []
    },
    {
      "cell_type": "code",
      "source": [
        "rating_replacements = {\n",
        "    67: 'TV-PG',\n",
        "    2359: 'TV-14',\n",
        "    3660: 'TV-MA',\n",
        "    3736: 'TV-MA',\n",
        "    3737: 'NR',\n",
        "    3738: 'TV-MA',\n",
        "    4323: 'TV-MA '\n",
        "}\n",
        "\n",
        "for id, rate in rating_replacements.items():\n",
        "    nf.iloc[id, 8] = rate\n",
        "    \n",
        "nf['rating'].isnull().sum()"
      ],
      "metadata": {
        "outputId": "ae58b572-6bd5-433f-aa91-371179ae38aa",
        "colab": {
          "base_uri": "https://localhost:8080/"
        },
        "id": "dMhRjI1zDVXI"
      },
      "execution_count": null,
      "outputs": [
        {
          "output_type": "execute_result",
          "data": {
            "text/plain": [
              "0"
            ]
          },
          "metadata": {},
          "execution_count": 27
        }
      ]
    },
    {
      "cell_type": "markdown",
      "source": [
        "**Observation:** All the missing values in the ratings column has been fixed!"
      ],
      "metadata": {
        "id": "_qyZ02tuGX8c"
      }
    },
    {
      "cell_type": "markdown",
      "source": [
        "# **Handling Comma-Delimited Values**\n",
        "\n",
        "First the is the need to make sure all comma-delimited values were placed in the correct order/form"
      ],
      "metadata": {
        "id": "1yXJQNacNiBp"
      }
    },
    {
      "cell_type": "code",
      "source": [
        "comma_columns = ['cast','director','country','genres']\n",
        "\n",
        "for column in comma_columns:\n",
        "    if len(nf[nf[column].str.startswith(\",\")]) > 0:\n",
        "        print(\"In column:\",column,\"there are bad entries that BEGIN with a comma\")\n",
        "    if len(nf[nf[column].str.endswith(\",\")]) > 0:\n",
        "        print(\"In column:\",column,\"there are bad entries that END with a comma\")\n",
        "    if len(nf[nf[column] == '']) > 0:\n",
        "        print(\"In column:\",column,\"there are bad entries that CONTAIN empty values ''\")"
      ],
      "metadata": {
        "colab": {
          "base_uri": "https://localhost:8080/"
        },
        "id": "-AzfX9IgNt_W",
        "outputId": "8bdbf266-9f5a-4e5f-abe2-762f48212ba7"
      },
      "execution_count": null,
      "outputs": [
        {
          "output_type": "stream",
          "name": "stdout",
          "text": [
            "In column: country there are bad entries that END with a comma\n",
            "In column: genres there are bad entries that CONTAIN empty values ''\n"
          ]
        }
      ]
    },
    {
      "cell_type": "markdown",
      "source": [
        "So there are bad entries that needs to be fixed. Let's fix it:"
      ],
      "metadata": {
        "id": "V3HHjkbKSOhm"
      }
    },
    {
      "cell_type": "code",
      "source": [
        "nf[nf['country'].str.endswith(\",\")]"
      ],
      "metadata": {
        "colab": {
          "base_uri": "https://localhost:8080/",
          "height": 479
        },
        "id": "8XFbIXBwST_0",
        "outputId": "987ced74-69f4-42c0-dda9-57ca957905c8"
      },
      "execution_count": null,
      "outputs": [
        {
          "output_type": "execute_result",
          "data": {
            "text/plain": [
              "     show_id   type          title               director  \\\n",
              "1402   s1403  Movie    City of Joy        Madeleine Gavin   \n",
              "2315   s2316  Movie          Funan               Denis Do   \n",
              "2827   s2828  Movie  Hotel Pacific        Janusz Majewski   \n",
              "7433   s7434  Movie        Virunga  Orlando von Einsiedel   \n",
              "\n",
              "                                                   cast  \\\n",
              "1402                                            No Cast   \n",
              "2315  Bérénice Bejo, Louis Garrel, Colette Kieffer, ...   \n",
              "2827  Marek Kondrat, Roman Wilhelmi, Roman Skamene, ...   \n",
              "7433                                            No Cast   \n",
              "\n",
              "                                     country         date_added  release_year  \\\n",
              "1402                          United States,  September 7, 2018          2018   \n",
              "2315  France, Belgium, Luxembourg, Cambodia,      July 18, 2020          2018   \n",
              "2827                                 Poland,    October 1, 2019          1975   \n",
              "7433                         United Kingdom,   November 7, 2014          2014   \n",
              "\n",
              "     rating duration                  genres  \\\n",
              "1402  TV-MA   77 min           Documentaries   \n",
              "2315  TV-14   87 min                  Dramas   \n",
              "2827  TV-MA   96 min  Classic Movies, Dramas   \n",
              "7433  TV-MA  100 min           Documentaries   \n",
              "\n",
              "                                            description  year_added  \\\n",
              "1402  Women who've been sexually brutalized in war-t...        2018   \n",
              "2315  Separated from their young son during the brut...        2020   \n",
              "2827  A motivated teen strives to rise from dishwash...        2019   \n",
              "7433  The Oscar-nominated true story of the rangers ...        2014   \n",
              "\n",
              "     month_added  international ratings_cat  \n",
              "1402   September          False      Adults  \n",
              "2315        July           True       Teens  \n",
              "2827     October           True      Adults  \n",
              "7433    November           True      Adults  "
            ],
            "text/html": [
              "\n",
              "  <div id=\"df-2b4902e5-48f4-40e2-959d-9c44d13cdb38\">\n",
              "    <div class=\"colab-df-container\">\n",
              "      <div>\n",
              "<style scoped>\n",
              "    .dataframe tbody tr th:only-of-type {\n",
              "        vertical-align: middle;\n",
              "    }\n",
              "\n",
              "    .dataframe tbody tr th {\n",
              "        vertical-align: top;\n",
              "    }\n",
              "\n",
              "    .dataframe thead th {\n",
              "        text-align: right;\n",
              "    }\n",
              "</style>\n",
              "<table border=\"1\" class=\"dataframe\">\n",
              "  <thead>\n",
              "    <tr style=\"text-align: right;\">\n",
              "      <th></th>\n",
              "      <th>show_id</th>\n",
              "      <th>type</th>\n",
              "      <th>title</th>\n",
              "      <th>director</th>\n",
              "      <th>cast</th>\n",
              "      <th>country</th>\n",
              "      <th>date_added</th>\n",
              "      <th>release_year</th>\n",
              "      <th>rating</th>\n",
              "      <th>duration</th>\n",
              "      <th>genres</th>\n",
              "      <th>description</th>\n",
              "      <th>year_added</th>\n",
              "      <th>month_added</th>\n",
              "      <th>international</th>\n",
              "      <th>ratings_cat</th>\n",
              "    </tr>\n",
              "  </thead>\n",
              "  <tbody>\n",
              "    <tr>\n",
              "      <th>1402</th>\n",
              "      <td>s1403</td>\n",
              "      <td>Movie</td>\n",
              "      <td>City of Joy</td>\n",
              "      <td>Madeleine Gavin</td>\n",
              "      <td>No Cast</td>\n",
              "      <td>United States,</td>\n",
              "      <td>September 7, 2018</td>\n",
              "      <td>2018</td>\n",
              "      <td>TV-MA</td>\n",
              "      <td>77 min</td>\n",
              "      <td>Documentaries</td>\n",
              "      <td>Women who've been sexually brutalized in war-t...</td>\n",
              "      <td>2018</td>\n",
              "      <td>September</td>\n",
              "      <td>False</td>\n",
              "      <td>Adults</td>\n",
              "    </tr>\n",
              "    <tr>\n",
              "      <th>2315</th>\n",
              "      <td>s2316</td>\n",
              "      <td>Movie</td>\n",
              "      <td>Funan</td>\n",
              "      <td>Denis Do</td>\n",
              "      <td>Bérénice Bejo, Louis Garrel, Colette Kieffer, ...</td>\n",
              "      <td>France, Belgium, Luxembourg, Cambodia,</td>\n",
              "      <td>July 18, 2020</td>\n",
              "      <td>2018</td>\n",
              "      <td>TV-14</td>\n",
              "      <td>87 min</td>\n",
              "      <td>Dramas</td>\n",
              "      <td>Separated from their young son during the brut...</td>\n",
              "      <td>2020</td>\n",
              "      <td>July</td>\n",
              "      <td>True</td>\n",
              "      <td>Teens</td>\n",
              "    </tr>\n",
              "    <tr>\n",
              "      <th>2827</th>\n",
              "      <td>s2828</td>\n",
              "      <td>Movie</td>\n",
              "      <td>Hotel Pacific</td>\n",
              "      <td>Janusz Majewski</td>\n",
              "      <td>Marek Kondrat, Roman Wilhelmi, Roman Skamene, ...</td>\n",
              "      <td>Poland,</td>\n",
              "      <td>October 1, 2019</td>\n",
              "      <td>1975</td>\n",
              "      <td>TV-MA</td>\n",
              "      <td>96 min</td>\n",
              "      <td>Classic Movies, Dramas</td>\n",
              "      <td>A motivated teen strives to rise from dishwash...</td>\n",
              "      <td>2019</td>\n",
              "      <td>October</td>\n",
              "      <td>True</td>\n",
              "      <td>Adults</td>\n",
              "    </tr>\n",
              "    <tr>\n",
              "      <th>7433</th>\n",
              "      <td>s7434</td>\n",
              "      <td>Movie</td>\n",
              "      <td>Virunga</td>\n",
              "      <td>Orlando von Einsiedel</td>\n",
              "      <td>No Cast</td>\n",
              "      <td>United Kingdom,</td>\n",
              "      <td>November 7, 2014</td>\n",
              "      <td>2014</td>\n",
              "      <td>TV-MA</td>\n",
              "      <td>100 min</td>\n",
              "      <td>Documentaries</td>\n",
              "      <td>The Oscar-nominated true story of the rangers ...</td>\n",
              "      <td>2014</td>\n",
              "      <td>November</td>\n",
              "      <td>True</td>\n",
              "      <td>Adults</td>\n",
              "    </tr>\n",
              "  </tbody>\n",
              "</table>\n",
              "</div>\n",
              "      <button class=\"colab-df-convert\" onclick=\"convertToInteractive('df-2b4902e5-48f4-40e2-959d-9c44d13cdb38')\"\n",
              "              title=\"Convert this dataframe to an interactive table.\"\n",
              "              style=\"display:none;\">\n",
              "        \n",
              "  <svg xmlns=\"http://www.w3.org/2000/svg\" height=\"24px\"viewBox=\"0 0 24 24\"\n",
              "       width=\"24px\">\n",
              "    <path d=\"M0 0h24v24H0V0z\" fill=\"none\"/>\n",
              "    <path d=\"M18.56 5.44l.94 2.06.94-2.06 2.06-.94-2.06-.94-.94-2.06-.94 2.06-2.06.94zm-11 1L8.5 8.5l.94-2.06 2.06-.94-2.06-.94L8.5 2.5l-.94 2.06-2.06.94zm10 10l.94 2.06.94-2.06 2.06-.94-2.06-.94-.94-2.06-.94 2.06-2.06.94z\"/><path d=\"M17.41 7.96l-1.37-1.37c-.4-.4-.92-.59-1.43-.59-.52 0-1.04.2-1.43.59L10.3 9.45l-7.72 7.72c-.78.78-.78 2.05 0 2.83L4 21.41c.39.39.9.59 1.41.59.51 0 1.02-.2 1.41-.59l7.78-7.78 2.81-2.81c.8-.78.8-2.07 0-2.86zM5.41 20L4 18.59l7.72-7.72 1.47 1.35L5.41 20z\"/>\n",
              "  </svg>\n",
              "      </button>\n",
              "      \n",
              "  <style>\n",
              "    .colab-df-container {\n",
              "      display:flex;\n",
              "      flex-wrap:wrap;\n",
              "      gap: 12px;\n",
              "    }\n",
              "\n",
              "    .colab-df-convert {\n",
              "      background-color: #E8F0FE;\n",
              "      border: none;\n",
              "      border-radius: 50%;\n",
              "      cursor: pointer;\n",
              "      display: none;\n",
              "      fill: #1967D2;\n",
              "      height: 32px;\n",
              "      padding: 0 0 0 0;\n",
              "      width: 32px;\n",
              "    }\n",
              "\n",
              "    .colab-df-convert:hover {\n",
              "      background-color: #E2EBFA;\n",
              "      box-shadow: 0px 1px 2px rgba(60, 64, 67, 0.3), 0px 1px 3px 1px rgba(60, 64, 67, 0.15);\n",
              "      fill: #174EA6;\n",
              "    }\n",
              "\n",
              "    [theme=dark] .colab-df-convert {\n",
              "      background-color: #3B4455;\n",
              "      fill: #D2E3FC;\n",
              "    }\n",
              "\n",
              "    [theme=dark] .colab-df-convert:hover {\n",
              "      background-color: #434B5C;\n",
              "      box-shadow: 0px 1px 3px 1px rgba(0, 0, 0, 0.15);\n",
              "      filter: drop-shadow(0px 1px 2px rgba(0, 0, 0, 0.3));\n",
              "      fill: #FFFFFF;\n",
              "    }\n",
              "  </style>\n",
              "\n",
              "      <script>\n",
              "        const buttonEl =\n",
              "          document.querySelector('#df-2b4902e5-48f4-40e2-959d-9c44d13cdb38 button.colab-df-convert');\n",
              "        buttonEl.style.display =\n",
              "          google.colab.kernel.accessAllowed ? 'block' : 'none';\n",
              "\n",
              "        async function convertToInteractive(key) {\n",
              "          const element = document.querySelector('#df-2b4902e5-48f4-40e2-959d-9c44d13cdb38');\n",
              "          const dataTable =\n",
              "            await google.colab.kernel.invokeFunction('convertToInteractive',\n",
              "                                                     [key], {});\n",
              "          if (!dataTable) return;\n",
              "\n",
              "          const docLinkHtml = 'Like what you see? Visit the ' +\n",
              "            '<a target=\"_blank\" href=https://colab.research.google.com/notebooks/data_table.ipynb>data table notebook</a>'\n",
              "            + ' to learn more about interactive tables.';\n",
              "          element.innerHTML = '';\n",
              "          dataTable['output_type'] = 'display_data';\n",
              "          await google.colab.output.renderOutput(dataTable, element);\n",
              "          const docLink = document.createElement('div');\n",
              "          docLink.innerHTML = docLinkHtml;\n",
              "          element.appendChild(docLink);\n",
              "        }\n",
              "      </script>\n",
              "    </div>\n",
              "  </div>\n",
              "  "
            ]
          },
          "metadata": {},
          "execution_count": 29
        }
      ]
    },
    {
      "cell_type": "code",
      "source": [
        "#correcting entries\n",
        "nf.loc[1402,'country'] = 'United States'\n",
        "nf.loc[2315,'country'] = 'France, Belgium, Luxembourg, Cambodia'\n",
        "nf.loc[2827,'country'] = 'Poland'\n",
        "nf.loc[7433,'country'] = 'United Kingdom'"
      ],
      "metadata": {
        "id": "BIXLbwezStg7"
      },
      "execution_count": null,
      "outputs": []
    },
    {
      "cell_type": "markdown",
      "source": [
        "Having look at empty genres values"
      ],
      "metadata": {
        "id": "jbaHXE5wTyVF"
      }
    },
    {
      "cell_type": "code",
      "source": [
        "nf[nf['genres']=='']"
      ],
      "metadata": {
        "colab": {
          "base_uri": "https://localhost:8080/",
          "height": 476
        },
        "id": "9xNofYMGWnv6",
        "outputId": "394262f9-f7b6-478e-fe69-6f9cdf0a65f6"
      },
      "execution_count": null,
      "outputs": [
        {
          "output_type": "execute_result",
          "data": {
            "text/plain": [
              "     show_id     type                                              title  \\\n",
              "1707   s1708    Movie                              Derren Brown: Miracle   \n",
              "1729   s1730  TV Show                      Devlok with Devdutt Pattanaik   \n",
              "2035   s2036  TV Show                            Eurovision Song Contest   \n",
              "3494   s3495    Movie                                    La Gran Ilusión   \n",
              "4341   s4342    Movie  My Next Guest with David Letterman and Shah Ru...   \n",
              "\n",
              "           director                                          cast  \\\n",
              "1707    No Director                                  Derren Brown   \n",
              "1729    No Director               Rasika Dugal, Devdutt Pattanaik   \n",
              "2035    No Director  Bar Refaeli, Erez Tal, Assi Azar, Lucy Ayoub   \n",
              "3494   Antonio Díaz                                  Antonio Díaz   \n",
              "4341  Michael Steed               Shah Rukh Khan, David Letterman   \n",
              "\n",
              "                  country        date_added  release_year rating  duration  \\\n",
              "1707       United Kingdom     June 22, 2018          2018  TV-MA    74 min   \n",
              "1729                India  October 15, 2018          2017  TV-PG  1 Season   \n",
              "2035  Country Unavailable     July 23, 2019          2019  TV-PG  1 Season   \n",
              "3494  Country Unavailable  October 28, 2020          2016  TV-14    50 min   \n",
              "4341  Country Unavailable  October 25, 2019          2019  TV-PG    61 min   \n",
              "\n",
              "     genres                                        description  year_added  \\\n",
              "1707         Illusionist Derren Brown reinvents the concept...        2018   \n",
              "1729         Through chats with host Rasika Dugal, mytholog...        2018   \n",
              "2035         Singers from all over Europe represent their c...        2019   \n",
              "3494         Known as \"El Mago Pop,\" illusionist Antonio Dí...        2020   \n",
              "4341         \"King of Bollywood\" Shah Rukh Khan opens up ab...        2019   \n",
              "\n",
              "     month_added  international ratings_cat  \n",
              "1707        June           True      Adults  \n",
              "1729     October           True  Older Kids  \n",
              "2035        July           True  Older Kids  \n",
              "3494     October           True       Teens  \n",
              "4341     October           True  Older Kids  "
            ],
            "text/html": [
              "\n",
              "  <div id=\"df-21c752e2-a877-4c0a-a746-efe26ade065b\">\n",
              "    <div class=\"colab-df-container\">\n",
              "      <div>\n",
              "<style scoped>\n",
              "    .dataframe tbody tr th:only-of-type {\n",
              "        vertical-align: middle;\n",
              "    }\n",
              "\n",
              "    .dataframe tbody tr th {\n",
              "        vertical-align: top;\n",
              "    }\n",
              "\n",
              "    .dataframe thead th {\n",
              "        text-align: right;\n",
              "    }\n",
              "</style>\n",
              "<table border=\"1\" class=\"dataframe\">\n",
              "  <thead>\n",
              "    <tr style=\"text-align: right;\">\n",
              "      <th></th>\n",
              "      <th>show_id</th>\n",
              "      <th>type</th>\n",
              "      <th>title</th>\n",
              "      <th>director</th>\n",
              "      <th>cast</th>\n",
              "      <th>country</th>\n",
              "      <th>date_added</th>\n",
              "      <th>release_year</th>\n",
              "      <th>rating</th>\n",
              "      <th>duration</th>\n",
              "      <th>genres</th>\n",
              "      <th>description</th>\n",
              "      <th>year_added</th>\n",
              "      <th>month_added</th>\n",
              "      <th>international</th>\n",
              "      <th>ratings_cat</th>\n",
              "    </tr>\n",
              "  </thead>\n",
              "  <tbody>\n",
              "    <tr>\n",
              "      <th>1707</th>\n",
              "      <td>s1708</td>\n",
              "      <td>Movie</td>\n",
              "      <td>Derren Brown: Miracle</td>\n",
              "      <td>No Director</td>\n",
              "      <td>Derren Brown</td>\n",
              "      <td>United Kingdom</td>\n",
              "      <td>June 22, 2018</td>\n",
              "      <td>2018</td>\n",
              "      <td>TV-MA</td>\n",
              "      <td>74 min</td>\n",
              "      <td></td>\n",
              "      <td>Illusionist Derren Brown reinvents the concept...</td>\n",
              "      <td>2018</td>\n",
              "      <td>June</td>\n",
              "      <td>True</td>\n",
              "      <td>Adults</td>\n",
              "    </tr>\n",
              "    <tr>\n",
              "      <th>1729</th>\n",
              "      <td>s1730</td>\n",
              "      <td>TV Show</td>\n",
              "      <td>Devlok with Devdutt Pattanaik</td>\n",
              "      <td>No Director</td>\n",
              "      <td>Rasika Dugal, Devdutt Pattanaik</td>\n",
              "      <td>India</td>\n",
              "      <td>October 15, 2018</td>\n",
              "      <td>2017</td>\n",
              "      <td>TV-PG</td>\n",
              "      <td>1 Season</td>\n",
              "      <td></td>\n",
              "      <td>Through chats with host Rasika Dugal, mytholog...</td>\n",
              "      <td>2018</td>\n",
              "      <td>October</td>\n",
              "      <td>True</td>\n",
              "      <td>Older Kids</td>\n",
              "    </tr>\n",
              "    <tr>\n",
              "      <th>2035</th>\n",
              "      <td>s2036</td>\n",
              "      <td>TV Show</td>\n",
              "      <td>Eurovision Song Contest</td>\n",
              "      <td>No Director</td>\n",
              "      <td>Bar Refaeli, Erez Tal, Assi Azar, Lucy Ayoub</td>\n",
              "      <td>Country Unavailable</td>\n",
              "      <td>July 23, 2019</td>\n",
              "      <td>2019</td>\n",
              "      <td>TV-PG</td>\n",
              "      <td>1 Season</td>\n",
              "      <td></td>\n",
              "      <td>Singers from all over Europe represent their c...</td>\n",
              "      <td>2019</td>\n",
              "      <td>July</td>\n",
              "      <td>True</td>\n",
              "      <td>Older Kids</td>\n",
              "    </tr>\n",
              "    <tr>\n",
              "      <th>3494</th>\n",
              "      <td>s3495</td>\n",
              "      <td>Movie</td>\n",
              "      <td>La Gran Ilusión</td>\n",
              "      <td>Antonio Díaz</td>\n",
              "      <td>Antonio Díaz</td>\n",
              "      <td>Country Unavailable</td>\n",
              "      <td>October 28, 2020</td>\n",
              "      <td>2016</td>\n",
              "      <td>TV-14</td>\n",
              "      <td>50 min</td>\n",
              "      <td></td>\n",
              "      <td>Known as \"El Mago Pop,\" illusionist Antonio Dí...</td>\n",
              "      <td>2020</td>\n",
              "      <td>October</td>\n",
              "      <td>True</td>\n",
              "      <td>Teens</td>\n",
              "    </tr>\n",
              "    <tr>\n",
              "      <th>4341</th>\n",
              "      <td>s4342</td>\n",
              "      <td>Movie</td>\n",
              "      <td>My Next Guest with David Letterman and Shah Ru...</td>\n",
              "      <td>Michael Steed</td>\n",
              "      <td>Shah Rukh Khan, David Letterman</td>\n",
              "      <td>Country Unavailable</td>\n",
              "      <td>October 25, 2019</td>\n",
              "      <td>2019</td>\n",
              "      <td>TV-PG</td>\n",
              "      <td>61 min</td>\n",
              "      <td></td>\n",
              "      <td>\"King of Bollywood\" Shah Rukh Khan opens up ab...</td>\n",
              "      <td>2019</td>\n",
              "      <td>October</td>\n",
              "      <td>True</td>\n",
              "      <td>Older Kids</td>\n",
              "    </tr>\n",
              "  </tbody>\n",
              "</table>\n",
              "</div>\n",
              "      <button class=\"colab-df-convert\" onclick=\"convertToInteractive('df-21c752e2-a877-4c0a-a746-efe26ade065b')\"\n",
              "              title=\"Convert this dataframe to an interactive table.\"\n",
              "              style=\"display:none;\">\n",
              "        \n",
              "  <svg xmlns=\"http://www.w3.org/2000/svg\" height=\"24px\"viewBox=\"0 0 24 24\"\n",
              "       width=\"24px\">\n",
              "    <path d=\"M0 0h24v24H0V0z\" fill=\"none\"/>\n",
              "    <path d=\"M18.56 5.44l.94 2.06.94-2.06 2.06-.94-2.06-.94-.94-2.06-.94 2.06-2.06.94zm-11 1L8.5 8.5l.94-2.06 2.06-.94-2.06-.94L8.5 2.5l-.94 2.06-2.06.94zm10 10l.94 2.06.94-2.06 2.06-.94-2.06-.94-.94-2.06-.94 2.06-2.06.94z\"/><path d=\"M17.41 7.96l-1.37-1.37c-.4-.4-.92-.59-1.43-.59-.52 0-1.04.2-1.43.59L10.3 9.45l-7.72 7.72c-.78.78-.78 2.05 0 2.83L4 21.41c.39.39.9.59 1.41.59.51 0 1.02-.2 1.41-.59l7.78-7.78 2.81-2.81c.8-.78.8-2.07 0-2.86zM5.41 20L4 18.59l7.72-7.72 1.47 1.35L5.41 20z\"/>\n",
              "  </svg>\n",
              "      </button>\n",
              "      \n",
              "  <style>\n",
              "    .colab-df-container {\n",
              "      display:flex;\n",
              "      flex-wrap:wrap;\n",
              "      gap: 12px;\n",
              "    }\n",
              "\n",
              "    .colab-df-convert {\n",
              "      background-color: #E8F0FE;\n",
              "      border: none;\n",
              "      border-radius: 50%;\n",
              "      cursor: pointer;\n",
              "      display: none;\n",
              "      fill: #1967D2;\n",
              "      height: 32px;\n",
              "      padding: 0 0 0 0;\n",
              "      width: 32px;\n",
              "    }\n",
              "\n",
              "    .colab-df-convert:hover {\n",
              "      background-color: #E2EBFA;\n",
              "      box-shadow: 0px 1px 2px rgba(60, 64, 67, 0.3), 0px 1px 3px 1px rgba(60, 64, 67, 0.15);\n",
              "      fill: #174EA6;\n",
              "    }\n",
              "\n",
              "    [theme=dark] .colab-df-convert {\n",
              "      background-color: #3B4455;\n",
              "      fill: #D2E3FC;\n",
              "    }\n",
              "\n",
              "    [theme=dark] .colab-df-convert:hover {\n",
              "      background-color: #434B5C;\n",
              "      box-shadow: 0px 1px 3px 1px rgba(0, 0, 0, 0.15);\n",
              "      filter: drop-shadow(0px 1px 2px rgba(0, 0, 0, 0.3));\n",
              "      fill: #FFFFFF;\n",
              "    }\n",
              "  </style>\n",
              "\n",
              "      <script>\n",
              "        const buttonEl =\n",
              "          document.querySelector('#df-21c752e2-a877-4c0a-a746-efe26ade065b button.colab-df-convert');\n",
              "        buttonEl.style.display =\n",
              "          google.colab.kernel.accessAllowed ? 'block' : 'none';\n",
              "\n",
              "        async function convertToInteractive(key) {\n",
              "          const element = document.querySelector('#df-21c752e2-a877-4c0a-a746-efe26ade065b');\n",
              "          const dataTable =\n",
              "            await google.colab.kernel.invokeFunction('convertToInteractive',\n",
              "                                                     [key], {});\n",
              "          if (!dataTable) return;\n",
              "\n",
              "          const docLinkHtml = 'Like what you see? Visit the ' +\n",
              "            '<a target=\"_blank\" href=https://colab.research.google.com/notebooks/data_table.ipynb>data table notebook</a>'\n",
              "            + ' to learn more about interactive tables.';\n",
              "          element.innerHTML = '';\n",
              "          dataTable['output_type'] = 'display_data';\n",
              "          await google.colab.output.renderOutput(dataTable, element);\n",
              "          const docLink = document.createElement('div');\n",
              "          docLink.innerHTML = docLinkHtml;\n",
              "          element.appendChild(docLink);\n",
              "        }\n",
              "      </script>\n",
              "    </div>\n",
              "  </div>\n",
              "  "
            ]
          },
          "metadata": {},
          "execution_count": 31
        }
      ]
    },
    {
      "cell_type": "code",
      "source": [
        "#filling up entries by getting idea from description\n",
        "nf.loc[1707,'genres'] = 'Sci-Fi & Fantasy'\n",
        "nf.loc[1729,'genres'] = 'Stand-Up Comedy'\n",
        "nf.loc[2035,'genres'] = 'Reality TV'\n",
        "nf.loc[3494,'genres'] = 'Sci-Fi & Fantasy'\n",
        "nf.loc[4341,'genres'] = 'Stand-Up Comedy & Talk Shows'"
      ],
      "metadata": {
        "id": "O93rlfxdXHvd"
      },
      "execution_count": null,
      "outputs": []
    },
    {
      "cell_type": "code",
      "source": [
        "nf.head()"
      ],
      "metadata": {
        "colab": {
          "base_uri": "https://localhost:8080/",
          "height": 528
        },
        "id": "yaPQgEfqf39k",
        "outputId": "5eea81ee-e16e-40c6-9ee5-535b5de18e05"
      },
      "execution_count": null,
      "outputs": [
        {
          "output_type": "execute_result",
          "data": {
            "text/plain": [
              "  show_id     type  title           director  \\\n",
              "0      s1  TV Show     3%        No Director   \n",
              "1      s2    Movie   7:19  Jorge Michel Grau   \n",
              "2      s3    Movie  23:59       Gilbert Chan   \n",
              "3      s4    Movie      9        Shane Acker   \n",
              "4      s5    Movie     21     Robert Luketic   \n",
              "\n",
              "                                                cast        country  \\\n",
              "0  João Miguel, Bianca Comparato, Michel Gomes, R...         Brazil   \n",
              "1  Demián Bichir, Héctor Bonilla, Oscar Serrano, ...         Mexico   \n",
              "2  Tedd Chan, Stella Chung, Henley Hii, Lawrence ...      Singapore   \n",
              "3  Elijah Wood, John C. Reilly, Jennifer Connelly...  United States   \n",
              "4  Jim Sturgess, Kevin Spacey, Kate Bosworth, Aar...  United States   \n",
              "\n",
              "          date_added  release_year rating   duration  \\\n",
              "0    August 14, 2020          2020  TV-MA  4 Seasons   \n",
              "1  December 23, 2016          2016  TV-MA     93 min   \n",
              "2  December 20, 2018          2011      R     78 min   \n",
              "3  November 16, 2017          2009  PG-13     80 min   \n",
              "4    January 1, 2020          2008  PG-13    123 min   \n",
              "\n",
              "                                              genres  \\\n",
              "0                     TV Dramas, TV Sci-Fi & Fantasy   \n",
              "1                                             Dramas   \n",
              "2                                      Horror Movies   \n",
              "3  Action & Adventure, Independent Movies, Sci-Fi...   \n",
              "4                                             Dramas   \n",
              "\n",
              "                                         description  year_added month_added  \\\n",
              "0  In a future where the elite inhabit an island ...        2020      August   \n",
              "1  After a devastating earthquake hits Mexico Cit...        2016    December   \n",
              "2  When an army recruit is found dead, his fellow...        2018    December   \n",
              "3  In a postapocalyptic world, rag-doll robots hi...        2017    November   \n",
              "4  A brilliant group of students become card-coun...        2020     January   \n",
              "\n",
              "   international ratings_cat  \n",
              "0           True      Adults  \n",
              "1           True      Adults  \n",
              "2           True      Adults  \n",
              "3          False       Teens  \n",
              "4          False       Teens  "
            ],
            "text/html": [
              "\n",
              "  <div id=\"df-38a65524-4924-4296-a1c4-f0344f4acc53\">\n",
              "    <div class=\"colab-df-container\">\n",
              "      <div>\n",
              "<style scoped>\n",
              "    .dataframe tbody tr th:only-of-type {\n",
              "        vertical-align: middle;\n",
              "    }\n",
              "\n",
              "    .dataframe tbody tr th {\n",
              "        vertical-align: top;\n",
              "    }\n",
              "\n",
              "    .dataframe thead th {\n",
              "        text-align: right;\n",
              "    }\n",
              "</style>\n",
              "<table border=\"1\" class=\"dataframe\">\n",
              "  <thead>\n",
              "    <tr style=\"text-align: right;\">\n",
              "      <th></th>\n",
              "      <th>show_id</th>\n",
              "      <th>type</th>\n",
              "      <th>title</th>\n",
              "      <th>director</th>\n",
              "      <th>cast</th>\n",
              "      <th>country</th>\n",
              "      <th>date_added</th>\n",
              "      <th>release_year</th>\n",
              "      <th>rating</th>\n",
              "      <th>duration</th>\n",
              "      <th>genres</th>\n",
              "      <th>description</th>\n",
              "      <th>year_added</th>\n",
              "      <th>month_added</th>\n",
              "      <th>international</th>\n",
              "      <th>ratings_cat</th>\n",
              "    </tr>\n",
              "  </thead>\n",
              "  <tbody>\n",
              "    <tr>\n",
              "      <th>0</th>\n",
              "      <td>s1</td>\n",
              "      <td>TV Show</td>\n",
              "      <td>3%</td>\n",
              "      <td>No Director</td>\n",
              "      <td>João Miguel, Bianca Comparato, Michel Gomes, R...</td>\n",
              "      <td>Brazil</td>\n",
              "      <td>August 14, 2020</td>\n",
              "      <td>2020</td>\n",
              "      <td>TV-MA</td>\n",
              "      <td>4 Seasons</td>\n",
              "      <td>TV Dramas, TV Sci-Fi &amp; Fantasy</td>\n",
              "      <td>In a future where the elite inhabit an island ...</td>\n",
              "      <td>2020</td>\n",
              "      <td>August</td>\n",
              "      <td>True</td>\n",
              "      <td>Adults</td>\n",
              "    </tr>\n",
              "    <tr>\n",
              "      <th>1</th>\n",
              "      <td>s2</td>\n",
              "      <td>Movie</td>\n",
              "      <td>7:19</td>\n",
              "      <td>Jorge Michel Grau</td>\n",
              "      <td>Demián Bichir, Héctor Bonilla, Oscar Serrano, ...</td>\n",
              "      <td>Mexico</td>\n",
              "      <td>December 23, 2016</td>\n",
              "      <td>2016</td>\n",
              "      <td>TV-MA</td>\n",
              "      <td>93 min</td>\n",
              "      <td>Dramas</td>\n",
              "      <td>After a devastating earthquake hits Mexico Cit...</td>\n",
              "      <td>2016</td>\n",
              "      <td>December</td>\n",
              "      <td>True</td>\n",
              "      <td>Adults</td>\n",
              "    </tr>\n",
              "    <tr>\n",
              "      <th>2</th>\n",
              "      <td>s3</td>\n",
              "      <td>Movie</td>\n",
              "      <td>23:59</td>\n",
              "      <td>Gilbert Chan</td>\n",
              "      <td>Tedd Chan, Stella Chung, Henley Hii, Lawrence ...</td>\n",
              "      <td>Singapore</td>\n",
              "      <td>December 20, 2018</td>\n",
              "      <td>2011</td>\n",
              "      <td>R</td>\n",
              "      <td>78 min</td>\n",
              "      <td>Horror Movies</td>\n",
              "      <td>When an army recruit is found dead, his fellow...</td>\n",
              "      <td>2018</td>\n",
              "      <td>December</td>\n",
              "      <td>True</td>\n",
              "      <td>Adults</td>\n",
              "    </tr>\n",
              "    <tr>\n",
              "      <th>3</th>\n",
              "      <td>s4</td>\n",
              "      <td>Movie</td>\n",
              "      <td>9</td>\n",
              "      <td>Shane Acker</td>\n",
              "      <td>Elijah Wood, John C. Reilly, Jennifer Connelly...</td>\n",
              "      <td>United States</td>\n",
              "      <td>November 16, 2017</td>\n",
              "      <td>2009</td>\n",
              "      <td>PG-13</td>\n",
              "      <td>80 min</td>\n",
              "      <td>Action &amp; Adventure, Independent Movies, Sci-Fi...</td>\n",
              "      <td>In a postapocalyptic world, rag-doll robots hi...</td>\n",
              "      <td>2017</td>\n",
              "      <td>November</td>\n",
              "      <td>False</td>\n",
              "      <td>Teens</td>\n",
              "    </tr>\n",
              "    <tr>\n",
              "      <th>4</th>\n",
              "      <td>s5</td>\n",
              "      <td>Movie</td>\n",
              "      <td>21</td>\n",
              "      <td>Robert Luketic</td>\n",
              "      <td>Jim Sturgess, Kevin Spacey, Kate Bosworth, Aar...</td>\n",
              "      <td>United States</td>\n",
              "      <td>January 1, 2020</td>\n",
              "      <td>2008</td>\n",
              "      <td>PG-13</td>\n",
              "      <td>123 min</td>\n",
              "      <td>Dramas</td>\n",
              "      <td>A brilliant group of students become card-coun...</td>\n",
              "      <td>2020</td>\n",
              "      <td>January</td>\n",
              "      <td>False</td>\n",
              "      <td>Teens</td>\n",
              "    </tr>\n",
              "  </tbody>\n",
              "</table>\n",
              "</div>\n",
              "      <button class=\"colab-df-convert\" onclick=\"convertToInteractive('df-38a65524-4924-4296-a1c4-f0344f4acc53')\"\n",
              "              title=\"Convert this dataframe to an interactive table.\"\n",
              "              style=\"display:none;\">\n",
              "        \n",
              "  <svg xmlns=\"http://www.w3.org/2000/svg\" height=\"24px\"viewBox=\"0 0 24 24\"\n",
              "       width=\"24px\">\n",
              "    <path d=\"M0 0h24v24H0V0z\" fill=\"none\"/>\n",
              "    <path d=\"M18.56 5.44l.94 2.06.94-2.06 2.06-.94-2.06-.94-.94-2.06-.94 2.06-2.06.94zm-11 1L8.5 8.5l.94-2.06 2.06-.94-2.06-.94L8.5 2.5l-.94 2.06-2.06.94zm10 10l.94 2.06.94-2.06 2.06-.94-2.06-.94-.94-2.06-.94 2.06-2.06.94z\"/><path d=\"M17.41 7.96l-1.37-1.37c-.4-.4-.92-.59-1.43-.59-.52 0-1.04.2-1.43.59L10.3 9.45l-7.72 7.72c-.78.78-.78 2.05 0 2.83L4 21.41c.39.39.9.59 1.41.59.51 0 1.02-.2 1.41-.59l7.78-7.78 2.81-2.81c.8-.78.8-2.07 0-2.86zM5.41 20L4 18.59l7.72-7.72 1.47 1.35L5.41 20z\"/>\n",
              "  </svg>\n",
              "      </button>\n",
              "      \n",
              "  <style>\n",
              "    .colab-df-container {\n",
              "      display:flex;\n",
              "      flex-wrap:wrap;\n",
              "      gap: 12px;\n",
              "    }\n",
              "\n",
              "    .colab-df-convert {\n",
              "      background-color: #E8F0FE;\n",
              "      border: none;\n",
              "      border-radius: 50%;\n",
              "      cursor: pointer;\n",
              "      display: none;\n",
              "      fill: #1967D2;\n",
              "      height: 32px;\n",
              "      padding: 0 0 0 0;\n",
              "      width: 32px;\n",
              "    }\n",
              "\n",
              "    .colab-df-convert:hover {\n",
              "      background-color: #E2EBFA;\n",
              "      box-shadow: 0px 1px 2px rgba(60, 64, 67, 0.3), 0px 1px 3px 1px rgba(60, 64, 67, 0.15);\n",
              "      fill: #174EA6;\n",
              "    }\n",
              "\n",
              "    [theme=dark] .colab-df-convert {\n",
              "      background-color: #3B4455;\n",
              "      fill: #D2E3FC;\n",
              "    }\n",
              "\n",
              "    [theme=dark] .colab-df-convert:hover {\n",
              "      background-color: #434B5C;\n",
              "      box-shadow: 0px 1px 3px 1px rgba(0, 0, 0, 0.15);\n",
              "      filter: drop-shadow(0px 1px 2px rgba(0, 0, 0, 0.3));\n",
              "      fill: #FFFFFF;\n",
              "    }\n",
              "  </style>\n",
              "\n",
              "      <script>\n",
              "        const buttonEl =\n",
              "          document.querySelector('#df-38a65524-4924-4296-a1c4-f0344f4acc53 button.colab-df-convert');\n",
              "        buttonEl.style.display =\n",
              "          google.colab.kernel.accessAllowed ? 'block' : 'none';\n",
              "\n",
              "        async function convertToInteractive(key) {\n",
              "          const element = document.querySelector('#df-38a65524-4924-4296-a1c4-f0344f4acc53');\n",
              "          const dataTable =\n",
              "            await google.colab.kernel.invokeFunction('convertToInteractive',\n",
              "                                                     [key], {});\n",
              "          if (!dataTable) return;\n",
              "\n",
              "          const docLinkHtml = 'Like what you see? Visit the ' +\n",
              "            '<a target=\"_blank\" href=https://colab.research.google.com/notebooks/data_table.ipynb>data table notebook</a>'\n",
              "            + ' to learn more about interactive tables.';\n",
              "          element.innerHTML = '';\n",
              "          dataTable['output_type'] = 'display_data';\n",
              "          await google.colab.output.renderOutput(dataTable, element);\n",
              "          const docLink = document.createElement('div');\n",
              "          docLink.innerHTML = docLinkHtml;\n",
              "          element.appendChild(docLink);\n",
              "        }\n",
              "      </script>\n",
              "    </div>\n",
              "  </div>\n",
              "  "
            ]
          },
          "metadata": {},
          "execution_count": 33
        }
      ]
    },
    {
      "cell_type": "code",
      "source": [
        "nf_movies = nf[nf['type']=='Movie'].copy()\n",
        "nf_movies.duration = nf_movies.duration.str.replace(' min','').astype(int)\n",
        "nf_movies.head()"
      ],
      "metadata": {
        "colab": {
          "base_uri": "https://localhost:8080/",
          "height": 511
        },
        "id": "u8lCAj4_Hly2",
        "outputId": "1b7d19d6-a2da-4ba6-9359-49f5aab70c6b"
      },
      "execution_count": null,
      "outputs": [
        {
          "output_type": "execute_result",
          "data": {
            "text/plain": [
              "  show_id   type  title           director  \\\n",
              "1      s2  Movie   7:19  Jorge Michel Grau   \n",
              "2      s3  Movie  23:59       Gilbert Chan   \n",
              "3      s4  Movie      9        Shane Acker   \n",
              "4      s5  Movie     21     Robert Luketic   \n",
              "6      s7  Movie    122    Yasir Al Yasiri   \n",
              "\n",
              "                                                cast        country  \\\n",
              "1  Demián Bichir, Héctor Bonilla, Oscar Serrano, ...         Mexico   \n",
              "2  Tedd Chan, Stella Chung, Henley Hii, Lawrence ...      Singapore   \n",
              "3  Elijah Wood, John C. Reilly, Jennifer Connelly...  United States   \n",
              "4  Jim Sturgess, Kevin Spacey, Kate Bosworth, Aar...  United States   \n",
              "6  Amina Khalil, Ahmed Dawood, Tarek Lotfy, Ahmed...          Egypt   \n",
              "\n",
              "          date_added  release_year rating  duration  \\\n",
              "1  December 23, 2016          2016  TV-MA        93   \n",
              "2  December 20, 2018          2011      R        78   \n",
              "3  November 16, 2017          2009  PG-13        80   \n",
              "4    January 1, 2020          2008  PG-13       123   \n",
              "6       June 1, 2020          2019  TV-MA        95   \n",
              "\n",
              "                                              genres  \\\n",
              "1                                             Dramas   \n",
              "2                                      Horror Movies   \n",
              "3  Action & Adventure, Independent Movies, Sci-Fi...   \n",
              "4                                             Dramas   \n",
              "6                                      Horror Movies   \n",
              "\n",
              "                                         description  year_added month_added  \\\n",
              "1  After a devastating earthquake hits Mexico Cit...        2016    December   \n",
              "2  When an army recruit is found dead, his fellow...        2018    December   \n",
              "3  In a postapocalyptic world, rag-doll robots hi...        2017    November   \n",
              "4  A brilliant group of students become card-coun...        2020     January   \n",
              "6  After an awful accident, a couple admitted to ...        2020        June   \n",
              "\n",
              "   international ratings_cat  \n",
              "1           True      Adults  \n",
              "2           True      Adults  \n",
              "3          False       Teens  \n",
              "4          False       Teens  \n",
              "6           True      Adults  "
            ],
            "text/html": [
              "\n",
              "  <div id=\"df-479805d7-cb06-4f0c-b825-829645a2bed9\">\n",
              "    <div class=\"colab-df-container\">\n",
              "      <div>\n",
              "<style scoped>\n",
              "    .dataframe tbody tr th:only-of-type {\n",
              "        vertical-align: middle;\n",
              "    }\n",
              "\n",
              "    .dataframe tbody tr th {\n",
              "        vertical-align: top;\n",
              "    }\n",
              "\n",
              "    .dataframe thead th {\n",
              "        text-align: right;\n",
              "    }\n",
              "</style>\n",
              "<table border=\"1\" class=\"dataframe\">\n",
              "  <thead>\n",
              "    <tr style=\"text-align: right;\">\n",
              "      <th></th>\n",
              "      <th>show_id</th>\n",
              "      <th>type</th>\n",
              "      <th>title</th>\n",
              "      <th>director</th>\n",
              "      <th>cast</th>\n",
              "      <th>country</th>\n",
              "      <th>date_added</th>\n",
              "      <th>release_year</th>\n",
              "      <th>rating</th>\n",
              "      <th>duration</th>\n",
              "      <th>genres</th>\n",
              "      <th>description</th>\n",
              "      <th>year_added</th>\n",
              "      <th>month_added</th>\n",
              "      <th>international</th>\n",
              "      <th>ratings_cat</th>\n",
              "    </tr>\n",
              "  </thead>\n",
              "  <tbody>\n",
              "    <tr>\n",
              "      <th>1</th>\n",
              "      <td>s2</td>\n",
              "      <td>Movie</td>\n",
              "      <td>7:19</td>\n",
              "      <td>Jorge Michel Grau</td>\n",
              "      <td>Demián Bichir, Héctor Bonilla, Oscar Serrano, ...</td>\n",
              "      <td>Mexico</td>\n",
              "      <td>December 23, 2016</td>\n",
              "      <td>2016</td>\n",
              "      <td>TV-MA</td>\n",
              "      <td>93</td>\n",
              "      <td>Dramas</td>\n",
              "      <td>After a devastating earthquake hits Mexico Cit...</td>\n",
              "      <td>2016</td>\n",
              "      <td>December</td>\n",
              "      <td>True</td>\n",
              "      <td>Adults</td>\n",
              "    </tr>\n",
              "    <tr>\n",
              "      <th>2</th>\n",
              "      <td>s3</td>\n",
              "      <td>Movie</td>\n",
              "      <td>23:59</td>\n",
              "      <td>Gilbert Chan</td>\n",
              "      <td>Tedd Chan, Stella Chung, Henley Hii, Lawrence ...</td>\n",
              "      <td>Singapore</td>\n",
              "      <td>December 20, 2018</td>\n",
              "      <td>2011</td>\n",
              "      <td>R</td>\n",
              "      <td>78</td>\n",
              "      <td>Horror Movies</td>\n",
              "      <td>When an army recruit is found dead, his fellow...</td>\n",
              "      <td>2018</td>\n",
              "      <td>December</td>\n",
              "      <td>True</td>\n",
              "      <td>Adults</td>\n",
              "    </tr>\n",
              "    <tr>\n",
              "      <th>3</th>\n",
              "      <td>s4</td>\n",
              "      <td>Movie</td>\n",
              "      <td>9</td>\n",
              "      <td>Shane Acker</td>\n",
              "      <td>Elijah Wood, John C. Reilly, Jennifer Connelly...</td>\n",
              "      <td>United States</td>\n",
              "      <td>November 16, 2017</td>\n",
              "      <td>2009</td>\n",
              "      <td>PG-13</td>\n",
              "      <td>80</td>\n",
              "      <td>Action &amp; Adventure, Independent Movies, Sci-Fi...</td>\n",
              "      <td>In a postapocalyptic world, rag-doll robots hi...</td>\n",
              "      <td>2017</td>\n",
              "      <td>November</td>\n",
              "      <td>False</td>\n",
              "      <td>Teens</td>\n",
              "    </tr>\n",
              "    <tr>\n",
              "      <th>4</th>\n",
              "      <td>s5</td>\n",
              "      <td>Movie</td>\n",
              "      <td>21</td>\n",
              "      <td>Robert Luketic</td>\n",
              "      <td>Jim Sturgess, Kevin Spacey, Kate Bosworth, Aar...</td>\n",
              "      <td>United States</td>\n",
              "      <td>January 1, 2020</td>\n",
              "      <td>2008</td>\n",
              "      <td>PG-13</td>\n",
              "      <td>123</td>\n",
              "      <td>Dramas</td>\n",
              "      <td>A brilliant group of students become card-coun...</td>\n",
              "      <td>2020</td>\n",
              "      <td>January</td>\n",
              "      <td>False</td>\n",
              "      <td>Teens</td>\n",
              "    </tr>\n",
              "    <tr>\n",
              "      <th>6</th>\n",
              "      <td>s7</td>\n",
              "      <td>Movie</td>\n",
              "      <td>122</td>\n",
              "      <td>Yasir Al Yasiri</td>\n",
              "      <td>Amina Khalil, Ahmed Dawood, Tarek Lotfy, Ahmed...</td>\n",
              "      <td>Egypt</td>\n",
              "      <td>June 1, 2020</td>\n",
              "      <td>2019</td>\n",
              "      <td>TV-MA</td>\n",
              "      <td>95</td>\n",
              "      <td>Horror Movies</td>\n",
              "      <td>After an awful accident, a couple admitted to ...</td>\n",
              "      <td>2020</td>\n",
              "      <td>June</td>\n",
              "      <td>True</td>\n",
              "      <td>Adults</td>\n",
              "    </tr>\n",
              "  </tbody>\n",
              "</table>\n",
              "</div>\n",
              "      <button class=\"colab-df-convert\" onclick=\"convertToInteractive('df-479805d7-cb06-4f0c-b825-829645a2bed9')\"\n",
              "              title=\"Convert this dataframe to an interactive table.\"\n",
              "              style=\"display:none;\">\n",
              "        \n",
              "  <svg xmlns=\"http://www.w3.org/2000/svg\" height=\"24px\"viewBox=\"0 0 24 24\"\n",
              "       width=\"24px\">\n",
              "    <path d=\"M0 0h24v24H0V0z\" fill=\"none\"/>\n",
              "    <path d=\"M18.56 5.44l.94 2.06.94-2.06 2.06-.94-2.06-.94-.94-2.06-.94 2.06-2.06.94zm-11 1L8.5 8.5l.94-2.06 2.06-.94-2.06-.94L8.5 2.5l-.94 2.06-2.06.94zm10 10l.94 2.06.94-2.06 2.06-.94-2.06-.94-.94-2.06-.94 2.06-2.06.94z\"/><path d=\"M17.41 7.96l-1.37-1.37c-.4-.4-.92-.59-1.43-.59-.52 0-1.04.2-1.43.59L10.3 9.45l-7.72 7.72c-.78.78-.78 2.05 0 2.83L4 21.41c.39.39.9.59 1.41.59.51 0 1.02-.2 1.41-.59l7.78-7.78 2.81-2.81c.8-.78.8-2.07 0-2.86zM5.41 20L4 18.59l7.72-7.72 1.47 1.35L5.41 20z\"/>\n",
              "  </svg>\n",
              "      </button>\n",
              "      \n",
              "  <style>\n",
              "    .colab-df-container {\n",
              "      display:flex;\n",
              "      flex-wrap:wrap;\n",
              "      gap: 12px;\n",
              "    }\n",
              "\n",
              "    .colab-df-convert {\n",
              "      background-color: #E8F0FE;\n",
              "      border: none;\n",
              "      border-radius: 50%;\n",
              "      cursor: pointer;\n",
              "      display: none;\n",
              "      fill: #1967D2;\n",
              "      height: 32px;\n",
              "      padding: 0 0 0 0;\n",
              "      width: 32px;\n",
              "    }\n",
              "\n",
              "    .colab-df-convert:hover {\n",
              "      background-color: #E2EBFA;\n",
              "      box-shadow: 0px 1px 2px rgba(60, 64, 67, 0.3), 0px 1px 3px 1px rgba(60, 64, 67, 0.15);\n",
              "      fill: #174EA6;\n",
              "    }\n",
              "\n",
              "    [theme=dark] .colab-df-convert {\n",
              "      background-color: #3B4455;\n",
              "      fill: #D2E3FC;\n",
              "    }\n",
              "\n",
              "    [theme=dark] .colab-df-convert:hover {\n",
              "      background-color: #434B5C;\n",
              "      box-shadow: 0px 1px 3px 1px rgba(0, 0, 0, 0.15);\n",
              "      filter: drop-shadow(0px 1px 2px rgba(0, 0, 0, 0.3));\n",
              "      fill: #FFFFFF;\n",
              "    }\n",
              "  </style>\n",
              "\n",
              "      <script>\n",
              "        const buttonEl =\n",
              "          document.querySelector('#df-479805d7-cb06-4f0c-b825-829645a2bed9 button.colab-df-convert');\n",
              "        buttonEl.style.display =\n",
              "          google.colab.kernel.accessAllowed ? 'block' : 'none';\n",
              "\n",
              "        async function convertToInteractive(key) {\n",
              "          const element = document.querySelector('#df-479805d7-cb06-4f0c-b825-829645a2bed9');\n",
              "          const dataTable =\n",
              "            await google.colab.kernel.invokeFunction('convertToInteractive',\n",
              "                                                     [key], {});\n",
              "          if (!dataTable) return;\n",
              "\n",
              "          const docLinkHtml = 'Like what you see? Visit the ' +\n",
              "            '<a target=\"_blank\" href=https://colab.research.google.com/notebooks/data_table.ipynb>data table notebook</a>'\n",
              "            + ' to learn more about interactive tables.';\n",
              "          element.innerHTML = '';\n",
              "          dataTable['output_type'] = 'display_data';\n",
              "          await google.colab.output.renderOutput(dataTable, element);\n",
              "          const docLink = document.createElement('div');\n",
              "          docLink.innerHTML = docLinkHtml;\n",
              "          element.appendChild(docLink);\n",
              "        }\n",
              "      </script>\n",
              "    </div>\n",
              "  </div>\n",
              "  "
            ]
          },
          "metadata": {},
          "execution_count": 34
        }
      ]
    },
    {
      "cell_type": "markdown",
      "source": [
        "In the duration column, there appears to be a discrepancy between movies and shows. Movies are based on the duration of the movie and shows are based on the number of seasons. To make EDA easier, we will convert the values in these columns into integers for both the movies and shows datasets."
      ],
      "metadata": {
        "id": "wUEPShqsu2n6"
      }
    },
    {
      "cell_type": "code",
      "source": [
        "nf_shows = nf[nf['type']=='TV Show'].copy()\n",
        "nf_shows.rename(columns={'duration':'seasons'}, inplace=True)\n",
        "nf_shows.replace({'seasons':{'1 Season':'1 Seasons'}}, inplace=True)\n",
        "nf_shows.seasons = nf_shows.seasons.str.replace(' Seasons','').astype(int)\n",
        "nf_shows.head()"
      ],
      "metadata": {
        "colab": {
          "base_uri": "https://localhost:8080/",
          "height": 493
        },
        "id": "xBNWERgqHl3I",
        "outputId": "73085c78-d6d5-4a26-dcec-5a981b8910c7"
      },
      "execution_count": null,
      "outputs": [
        {
          "output_type": "execute_result",
          "data": {
            "text/plain": [
              "   show_id     type   title              director  \\\n",
              "0       s1  TV Show      3%           No Director   \n",
              "5       s6  TV Show      46           Serdar Akar   \n",
              "11     s12  TV Show    1983           No Director   \n",
              "12     s13  TV Show    1994  Diego Enrique Osorno   \n",
              "16     s17  TV Show  Feb-09           No Director   \n",
              "\n",
              "                                                 cast                country  \\\n",
              "0   João Miguel, Bianca Comparato, Michel Gomes, R...                 Brazil   \n",
              "5   Erdal Beşikçioğlu, Yasemin Allen, Melis Birkan...                 Turkey   \n",
              "11  Robert Więckiewicz, Maciej Musiał, Michalina O...  Poland, United States   \n",
              "12                                            No Cast                 Mexico   \n",
              "16  Shahd El Yaseen, Shaila Sabt, Hala, Hanadi Al-...    Country Unavailable   \n",
              "\n",
              "           date_added  release_year rating  seasons  \\\n",
              "0     August 14, 2020          2020  TV-MA        4   \n",
              "5        July 1, 2017          2016  TV-MA        1   \n",
              "11  November 30, 2018          2018  TV-MA        1   \n",
              "12       May 17, 2019          2019  TV-MA        1   \n",
              "16     March 20, 2019          2018  TV-14        1   \n",
              "\n",
              "                            genres  \\\n",
              "0   TV Dramas, TV Sci-Fi & Fantasy   \n",
              "5          TV Dramas, TV Mysteries   \n",
              "11       Crime TV Shows, TV Dramas   \n",
              "12      Crime TV Shows, Docuseries   \n",
              "16                       TV Dramas   \n",
              "\n",
              "                                          description  year_added month_added  \\\n",
              "0   In a future where the elite inhabit an island ...        2020      August   \n",
              "5   A genetics professor experiments with a treatm...        2017        July   \n",
              "11  In this dark alt-history thriller, a naïve law...        2018    November   \n",
              "12  Archival video and new interviews examine Mexi...        2019         May   \n",
              "16  As a psychology professor faces Alzheimer's, h...        2019       March   \n",
              "\n",
              "    international ratings_cat  \n",
              "0            True      Adults  \n",
              "5            True      Adults  \n",
              "11           True      Adults  \n",
              "12           True      Adults  \n",
              "16           True       Teens  "
            ],
            "text/html": [
              "\n",
              "  <div id=\"df-d5772c20-2f08-4512-bc19-26665c3bcb9b\">\n",
              "    <div class=\"colab-df-container\">\n",
              "      <div>\n",
              "<style scoped>\n",
              "    .dataframe tbody tr th:only-of-type {\n",
              "        vertical-align: middle;\n",
              "    }\n",
              "\n",
              "    .dataframe tbody tr th {\n",
              "        vertical-align: top;\n",
              "    }\n",
              "\n",
              "    .dataframe thead th {\n",
              "        text-align: right;\n",
              "    }\n",
              "</style>\n",
              "<table border=\"1\" class=\"dataframe\">\n",
              "  <thead>\n",
              "    <tr style=\"text-align: right;\">\n",
              "      <th></th>\n",
              "      <th>show_id</th>\n",
              "      <th>type</th>\n",
              "      <th>title</th>\n",
              "      <th>director</th>\n",
              "      <th>cast</th>\n",
              "      <th>country</th>\n",
              "      <th>date_added</th>\n",
              "      <th>release_year</th>\n",
              "      <th>rating</th>\n",
              "      <th>seasons</th>\n",
              "      <th>genres</th>\n",
              "      <th>description</th>\n",
              "      <th>year_added</th>\n",
              "      <th>month_added</th>\n",
              "      <th>international</th>\n",
              "      <th>ratings_cat</th>\n",
              "    </tr>\n",
              "  </thead>\n",
              "  <tbody>\n",
              "    <tr>\n",
              "      <th>0</th>\n",
              "      <td>s1</td>\n",
              "      <td>TV Show</td>\n",
              "      <td>3%</td>\n",
              "      <td>No Director</td>\n",
              "      <td>João Miguel, Bianca Comparato, Michel Gomes, R...</td>\n",
              "      <td>Brazil</td>\n",
              "      <td>August 14, 2020</td>\n",
              "      <td>2020</td>\n",
              "      <td>TV-MA</td>\n",
              "      <td>4</td>\n",
              "      <td>TV Dramas, TV Sci-Fi &amp; Fantasy</td>\n",
              "      <td>In a future where the elite inhabit an island ...</td>\n",
              "      <td>2020</td>\n",
              "      <td>August</td>\n",
              "      <td>True</td>\n",
              "      <td>Adults</td>\n",
              "    </tr>\n",
              "    <tr>\n",
              "      <th>5</th>\n",
              "      <td>s6</td>\n",
              "      <td>TV Show</td>\n",
              "      <td>46</td>\n",
              "      <td>Serdar Akar</td>\n",
              "      <td>Erdal Beşikçioğlu, Yasemin Allen, Melis Birkan...</td>\n",
              "      <td>Turkey</td>\n",
              "      <td>July 1, 2017</td>\n",
              "      <td>2016</td>\n",
              "      <td>TV-MA</td>\n",
              "      <td>1</td>\n",
              "      <td>TV Dramas, TV Mysteries</td>\n",
              "      <td>A genetics professor experiments with a treatm...</td>\n",
              "      <td>2017</td>\n",
              "      <td>July</td>\n",
              "      <td>True</td>\n",
              "      <td>Adults</td>\n",
              "    </tr>\n",
              "    <tr>\n",
              "      <th>11</th>\n",
              "      <td>s12</td>\n",
              "      <td>TV Show</td>\n",
              "      <td>1983</td>\n",
              "      <td>No Director</td>\n",
              "      <td>Robert Więckiewicz, Maciej Musiał, Michalina O...</td>\n",
              "      <td>Poland, United States</td>\n",
              "      <td>November 30, 2018</td>\n",
              "      <td>2018</td>\n",
              "      <td>TV-MA</td>\n",
              "      <td>1</td>\n",
              "      <td>Crime TV Shows, TV Dramas</td>\n",
              "      <td>In this dark alt-history thriller, a naïve law...</td>\n",
              "      <td>2018</td>\n",
              "      <td>November</td>\n",
              "      <td>True</td>\n",
              "      <td>Adults</td>\n",
              "    </tr>\n",
              "    <tr>\n",
              "      <th>12</th>\n",
              "      <td>s13</td>\n",
              "      <td>TV Show</td>\n",
              "      <td>1994</td>\n",
              "      <td>Diego Enrique Osorno</td>\n",
              "      <td>No Cast</td>\n",
              "      <td>Mexico</td>\n",
              "      <td>May 17, 2019</td>\n",
              "      <td>2019</td>\n",
              "      <td>TV-MA</td>\n",
              "      <td>1</td>\n",
              "      <td>Crime TV Shows, Docuseries</td>\n",
              "      <td>Archival video and new interviews examine Mexi...</td>\n",
              "      <td>2019</td>\n",
              "      <td>May</td>\n",
              "      <td>True</td>\n",
              "      <td>Adults</td>\n",
              "    </tr>\n",
              "    <tr>\n",
              "      <th>16</th>\n",
              "      <td>s17</td>\n",
              "      <td>TV Show</td>\n",
              "      <td>Feb-09</td>\n",
              "      <td>No Director</td>\n",
              "      <td>Shahd El Yaseen, Shaila Sabt, Hala, Hanadi Al-...</td>\n",
              "      <td>Country Unavailable</td>\n",
              "      <td>March 20, 2019</td>\n",
              "      <td>2018</td>\n",
              "      <td>TV-14</td>\n",
              "      <td>1</td>\n",
              "      <td>TV Dramas</td>\n",
              "      <td>As a psychology professor faces Alzheimer's, h...</td>\n",
              "      <td>2019</td>\n",
              "      <td>March</td>\n",
              "      <td>True</td>\n",
              "      <td>Teens</td>\n",
              "    </tr>\n",
              "  </tbody>\n",
              "</table>\n",
              "</div>\n",
              "      <button class=\"colab-df-convert\" onclick=\"convertToInteractive('df-d5772c20-2f08-4512-bc19-26665c3bcb9b')\"\n",
              "              title=\"Convert this dataframe to an interactive table.\"\n",
              "              style=\"display:none;\">\n",
              "        \n",
              "  <svg xmlns=\"http://www.w3.org/2000/svg\" height=\"24px\"viewBox=\"0 0 24 24\"\n",
              "       width=\"24px\">\n",
              "    <path d=\"M0 0h24v24H0V0z\" fill=\"none\"/>\n",
              "    <path d=\"M18.56 5.44l.94 2.06.94-2.06 2.06-.94-2.06-.94-.94-2.06-.94 2.06-2.06.94zm-11 1L8.5 8.5l.94-2.06 2.06-.94-2.06-.94L8.5 2.5l-.94 2.06-2.06.94zm10 10l.94 2.06.94-2.06 2.06-.94-2.06-.94-.94-2.06-.94 2.06-2.06.94z\"/><path d=\"M17.41 7.96l-1.37-1.37c-.4-.4-.92-.59-1.43-.59-.52 0-1.04.2-1.43.59L10.3 9.45l-7.72 7.72c-.78.78-.78 2.05 0 2.83L4 21.41c.39.39.9.59 1.41.59.51 0 1.02-.2 1.41-.59l7.78-7.78 2.81-2.81c.8-.78.8-2.07 0-2.86zM5.41 20L4 18.59l7.72-7.72 1.47 1.35L5.41 20z\"/>\n",
              "  </svg>\n",
              "      </button>\n",
              "      \n",
              "  <style>\n",
              "    .colab-df-container {\n",
              "      display:flex;\n",
              "      flex-wrap:wrap;\n",
              "      gap: 12px;\n",
              "    }\n",
              "\n",
              "    .colab-df-convert {\n",
              "      background-color: #E8F0FE;\n",
              "      border: none;\n",
              "      border-radius: 50%;\n",
              "      cursor: pointer;\n",
              "      display: none;\n",
              "      fill: #1967D2;\n",
              "      height: 32px;\n",
              "      padding: 0 0 0 0;\n",
              "      width: 32px;\n",
              "    }\n",
              "\n",
              "    .colab-df-convert:hover {\n",
              "      background-color: #E2EBFA;\n",
              "      box-shadow: 0px 1px 2px rgba(60, 64, 67, 0.3), 0px 1px 3px 1px rgba(60, 64, 67, 0.15);\n",
              "      fill: #174EA6;\n",
              "    }\n",
              "\n",
              "    [theme=dark] .colab-df-convert {\n",
              "      background-color: #3B4455;\n",
              "      fill: #D2E3FC;\n",
              "    }\n",
              "\n",
              "    [theme=dark] .colab-df-convert:hover {\n",
              "      background-color: #434B5C;\n",
              "      box-shadow: 0px 1px 3px 1px rgba(0, 0, 0, 0.15);\n",
              "      filter: drop-shadow(0px 1px 2px rgba(0, 0, 0, 0.3));\n",
              "      fill: #FFFFFF;\n",
              "    }\n",
              "  </style>\n",
              "\n",
              "      <script>\n",
              "        const buttonEl =\n",
              "          document.querySelector('#df-d5772c20-2f08-4512-bc19-26665c3bcb9b button.colab-df-convert');\n",
              "        buttonEl.style.display =\n",
              "          google.colab.kernel.accessAllowed ? 'block' : 'none';\n",
              "\n",
              "        async function convertToInteractive(key) {\n",
              "          const element = document.querySelector('#df-d5772c20-2f08-4512-bc19-26665c3bcb9b');\n",
              "          const dataTable =\n",
              "            await google.colab.kernel.invokeFunction('convertToInteractive',\n",
              "                                                     [key], {});\n",
              "          if (!dataTable) return;\n",
              "\n",
              "          const docLinkHtml = 'Like what you see? Visit the ' +\n",
              "            '<a target=\"_blank\" href=https://colab.research.google.com/notebooks/data_table.ipynb>data table notebook</a>'\n",
              "            + ' to learn more about interactive tables.';\n",
              "          element.innerHTML = '';\n",
              "          dataTable['output_type'] = 'display_data';\n",
              "          await google.colab.output.renderOutput(dataTable, element);\n",
              "          const docLink = document.createElement('div');\n",
              "          docLink.innerHTML = docLinkHtml;\n",
              "          element.appendChild(docLink);\n",
              "        }\n",
              "      </script>\n",
              "    </div>\n",
              "  </div>\n",
              "  "
            ]
          },
          "metadata": {},
          "execution_count": 35
        }
      ]
    },
    {
      "cell_type": "markdown",
      "source": [
        "###<B>Removing punctuations\n"
      ],
      "metadata": {
        "id": "2aPa0mpdmEa3"
      }
    },
    {
      "cell_type": "code",
      "source": [
        "def remove_punctuation(text):\n",
        "    '''a function for removing punctuation'''\n",
        "    import string\n",
        "    # replacing the punctuations with no space, \n",
        "    # which in effect deletes the punctuation marks \n",
        "    translator = str.maketrans('', '', string.punctuation)\n",
        "    # return the text stripped of punctuation marks\n",
        "    return text.translate(translator)"
      ],
      "metadata": {
        "id": "neiOrEKtmH_p"
      },
      "execution_count": null,
      "outputs": []
    },
    {
      "cell_type": "code",
      "source": [
        "nf['description'] = nf['description'].apply(remove_punctuation)\n",
        "nf.head()"
      ],
      "metadata": {
        "id": "7_G12VMbmPmf",
        "outputId": "8ad26d17-5c14-4ed0-cb4e-a9536f0753c0",
        "colab": {
          "base_uri": "https://localhost:8080/",
          "height": 337
        }
      },
      "execution_count": null,
      "outputs": [
        {
          "output_type": "execute_result",
          "data": {
            "text/plain": [
              "  show_id     type  title           director  \\\n",
              "0      s1  TV Show     3%                NaN   \n",
              "1      s2    Movie   7:19  Jorge Michel Grau   \n",
              "2      s3    Movie  23:59       Gilbert Chan   \n",
              "3      s4    Movie      9        Shane Acker   \n",
              "4      s5    Movie     21     Robert Luketic   \n",
              "\n",
              "                                                cast        country  \\\n",
              "0  João Miguel, Bianca Comparato, Michel Gomes, R...         Brazil   \n",
              "1  Demián Bichir, Héctor Bonilla, Oscar Serrano, ...         Mexico   \n",
              "2  Tedd Chan, Stella Chung, Henley Hii, Lawrence ...      Singapore   \n",
              "3  Elijah Wood, John C. Reilly, Jennifer Connelly...  United States   \n",
              "4  Jim Sturgess, Kevin Spacey, Kate Bosworth, Aar...  United States   \n",
              "\n",
              "          date_added  release_year rating   duration  \\\n",
              "0    August 14, 2020          2020  TV-MA  4 Seasons   \n",
              "1  December 23, 2016          2016  TV-MA     93 min   \n",
              "2  December 20, 2018          2011      R     78 min   \n",
              "3  November 16, 2017          2009  PG-13     80 min   \n",
              "4    January 1, 2020          2008  PG-13    123 min   \n",
              "\n",
              "                                           listed_in  \\\n",
              "0  International TV Shows, TV Dramas, TV Sci-Fi &...   \n",
              "1                       Dramas, International Movies   \n",
              "2                Horror Movies, International Movies   \n",
              "3  Action & Adventure, Independent Movies, Sci-Fi...   \n",
              "4                                             Dramas   \n",
              "\n",
              "                                         description  \n",
              "0  In a future where the elite inhabit an island ...  \n",
              "1  After a devastating earthquake hits Mexico Cit...  \n",
              "2  When an army recruit is found dead his fellow ...  \n",
              "3  In a postapocalyptic world ragdoll robots hide...  \n",
              "4  A brilliant group of students become cardcount...  "
            ],
            "text/html": [
              "\n",
              "  <div id=\"df-2c9243af-1c3f-4136-b596-d11364057041\">\n",
              "    <div class=\"colab-df-container\">\n",
              "      <div>\n",
              "<style scoped>\n",
              "    .dataframe tbody tr th:only-of-type {\n",
              "        vertical-align: middle;\n",
              "    }\n",
              "\n",
              "    .dataframe tbody tr th {\n",
              "        vertical-align: top;\n",
              "    }\n",
              "\n",
              "    .dataframe thead th {\n",
              "        text-align: right;\n",
              "    }\n",
              "</style>\n",
              "<table border=\"1\" class=\"dataframe\">\n",
              "  <thead>\n",
              "    <tr style=\"text-align: right;\">\n",
              "      <th></th>\n",
              "      <th>show_id</th>\n",
              "      <th>type</th>\n",
              "      <th>title</th>\n",
              "      <th>director</th>\n",
              "      <th>cast</th>\n",
              "      <th>country</th>\n",
              "      <th>date_added</th>\n",
              "      <th>release_year</th>\n",
              "      <th>rating</th>\n",
              "      <th>duration</th>\n",
              "      <th>listed_in</th>\n",
              "      <th>description</th>\n",
              "    </tr>\n",
              "  </thead>\n",
              "  <tbody>\n",
              "    <tr>\n",
              "      <th>0</th>\n",
              "      <td>s1</td>\n",
              "      <td>TV Show</td>\n",
              "      <td>3%</td>\n",
              "      <td>NaN</td>\n",
              "      <td>João Miguel, Bianca Comparato, Michel Gomes, R...</td>\n",
              "      <td>Brazil</td>\n",
              "      <td>August 14, 2020</td>\n",
              "      <td>2020</td>\n",
              "      <td>TV-MA</td>\n",
              "      <td>4 Seasons</td>\n",
              "      <td>International TV Shows, TV Dramas, TV Sci-Fi &amp;...</td>\n",
              "      <td>In a future where the elite inhabit an island ...</td>\n",
              "    </tr>\n",
              "    <tr>\n",
              "      <th>1</th>\n",
              "      <td>s2</td>\n",
              "      <td>Movie</td>\n",
              "      <td>7:19</td>\n",
              "      <td>Jorge Michel Grau</td>\n",
              "      <td>Demián Bichir, Héctor Bonilla, Oscar Serrano, ...</td>\n",
              "      <td>Mexico</td>\n",
              "      <td>December 23, 2016</td>\n",
              "      <td>2016</td>\n",
              "      <td>TV-MA</td>\n",
              "      <td>93 min</td>\n",
              "      <td>Dramas, International Movies</td>\n",
              "      <td>After a devastating earthquake hits Mexico Cit...</td>\n",
              "    </tr>\n",
              "    <tr>\n",
              "      <th>2</th>\n",
              "      <td>s3</td>\n",
              "      <td>Movie</td>\n",
              "      <td>23:59</td>\n",
              "      <td>Gilbert Chan</td>\n",
              "      <td>Tedd Chan, Stella Chung, Henley Hii, Lawrence ...</td>\n",
              "      <td>Singapore</td>\n",
              "      <td>December 20, 2018</td>\n",
              "      <td>2011</td>\n",
              "      <td>R</td>\n",
              "      <td>78 min</td>\n",
              "      <td>Horror Movies, International Movies</td>\n",
              "      <td>When an army recruit is found dead his fellow ...</td>\n",
              "    </tr>\n",
              "    <tr>\n",
              "      <th>3</th>\n",
              "      <td>s4</td>\n",
              "      <td>Movie</td>\n",
              "      <td>9</td>\n",
              "      <td>Shane Acker</td>\n",
              "      <td>Elijah Wood, John C. Reilly, Jennifer Connelly...</td>\n",
              "      <td>United States</td>\n",
              "      <td>November 16, 2017</td>\n",
              "      <td>2009</td>\n",
              "      <td>PG-13</td>\n",
              "      <td>80 min</td>\n",
              "      <td>Action &amp; Adventure, Independent Movies, Sci-Fi...</td>\n",
              "      <td>In a postapocalyptic world ragdoll robots hide...</td>\n",
              "    </tr>\n",
              "    <tr>\n",
              "      <th>4</th>\n",
              "      <td>s5</td>\n",
              "      <td>Movie</td>\n",
              "      <td>21</td>\n",
              "      <td>Robert Luketic</td>\n",
              "      <td>Jim Sturgess, Kevin Spacey, Kate Bosworth, Aar...</td>\n",
              "      <td>United States</td>\n",
              "      <td>January 1, 2020</td>\n",
              "      <td>2008</td>\n",
              "      <td>PG-13</td>\n",
              "      <td>123 min</td>\n",
              "      <td>Dramas</td>\n",
              "      <td>A brilliant group of students become cardcount...</td>\n",
              "    </tr>\n",
              "  </tbody>\n",
              "</table>\n",
              "</div>\n",
              "      <button class=\"colab-df-convert\" onclick=\"convertToInteractive('df-2c9243af-1c3f-4136-b596-d11364057041')\"\n",
              "              title=\"Convert this dataframe to an interactive table.\"\n",
              "              style=\"display:none;\">\n",
              "        \n",
              "  <svg xmlns=\"http://www.w3.org/2000/svg\" height=\"24px\"viewBox=\"0 0 24 24\"\n",
              "       width=\"24px\">\n",
              "    <path d=\"M0 0h24v24H0V0z\" fill=\"none\"/>\n",
              "    <path d=\"M18.56 5.44l.94 2.06.94-2.06 2.06-.94-2.06-.94-.94-2.06-.94 2.06-2.06.94zm-11 1L8.5 8.5l.94-2.06 2.06-.94-2.06-.94L8.5 2.5l-.94 2.06-2.06.94zm10 10l.94 2.06.94-2.06 2.06-.94-2.06-.94-.94-2.06-.94 2.06-2.06.94z\"/><path d=\"M17.41 7.96l-1.37-1.37c-.4-.4-.92-.59-1.43-.59-.52 0-1.04.2-1.43.59L10.3 9.45l-7.72 7.72c-.78.78-.78 2.05 0 2.83L4 21.41c.39.39.9.59 1.41.59.51 0 1.02-.2 1.41-.59l7.78-7.78 2.81-2.81c.8-.78.8-2.07 0-2.86zM5.41 20L4 18.59l7.72-7.72 1.47 1.35L5.41 20z\"/>\n",
              "  </svg>\n",
              "      </button>\n",
              "      \n",
              "  <style>\n",
              "    .colab-df-container {\n",
              "      display:flex;\n",
              "      flex-wrap:wrap;\n",
              "      gap: 12px;\n",
              "    }\n",
              "\n",
              "    .colab-df-convert {\n",
              "      background-color: #E8F0FE;\n",
              "      border: none;\n",
              "      border-radius: 50%;\n",
              "      cursor: pointer;\n",
              "      display: none;\n",
              "      fill: #1967D2;\n",
              "      height: 32px;\n",
              "      padding: 0 0 0 0;\n",
              "      width: 32px;\n",
              "    }\n",
              "\n",
              "    .colab-df-convert:hover {\n",
              "      background-color: #E2EBFA;\n",
              "      box-shadow: 0px 1px 2px rgba(60, 64, 67, 0.3), 0px 1px 3px 1px rgba(60, 64, 67, 0.15);\n",
              "      fill: #174EA6;\n",
              "    }\n",
              "\n",
              "    [theme=dark] .colab-df-convert {\n",
              "      background-color: #3B4455;\n",
              "      fill: #D2E3FC;\n",
              "    }\n",
              "\n",
              "    [theme=dark] .colab-df-convert:hover {\n",
              "      background-color: #434B5C;\n",
              "      box-shadow: 0px 1px 3px 1px rgba(0, 0, 0, 0.15);\n",
              "      filter: drop-shadow(0px 1px 2px rgba(0, 0, 0, 0.3));\n",
              "      fill: #FFFFFF;\n",
              "    }\n",
              "  </style>\n",
              "\n",
              "      <script>\n",
              "        const buttonEl =\n",
              "          document.querySelector('#df-2c9243af-1c3f-4136-b596-d11364057041 button.colab-df-convert');\n",
              "        buttonEl.style.display =\n",
              "          google.colab.kernel.accessAllowed ? 'block' : 'none';\n",
              "\n",
              "        async function convertToInteractive(key) {\n",
              "          const element = document.querySelector('#df-2c9243af-1c3f-4136-b596-d11364057041');\n",
              "          const dataTable =\n",
              "            await google.colab.kernel.invokeFunction('convertToInteractive',\n",
              "                                                     [key], {});\n",
              "          if (!dataTable) return;\n",
              "\n",
              "          const docLinkHtml = 'Like what you see? Visit the ' +\n",
              "            '<a target=\"_blank\" href=https://colab.research.google.com/notebooks/data_table.ipynb>data table notebook</a>'\n",
              "            + ' to learn more about interactive tables.';\n",
              "          element.innerHTML = '';\n",
              "          dataTable['output_type'] = 'display_data';\n",
              "          await google.colab.output.renderOutput(dataTable, element);\n",
              "          const docLink = document.createElement('div');\n",
              "          docLink.innerHTML = docLinkHtml;\n",
              "          element.appendChild(docLink);\n",
              "        }\n",
              "      </script>\n",
              "    </div>\n",
              "  </div>\n",
              "  "
            ]
          },
          "metadata": {},
          "execution_count": 53
        }
      ]
    },
    {
      "cell_type": "markdown",
      "source": [
        "##<B>Removing stopwords"
      ],
      "metadata": {
        "id": "FJyZKyyLmbe-"
      }
    },
    {
      "cell_type": "code",
      "source": [
        "# extracting the stopwords from nltk library\n",
        "sw = nltk.corpus.stopwords.words('english')\n",
        "# displaying the stopwords\n",
        "for i in sw:\n",
        "  print(i , end=',  ')"
      ],
      "metadata": {
        "id": "52jlwvZmmYKi",
        "outputId": "87224fdf-8b98-45c7-9748-e6f53ce2c6d5",
        "colab": {
          "base_uri": "https://localhost:8080/"
        }
      },
      "execution_count": null,
      "outputs": [
        {
          "output_type": "stream",
          "name": "stdout",
          "text": [
            "i,  me,  my,  myself,  we,  our,  ours,  ourselves,  you,  you're,  you've,  you'll,  you'd,  your,  yours,  yourself,  yourselves,  he,  him,  his,  himself,  she,  she's,  her,  hers,  herself,  it,  it's,  its,  itself,  they,  them,  their,  theirs,  themselves,  what,  which,  who,  whom,  this,  that,  that'll,  these,  those,  am,  is,  are,  was,  were,  be,  been,  being,  have,  has,  had,  having,  do,  does,  did,  doing,  a,  an,  the,  and,  but,  if,  or,  because,  as,  until,  while,  of,  at,  by,  for,  with,  about,  against,  between,  into,  through,  during,  before,  after,  above,  below,  to,  from,  up,  down,  in,  out,  on,  off,  over,  under,  again,  further,  then,  once,  here,  there,  when,  where,  why,  how,  all,  any,  both,  each,  few,  more,  most,  other,  some,  such,  no,  nor,  not,  only,  own,  same,  so,  than,  too,  very,  s,  t,  can,  will,  just,  don,  don't,  should,  should've,  now,  d,  ll,  m,  o,  re,  ve,  y,  ain,  aren,  aren't,  couldn,  couldn't,  didn,  didn't,  doesn,  doesn't,  hadn,  hadn't,  hasn,  hasn't,  haven,  haven't,  isn,  isn't,  ma,  mightn,  mightn't,  mustn,  mustn't,  needn,  needn't,  shan,  shan't,  shouldn,  shouldn't,  wasn,  wasn't,  weren,  weren't,  won,  won't,  wouldn,  wouldn't,  "
          ]
        }
      ]
    },
    {
      "cell_type": "code",
      "source": [
        "print(\"Number of stopwords in english : \", len(sw))\n"
      ],
      "metadata": {
        "id": "-TWI2F-DmtT0",
        "outputId": "20285700-a40f-4f95-b519-b14690710611",
        "colab": {
          "base_uri": "https://localhost:8080/"
        }
      },
      "execution_count": null,
      "outputs": [
        {
          "output_type": "stream",
          "name": "stdout",
          "text": [
            "Number of stopwords in english :  179\n"
          ]
        }
      ]
    },
    {
      "cell_type": "code",
      "source": [
        "def remove_stopwords(text):\n",
        "    '''a function for removing the stopword'''\n",
        "    # removing the stop words and lowercasing the selected words\n",
        "    #Method 1\n",
        "    text1 = [word.lower() for word in text.split() if word.lower() not in sw]\n",
        "    # joining the list of words with space separator\n",
        "    return \" \".join(text1)"
      ],
      "metadata": {
        "id": "aykbyHk6mxNX"
      },
      "execution_count": null,
      "outputs": []
    },
    {
      "cell_type": "code",
      "source": [
        "nf['description'] = nf['description'].apply( remove_stopwords )\n",
        "nf.head()"
      ],
      "metadata": {
        "id": "GDzgR9BkmxPV",
        "outputId": "20545996-876a-4193-ad50-06f3a4cec817",
        "colab": {
          "base_uri": "https://localhost:8080/",
          "height": 337
        }
      },
      "execution_count": null,
      "outputs": [
        {
          "output_type": "execute_result",
          "data": {
            "text/plain": [
              "  show_id     type  title           director  \\\n",
              "0      s1  TV Show     3%                NaN   \n",
              "1      s2    Movie   7:19  Jorge Michel Grau   \n",
              "2      s3    Movie  23:59       Gilbert Chan   \n",
              "3      s4    Movie      9        Shane Acker   \n",
              "4      s5    Movie     21     Robert Luketic   \n",
              "\n",
              "                                                cast        country  \\\n",
              "0  João Miguel, Bianca Comparato, Michel Gomes, R...         Brazil   \n",
              "1  Demián Bichir, Héctor Bonilla, Oscar Serrano, ...         Mexico   \n",
              "2  Tedd Chan, Stella Chung, Henley Hii, Lawrence ...      Singapore   \n",
              "3  Elijah Wood, John C. Reilly, Jennifer Connelly...  United States   \n",
              "4  Jim Sturgess, Kevin Spacey, Kate Bosworth, Aar...  United States   \n",
              "\n",
              "          date_added  release_year rating   duration  \\\n",
              "0    August 14, 2020          2020  TV-MA  4 Seasons   \n",
              "1  December 23, 2016          2016  TV-MA     93 min   \n",
              "2  December 20, 2018          2011      R     78 min   \n",
              "3  November 16, 2017          2009  PG-13     80 min   \n",
              "4    January 1, 2020          2008  PG-13    123 min   \n",
              "\n",
              "                                           listed_in  \\\n",
              "0  International TV Shows, TV Dramas, TV Sci-Fi &...   \n",
              "1                       Dramas, International Movies   \n",
              "2                Horror Movies, International Movies   \n",
              "3  Action & Adventure, Independent Movies, Sci-Fi...   \n",
              "4                                             Dramas   \n",
              "\n",
              "                                         description  \n",
              "0  future elite inhabit island paradise far crowd...  \n",
              "1  devastating earthquake hits mexico city trappe...  \n",
              "2  army recruit found dead fellow soldiers forced...  \n",
              "3  postapocalyptic world ragdoll robots hide fear...  \n",
              "4  brilliant group students become cardcounting e...  "
            ],
            "text/html": [
              "\n",
              "  <div id=\"df-63d4d39b-c697-4643-87ec-ef2ab1472abb\">\n",
              "    <div class=\"colab-df-container\">\n",
              "      <div>\n",
              "<style scoped>\n",
              "    .dataframe tbody tr th:only-of-type {\n",
              "        vertical-align: middle;\n",
              "    }\n",
              "\n",
              "    .dataframe tbody tr th {\n",
              "        vertical-align: top;\n",
              "    }\n",
              "\n",
              "    .dataframe thead th {\n",
              "        text-align: right;\n",
              "    }\n",
              "</style>\n",
              "<table border=\"1\" class=\"dataframe\">\n",
              "  <thead>\n",
              "    <tr style=\"text-align: right;\">\n",
              "      <th></th>\n",
              "      <th>show_id</th>\n",
              "      <th>type</th>\n",
              "      <th>title</th>\n",
              "      <th>director</th>\n",
              "      <th>cast</th>\n",
              "      <th>country</th>\n",
              "      <th>date_added</th>\n",
              "      <th>release_year</th>\n",
              "      <th>rating</th>\n",
              "      <th>duration</th>\n",
              "      <th>listed_in</th>\n",
              "      <th>description</th>\n",
              "    </tr>\n",
              "  </thead>\n",
              "  <tbody>\n",
              "    <tr>\n",
              "      <th>0</th>\n",
              "      <td>s1</td>\n",
              "      <td>TV Show</td>\n",
              "      <td>3%</td>\n",
              "      <td>NaN</td>\n",
              "      <td>João Miguel, Bianca Comparato, Michel Gomes, R...</td>\n",
              "      <td>Brazil</td>\n",
              "      <td>August 14, 2020</td>\n",
              "      <td>2020</td>\n",
              "      <td>TV-MA</td>\n",
              "      <td>4 Seasons</td>\n",
              "      <td>International TV Shows, TV Dramas, TV Sci-Fi &amp;...</td>\n",
              "      <td>future elite inhabit island paradise far crowd...</td>\n",
              "    </tr>\n",
              "    <tr>\n",
              "      <th>1</th>\n",
              "      <td>s2</td>\n",
              "      <td>Movie</td>\n",
              "      <td>7:19</td>\n",
              "      <td>Jorge Michel Grau</td>\n",
              "      <td>Demián Bichir, Héctor Bonilla, Oscar Serrano, ...</td>\n",
              "      <td>Mexico</td>\n",
              "      <td>December 23, 2016</td>\n",
              "      <td>2016</td>\n",
              "      <td>TV-MA</td>\n",
              "      <td>93 min</td>\n",
              "      <td>Dramas, International Movies</td>\n",
              "      <td>devastating earthquake hits mexico city trappe...</td>\n",
              "    </tr>\n",
              "    <tr>\n",
              "      <th>2</th>\n",
              "      <td>s3</td>\n",
              "      <td>Movie</td>\n",
              "      <td>23:59</td>\n",
              "      <td>Gilbert Chan</td>\n",
              "      <td>Tedd Chan, Stella Chung, Henley Hii, Lawrence ...</td>\n",
              "      <td>Singapore</td>\n",
              "      <td>December 20, 2018</td>\n",
              "      <td>2011</td>\n",
              "      <td>R</td>\n",
              "      <td>78 min</td>\n",
              "      <td>Horror Movies, International Movies</td>\n",
              "      <td>army recruit found dead fellow soldiers forced...</td>\n",
              "    </tr>\n",
              "    <tr>\n",
              "      <th>3</th>\n",
              "      <td>s4</td>\n",
              "      <td>Movie</td>\n",
              "      <td>9</td>\n",
              "      <td>Shane Acker</td>\n",
              "      <td>Elijah Wood, John C. Reilly, Jennifer Connelly...</td>\n",
              "      <td>United States</td>\n",
              "      <td>November 16, 2017</td>\n",
              "      <td>2009</td>\n",
              "      <td>PG-13</td>\n",
              "      <td>80 min</td>\n",
              "      <td>Action &amp; Adventure, Independent Movies, Sci-Fi...</td>\n",
              "      <td>postapocalyptic world ragdoll robots hide fear...</td>\n",
              "    </tr>\n",
              "    <tr>\n",
              "      <th>4</th>\n",
              "      <td>s5</td>\n",
              "      <td>Movie</td>\n",
              "      <td>21</td>\n",
              "      <td>Robert Luketic</td>\n",
              "      <td>Jim Sturgess, Kevin Spacey, Kate Bosworth, Aar...</td>\n",
              "      <td>United States</td>\n",
              "      <td>January 1, 2020</td>\n",
              "      <td>2008</td>\n",
              "      <td>PG-13</td>\n",
              "      <td>123 min</td>\n",
              "      <td>Dramas</td>\n",
              "      <td>brilliant group students become cardcounting e...</td>\n",
              "    </tr>\n",
              "  </tbody>\n",
              "</table>\n",
              "</div>\n",
              "      <button class=\"colab-df-convert\" onclick=\"convertToInteractive('df-63d4d39b-c697-4643-87ec-ef2ab1472abb')\"\n",
              "              title=\"Convert this dataframe to an interactive table.\"\n",
              "              style=\"display:none;\">\n",
              "        \n",
              "  <svg xmlns=\"http://www.w3.org/2000/svg\" height=\"24px\"viewBox=\"0 0 24 24\"\n",
              "       width=\"24px\">\n",
              "    <path d=\"M0 0h24v24H0V0z\" fill=\"none\"/>\n",
              "    <path d=\"M18.56 5.44l.94 2.06.94-2.06 2.06-.94-2.06-.94-.94-2.06-.94 2.06-2.06.94zm-11 1L8.5 8.5l.94-2.06 2.06-.94-2.06-.94L8.5 2.5l-.94 2.06-2.06.94zm10 10l.94 2.06.94-2.06 2.06-.94-2.06-.94-.94-2.06-.94 2.06-2.06.94z\"/><path d=\"M17.41 7.96l-1.37-1.37c-.4-.4-.92-.59-1.43-.59-.52 0-1.04.2-1.43.59L10.3 9.45l-7.72 7.72c-.78.78-.78 2.05 0 2.83L4 21.41c.39.39.9.59 1.41.59.51 0 1.02-.2 1.41-.59l7.78-7.78 2.81-2.81c.8-.78.8-2.07 0-2.86zM5.41 20L4 18.59l7.72-7.72 1.47 1.35L5.41 20z\"/>\n",
              "  </svg>\n",
              "      </button>\n",
              "      \n",
              "  <style>\n",
              "    .colab-df-container {\n",
              "      display:flex;\n",
              "      flex-wrap:wrap;\n",
              "      gap: 12px;\n",
              "    }\n",
              "\n",
              "    .colab-df-convert {\n",
              "      background-color: #E8F0FE;\n",
              "      border: none;\n",
              "      border-radius: 50%;\n",
              "      cursor: pointer;\n",
              "      display: none;\n",
              "      fill: #1967D2;\n",
              "      height: 32px;\n",
              "      padding: 0 0 0 0;\n",
              "      width: 32px;\n",
              "    }\n",
              "\n",
              "    .colab-df-convert:hover {\n",
              "      background-color: #E2EBFA;\n",
              "      box-shadow: 0px 1px 2px rgba(60, 64, 67, 0.3), 0px 1px 3px 1px rgba(60, 64, 67, 0.15);\n",
              "      fill: #174EA6;\n",
              "    }\n",
              "\n",
              "    [theme=dark] .colab-df-convert {\n",
              "      background-color: #3B4455;\n",
              "      fill: #D2E3FC;\n",
              "    }\n",
              "\n",
              "    [theme=dark] .colab-df-convert:hover {\n",
              "      background-color: #434B5C;\n",
              "      box-shadow: 0px 1px 3px 1px rgba(0, 0, 0, 0.15);\n",
              "      filter: drop-shadow(0px 1px 2px rgba(0, 0, 0, 0.3));\n",
              "      fill: #FFFFFF;\n",
              "    }\n",
              "  </style>\n",
              "\n",
              "      <script>\n",
              "        const buttonEl =\n",
              "          document.querySelector('#df-63d4d39b-c697-4643-87ec-ef2ab1472abb button.colab-df-convert');\n",
              "        buttonEl.style.display =\n",
              "          google.colab.kernel.accessAllowed ? 'block' : 'none';\n",
              "\n",
              "        async function convertToInteractive(key) {\n",
              "          const element = document.querySelector('#df-63d4d39b-c697-4643-87ec-ef2ab1472abb');\n",
              "          const dataTable =\n",
              "            await google.colab.kernel.invokeFunction('convertToInteractive',\n",
              "                                                     [key], {});\n",
              "          if (!dataTable) return;\n",
              "\n",
              "          const docLinkHtml = 'Like what you see? Visit the ' +\n",
              "            '<a target=\"_blank\" href=https://colab.research.google.com/notebooks/data_table.ipynb>data table notebook</a>'\n",
              "            + ' to learn more about interactive tables.';\n",
              "          element.innerHTML = '';\n",
              "          dataTable['output_type'] = 'display_data';\n",
              "          await google.colab.output.renderOutput(dataTable, element);\n",
              "          const docLink = document.createElement('div');\n",
              "          docLink.innerHTML = docLinkHtml;\n",
              "          element.appendChild(docLink);\n",
              "        }\n",
              "      </script>\n",
              "    </div>\n",
              "  </div>\n",
              "  "
            ]
          },
          "metadata": {},
          "execution_count": 57
        }
      ]
    },
    {
      "cell_type": "markdown",
      "source": [
        "###Now, we have all the values of description are punctutation free and stopword free."
      ],
      "metadata": {
        "id": "SXVgG3Zkm6d9"
      }
    },
    {
      "cell_type": "markdown",
      "source": [
        "###<B>Using CountVectorizer() to count vocabulary items"
      ],
      "metadata": {
        "id": "Xrrl3Tw9nG4g"
      }
    },
    {
      "cell_type": "code",
      "source": [
        "# Create a count vectorizer object\n",
        "count_vectorizer = CountVectorizer()\n",
        "# fit the count vectorizer using the text data\n",
        "count_vectorizer.fit(nf['description'])\n",
        "# Collect the vocabulary items used in the vectorizer\n",
        "dictionary = count_vectorizer.vocabulary_.items()"
      ],
      "metadata": {
        "id": "N6CnjCYsnNvv"
      },
      "execution_count": null,
      "outputs": []
    },
    {
      "cell_type": "code",
      "source": [
        "dictionary"
      ],
      "metadata": {
        "id": "QRh0WwiPmxS3",
        "outputId": "cf858d71-6017-455b-fe50-e8aad92a669e",
        "colab": {
          "base_uri": "https://localhost:8080/"
        }
      },
      "execution_count": null,
      "outputs": [
        {
          "output_type": "execute_result",
          "data": {
            "text/plain": [
              "dict_items([('future', 7161), ('elite', 5647), ('inhabit', 8953), ('island', 9229), ('paradise', 12681), ('far', 6403), ('crowded', 4233), ('slums', 16100), ('get', 7357), ('one', 12309), ('chance', 3060), ('join', 9447), ('saved', 15203), ('squalor', 16516), ('devastating', 4829), ('earthquake', 5496), ('hits', 8314), ('mexico', 11109), ('city', 3326), ('trapped', 17918), ('survivors', 17064), ('walks', 18876), ('life', 10176), ('wait', 18853), ('rescued', 14520), ('trying', 18060), ('desperately', 4782), ('stay', 16625), ('alive', 781), ('army', 1222), ('recruit', 14240), ('found', 6944), ('dead', 4496), ('fellow', 6531), ('soldiers', 16225), ('forced', 6880), ('confront', 3782), ('terrifying', 17440), ('secret', 15392), ('thats', 17494), ('haunting', 8018), ('jungle', 9542), ('training', 17875), ('camp', 2751), ('postapocalyptic', 13360), ('world', 19313), ('ragdoll', 13959), ('robots', 14846), ('hide', 8193), ('fear', 6482), ('dangerous', 4423), ('machines', 10536), ('exterminate', 6268), ('brave', 2390), ('newcomer', 11885), ('joins', 9450), ('group', 7715), ('brilliant', 2459), ('students', 16831), ('become', 1823), ('cardcounting', 2827), ('experts', 6209), ('intent', 9062), ('swindling', 17125), ('millions', 11207), ('las', 9959), ('vegas', 18602), ('casinos', 2917), ('playing', 13180), ('blackjack', 2094), ('genetics', 7316), ('professor', 13623), ('experiments', 6206), ('treatment', 17951), ('comatose', 3578), ('sister', 15967), ('blends', 2126), ('medical', 10951), ('shamanic', 15657), ('cures', 4322), ('unlocks', 18367), ('shocking', 15776), ('side', 15863), ('effect', 5569), ('awful', 1535), ('accident', 425), ('couple', 4054), ('admitted', 543), ('grisly', 7691), ('hospital', 8454), ('separated', 15542), ('must', 11642), ('find', 6650), ('escape', 5969), ('death', 4513), ('finds', 6652), ('high', 8200), ('school', 15272), ('attacks', 1399), ('dedicated', 4581), ('teacher', 17317), ('trevor', 17970), ('garfield', 7253), ('grows', 7723), ('weary', 18983), ('gang', 7235), ('warfare', 18913), ('new', 11881), ('york', 19476), ('system', 17168), ('moves', 11554), ('california', 2718), ('teach', 17316), ('thinking', 17541), ('less', 10129), ('hostile', 8463), ('environment', 5901), ('doctor', 5151), ('goes', 7493), ('missing', 11307), ('psychiatrist', 13744), ('wife', 19141), ('treats', 17953), ('bizarre', 2089), ('condition', 3744), ('psychic', 13745), ('patient', 12801), ('knows', 9787), ('much', 11569), ('hes', 8178), ('leading', 10039), ('architect', 1168), ('move', 11550), ('castle', 2930), ('slated', 16041), ('luxury', 10510), ('hotel', 8472), ('something', 16250), ('inside', 9007), ('determined', 4813), ('stop', 16717), ('renovation', 14457), ('farmer', 6412), ('pens', 12893), ('confession', 3762), ('admitting', 544), ('wifes', 19142), ('murder', 11607), ('beginning', 1848), ('macabre', 10527), ('tale', 17232), ('based', 1729), ('stephen', 16655), ('kings', 9739), ('novella', 12073), ('dark', 4448), ('althistory', 866), ('thriller', 17587), ('naïve', 11780), ('law', 10007), ('student', 16830), ('worldweary', 19323), ('detective', 4807), ('uncover', 18241), ('conspiracy', 3841), ('tyrannized', 18163), ('poland', 13246), ('decades', 4539), ('archival', 1171), ('video', 18684), ('interviews', 9119), ('examine', 6082), ('mexican', 11107), ('politics', 13273), ('1994', 160), ('year', 19439), ('marked', 10759), ('rise', 14774), ('ezln', 6300), ('assassination', 1316), ('luis', 10479), ('donaldo', 5213), ('colosio', 3568), ('intimate', 9122), ('documentary', 5159), ('follows', 6850), ('rock', 14851), ('star', 16575), ('artiwara', 1275), ('kongmalai', 9801), ('historic', 8296), ('2215kilometer', 219), ('charity', 3098), ('run', 15010), ('across', 474), ('thailand', 17482), ('2017', 194), ('stranded', 16751), ('earth', 5495), ('suddenly', 16908), ('destroyed', 4796), ('mysterious', 11655), ('cataclysm', 2935), ('astronauts', 1359), ('aboard', 380), ('marooned', 10767), ('space', 16330), ('station', 16613), ('slowly', 16096), ('lose', 10396), ('minds', 11222), ('backdrop', 1569), ('nigerias', 11935), ('looming', 10371), ('independence', 8847), ('britain', 2469), ('danladi', 4431), ('waziri', 18973), ('races', 13930), ('capture', 2817), ('killer', 9710), ('terrorizing', 17450), ('local', 10293), ('women', 19269), ('psychology', 13750), ('faces', 6314), ('alzheimers', 876), ('daughter', 4471), ('three', 17581), ('close', 3432), ('female', 6536), ('friends', 7061), ('experience', 6200), ('romance', 14898), ('marriage', 10771), ('heartbreak', 8077), ('tragedy', 17860), ('terror', 17443), ('norway', 12035), ('young', 19487), ('survivor', 17063), ('grieving', 7672), ('families', 6374), ('country', 4047), ('rally', 14002), ('justice', 9555), ('healing', 8062), ('true', 18043), ('story', 16731), ('indias', 8860), ('day', 4484), ('zany', 19528), ('mishap', 11295), ('mumbai', 11598), ('chawl', 3143), ('disrupts', 5086), ('love', 10425), ('compelling', 3674), ('residents', 14547), ('unite', 18342), ('aid', 676), ('little', 10259), ('boy', 2350), ('mixing', 11342), ('old', 12267), ('footage', 6866), ('arsenals', 1246), ('improbable', 8792), ('win', 19178), ('versus', 18651), ('liverpool', 10269), ('final', 6639), ('moments', 11406), ('1989', 154), ('championship', 3056), ('game', 7225), ('accidentally', 427), ('connecting', 3805), ('internet', 9086), ('two', 18143), ('strangers', 16756), ('form', 6916), ('tight', 17641), ('friendship', 7062), ('knowing', 9783), ('already', 850), ('share', 15678), ('bond', 2250), ('taxi', 17310), ('driver', 5353), ('gangster', 7242), ('athlete', 1376), ('struggle', 16822), ('better', 1968), ('lives', 10270), ('despite', 4784), ('obstacles', 12169), ('like', 10206), ('crooked', 4212), ('politicians', 13272), ('evil', 6064), ('dons', 5225), ('caste', 2923), ('barriers', 1716), ('successful', 16898), ('writer', 19369), ('returns', 14640), ('town', 17821), ('launched', 9992), ('career', 2839), ('encountering', 5765), ('people', 12898), ('spark', 16352), ('nostalgic', 12044), ('often', 12247), ('painfully', 12615), ('illuminating', 8696), ('flashbacks', 6735), ('middleaged', 11138), ('divorcee', 5135), ('kolkata', 9796), ('visit', 18770), ('ailing', 684), ('father', 6453), ('longburied', 10342), ('memories', 11017), ('resurface', 14597), ('bringing', 2464), ('discoveries', 5010), ('seiya', 15441), ('knights', 9774), ('zodiac', 19576), ('protect', 13697), ('reincarnation', 14348), ('goddess', 7485), ('athena', 1374), ('prophecy', 13677), ('hangs', 7912), ('reallife', 14129), ('look', 10366), ('fbi', 6478), ('counterterrorism', 4043), ('operations', 12352), ('features', 6499), ('access', 424), ('sides', 15868), ('sting', 16690), ('government', 7558), ('informant', 8944), ('radicalized', 13944), ('target', 17283), ('docuseries', 5165), ('takes', 17228), ('deep', 4590), ('dive', 5118), ('lucrative', 10473), ('wellness', 19045), ('industry', 8889), ('touts', 17812), ('health', 8063), ('products', 13614), ('live', 10263), ('promises', 13655), ('virus', 18761), ('rampages', 14016), ('lone', 10330), ('man', 10656), ('stays', 16628), ('locked', 10301), ('apartment', 1082), ('digitally', 4920), ('cut', 4351), ('seeking', 15419), ('help', 8136), ('desperate', 4781), ('way', 18967), ('diary', 4879), ('anne', 1016), ('franks', 6994), ('retold', 14623), ('alongside', 837), ('five', 6705), ('holocaust', 8355), ('poignant', 13233), ('oscar', 12446), ('winner', 19198), ('helen', 8125), ('mirren', 11269), ('kenya', 9670), ('barris', 1717), ('family', 6375), ('navigate', 11768), ('relationships', 14373), ('race', 13926), ('culture', 4304), ('grappling', 7617), ('newfound', 11888), ('success', 16896), ('comedy', 3596), ('series', 15562), ('pawesome', 12831), ('explores', 6230), ('feline', 6524), ('became', 1821), ('online', 12327), ('icons', 8632), ('earliest', 5483), ('text', 17473), ('memes', 11013), ('celebrity', 2994), ('cat', 2934), ('influencers', 8934), ('pining', 13093), ('crush', 4255), ('years', 19446), ('puts', 13837), ('best', 1945), ('efforts', 5575), ('friend', 7057), ('zone', 19583), ('reveals', 14653), ('shes', 15730), ('getting', 7361), ('married', 10775), ('ayu', 1549), ('ditto', 5114), ('finally', 6641), ('transition', 17905), ('newlyweds', 11895), ('quick', 13894), ('pregnancy', 13455), ('creates', 4137), ('uncertainty', 18227), ('nerdy', 11846), ('schooler', 15275), ('dani', 4426), ('attracts', 1426), ('interest', 9070), ('longtime', 10363), ('lands', 9936), ('cross', 4216), ('hairs', 7847), ('ex', 6075), ('social', 16191), ('media', 10947), ('teenage', 17352), ('hacker', 7828), ('huge', 8513), ('nose', 12037), ('helps', 8143), ('cool', 3951), ('kid', 9695), ('woo', 19285), ('girl', 7405), ('he', 8042), ('secretly', 15396), ('celebrates', 2989), ('50th', 298), ('anniversary', 1019), ('harlem', 7964), ('sports', 16474), ('program', 13637), ('inspired', 9022), ('countless', 4045), ('kids', 9703), ('pro', 13581), ('basketball', 1737), ('players', 13175), ('days', 4488), ('exams', 6088), ('teen', 17351), ('girls', 7412), ('make', 10615), ('seaside', 15377), ('getaway', 7358), ('end', 5772), ('adolescence', 545), ('bang', 1668), ('painful', 12614), ('breakup', 2415), ('trio', 18002), ('partyloving', 12761), ('makes', 10620), ('bet', 1953), ('brothers', 2511), ('fall', 6360), ('sisters', 15971), ('quickly', 13895), ('realize', 14125), ('age', 647), ('differences', 4908), ('big', 2004), ('ignore', 8667), ('estranged', 5999), ('mother', 11508), ('dies', 4902), ('woman', 19261), ('follow', 6845), ('quirky', 13911), ('instructions', 9037), ('laid', 9896), ('order', 12402), ('collect', 3533), ('important', 8774), ('inheritance', 8959), ('slacker', 16033), ('owner', 12568), ('public', 13761), ('bath', 1754), ('house', 8483), ('rallies', 14001), ('community', 3658), ('save', 15202), ('developer', 4833), ('comes', 3599), ('open', 12341), ('mall', 10649), ('urbanites', 18495), ('renovating', 14456), ('rundown', 15014), ('sons', 16272), ('disappearance', 4972), ('connected', 3803), ('supernatural', 16984), ('decadesold', 4541), ('vignettes', 18704), ('summer', 16940), ('holidays', 8346), ('vacationers', 18537), ('battle', 1763), ('mosquitoes', 11501), ('suffer', 16912), ('ruined', 14992), ('plans', 13158), ('otherwise', 12459), ('hit', 8304), ('snags', 16138), ('precious', 13438), ('time', 17652), ('lagos', 9894), ('journalist', 9491), ('undercover', 18249), ('prostitute', 13693), ('expose', 6239), ('human', 8525), ('trafficking', 17858), ('exploited', 6221), ('ruthless', 15040), ('violence', 18739), ('aiming', 689), ('hasten', 7998), ('uprising', 18481), ('leader', 10036), ('underground', 18257), ('rebellion', 14156), ('dispatches', 5067), ('acrobatic', 473), ('assassin', 1313), ('aeon', 607), ('flux', 6819), ('eliminate', 5642), ('governments', 7560), ('top', 17746), ('orphan', 12434), ('subjected', 16871), ('tests', 17464), ('gave', 7275), ('superpowers', 16986), ('raised', 13986), ('istanbuls', 9249), ('streets', 16781), ('falls', 6365), ('reporter', 14492), ('linked', 10228), ('past', 12779), ('aspiring', 1308), ('dancer', 4418), ('uprooted', 18484), ('senior', 15519), ('torn', 17768), ('boys', 2358), ('shot', 15809), ('dream', 5328), ('escaping', 5972), ('bus', 2632), ('killed', 9709), ('girlfriend', 7407), ('channels', 3072), ('grief', 7666), ('running', 15019), ('coach', 3460), ('wins', 19204), ('miss', 11303), ('nigeria', 11933), ('pageant', 12608), ('unexpected', 18298), ('competition', 3678), ('campaign', 2752), ('south', 16316), ('africa', 635), ('carefree', 2845), ('bachelor', 1563), ('unexpectedly', 18299), ('left', 10080), ('charge', 3091), ('embark', 5686), ('road', 14809), ('trip', 18003), ('change', 3066), ('fierce', 6594), ('mammoth', 10655), ('hunter', 8566), ('dleh', 5146), ('sets', 15586), ('impossible', 8777), ('journey', 9493), ('rescue', 14519), ('loves', 10434), ('vicious', 18671), ('warlord', 18914), ('village', 18718), ('upon', 18472), ('losing', 10400), ('memory', 11020), ('crown', 4237), ('prince', 13550), ('encounters', 5766), ('commoner', 3645), ('experiences', 6202), ('unforgettable', 18315), ('husband', 8576), ('joseon', 9479), ('oldest', 12269), ('bachelorette', 1564), ('spanish', 16344), ('photographer', 13025), ('josé', 9488), ('díaz', 5474), ('spends', 16405), ('100', 3), ('living', 10274), ('alone', 835), ('remote', 14437), ('mountain', 11538), ('nature', 11759), ('documenting', 5163), ('beauty', 1817), ('surroundings', 17053), ('hundred', 8554), ('hardy', 7959), ('souls', 16303), ('diverse', 5123), ('backgrounds', 1575), ('participate', 12742), ('playful', 13176), ('exploring', 6231), ('sex', 15613), ('happiness', 7931), ('aspects', 1304), ('diagnosed', 4868), ('multiple', 11594), ('sclerosis', 15305), ('responds', 14575), ('ironman', 9209), ('triathlon', 17978), ('cranky', 4117), ('fatherinlaws', 6456), ('led', 10075), ('seventhgrader', 15605), ('cj', 3340), ('warned', 18922), ('dangers', 4425), ('decide', 4553), ('middleschool', 11142), ('chronicles', 3290), ('elouise', 5663), ('cobells', 3476), ('long', 10338), ('fight', 6603), ('us', 18505), ('gross', 7709), ('mismanagement', 11299), ('mineralrich', 11228), ('native', 11751), ('american', 909), ('land', 9924), ('marries', 10776), ('fathers', 6458), ('choice', 3254), ('soon', 16274), ('possibility', 13355), ('religion', 14396), ('considers', 3837), ('union', 18338), ('invalid', 9149), ('stylist', 16862), ('hair', 7840), ('designer', 4769), ('makeup', 10622), ('artist', 1269), ('team', 17322), ('give', 7414), ('britains', 2470), ('biggest', 2012), ('fashion', 6431), ('disasters', 4987), ('muchneeded', 11571), ('makeunders', 10621), ('randomly', 14032), ('receiving', 14181), ('handsome', 7904), ('political', 13268), ('bribe', 2436), ('sweet', 17109), ('poor', 13299), ('elderly', 5607), ('decides', 4556), ('treat', 17948), ('shopping', 15795), ('spree', 16492), ('doesnt', 5172), ('go', 7474), ('smoothly', 16125), ('dealing', 4507), ('personal', 12957), ('demons', 4694), ('son', 16257), ('prizefighter', 13578), ('attempts', 1404), ('return', 14636), ('ring', 14758), ('challenging', 3047), ('rival', 14791), ('12round', 26), ('rematch', 14421), ('pregnant', 13456), ('leave', 10064), ('boyfriend', 2352), ('assume', 1344), ('identity', 8649), ('america', 908), ('12', 25), ('later', 9972), ('reunites', 14645), ('korea', 9812), ('parentstobe', 12712), ('claire', 3347), ('ryan', 15047), ('suburban', 16890), ('rental', 14461), ('home', 8359), ('unaware', 18214), ('someone', 16249), ('watching', 18954), ('every', 6052), ('via', 18662), ('hidden', 8191), ('cameras', 2747), ('perplexing', 12945), ('suicide', 16924), ('classmate', 3372), ('receives', 14180), ('tapes', 17277), ('unravel', 18387), ('mystery', 11657), ('tragic', 17861), ('cast', 2921), ('members', 11010), ('writers', 19372), ('producers', 13610), ('mental', 11036), ('professionals', 13621), ('discuss', 5015), ('difficult', 4912), ('issues', 9247), ('themes', 17507), ('explored', 6227), ('13', 30), ('reasons', 14144), ('agrees', 666), ('appear', 1100), ('show', 15814), ('million', 11203), ('prize', 13576), ('challenges', 3046), ('extreme', 6283), ('realizes', 14127), ('made', 10547), ('grave', 7623), ('mistake', 11315), ('thoughtprovoking', 17569), ('scholars', 15269), ('activists', 486), ('analyze', 946), ('criminalization', 4180), ('african', 636), ('americans', 913), ('prison', 13564), ('boom', 2276), ('oprah', 12374), ('winfrey', 19193), ('sits', 15977), ('director', 4959), ('ava', 1483), ('duvernay', 5452), ('oscarnominated', 12447), ('film', 6627), ('historical', 8297), ('cycles', 4368), ('oppression', 12372), ('broken', 2487), ('ming', 11231), ('dynasty', 5467), ('quinglong', 13905), ('jinyiwei', 9413), ('squad', 16514), ('highly', 8220), ('trained', 17870), ('former', 6920), ('street', 16778), ('urchins', 18497), ('eunuch', 6015), ('jia', 9391), ('unseats', 18408), ('emperor', 5732), ('called', 2723), ('action', 477), ('betrayed', 1961), ('upping', 18479), ('ante', 1037), ('sequel', 15548), ('renting', 14463), ('vacation', 18536), ('that', 17491), ('customized', 4349), ('violate', 18736), ('privacy', 13570), ('google', 7528), ('executive', 6133), ('boldly', 2232), ('deathdefying', 4515), ('mission', 11308), ('travel', 17930), ('freefall', 7020), ('back', 1566), ('without', 19241), ('rocket', 14855), ('tasked', 17291), ('escorting', 5977), ('prosecution', 13685), ('witness', 19243), ('court', 4063), ('aging', 660), ('cop', 3959), ('gears', 7284), ('16block', 52), ('trek', 17958), ('theyll', 17525), ('lucky', 10472), ('nearing', 11794), ('midlife', 11146), ('crisis', 4191), ('thirtysomething', 17553), ('mike', 11170), ('wishes', 19227), ('doover', 5233), ('exactly', 6077), ('gets', 7360), ('wakes', 18862), ('17', 56), ('terminal', 17428), ('cancer', 2769), ('leaves', 10065), ('behind', 1859), ('18', 62), ('sentimental', 15536), ('gifts', 7383), ('unborn', 18220), ('receive', 14178), ('birthday', 2068), ('reaches', 14105), ('womanhood', 19263), ('spain', 16340), ('relinquishes', 14399), ('last', 9962), ('colonies', 3557), ('battlefatigued', 1765), ('outpost', 12498), ('engages', 5806), ('brutal', 2524), ('sometimes', 16252), ('clash', 3358), ('filipino', 6620), ('insurgents', 9048), ('los', 10395), ('angeles', 986), ('settles', 15592), ('cozy', 4093), ('complex', 3689), ('disturbing', 5108), ('sense', 15524), ('filmmakers', 6631), ('occult', 12178), ('rituals', 14789), ('tied', 17634), ('abandoned', 350), ('warehouse', 18912), ('gradually', 7578), ('horror', 8439), ('closer', 3435), ('think', 17539), ('bumbling', 2585), ('paris', 12716), ('policeman', 13253), ('doggedly', 5178), ('master', 10818), ('thief', 17533), ('repeatedly', 14478), ('eludes', 5670), ('even', 6036), ('theyre', 17526), ('men', 11023), ('graduate', 7579), ('krish', 9831), ('ananya', 949), ('hope', 8414), ('parents', 12711), ('approval', 1127), ('marry', 10778), ('cultural', 4302), ('2014', 190), ('academy', 413), ('award', 1523), ('feature', 6496), ('backup', 1583), ('vocalists', 18796), ('legends', 10090), ('support', 17011), ('convicted', 3933), ('horrified', 8436), ('prove', 13715), ('innocence', 8985), ('dogged', 5177), ('investigator', 9168), ('truth', 18056), ('worlds', 19320), ('kpop', 9825), ('festival', 6567), ('21st', 216), ('2015', 191), ('groups', 7716), ('exo', 6172), ('4minute', 285), ('shinee', 15749), ('electrifying', 5620), ('seoul', 15540), ('cup', 4312), ('stadium', 16540), ('working', 19307), ('artificial', 1264), ('intelligence', 9054), ('investigate', 9161), ('failure', 6337), ('deadly', 4500), ('mars', 10780), ('landing', 9926), ('controller', 3913), ('astonishing', 1351), ('discovery', 5013), ('1979', 143), ('single', 15944), ('bohemian', 2224), ('mom', 11402), ('dorothea', 5245), ('hoping', 8420), ('place', 13142), ('asks', 1301), ('jeffs', 9349), ('straightandnarrow', 16741), ('changes', 3068), ('abruptly', 390), ('buddies', 2553), ('take', 17223), ('bash', 1733), ('night', 11937), ('crucial', 4240), ('med', 10940), ('interview', 9116), ('experiment', 6204), ('daughters', 4473), ('sends', 15514), ('mothers', 11514), ('disguised', 5030), ('21yearolds', 217), ('member', 11009), ('gen', 7296), ('historys', 8302), ('greatest', 7636), ('stands', 16568), ('battalion', 1761), ('21', 214), ('sikh', 15890), ('fights', 6608), ('defend', 4605), ('attack', 1395), ('10000', 5), ('afghans', 629), ('coaches', 3462), ('montreal', 11446), ('soccer', 16189), ('chase', 3119), ('dreams', 5335), ('stardom', 16579), ('erupt', 5959), ('passion', 12773), ('frozen', 7089), ('tundra', 18082), ('futuristic', 7163), ('arizona', 1204), ('humans', 8537), ('soldier', 16224), ('hunts', 8569), ('bioengineered', 2047), ('revived', 14675), ('experimental', 6205), ('procedure', 13592), ('extra', 6274), ('24', 225), ('hours', 8482), ('uses', 18515), ('avenge', 1494), ('child', 3210), ('redeem', 14250), ('four', 6952), ('learn', 10056), ('inherited', 8961), ('ancestral', 956), ('claim', 3343), ('greedy', 7642), ('feudal', 6572), ('lord', 10385), ('threatens', 17579), ('twentysix', 18126), ('1980', 144), ('massacre', 10812), ('gwangju', 7807), ('relatives', 14375), ('victims', 18674), ('come', 3590), ('together', 17709), ('infamous', 8902), ('orchestrator', 12398), ('musician', 11634), ('suspicious', 17078), ('circumstances', 3320), ('harddrinking', 7943), ('music', 11628), ('fan', 6382), ('stars', 16592), ('die', 4899), ('27', 236), ('explore', 6226), ('surrounding', 17052), ('deaths', 4516), ('jimi', 9402), ('hendrix', 8149), ('jim', 9401), ('morrison', 11487), ('brian', 2435), ('jones', 9466), ('janis', 9310), ('joplin', 9473), ('kurt', 9855), ('cobain', 3474), ('amy', 940), ('winehouse', 19187), ('drunken', 5392), ('antics', 1049), ('result', 14594), ('property', 13675), ('damage', 4410), ('alcoholic', 745), ('enters', 5871), ('rehab', 14332), ('meets', 10973), ('resident', 14544), ('outlook', 12493), ('fiancé', 6579), ('acts', 495), ('strangely', 16754), ('invitation', 9178), ('florist', 6804), ('tiny', 17674), ('scrap', 15335), ('paper', 12671), ('terminally', 17429), ('ill', 8681), ('agent', 653), ('accepts', 423), ('risky', 14784), ('exchange', 6104), ('drug', 5376), ('might', 11156), ('survive', 17059), ('effects', 5571), ('convicts', 3936), ('row', 14966), ('stories', 16726), ('emerge', 5706), ('motivations', 11520), ('soliciting', 16230), ('ray', 14096), ('begins', 1850), ('transitioning', 17907), ('male', 10639), ('grandmother', 7601), ('cope', 3961), ('tracking', 17838), ('indonesian', 8873), ('break', 2406), ('records', 14223), ('becoming', 1825), ('first', 6683), ('nation', 11742), ('medal', 10941), ('archery', 1163), ('olympics', 12287), ('1988', 153), ('attending', 1411), ('premier', 13463), ('colleges', 3545), ('miserable', 11286), ('engineering', 5812), ('beat', 1808), ('schools', 15282), ('draconian', 5288), ('muslim', 11640), ('womens', 19270), ('activist', 485), ('india', 8852), ('protests', 13708), ('oral', 12385), ('divorces', 5136), ('starting', 16598), ('movement', 11552), ('reclaim', 14197), ('religious', 14398), ('constitutional', 3852), ('rights', 14748), ('dissatisfied', 5087), ('bridal', 2440), ('shop', 15787), ('turn', 18101), ('topsyturvy', 17757), ('care', 2834), ('exgirlfriends', 6144), ('baby', 1558), ('breaks', 2412), ('hopes', 8419), ('restoring', 14590), ('lively', 10267), ('nightclub', 11938), ('crooks', 4213), ('planning', 13157), ('bank', 1675), ('heist', 8121), ('wind', 19180), ('abducting', 362), ('pizza', 13137), ('delivery', 4667), ('force', 6879), ('commit', 3631), ('robbery', 14828), ('strict', 16796), ('limit', 10216), ('dissident', 5091), ('sneak', 16153), ('refugees', 14300), ('denmark', 4704), ('prevented', 13520), ('returning', 14639), ('fiery', 6597), ('spiritless', 16437), ('relationship', 14372), ('victim', 18672), ('dominant', 5198), ('mafia', 10564), ('boss', 2307), ('imprisons', 8791), ('gives', 7416), ('society', 16197), ('familial', 6371), ('obligations', 12144), ('manga', 10673), ('unconventional', 18237), ('sexual', 15624), ('freedom', 7018), ('liberation', 10162), ('crashlanding', 4121), ('royal', 14974), ('aliens', 777), ('blend', 2123), ('evade', 6024), ('intergalactic', 9077), ('bounty', 2335), ('hunters', 8567), ('crashes', 4119), ('forest', 6899), ('rainy', 13984), ('criminals', 4181), ('battling', 1773), ('wild', 19146), ('animals', 1003), ('launching', 9994), ('restaurant', 14582), ('ambitious', 901), ('chef', 3164), ('allconsuming', 785), ('upscale', 18486), ('eatery', 5511), ('tales', 17237), ('abound', 385), ('singing', 15943), ('furry', 7154), ('lampo', 9918), ('milady', 11176), ('pilou', 13088), ('meatball', 10929), ('band', 1657), ('1960s', 125), ('madrid', 10559), ('producer', 13609), ('guillermo', 7763), ('rojas', 14882), ('launches', 9993), ('roll', 14889), ('label', 9870), ('singer', 15935), ('robert', 14832), ('clever', 3404), ('maribel', 10743), ('small', 16103), ('towns', 17822), ('letters', 10138), ('santa', 15160), ('smoke', 16119), ('elves', 5675), ('venture', 18631), ('north', 12030), ('pole', 13250), ('retrieve', 14631), ('wish', 19226), ('reunite', 14643), ('dying', 5461), ('pals', 12647), ('recreate', 14235), ('desert', 4759), ('mali', 10644), ('along', 836), ('mechanic', 10934), ('extremely', 6284), ('straight', 16740), ('used', 18511), ('idea', 8637), ('right', 14745), ('guy', 7804), ('electionnight', 5615), ('manager', 10659), ('polling', 13275), ('site', 15975), ('gubernatorial', 7748), ('candidate', 2771), ('corrupt', 4004), ('incumbents', 8837), ('victory', 18682), ('yanto', 19430), ('kidnapped', 9698), ('mobster', 11360), ('silly', 15895), ('slapstick', 16039), ('campy', 2761), ('crimefighting', 4171), ('ensues', 5855), ('drama', 5307), ('40', 267), ('brooklyn', 2497), ('walkup', 18877), ('attempt', 1401), ('sell', 15494), ('buy', 2661), ('italian', 9251), ('prime', 13545), ('minister', 11245), ('lover', 10432), ('official', 12235), ('budapest', 2548), ('christmas', 3281), ('week', 19007), ('things', 17538), ('novelists', 12072), ('turned', 18103), ('upside', 18489), ('encounter', 5763), ('outside', 12505), ('leads', 10040), ('intense', 9059), ('affair', 612), ('diplomats', 4952), ('falling', 6362), ('pretty', 13517), ('art', 1252), ('shortterm', 15808), ('marine', 10751), ('veterinarian', 18657), ('healthy', 8067), ('twentysomething', 18127), ('comically', 3606), ('early', 5484), ('slapped', 16038), ('diagnosis', 4870), ('5050', 297), ('survival', 17056), ('climb', 3413), ('highest', 8211), ('peak', 12855), ('java', 9326), ('overcoming', 12521), ('discovering', 5011), ('meaning', 10919), ('keep', 9651), ('selly', 15500), ('tries', 17993), ('earn', 5488), ('money', 11414), ('making', 10623), ('appearance', 1101), ('party', 12758), ('mobsters', 11361), ('loyal', 10450), ('struggles', 16823), ('afloat', 630), ('driving', 5357), ('heroinaddicted', 8173), ('brother', 2506), ('detox', 4822), ('center', 3010), ('looking', 10369), ('2yearold', 241), ('armed', 1211), ('gunmen', 7786), ('seize', 15442), ('iranian', 9193), ('embassy', 5692), ('tense', 17415), ('sixday', 15984), ('standoff', 16566), ('british', 2472), ('prepare', 13470), ('raid', 13969), ('faking', 6356), ('tech', 17335), ('billionaire', 2036), ('recruits', 14243), ('international', 9084), ('operatives', 12354), ('bold', 2228), ('bloody', 2166), ('dictator', 4888), ('volatile', 18804), ('six', 15983), ('approach', 1122), ('college', 3543), ('graduation', 7582), ('opportunities', 12363), ('threaten', 17576), ('undertake', 18271), ('grueling', 7727), ('difficulties', 4913), ('store', 16722), ('merely', 11058), ('physical', 13033), ('recruited', 14241), ('sheriff', 15727), ('volunteers', 18814), ('infiltrate', 8923), ('county', 4052), ('prisons', 13568), ('corruption', 4006), ('crime', 4168), ('within', 19240), ('hapless', 7923), ('stunning', 16850), ('psychotic', 13757), ('rob', 14823), ('loathsome', 10288), ('sugar', 16918), ('daddy', 4387), ('scheme', 15260), ('illconceived', 8684), ('violent', 18740), ('report', 14490), ('husbands', 8577), ('appears', 1105), ('police', 13252), ('officer', 12232), ('traces', 17832), ('cryptic', 4266), ('connection', 3806), ('loyalties', 10452), ('tested', 17457), ('cruelties', 4243), ('revealed', 14651), ('business', 2638), ('partners', 12751), ('spend', 16403), ('evening', 6037), ('debating', 4522), ('pay', 12837), ('committed', 3639), ('excitement', 6109), ('scenes', 15255), ('seven', 15600), ('major', 10610), ('events', 6040), ('food', 6857), ('given', 7415), ('genie', 7318), ('embarks', 5689), ('madcap', 10543), ('messy', 11085), ('search', 15372), ('wouldbe', 19340), ('spiced', 16410), ('liberally', 10158), ('black', 2092), ('bollywood', 2234), ('lethal', 10134), ('numerous', 12100), ('flawed', 6748), ('examines', 6084), ('cuteness', 4353), ('adorability', 556), ('animal', 1001), ('species', 16379), ('thrive', 17593), ('variety', 18581), ('environments', 5904), ('fangs', 6390), ('claws', 3384), ('venomous', 18628), ('stings', 16692), ('wield', 19135), ('weapons', 18980), ('creature', 4147), ('crowned', 4238), ('fiercest', 6596), ('powerful', 13402), ('cats', 2963), ('indestructible', 8851), ('arachnids', 1144), ('fleshmelting', 6761), ('pit', 13119), ('vipers', 18747), ('latin', 9976), ('americas', 914), ('deadliest', 4499), ('creatures', 4148), ('avalanches', 1489), ('volcanoes', 18806), ('natural', 11755), ('cataclysms', 2937), ('choose', 3259), ('destructive', 4800), ('paths', 12798), ('shy', 15854), ('natsu', 11754), ('awakens', 1521), ('part', 12738), ('chosen', 3269), ('ensure', 5857), ('humanity', 8530), ('changed', 3067), ('wonders', 19278), ('gestation', 7356), ('cuttingedge', 4358), ('cgi', 3027), ('nine', 11956), ('months', 11445), ('womb', 19267), ('affect', 614), ('ones', 12322), ('shake', 15646), ('meet', 10969), ('encourages', 5769), ('embrace', 5700), ('heroic', 8170), ('workers', 19305), ('contain', 3868), ('ebola', 5517), ('outbreak', 12473), ('arrives', 1240), ('symptoms', 17161), ('gymnast', 7813), ('lacks', 9881), ('confidence', 3766), ('needs', 11807), ('reach', 14104), ('spot', 16476), ('national', 11743), ('captures', 2819), ('joy', 9497), ('usmexico', 18522), ('border', 2295), ('sharing', 15682), ('short', 15799), ('bittersweet', 2084), ('reunion', 14642), ('2018', 196), ('babysitters', 1561), ('battles', 1770), ('boogeyman', 2267), ('monsters', 11437), ('nab', 11677), ('halloween', 7873), ('stressedout', 16790), ('moms', 11408), ('carla', 2859), ('kiki', 9705), ('holiday', 8345), ('daunting', 4474), ('meeting', 10971), ('awkward', 1537), ('glamorous', 7423), ('businesswoman', 2644), ('traditionbound', 17852), ('begin', 1847), ('curious', 4326), ('idealistic', 8641), ('interfaith', 9074), ('observes', 12158), ('increasingly', 8833), ('intolerant', 9126), ('financial', 6644), ('strain', 16745), ('overworked', 12561), ('engineer', 5810), ('autism', 1468), ('regresses', 14325), ('fantasy', 6400), ('bullying', 2581), ('28yearold', 238), ('layabout', 10025), ('reexamine', 14281), ('dysfunctional', 5470), ('assembles', 1323), ('respects', 14572), ('won', 19271), ('pass', 12765), ('wartime', 18938), ('details', 4804), ('pivotal', 13133), ('1944', 112), ('allied', 806), ('task', 17290), ('tried', 17991), ('war', 18907), ('ii', 8673), ('seizing', 15445), ('control', 3911), ('key', 9678), ('bridges', 2447), ('holland', 8348), ('lifestyle', 10188), ('line', 10223), ('wealthy', 18976), ('charmer', 3109), ('poses', 13341), ('ranch', 14026), ('hand', 7891), ('hardworking', 7958), ('work', 19301), ('debt', 4529), ('cares', 2850), ('wounded', 19342), ('horse', 8443), ('teaches', 17319), ('expected', 6193), ('wed', 18998), ('childhood', 3212), ('obsessed', 12161), ('football', 6867), ('rid', 14725), ('truly', 18047), ('heart', 8074), ('orphanage', 12435), ('ej', 5600), ('becomes', 1824), ('boxer', 2346), ('confronts', 3786), ('formidable', 6922), ('villain', 18722), ('trail', 17864), ('possible', 13356), ('diamond', 4874), ('caught', 2965), ('tricky', 17990), ('clues', 3453), ('feelings', 6515), ('suspect', 17069), ('sent', 15531), ('abroad', 388), ('scoop', 15307), ('dashing', 4463), ('whos', 19118), ('poised', 13238), ('king', 9733), ('brings', 2465), ('ultimate', 18188), ('gift', 7380), ('aldovia', 749), ('queen', 13880), ('amber', 898), ('kingdom', 9734), ('unwrapping', 18448), ('monarchy', 11411), ('helping', 8141), ('richard', 14712), ('secure', 15400), ('plan', 13150), ('wedding', 19000), ('simple', 15911), ('tastes', 17295), ('protocol', 13709), ('parisian', 12719), ('marinette', 10754), ('transforms', 17902), ('superhero', 16972), ('ladybug', 9890), ('lonely', 10333), ('adrien', 568), ('runs', 15021), ('away', 1529), ('sam', 15119), ('dance', 4416), ('toil', 17711), ('stepmothers', 16658), ('diner', 4940), ('lost', 10403), ('cell', 2998), ('phone', 13018), ('bring', 2463), ('vain', 18544), ('stepmother', 16657), ('mean', 10918), ('stepsisters', 16662), ('works', 19311), ('elf', 5638), ('tree', 17955), ('lot', 10404), ('miracle', 11258), ('satire', 15182), ('stanley', 16573), ('kubrick', 9841), ('sociopath', 16201), ('dystopian', 5472), ('england', 5815), ('undergoes', 18253), ('rehabilitation', 14334), ('therapy', 17516), ('engrossing', 5822), ('melodrama', 11004), ('golden', 7503), ('globenominated', 7453), ('debra', 4528), ('winger', 19196), ('plays', 13183), ('sheltered', 15720), ('slowwitted', 16098), ('widowed', 19133), ('aunt', 1447), ('frances', 6979), ('dry', 5394), ('cleaners', 3388), ('liveaction', 10264), ('adventure', 583), ('heads', 8054), ('hawaii', 8024), ('timmy', 17666), ('learns', 10060), ('source', 16312), ('fairy', 6346), ('magic', 10572), ('hands', 7903), ('gentle', 7326), ('lawabiding', 10008), ('grace', 7571), ('confesses', 3760), ('killing', 9713), ('skeptical', 15998), ('lawyer', 10021), ('tyler', 18155), ('perry', 12946), ('filmmaker', 6630), ('puzzle', 13839), ('pieces', 13062), ('history', 8300), ('controversial', 3917), ('figure', 6610), ('corporate', 3991), ('headhunter', 8046), ('promotion', 13660), ('derail', 4740), ('mdear', 10912), ('act', 475), ('church', 3300), ('grandpa', 7603), ('valuable', 18558), ('lesson', 10131), ('timid', 17664), ('familys', 6378), ('sacred', 15060), ('tycoon', 18153), ('gifted', 7381), ('flees', 6756), ('austere', 1454), ('roots', 14936), ('pursue', 13820), ('wealth', 18975), ('among', 924), ('copenhagens', 3963), ('pride', 13535), ('propelling', 13671), ('ruin', 14991), ('brief', 2449), ('full', 7115), ('triumph', 18010), ('lampoon', 9919), ('cofounder', 3505), ('doug', 5258), ('kenney', 9666), ('built', 2571), ('empire', 5736), ('molding', 11398), ('pop', 13302), ('1970s', 134), ('following', 6849), ('fatal', 6448), ('car', 2822), ('crash', 4118), ('mans', 10702), ('spirit', 16434), ('remains', 14414), ('stuck', 16827), ('shared', 15680), ('doors', 5231), ('wreck', 19355), ('graphic', 7611), ('seemed', 15424), ('discover', 5008), ('went', 19056), ('wrong', 19380), ('familiarlooking', 6373), ('stranger', 16755), ('cory', 4009), ('remember', 14422), ('everyone', 6056), ('chrissy', 3273), ('freddie', 7012), ('hunt', 8564), ('kingsized', 9740), ('candy', 2773), ('bars', 1722), ('worth', 19336), ('spooky', 16470), ('corys', 4010), ('spending', 16404), ('jealousy', 9341), ('flares', 6734), ('cousin', 4071), ('rosie', 14944), ('ride', 14727), ('seemingly', 15425), ('idyllic', 8654), ('crumble', 4247), ('restrictive', 14592), ('starts', 16600), ('bookstore', 2273), ('aardman', 344), ('animations', 1007), ('wallace', 18879), ('gromit', 7700), ('morph', 11481), ('fans', 6394), ('collaborators', 3527), ('retrospective', 14633), ('celebrating', 2990), ('studios', 16837), ('40th', 272), ('dissects', 5089), ('case', 2908), ('whose', 19119), ('sparked', 16353), ('altright', 869), ('theories', 17511), ('spoof', 16464), ('scary', 15245), ('movies', 11557), ('settling', 15593), ('horrifyingly', 8438), ('hilarious', 8256), ('await', 1514), ('ghost', 7363), ('serial', 15561), ('resurfaces', 14599), ('jordan', 9474), ('silver', 15898), ('putting', 13838), ('torment', 17763), ('heyday', 8181), ('stillvirile', 16687), ('reconnect', 14209), ('onset', 12329), ('degenerative', 4633), ('neural', 11866), ('disorder', 5057), ('hilarys', 8260), ('hire', 8283), ('goodlooking', 7521), ('backfires', 1573), ('try', 18059), ('fool', 6861), ('neighbor', 11825), ('blocks', 2150), ('view', 18700), ('commercial', 3625), ('billboard', 2032), ('hong', 8389), ('kong', 9800), ('resorts', 14564), ('drastic', 5315), ('imaginative', 8715), ('measures', 10926), ('yijuan', 19461), ('mentally', 11038), ('kaiqi', 9577), ('happy', 7932), ('face', 6309), ('misfortune', 11292), ('criminal', 4178), ('intrigue', 9130), ('marital', 10756), ('strife', 16799), ('exorcism', 6176), ('professional', 13618), ('nba', 11781), ('hooper', 8412), ('coney', 3752), ('islands', 9232), ('stephon', 16656), ('marbury', 10727), ('navigates', 11769), ('pressures', 13507), ('pitfalls', 13125), ('peaks', 12856), ('unsolved', 18414), ('novelist', 12071), ('unhappy', 18324), ('fantasizes', 6396), ('turns', 18107), ('selfserving', 15490), ('mythical', 11665), ('bid', 2000), ('invincibility', 9175), ('mercy', 11055), ('see', 15412), ('otherworldly', 12460), ('beings', 1863), ('singapore', 15933), ('investigates', 9163), ('chinese', 3236), ('migrant', 11160), ('construction', 3855), ('worker', 19304), ('spent', 16407), ('sleepless', 16060), ('nights', 11944), ('benefits', 1909), ('lingering', 10226), ('questions', 13890), ('around', 1225), ('kratom', 9828), ('leaf', 10042), ('alternative', 863), ('opioid', 12359), ('painkillers', 12616), ('juan', 9506), ('manuel', 10710), ('fangio', 6389), ('formula', 6925), ('winning', 19202), ('championships', 3057), ('1950s', 119), ('protective', 13701), ('gear', 7281), ('safety', 15076), ('resilient', 14552), ('treatments', 17952), ('traumas', 17925), ('pediatric', 12868), ('filmed', 6628), ('course', 4061), ('willful', 19160), ('hired', 8284), ('design', 4767), ('garden', 7250), ('versailles', 18647), ('louis', 10417), ('xiv', 19409), ('ensnared', 5853), ('romantic', 14907), ('complications', 3697), ('icon', 8629), ('carol', 2873), ('burnett', 2623), ('tv', 18116), ('panel', 12661), ('adults', 576), ('guests', 7754), ('solve', 16239), ('problems', 13589), ('honesty', 8385), ('knack', 9769), ('drawing', 5319), ('develops', 4838), ('musically', 11630), ('selfdiscovery', 15469), ('tough', 17794), ('lovestruck', 10436), ('teenager', 17354), ('nextdoor', 11907), ('grow', 7718), ('adulthood', 574), ('latasha', 9967), ('harlins', 7965), ('flashpoint', 6737), ('1992', 158), ('la', 9867), ('evocatively', 6068), ('15yearolds', 49), ('selfmade', 15480), ('millionaire', 11204), ('ian', 8613), ('thinks', 17542), ('caring', 2857), ('joanna', 9419), ('put', 13835), ('test', 17455), ('stewardess', 16676), ('karyn', 9624), ('choi', 3253), ('kangta', 9595), ('skills', 16013), ('thirst', 17547), ('revenge', 14661), ('killers', 9712), ('fit', 6701), ('anger', 992), ('serious', 15563), ('injury', 8972), ('sidelined', 15866), ('hometown', 8375), ('reluctantly', 14409), ('train', 17869), ('youth', 19496), ('overbearing', 12517), ('kickstart', 9694), ('overwhelmed', 12558), ('illness', 8691), ('understand', 18267), ('complexity', 3692), ('fantastic', 6397), ('consoling', 3840), ('monster', 11435), ('abel', 371), ('morales', 11467), ('avoid', 1510), ('corruptions', 4007), ('easy', 5506), ('path', 12792), ('pursues', 13823), ('amid', 917), ('1981', 146), ('excoriates', 6118), ('noted', 12050), ('antideathpenalty', 1050), ('questionable', 13888), ('methods', 11100), ('got', 7549), ('freed', 7017), ('1999', 166), ('entrepreneurs', 5894), ('worldwide', 19324), ('alternatives', 864), ('current', 4329), ('capitalist', 2797), ('structures', 16821), ('advocating', 605), ('profitable', 13632), ('businesses', 2640), ('also', 854), ('tackle', 17189), ('inequality', 8895), ('nears', 11796), ('bridetobe', 2444), ('visited', 18771), ('angel', 984), ('could', 4026), ('shed', 15705), ('followed', 6846), ('runin', 15015), ('grieco', 7665), ('dimwits', 4938), ('steve', 16674), ('gain', 7192), ('entry', 5898), ('swanky', 17091), ('saturday', 15189), ('sketch', 16000), ('1888', 77), ('amsterdam', 935), ('headstrong', 8056), ('violin', 18743), ('maker', 10619), ('immersed', 8727), ('peril', 12931), ('businessmen', 2643), ('guard', 7740), ('catches', 2952), ('writertelevision', 19373), ('host', 8457), ('shoplifting', 15791), ('instead', 9030), ('turning', 18105), ('rule', 14998), ('1991', 157), ('politician', 13271), ('detlev', 4819), ('rohwedder', 14880), ('germanys', 7350), ('tumultuous', 18080), ('reunification', 14641), ('confessing', 3761), ('unusual', 18434), ('repressed', 14501), ('prompted', 13662), ('sexuality', 15626), ('highpriced', 8224), ('call', 2721), ('nina', 11955), ('james', 9298), ('cheating', 3149), ('calling', 2727), ('pretending', 13514), ('another', 1031), ('discovers', 5012), ('oceans', 12194), ('brimming', 2461), ('plastic', 13163), ('waste', 18947), ('pollutions', 13277), ('environmental', 5902), ('impacts', 8746), ('relative', 14374), ('jules', 9523), ('daly', 4409), ('travels', 17936), ('niece', 11927), ('nephew', 11843), ('europe', 6017), ('gloria', 7462), ('groove', 7707), ('alexia', 762), ('twister', 18137), ('drag', 5297), ('artists', 1274), ('stage', 16542), ('makeover', 10617), ('isolated', 9240), ('revive', 14674), ('homes', 8370), ('foreigners', 6893), ('arrive', 1239), ('shock', 15774), ('shows', 15826), ('russell', 15032), ('peters', 12978), ('funny', 7144), ('special', 16374), ('interested', 9071), ('movie', 11555), ('girlfriends', 7409), ('uncle', 18230), ('claims', 3346), ('longdead', 10343), ('storybook', 16733), ('popoy', 13305), ('basha', 1734), ('ever', 6043), ('imagined', 8717), ('shifting', 15740), ('times', 17659), ('kept', 9672), ('decadeslong', 4540), ('coming', 3612), ('set', 15582), ('impasse', 8750), ('tehran', 17361), ('beset', 1941), ('bitter', 2082), ('feud', 6571), ('involving', 9187), ('pious', 13108), ('caretaker', 2851), ('dad', 4386), ('extraordinary', 6277), ('baudelaire', 1774), ('orphans', 12438), ('trials', 17974), ('tribulations', 17982), ('count', 4035), ('olaf', 12264), ('fateful', 6451), ('quest', 13886), ('unlock', 18365), ('longheld', 10350), ('secrets', 15397), ('aspect', 1303), ('unraveling', 18389), ('jewish', 9387), ('physics', 13038), ('seeks', 15420), ('rabbis', 13920), ('spiritual', 16439), ('guidance', 7756), ('shaun', 15699), ('flock', 6789), ('adorable', 557), ('alien', 775), ('ship', 15756), ('crashlands', 4122), ('near', 11788), ('mossy', 11503), ('bottom', 2325), ('farm', 6411), ('sparks', 16356), ('ufo', 18177), ('frenzy', 7043), ('class', 3363), ('bully', 2580), ('deaf', 4502), ('hed', 8100), ('tormented', 17764), ('grade', 7575), ('feels', 6516), ('unworthy', 18446), ('redemption', 14255), ('streamofconsciousness', 16777), ('centers', 3012), ('gay', 7279), ('reeling', 14268), ('lovers', 10433), ('recent', 14182), ('argentine', 1188), ('legal', 10086), ('ethical', 6006), ('countryside', 4051), ('pick', 13048), ('infant', 8906), ('waiting', 18855), ('adopt', 549), ('ace', 451), ('news', 11899), ('louisiana', 10419), ('flooding', 6794), ('reckless', 14191), ('teens', 17357), ('kill', 9708), ('amish', 919), ('prosecutor', 13686), ('youths', 19498), ('condemnation', 3741), ('bo', 2197), ('giftgiving', 7382), ('isnt', 9237), ('good', 7519), ('enough', 5843), ('study', 16839), ('claus', 3379), ('reckons', 14196), ('aftermath', 641), ('younger', 19489), ('incarceration', 8810), ('greater', 7635), ('taipei', 17218), ('san', 15134), ('francisco', 6985), ('swap', 17092), ('daring', 4447), ('pact', 12599), ('embarking', 5688), ('journeys', 9495), ('filled', 6624), ('memoirs', 11015), ('author', 1461), ('amos', 925), ('oz', 12577), ('poetic', 13230), ('shares', 15681), ('suffering', 16914), ('independent', 8848), ('israel', 9242), ('gabriela', 7178), ('cámara', 4381), ('opens', 12345), ('cala', 2707), ('similar', 15903), ('menu', 11043), ('unusually', 18435), ('welcoming', 19030), ('kitchen', 9756), ('philandering', 13004), ('club', 3447), ('promoter', 13658), ('rich', 14711), ('clue', 3450), ('mayhem', 10880), ('unleash', 18355), ('carry', 2890), ('dads', 4389), ('dai', 4394), ('tianqing', 17621), ('taiwan', 17219), ('karma', 9619), ('permit', 12941), ('speak', 16367), ('thousand', 17571), ('words', 19300), ('fasttalking', 6445), ('jack', 9273), ('syllable', 17151), ('turmoil', 18100), ('chinas', 3234), ('civil', 3333), ('kuomintang', 9852), ('pilots', 13087), ('pain', 12613), ('leaving', 10066), ('strength', 16785), ('bonds', 2253), ('junkyard', 9550), ('eve', 6035), ('hank', 7915), ('trash', 17923), ('truck', 18039), ('rescuing', 14524), ('newly', 11892), ('engaged', 5804), ('couples', 4055), ('jamaica', 9296), ('mischievous', 11278), ('ways', 18971), ('facing', 6320), ('drought', 5368), ('hungry', 8561), ('tiger', 17639), ('noble', 11978), ('cow', 4086), ('fable', 6303), ('children', 3216), ('book', 2268), ('kannada', 9597), ('folk', 6839), ('song', 16259), ('uruguayan', 18503), ('president', 13497), ('mujica', 11580), ('tupamaro', 18088), ('prisoners', 13567), ('solitary', 16233), ('confinement', 3771), ('torture', 17775), ('unfulfilled', 18319), ('hides', 8197), ('budding', 2554), ('interior', 9079), ('bill', 2031), ('murray', 11621), ('rounds', 14957), ('allstar', 822), ('mischief', 11277), ('barroom', 1719), ('camaraderie', 2737), ('irreverent', 9217), ('twist', 18135), ('height', 8112), ('cold', 3518), ('1960', 124), ('andré', 975), ('merlaux', 11064), ('french', 7035), ('service', 15574), ('contends', 3878), ('enemies', 5795), ('foreign', 6891), ('bureaucratic', 2607), ('job', 9421), ('optimistic', 12378), ('envisioned', 5906), ('bad', 1589), ('landon', 9933), ('opposite', 12368), ('campus', 2760), ('bookworm', 2275), ('jamie', 9300), ('play', 13171), ('blooms', 2168), ('tear', 17328), ('apart', 1080), ('anonymous', 1028), ('tip', 17675), ('bomb', 2240), ('commissioner', 3628), ('negotiate', 11820), ('terrorist', 17445), ('demands', 4678), ('release', 14380), ('militants', 11188), ('officers', 12233), ('innovative', 8991), ('mentoring', 11041), ('promising', 13656), ('harsh', 7981), ('ganginfested', 7237), ('watts', 18962), ('neighborhood', 11826), ('peculiar', 12863), ('catch', 2951), ('crushs', 4259), ('attention', 1413), ('blur', 2191), ('beatrix', 1812), ('cant', 2786), ('inducted', 8880), ('witch', 19232), ('unfortunate', 18317), ('incident', 8816), ('pending', 12881), ('title', 17688), ('fast', 6435), ('disappears', 4976), ('meg', 10974), ('charles', 3101), ('galaxies', 7199), ('darkness', 4452), ('earths', 5498), ('orbit', 12387), ('recordsetting', 14224), ('endurance', 5790), ('flight', 6769), ('homeless', 8364), ('exconvict', 6116), ('forms', 6924), ('serving', 15577), ('bodyguard', 2216), ('russian', 15034), ('revolution', 14678), ('comic', 3604), ('miniseries', 11244), ('doctors', 5153), ('outoftheway', 12496), ('wake', 18861), ('jesus', 9376), ('christs', 3286), ('crucifixion', 4241), ('apostles', 1096), ('dedicate', 4580), ('spreading', 16490), ('message', 11076), ('risking', 14780), ('everything', 6058), ('aiko', 683), ('knew', 9770), ('lie', 10172), ('joining', 9449), ('divers', 5122), ('burst', 2629), ('began', 1845), ('app', 1097), ('motocross', 11525), ('racer', 13928), ('miles', 11185), ('hill', 8262), ('topsecret', 17756), ('robotic', 14842), ('combat', 3580), ('dog', 5174), ('creator', 4145), ('military', 11190), ('hot', 8469), ('pursuit', 13825), ('coincidences', 3516), ('starcrossed', 16578), ('fate', 6449), ('pulls', 13783), ('istanbul', 9248), ('shaji', 15644), ('pappan', 12675), ('goofy', 7527), ('outlaws', 12488), ('low', 10438), ('funds', 7136), ('hefty', 8109), ('tugofwar', 18071), ('selfdoubt', 15470), ('loses', 10399), ('gun', 7781), ('due', 5406), ('hero', 8168), ('conscientious', 3822), ('overcome', 12519), ('placed', 13143), ('bureaucracy', 2605), ('intrepid', 9128), ('inspector', 9018), ('desk', 4775), ('matters', 10852), ('released', 14381), ('technicality', 17338), ('16', 50), ('ago', 661), ('surprising', 17046), ('truths', 18057), ('hightension', 8241), ('caller', 2724), ('harm', 7967), ('balcony', 1628), ('darker', 4449), ('alleged', 787), ('decision', 4564), ('supreme', 17021), ('establish', 5991), ('castebased', 2924), ('reservations', 14536), ('jobs', 9425), ('education', 5560), ('causes', 2970), ('conflict', 3776), ('mentor', 11039), ('cynical', 4372), ('gambler', 7221), ('chronic', 3287), ('smoker', 16120), ('ditches', 5112), ('fiancée', 6580), ('snubs', 16179), ('checks', 3154), ('nursing', 12110), ('kindly', 9728), ('orphaned', 12437), ('jimmy', 9403), ('goons', 7530), ('jyoti', 9566), ('indirectly', 8864), ('caused', 2969), ('municipal', 11603), ('clerk', 3401), ('literary', 10255), ('ambitions', 900), ('stalks', 16555), ('loan', 10284), ('recovery', 14234), ('decided', 4554), ('base', 1727), ('storys', 16736), ('central', 3013), ('character', 3085), ('palatial', 12640), ('spell', 16396), ('eerie', 5567), ('bighearted', 2014), ('fuzzly', 7166), ('fixing', 6715), ('mishaps', 11296), ('embracing', 5703), ('quirks', 13910), ('seventh', 15603), ('scifi', 15300), ('buff', 2562), ('employment', 5742), ('prospects', 13689), ('improve', 8795), ('accused', 449), ('reality', 14122), ('troupe', 18035), ('hiphop', 8277), ('thrown', 17600), ('studio', 16836), ('founded', 6948), ('vishnus', 18765), ('spirits', 16438), ('rebound', 14162), ('sees', 15428), ('dancers', 4419), ('prepping', 13473), ('annual', 1026), ('contest', 3882), ('enmeshed', 5839), ('drugs', 5384), ('prey', 13526), ('manipulative', 10689), ('charms', 3111), ('abducts', 366), ('adolescent', 546), ('twice', 18128), ('real', 14120), ('trucker', 18040), ('jailed', 9286), ('illfated', 8688), ('travelers', 17933), ('quetta', 13892), ('taking', 17230), ('pressure', 13505), ('assumes', 1346), ('different', 4909), ('persona', 12956), ('korean', 9813), ('celebs', 2995), ('multinational', 11593), ('engage', 5803), ('usually', 18526), ('lighthearted', 10200), ('debates', 4521), ('surround', 17050), ('beyond', 1976), ('abominable', 382), ('snowmen', 16174), ('flee', 6754), ('scientist', 15297), ('hip', 8276), ('irresponsible', 9215), ('londoner', 10327), ('invents', 9159), ('imaginary', 8712), ('singleparent', 15949), ('meetings', 10972), ('available', 1486), ('tim', 17651), ('step', 16650), ('designers', 4770), ('disciplines', 4999), ('critters', 4205), ('narrate', 11718), ('science', 15291), ('peeks', 12873), ('incredible', 8834), ('untimely', 18427), ('demise', 4683), ('separate', 15541), ('incidents', 8817), ('cha', 3028), ('min', 11212), ('seyeon', 15630), ('they', 17523), ('ve', 18593), ('bodies', 2211), ('don', 5210), ('recognize', 14201), ('disenfranchised', 5024), ('16yearold', 55), ('connects', 3808), ('older', 12268), ('onesided', 12323), ('descends', 4755), ('obsession', 12162), ('anorexia', 1030), ('lifelong', 10184), ('acapulco', 414), ('ostensibly', 12452), ('reason', 14143), ('holds', 8340), ('surprises', 17045), ('contract', 3900), ('skilled', 16011), ('staging', 16546), ('accidents', 429), ('fears', 6488), ('may', 10873), ('strategy', 16765), ('accomplice', 435), ('rejecting', 14362), ('ordinary', 12407), ('crosses', 4222), ('stoic', 16703), ('upset', 18487), ('divorce', 5133), ('infatuated', 8911), ('grandmothers', 7602), ('entrancing', 5889), ('watches', 18952), ('window', 19183), ('sights', 15879), ('hockey', 8328), ('league', 10044), ('rising', 14777), ('racial', 13933), ('tensions', 17417), ('jeopardize', 9362), ('goals', 7479), ('lad', 9883), ('upheaval', 18465), ('musical', 11629), ('featuring', 6500), ('songs', 16263), ('beatles', 1811), ('navy', 11771), ('seals', 15367), ('cia', 3303), ('turkish', 18098), ('agents', 654), ('notorious', 12061), ('known', 9786), ('dejjal', 4643), ('arabic', 1142), ('antichrist', 1045), ('sick', 15858), ('constant', 3848), ('squabbling', 16513), ('bliss', 2141), ('devastated', 4827), ('formerly', 6921), ('vow', 18821), ('silence', 15891), ('trains', 17876), ('sisterinlaw', 15970), ('traffickers', 17857), ('veteran', 18655), ('forces', 6882), ('regeneration', 14312), ('technology', 17344), ('lets', 10135), ('indefinitely', 8845), ('troubled', 18029), ('strange', 16753), ('wave', 18964), ('suicides', 16925), ('northern', 12033), ('reconnects', 14212), ('coast', 3466), ('guilt', 7764), ('stricken', 16795), ('frenetic', 7041), ('adam', 502), ('devine', 4845), ('talks', 17245), ('awkwardness', 1538), ('pitch', 13120), ('perfect', 12918), ('audition', 1438), ('omaha', 12288), ('fun', 7129), ('comedian', 3592), ('conover', 3814), ('bursts', 2630), ('misconceptions', 11280), ('deconstructs', 4573), ('topics', 17749), ('positive', 13346), ('takeaways', 17224), ('heroes', 8169), ('ice', 8620), ('cream', 4134), ('ladies', 9886), ('sandlers', 15146), ('jokes', 9455), ('groundbreaking', 7712), ('abducted', 361), ('murdered', 11608), ('john', 9440), ('reve', 14649), ('walsh', 18889), ('fought', 6940), ('raise', 13985), ('awareness', 1528), ('problem', 13587), ('chasing', 3122), ('athletic', 1379), ('daredevils', 4443), ('limits', 10218), ('various', 18583), ('giant', 7374), ('waves', 18965), ('snowy', 16178), ('slopes', 16090), ('casino', 2916), ('du', 5396), ('liban', 10156), ('lebanese', 10067), ('actor', 489), ('adel', 525), ('karam', 9606), ('delivers', 4666), ('earthy', 5499), ('punchlines', 13791), ('kissing', 9754), ('norms', 12025), ('colonoscopies', 3559), ('porn', 13318), ('named', 11697), ('rocco', 14850), ('fastfooted', 6438), ('piglet', 13073), ('bunty', 2600), ('object', 12140), ('desire', 4773), ('want', 18903), ('swift', 17116), ('swine', 17126), ('animalracing', 1002), ('schemes', 15261), ('trailblazing', 17865), ('aditi', 529), ('mittal', 11337), ('mixes', 11341), ('topical', 17748), ('standup', 16569), ('frank', 6989), ('talk', 17240), ('wearing', 18982), ('thongs', 17560), ('indian', 8855), ('ratings', 14080), ('roz', 14977), ('lil', 10210), ('others', 12458), ('affairs', 613), ('secrecy', 15391), ('sailing', 15086), ('yacht', 19419), ('catastrophic', 2950), ('hurricane', 8572), ('harmonious', 7968), ('existence', 6159), ('interrupted', 9101), ('showing', 15823), ('anxiety', 1068), ('seem', 15422), ('biomedical', 2054), ('firm', 6680), ('prizes', 13579), ('submit', 16877), ('homeschooling', 8371), ('wants', 18906), ('let', 10133), ('dubai', 5398), ('fleet', 6757), ('spaceships', 16336), ('hovering', 8496), ('contact', 3864), ('baffling', 1603), ('diagnoses', 4869), ('costly', 4021), ('illnesses', 8692), ('answers', 1035), ('relief', 14393), ('brazilian', 2402), ('afonso', 631), ('padilha', 12604), ('dives', 5125), ('humble', 8541), ('beginnings', 1849), ('digs', 4922), ('fivepart', 6707), ('fascinating', 6427), ('continent', 3888), ('planet', 13153), ('spotlights', 16479), ('afrobrazilian', 639), ('thinkers', 17540), ('individual', 8866), ('discussing', 5017), ('representation', 14498), ('entrepreneurship', 5895), ('wholesome', 19115), ('freshman', 7049), ('tessa', 17454), ('complicated', 3695), ('hardin', 7949), ('scott', 15325), ('struggling', 16824), ('terms', 17431), ('newspaper', 11901), ('adopts', 554), ('gruff', 7729), ('effort', 5574), ('push', 13828), ('displaced', 5074), ('maria', 10740), ('puerto', 13772), ('rican', 14707), ('uncertain', 18225), ('futures', 7162), ('federal', 6503), ('housing', 8493), ('expires', 6210), ('careers', 2843), ('porns', 13319), ('adjustment', 533), ('normal', 12019), ('adult', 571), ('entertainment', 5876), ('third', 17543), ('installment', 9027), ('genres', 7324), ('ended', 5778), ('large', 9949), ('immigration', 8733), ('emotional', 5727), ('fallout', 6363), ('hard', 7940), ('churchgoers', 3301), ('means', 10922), ('thy', 17617), ('fell', 6529), ('betrayal', 1959), ('tears', 17329), ('whether', 19089), ('trust', 18051), ('second', 15389), ('air', 695), ('traffic', 17854), ('controllers', 3914), ('results', 14596), ('responsible', 14579), ('prep', 13467), ('loner', 10334), ('films', 6633), ('classmates', 3373), ('overdosing', 12524), ('cocaine', 3478), ('role', 14885), ('tourist', 17805), ('partying', 12760), ('chile', 3221), ('devastates', 4828), ('area', 1181), ('scramble', 15332), ('psychologist', 13749), ('investigating', 9164), ('string', 16803), ('murders', 11615), ('crimesolving', 4177), ('killings', 9714), ('dramatized', 5312), ('depiction', 4725), ('11day', 22), ('agatha', 646), ('christie', 3278), ('solving', 16242), ('writing', 19376), ('backlash', 1576), ('intergenerational', 9078), ('stick', 16678), ('thick', 17531), ('thin', 17536), ('thriving', 17594), ('nightlife', 11939), ('kuala', 9839), ('lumpur', 10486), ('showgirl', 15822), ('housekeeper', 8487), ('chanteuse', 3073), ('unruly', 18400), ('wreak', 19352), ('havoc', 8023), ('bullies', 2577), ('turbulent', 18093), ('grounds', 7714), ('tanks', 17268), ('unfolds', 18313), ('geopolitics', 7336), ('century', 3017), ('footballer', 6868), ('player', 13174), ('destroy', 4795), ('mix', 11339), ('brilliance', 2458), ('erudition', 5958), ('skill', 16010), ('enables', 5754), ('modern', 11375), ('sherlock', 15728), ('holmes', 8354), ('cases', 2909), ('heal', 8058), ('wounds', 19343), ('frustrated', 7092), ('thankless', 17487), ('office', 12231), ('retsuko', 14635), ('red', 14247), ('panda', 12654), ('copes', 3964), ('daily', 4395), ('belting', 1894), ('metal', 11088), ('karaoke', 9608), ('validation', 18553), ('spirals', 16433), ('innocent', 8986), ('reparation', 14473), ('great', 7633), ('costs', 4022), ('agustín', 669), ('radagast', 13940), ('aristarán', 1198), ('adds', 523), ('doses', 5248), ('acting', 476), ('highenergy', 8208), ('routine', 14962), ('crew', 4162), ('shooting', 15784), ('forested', 6901), ('location', 10298), ('entity', 5886), ('cannot', 2783), ('hear', 8069), ('stood', 16715), ('groom', 7702), ('altar', 857), ('exfiancé', 6139), ('ai', 675), ('weiwei', 19027), ('inspire', 9021), ('suffers', 16915), ('persecution', 12947), ('actions', 481), ('japan', 9314), ('board', 2198), ('pink', 13094), ('asia', 1293), ('goal', 7476), ('ainsley', 693), ('harriott', 7976), ('foods', 6860), ('sensitive', 15528), ('ainu', 694), ('searches', 15373), ('recently', 14183), ('deceased', 4544), ('navigating', 11770), ('indigenous', 8862), ('changing', 3069), ('ana', 941), ('influencer', 8933), ('talking', 17244), ('she', 15703), ('shipped', 15760), ('grumpy', 7731), ('grandfathers', 7597), ('digital', 4919), ('concrete', 3739), ('urban', 18494), ('appreciate', 1119), ('joys', 9501), ('happily', 7930), ('deal', 4503), ('episode', 5917), ('thought', 17567), ('protégé', 13711), ('rogue', 14875), ('threat', 17575), ('serves', 15573), ('outspoken', 12510), ('conservative', 3831), ('fending', 6546), ('prospect', 13687), ('arranged', 1230), ('traveling', 17934), ('rv', 15044), ('ruby', 14982), ('unlikely', 18362), ('sidekick', 15864), ('aj', 710), ('toughtalking', 17801), ('10yearold', 17), ('stowaway', 16739), ('drives', 5356), ('else', 5666), ('studies', 16835), ('grad', 7574), ('akif', 718), ('involved', 9184), ('continuation', 3893), ('uoolss', 18450), ('ajin', 712), ('authorities', 1465), ('granddaughter', 7593), ('sexually', 15628), ('assaulted', 1320), ('served', 15571), ('frail', 6972), ('plots', 13201), ('spat', 16362), ('disgraced', 5027), ('retaliates', 14609), ('kidnapping', 9701), ('filming', 6629), ('tatsumi', 17300), ('assassins', 1318), ('wit', 19231), ('akbar', 716), ('trusty', 18055), ('advisor', 600), ('birbal', 2060), ('display', 5076), ('unique', 18339), ('adventures', 588), ('mughalera', 11578), ('enter', 5865), ('arrested', 1234), ('dramatic', 5309), ('escapes', 5971), ('model', 11371), ('fresh', 7046), ('start', 16596), ('park', 12721), ('ranger', 14036), ('assignment', 1331), ('network', 11863), ('poachers', 13218), ('depends', 4722), ('instincts', 9032), ('lebanonsyria', 10070), ('head', 8043), ('armssmuggling', 1220), ('clan', 3350), ('conflicts', 3779), ('power', 13400), ('growing', 7719), ('enduring', 5794), ('criticism', 4202), ('shaken', 15647), ('learning', 10058), ('switched', 17135), ('birth', 2067), ('inferiority', 8915), ('impoverished', 8780), ('tells', 17378), ('tall', 17247), ('influence', 8931), ('upgrade', 18464), ('status', 16620), ('alan', 727), ('saldaña', 15103), ('sitting', 15979), ('exit', 6162), ('maxing', 10870), ('credit', 4151), ('card', 2825), ('vacationing', 18538), ('resort', 14563), ('ornery', 12432), ('held', 8124), ('captive', 2812), ('organization', 12416), ('alaskan', 731), ('cannery', 2778), ('fighter', 6604), ('tapped', 17278), ('boxing', 2348), ('goa', 7475), ('vengeance', 18623), ('fueled', 7100), ('pentup', 12897), ('toward', 17815), ('magical', 10573), ('transports', 17915), ('ruled', 14999), ('general', 7302), ('colombian', 3552), ('alejandro', 753), ('riaño', 14703), ('discusses', 5016), ('perks', 12937), ('dating', 4469), ('shewolf', 15733), ('styles', 16858), ('dancing', 4420), ('bogotá', 2220), ('announcers', 1022), ('grammyaward', 7586), ('sanz', 15164), ('mourning', 11545), ('siblings', 15857), ('selling', 15497), ('beloved', 1892), ('beach', 1788), ('alex', 758), ('fernández', 6554), ('performs', 12928), ('familiar', 6372), ('autobiographical', 1471), ('deeper', 4593), ('tender', 17404), ('trueloves', 18045), ('virginity', 18755), ('lovable', 10424), ('awry', 1539), ('equally', 5924), ('elliot', 5655), ('alexa', 759), ('katie', 9637), ('ready', 14118), ('whatever', 19076), ('next', 11906), ('alexandria', 761), ('egyptian', 5588), ('enamored', 5758), ('hollywood', 8352), ('yehia', 19448), ('hunger', 8558), ('strike', 16800), ('smitten', 16118), ('creative', 4141), ('muse', 11625), ('colombia', 3551), ('sensation', 15522), ('legs', 10096), ('alexis', 763), ('viera', 18695), ('purpose', 13819), ('addiction', 514), ('endanger', 5773), ('sweethearts', 17112), ('perils', 12933), ('precarious', 13436), ('gnome', 7472), ('vendor', 18617), ('brotherinlaw', 2509), ('attend', 1406), ('trade', 17842), ('fair', 6341), ('sofia', 16210), ('stumble', 16844), ('shenanigans', 15722), ('ali', 769), ('wongs', 19281), ('stand', 16561), ('delves', 4674), ('hoarding', 8325), ('rocky', 14861), ('feminism', 6540), ('terrible', 17436), ('cobra', 3477), ('wong', 19280), ('bump', 2586), ('torrent', 17772), ('motherhood', 11510), ('telling', 17377), ('white', 19103), ('spins', 16429), ('iraqiborn', 9198), ('cleric', 3399), ('melbourne', 10997), ('duty', 5451), ('19thcentury', 168), ('canada', 2763), ('weighs', 19018), ('murderess', 11611), ('pardoned', 12706), ('insanity', 8997), ('margaret', 10736), ('atwoods', 1428), ('awardwinning', 1527), ('novel', 12070), ('witnesses', 19245), ('figures', 6611), ('respond', 14573), ('pablo', 12582), ('escobar', 5974), ('medellín', 10945), ('cartels', 2896), ('sole', 16228), ('jairo', 9290), ('velásquez', 18614), ('web', 18988), ('bandits', 1662), ('waitress', 18856), ('befriending', 1843), ('coworkers', 4090), ('romancing', 14900), ('ruggedly', 14989), ('rancher', 14027), ('aimless', 690), ('gamer', 7227), ('parallel', 12687), ('tokyo', 17715), ('compete', 3676), ('sadistic', 15069), ('games', 7228), ('trans', 17882), ('vibrant', 18665), ('personality', 12959), ('shakes', 15648), ('kiss', 9753), ('factbased', 6322), ('account', 440), ('humankinds', 8533), ('gather', 7269), ('signals', 15883), ('intelligent', 9055), ('solar', 16222), ('reporters', 14493), ('ixbee', 9263), ('pixbee', 13135), ('squee', 16522), ('lovely', 10431), ('odd', 12200), ('hobbies', 8326), ('seal', 15365), ('tackles', 17191), ('research', 14525), ('scientists', 15298), ('mysteriously', 11656), ('disappeared', 4974), ('awaits', 1516), ('applying', 1112), ('laws', 10018), ('rest', 14580), ('galaxy', 7200), ('fact', 6321), ('fiction', 6586), ('imagine', 8716), ('planets', 13154), ('mistakes', 11318), ('plaything', 13184), ('gravity', 7628), ('steal', 16630), ('presents', 13488), ('lawmen', 10013), ('fly', 6820), ('rods', 14870), ('bedroom', 1831), ('swing', 17127), ('dancings', 4421), ('continued', 3895), ('prosperity', 13690), ('joyous', 9500), ('personalities', 12958), ('inseparable', 9005), ('fearless', 6485), ('provocation', 13728), ('gelds', 7291), ('levels', 10143), ('mc', 10890), ('joe', 9431), ('speed', 16391), ('retires', 14622), ('showbiz', 15816), ('rhythm', 14700), ('balancing', 1625), ('everyday', 6055), ('chaos', 3075), ('clashes', 3360), ('brewing', 2433), ('rivalries', 14792), ('beverly', 1971), ('hills', 8263), ('guest', 7753), ('unsuspecting', 18421), ('staff', 16541), ('embroiled', 5704), ('hostage', 8458), ('looks', 10370), ('canine', 2776), ('con', 3717), ('sneaks', 16155), ('penniless', 12889), ('runaway', 15011), ('tangled', 17262), ('organized', 12417), ('blackmails', 2099), ('adulterous', 572), ('emmy', 5720), ('outstanding', 12511), ('childrens', 3217), ('animated', 1004), ('madagascar', 10540), ('bootyshaker', 2289), ('julien', 9528), ('craziest', 4131), ('juliens', 9529), ('dethroned', 4818), ('allies', 807), ('propel', 13670), ('lemur', 10105), ('colorful', 3564), ('summoning', 16946), ('dearly', 4512), ('departed', 4718), ('charming', 3110), ('vengeful', 18625), ('documents', 5164), ('loving', 10437), ('traditional', 17849), ('process', 13595), ('acceptance', 420), ('traumatic', 17926), ('revisits', 14671), ('terrors', 17451), ('sight', 15877), ('instant', 9028), ('chemistry', 3169), ('unravels', 18390), ('jarring', 9318), ('weekend', 19008), ('excursion', 6120), ('secluded', 15387), ('unwelcome', 18440), ('visitor', 18773), ('picking', 13049), ('randy', 14033), ('admirers', 540), ('temptress', 17395), ('mandy', 10669), ('lane', 9939), ('cathartic', 2958), ('chronicling', 3291), ('indiana', 8856), ('battlescarred', 1771), ('ops', 12375), ('vet', 18654), ('ciafunded', 3304), ('triggerhappy', 17996), ('comrades', 3716), ('thirteenyearold', 17550), ('miguel', 11165), ('immune', 8740), ('fever', 6575), ('myriad', 11653), ('surprised', 17043), ('anticipated', 1046), ('talented', 17234), ('clings', 3416), ('strikes', 16801), ('accept', 419), ('bound', 2331), ('forbids', 6878), ('marrying', 10779), ('stubborn', 16826), ('hitched', 8307), ('enlists', 5838), ('guru', 7797), ('bosss', 2311), ('nothing', 12053), ('happened', 7925), ('heavily', 8095), ('mind', 11215), ('body', 2212), ('birthdays', 2069), ('happygolucky', 7933), ('commitmentaverse', 3633), ('strives', 16810), ('bit', 2075), ('calm', 2730), ('chaotic', 3077), ('sebastián', 15386), ('radio', 13946), ('modest', 11379), ('fame', 6369), ('deals', 4509), ('exwife', 6290), ('still', 16684), ('striving', 16811), ('yorkers', 19479), ('heartache', 8075), ('equipped', 5929), ('limited', 10217), ('resources', 14566), ('individuals', 8868), ('conditions', 3745), ('wilderness', 19148), ('tap', 17273), ('battlefield', 1766), ('berlin', 1932), ('quietly', 13900), ('resistance', 14554), ('adolf', 547), ('hitler', 8310), ('eight', 5593), ('christine', 3280), ('raf', 13953), ('points', 13237), ('prestigious', 13508), ('homicide', 8378), ('teaming', 17324), ('security', 15402), ('outdoor', 12478), ('wolf', 19256), ('humphrey', 8552), ('kate', 9633), ('cubs', 4280), ('explanation', 6215), ('pup', 13803), ('runt', 15022), ('cave', 2977), ('befriends', 1844), ('driven', 5352), ('pack', 12589), ('blind', 2133), ('alphabet', 843), ('alphaland', 845), ('read', 14112), ('write', 19368), ('exciting', 6110), ('phonic', 13022), ('deceptively', 4552), ('antifa', 1053), ('charlottesville', 3106), ('riots', 14765), ('trumps', 18050), ('presidency', 13496), ('250', 231), ('prisoner', 13565), ('mindbending', 11217), ('latimer', 9975), ('takeshi', 17229), ('kovacs', 9822), ('tattooist', 17304), ('yakuza', 19421), ('nononsense', 12003), ('ctac', 4272), ('never', 11873), ('always', 873), ('weddings', 19001), ('copy', 3970), ('editor', 5550), ('pool', 13298), ('involves', 9186), ('staying', 16627), ('forever', 6904), ('17thcentury', 59), ('adjust', 531), ('presentday', 13484), ('cartagena', 2894), ('defeat', 4600), ('dumped', 5419), ('respective', 14571), ('acquitted', 471), ('amanda', 883), ('knox', 9788), ('closest', 3436), ('recounts', 14228), ('littleknown', 10260), ('played', 13173), ('eradicate', 5932), ('apartheid', 1081), ('laura', 9997), ('carlos', 2864), ('intensity', 9061), ('fragility', 6971), ('realities', 14121), ('tarnish', 17287), ('idealized', 8642), ('notions', 12060), ('brotherly', 2510), ('catholic', 2960), ('absurdities', 398), ('amar', 886), ('anthony', 1041), ('independently', 8849), ('knowledge', 9785), ('reunited', 14644), ('coincidence', 3515), ('blood', 2155), ('fulfill', 7111), ('build', 2567), ('widow', 19132), ('cairo', 2701), ('poverty', 13398), ('14yearold', 40), ('phenom', 12997), ('confronted', 3784), ('greed', 7641), ('amateur', 889), ('eccentric', 5518), ('homeowners', 8368), ('spaces', 16334), ('backyard', 1586), ('roller', 14890), ('coaster', 3468), ('indoor', 8875), ('aquarium', 1136), ('amelia', 905), ('earharts', 5479), ('accomplishments', 438), ('celebrated', 2988), ('thanks', 17488), ('muriel', 11617), ('engaging', 5807), ('backstories', 1581), ('institutions', 9036), ('pentagon', 12895), ('west', 19063), ('point', 13235), ('playboy', 13172), ('mansion', 10705), ('supermodel', 16981), ('tyra', 18161), ('banks', 1682), ('created', 4136), ('executiveproduced', 6134), ('transformation', 17895), ('potential', 13385), ('supermodels', 16982), ('profiles', 13629), ('william', 19161), ('powell', 13399), ('wrote', 19387), ('anarchist', 950), ('cookbook', 3945), ('regretting', 14329), ('mitch', 11331), ('rapp', 14059), ('loss', 10401), ('singleminded', 15948), ('endure', 5791), ('tightly', 17644), ('wound', 19341), ('unfulfilling', 18320), ('surly', 17040), ('debate', 4520), ('practice', 13414), ('nonreligious', 12004), ('circumcision', 3318), ('anthology', 1040), ('arc', 1152), ('season', 15378), ('dramas', 5308), ('focusing', 6828), ('dramatizes', 5313), ('including', 8823), ('oj', 12259), ('simpson', 15915), ('trial', 17973), ('andrew', 970), ('cunanans', 4310), ('1997', 163), ('botched', 2318), ('arrest', 1233), ('supremacist', 17019), ('idaho', 8636), ('galvanize', 7214), ('opinion', 12357), ('exploration', 6224), ('circus', 3321), ('spectacle', 16381), ('evolved', 6072), ('onering', 12321), ('event', 6038), ('eventually', 6042), ('breed', 2420), ('1931', 104), ('tore', 17759), ('lines', 10224), ('claiming', 3345), ('raped', 14052), ('nonwhite', 12011), ('islanders', 9231), ('soar', 16182), ('company', 3664), ('reopens', 14468), ('shuttered', 15851), ('factory', 6327), ('ohio', 12253), ('shatter', 15695), ('barack', 1688), ('michelle', 11125), ('obama', 12133), ('directors', 4960), ('steven', 16675), ('bognar', 2219), ('julia', 9524), ('reichert', 14338), ('importance', 8773), ('storytelling', 16738), ('judge', 9512), ('streamed', 16774), ('supposedly', 17016), ('sending', 15513), ('excon', 6114), ('track', 17837), ('drags', 5303), ('underworld', 18275), ('neonazi', 11839), ('prevent', 13519), ('footsteps', 6874), ('dull', 5416), ('oklahoma', 12261), ('raucous', 14087), ('travelling', 17935), ('magazine', 10565), ('sellers', 15496), ('alcohol', 743), ('sexfilled', 15616), ('twisted', 18136), ('emmywinning', 5722), ('horrors', 8441), ('unsettling', 18412), ('capacity', 2793), ('baseball', 1728), ('legend', 10088), ('ted', 17346), ('williams', 19162), ('hitter', 8315), ('teammates', 17325), ('press', 13502), ('using', 18521), ('raw', 14095), ('firsthand', 6685), ('shanann', 15659), ('linking', 10229), ('terrorists', 17446), ('corporation', 3992), ('tightknit', 17643), ('seniors', 15520), ('homecoming', 8361), ('arrival', 1237), ('muddles', 11574), ('chiseled', 3244), ('belie', 1870), ('businessman', 2641), ('pathological', 12795), ('yuppie', 19514), ('pursuits', 13826), ('indulges', 8882), ('sudden', 16907), ('homicidal', 8377), ('urges', 18500), ('passes', 12771), ('tension', 17416), ('mounts', 11542), ('florida', 6801), ('interracial', 9097), ('rocked', 14852), ('vandalism', 18567), ('pleads', 13188), ('ally', 831), ('satirical', 15183), ('haunted', 8017), ('rebuild', 14166), ('injustices', 8974), ('modernday', 11376), ('parenting', 12710), ('amit', 920), ('tandon', 17259), ('wisdom', 19219), ('wisecracks', 19222), ('philippine', 13007), ('crackdown', 4096), ('narcotics', 11716), ('joseph', 9480), ('expands', 6183), ('profits', 13633), ('fikret', 6616), ('songstress', 16264), ('solmaz', 16234), ('wacky', 18840), ('fill', 6622), ('soontowed', 16277), ('buddha', 2550), ('philosophy', 13015), ('nonviolence', 12009), ('warmonger', 18919), ('destruction', 4799), ('enemy', 5796), ('rare', 14065), ('videos', 18687), ('winehouses', 19188), ('inner', 8982), ('circle', 3315), ('offer', 12225), ('charismatic', 3096), ('schumer', 15288), ('spills', 16419), ('growth', 7724), ('misguided', 11294), ('advice', 596), ('raunchy', 14089), ('sincere', 15930), ('riffs', 14739), ('uncensored', 18224), ('denvers', 4712), ('bellco', 1880), ('theater', 17497), ('extensive', 6265), ('clips', 3422), ('tell', 17375), ('ellis', 5657), ('dungan', 5424), ('15', 41), ('helped', 8137), ('define', 4616), ('tamil', 17254), ('cinema', 3311), ('fievel', 6598), ('mouse', 11546), ('immigrates', 8732), ('perilous', 12932), ('cowboy', 4087), ('nasty', 11735), ('mousenapping', 11547), ('hunting', 8568), ('buried', 2617), ('treasure', 17944), ('beneath', 1903), ('ruins', 14994), ('subway', 16894), ('tunnel', 18086), ('onto', 12334), ('drawn', 5321), ('hedonistic', 8104), ('cannes', 2779), ('values', 18561), ('undergoing', 18254), ('surgery', 17036), ('london', 10324), ('reflects', 14289), ('chamber', 3048), ('courtroom', 4068), ('unhappily', 18323), ('production', 13613), ('shell', 15716), ('anything', 1073), ('2002', 175), ('el', 5602), ('ayyat', 1552), ('90', 330), ('minutes', 11256), ('explosion', 6232), ('riders', 14730), ('thirdclass', 17544), ('cars', 2892), ('nightmare', 11941), ('abusive', 407), ('exboyfriend', 6097), ('actress', 493), ('question', 13887), ('took', 17741), ('selfassured', 15456), ('drive', 5351), ('granted', 7609), ('god', 7484), ('hiding', 8198), ('maid', 10595), ('confidant', 3765), ('accountant', 441), ('magician', 10576), ('invites', 9181), ('colombias', 3553), ('mostwanted', 11505), ('eager', 5475), ('settle', 15588), ('abdullah', 367), ('longs', 10358), ('feel', 6513), ('musicians', 11635), ('differing', 4911), ('views', 18702), ('record', 14218), ('album', 738), ('drastically', 5316), ('alters', 865), ('scours', 15328), ('hyderabad', 8592), ('entangled', 5860), ('suggests', 16921), ('there', 17517), ('eye', 6291), ('harassed', 7934), ('performing', 12927), ('clear', 3392), ('name', 11696), ('kat', 9630), ('eva', 6022), ('rough', 14953), ('patch', 12789), ('visiting', 18772), ('roger', 14874), ('complete', 3686), ('nigerian', 11934), ('agonizing', 663), ('defy', 4629), ('deportation', 4727), ('orders', 12406), ('giving', 7417), ('citizenship', 3325), ('ancient', 957), ('really', 14130), ('technological', 17342), ('advances', 580), ('civilized', 3339), ('extraterrestrial', 6279), ('icelandic', 8623), ('guineabissauan', 7769), ('asylum', 1369), ('seeker', 15417), ('intertwined', 9111), ('longlost', 10354), ('twin', 18130), ('secretary', 15394), ('plot', 13199), ('brews', 2434), ('fortune', 6932), ('broke', 2486), ('heiress', 8117), ('nearby', 11789), ('charm', 3107), ('visually', 18778), ('impaired', 8747), ('pianist', 13043), ('careens', 2838), ('twists', 18140), ('unintentionally', 18335), ('scene', 15254), ('librarian', 10167), ('dispirited', 5072), ('cricketer', 4167), ('desolate', 4776), ('seek', 15416), ('retribution', 14630), ('overlap', 12532), ('influences', 8935), ('prepares', 13471), ('michelinstarred', 11124), ('chiang', 3189), ('reflection', 14286), ('inscrutable', 8999), ('incomparable', 8825), ('famed', 6370), ('nicolas', 11925), ('anelka', 979), ('legacy', 10085), ('indepth', 8850), ('popular', 13312), ('attacked', 1396), ('lifealtering', 10177), ('assault', 1319), ('amidst', 918), ('wars', 18935), ('vincent', 18728), ('entrepreneurial', 5893), ('ends', 5788), ('copper', 3966), ('dimension', 4935), ('highschool', 8232), ('afterlife', 640), ('purgatorial', 13815), ('vulnerable', 18836), ('streetwise', 16783), ('chicago', 3193), ('banning', 1684), ('crossfire', 4223), ('framed', 6974), ('angela', 985), ('heartwarming', 8087), ('mccourt', 10897), ('australia', 1456), ('heartfelt', 8080), ('harvard', 7990), ('symbologist', 17158), ('vatican', 18590), ('retaliate', 14608), ('persecutions', 12948), ('management', 10658), ('counseling', 4032), ('therapist', 17515), ('birds', 2063), ('chuck', 3295), ('feathered', 6492), ('lots', 10408), ('guarding', 7743), ('eggs', 5581), ('nest', 11853), ('pesky', 12971), ('pigs', 13074), ('closeknit', 3433), ('announce', 1020), ('engagement', 5805), ('stirs', 16698), ('riot', 14762), ('emotion', 5726), ('singular', 15954), ('biopic', 2055), ('yet', 19456), ('prolific', 13648), ('marathi', 10723), ('dentistturnedsuperstar', 4710), ('directed', 4955), ('paul', 12819), ('thomas', 17556), ('anderson', 962), ('thom', 17555), ('yorke', 19477), ('radiohead', 13948), ('visual', 18777), ('piece', 13061), ('loud', 10412), ('enchanted', 5759), ('crackers', 4099), ('owen', 12563), ('shape', 15671), ('eats', 5513), ('hell', 8130), ('uncles', 18232), ('unlucky', 18368), ('debtridden', 4530), ('math', 10838), ('tournament', 17808), ('rockpaperscissors', 14858), ('diabolical', 4867), ('visions', 18769), ('frequent', 7045), ('anitta', 1010), ('ethic', 6005), ('revealing', 14652), ('mildmannered', 11180), ('krishna', 9833), ('gangleader', 7239), ('spinechilling', 16424), ('malevolent', 10641), ('unfold', 18310), ('villages', 18721), ('jungles', 9543), ('buildings', 2569), ('cops', 3967), ('vikrant', 18711), ('mysteries', 11654), ('realm', 14131), ('paranormal', 12698), ('youtube', 19499), ('nail', 11688), ('salons', 15115), ('gypsies', 7818), ('supersleuthing', 16989), ('liam', 10152), ('neeson', 11810), ('distressing', 5103), ('delhi', 4651), ('vows', 18824), ('believe', 1873), ('ideals', 8643), ('directions', 4957), ('intern', 9082), ('negligence', 11818), ('surgeon', 17034), ('looked', 10368), ('picturesque', 13058), ('nantucket', 11705), ('crafty', 4110), ('thieves', 17535), ('ghostly', 7365), ('conundrum', 3920), ('plucky', 13207), ('passions', 12776), ('spinster', 16430), ('softspoken', 16215), ('green', 7645), ('gables', 7176), ('summons', 16947), ('rendered', 14442), ('obsolete', 12167), ('deleted', 4650), ('overtaken', 12549), ('spontaneous', 16462), ('massive', 10816), ('artifact', 1262), ('niko', 11949), ('breckinridge', 2419), ('interstellar', 9109), ('sound', 16306), ('mired', 11267), ('happen', 7924), ('fewer', 6577), ('deeds', 4588), ('hardcharging', 7941), ('lang', 9941), ('aka', 713), ('antman', 1063), ('drafted', 5294), ('dr', 5285), ('pym', 13843), ('van', 18565), ('dyne', 5468), ('wasp', 18946), ('urgent', 18499), ('grandson', 7605), ('famous', 6380), ('knight', 9773), ('hilariously', 8257), ('beautiful', 1816), ('tribe', 17980), ('villains', 18724), ('superheroes', 16973), ('it', 9250), ('bheem', 1986), ('cnn', 3458), ('original', 12423), ('bourdain', 2336), ('locations', 10299), ('globe', 7451), ('sample', 15129), ('cuisines', 4289), ('forging', 6911), ('comedic', 3594), ('boundaries', 2332), ('jeselnik', 9372), ('revels', 14659), ('saying', 15219), ('theres', 17518), ('subject', 16870), ('skewers', 16006), ('taboos', 17187), ('tragedies', 17859), ('pulling', 13782), ('curtain', 4337), ('provocative', 13729), ('style', 16857), ('forger', 6906), ('fake', 6354), ('stolen', 16706), ('diamonds', 4875), ('penitentiary', 12887), ('mob', 11352), ('phony', 13023), ('alias', 771), ('toughasnails', 17795), ('protects', 13703), ('humanitarian', 8529), ('cure', 4319), ('disease', 5020), ('determination', 4811), ('antoine', 1064), ('griezmann', 7674), ('overcame', 12518), ('stature', 16619), ('champion', 3054), ('refuge', 14298), ('hindu', 8273), ('temple', 17386), ('loved', 10428), ('hailing', 7839), ('mountains', 11539), ('iga', 8657), ('kanzo', 9601), ('hattori', 8012), ('elementary', 5627), ('kenichi', 9662), ('mitsuba', 11334), ('hone', 8382), ('ninja', 11959), ('recovered', 14231), ('cockpit', 3481), ('reveal', 14650), ('largest', 9954), ('gritty', 7693), ('dramatization', 5311), ('tevez', 17470), ('harrowing', 7979), ('argentinas', 1187), ('fuerte', 7104), ('apache', 1078), ('sáez', 17174), ('carral', 2882), ('condescending', 3743), ('underachieving', 18247), ('loafer', 10283), ('lured', 10494), ('kingpin', 9737), ('visionary', 18768), ('carmaker', 2868), ('introduces', 9135), ('fuelefficient', 7101), ('highperformance', 8222), ('hypercar', 8599), ('market', 10760), ('bigname', 2016), ('competitors', 3682), ('ferrari', 6556), ('porsche', 13321), ('apollo', 1092), ('statements', 16607), ('contrary', 3906), ('wasnt', 18945), ('nasas', 11730), ('manned', 10697), ('moon', 11455), ('1905', 94), ('drifter', 5344), ('tangles', 17263), ('sinister', 15956), ('cult', 4299), ('disappear', 4971), ('april', 1132), ('forges', 6908), ('ahead', 670), ('vast', 18588), ('prominent', 13651), ('drugfueled', 5381), ('manson', 10707), ('france', 6978), ('despair', 4778), ('crippling', 4187), ('aram', 1146), ('beirut', 1864), ('grandfather', 7596), ('armenian', 1212), ('comedians', 3593), ('antonio', 1066), ('sanint', 15150), ('julián', 9532), ('arango', 1149), ('impersonate', 8759), ('cabbie', 2679), ('pair', 12627), ('dirty', 4964), ('opera', 12346), ('twenty', 18125), ('debut', 4533), ('arashi', 1150), ('showcase', 15817), ('talents', 17236), ('chicken', 3199), ('archibald', 1165), ('chores', 3268), ('forgets', 6910), ('lifes', 10186), ('stumbles', 16845), ('otto', 12465), ('von', 18815), ('walruss', 18888), ('melt', 11006), ('arctic', 1178), ('fox', 6964), ('swifty', 17117), ('ragtag', 13965), ('madly', 10554), ('studying', 16840), ('immunizing', 8742), ('protein', 13704), ('produced', 13608), ('penguins', 12885), ('offers', 12229), ('convince', 3937), ('courts', 4069), ('rabid', 13923), ('algorithm', 767), ('contestants', 3884), ('identify', 8647), ('matches', 10827), ('cash', 2911), ('amsterdams', 936), ('exclusive', 6112), ('horrifying', 8437), ('misleading', 11298), ('passionate', 12774), ('investigative', 9167), ('light', 10198), ('englishlanguage', 5818), ('ari', 1192), ('eldjárn', 5610), ('pokes', 13242), ('nordic', 12015), ('hollywoods', 8353), ('thor', 17561), ('whims', 19092), ('toddlers', 17702), ('wry', 19389), ('thoughtful', 17568), ('shaffir', 15638), ('edgy', 5541), ('humor', 8549), ('fastpaced', 6443), ('specials', 16378), ('ariana', 1193), ('grande', 7594), ('sweetener', 17110), ('tour', 17802), ('behindthescenes', 1860), ('rehearsal', 14335), ('laugh', 9984), ('retelling', 14612), ('classic', 3367), ('arjun', 1206), ('sanskrit', 15159), ('epic', 5910), ('mahabharata', 10586), ('princes', 13551), ('lab', 9869), ('loop', 10374), ('disoriented', 5059), ('fends', 6547), ('masked', 10807), ('raiders', 13971), ('harboring', 7937), ('energy', 5799), ('dc', 4491), ('comics', 3608), ('arrow', 1243), ('affluent', 624), ('saving', 15207), ('bow', 2339), ('arrows', 1244), ('arsenio', 1247), ('hall', 7870), ('bothersome', 2320), ('toes', 17705), ('arth', 1256), ('inhabitants', 8954), ('arthdal', 1257), ('regions', 14324), ('vie', 18691), ('brand', 2380), ('remake', 14415), ('philanderer', 13002), ('sake', 15096), ('clauss', 3380), ('supersecret', 16988), ('toymaking', 17829), ('facility', 6319), ('mr', 11562), ('entrusts', 5897), ('arthur', 1259), ('ultraimportant', 18193), ('grim', 7680), ('discrimination', 5014), ('entitled', 5885), ('upright', 18480), ('ventures', 18632), ('heartland', 8082), ('epidemiologist', 5915), ('nationwide', 11750), ('bird', 2062), ('flu', 6815), ('investigation', 9165), ('delicacies', 4654), ('en', 5752), ('route', 14960), ('tomb', 17723), ('raider', 13970), ('catacombs', 2938), ('hellish', 8133), ('structured', 16820), ('sour', 16311), ('obsessivecompulsive', 12165), ('crumbles', 4248), ('entangling', 5863), ('chauffeur', 3136), ('pimp', 13089), ('ugly', 18179), ('glitzy', 7447), ('veneer', 18619), ('dispute', 5081), ('devoted', 4852), ('lengths', 10109), ('thirty', 17552), ('ash', 1282), ('demon', 4689), ('par', 12679), ('excellence', 6099), ('deadite', 4498), ('plague', 13145), ('touch', 17789), ('floral', 6798), ('jinmi', 9409), ('xufeng', 19415), ('heavenly', 8094), ('emperors', 5733), ('conspire', 3843), ('allergies', 794), ('diet', 4904), ('sleep', 16056), ('friendly', 7059), ('expert', 6207), ('bust', 2646), ('myths', 11669), ('latest', 9973), ('happens', 7928), ('need', 11803), ('brush', 2522), ('teeth', 17358), ('elaborate', 5603), ('cunning', 4311), ('warrior', 18932), ('legendary', 10089), ('buddhism', 2551), ('spectrum', 16387), ('brakes', 2377), ('slam', 16036), ('roy', 14973), ('challenge', 3042), ('foe', 6829), ('bride', 2441), ('iconic', 8630), ('nürburgring', 12126), ('germany', 7349), ('isn', 9236), ('boring', 2301), ('neighbors', 11828), ('behaving', 1855), ('perspectives', 12964), ('converge', 3927), ('unified', 18331), ('voice', 18800), ('astronomy', 1363), ('smart', 16108), ('absurd', 397), ('highsociety', 8236), ('embarrassing', 5690), ('techsavvy', 17345), ('robberies', 14826), ('evading', 6026), ('private', 13571), ('mayor', 10883), ('exposing', 6242), ('depravity', 4731), ('highstakes', 8238), ('professionalized', 13619), ('lights', 10202), ('imbue', 8720), ('powers', 13410), ('harbors', 7938), ('separation', 15545), ('odds', 12204), ('promise', 13653), ('fabric', 6305), ('geek', 7286), ('japanese', 9315), ('lingerie', 10225), ('focuses', 6827), ('gymnasts', 7815), ('survived', 17060), ('usa', 18506), ('gymnastics', 7814), ('larry', 9956), ('nassars', 11733), ('abuse', 402), ('exposed', 6240), ('usags', 18507), ('toxic', 17824), ('ada', 499), ('crushed', 4256), ('sea', 15363), ('migration', 11163), ('economy', 5531), ('dire', 4953), ('straits', 16749), ('protagonist', 13696), ('dagny', 4392), ('taggart', 17205), ('solution', 16237), ('rubble', 14979), ('longabandoned', 10339), ('atm', 1386), ('dishes', 5037), ('vies', 18696), ('recover', 14230), ('loser', 10397), ('captain', 2808), ('atomic', 1388), ('sock', 16204), ('puppet', 13806), ('activate', 483), ('joey', 9434), ('partner', 12749), ('eren', 5938), ('yeager', 19437), ('titans', 17685), ('harold', 7972), ('evans', 6032), ('wages', 18848), ('ongoing', 12326), ('obtain', 12171), ('compensation', 3675), ('entrance', 5888), ('exam', 6080), ('whole', 19114), ('wrenching', 19360), ('considered', 3836), ('humiliated', 8546), ('communities', 3657), ('aunty', 1449), ('donna', 5220), ('uniquely', 18340), ('offbeat', 12216), ('array', 1232), ('sketches', 16002), ('eclectic', 5523), ('characters', 3088), ('42yearold', 275), ('viorel', 18746), ('distraught', 5101), ('kgb', 9682), ('files', 6618), ('evidence', 6062), ('proving', 13726), ('architects', 1169), ('engineers', 5813), ('conspired', 3844), ('nazis', 11778), ('designed', 4768), ('genocide', 7321), ('teams', 17326), ('gold', 7499), ('manner', 10698), ('pursuing', 13824), ('australian', 1457), ('outback', 12472), ('shagadelic', 15639), ('spy', 16508), ('continues', 3896), ('teamed', 17323), ('goldmember', 7506), ('swingin', 17128), ('groovy', 7708), ('superspy', 16992), ('austin', 1455), ('foil', 6835), ('genius', 7320), ('powerss', 13411), ('mojo', 11395), ('60s', 309), ('rickshaw', 14721), ('unmasks', 18372), ('insurance', 9046), ('adjuster', 532), ('robot', 14839), ('violating', 18737), ('global', 7448), ('rural', 15025), ('wrestling', 19365), ('doubts', 5257), ('scrambles', 15333), ('dangerously', 4424), ('katara', 9631), ('sokka', 16219), ('aang', 343), ('hibernation', 8186), ('avatar', 1492), ('airbending', 696), ('fire', 6666), ('nun', 12101), ('elder', 5606), ('upholding', 18469), ('forbidden', 6876), ('pastor', 12783), ('shark', 15683), ('hardened', 7945), ('convict', 3932), ('furlough', 7151), ('exact', 6076), ('amass', 887), ('thanos', 17490), ('acquiring', 469), ('infinity', 8929), ('stones', 16712), ('wiping', 19215), ('half', 7853), ('universe', 18347), ('meteoric', 11093), ('bergling', 1929), ('avicii', 1507), ('swedish', 17105), ('unknown', 18353), ('commands', 3620), ('appearing', 1104), ('recollection', 14204), ('targeting', 17285), ('commander', 3615), ('emma', 5718), ('lead', 10035), ('threeyear', 17584), ('highachieving', 8202), ('11yearold', 24), ('grapples', 7616), ('disparate', 5063), ('traveler', 17932), ('drugaddicted', 5377), ('several', 15607), ('northeast', 12031), ('pungent', 13793), ('delicacy', 4655), ('sparking', 16354), ('unaccustomed', 18203), ('entrepreneur', 5892), ('decisions', 4566), ('delving', 4675), ('43', 276), ('accra', 444), ('cricket', 4166), ('mohammad', 11389), ('azharuddin', 1553), ('1990s', 156), ('aziz', 1554), ('ansari', 1032), ('parks', 12725), ('recreation', 14239), ('sharpwitted', 15693), ('immigrants', 8731), ('unfiltered', 18304), ('babies', 1557), ('era', 5931), ('spike', 16417), ('jonze', 9471), ('insights', 9013), ('wokeness', 19255), ('climate', 3410), ('keith', 9655), ('flick', 6766), ('rejoins', 14365), ('emerges', 5710), ('koku', 9795), ('loose', 10377), ('mukesh', 11582), ('seductive', 15410), ('sarika', 15173), ('1975', 139), ('governmentdeclared', 7559), ('emergency', 5709), ('bhawani', 1985), ('seized', 15443), ('treasures', 17945), ('martial', 10787), ('bangkok', 1669), ('clutches', 3455), ('cruel', 4242), ('tyrant', 18165), ('hindi', 8272), ('conclusion', 3735), ('saga', 15077), ('malayalam', 10634), ('villagers', 18720), ('mahismati', 10591), ('destined', 4792), ('english', 5817), ('version', 18649), ('ss', 16529), ('rajamoulis', 13992), ('wideeyed', 19126), ('ambition', 899), ('dubious', 5399), ('practices', 13415), ('idol', 8653), ('stock', 16699), ('turkeys', 18097), ('coup', 4053), ('aegean', 606), ('immediately', 8725), ('unemployed', 18292), ('necessary', 11800), ('morocco', 11480), ('random', 14031), ('countries', 4046), ('nurture', 12111), ('infants', 8910), ('fed', 6502), ('rome', 14913), ('citys', 3328), ('double', 5252), ('cutthroat', 4357), ('ballroom', 1642), ('instructors', 9039), ('proud', 13713), ('pintsized', 13103), ('performers', 12926), ('waltz', 18892), ('punjab', 13799), ('maternal', 10835), ('opportunity', 12364), ('mend', 11028), ('surprise', 17042), ('blues', 2181), ('stages', 16544), ('soviet', 16326), ('freight', 7034), ('hijacking', 8249), ('typist', 18160), ('vice', 18666), ('glamour', 7424), ('1929', 102), ('stigma', 16682), ('são', 17176), ('paulo', 12821), ('telemarketers', 17366), ('headed', 8044), ('kick', 9689), ('locals', 10295), ('blunder', 2186), ('alter', 858), ('jpop', 9502), ('learned', 10057), ('freak', 7010), ('born', 2302), ('flaunt', 6744), ('front', 7082), ('crushes', 4257), ('middle', 11137), ('transported', 17914), ('baggage', 1605), ('singles', 15950), ('reignite', 14341), ('hike', 8253), ('jenn', 9355), ('territory', 17442), ('menacing', 11026), ('bear', 1799), ('imprisoned', 8790), ('arsonist', 1250), ('untangle', 18423), ('robbers', 14827), ('philly', 13010), ('peter', 12977), ('longago', 10340), ('trauma', 17924), ('exorcise', 6175), ('embolden', 5698), ('ghosts', 7366), ('sprawling', 16487), ('rizzuto', 14805), ('associates', 1341), ('presided', 13494), ('fraud', 7004), ('ultimately', 18189), ('brought', 2514), ('tycoons', 18154), ('actioner', 479), ('miami', 11118), ('crook', 4211), ('snatched', 16150), ('heroin', 8172), ('hyperkinetic', 8602), ('cuban', 4277), ('kingpins', 9738), ('floridas', 6802), ('influx', 8939), ('ecstasy', 5533), ('irish', 9203), ('invasion', 9150), ('posh', 13342), ('abbey', 355), ('grove', 7717), ('alfie', 764), ('wickers', 19124), ('englands', 5816), ('worst', 19335), ('educator', 5562), ('pulled', 13781), ('racket', 13938), ('higher', 8209), ('risks', 14781), ('rewards', 14686), ('gains', 7194), ('geriatric', 7346), ('irving', 9219), ('zisman', 19574), ('continue', 3894), ('jackass', 9274), ('franchise', 6982), ('unused', 18433), ('reinstated', 14352), ('crimes', 4176), ('requests', 14515), ('enlist', 5835), ('catching', 2953), ('felons', 6534), ('ordered', 12403), ('villainous', 18723), ('controls', 3916), ('gathers', 7272), ('clean', 3387), ('facilitate', 6316), ('womanizing', 19265), ('spurns', 16504), ('persistent', 12952), ('wont', 19284), ('answer', 1034), ('asianamerican', 1295), ('rappers', 14062), ('strive', 16809), ('achieve', 454), ('genre', 7322), ('outsiders', 12507), ('scam', 15223), ('petty', 12987), ('adoptive', 553), ('thumb', 17607), ('dictatorial', 4889), ('suspected', 17070), ('practicing', 13416), ('witchcraft', 19233), ('demonized', 4693), ('renowned', 14459), ('convoluted', 3942), ('license', 10169), ('roams', 14818), ('wrangle', 19347), ('confederate', 3756), ('pioneer', 13104), ('throws', 17601), ('shots', 15811), ('cringing', 4184), ('arts', 1276), ('baki', 1619), ('hanma', 7918), ('surpass', 17041), ('inmates', 8979), ('descend', 4751), ('dan', 4414), ('kouzo', 9821), ('brawlers', 2395), ('challengers', 3045), ('bakugan', 1621), ('fighting', 6607), ('watch', 18949), ('ganesh', 7233), ('disarm', 4982), ('invaders', 9146), ('dacoits', 4385), ('mythological', 11666), ('elephant', 5630), ('suspiciously', 17079), ('balto', 1649), ('endures', 5793), ('taunts', 17306), ('disapproving', 4981), ('guides', 7759), ('cargo', 2854), ('medicine', 10956), ('winter', 19206), ('halfdog', 7859), ('halfwolf', 7869), ('voiced', 18801), ('maurice', 10860), ('lamarche', 9907), ('proudly', 13714), ('pups', 13811), ('adoption', 552), ('nobody', 11982), ('aleu', 756), ('pilot', 13086), ('baltos', 1650), ('kodi', 9792), ('sled', 16053), ('deliver', 4662), ('mail', 10597), ('faster', 6436), ('dogs', 5182), ('plane', 13151), ('vanishes', 18574), ('exgirlfriend', 6143), ('minibus', 11237), ('riza', 14804), ('steady', 16629), ('presence', 13482), ('dreamy', 5337), ('searching', 15374), ('soul', 16298), ('mate', 10830), ('negotiates', 11821), ('heartsick', 8084), ('kindred', 9730), ('though', 17566), ('disintegrating', 5045), ('oddball', 12201), ('recast', 14175), ('tom', 17719), ('sawyer', 15213), ('huck', 8510), ('finn', 6663), ('draft', 5293), ('misfit', 11290), ('cronies', 4209), ('sought', 16297), ('since', 15929), ('boyhood', 2355), ('heirless', 8118), ('maharaj', 10587), ('brajbhan', 2375), ('throne', 17596), ('vikram', 18710), ('brajbhans', 2376), ('badi', 1596), ('rani', 14041), ('conceives', 3724), ('fighters', 6605), ('burmese', 2619), ('factions', 6325), ('mens', 11033), ('bachelors', 1565), ('roof', 14922), ('unabashed', 18200), ('wrestle', 19362), ('woes', 19253), ('quarters', 13873), ('misfires', 11289), ('offered', 12226), ('snitch', 16161), ('inmate', 8978), ('dilemma', 4928), ('rivals', 14794), ('belle', 1881), ('fusion', 7158), ('bistro', 2074), ('kram', 9826), ('chic', 3192), ('district', 5104), ('parkour', 12724), ('enthusiast', 5879), ('bawdy', 1776), ('restaurateur', 14584), ('bangkoks', 1670), ('glittering', 7444), ('silom', 15896), ('kind', 9724), ('computer', 3710), ('repairman', 14472), ('streetsmart', 16782), ('graffiti', 7583), ('worsens', 19334), ('chinatown', 3235), ('spirited', 16435), ('marketing', 10761), ('fortuneteller', 6934), ('predestined', 13444), ('disaster', 4985), ('shift', 15739), ('30yearold', 251), ('philosophies', 13014), ('franchises', 6983), ('fc', 6480), ('barcelona', 1699), ('futile', 7160), ('honest', 8384), ('opt', 12376), ('ransom', 14048), ('laidback', 9898), ('servant', 15567), ('blogger', 2152), ('saudi', 15193), ('conventions', 3925), ('mighty', 11157), ('tribal', 17979), ('roman', 14897), ('conflicted', 3777), ('allegiances', 789), ('nuance', 12087), ('mesmerizing', 11073), ('techniques', 17341), ('flavor', 6745), ('globehopping', 7452), ('celebration', 2991), ('cooking', 3949), ('tradition', 17848), ('barbie', 1696), ('swiss', 17133), ('majestic', 10608), ('alps', 848), ('excited', 6108), ('funfilled', 7139), ('riding', 14734), ('ken', 9661), ('coral', 3974), ('reef', 14266), ('amazing', 892), ('know', 9782), ('bffs', 1978), ('vlog', 18792), ('dreamhouse', 5332), ('roberts', 14834), ('costa', 4018), ('rica', 14706), ('mermaid', 11067), ('water', 18956), ('devious', 4846), ('surf', 17027), ('champ', 3052), ('merliah', 11065), ('actually', 497), ('dolphin', 5191), ('oceana', 12190), ('princess', 13552), ('predictable', 13448), ('transformed', 17899), ('butterflys', 2655), ('super', 16964), ('sparkle', 16355), ('courtney', 4066), ('trades', 17846), ('places', 13144), ('erika', 5943), ('collide', 3546), ('blond', 2154), ('fabulous', 6307), ('lookalike', 10367), ('hoverboardriding', 8495), ('cosmos', 4016), ('winking', 19197), ('devilish', 4842), ('fairies', 6343), ('raquelle', 14064), ('gloss', 7464), ('blair', 2110), ('willows', 19169), ('princesses', 13553), ('delancy', 4646), ('hadley', 7834), ('hightech', 8240), ('agency', 650), ('burglar', 2613), ('would', 19339), ('rather', 14078), ('sing', 15932), ('visits', 18775), ('switch', 17134), ('favorite', 6471), ('rollerskating', 14893), ('heroine', 8174), ('emoji', 5724), ('barbra', 1697), ('streisand', 16784), ('culminates', 4295), ('13city', 33), ('dazzling', 4490), ('ballads', 1632), ('broadway', 2483), ('standards', 16563), ('degree', 4636), ('architecture', 1170), ('expatriate', 6187), ('disastrous', 4988), ('balochistan', 1645), ('unsanctioned', 18401), ('hostagerescue', 8459), ('adores', 561), ('bitti', 2085), ('printer', 13558), ('affection', 617), ('pretends', 13515), ('barfii', 1704), ('hearing', 8070), ('speech', 16389), ('appropriate', 1125), ('suitor', 16929), ('shruti', 15838), ('technical', 17337), ('university', 18349), ('robotbuilding', 14840), ('divergent', 5121), ('cultures', 4305), ('stepfather', 16653), ('however', 8498), ('approve', 1128), ('match', 10825), ('split', 16449), ('slackers', 16034), ('madeup', 10550), ('sport', 16472), ('baseketball', 1730), ('craze', 4128), ('basketballbaseball', 1738), ('hybrids', 8590), ('popularity', 13313), ('mirrors', 11273), ('chinle', 3238), ('arizonas', 1205), ('navajo', 11764), ('state', 16606), ('talkative', 17241), ('bat', 1749), ('fogville', 6833), ('quiet', 13899), ('seems', 15426), ('norman', 12021), ('bates', 1752), ('normans', 12023), ('endeavors', 5777), ('floundering', 6807), ('negative', 11813), ('david', 4477), ('letterman', 10137), ('unearths', 18286), ('musicals', 11631), ('toetapping', 17706), ('joker', 9454), ('gordon', 7536), ('monstrous', 11438), ('batman', 1757), ('madness', 10556), ('amalies', 881), ('bankrupt', 1680), ('collapses', 3530), ('mikael', 11167), ('polished', 13265), ('dispatched', 5065), ('creek', 4155), ('michigan', 11127), ('precinct', 13437), ('mercenaries', 11049), ('offthebooks', 12244), ('chernobyl', 3178), ('humancontrolled', 8526), ('droids', 5359), ('ambush', 903), ('fourman', 6954), ('latvia', 9981), ('unearth', 18283), ('artifacts', 1263), ('eastern', 5505), ('fishing', 6694), ('albacore', 732), ('tuna', 18081), ('competitive', 3680), ('waters', 18959), ('oregon', 12411), ('middleclass', 11139), ('attentions', 1414), ('jewels', 9386), ('concerned', 3729), ('rhino', 14694), ('poaching', 13219), ('directly', 4958), ('impact', 8743), ('finland', 6662), ('retired', 14618), ('desolation', 4777), ('weight', 19019), ('customs', 4350), ('standing', 16565), ('promised', 13654), ('cooly', 3952), ('confident', 3767), ('exile', 6154), ('revisit', 14669), ('perform', 12922), ('trace', 17831), ('andy', 977), ('whitfield', 19108), ('received', 14179), ('starring', 16590), ('spartacus', 16360), ('sand', 15139), ('stress', 16788), ('incognito', 8824), ('emily', 5716), ('ten', 17398), ('exlove', 6165), ('reconnecting', 14210), ('girlhood', 7411), ('revelations', 14655), ('bucky', 2546), ('bjorn', 2091), ('farout', 6418), ('wondrous', 19279), ('whoever', 19113), ('came', 2742), ('term', 17427), ('brain', 2365), ('met', 11086), ('use', 18510), ('beaks', 1795), ('puzzles', 13840), ('tools', 17743), ('disasterprone', 4986), ('bean', 1796), ('painting', 12624), ('unfit', 18306), ('wellknown', 19043), ('wildlife', 19153), ('mama', 10653), ('origin', 12422), ('building', 2568), ('replicas', 14488), ('3d', 264), ('beasts', 1807), ('kinds', 9731), ('coexist', 3500), ('predatory', 13443), ('midst', 11148), ('unit', 18341), ('mercenary', 11050), ('transform', 17894), ('bugs', 2566), ('lessons', 10132), ('talent', 17233), ('bug', 2565), ('factor', 6326), ('televised', 17373), ('faraway', 6404), ('upheavals', 18466), ('investment', 9171), ('transplant', 17910), ('chicagos', 3195), ('prodigy', 13605), ('august', 1444), ('monroe', 11433), ('frontiers', 7084), ('disco', 5001), ('casts', 2931), ('queens', 13881), ('burlesque', 2618), ('beast', 1803), ('gone', 7514), ('finding', 6651), ('situation', 15981), ('emman', 5719), ('contend', 3876), ('realizing', 14128), ('boob', 2265), ('tube', 18065), ('beavis', 1819), ('butthead', 2656), ('expedition', 6196), ('nations', 11749), ('capital', 2796), ('robin', 14835), ('jamika', 9301), ('heels', 8107), ('greets', 7654), ('bebes', 1820), ('wits', 19247), ('jakarta', 9291), ('bookie', 2270), ('actionpacked', 480), ('housemates', 8489), ('convenience', 3921), ('demanding', 4677), ('inlaws', 8977), ('trouble', 18028), ('jinks', 9407), ('ensue', 5854), ('bag', 1604), ('lady', 9889), ('tours', 17811), ('athletes', 1377), ('achieved', 455), ('roguish', 14877), ('barrister', 1718), ('lefroy', 10079), ('inspiration', 9019), ('jane', 9306), ('austen', 1452), ('skeeters', 15996), ('fantastical', 6398), ('entertain', 5872), ('inexplicably', 8900), ('barry', 1721), ('bee', 1833), ('deadend', 4497), ('honey', 8386), ('sues', 16911), ('theyve', 17527), ('stealing', 16631), ('bees', 1838), ('nectar', 11802), ('londons', 10329), ('camden', 2741), ('hears', 8073), ('sure', 17025), ('walk', 18870), ('aisle', 708), ('30', 242), ('continually', 3892), ('relive', 14400), ('privileged', 13574), ('cosmic', 4014), ('looping', 10375), ('mark', 10758), ('jessie', 9375), ('welcome', 19028), ('foster', 6939), ('cody', 3495), ('ability', 377), ('leonardo', 10118), ('dicaprio', 4883), ('crisscrosses', 4195), ('consequences', 3828), ('manmade', 10696), ('warming', 18918), ('taken', 17225), ('reverse', 14665), ('interactions', 9065), ('peaceful', 12851), ('whaling', 19075), ('garnered', 7257), ('setbacks', 15584), ('1940', 108), ('winston', 19205), ('churchill', 3302), ('commissions', 3630), ('commandos', 3619), ('stealth', 16633), ('audacious', 1432), ('tactics', 17197), ('todrick', 17703), ('texas', 17471), ('theorists', 17512), ('belief', 1871), ('flat', 6739), ('vehemently', 18607), ('rejects', 14364), ('presenter', 13486), ('punchalee', 13789), ('conniving', 3810), ('dao', 4437), ('wholl', 19116), ('ankara', 1011), ('disdain', 5019), ('rules', 15002), ('correctness', 3999), ('solves', 16241), ('seduced', 15406), ('concocts', 3738), ('retirement', 14621), ('staring', 16584), ('alltimegreat', 824), ('jump', 9537), ('jockey', 9427), ('20th', 210), ('consecutive', 3826), ('unrelenting', 18393), ('glory', 7463), ('whoopi', 19117), ('goldberg', 7500), ('narrates', 11720), ('elmo', 5659), ('kevin', 9676), ('clashs', 3362), ('remarkable', 14417), ('workingclass', 19308), ('baltimore', 1648), ('hensons', 8154), ('sesame', 15578), ('mary', 10797), ('balance', 1623), ('scorned', 15315), ('cab', 2676), ('villager', 18719), ('200th', 183), ('waterloo', 18958), ('thousands', 17572), ('enthusiasts', 5880), ('reenact', 14270), ('napoleon', 11712), ('1967', 130), ('arabisraeli', 1143), ('rapidly', 14055), ('transforming', 17901), ('hottest', 8478), ('exhilarating', 6151), ('price', 13529), ('reconstruct', 14215), ('womans', 19266), ('cheerleader', 3159), ('bella', 1878), ('dawson', 4483), ('quarterback', 13869), ('dimming', 4937), ('yearning', 19444), ('torrid', 17773), ('roofer', 14923), ('ben', 1900), ('holly', 8351), ('teamwork', 17327), ('problemsolving', 13590), ('types', 18158), ('em', 5679), ('adventuring', 589), ('gwen', 7808), ('max', 10869), ('backed', 1571), ('platt', 13170), ('songbook', 16261), ('onstage', 12331), ('numbers', 12098), ('lp', 10454), ('rookie', 14925), ('emasculating', 5684), ('manages', 10661), ('firms', 6682), ('softball', 16212), ('advocates', 604), ('haiti', 7849), ('escaped', 5970), ('psychopathic', 13752), ('hardnosed', 7950), ('danger', 4422), ('benji', 1916), ('told', 17716), ('poochs', 13296), ('santas', 15161), ('workshop', 19312), ('medically', 10952), ('discharged', 4994), ('motorcycle', 11529), ('racing', 13935), ('dj', 5142), ('ickarus', 8626), ('touring', 17803), ('loony', 10373), ('bin', 2043), ('many', 10716), ('streak', 16772), ('50000', 291), ('euros', 6021), ('sponsors', 16461), ('turkishgerman', 18099), ('onenight', 12317), ('clare', 3352), ('andis', 966), ('cinematic', 3312), ('lolle', 10323), ('moved', 11551), ('sven', 17086), ('hart', 7985), ('grey', 7662), ('cities', 3322), ('starstudded', 16595), ('10story', 12), ('collection', 3537), ('redemptive', 14256), ('crushing', 4258), ('romances', 14899), ('guts', 7802), ('griffith', 7676), ('ensuing', 5856), ('fullfledged', 7121), ('horrible', 8432), ('believed', 1874), ('griffiths', 7677), ('equal', 5922), ('hawk', 8027), ('vanquish', 18576), ('bert', 1939), ('kreischer', 9830), ('pet', 12974), ('pot', 13381), ('shirtless', 15768), ('relays', 14378), ('grizzly', 7696), ('laughoutloud', 9987), ('decadent', 4537), ('pasta', 12780), ('dayold', 4487), ('fries', 7065), ('skillful', 16012), ('cooks', 3950), ('tired', 17681), ('leftovers', 10082), ('tantalizing', 17271), ('wildly', 19154), ('culinary', 4291), ('agendas', 652), ('advance', 577), ('justmarried', 9560), ('door', 5230), ('jerry', 9369), ('seinfeld', 15435), ('leslie', 10128), ('hannah', 7919), ('gadsby', 7184), ('funniest', 7143), ('bits', 2080), ('netflixs', 11858), ('2020', 198), ('unseen', 18410), ('table', 17182), ('acclaimed', 430), ('schitts', 15264), ('merrily', 11070), ('recall', 14170), ('surefire', 17026), ('comiccon', 3607), ('predicament', 13445), ('displace', 5073), ('highway', 8242), ('officials', 12237), ('curse', 4333), ('soldierzombies', 16226), ('tide', 17630), ('bethany', 1956), ('hamilton', 7883), ('arm', 1209), ('surfing', 17032), ('emmynominated', 5721), ('prequel', 13475), ('breaking', 2409), ('smalltime', 16106), ('attorney', 1418), ('mcgill', 10901), ('morally', 11469), ('challenged', 3043), ('saul', 15194), ('goodman', 7522), ('brink', 2466), ('splitting', 16452), ('owners', 12569), ('investigators', 9169), ('herbalife', 8157), ('nutritional', 12117), ('pyramid', 13844), ('television', 17374), ('betty', 1970), ('ground', 7711), ('kills', 9716), ('22', 218), ('fend', 6545), ('quarantines', 13867), ('provides', 13721), ('consider', 3833), ('zero', 19553), ('selfawareness', 15457), ('zach', 19523), ('galifianakis', 7204), ('subjects', 16872), ('nobudget', 11984), ('plunges', 13211), ('amnesia', 921), ('tricks', 17989), ('valt', 18556), ('aoi', 1076), ('beyblade', 1973), ('valtryek', 18557), ('number', 12094), ('blader', 2104), ('scouted', 15330), ('european', 6018), ('dante', 4434), ('dragon', 5299), ('generation', 7306), ('bladers', 2105), ('beyblades', 1974), ('birthplace', 2070), ('blading', 2108), ('novice', 12075), ('competitor', 3681), ('harness', 7970), ('untamed', 18422), ('tournaments', 17809), ('anime', 1008), ('blade', 2103), ('spinning', 16427), ('tops', 17755), ('honor', 8392), ('rightwing', 14749), ('subversive', 16893), ('2011', 185), ('indians', 8858), ('demonstrate', 4695), ('sacrifices', 15062), ('countrys', 4050), ('suspended', 17073), ('onslaught', 12330), ('captives', 2813), ('episodes', 5918), ('rash', 14071), ('caution', 2974), ('spoilers', 16456), ('highlights', 8218), ('tourney', 17810), ('icc', 8619), ('t20', 17180), ('youthful', 19497), ('dealer', 4504), ('defending', 4608), ('kindhearted', 9727), ('temporarily', 17388), ('shoulder', 15812), ('knotty', 9781), ('critic', 4199), ('cushy', 4341), ('unsatisfying', 18403), ('impulsive', 8800), ('freespirited', 7028), ('defied', 4614), ('convention', 3923), ('flirting', 6784), ('twopart', 18145), ('depicts', 4726), ('lay', 10024), ('foundation', 6945), ('pl', 13141), ('deshpande', 4766), ('humorist', 8550), ('philanthropic', 13005), ('threatened', 17577), ('notsolittle', 12064), ('bhangra', 1982), ('preps', 13474), ('heartwrenching', 8088), ('comingofage', 3613), ('arduous', 1180), ('donkey', 5219), ('uncovering', 18242), ('diwali', 5138), ('celebrate', 2987), ('chhota', 3188), ('ramayana', 14007), ('reenacting', 14272), ('smartaleck', 16109), ('meme', 11012), ('appointed', 1113), ('ceo', 3019), ('workplace', 19310), ('siddharth', 15861), ('dismisses', 5053), ('warnings', 18925), ('palace', 12637), ('occurrences', 12185), ('reconsider', 14213), ('beliefs', 1872), ('behavior', 1856), ('chilling', 3227), ('23yearold', 224), ('maledominated', 10640), ('bibi', 1991), ('horseloving', 8444), ('tina', 17668), ('flirts', 6785), ('tinas', 17669), ('eyes', 6296), ('foal', 6823), ('falkenstein', 6359), ('pal', 12636), ('devise', 4847), ('failing', 6335), ('pitted', 13130), ('whats', 19078), ('screen', 15345), ('reconcile', 14207), ('narrowminded', 11727), ('busy', 2649), ('maids', 10596), ('humorous', 8551), ('free', 7015), ('grant', 7608), ('alcoholfueled', 744), ('haywire', 8033), ('abduct', 360), ('fiancées', 6581), ('refuses', 14302), ('responsibility', 14578), ('overgrown', 12528), ('sonny', 16269), ('koufax', 9820), ('5yearold', 305), ('grownup', 7721), ('monty', 11448), ('horticulturists', 8450), ('plant', 13159), ('gardens', 7252), ('junior', 9545), ('jason', 9321), ('kaylee', 9645), ('jasons', 9322), ('essay', 5987), ('tenderfoot', 17405), ('gamblers', 7222), ('fortunes', 6933), ('gunslinging', 7791), ('preacher', 13434), ('writes', 19375), ('whales', 19074), ('ussr', 18524), ('upended', 18461), ('puberty', 13760), ('nick', 11919), ('kroll', 9836), ('lived', 10265), ('virginia', 18753), ('mining', 11241), ('uncovers', 18243), ('profoundly', 13636), ('bjarke', 2090), ('ingels', 8947), ('vision', 18766), ('aims', 692), ('restore', 14587), ('manhattans', 10677), ('skyline', 16030), ('rush', 15027), ('bags', 1607), ('mixed', 11340), ('backstage', 1580), ('rap', 14050), ('duo', 5431), ('bigflo', 2008), ('oli', 12274), ('superstar', 16993), ('concept', 3726), ('dishonest', 5039), ('liar', 10155), ('documentarian', 5157), ('broomfield', 2500), ('tupac', 18087), ('shakur', 15651), ('biggie', 2013), ('smalls', 16105), ('digging', 4918), ('charts', 3117), ('yoga', 19468), ('founder', 6949), ('bikram', 2028), ('choudhury', 3271), ('burr', 2628), ('zombie', 19581), ('apocalypse', 1090), ('romcoms', 14912), ('explains', 6214), ('hugs', 8521), ('downfall', 5268), ('musings', 11639), ('fillmore', 6625), ('auditorium', 1440), ('unloads', 18364), ('outrage', 12501), ('appropriation', 1126), ('blistering', 2143), ('nashville', 11732), ('overpopulation', 12539), ('dictators', 4890), ('gorilla', 7540), ('sign', 15881), ('language', 9942), ('funnyman', 7145), ('uncork', 18240), ('profanitylaced', 13616), ('incisive', 8818), ('diggers', 4917), ('hicks', 8189), ('remembers', 14423), ('puffing', 13774), ('cigarettes', 3307), ('smoking', 16122), ('weed', 19005), ('drinking', 5349), ('commercials', 3626), ('insight', 9011), ('well', 19032), ('performances', 12924), ('late', 9969), ('demonstrates', 4696), ('reckoned', 14194), ('recorded', 14220), ('iconoclastic', 8631), ('goat', 7481), ('priesthood', 13538), ('hickss', 8190), ('performance', 12923), ('spouting', 16485), ('nye', 12121), ('scientific', 15295), ('dynamic', 5464), ('bowtied', 2343), ('climatechange', 3411), ('skeptics', 15999), ('abuzz', 408), ('barber', 1695), ('actors', 491), ('approaches', 1124), ('worry', 19332), ('recognized', 14202), ('ballet', 1636), ('evangelist', 6031), ('billy', 2042), ('graham', 7584), ('presidents', 13499), ('eichner', 5591), ('sprints', 16497), ('celebrities', 2993), ('stun', 16848), ('pedestrians', 12867), ('unapologetic', 18207), ('check', 3151), ('german', 7348), ('biology', 2052), ('contemporary', 3874), ('literature', 10256), ('create', 4135), ('instructor', 9038), ('abduction', 363), ('ominous', 12292), ('watchers', 18951), ('enthusiasm', 5878), ('protecting', 13699), ('preserving', 13491), ('inadvertently', 8805), ('shoots', 15786), ('endangered', 5774), ('eagle', 5477), ('setting', 15587), ('exposes', 6241), ('vs', 18832), ('raises', 13987), ('genetic', 7313), ('dispositions', 5080), ('cracking', 4100), ('ferocious', 6555), ('efficient', 5572), ('interpol', 9094), ('shadowy', 15636), ('elena', 5629), ('michaels', 11122), ('stray', 16771), ('werewolves', 19059), ('thwarted', 17614), ('galician', 7203), ('20', 170), ('egypt', 5587), ('identification', 8646), ('unfamiliar', 18303), ('smalltown', 16107), ('videographer', 18686), ('sexy', 15629), ('famine', 6379), ('ravages', 14093), ('battlehardened', 1769), ('irishman', 9204), ('deserts', 4763), ('exacts', 6078), ('tyrants', 18166), ('lowincome', 10445), ('maintain', 10605), ('victorian', 18677), ('12yearold', 29), ('magnate', 10580), ('ciel', 3305), ('phantomhive', 12989), ('thwarts', 17616), ('watched', 18950), ('butler', 2652), ('sebastian', 15385), ('portrays', 13336), ('islamic', 9228), ('yazidi', 19435), ('slave', 16046), ('snipers', 16160), ('adopted', 550), ('rwandan', 15046), ('ashby', 1284), ('docudrama', 5154), ('sametitled', 15124), ('tracks', 17839), ('1993', 159), ('bombing', 2244), ('bombay', 2242), ('covering', 4078), ('underlings', 18258), ('somali', 16244), ('helicopters', 8128), ('heavy', 8096), ('casualties', 2933), ('blaming', 2115), ('mogul', 11387), ('blackownedandoperated', 2100), ('hotspot', 8476), ('ink', 8975), ('tattoo', 17302), ('ceaser', 2983), ('expand', 6181), ('rambunctious', 14009), ('principal', 13554), ('jefferson', 9347), ('pierce', 13064), ('leaps', 10055), ('lightning', 10201), ('albinos', 737), ('waged', 18846), ('behalf', 1854), ('advocacy', 602), ('nearfuture', 11793), ('humanitys', 8531), ('innovations', 8990), ('darkest', 4450), ('1984', 149), ('programmer', 13638), ('adapts', 509), ('endings', 5781), ('jewelry', 9385), ('bereaved', 1926), ('theft', 17502), ('tchalla', 17313), ('superpowered', 16985), ('advanced', 578), ('wakanda', 18859), ('brutally', 2527), ('moscow', 11497), ('harddriving', 7944), ('submarine', 16875), ('sunken', 16958), ('nazi', 11776), ('sub', 16865), ('underwater', 18273), ('neutralize', 11870), ('lazarus', 10030), ('rae', 13951), ('beaten', 1809), ('anyone', 1072), ('animosity', 1009), ('patagonia', 12788), ('chief', 3203), ('phenomena', 12998), ('edge', 5538), ('whale', 19073), ('tilikum', 17648), ('captivity', 2814), ('recordshattering', 14225), ('blackpink', 2101), ('detail', 4802), ('hardfought', 7946), ('menaced', 11025), ('psychopath', 13751), ('scared', 15235), ('lillian', 10211), ('logger', 10314), ('tables', 17184), ('stalker', 16553), ('selfreplicating', 15487), ('bent', 1921), ('eliminating', 5643), ('killy', 9717), ('guide', 7757), ('remnant', 14433), ('influential', 8937), ('unsung', 18420), ('songwriter', 16265), ('drove', 5372), ('johnnys', 9443), ('transfer', 17890), ('ordained', 12399), ('ichigo', 8624), ('kurosaki', 9854), ('acquires', 468), ('reaper', 14136), ('rukia', 14997), ('kuchiki', 9842), ('round', 14956), ('fogged', 6832), ('scimitarweilding', 15301), ('mayuri', 10885), ('destroys', 4798), ('laboratory', 9873), ('unleashing', 18358), ('cloud', 3442), ('reishi', 14360), ('lays', 10028), ('seiretei', 15437), ('sinners', 15960), ('eternal', 6002), ('substitute', 16887), ('launch', 9991), ('kidnap', 9697), ('ichigos', 8625), ('derails', 4741), ('scrappy', 15339), ('vinny', 18733), ('pazienza', 12846), ('determines', 4814), ('againstallodds', 644), ('comeback', 3591), ('wrongfully', 19383), ('measure', 10924), ('unavailable', 18213), ('soulful', 16300), ('arent', 1185), ('interesting', 9072), ('date', 4466), ('detecting', 4805), ('sharp', 15689), ('luckily', 10470), ('recognizes', 14203), ('deduction', 4584), ('asian', 1294), ('seekers', 15418), ('parties', 12747), ('koala', 9790), ('blinky', 2140), ('spunky', 16501), ('amuse', 938), ('jérémy', 9567), ('hatches', 8004), ('superheroloving', 16974), ('lola', 10322), ('condemned', 3742), ('centuriesold', 3015), ('kingdoms', 9735), ('embittered', 5697), ('wronged', 19381), ('crossing', 4226), ('cape', 2794), ('privateschool', 13572), ('swimming', 17120), ('shaking', 15650), ('dealers', 4505), ('kunal', 9850), ('seedy', 15414), ('greece', 7640), ('heron', 8176), ('heritage', 8164), ('zeus', 19555), ('demonic', 4692), ('ethically', 6007), ('amazon', 894), ('port', 13322), ('belém', 1897), ('brazil', 2401), ('patriarch', 12807), ('elías', 5677), ('sheep', 15708), ('respected', 14569), ('sibling', 15856), ('doomed', 5228), ('passengers', 12769), ('spectral', 16386), ('gruesome', 7728), ('destination', 4790), ('deliciously', 4657), ('smuggler', 16128), ('george', 7337), ('rises', 14776), ('eventual', 6041), ('heat', 8089), ('glassblowing', 7429), ('sculpture', 15360), ('60000', 308), ('throw', 17598), ('satans', 15180), ('illegitimate', 8687), ('rin', 14756), ('exorcist', 6178), ('15yearold', 48), ('adele', 526), ('focused', 6826), ('bluehaired', 2180), ('piques', 13112), ('fashionable', 6432), ('homemaker', 8367), ('rediscover', 14259), ('regret', 14327), ('nfl', 11910), ('thad', 17479), ('buys', 2664), ('frat', 7000), ('renames', 14441), ('thadland', 17480), ('raunchiest', 14088), ('debauched', 4523), ('blue', 2177), ('vistas', 18776), ('unhinges', 18327), ('vagabond', 18541), ('dwight', 5459), ('jewel', 9382), ('stint', 16694), ('jail', 9285), ('constructed', 3854), ('cindy', 3310), ('dean', 4510), ('muddle', 11573), ('languishing', 9944), ('hearken', 8072), ('murky', 11618), ('choices', 3255), ('root', 14935), ('insiders', 9009), ('shrouds', 15836), ('morphed', 11482), ('raccoon', 13925), ('beastman', 1806), ('michiru', 11128), ('shirou', 15767), ('animacity', 1000), ('thai', 17481), ('bnk48', 2196), ('spotlight', 16477), ('combining', 3587), ('trademark', 17844), ('selfdeprecating', 15464), ('burnham', 2624), ('duke', 5415), ('belt', 1893), ('melody', 11005), ('burnhams', 2625), ('oneman', 12315), ('energetic', 5798), ('dezzy', 4860), ('bob', 2203), ('lazar', 10029), ('blew', 2131), ('whistle', 19101), ('51', 301), ('explain', 6211), ('worked', 19303), ('shut', 15847), ('ross', 14945), ('signature', 15884), ('wetonwet', 19071), ('bevy', 1972), ('bucolic', 2547), ('landscape', 9937), ('paintings', 12625), ('overly', 12536), ('improves', 8796), ('sleigh', 16067), ('send', 15512), ('candid', 2770), ('profile', 13625), ('bobbi', 2204), ('jene', 9354), ('smith', 16116), ('israeli', 9243), ('choreographer', 3265), ('ohad', 12251), ('naharin', 11687), ('forge', 6905), ('artistic', 1271), ('bobbleheads', 2205), ('collector', 3539), ('uninvited', 18337), ('barge', 1708), ('prized', 13577), ('raj', 13990), ('bobby', 2206), ('christian', 3274), ('fisherman', 6692), ('oppose', 12365), ('unlimited', 18363), ('field', 6591), ('voices', 18802), ('phenomenon', 12999), ('redefine', 14251), ('robson', 14848), ('keen', 9650), ('matched', 10826), ('devotion', 4855), ('republican', 14510), ('galvanized', 7215), ('powerhouse', 13404), ('boca', 2208), ('juniors', 9546), ('provide', 13718), ('irked', 9205), ('admirer', 539), ('duties', 5447), ('backfire', 1572), ('accompanies', 433), ('alternately', 862), ('strains', 16747), ('strengthens', 16787), ('crossroads', 4229), ('escorts', 5978), ('clients', 3408), ('sitcom', 15973), ('90s', 331), ('curmudgeon', 4327), ('ofnot', 12246), ('quite', 13913), ('goldbut', 7501), ('bojack', 2227), ('todd', 17700), ('cane', 2775), ('horsin', 8447), ('iceland', 8622), ('ponder', 13284), ('venezuelan', 18621), ('simón', 15923), ('bolívar', 2239), ('liberate', 10159), ('downandout', 5265), ('utterly', 18533), ('unprepared', 18384), ('eccentricities', 5519), ('shepherd', 15724), ('bolt', 2237), ('crosscountry', 4217), ('mistakenly', 11317), ('wannabe', 18902), ('basque', 1740), ('word', 19297), ('pr', 13412), ('fading', 6331), ('intertwining', 9113), ('epiphany', 5916), ('1985', 150), ('vessel', 18653), ('protesting', 13707), ('nuclear', 12092), ('testing', 17463), ('sunk', 16957), ('zealand', 19536), ('unearthed', 18284), ('audio', 1436), ('hedy', 8105), ('lamarr', 9908), ('brains', 2371), ('patent', 12791), ('frequency', 7044), ('hopping', 8421), ('curaçao', 4318), ('amiable', 915), ('angers', 994), ('gangsters', 7243), ('conscience', 3821), ('buddy', 2556), ('chapter', 3083), ('bargained', 1705), ('englishspeaking', 5820), ('toronto', 17770), ('frenchspeaking', 7038), ('lifeguards', 10181), ('sydneys', 17148), ('bondi', 2251), ('moonlighting', 11458), ('dominatrix', 5204), ('bff', 1977), ('assistant', 1336), ('bonnie', 2263), ('parker', 12722), ('clyde', 3457), ('barrow', 1720), ('bulletriddled', 2575), ('depressionravaged', 4736), ('exes', 6138), ('logistics', 10317), ('blended', 2124), ('dramedy', 5314), ('booba', 2266), ('curiosities', 4323), ('wonder', 19272), ('readers', 14113), ('books', 2271), ('authors', 1467), ('kidfriendly', 9696), ('conversations', 3930), ('empathy', 5731), ('equality', 5923), ('selflove', 15479), ('antiracism', 1056), ('zealands', 19537), ('patrol', 12811), ('safe', 15072), ('protection', 13700), ('safeguard', 15074), ('crossings', 4227), ('ports', 13337), ('inept', 8894), ('fictional', 6587), ('northend', 12032), ('airport', 702), ('improvised', 8797), ('mockumentary', 11368), ('covers', 4079), ('suspects', 17072), ('foul', 6941), ('birgitte', 2065), ('nyborg', 12119), ('danish', 4430), ('ministers', 11246), ('seat', 15382), ('landmark', 9931), ('deeply', 4596), ('import', 8772), ('employees', 5739), ('producing', 13611), ('content', 3879), ('barbs', 1698), ('israelpalestine', 9245), ('gaza', 7280), ('syrian', 17167), ('narrowly', 11726), ('integrate', 9051), ('allaccess', 782), ('indycar', 8892), ('dixon', 5139), ('400pound', 268), ('giants', 7375), ('arnold', 1223), ('strongman', 16816), ('glimpse', 7441), ('casting', 2929), ('mistreatment', 11323), ('mammals', 10654), ('plight', 13198), ('beluga', 1896), ('disowned', 5060), ('surya', 17065), ('shiv', 15769), ('wrongly', 19384), ('suryas', 17066), ('kamal', 9584), ('reassembles', 14147), ('modernize', 11378), ('dabke', 4384), ('routines', 14963), ('lifting', 10195), ('saggy', 15079), ('skin', 16014), ('repairing', 14471), ('shoddy', 15778), ('breast', 2417), ('enhancements', 5827), ('surgeons', 17035), ('fixeruppers', 6714), ('funloving', 7142), ('gumbles', 7778), ('bounce', 2329), ('foulsmelling', 6943), ('bottersnikes', 2323), ('scarlett', 15241), ('sleepy', 16064), ('southwestern', 16322), ('loosens', 10380), ('grip', 7684), ('mortal', 11489), ('celestial', 2996), ('impregnates', 8782), ('reincarnated', 14347), ('goalkeeperturnedtalent', 7478), ('scout', 15329), ('clubs', 3449), ('cuca', 4281), ('grand', 7590), ('traveled', 17931), ('veronica', 18645), ('lance', 9922), ('traumatized', 17927), ('causing', 2971), ('spiral', 16431), ('fourth', 6959), ('boyka', 2357), ('unassuming', 18210), ('jandi', 9304), ('spoiled', 16454), ('belongs', 1891), ('clique', 3423), ('brad', 2362), ('paisley', 12631), ('hosts', 8468), ('laughs', 9989), ('nate', 11739), ('bargatze', 1707), ('heffron', 8108), ('jon', 9461), ('reep', 14277), ('sarah', 15166), ('tiana', 17620), ('winfield', 19192), ('homage', 8358), ('1980s', 145), ('comedies', 3595), ('quiz', 13916), ('bowl', 2340), ('almost', 833), ('except', 6100), ('interactive', 9066), ('illusions', 8699), ('illustrate', 8700), ('manufacture', 10712), ('seizures', 15446), ('psychosis', 13755), ('post', 13358), ('elusive', 5672), ('germs', 7352), ('emotions', 5730), ('explained', 6212), ('refreshingly', 14295), ('relatable', 14368), ('minors', 11251), ('person', 12955), ('struck', 16818), ('hierarchy', 8199), ('divides', 5128), ('cliques', 3424), ('expectations', 6192), ('reuse', 14647), ('continents', 3890), ('sustainable', 17080), ('weeks', 19012), ('linor', 10232), ('abargil', 354), ('inspiring', 9024), ('orson', 12441), ('welles', 19037), ('broadcast', 2478), ('emboldened', 5699), ('defends', 4609), ('murderous', 11614), ('stash', 16603), ('cabin', 2682), ('toni', 17735), ('traci', 17835), ('towanda', 17814), ('trina', 18001), ('tamar', 17249), ('braxton', 2399), ('bread', 2404), ('cake', 2704), ('decorator', 4576), ('lifechanging', 10178), ('makeovers', 10618), ('customer', 4347), ('mood', 11452), ('lucie', 10467), ('bboy', 1784), ('insecurities', 9002), ('soda', 16206), ('stereo', 16664), ('café', 2694), ('tacvba', 17198), ('aterciopelados', 1371), ('50year', 299), ('dictatorships', 4892), ('dissent', 5090), ('abhay', 372), ('aaliya', 341), ('plenty', 13197), ('99th', 338), ('cafe', 2692), ('customers', 4348), ('souvenirs', 16323), ('chang', 3065), ('insatiable', 8998), ('curiosity', 4324), ('convivial', 3941), ('manufacturing', 10714), ('crystal', 4269), ('meth', 11096), ('violations', 18738), ('faced', 6311), ('lgbtq', 10150), ('project', 13645), ('chairman', 3037), ('bunbury', 2590), ('banking', 1678), ('13year', 35), ('coma', 3576), ('mid1970s', 11136), ('befriend', 1842), ('enigmatic', 5828), ('surfer', 17030), ('thrill', 17585), ('brené', 2429), ('brown', 2516), ('courage', 4057), ('comfort', 3602), ('defined', 4617), ('scarcity', 15233), ('brewery', 2432), ('foaming', 6824), ('regan', 14308), ('heights', 8113), ('underwear', 18274), ('elastic', 5604), ('brendan', 2425), ('fry', 7096), ('fund', 7131), ('planner', 13156), ('bridgerton', 2446), ('quinns', 13907), ('bestselling', 1951), ('novels', 12074), ('packed', 12593), ('hoxton', 8504), ('bridget', 2448), ('gender', 7297), ('rife', 14736), ('interspecies', 9107), ('orc', 12389), ('prophesied', 13678), ('turf', 18095), ('bright', 2453), ('machine', 10535), ('kelly', 9657), ('bastille', 1746), ('logic', 10316), ('migos', 11159), ('uneventful', 18296), ('brij', 2457), ('mohan', 11391), ('sentenced', 15533), ('abilities', 376), ('amnesiac', 922), ('roommate', 14929), ('cheerleading', 3160), ('champs', 3058), ('rebels', 14158), ('virtual', 18756), ('cheer', 3157), ('healthier', 8066), ('lifestyles', 10189), ('broadchurch', 2482), ('detectives', 4808), ('ellie', 5654), ('miller', 11202), ('alec', 751), ('assigned', 1330), ('deceit', 4545), ('consumer', 3862), ('items', 9256), ('outcomes', 12477), ('yanuos', 19431), ('25', 230), ('triad', 17971), ('leaders', 10037), ('hurtling', 8575), ('edgeof', 5539), ('yourseat', 19494), ('thrust', 17603), ('custody', 4344), ('alliances', 804), ('proprietor', 13683), ('soninlaw', 16268), ('shoes', 15780), ('moral', 11466), ('inform', 8943), ('incarcerated', 8809), ('faction', 6324), ('seditious', 15404), ('painter', 12622), ('imperial', 8755), ('contentious', 3880), ('fatherinlaw', 6455), ('handle', 7897), ('household', 8486), ('foundering', 6950), ('boots', 2288), ('athletics', 1380), ('prankster', 13427), ('bruno', 2521), ('macdonald', 10529), ('weird', 19022), ('dress', 5340), ('codes', 3494), ('punishments', 13798), ('neighboring', 11827), ('authoritarians', 1464), ('troublemakers', 18030), ('unthinkable', 18426), ('punishment', 13797), ('dorms', 5244), ('40yearold', 274), ('pune', 13792), ('bucket', 2543), ('list', 10246), ('20yearold', 213), ('donor', 5223), ('marriages', 10774), ('hosting', 8467), ('outrageous', 12502), ('anythinggoes', 1074), ('hungary', 8557), ('siddhartha', 15862), ('buddis', 2555), ('spin', 16420), ('glide', 7438), ('giggle', 7387), ('thelma', 17504), ('louise', 10418), ('syndrome', 17164), ('institution', 9034), ('highoctane', 8221), ('thunderstruck', 17612), ('truckracing', 18041), ('greasepit', 7631), ('ferret', 6559), ('darnell', 4455), ('paw', 12830), ('maybe', 10876), ('pile', 13079), ('bunch', 2591), ('crazy', 4133), ('stunts', 16854), ('judo', 9517), ('trainer', 17873), ('grooms', 7705), ('youngest', 19490), ('marathon', 10724), ('runner', 15017), ('willing', 19166), ('chefs', 3165), ('researchers', 14527), ('gastronomic', 7264), ('weigh', 19015), ('presiding', 13501), ('identities', 8648), ('patriarchal', 12808), ('assamese', 1311), ('fugitives', 7106), ('lock', 10300), ('worse', 19333), ('cartel', 2895), ('said', 15082), ('kentuckys', 9669), ('backwoods', 1585), ('bloodshed', 2158), ('eyeopening', 6294), ('jeff', 9345), ('dave', 4476), ('attell', 1400), ('packing', 12595), ('disneys', 5055), ('maines', 10602), ('kikiwaka', 9706), ('unclenephew', 18231), ('citizens', 3324), ('going', 7496), ('iowa', 9189), ('lounge', 10421), ('soaring', 16184), ('probes', 13585), ('personas', 12961), ('portland', 13328), ('afoul', 633), ('pariss', 12720), ('thrillseeking', 17592), ('superbike', 16965), ('courier', 4060), ('unites', 18344), ('resulting', 14595), ('disheartened', 5036), ('parishioners', 12718), ('alcoholism', 747), ('faith', 6349), ('zurich', 19596), ('fraternitys', 7003), ('hazing', 8038), ('escalates', 5965), ('scottish', 15326), ('disgruntled', 5028), ('besieged', 1943), ('militia', 11192), ('exmarine', 6167), ('tackling', 17192), ('sleuths', 16071), ('recalls', 14173), ('elizabeth', 5650), ('taylor', 17311), ('wandrous', 18898), ('stylish', 16861), ('yearns', 19445), ('especially', 5980), ('mazelike', 10888), ('manila', 10683), ('slum', 16099), ('incensed', 8813), ('civilians', 3335), ('manigan', 10682), ('retiree', 14619), ('rene', 14447), ('soften', 16213), ('homosexuality', 8380), ('vanessa', 18572), ('roland', 14884), ('kuwaiti', 9860), ('pleasure', 13191), ('exlover', 6166), ('raising', 13988), ('blow', 2172), ('steam', 16635), ('akshay', 721), ('joshi', 9482), ('lambodar', 9911), ('posing', 13343), ('kkompany', 9763), ('extortion', 6273), ('demand', 4676), ('joshis', 9483), ('apathetic', 1083), ('shocked', 15775), ('prank', 13424), ('cézanne', 4382), ('émile', 19601), ('zola', 19580), ('schoolboys', 15274), ('flesheating', 6760), ('rips', 14772), ('woodland', 19290), ('terrified', 17439), ('dick', 4885), ('strawbridge', 16770), ('craftsman', 4108), ('hardie', 7948), ('cabins', 2684), ('popup', 13316), ('wales', 18869), ('construct', 3853), ('1920s', 99), ('telephone', 17371), ('manage', 10657), ('dinner', 4943), ('draws', 5322), ('crowds', 4234), ('admission', 541), ('infected', 8913), ('carnivorous', 2872), ('insects', 9000), ('emerged', 5707), ('exterminator', 6270), ('witnessing', 19246), ('literally', 10254), ('alejandros', 754), ('jolt', 9458), ('needed', 11804), ('nudge', 12093), ('loners', 10335), ('choin', 3256), ('charmed', 3108), ('seonwoo', 15539), ('seethes', 15429), ('biblical', 1994), ('newsstand', 11903), ('vendors', 18618), ('fantasies', 6395), ('fixation', 6712), ('lemonade', 10104), ('seller', 15495), ('arise', 1196), ('surface', 17028), ('calendar', 2714), ('models', 11374), ('scotland', 15322), ('nerves', 11850), ('morals', 11470), ('ruthlessly', 15041), ('sylvanian', 17152), ('throwing', 17599), ('hopscotch', 8423), ('rabbit', 13921), ('leap', 10052), ('freya', 7051), ('occasion', 12175), ('stella', 16647), ('hazelnut', 8037), ('chipmunk', 3241), ('dominic', 5207), ('moment', 11404), ('memorable', 11016), ('fete', 6569), ('loveliest', 10430), ('thing', 17537), ('impending', 8752), ('isis', 9223), ('sweden', 17104), ('entangles', 5862), ('bind', 2044), ('pope', 13303), ('francis', 6984), ('jorge', 9475), ('bergoglio', 1930), ('vocation', 18798), ('ravaged', 14091), ('dictatorship', 4891), ('period', 12934), ('east', 5503), ('qualified', 13862), ('midwife', 11151), ('colleagues', 3532), ('convent', 3922), ('bodybuilder', 2213), ('twotime', 18147), ('calum', 2732), ('moger', 11386), ('debilitating', 4526), ('cam', 2735), ('culprit', 4297), ('flamenco', 6726), ('camarón', 2738), ('de', 4494), ('isla', 9226), ('covered', 4077), ('sweeping', 17107), ('biography', 2049), ('contrabando', 3899), ('traición', 17863), ('camelia', 2743), ('corner', 3983), ('bibideaux', 1992), ('camera', 2746), ('relevant', 14388), ('unstoppable', 18418), ('attends', 1412), ('overcomes', 12520), ('established', 5992), ('paved', 12828), ('espionage', 5982), ('cole', 3522), ('guantanamo', 7738), ('bays', 1779), ('xray', 19412), ('cusp', 4342), ('meddling', 10944), ('commitment', 3632), ('grapple', 7613), ('boyfriends', 2353), ('dublin', 5400), ('aisling', 709), ('danielle', 4428), ('millennial', 11198), ('hijinks', 8251), ('hangovers', 7911), ('wear', 18981), ('preston', 13509), ('declare', 4568), ('jock', 9426), ('gab', 7171), ('tie', 17633), ('knot', 9780), ('doozy', 5234), ('total', 17783), ('fraudulently', 7006), ('identical', 8645), ('triplet', 18006), ('psychiatric', 13743), ('dueling', 5407), ('wardrobe', 18910), ('malfunction', 10642), ('viral', 18749), ('bubbly', 2538), ('streamer', 16775), ('judgment', 9515), ('incandescent', 8807), ('shores', 15798), ('tumbles', 18075), ('trips', 18008), ('hallucinatory', 7875), ('lyle', 10514), ('candyman', 2774), ('hookhanded', 8404), ('flesh', 6759), ('peoples', 12899), ('marijuana', 10747), ('shipment', 15759), ('touches', 17791), ('ranks', 14046), ('immortal', 8736), ('renegade', 14448), ('cadillac', 2689), ('relentlessly', 14386), ('upbeat', 18454), ('droid', 5358), ('heartbreaking', 8078), ('economist', 5530), ('pikettys', 13076), ('accumulation', 446), ('repercussions', 14481), ('richi', 14717), ('sneha', 16157), ('decisionmaking', 4565), ('krupp', 9838), ('blowing', 2173), ('treehouse', 17956), ('smithereens', 16117), ('traditions', 17853), ('reconstructs', 14217), ('negotiations', 11822), ('recount', 14226), ('ordeals', 12401), ('gotham', 7551), ('garage', 7246), ('overhauls', 12529), ('trucks', 18042), ('trading', 17847), ('showstopper', 15827), ('bucks', 2545), ('verge', 18642), ('carbon', 2824), ('tax', 17308), ('thrusts', 17604), ('lowlevel', 10446), ('illegal', 8685), ('darndale', 4454), ('releasing', 14383), ('cards', 2832), ('cardcaptor', 2826), ('huggable', 8514), ('cousins', 4072), ('nestled', 11855), ('rainbowcolored', 13981), ('carealot', 2835), ('bears', 1802), ('schoolboy', 15273), ('spanning', 16347), ('philippines', 13009), ('personally', 12960), ('professionally', 13620), ('carehome', 2849), ('spaceship', 16335), ('readied', 14114), ('rigid', 14750), ('disrupted', 5085), ('spry', 16500), ('angeless', 987), ('painters', 12623), ('chicano', 3196), ('ballarta', 1633), ('mocks', 11367), ('transit', 17904), ('corn', 3982), ('betrays', 1962), ('parenthood', 12709), ('pregnancies', 13454), ('commitments', 3637), ('bathtub', 1756), ('puddle', 13771), ('theorizes', 17513), ('autopsy', 1479), ('carmen', 2869), ('sandiego', 15145), ('foiling', 6837), ('viles', 18715), ('savvy', 15211), ('sidekicks', 15865), ('ivy', 9262), ('zack', 19524), ('vile', 18714), ('shanghai', 15664), ('parttimer', 12757), ('carole', 2874), ('tuesday', 18070), ('outcast', 12474), ('telekinetic', 17365), ('lashes', 9961), ('crowd', 4232), ('torments', 17767), ('joke', 9453), ('prom', 13650), ('socially', 16195), ('19yearold', 169), ('spreads', 16491), ('globally', 7450), ('reputed', 14514), ('plaguefree', 13147), ('avoiding', 1512), ('ferrell', 6558), ('spanishspeaking', 16346), ('creditors', 4152), ('smash', 16111), ('modeling', 11373), ('casablancas', 2906), ('chronicled', 3289), ('invented', 9152), ('recklessness', 14192), ('selfdestruction', 15466), ('teenagers', 17355), ('apparent', 1099), ('potion', 13388), ('sleuth', 16069), ('conan', 3718), ('nefarious', 11811), ('poisoned', 13239), ('daniel', 4427), ('craig', 4111), ('minted', 11254), ('007', 0), ('financier', 6646), ('terrorism', 17444), ('poker', 13241), ('troops', 18022), ('invade', 9143), ('benny', 1919), ('ho', 8323), ('macau', 10528), ('pluck', 13204), ('diligence', 4930), ('wields', 19139), ('enormous', 5842), ('jonbenet', 9465), ('ramseys', 14021), ('1996', 162), ('roles', 14888), ('highpowered', 8223), ('lawyers', 10022), ('interests', 9073), ('ebbs', 5516), ('flows', 6814), ('sorrow', 16291), ('vampire', 18563), ('controlled', 3912), ('dracula', 5289), ('southern', 16320), ('curry', 4332), ('favor', 6469), ('adaptation', 505), ('tennessee', 17411), ('williamss', 19164), ('sizzling', 15991), ('abagnale', 347), ('jr', 9503), ('johannesburg', 9437), ('hardpartying', 7951), ('economics', 5529), ('burgeoning', 2609), ('hopeful', 8416), ('united', 18343), ('states', 16610), ('frenemies', 7039), ('hoped', 8415), ('escalate', 5964), ('resentments', 14534), ('verbal', 18637), ('jabs', 9268), ('brawls', 2397), ('14thcentury', 39), ('serfs', 15556), ('incurs', 8839), ('suspicion', 17076), ('inquisition', 8994), ('aside', 1297), ('merge', 11059), ('kitty', 9762), ('galore', 7211), ('claw', 3381), ('domination', 5203), ('exploits', 6223), ('felinefriendly', 6525), ('folks', 6841), ('kitties', 9761), ('wallis', 18883), ('cctv', 2981), ('phones', 13019), ('devices', 4840), ('recordings', 14222), ('exsoldiers', 6257), ('donning', 5222), ('suit', 16926), ('fedora', 6507), ('dapper', 4439), ('presidential', 13498), ('election', 5614), ('honky', 8390), ('tonk', 17737), ('badonkadonk', 1600), ('confides', 3769), ('troubling', 18034), ('bacteria', 1588), ('incursions', 8841), ('certain', 3025), ('archivist', 1173), ('pk', 13140), ('nair', 11691), ('bankruptcy', 1681), ('abah', 348), ('emak', 5681), ('adapt', 504), ('vying', 18837), ('developed', 4832), ('unhealthy', 18325), ('horde', 8425), ('bearing', 1801), ('illustrious', 8704), ('valiant', 18551), ('reaching', 14106), ('egotistical', 5586), ('kicks', 9693), ('deciding', 4557), ('mistress', 11324), ('pickle', 13050), ('fatshaming', 6464), ('maharashtra', 10588), ('kabaddi', 9570), ('saves', 15205), ('bells', 1884), ('adventurous', 590), ('resham', 14539), ('backpacker', 1578), ('perspective', 12963), ('1986', 151), ('shuttle', 15852), ('challenger', 3044), ('priya', 13575), ('polar', 13247), ('opposites', 12369), ('brash', 2386), ('pirya', 13116), ('sophisticated', 16281), ('perfectionist', 12920), ('oil', 12258), ('nonetheless', 12000), ('dare', 4441), ('hub', 8507), ('booms', 2279), ('storeowner', 16723), ('heartbroken', 8079), ('schoolteacher', 15283), ('impulses', 8799), ('unmask', 18371), ('donors', 5224), ('shelter', 15719), ('monsoon', 11434), ('banker', 1676), ('washedup', 18941), ('vince', 18727), ('michael', 11121), ('fatherhood', 6454), ('tune', 18083), ('risen', 14775), ('catapult', 2946), ('calf', 2715), ('secretive', 15395), ('breezes', 2422), ('subdued', 16868), ('swept', 17115), ('ethereal', 6004), ('80s', 325), ('lyrical', 10518), ('evolving', 6074), ('indonesia', 8872), ('senator', 15510), ('kennedy', 9663), ('reputation', 14512), ('keeps', 9654), ('bay', 1777), ('berlins', 1934), ('charité', 3099), ('ida', 8635), ('tuberculosis', 18066), ('diphtheria', 4950), ('1943', 111), ('regime', 14317), ('eugenic', 6013), ('willy', 19171), ('wonka', 19283), ('confections', 3754), ('beauties', 1815), ('martialarts', 10788), ('butt', 2653), ('software', 16216), ('reboot', 14160), ('angels', 990), ('rings', 14759), ('encoded', 5762), ('information', 8945), ('charlie', 3104), ('shapes', 15673), ('outer', 12479), ('wilbur', 19145), ('pig', 13071), ('templeton', 17387), ('rat', 14074), ('charlotte', 3105), ('spider', 16411), ('eb', 5515), ('whites', 19107), ('timeless', 17656), ('adored', 560), ('soulmate', 16301), ('seema', 15423), ('sid', 15860), ('jealous', 9339), ('womanizers', 19264), ('omi', 12291), ('jai', 9284), ('lovebirds', 10426), ('holden', 8337), ('lesbian', 10126), ('cameron', 2748), ('dallas', 4406), ('level', 10141), ('photographers', 13026), ('mount', 11537), ('document', 5156), ('reefs', 14267), ('adventurer', 586), ('cyril', 4378), ('chauquet', 3138), ('colossal', 3570), ('adrenalinepacked', 563), ('britishcolonized', 2473), ('mainland', 10603), ('immigrant', 8730), ('shaped', 15672), ('coltrane', 3572), ('romanticized', 14909), ('assis', 1333), ('chateaubriand', 3128), ('achievements', 457), ('judged', 9513), ('related', 14369), ('amritsar', 933), ('evoke', 6069), ('dreadful', 5327), ('unease', 18287), ('hindusikh', 8274), ('budget', 2557), ('dreamed', 5329), ('bored', 2298), ('fish', 6689), ('pond', 13283), ('gripping', 7686), ('ups', 18485), ('downs', 5274), ('navarro', 11767), ('coveted', 4083), ('sharks', 15686), ('worldchampion', 19314), ('juggle', 9519), ('malone', 10652), ('exbaseball', 6094), ('bar', 1687), ('operates', 12349), ('saloon', 15116), ('webtoon', 18996), ('upperclassman', 18476), ('igniting', 8665), ('twitter', 18142), ('packs', 12596), ('knives', 9775), ('headtohead', 8057), ('impromptu', 8793), ('ingredients', 8952), ('refrigerators', 14297), ('kitchens', 9757), ('redefining', 14254), ('gourmet', 7556), ('juicy', 9522), ('smoky', 16123), ('barbecue', 1693), ('pitmasters', 13126), ('flavors', 6747), ('pushing', 13833), ('fine', 6654), ('dining', 4942), ('reinventing', 14357), ('ideas', 8644), ('fascinate', 6425), ('chelsea', 3166), ('handler', 7898), ('hangups', 7913), ('netflix', 11857), ('photographic', 13027), ('ninenine', 11957), ('peretti', 12917), ('showcases', 15819), ('reimagining', 14345), ('sad', 15063), ('joyful', 9498), ('rahul', 13967), ('submerging', 16876), ('ashes', 1285), ('humanoid', 8535), ('haunt', 8016), ('steps', 16661), ('cheuk', 3184), ('wanchi', 18893), ('cracks', 4103), ('wise', 19220), ('follies', 6844), ('flair', 6723), ('dodgy', 5169), ('decorators', 4577), ('fullbore', 7117), ('glaswegians', 7430), ('presenters', 13487), ('parodies', 12729), ('virginal', 18752), ('tracey', 17833), ('strictly', 16797), ('tower', 17818), ('hamlets', 7885), ('superhuman', 16975), ('dholakpur', 4863), ('traded', 17843), ('immortality', 8737), ('lures', 10495), ('sonapur', 16258), ('centuries', 3014), ('wicked', 19122), ('conquer', 3815), ('indraverma', 8878), ('wile', 19156), ('trolls', 18019), ('overtake', 12548), ('messina', 11084), ('kung', 9851), ('fu', 7098), ('runins', 15016), ('endless', 5782), ('china', 3233), ('zuhu', 19593), ('colonial', 3556), ('supporting', 17014), ('self', 15453), ('easier', 5501), ('done', 5216), ('believes', 1875), ('warn', 18921), ('fixit', 6716), ('delivering', 4665), ('blunderberry', 2187), ('cakes', 2705), ('awakes', 1522), ('smarts', 16110), ('monkey', 11427), ('chico', 3201), ('bon', 2248), ('blunderburg', 2188), ('drops', 5367), ('moneycrazed', 11416), ('assembly', 1324), ('jang', 9308), ('taejun', 17200), ('6yearold', 315), ('toy', 17825), ('doll', 5187), ('chucky', 3296), ('neither', 11831), ('intertwine', 9110), ('tainted', 17217), ('pasts', 12786), ('include', 8821), ('ruka', 14995), ('aquatic', 1137), ('ocean', 12189), ('wielder', 19136), ('chakuro', 3039), ('relaxation', 14377), ('creating', 4138), ('wintry', 19208), ('feisty', 6521), ('fatka', 6462), ('fatkas', 6463), ('halfhuman', 7862), ('halfwitch', 7868), ('sabrina', 15057), ('wartorn', 18939), ('telecommunications', 17364), ('explosive', 6234), ('larger', 9951), ('rapper', 14061), ('chingo', 3237), ('bling', 2139), ('texmex', 17472), ('pug', 13777), ('chip', 3240), ('kindergarten', 9726), ('potato', 13382), ('midnight', 11147), ('10th', 13), ('lesserknown', 10130), ('carrying', 2891), ('letter', 10136), ('can', 2762), ('1930s', 103), ('overthrow', 12553), ('conquerors', 3817), ('inventor', 9157), ('caractacus', 2823), ('potts', 13392), ('flying', 6821), ('vulgaria', 18834), ('devoid', 4849), ('suspecting', 17071), ('infidelity', 8922), ('catherine', 2959), ('hires', 8285), ('chloe', 3248), ('faithfulness', 6352), ('intensify', 9060), ('meaningful', 10920), ('meals', 10917), ('present', 13483), ('reacquainted', 14107), ('hospice', 8453), ('ward', 18908), ('exotic', 6180), ('chocolate', 3252), ('500000', 292), ('employee', 5738), ('weighed', 19016), ('jobless', 9423), ('debts', 4531), ('insecure', 9001), ('transformative', 17898), ('thug', 17605), ('box', 2344), ('risk', 14778), ('concert', 3732), ('chris', 3272), ('delia', 4653), ('unbridled', 18222), ('reconsiders', 14214), ('buying', 2663), ('pants', 12668), ('minneapolis', 11249), ('thoughts', 17570), ('selfcensorship', 15460), ('problematic', 13588), ('dolphins', 5192), ('lame', 9912), ('mutant', 11643), ('extended', 6262), ('searing', 15375), ('observations', 12156), ('atlanta', 1382), ('tucker', 18068), ('chops', 3264), ('matchmaking', 10829), ('contextual', 3887), ('acculturated', 445), ('accentuate', 418), ('cnns', 3459), ('christiane', 3275), ('amanpour', 885), ('reports', 14495), ('christina', 3279), ('pazsitzky', 12847), ('seattle', 15383), ('biting', 2079), ('dose', 5247), ('focus', 6825), ('salacious', 15099), ('precocious', 13440), ('trespass', 17968), ('hold', 8336), ('janitor', 9311), ('foils', 6838), ('attempted', 1402), ('intended', 9057), ('georgia', 7339), ('pines', 13092), ('thrilled', 17586), ('grandparents', 7604), ('berry', 1938), ('inherit', 8958), ('socialite', 16193), ('ellen', 5652), ('value', 18560), ('miranda', 11263), ('lyla', 10513), ('dont', 5226), ('disrupt', 5084), ('pediatrician', 12869), ('recovers', 14233), ('ski', 16007), ('patients', 12804), ('jolted', 9459), ('luther', 10504), ('krank', 9827), ('skip', 16016), ('rooftop', 14924), ('frosty', 7087), ('careworn', 2852), ('christopher', 3285), ('winnie', 19201), ('pooh', 13297), ('acre', 472), ('wood', 19286), ('block', 2147), ('inspires', 9023), ('goalie', 7477), ('claudio', 3378), ('tamburrini', 17250), ('educational', 5561), ('tots', 17786), ('nursery', 12108), ('rhymes', 14698), ('tunes', 18084), ('easytofollow', 5508), ('chuchu', 3294), ('cussly', 4343), ('chacha', 3029), ('playtime', 13185), ('chiku', 3209), ('habit', 7822), ('colors', 3567), ('egg', 5579), ('opening', 12342), ('harlo', 7966), ('perch', 12909), ('adoodledoo', 548), ('fustyle', 7159), ('mistaking', 11319), ('hustler', 8580), ('fishermen', 6693), ('hatch', 8003), ('careen', 2837), ('disarray', 4984), ('horribly', 8433), ('regard', 14309), ('botany', 2316), ('score', 15311), ('historysteeped', 8303), ('14', 37), ('undergo', 18252), ('rigorous', 14751), ('fourday', 6953), ('selection', 15449), ('spies', 16416), ('kerala', 9673), ('fixed', 6713), ('papers', 12673), ('matriarch', 10843), ('picnics', 13055), ('gentleman', 7327), ('hawon', 8029), ('immature', 8724), ('grandsons', 7606), ('whip', 19095), ('iris', 9202), ('succumbs', 16903), ('triumphs', 18012), ('parking', 12723), ('realizations', 14124), ('execution', 6130), ('choosing', 3262), ('worthy', 19338), ('spared', 16350), ('nice', 11916), ('ran', 14025), ('epicenter', 5912), ('darren', 4458), ('chockfull', 3250), ('sideshow', 15869), ('oddities', 12203), ('bite', 2076), ('neck', 11801), ('academic', 411), ('establishment', 5994), ('rape', 14051), ('unfolding', 18312), ('chronology', 3292), ('magnitude', 10582), ('scale', 15221), ('smooth', 16124), ('functioning', 7130), ('rio', 14761), ('janeiro', 9307), ('able', 378), ('photography', 13029), ('decade', 4535), ('seminal', 15505), ('whove', 19120), ('brutalized', 2526), ('congo', 3793), ('regain', 14304), ('empowerment', 5745), ('moody', 11453), ('burnedout', 2622), ('sinks', 15959), ('expanding', 6182), ('kenneth', 9665), ('clarks', 3357), ('1969', 132), ('civilisation', 3336), ('throughout', 17597), ('examining', 6085), ('motherinlaw', 11511), ('reflect', 14284), ('maladjusted', 10630), ('tomoyas', 17731), ('nagisa', 11686), ('saxophonist', 15216), ('clarence', 3353), ('clemons', 3396), ('awakening', 1519), ('andromeda', 974), ('perseus', 12949), ('beastly', 1805), ('looms', 10372), ('cadets', 2688), ('shattered', 15696), ('demoted', 4700), ('foolhardy', 6862), ('rank', 14043), ('convinces', 3939), ('peer', 12875), ('abolish', 381), ('ranking', 14045), ('illuminated', 8695), ('screens', 15347), ('sisterbrother', 15968), ('cleo', 3397), ('cuquín', 4315), ('professions', 13622), ('enjoy', 5830), ('stylin', 16859), ('chases', 3121), ('lords', 10387), ('physically', 13034), ('hairies', 7843), ('segregated', 15431), ('dominated', 5200), ('newman', 11896), ('universal', 18346), ('pause', 12825), ('fastforward', 6439), ('donal', 5211), ('macintyre', 10538), ('heinous', 8115), ('plagued', 13146), ('disfigured', 5025), ('musicdriven', 11632), ('clive', 3426), ('davis', 4481), ('moguls', 11388), ('attackers', 1398), ('client', 3406), ('driss', 5350), ('culprits', 4298), ('scandal', 15227), ('martin', 10790), ('claudia', 3377), ('topflight', 17747), ('targets', 17286), ('links', 10230), ('generations', 7308), ('earlier', 5482), ('flint', 6778), ('lockwood', 10307), ('clouds', 3443), ('rain', 13979), ('chewandswallow', 3185), ('feed', 6510), ('overflow', 12527), ('shrimpanzees', 15833), ('tacodiles', 17194), ('jellyfish', 9351), ('sandwiches', 15147), ('goingaway', 7497), ('manhattan', 10676), ('proportions', 13679), ('cuervos', 4287), ('potro', 13390), ('argentina', 1186), ('soccerstar', 16190), ('chava', 3141), ('iglesiass', 8660), ('doting', 5250), ('hugo', 8519), ('sánchez', 17175), ('nicaragua', 11914), ('callers', 2725), ('triangles', 17976), ('confessional', 3763), ('callin', 2726), ('eighth', 5594), ('triangle', 17975), ('wreaking', 19353), ('complicates', 3696), ('meens', 10968), ('remain', 14412), ('allows', 819), ('inheriting', 8962), ('creators', 4146), ('nosotros', 12041), ('nobles', 11980), ('carter', 2897), ('benches', 1902), ('undefeated', 18245), ('upbringing', 18455), ('snoop', 16164), ('dogg', 5176), ('atrisk', 1390), ('rivalry', 14793), ('johnny', 9442), ('reignites', 14343), ('karate', 9609), ('chronicle', 3288), ('peru', 12967), ('farmers', 6413), ('galicia', 7202), ('prosperous', 13691), ('providing', 13722), ('suppliers', 17008), ('contrasts', 3907), ('coco', 3485), ('celis', 2997), ('raúl', 14100), ('meneses', 11031), ('alternate', 860), ('sounds', 16308), ('jj', 9416), ('edutaining', 5564), ('fridge', 7052), ('sunny', 16960), ('refrigerator', 14296), ('ostracized', 12454), ('earnest', 5490), ('laborer', 9874), ('outlawed', 12487), ('highschooler', 8233), ('instantly', 9029), ('obedient', 12135), ('mask', 10806), ('japans', 9316), ('longinvading', 10353), ('britannia', 2471), ('supercomputer', 16968), ('destroying', 4797), ('duped', 5433), ('believing', 1876), ('arms', 1219), ('detroit', 4823), ('foulmouthed', 6942), ('crack', 4095), ('bonding', 2252), ('naples', 11711), ('buenos', 2560), ('aires', 699), ('neapolitan', 11787), ('coffee', 3502), ('concoct', 3736), ('10', 2), ('mint', 11253), ('masterful', 10819), ('utilize', 18530), ('forensic', 6896), ('longstanding', 10360), ('longunsolved', 10364), ('collides', 3547), ('flame', 6725), ('hesitates', 8179), ('propose', 13681), ('competing', 3677), ('gangs', 7241), ('smugglers', 16129), ('pressured', 13506), ('colin', 3524), ('quinn', 13906), ('calls', 2729), ('hypocrisies', 8608), ('politically', 13270), ('charged', 3092), ('offbroadway', 12217), ('snl', 16162), ('columbus', 3573), ('achieving', 458), ('chilean', 3222), ('commune', 3649), ('voluntarily', 18811), ('invaded', 9144), ('walledin', 18882), ('settlement', 15590), ('cosmetics', 4013), ('fundamentalist', 7133), ('carlton', 2867), ('pearson', 12860), ('jeopardizes', 9363), ('dear', 4511), ('seinfelds', 15436), ('roving', 14965), ('combines', 3586), ('vintage', 18734), ('caffeinefueled', 2693), ('sharpest', 15690), ('aukerman', 1446), ('podcast', 13226), ('cohost', 3513), ('bandleader', 1663), ('reggie', 14315), ('appearances', 1102), ('assortment', 1343), ('titan', 17684), ('missile', 11305), ('sobering', 16186), ('mass', 10811), ('bogus', 2222), ('teachers', 17318), ('credentials', 4150), ('heaven', 8093), ('actorsinger', 492), ('pedro', 12871), ('infante', 8907), ('impersonators', 8763), ('misunderstanding', 11327), ('villa', 18717), ('erotic', 5949), ('descending', 4754), ('abyss', 410), ('latenight', 9971), ('obrien', 12150), ('farflung', 6410), ('destinations', 4791), ('development', 4836), ('owes', 12564), ('housewife', 8492), ('feeling', 6514), ('stale', 16550), ('prostitutes', 13694), ('latif', 9974), ('nasser', 11734), ('intricate', 9129), ('lavish', 10006), ('rides', 14731), ('fur', 7147), ('coats', 3471), ('mma', 11349), ('grants', 7610), ('highs', 8231), ('lows', 10449), ('ascent', 1280), ('bubble', 2534), ('sensual', 15529), ('unforeseen', 18314), ('entangle', 5859), ('widely', 19127), ('coverups', 4082), ('assassinations', 1317), ('intrigues', 9131), ('contagion', 3866), ('sweeps', 17108), ('impose', 8775), ('quarantine', 13866), ('scrambling', 15334), ('exindian', 6156), ('commando', 3618), ('entire', 5883), ('observant', 12154), ('sofía', 16217), ('hisher', 8291), ('portrait', 13331), ('bundy', 2593), ('committing', 3641), ('greatness', 7638), ('baking', 1620), ('braising', 2374), ('pollan', 13274), ('elevated', 5633), ('cannabis', 2777), ('cuisine', 4288), ('artful', 1254), ('leafy', 10043), ('herb', 8156), ('thc', 17495), ('infusions', 8946), ('cbd', 2980), ('sauces', 15192), ('firstever', 6684), ('mouthwatering', 11549), ('marijuanainfused', 10748), ('chill', 3225), ('celeb', 2986), ('judges', 9514), ('luke', 10482), ('jackson', 9276), ('likes', 10209), ('hurt', 8574), ('warden', 18909), ('baffled', 1602), ('cruiser', 4246), ('deter', 4810), ('brutality', 2525), ('observing', 12159), ('videotaping', 18690), ('arrests', 1236), ('department', 4719), ('animation', 1006), ('activism', 484), ('multimedia', 11591), ('spokenword', 16458), ('response', 14576), ('injustice', 8973), ('coraline', 3976), ('resembles', 14531), ('coronavirus', 3988), ('pandemic', 12656), ('toll', 17717), ('despondent', 4785), ('suicidal', 16923), ('lifeline', 10183), ('salesman', 15107), ('lifetime', 10191), ('images', 8711), ('wiretap', 19217), ('escobars', 5975), ('print', 13557), ('counterfeit', 4038), ('room', 14926), ('terribly', 17437), ('boxings', 2349), ('wanes', 18899), ('champions', 3055), ('coffey', 3503), ('criscilla', 4189), ('phases', 12995), ('ibadan', 8614), ('frisky', 7073), ('spill', 16418), ('seasoned', 15380), ('bustling', 2648), ('sydney', 17147), ('magistrates', 10579), ('preside', 13493), ('offenses', 12223), ('verdicts', 18639), ('houghton', 8479), ('newest', 11887), ('multicultural', 11587), ('hybridgenre', 8589), ('farming', 6415), ('decimating', 4561), ('largely', 9950), ('ignored', 8668), ('cheap', 3146), ('recession', 14185), ('panic', 12663), ('racism', 13936), ('darrell', 4457), ('hammond', 7887), ('suffered', 16913), ('nearly', 11795), ('cheeky', 3155), ('ferguson', 6552), ('casual', 2932), ('70s', 317), ('toilets', 17713), ('mildly', 11179), ('crimefilled', 4172), ('postsept', 13376), ('11', 18), ('36hour', 259), ('paragliding', 12684), ('rent', 14460), ('hodgepodge', 8330), ('20something', 208), ('tenants', 17402), ('residence', 14542), ('guards', 7745), ('disused', 5110), ('hilarity', 8259), ('salaries', 15102), ('reluctant', 14408), ('recoup', 14229), ('teaching', 17320), ('rebellious', 14157), ('chaperone', 3079), ('tempt', 17390), ('gods', 7489), ('reinvented', 14356), ('classics', 3370), ('fanciful', 6386), ('feasts', 6491), ('apple', 1108), ('josh', 9481), ('ages', 656), ('whipsmart', 19098), ('rebecca', 14154), ('jettisons', 9380), ('nollywood', 11993), ('ramsey', 14020), ('nouah', 12067), ('impersonating', 8760), ('imposter', 8778), ('undergraduates', 18256), ('jolting', 9460), ('blog', 2151), ('surviving', 17062), ('matter', 10851), ('bowling', 2342), ('alley', 798), ('nonconformist', 11998), ('raquel', 14063), ('20s', 207), ('radical', 13943), ('exquisite', 6252), ('wig', 19143), ('chess', 3181), ('creápolis', 4165), ('cashstrapped', 2914), ('sensational', 15523), ('insidious', 9010), ('collects', 3541), ('insider', 9008), ('andrés', 976), ('colmenares', 3550), ('colosios', 3569), ('favelas', 6468), ('procedural', 13591), ('profilers', 13628), ('psychological', 13747), ('interrogation', 9099), ('cost', 4017), ('walls', 18884), ('grievous', 7673), ('galvanizes', 7216), ('disabilities', 4965), ('irrepressible', 9213), ('alonzo', 838), ('latino', 9978), ('stereotypes', 16667), ('pricey', 13533), ('luxuries', 10508), ('toughlove', 17798), ('sly', 16102), ('infectious', 8914), ('37yearold', 262), ('cristina', 4197), ('valiantly', 18552), ('encourage', 5767), ('abused', 403), ('domestic', 5195), ('insists', 9015), ('ang', 983), ('lees', 10078), ('oscarwinning', 12449), ('yu', 19502), ('shulien', 15843), ('destiny', 4794), ('sword', 17139), ('hades', 7833), ('alpert', 841), ('rachel', 13932), ('shocks', 15777), ('proper', 13673), ('hippie', 8279), ('sleeps', 16063), ('completely', 3687), ('satisfy', 15185), ('confined', 3770), ('nica', 11913), ('fullcycle', 7118), ('breeding', 2421), ('bluefin', 2179), ('kindai', 9725), ('pioneered', 13105), ('kinki', 9742), ('aqua', 1135), ('institute', 9033), ('enterprising', 5870), ('cupcake', 4314), ('cheerful', 3158), ('dinosaur', 4945), ('sorts', 16294), ('twins', 18133), ('reckon', 14193), ('rebel', 14155), ('nimue', 11953), ('arrogant', 1242), ('curtiz', 4340), ('casablanca', 2905), ('1942', 110), ('dreamer', 5330), ('landed', 9925), ('mine', 11225), ('sucked', 16905), ('deception', 4549), ('nominee', 11997), ('symbiotic', 17155), ('ushio', 18520), ('noriko', 12016), ('shinohara', 15755), ('elevenyearold', 5637), ('fascinated', 6426), ('releases', 14382), ('modified', 11381), ('cyborgs', 4366), ('devilman', 4843), ('cyborg', 4365), ('009', 1), ('blessed', 2127), ('bicycle', 1998), ('astrologer', 1356), ('selfrealization', 15483), ('dl', 5145), ('hughley', 8518), ('entertains', 5877), ('hotbutton', 8471), ('scandals', 15229), ('rapidfire', 14054), ('philadelphia', 13001), ('prima', 13541), ('ballerina', 1634), ('dial', 4871), ('experiencing', 6203), ('resist', 14553), ('ramadan', 14006), ('ismail', 9234), ('mosque', 11500), ('ismails', 9235), ('chagrin', 3033), ('hasty', 8001), ('screwball', 15350), ('evolves', 6073), ('buzzmaking', 2667), ('citywide', 3330), ('veterans', 18656), ('vietnam', 18698), ('lee', 10077), ('kath', 9634), ('kels', 9659), ('bublé', 2539), ('kim', 9718), ('sharon', 15688), ('lurks', 10498), ('yuletide', 19507), ('dilek', 4927), ('cardiologist', 2830), ('pinpoint', 13100), ('cause', 2967), ('witnessed', 19244), ('kübra', 9866), ('possessed', 13350), ('examination', 6081), ('dutiful', 5448), ('jake', 9292), ('complaint', 3685), ('thrillseeker', 17591), ('tween', 18121), ('bmx', 2195), ('approving', 1129), ('volunteer', 18813), ('dotcom', 5249), ('economic', 5528), ('maya', 10874), ('hooks', 8406), ('intersect', 9103), ('shifty', 15743), ('cigarsmoking', 3308), ('wizard', 19250), ('principled', 13555), ('extravagant', 6281), ('antiextremist', 1052), ('scholar', 15268), ('refusing', 14303), ('sentence', 15532), ('aids', 682), ('ron', 14918), ('woodroof', 19291), ('smuggles', 16130), ('medications', 10954), ('depression', 4734), ('dana', 4415), ('carvey', 2904), ('pitchperfect', 13124), ('sotrueithurts', 16296), ('millennials', 11199), ('goose', 7532), ('beats', 1813), ('totally', 17785), ('fifteenyearold', 6600), ('tara', 17280), ('websters', 18995), ('rejection', 14363), ('debbie', 4525), ('allens', 792), ('nutcracker', 12116), ('yearn', 19443), ('snatching', 16152), ('trophies', 18023), ('gorgeous', 7538), ('alyssa', 875), ('edwards', 5566), ('ruffling', 14985), ('feathers', 6493), ('nailing', 11690), ('impeckable', 8751), ('courtship', 4070), ('enlisted', 5836), ('mexicos', 11110), ('infiltrating', 8926), ('capitals', 2798), ('oncepromising', 12305), ('wrestler', 19363), ('commonwealth', 3647), ('hamster', 7889), ('penfold', 12883), ('stateoftheart', 16609), ('gadgetry', 7183), ('jet', 9379), ('caregiver', 2847), ('inherits', 8963), ('estate', 5995), ('swirl', 17131), ('tangling', 17264), ('4x4', 286), ('vehicles', 18609), ('steer', 16641), ('roads', 14812), ('trickiest', 17987), ('terrains', 17434), ('sloss', 16091), ('sosa', 16295), ('reminisces', 14429), ('ponders', 13286), ('inhabits', 8957), ('tupperware', 18089), ('thirsty', 17549), ('priest', 13536), ('trojan', 18016), ('publicist', 13762), ('danny', 4432), ('fields', 6592), ('volcanologist', 18807), ('rumblings', 15005), ('dormant', 5242), ('volcano', 18805), ('eruption', 5961), ('adapted', 507), ('risa', 14773), ('dany', 4436), ('boon', 2281), ('homeland', 8363), ('gig', 7385), ('topple', 17752), ('flip', 6781), ('icy', 8634), ('beth', 1955), ('addy', 524), ('reynolds', 14692), ('esteemed', 5997), ('flower', 6812), ('frantic', 6996), ('spans', 16348), ('bangla', 1671), ('charred', 3113), ('corpse', 3995), ('woods', 19292), ('highprofile', 8225), ('contains', 3870), ('chillingly', 3228), ('alma', 832), ('ignites', 8664), ('sordid', 16288), ('implicated', 8769), ('unwanted', 18438), ('waking', 18865), ('derelict', 4744), ('raza', 14098), ('libby', 10157), ('testified', 17458), ('convincing', 3940), ('entering', 5867), ('terrorize', 17447), ('lake', 9899), ('farrier', 6419), ('tourism', 17804), ('spots', 16480), ('absence', 392), ('drifting', 5345), ('sailors', 15088), ('feuding', 6574), ('exchanging', 6105), ('bipasha', 2058), ('basu', 1748), ('disconcerting', 5002), ('arouse', 1227), ('resentment', 14533), ('attract', 1420), ('dash', 4461), ('lily', 10212), ('messages', 11077), ('dares', 4445), ('notebook', 12049), ('forth', 6927), ('flirtations', 6783), ('fails', 6336), ('dates', 4468), ('trendy', 17966), ('outing', 12483), ('boarding', 2199), ('brighter', 2454), ('gullah', 7776), ('coastal', 3467), ('1902', 93), ('chappelle', 3081), ('triumphant', 18011), ('caps', 2803), ('scorching', 15310), ('material', 10832), ('selfreflection', 15485), ('tidal', 17628), ('defiant', 4613), ('awarded', 1524), ('twain', 18119), ('ceremony', 3021), ('washington', 18944), ('broadcaster', 2479), ('evolutionary', 6071), ('grieve', 7670), ('batra', 1759), ('playfully', 13177), ('resigned', 14551), ('middling', 11144), ('brent', 2428), ('stab', 16532), ('donald', 5212), ('trump', 18049), ('swagger', 17087), ('paramount', 12694), ('theatre', 17499), ('biological', 2050), ('sleepovers', 16062), ('nighttime', 11945), ('soap', 16181), ('frankly', 6993), ('obsess', 12160), ('assists', 1339), ('humanzombie', 8540), ('hybrid', 8588), ('outwitting', 12513), ('mindless', 11221), ('ghouls', 7370), ('cliquish', 3425), ('depressed', 4732), ('13yearold', 36), ('arkansas', 1208), ('metropolis', 11103), ('supergirl', 16971), ('bumblebee', 2583), ('batgirl', 1753), ('zatanna', 19533), ('lantern', 9946), ('classwork', 3376), ('youtuber', 19500), ('figuring', 6614), ('copycat', 3971), ('archnemesis', 1174), ('depalma', 4716), ('carrie', 2884), ('scarface', 15238), ('untouchables', 18430), ('failed', 6334), ('who', 19111), ('ll', 10278), ('misfits', 11291), ('oblivious', 12148), ('fastmoving', 6442), ('hordes', 8426), ('undead', 18244), ('decimate', 4558), ('compound', 3703), ('hotheaded', 8474), ('hitandrun', 8305), ('mowed', 11560), ('optimist', 12377), ('uberpopular', 18172), ('lure', 10493), ('rattled', 14084), ('pin', 13090), ('eligible', 5641), ('scholarship', 15270), ('indie', 8861), ('roommates', 14930), ('grieves', 7671), ('karppi', 9622), ('ties', 17636), ('helsinki', 8144), ('gallaudet', 7207), ('yorker', 19478), ('possibilities', 13354), ('funk', 7140), ('confessions', 3764), ('escapade', 5967), ('beneficiary', 1906), ('everdelightful', 6046), ('everchallenging', 6044), ('twilight', 18129), ('mailed', 10598), ('asking', 1300), ('color', 3561), ('slights', 16078), ('slippery', 16082), ('postracial', 13373), ('cinematographer', 3313), ('lack', 9879), ('eldest', 5609), ('funeral', 7137), ('fiasco', 6583), ('attendees', 1410), ('drummond', 5390), ('moneycoutts', 11415), ('craft', 4105), ('attempting', 1403), ('feats', 6494), ('proved', 13716), ('magicians', 10577), ('shady', 15637), ('lifeordeath', 10185), ('rioting', 14763), ('modeled', 11372), ('inferno', 8917), ('turner', 18104), ('mete', 11092), ('attracting', 1422), ('previous', 13523), ('exracecar', 6253), ('barbaric', 1691), ('frankenstein', 6990), ('2020s', 199), ('mad', 10539), ('mirror', 11270), ('bikers', 2026), ('fairclough', 6342), ('vivid', 18791), ('backdrops', 1570), ('braindead', 2369), ('aristocrats', 1202), ('trapping', 17921), ('octopus', 12199), ('oceandwelling', 12191), ('pistone', 13118), ('donnie', 5221), ('brasco', 2385), ('grew', 7661), ('tori', 17761), ('lustigman', 10503), ('link', 10227), ('attraction', 1423), ('commits', 3638), ('represents', 14500), ('commemorate', 3621), ('25th', 233), ('simmonss', 15908), ('def', 4598), ('jam', 9295), ('1000', 4), ('waitstill', 18858), ('martha', 10785), ('risked', 14779), ('fleeing', 6755), ('degrassis', 4635), ('newbies', 11883), ('realworld', 14135), ('youre', 19493), ('bills', 2040), ('piling', 13083), ('deidra', 4638), ('laney', 9940), ('walled', 18881), ('americanborn', 910), ('flatmates', 6742), ('belonging', 1889), ('roomies', 14927), ('syndicate', 17162), ('gunning', 7787), ('reels', 14269), ('dcp', 4492), ('vartika', 18584), ('chaturvedi', 3135), ('painstaking', 12618), ('2012', 187), ('nirbhaya', 11963), ('selfconfidence', 15462), ('dotty', 5251), ('deliha', 4660), ('hunky', 8563), ('zeliha', 19545), ('kooky', 9807), ('rascal', 14069), ('flatts', 6743), ('bassist', 1742), ('jay', 9333), ('demarcus', 4679), ('exbeauty', 6095), ('allison', 810), ('juggling', 9521), ('demetri', 4682), ('offkilter', 12238), ('acoustic', 461), ('guitar', 7771), ('hairless', 7844), ('nope', 12014), ('oneliners', 12314), ('drawings', 5320), ('muses', 11626), ('doughnut', 5260), ('holes', 8343), ('alphabets', 844), ('aggressive', 658), ('zimbabwes', 19565), ('disputed', 5082), ('2008', 180), ('asked', 1299), ('constitution', 3851), ('bleak', 2121), ('masterminds', 10822), ('pathologist', 12797), ('plotting', 13202), ('impenetrable', 8753), ('reserve', 14537), ('denis', 4703), ('leary', 10061), ('caustically', 2973), ('nonsmokers', 12006), ('vegetarians', 18604), ('undesirables', 18277), ('dennis', 4705), ('gnasher', 7471), ('rubi', 14980), ('pieface', 13063), ('quench', 13884), ('beanotown', 1797), ('expression', 6248), ('deon', 4715), ('thank', 17486), ('say', 15217), ('welp', 19050), ('deray', 4743), ('ball', 1631), ('finer', 6656), ('handling', 7900), ('ricky', 14722), ('gervais', 7355), ('comedydrama', 3597), ('illusionist', 8698), ('derren', 4747), ('reinvents', 14359), ('debunk', 4532), ('confines', 3772), ('disbelief', 4990), ('manipulate', 10684), ('bullet', 2574), ('mentalist', 11037), ('demonstrating', 4697), ('manipulation', 10688), ('appalling', 1098), ('ireland', 9201), ('square', 16517), ('rests', 14593), ('decimates', 4560), ('mujin', 11581), ('fences', 6544), ('lust', 10500), ('severe', 15608), ('droughtravaged', 5369), ('dystopia', 5471), ('betray', 1958), ('hikes', 8254), ('scatter', 15248), ('stalked', 16552), ('drunkenly', 5393), ('cringeworthy', 4183), ('email', 5680), ('hopeless', 8418), ('wes', 19061), ('erase', 5935), ('note', 12048), ('reads', 14117), ('spaniard', 16342), ('passerby', 12770), ('error', 5955), ('genealogy', 7301), ('12thcentury', 28), ('philosopher', 13011), ('profound', 13635), ('teachings', 17321), ('caliph', 2720), ('upend', 18460), ('convinced', 3938), ('rescind', 14518), ('sway', 17098), ('castes', 2927), ('allowed', 817), ('tailspin', 17216), ('helpful', 8140), ('welfare', 19031), ('motives', 11522), ('finnish', 6664), ('1666', 51), ('dakota', 4401), ('zealot', 19538), ('reawakened', 14151), ('demonboy', 4690), ('degenerate', 4631), ('ryo', 15048), ('chats', 3130), ('rasika', 14073), ('dugal', 5414), ('mythologist', 11667), ('devdutt', 4830), ('pattanaik', 12813), ('relevance', 14387), ('folklore', 6840), ('shesh', 15731), ('shahi', 15642), ('examined', 6083), ('schizophrenia', 15265), ('dexter', 4859), ('bloodspatter', 2159), ('analyst', 943), ('murderers', 11610), ('tipped', 17677), ('ne', 11785), ('erdowell', 5937), ('chased', 3120), ('lastditch', 9963), ('jaded', 9279), ('southall', 16317), ('movieloving', 11556), ('shah', 15641), ('rukh', 14996), ('khan', 9683), ('operation', 12351), ('bigotry', 2017), ('chitragupta', 3245), ('oversees', 12545), ('determine', 4812), ('gamely', 7226), ('complies', 3699), ('connect', 3802), ('draw', 5318), ('normally', 12020), ('preclude', 13439), ('forming', 6923), ('friendships', 7063), ('finance', 6642), ('flops', 6797), ('pocket', 13221), ('difference', 4907), ('empress', 5747), ('dragontaming', 5302), ('mace', 10530), ('magistrate', 10578), ('dee', 4586), ('renjie', 14453), ('motley', 11523), ('lisa', 10243), ('sanders', 15143), ('crowdsources', 4235), ('column', 3574), ('prosecuting', 13684), ('onceobese', 12303), ('mi', 11114), ('xiao', 19406), ('liang', 10153), ('affects', 620), ('diana', 4876), ('attractive', 1425), ('chambermaid', 3049), ('troublesome', 18033), ('unreasonable', 18391), ('hitting', 8316), ('kirsten', 9751), ('johnson', 9444), ('inventive', 9156), ('comical', 3605), ('inevitable', 8896), ('brosnans', 2504), ('merchant', 11052), ('inexperienced', 8898), ('deranged', 4742), ('possesses', 13351), ('cerebral', 3020), ('cabaret', 2677), ('expounds', 6245), ('primal', 13542), ('decidedly', 4555), ('gastrointestinal', 7263), ('introduced', 9134), ('italys', 9254), ('expertise', 6208), ('sites', 15976), ('miser', 11285), ('charade', 3089), ('akash', 714), ('sameer', 15123), ('shipboard', 15757), ('flawless', 6749), ('facade', 6308), ('broadcasters', 2480), ('desires', 4774), ('agam', 645), ('singhs', 15942), ('bandung', 1666), ('dilan', 4924), ('affections', 619), ('milea', 11183), ('dilans', 4925), ('involvement', 9185), ('motorbike', 11528), ('imperils', 8758), ('distant', 5095), ('belgium', 1868), ('conflicting', 3778), ('intervenes', 9114), ('favreau', 6474), ('saddest', 15065), ('schmuck', 15266), ('losers', 10398), ('angry', 997), ('naoko', 11707), ('gauko', 7274), ('paleontologists', 12642), ('fossils', 6938), ('located', 10297), ('aided', 679), ('tablets', 17185), ('downed', 5267), ('meteorite', 11094), ('rex', 14689), ('zoe', 19577), ('alpha', 842), ('dinosaurs', 4946), ('fullon', 7122), ('ty', 18152), ('rux', 15043), ('revvit', 14685), ('facetoface', 6315), ('dstructs', 5395), ('amped', 927), ('stronger', 16814), ('agile', 659), ('dinotrux', 4948), ('newells', 11886), ('lies', 10174), ('meehan', 10965), ('truecrime', 18044), ('payday', 12840), ('loans', 10285), ('cheat', 3147), ('emissions', 5717), ('brazen', 2400), ('lecturer', 10074), ('russia', 15033), ('shaolin', 15670), ('monk', 11426), ('te', 17314), ('36th', 260), ('creatives', 4143), ('analysis', 942), ('singletons', 15952), ('nairobi', 11692), ('platonic', 13167), ('meldrum', 10998), ('definitive', 4621), ('proof', 13666), ('sasquatchs', 15174), ('exasperates', 6091), ('wreaks', 19354), ('ruth', 15039), ('whitefeather', 19104), ('feldman', 6522), ('dispensary', 5070), ('encouraging', 5770), ('traumatizes', 17928), ('deserves', 4764), ('segregation', 15433), ('labor', 9872), ('spearheaded', 16372), ('bridestobe', 2443), ('meager', 10915), ('fallouts', 6364), ('absent', 393), ('shrewd', 15831), ('wisecracking', 19221), ('flashy', 6738), ('fiercely', 6595), ('disillusioned', 5044), ('chart', 3114), ('till', 17649), ('heartthrob', 8086), ('awesome', 1533), ('accompanied', 432), ('django', 5143), ('plantation', 13160), ('neige', 11824), ('meditation', 10959), ('richestorags', 14716), ('smile', 16115), ('guided', 7758), ('twinkling', 18132), ('disabled', 4967), ('portrayal', 13334), ('gemma', 7294), ('physician', 13035), ('bolshevik', 2236), ('elevating', 5634), ('parody', 12730), ('sharply', 15691), ('spoofs', 16465), ('documentaries', 5158), ('delusional', 4671), ('unhinged', 18326), ('abiding', 373), ('caregivers', 2848), ('connections', 3807), ('mire', 11266), ('controversy', 3919), ('rudy', 14984), ('moore', 11461), ('ego', 5583), ('dolemite', 5185), ('zeina', 19544), ('tarek', 17282), ('dollar', 5188), ('newintown', 11890), ('damning', 4412), ('thorny', 17565), ('dolly', 5190), ('parton', 12753), ('moving', 11558), ('forgiveness', 6913), ('partons', 12754), ('catalog', 2941), ('seasonal', 15379), ('screeching', 15344), ('halt', 7879), ('coldhearted', 3520), ('hometowns', 8376), ('abandons', 353), ('prosthetic', 13692), ('tail', 17212), ('copenhagen', 3962), ('nabbed', 11678), ('mastermind', 10820), ('bosses', 2309), ('wrongs', 19386), ('selfstyled', 15491), ('archaeologist', 1156), ('sally', 15111), ('hurst', 8573), ('risktakers', 14782), ('aroundtheworld', 1226), ('jawdropping', 9332), ('unpredictable', 18383), ('elements', 5628), ('sumptuous', 16949), ('landscapes', 9938), ('manhunt', 10679), ('promiscuous', 13652), ('bro', 2477), ('zixin', 19575), ('qihong', 13851), ('gallivanting', 7210), ('mistaken', 11316), ('stir', 16695), ('recovering', 14232), ('addict', 512), ('childstealing', 3220), ('reconstructions', 14216), ('archive', 1172), ('sir', 15963), ('branson', 2384), ('balloon', 1639), ('improv', 8794), ('troupes', 18036), ('muchcoveted', 11570), ('plea', 13187), ('spurring', 16506), ('fearlessly', 6486), ('glover', 7467), ('cocoa', 3486), ('puffs', 13776), ('toys', 17830), ('distress', 5102), ('signal', 15882), ('wiped', 19212), ('population', 13315), ('swarm', 17095), ('soulstealing', 16305), ('invades', 9147), ('martian', 10789), ('marines', 10753), ('obliterate', 12146), ('survivalists', 17058), ('scenarios', 15253), ('civilization', 3337), ('collapse', 3529), ('30year', 250), ('frantically', 6997), ('recreates', 14237), ('bygone', 2669), ('noticing', 12057), ('passed', 12767), ('users', 18514), ('bracing', 2361), ('landlords', 9930), ('educated', 5559), ('resisting', 14556), ('repressive', 14502), ('caiman', 2700), ('undo', 18279), ('lizard', 10276), ('sorcerer', 16286), ('nikaidos', 11946), ('hole', 8341), ('landlady', 9928), ('pose', 13339), ('jig', 9395), ('flatmate', 6741), ('supposed', 17015), ('dong', 5217), ('yilong', 19462), ('selects', 15451), ('warriors', 18934), ('tenant', 17401), ('bickering', 1996), ('aloysius', 840), ('flynn', 6822), ('pupil', 13804), ('1971', 135), ('sergei', 15559), ('dovlatov', 5262), ('maddening', 10544), ('publishing', 13767), ('humanequine', 8527), ('propels', 13672), ('reined', 14350), ('trainers', 17874), ('zac', 19522), ('efron', 5576), ('darin', 4446), ('olien', 12275), ('leong', 10121), ('nonsense', 12005), ('healers', 8061), ('businessclass', 2639), ('showoffs', 15825), ('hat', 8002), ('proceeds', 13594), ('messes', 11081), ('grump', 7730), ('whoville', 19121), ('generous', 7311), ('forestdwelling', 6900), ('lorax', 10384), ('shortsighted', 15807), ('onceler', 12301), ('ruining', 14993), ('profit', 13631), ('seuss', 15599), ('vampires', 18564), ('gory', 7544), ('vulnerability', 18835), ('stationed', 16614), ('selfdefense', 15463), ('hisone', 8292), ('amakasu', 878), ('concealed', 3720), ('gifu', 7384), ('luca', 10459), ('ladja', 9887), ('zenithian', 19549), ('gate', 7265), ('shibumi', 15736), ('resurrected', 14601), ('arisen', 1197), ('ethan', 6003), ('slips', 16083), ('firebreathers', 6669), ('soared', 16183), ('skies', 16009), ('alliance', 803), ('malicious', 10646), ('draco', 5287), ('dragons', 5301), ('offspring', 12242), ('drake', 5306), ('stable', 16534), ('brittania', 2475), ('ruler', 15000), ('monarchs', 11410), ('grandchildren', 7592), ('slain', 16035), ('savages', 15199), ('icebreathing', 8621), ('swordwielding', 17143), ('reopen', 14467), ('dragonpurs', 5300), ('exstudent', 6261), ('allnew', 812), ('hiccup', 8187), ('toothless', 17745), ('dak', 4399), ('leyla', 10148), ('devote', 4851), ('huttsgalor', 8586), ('pirates', 13114), ('snowfall', 16173), ('marks', 10763), ('odinyule', 12208), ('viking', 18708), ('weather', 18984), ('cancel', 2767), ('unless', 18359), ('swoop', 17138), ('hypnotizes', 8606), ('facilitator', 6318), ('narrated', 11719), ('cruise', 4245), ('nationalities', 11747), ('tailored', 17214), ('shea', 15704), ('syd', 17146), ('mcgee', 10900), ('riveting', 14801), ('doc', 5149), ('judicial', 9516), ('falsely', 6367), ('valentines', 18549), ('christmasthemed', 3283), ('everyones', 6057), ('dreamworks', 5336), ('shrek', 15830), ('oh', 12250), ('introduce', 9133), ('boovs', 2290), ('unfortunately', 18318), ('wellmeaning', 19044), ('shorts', 15806), ('gobber', 7482), ('boneknapper', 2258), ('po', 13217), ('masters', 10824), ('thundering', 17611), ('storming', 16728), ('ox', 12572), ('croc', 4206), ('shifus', 15744), ('puss', 13834), ('captured', 2818), ('participates', 12743), ('kingdomwide', 9736), ('ginormica', 7402), ('pumpkins', 13788), ('carrots', 2889), ('megamind', 10981), ('button', 2659), ('doom', 5227), ('distinctive', 5097), ('dries', 5343), ('noten', 12051), ('airship', 703), ('quin', 13903), ('zaza', 19535), ('fail', 6333), ('empty', 5749), ('stomachs', 16707), ('least', 10063), ('worries', 19331), ('hungover', 8559), ('soulsearching', 16304), ('unexceptional', 18297), ('highranking', 8227), ('pushes', 13832), ('practical', 13413), ('stacks', 16537), ('enforcers', 5802), ('sworn', 17145), ('spains', 16341), ('del', 4644), ('sol', 16220), ('absorbing', 395), ('supply', 17010), ('chain', 3034), ('illicit', 8689), ('tracing', 17836), ('export', 6237), ('sale', 15104), ('consumption', 3863), ('tryst', 18062), ('tettsu', 17469), ('chiharu', 3207), ('spring', 16493), ('wary', 18940), ('dishonesty', 5040), ('24hour', 228), ('intimacy', 9121), ('flounders', 6808), ('clock', 3428), ('winds', 19184), ('flocks', 6790), ('grounded', 7713), ('ducklings', 5402), ('wing', 19194), ('anastasia', 952), ('cardonas', 2831), ('kidnaps', 9702), ('corrupted', 4005), ('offender', 12220), ('blockbuster', 2148), ('lamebrained', 9913), ('rhode', 14695), ('measuring', 10927), ('fitting', 6704), ('willowdean', 19168), ('dickson', 4886), ('mixups', 11344), ('assuming', 1347), ('doppelgänger', 5236), ('perky', 12938), ('ikebukuro', 8678), ('mesh', 11072), ('waiter', 18854), ('pakistani', 12635), ('colleague', 3531), ('hernán', 8167), ('zin', 19567), ('carringtons', 2887), ('colbys', 3517), ('updated', 18459), ('primetime', 13547), ('surge', 17033), ('vaping', 18578), ('ecigarettes', 5522), ('smokers', 16121), ('courageous', 4058), ('watchs', 18955), ('emergencies', 5708), ('unlawful', 18354), ('sawmill', 15212), ('stashes', 16605), ('luna', 10487), ('jupiter', 9551), ('sublime', 16874), ('forbidding', 6877), ('flourish', 6809), ('harshest', 7982), ('ingenuity', 8950), ('expat', 6186), ('usual', 18525), ('mexicanamerican', 11108), ('sushi', 17068), ('cal', 2706), ('thoms', 17558), ('chicagoans', 3194), ('fumbling', 7127), ('maze', 10887), ('olives', 12278), ('healed', 8059), ('herbalist', 8158), ('treating', 17950), ('reshape', 14540), ('liz', 10275), ('spirituality', 16440), ('affectionate', 618), ('mid1960s', 11135), ('laurel', 9998), ('canyon', 2791), ('nexus', 11909), ('eddie', 5536), ('strongest', 16815), ('fuel', 7099), ('flashing', 6736), ('murphy', 11619), ('unleashes', 18357), ('1983', 148), ('impressions', 8788), ('remembrances', 14424), ('tarzan', 17289), ('threats', 17580), ('sociopathic', 16202), ('summon', 16944), ('17yearold', 60), ('confusion', 3790), ('rediscovers', 14261), ('astronomers', 1361), ('deathtrap', 4517), ('asteroids', 1349), ('comets', 3601), ('edmilson', 5554), ('filho', 6619), ('audience', 1434), ('edoardo', 5556), ('ferrario', 6557), ('unpacks', 18377), ('peculiarities', 12864), ('beer', 1837), ('rattles', 14085), ('allgirls', 802), ('clairvoyant', 3348), ('counselor', 4033), ('leans', 10051), ('convents', 3926), ('loveless', 10429), ('victorianera', 18678), ('ruskin', 15031), ('eggy', 5582), ('fates', 6452), ('serve', 15570), ('einsatzgruppen', 5597), ('jews', 9388), ('romani', 14901), ('proposal', 13680), ('denied', 4702), ('affinity', 621), ('meddle', 10942), ('conductors', 3750), ('obtaining', 12172), ('electricity', 5619), ('hindered', 8270), ('didn', 4897), ('scorched', 15309), ('smoothtalking', 16126), ('arson', 1249), ('defense', 4610), ('indebted', 8842), ('grifter', 7678), ('swindlers', 17124), ('trusted', 18052), ('longhidden', 10351), ('imran', 8802), ('kareena', 9611), ('kapoor', 9603), ('exceptionally', 6102), ('dissimilar', 5092), ('suitors', 16930), ('knock', 9776), ('excia', 6106), ('forty', 6935), ('storm', 16727), ('liquor', 10241), ('fugitive', 7105), ('jesse', 9373), ('pinkman', 13097), ('outrun', 12503), ('written', 19378), ('gilligan', 7396), ('aaron', 345), ('lópez', 10525), ('trafficker', 17856), ('pepe', 12901), ('cadena', 2687), ('treacherous', 17941), ('warring', 18931), ('dea', 4495), ('joaquín', 9420), ('chapo', 3080), ('guzmán', 7806), ('chavo', 3142), ('nameless', 11698), ('chilindrina', 3224), ('quico', 13898), ('doña', 5284), ('florinda', 6803), ('ramón', 14024), ('jirafales', 9414), ('spanishmexican', 16345), ('paco', 12597), ('ignacio', 8661), ('taibo', 17210), ('ernesto', 5946), ('che', 3145), ('guevara', 7755), ('sheds', 15707), ('revolutionary', 14679), ('lucas', 10460), ('jades', 9280), ('clone', 3431), ('passionless', 12775), ('counterintuitive', 4039), ('wives', 19249), ('insomniac', 9017), ('minimart', 11240), ('chatos', 3129), ('hitman', 8313), ('cholo', 3258), ('replace', 14482), ('theme', 17506), ('insecurity', 9003), ('decadelong', 4536), ('eta', 6001), ('operated', 12348), ('50', 288), ('himalayas', 8267), ('jean', 9342), ('maggi', 10568), ('profiled', 13626), ('advancement', 579), ('adaptive', 508), ('excop', 6117), ('surrounded', 17051), ('cuarteto', 4273), ('rodrigo', 14868), ('bueno', 2559), ('superstars', 16995), ('paroled', 12731), ('aurelio', 1450), ('casillas', 2915), ('areas', 1182), ('anthropologist', 1042), ('resisted', 14555), ('languishes', 9943), ('troubles', 18032), ('photojournalist', 13030), ('jesús', 9378), ('abad', 346), ('colorado', 3562), ('photographs', 13028), ('regional', 14323), ('vato', 18591), ('succeed', 16895), ('enticing', 5882), ('deceptive', 4551), ('bands', 1665), ('márama', 11672), ('rombai', 14910), ('financially', 6645), ('naresh', 11717), ('probe', 13584), ('activities', 487), ('proog', 13667), ('emo', 5723), ('capricious', 2802), ('infinite', 8928), ('computeranimated', 3711), ('underprivileged', 18262), ('elevator', 5635), ('cub', 4275), ('merry', 11071), ('wrangles', 19348), ('reindeer', 14349), ('tow', 17813), ('clinic', 3418), ('1901', 92), ('elisa', 5646), ('loriga', 10393), ('marcela', 10729), ('gracia', 7573), ('ibeas', 8615), ('enroll', 5847), ('recollections', 14205), ('rarely', 14066), ('seen', 15427), ('pays', 12844), ('tribute', 17983), ('90th', 332), ('newlywed', 11894), ('offlimits', 12239), ('defying', 4630), ('2003', 176), ('overlapping', 12533), ('exceptional', 6101), ('bravery', 2392), ('nurses', 12109), ('deportees', 4728), ('turbulence', 18092), ('blitzen', 2145), ('miniature', 11235), ('tryouts', 18061), ('appeared', 1103), ('legions', 10092), ('sitter', 15978), ('unorthodox', 18375), ('borrowers', 2305), ('unable', 18201), ('paulos', 12822), ('theatro', 17501), ('emicida', 5712), ('exec', 6126), ('cooper', 3953), ('embraces', 5702), ('scienceloving', 15294), ('calandrelli', 2709), ('demonstrations', 4698), ('athome', 1381), ('thatll', 17493), ('makassar', 10614), ('expelled', 6198), ('seymour', 15631), ('cute', 4352), ('convert', 3931), ('pairs', 12630), ('deciphering', 4563), ('comprised', 3705), ('emojis', 5725), ('reenactments', 14273), ('origins', 12426), ('historymaking', 8301), ('empires', 5737), ('extent', 6266), ('smell', 16114), ('directs', 4961), ('enriches', 5846), ('month', 11443), ('caged', 2696), ('psychologically', 13748), ('emotionally', 5728), ('guiltstricken', 7766), ('forward', 6937), ('coldblooded', 3519), ('outcome', 12476), ('practitioners', 13418), ('zavala', 19534), ('riddled', 14726), ('longer', 10346), ('humdrum', 8544), ('dorm', 5241), ('hamburg', 7881), ('iraniangerman', 9194), ('enissa', 5829), ('amani', 884), ('deductions', 4585), ('fanmail', 6392), ('etiquette', 6011), ('selfhelp', 15473), ('negligent', 11819), ('followers', 6848), ('enola', 5841), ('sleuthing', 16070), ('outsmart', 12509), ('horrific', 8435), ('deepdives', 4591), ('notable', 12046), ('peek', 12872), ('infiltrates', 8925), ('avid', 1508), ('magically', 10574), ('screenwriters', 15349), ('depart', 4717), ('norm', 12018), ('simply', 15914), ('relieved', 14395), ('equestria', 5926), ('ponies', 13288), ('canterlot', 2789), ('totalitarian', 17784), ('maintains', 10607), ('peace', 12850), ('subduing', 16869), ('populace', 13311), ('displays', 5078), ('punishable', 13795), ('vanished', 18573), ('astrid', 1354), ('satoru', 15188), ('fujinuma', 7109), ('eric', 5939), ('andre', 967), ('orleans', 12430), ('fastfood', 6437), ('autofill', 1475), ('python', 13847), ('idle', 8652), ('greats', 7639), ('decline', 4571), ('piano', 13044), ('blacksmith', 2102), ('tortures', 17777), ('blames', 2114), ('misery', 11288), ('trespassing', 17969), ('builds', 2570), ('library', 10168), ('traps', 17922), ('scavenger', 15250), ('freely', 7024), ('prompting', 13663), ('censor', 3007), ('mossad', 11502), ('bouts', 2338), ('fútbol', 7170), ('primera', 13546), ('cora', 3973), ('80', 324), ('heir', 8116), ('addled', 521), ('deities', 4640), ('bai', 1608), ('qian', 13850), ('ye', 19436), ('hua', 8506), ('lifetimes', 10192), ('transcend', 17886), ('sociocultural', 16199), ('1940s', 109), ('kariman', 9616), ('solace', 16221), ('prone', 13665), ('fragile', 6970), ('singers', 15936), ('represent', 14497), ('showdown', 15820), ('stakes', 16549), ('scheming', 15262), ('narcissistic', 11713), ('evan', 6028), ('ark', 1207), ('preparation', 13468), ('flood', 6792), ('meanwhile', 10923), ('interprets', 9096), ('hobby', 8327), ('fifteen', 6599), ('shinji', 15752), ('nerv', 11848), ('policymakers', 13261), ('gambia', 7218), ('genital', 7319), ('mutilation', 11647), ('kin', 9723), ('uk', 18183), ('incursion', 8840), ('bolivian', 2233), ('exploitation', 6220), ('orthodox', 12442), ('longmissing', 10355), ('unimaginable', 18333), ('fairytale', 6347), ('destinies', 4793), ('paramedic', 12692), ('journeying', 9494), ('patiently', 12803), ('audrey', 1441), ('materials', 10834), ('miodownik', 11257), ('objects', 12143), ('comfortable', 3603), ('ancestors', 955), ('av', 1482), ('vhs', 18660), ('priestintraining', 13539), ('miracles', 11259), ('possession', 13352), ('robs', 14847), ('weirder', 19023), ('geology', 7335), ('professors', 13624), ('microscopic', 11134), ('lifeforms', 10179), ('wrench', 19359), ('blossoming', 2170), ('somehow', 16248), ('coder', 3492), ('weeklong', 19010), ('retreat', 14626), ('companys', 3666), ('subordinate', 16878), ('sweetheart', 17111), ('allegations', 786), ('clergy', 3398), ('journalists', 9492), ('reporting', 14494), ('malaysia', 10635), ('hijack', 8246), ('747', 319), ('nerve', 11849), ('gas', 7261), ('aimed', 687), ('pains', 12617), ('dna', 5148), ('cadaver', 2686), ('participants', 12741), ('wests', 19066), ('protracted', 13710), ('afghanistan', 628), ('jamess', 9299), ('regrets', 14328), ('maverick', 10865), ('orin', 12427), ('boyd', 2351), ('latrell', 9980), ('walker', 18872), ('cinematographers', 3314), ('forests', 6902), ('capturing', 2820), ('pandas', 12655), ('monkeys', 11428), ('redcrowned', 14248), ('cranes', 4115), ('refurbished', 14301), ('catastrophe', 2948), ('uploaded', 18471), ('cyber', 4359), ('enlightening', 5834), ('vox', 18825), ('wide', 19125), ('range', 14035), ('cryptocurrency', 4267), ('diets', 4906), ('guys', 7805), ('exterminating', 6269), ('mercenarys', 11051), ('bangladesh', 1672), ('steeped', 16640), ('grasping', 7619), ('hungrily', 8560), ('millman', 11208), ('maggie', 10569), ('extras', 6278), ('accompany', 434), ('endoflife', 5785), ('icu', 8633), ('unknowingly', 18352), ('nurse', 12106), ('tragically', 17862), ('impacted', 8744), ('clarinet', 3354), ('enjoying', 5831), ('hüseyin', 8612), ('firuzan', 6688), ('roamed', 14816), ('flowed', 6811), ('maddy', 10546), ('didnt', 4898), ('venturing', 18633), ('fabrizio', 6306), ('copano', 3960), ('participation', 12744), ('reflecting', 14285), ('sperm', 16408), ('whatsapp', 19079), ('banter', 1685), ('fadily', 6330), ('camara', 2736), ('weaves', 18986), ('cigale', 3306), ('wizards', 19251), ('shattering', 15697), ('losses', 10402), ('divorcée', 5137), ('widower', 19134), ('fiona', 6665), ('bruce', 2518), ('philip', 13006), ('mould', 11536), ('impressive', 8789), ('forgeries', 6907), ('fakkah', 6357), ('fuzz', 7165), ('mines', 11230), ('crosscultural', 4218), ('malay', 10633), ('unscrupulous', 18407), ('closing', 3440), ('billiondollar', 2038), ('ad', 498), ('hotshot', 8475), ('nets', 11862), ('miscommunication', 11279), ('inn', 8980), ('remodel', 14435), ('rustic', 15037), ('contractor', 3903), ('diego', 4901), ('isabel', 9220), ('pretend', 13512), ('drugdealing', 5379), ('falz', 6368), ('endofyear', 5786), ('gambling', 7224), ('legalize', 10087), ('downonhisluck', 5270), ('butcher', 2650), ('mckellan', 10906), ('bigcity', 2006), ('kiteflying', 9758), ('omar', 12289), ('abdulrahman', 368), ('obsessive', 12164), ('outlandish', 12484), ('lowercaste', 10443), ('jabya', 9269), ('uppercaste', 18474), ('shalu', 15655), ('derided', 4745), ('position', 13344), ('proves', 13717), ('stumbling', 16846), ('faroff', 6417), ('skullbania', 16023), ('barbarian', 1690), ('thirdgrader', 17546), ('carnival', 2871), ('wonderland', 19277), ('wanted', 18904), ('bungling', 2596), ('grips', 7688), ('extremist', 6287), ('lebanon', 10068), ('fary', 6424), ('veers', 18598), ('tony', 17739), ('toretto', 17760), ('circuit', 3317), ('drivers', 5355), ('supercars', 16966), ('cred', 4149), ('sleeper', 16058), ('gearheads', 7283), ('drink', 5348), ('grail', 7585), ('fuyuki', 7164), ('splintered', 16448), ('timeline', 17657), ('holy', 8357), ('unprecedented', 18382), ('hakuno', 7850), ('kishinami', 9752), ('extinction', 6272), ('chaldea', 3040), ('shiro', 15766), ('unsettled', 18411), ('mystical', 11659), ('compassionate', 3670), ('doubles', 5254), ('effective', 5570), ('solver', 16240), ('gk', 7419), ('chesterton', 3183), ('grads', 7577), ('seriously', 15564), ('severely', 15610), ('sacrifice', 15061), ('clerical', 3400), ('lease', 10062), ('portly', 13329), ('palestinian', 12643), ('militant', 11187), ('motion', 11515), ('sportswriter', 16475), ('samoan', 15128), ('hallucinogenic', 7876), ('threeday', 17582), ('romp', 14916), ('counterculture', 4037), ('fist', 6698), ('witches', 19235), ('houses', 8491), ('fulltime', 7123), ('babysitter', 1560), ('mae', 10561), ('sobriety', 16187), ('squarely', 16518), ('outline', 12490), ('exercise', 6137), ('selfcentered', 15461), ('felipe', 6527), ('esparza', 5979), ('muy', 11650), ('comments', 3624), ('neto', 11861), ('não', 12125), ('faz', 6477), ('sentido', 15535), ('felix', 6528), ('lobrecht', 10292), ('polite', 13266), ('laughter', 9990), ('sheer', 15710), ('walking', 18875), ('revisiting', 14670), ('photos', 13031), ('feminist', 6541), ('unattractive', 18212), ('fernando', 6553), ('sanjiao', 15155), ('impersonations', 8761), ('concepts', 3728), ('masculinity', 10802), ('acquire', 466), ('ferris', 6560), ('allaround', 784), ('peasant', 12861), ('strongwilled', 16817), ('prerevolutionary', 13476), ('earning', 5491), ('jury', 9554), ('50yearold', 300), ('crises', 4190), ('figaro', 6602), ('phobias', 13017), ('wordless', 19299), ('grillo', 7679), ('immersing', 8728), ('schoolers', 15276), ('yearlong', 19441), ('conspiring', 3846), ('leon', 10116), ('vitali', 18781), ('envy', 5908), ('levelheaded', 10142), ('cocky', 3484), ('barista', 1709), ('easily', 5502), ('cheated', 3148), ('kimberly', 9719), ('premonition', 13465), ('prompt', 13661), ('prevents', 13522), ('rollercoaster', 14892), ('rekindle', 14366), ('roleplaying', 14887), ('publicly', 13764), ('fix', 6710), ('nostalgia', 12043), ('lampedusa', 9917), ('mediterranean', 10962), ('migrants', 11161), ('californias', 2719), ('2016', 192), ('rages', 13961), ('backcountry', 1568), ('firefighters', 6671), ('flames', 6727), ('razed', 14099), ('wildfire', 19151), ('dylan', 5462), ('gray', 7630), ('africas', 638), ('pharmaceutical', 12991), ('companies', 3660), ('lifesaving', 10187), ('hiv', 8317), ('affordable', 626), ('successfully', 16899), ('unresolved', 18396), ('preschoolers', 13479), ('fireman', 6673), ('pontypandy', 13291), ('uhd', 18180), ('4k', 284), ('clearest', 3394), ('picture', 13056), ('fireplace', 6674), ('crackles', 4101), ('adding', 518), ('warmth', 18920), ('atmosphere', 1387), ('ultrahd', 18192), ('snaps', 16146), ('highdef', 8206), ('nazuna', 11779), ('norimichi', 12017), ('summers', 16941), ('soontobe', 16275), ('georgias', 7341), ('gwinnett', 7809), ('embellishes', 5694), ('impress', 8783), ('broker', 2489), ('starryeyed', 16591), ('sketchy', 16003), ('intertwines', 9112), ('reserved', 14538), ('tenacious', 17399), ('juventus', 9563), ('reign', 14339), ('khmer', 9686), ('rouge', 14952), ('cambodia', 2739), ('foes', 6830), ('shanties', 15668), ('cornish', 3985), ('chants', 3074), ('sail', 15085), ('harry', 7980), ('stanton', 16574), ('cowboys', 4088), ('calves', 2733), ('montanas', 11441), ('fishtail', 6695), ('basin', 1736), ('fishtronaut', 6696), ('marina', 10750), ('zeek', 19543), ('physique', 13040), ('image', 8708), ('100000', 6), ('aristocratic', 1201), ('hearts', 8083), ('fitness', 6702), ('crossfit', 4224), ('sanctional', 15137), ('ninjas', 11961), ('fury', 7155), ('griefstricken', 7668), ('maine', 10601), ('contractors', 3904), ('hosted', 8461), ('sabato', 15053), ('renovates', 14455), ('rvs', 15045), ('properties', 13674), ('fizas', 6719), ('mumbais', 11599), ('fiza', 6718), ('funky', 7141), ('enclave', 5761), ('chips', 3243), ('goto', 7553), ('enlightened', 5833), ('auto', 1470), ('inventing', 9153), ('intermittent', 9081), ('windshield', 19185), ('wipers', 19213), ('delve', 4673), ('delectable', 4649), ('chaoshan', 3076), ('creation', 4139), ('steaming', 16636), ('noodles', 12013), ('nosy', 12045), ('flinch', 6775), ('twoyear', 18149), ('embedded', 5693), ('untenable', 18425), ('1959', 123), ('pasadena', 12763), ('southcentral', 16318), ('jazz', 9336), ('rooms', 14931), ('flooded', 6793), ('lava', 10003), ('leaping', 10054), ('chairs', 3038), ('hanging', 7908), ('curtains', 4338), ('swinging', 17129), ('chandeliers', 3063), ('yes', 19455), ('senile', 15518), ('granny', 7607), ('constantly', 3850), ('crumbling', 4249), ('barely', 1702), ('outlaw', 12486), ('teng', 17409), ('buzzfeed', 2666), ('ranging', 14039), ('crazes', 4130), ('injection', 8969), ('instagram', 9025), ('irl', 9206), ('epicureans', 5913), ('evolution', 6070), ('diaspora', 4880), ('soma', 16243), ('totsuki', 17787), ('victorious', 18680), ('overthetop', 12552), ('expulsion', 6250), ('mosley', 11499), ('botanist', 2315), ('eat', 5509), ('concerning', 3730), ('generosity', 7310), ('simmer', 15905), ('agree', 665), ('camino', 2750), ('santiago', 15162), ('500mile', 294), ('40day', 270), ('ntozake', 12085), ('shanges', 15663), ('consists', 3838), ('curtis', 4339), ('duffy', 5412), ('catholics', 2962), ('preserve', 13489), ('frustrating', 7093), ('visa', 18762), ('renewal', 14451), ('likable', 10205), ('devises', 4848), ('unromantic', 18399), ('fowl', 6963), ('menagerie', 11027), ('ire', 9200), ('interwoven', 9120), ('limbo', 10215), ('failures', 6338), ('targeted', 17284), ('leonard', 10117), ('nimoy', 11952), ('spock', 16453), ('frisbee', 7072), ('brodie', 2485), ('exhibition', 6149), ('brothersinlaw', 2512), ('undesirable', 18276), ('álex', 19598), ('badboy', 1591), ('justin', 9557), ('fashanu', 6430), ('openly', 12343), ('pulpfiction', 13784), ('nielsen', 11929), ('starship', 16593), ('altairiv', 856), ('mole', 11399), ('operating', 12350), ('govern', 7557), ('false', 6366), ('ticking', 17626), ('technicians', 17339), ('procedures', 13593), ('documentarystyle', 5162), ('kai', 9575), ('discarded', 4992), ('shuheis', 15841), ('claimed', 3344), ('71', 318), ('chapecoense', 3078), ('furor', 7153), ('addition', 520), ('beitar', 1865), ('jerusalem', 9371), ('underscores', 18265), ('institutionalized', 9035), ('bladesmiths', 2107), ('pages', 12611), ('xue', 19413), ('abandoning', 351), ('devil', 4841), ('19', 89), ('jinseok', 9412), ('according', 439), ('processed', 13596), ('epidemic', 5914), ('rates', 14077), ('obesity', 12137), ('diabetes', 4866), ('diseases', 5021), ('managers', 10660), ('feimster', 6520), ('awakenings', 1520), ('divorced', 5134), ('havana', 8020), ('revolves', 14682), ('wistful', 19230), ('mario', 10755), ('conde', 3740), ('sultry', 16937), ('nuptials', 12104), ('longsimmering', 10359), ('commitmentphobic', 3636), ('brit', 2468), ('alluring', 829), ('crawford', 4126), ('allegedly', 788), ('injured', 8970), ('er', 5930), ('conducts', 3751), ('panicked', 12664), ('franca', 6977), ('sozzani', 16328), ('vogue', 18799), ('fashionworld', 6434), ('provocateur', 13727), ('milan', 11177), ('francesco', 6981), ('carlo', 2863), ('habits', 7826), ('franco', 6987), ('escamilla', 5966), ('reflections', 14287), ('violently', 18741), ('dashed', 4462), ('farewell', 6409), ('elstner', 5667), ('savors', 15210), ('discussions', 5018), ('brühl', 2530), ('lena', 10106), ('meyerlandrut', 11111), ('harbour', 7939), ('frasier', 6999), ('crane', 4113), ('snooty', 16165), ('dispenses', 5071), ('ignoring', 8670), ('uninterested', 18336), ('fraternity', 7002), ('pledge', 13194), ('frightening', 7067), ('tramp', 17879), ('meek', 10966), ('cook', 3944), ('unsavory', 18404), ('widespread', 19131), ('drummers', 5388), ('fred', 7011), ('armisen', 1213), ('drummer', 5387), ('accents', 417), ('repo', 14489), ('sizable', 15989), ('sheet', 15712), ('transaction', 17883), ('deserted', 4760), ('freeforall', 7021), ('takenoprisoners', 17226), ('shootout', 15785), ('mistletoe', 11321), ('ornament', 12431), ('gaby', 7180), ('mia', 11117), ('fabled', 6304), ('stone', 16709), ('blinds', 2136), ('raven', 14094), ('mississippi', 11311), ('deserters', 4762), ('slaves', 16048), ('confederacy', 3755), ('painted', 12621), ('exhibit', 6148), ('freeway', 7030), ('rick', 14720), ('rosss', 14947), ('freeze', 7032), ('device', 4839), ('frost', 7086), ('resists', 14557), ('locket', 10303), ('seizes', 15444), ('communicate', 3650), ('warp', 18927), ('devout', 4857), ('preachers', 13435), ('selfreliant', 15486), ('vienna', 18693), ('sigmund', 15880), ('freud', 7050), ('counselors', 4034), ('voorhees', 18817), ('maniac', 10680), ('slasher', 16040), ('misadventures', 11275), ('hasnt', 7996), ('gotten', 7555), ('righteous', 14746), ('eventful', 6039), ('abu', 399), ('dhabi', 4861), ('bankrobbing', 1679), ('rodriguez', 14869), ('relocates', 14405), ('werner', 19060), ('herzog', 8177), ('texting', 17476), ('altered', 859), ('trivial', 18014), ('assist', 1334), ('regimen', 14318), ('froning', 7081), ('narcotic', 11715), ('southwest', 16321), ('18thcentury', 87), ('trappers', 17920), ('wrest', 19361), ('hudsons', 8512), ('antarctic', 1036), ('wildernesses', 19149), ('attenborough', 1405), ('temperatures', 17384), ('collecting', 3536), ('mohawk', 11392), ('reservation', 14535), ('canadian', 2765), ('eddy', 5537), ('smuggle', 16127), ('rendering', 14443), ('2009', 182), ('orchestrates', 12396), ('powerfully', 13403), ('vindictive', 18731), ('catastrophes', 2949), ('clueless', 3451), ('musicpacked', 11637), ('troublemaking', 18031), ('classroom', 3374), ('spinoff', 16428), ('foreboding', 6888), ('forgo', 6914), ('renewed', 14452), ('olympic', 12286), ('chayse', 3144), ('breakdancer', 2407), ('tanner', 17269), ('tannerfuller', 17270), ('stephanie', 16654), ('kimmy', 9721), ('alchemist', 741), ('edward', 5565), ('elric', 5664), ('als', 852), ('closely', 3434), ('alphonse', 846), ('preschool', 13477), ('common', 3644), ('rowdy', 14968), ('highintensity', 8213), ('programs', 13640), ('embraced', 5701), ('sri', 16526), ('lankas', 9945), ('hai', 7837), ('phuong', 13032), ('saigon', 15083), ('abductors', 365), ('kyle', 9864), ('crazed', 4129), ('afflict', 622), ('purchase', 13812), ('website', 18992), ('fyre', 7168), ('billed', 2033), ('spectacularly', 16383), ('writereditor', 19371), ('guinea', 7768), ('carpet', 2880), ('photo', 13024), ('arif', 1194), ('gora', 7534), ('betrothed', 1965), ('gabbar', 7173), ('crafts', 4107), ('gabby', 7174), ('pandy', 12660), ('paws', 12834), ('gabriel', 7177), ('fluffy', 6816), ('iglesias', 8659), ('vicente', 18667), ('2019', 197), ('buchmann', 2542), ('gap', 7245), ('malawi', 10631), ('hawaiianshirt', 8026), ('racist', 13937), ('baskets', 1739), ('priusdriving', 13569), ('allfemale', 800), ('taco', 17193), ('dreaming', 5333), ('gad', 7181), ('elmaleh', 5658), ('gleefully', 7435), ('obsessions', 12163), ('slang', 16037), ('regales', 14307), ('encountered', 5764), ('reviled', 14667), ('branded', 2381), ('traitor', 17877), ('gaga', 7186), ('halftime', 7866), ('cosmonaut', 4015), ('yuri', 19515), ('gagarin', 7187), ('1961', 126), ('vostok', 18818), ('galavant', 7198), ('tongueincheek', 17733), ('accuses', 450), ('cameos', 2745), ('doesn', 5171), ('posttraumatic', 13378), ('ptsd', 13758), ('badass', 1590), ('deserter', 4761), ('warm', 18916), ('recut', 14246), ('livestream', 10272), ('gavreel', 7276), ('posted', 13364), ('crimeridden', 4175), ('cleaning', 3389), ('confronting', 3785), ('sarcastic', 15170), ('1860s', 71), ('vallon', 18555), ('cooperate', 3954), ('osaka', 12444), ('troll', 18017), ('tape', 17275), ('slaughter', 16043), ('elephants', 5631), ('ivory', 9261), ('80yearold', 326), ('rangers', 14037), ('bravely', 2391), ('concluding', 3734), ('comicstrip', 3610), ('yearly', 19442), ('strip', 16805), ('ramone', 14014), ('menace', 11024), ('minions', 11243), ('enslave', 5851), ('garfunkel', 7254), ('oates', 12131), ('surprisefilled', 17044), ('wormhole', 19326), ('spacedwelling', 16332), ('mecha', 10931), ('garth', 7258), ('brooks', 2498), ('zealous', 19540), ('friendturnedrival', 7064), ('internal', 9083), ('complicate', 3694), ('sinisterly', 15957), ('incompetent', 8826), ('kidnappers', 9700), ('clubhopping', 3448), ('developers', 4834), ('saipan', 15094), ('subterranean', 16888), ('bunker', 2597), ('wwii', 19394), ('punjabi', 13800), ('oppressive', 12373), ('classbased', 3364), ('traits', 17878), ('peers', 12876), ('spelling', 16399), ('singersongwriter', 15937), ('hoshino', 8452), ('sold', 16223), ('dome', 5193), ('couric', 4059), ('understanding', 18268), ('speaking', 16369), ('transgender', 17903), ('intersex', 9106), ('newgeneration', 11889), ('bodybuilding', 2215), ('piana', 13042), ('greene', 7646), ('bodybuilders', 2214), ('olympia', 12284), ('perfection', 12919), ('excel', 6098), ('historian', 8294), ('bettany', 1967), ('hughes', 8517), ('socrates', 16205), ('confucius', 3787), ('intellectual', 9053), ('karl', 9618), ('marx', 10796), ('friedrich', 7056), ('nietzsche', 11931), ('gentrification', 7328), ('relates', 14370), ('escapades', 5968), ('thrilling', 17589), ('henry', 8152), ('morgan', 11473), ('lopez', 10382), ('latinx', 9979), ('touching', 17792), ('clumsy', 3454), ('apeman', 1086), ('lion', 10233), ('handcuffed', 7894), ('bed', 1826), ('warped', 18928), ('brainy', 2373), ('schoolwide', 15284), ('escort', 5976), ('occupied', 12180), ('squatters', 16521), ('rebirth', 14159), ('operative', 12353), ('organizers', 12418), ('clea', 3386), ('edit', 5547), ('categorize', 2956), ('clutter', 3456), ('crashing', 4120), ('fatherson', 6459), ('enforcer', 5801), ('reinvent', 14355), ('elmore', 5660), ('leonards', 10119), ('compromised', 3707), ('maxwell', 10872), ('capable', 2792), ('99', 337), ('thwart', 17613), ('blowtorch', 2176), ('víctor', 18839), ('vault', 18592), ('gal', 7195), ('lauren', 9999), ('andrea', 968), ('miraculous', 11260), ('occur', 12183), ('sanju', 15156), ('surrounds', 17054), ('blissful', 2142), ('shrine', 15834), ('unwittingly', 18444), ('upsets', 18488), ('engulfed', 5824), ('aidriven', 681), ('section', 15399), ('counter', 4036), ('snow', 16168), ('leopards', 10123), ('iv', 9258), ('newport', 11898), ('501', 296), ('manor', 10701), ('daredevil', 4442), ('biker', 2025), ('blaze', 2119), ('flameskulled', 6728), ('mephistopheles', 11044), ('zoya', 19589), ('akhtar', 717), ('anurag', 1067), ('kashyap', 9629), ('dibakar', 4882), ('banerjee', 1667), ('karan', 9607), ('johar', 9439), ('quartet', 13874), ('thrillers', 17588), ('motoko', 11526), ('batou', 1758), ('togusa', 17710), ('leg', 10083), ('mermaids', 11068), ('buffs', 2564), ('valuables', 18559), ('traverse', 17937), ('forgotten', 6915), ('landmarks', 9932), ('collectibles', 3535), ('responsibilities', 14577), ('aramaki', 1148), ('extremism', 6286), ('battleworn', 1772), ('chateau', 3127), ('previously', 13524), ('unexplained', 18300), ('detention', 4809), ('exhibits', 6150), ('interrogator', 9100), ('soe', 16208), ('hok', 8334), ('gie', 7378), ('regimes', 14321), ('suharto', 16922), ('sukarno', 16932), ('prehistoric', 13457), ('jonny', 9470), ('duddles', 5404), ('gigis', 7390), ('avantgarde', 1491), ('waif', 18849), ('groomed', 7703), ('fille', 6623), ('joie', 9446), ('gaston', 7262), ('gigi', 7389), ('metamorphoses', 11091), ('lorelai', 10388), ('leaguebound', 10045), ('rory', 14939), ('continual', 3891), ('stream', 16773), ('quickwitted', 13897), ('repartee', 14474), ('finale', 6640), ('revival', 14673), ('gilmore', 7397), ('seasons', 15381), ('gims', 7399), ('stade', 16539), ('upclose', 18456), ('gina', 7400), ('yashere', 19433), ('toilet', 17712), ('correspondent', 4002), ('ginger', 7401), ('rosa', 14940), ('rejected', 14361), ('accepting', 422), ('lawman', 10012), ('mobassassin', 11353), ('engulf', 5823), ('tougher', 17796), ('lara', 9948), ('hurdles', 8570), ('confirmation', 3773), ('nanno', 11703), ('transfers', 17892), ('misdeeds', 11283), ('faculty', 6329), ('anew', 982), ('tackled', 17190), ('quadruplets', 13859), ('liver', 10268), ('mockery', 11366), ('sophia', 16279), ('memoir', 11014), ('greeting', 7653), ('salvage', 15117), ('dormitory', 5243), ('dental', 4708), ('miho', 11166), ('nishizumi', 11968), ('tankery', 17267), ('enrolling', 5848), ('ōarai', 19606), ('tank', 17266), ('closure', 3441), ('eyeballed', 6292), ('volleyball', 18808), ('wilson', 19173), ('monologue', 11432), ('culminating', 4296), ('underdog', 18250), ('glee', 7433), ('winners', 19199), ('actual', 496), ('preteen', 13511), ('glitter', 7443), ('splendorius', 16446), ('mercenare', 11048), ('orange', 12386), ('careermaking', 2841), ('grapplers', 7615), ('malaysias', 10637), ('charcoal', 3090), ('deftly', 4627), ('environs', 5905), ('juggles', 9520), ('gnomes', 7473), ('highspeed', 8237), ('gokart', 7498), ('exdriver', 6123), ('beep', 1836), ('buckle', 2544), ('carson', 2893), ('winding', 19182), ('bumperton', 2587), ('mía', 11673), ('mías', 11674), ('lupe', 10490), ('mercedes', 11047), ('juanma', 9508), ('álvaro', 19599), ('lakeside', 9901), ('conventional', 3924), ('weapon', 18977), ('entries', 5896), ('linda', 10222), ('bishop', 2073), ('starvation', 16602), ('sanity', 15153), ('atheistic', 1373), ('congregation', 3795), ('yorkshire', 19482), ('withdrawn', 19238), ('romanian', 14903), ('depths', 4738), ('terrorizes', 17449), ('populated', 13314), ('recolonize', 14206), ('20000', 173), ('godzilla', 7490), ('haruo', 7989), ('companions', 3662), ('houtua', 8494), ('mechagodzilla', 10933), ('weakened', 18974), ('siding', 15871), ('exif', 6153), ('shadows', 15635), ('centered', 3011), ('compel', 3672), ('ram', 14005), ('fictitious', 6589), ('brosnan', 2503), ('debonair', 4527), ('satellite', 15181), ('services', 15575), ('goldie', 7504), ('goldilocks', 7505), ('persons', 12962), ('politicalindustrial', 13269), ('gollu', 7511), ('pappu', 12676), ('detonate', 4820), ('bungle', 2595), ('choppy', 3263), ('thwarting', 17615), ('wooing', 19296), ('pranksters', 13428), ('bamboozle', 1651), ('bungalow', 2594), ('activity', 488), ('aimlessly', 691), ('hardtoplease', 7956), ('praise', 13421), ('cluelessly', 3452), ('gigs', 7391), ('joint', 9451), ('burger', 2610), ('fires', 6677), ('cenk', 3006), ('esports', 5983), ('orchestrate', 12394), ('grocery', 7699), ('hops', 8422), ('labs', 9877), ('comb', 3579), ('overachieving', 12515), ('finishing', 6661), ('reputations', 14513), ('tommy', 17729), ('egan', 5578), ('drones', 5362), ('boost', 2283), ('jenna', 9356), ('arrange', 1229), ('apolitical', 1091), ('swirls', 17132), ('datingsite', 4470), ('predator', 13441), ('underused', 18272), ('newsman', 11900), ('murrow', 11622), ('sen', 15508), ('mccarthy', 10893), ('crusade', 4251), ('quell', 13883), ('communism', 3655), ('luck', 10468), ('spearheading', 16373), ('eluding', 5671), ('enchanting', 5760), ('provokes', 13731), ('exasperation', 6092), ('fiveyear', 6708), ('highrolling', 8230), ('paranoid', 12697), ('varying', 18585), ('looting', 10381), ('koreanamerican', 9814), ('shoe', 15779), ('contemplating', 3873), ('dispatching', 5068), ('rude', 14983), ('opposing', 12367), ('glatt', 7431), ('appoints', 1115), ('nemesis', 11837), ('rl', 14807), ('stines', 16689), ('adaptations', 506), ('goosebumps', 7533), ('sriram', 16528), ('dia', 4865), ('guardians', 7742), ('gorm', 7543), ('ruling', 15003), ('witty', 19248), ('whodunit', 19112), ('servants', 15568), ('mccordle', 10896), ('hyperprivileged', 8603), ('waynes', 18970), ('currently', 4330), ('employs', 5743), ('corridors', 4003), ('disinterested', 5046), ('gregorio', 7657), ('goyo', 7564), ('pilar', 13077), ('generals', 7303), ('heneral', 8151), ('re', 14103), ('frankie', 6991), ('hmong', 8321), ('1972', 136), ('gran', 7589), ('torino', 17762), ('float', 6787), ('sky', 16027), ('erste', 5957), ('mccloud', 10894), ('selfbuilding', 15458), ('guise', 7770), ('footman', 6873), ('extramarital', 6276), ('occupy', 12181), ('cumbersome', 4307), ('anticipating', 1047), ('likely', 10207), ('fujairah', 7107), ('potloving', 13389), ('bestie', 1946), ('jinky', 9408), ('backpack', 1577), ('lit', 10252), ('ignited', 8663), ('travolta', 17940), ('olivia', 12279), ('newtonjohn', 11904), ('greaser', 7632), ('budgets', 2558), ('mettle', 11105), ('workforce', 19306), ('stations', 16616), ('swindler', 17123), ('makoto', 10625), ('edamura', 5535), ('laurent', 10000), ('thierry', 17534), ('worldclass', 19316), ('temperature', 17383), ('variations', 18579), ('yellowstone', 19450), ('talentless', 17235), ('allamerican', 783), ('pearl', 12859), ('harbor', 7936), ('dday', 4493), ('colorized', 3566), ('uncanny', 18223), ('dish', 5034), ('bogotábased', 2221), ('femicides', 6538), ('lowbudget', 10440), ('punk', 13801), ('neonazis', 11840), ('bohemians', 2225), ('ethnic', 6010), ('hayley', 8032), ('although', 868), ('greenleaf', 7650), ('memphis', 11022), ('megachurch', 10975), ('adultery', 573), ('sins', 15962), ('greg', 7655), ('davies', 4479), ('manscaping', 10703), ('pranks', 13426), ('savagely', 15198), ('grego', 7656), ('rossello', 14946), ('airline', 700), ('meredith', 11057), ('babysitting', 1562), ('beppe', 1923), ('controversies', 3918), ('mcafee', 10891), ('antivirus', 1061), ('scandalous', 15228), ('disaffected', 4970), ('lacrosse', 9882), ('strong', 16813), ('grizzy', 7697), ('frolicsome', 7080), ('lemmings', 10103), ('coy', 4092), ('parts', 12755), ('nurtured', 12112), ('sierra', 15875), ('minas', 11213), ('esquipulas', 5985), ('guatemalas', 7747), ('geological', 7334), ('mayan', 10875), ('downside', 5275), ('houseguest', 8485), ('countryman', 4049), ('tennis', 17412), ('vilas', 18713), ('versions', 18650), ('1921', 100), ('unrest', 18397), ('anarchists', 951), ('stole', 16705), ('ignite', 8662), ('roaming', 14817), ('kenyan', 9671), ('rifles', 14740), ('pampered', 12650), ('average', 1499), ('peacekeeping', 12852), ('lieutenant', 10175), ('gunjan', 7784), ('saxena', 15214), ('aviator', 1506), ('kargil', 9613), ('schoolgirls', 15278), ('aboveground', 386), ('powerhungry', 13405), ('gurukant', 7798), ('desai', 4750), ('ignores', 8669), ('turkey', 18096), ('sticky', 16680), ('preparing', 13472), ('airworthy', 705), ('vulcan', 18833), ('bomber', 2243), ('aircraft', 698), ('paralyzed', 12691), ('holloway', 8350), ('simmering', 15906), ('surgical', 17037), ('imprecision', 8781), ('businessmans', 2642), ('uneducated', 18291), ('clockwork', 3429), ('1949', 117), ('freedoms', 7019), ('hükümet', 8611), ('mayoral', 10884), ('faruk', 6423), ('gals', 7212), ('burden', 2602), ('fin', 6638), ('whenever', 19086), ('undersea', 18266), ('keeping', 9653), ('spread', 16489), ('gags', 7190), ('opposition', 12370), ('superstitious', 16999), ('regarding', 14311), ('mango', 10675), ('companion', 3661), ('2016s', 193), ('habibie', 7821), ('helena', 8126), ('hones', 8383), ('poorly', 13301), ('shahid', 15643), ('hamlet', 7884), ('kashmiri', 9628), ('hinata', 8268), ('1962', 127), ('plussize', 13214), ('tracy', 17841), ('turnblad', 18102), ('racially', 13934), ('divided', 5127), ('watusi', 18963), ('obscure', 12152), ('tasks', 17293), ('streetcar', 16779), ('racers', 13929), ('develop', 4831), ('vehicle', 18608), ('engine', 5809), ('perpetually', 12944), ('roadblock', 14810), ('halfsisters', 7865), ('twenties', 18124), ('entwined', 5899), ('madhav', 10551), ('riya', 14803), ('differently', 4910), ('compromise', 3706), ('halo', 7877), ('spartan', 16361), ('enhanced', 5826), ('recreating', 14238), ('dawn', 4482), ('avinash', 1509), ('preeti', 13452), ('shunned', 15845), ('fortified', 6929), ('vietcong', 18697), ('wanting', 18905), ('picks', 13054), ('swoons', 17137), ('selfdescribed', 15465), ('outsider', 12506), ('rugbyobsessed', 14987), ('clashing', 3361), ('relentless', 14385), ('gene', 7300), ('add', 510), ('context', 3886), ('clarity', 3355), ('unpack', 18376), ('trove', 18037), ('sightings', 15878), ('profiler', 13627), ('hangman', 7909), ('berlinger', 1933), ('trilogy', 18000), ('treasury', 17947), ('paulson', 12823), ('complexities', 3691), ('reshapes', 14541), ('standard', 16562), ('pairing', 12629), ('cannibal', 2780), ('hannibal', 7920), ('lecter', 10073), ('stealthy', 16634), ('buress', 2608), ('zipper', 19570), ('steroids', 16672), ('cosby', 4011), ('hans', 7921), ('teeuwen', 17359), ('proclaims', 13599), ('composer', 3701), ('zimmer', 19566), ('scores', 15313), ('sellout', 15498), ('o2', 12127), ('arena', 1184), ('prague', 13420), ('kak', 9580), ('limah', 10214), ('shortly', 15805), ('haunts', 8019), ('late1980s', 9970), ('darkly', 4451), ('hiring', 8286), ('lens', 10114), ('purehearted', 13814), ('lazzaro', 10034), ('sharecropper', 15679), ('italy', 9253), ('marquises', 10769), ('ideal', 8638), ('brides', 2442), ('allow', 816), ('trickery', 17986), ('pull', 13780), ('methdealing', 11098), ('employers', 5741), ('revengeseeking', 14662), ('decluttering', 4572), ('belongings', 1890), ('clingy', 3417), ('cartoonist', 2899), ('deed', 4587), ('sergeant', 15557), ('cawood', 2979), ('boozy', 2293), ('marbles', 10726), ('cartoon', 2898), ('unicorn', 18328), ('adman', 535), ('25yearold', 234), ('advises', 599), ('rebrand', 14164), ('credits', 4153), ('longawaited', 10341), ('newage', 11882), ('filmmaking', 6632), ('selfish', 15477), ('advantage', 581), ('gratify', 7622), ('worldchanging', 19315), ('stake', 16548), ('mckenna', 10907), ('emulating', 5751), ('entirely', 5884), ('firstperson', 6686), ('shooter', 15783), ('vague', 18543), ('mayo', 10882), ('hari', 7962), ('kondabolu', 9798), ('neophyte', 11841), ('1913', 95), ('featurelength', 6498), ('malaysian', 10636), ('harith', 7963), ('iskander', 9224), ('astley', 1350), ('globetrotters', 7454), ('1948', 116), ('lakers', 9900), ('1951', 120), ('kumar', 9846), ('harolds', 7973), ('stoner', 16711), ('craving', 4125), ('hamburgers', 7882), ('storyboard', 16732), ('michelson', 11126), ('researcher', 14526), ('60', 306), ('illuminate', 8694), ('shipman', 15758), ('harriet', 7975), ('welsch', 19051), ('stiff', 16681), ('archrival', 1175), ('sabotage', 15055), ('dutch', 5446), ('jumper', 9538), ('benson', 1920), ('earned', 5489), ('renown', 14458), ('patching', 12790), ('alabama', 723), ('pakistan', 12634), ('drifts', 5346), ('harvey', 7992), ('option', 12381), ('hasan', 7993), ('minhaj', 11233), ('nikhil', 11947), ('meeta', 10970), ('punishes', 13796), ('getrichquick', 7359), ('overzealous', 12562), ('2010', 184), ('shells', 15717), ('hatchtopia', 8006), ('sings', 15953), ('contempt', 3875), ('selfsufficient', 15492), ('snobbish', 16163), ('industrialist', 8885), ('victories', 18679), ('coincide', 3514), ('ensemble', 5850), ('sit', 15972), ('recreated', 14236), ('102yearold', 7), ('goblin', 7483), ('dwelling', 5458), ('simulations', 15919), ('audiences', 1435), ('spawned', 16366), ('luau', 10458), ('partygoers', 12759), ('mindblowing', 11218), ('unenviable', 18294), ('interaction', 9064), ('administrator', 537), ('paints', 12626), ('lister', 10250), ('hardships', 7954), ('afflictions', 623), ('rents', 14465), ('evicted', 6060), ('1895', 81), ('talpade', 17248), ('defies', 4615), ('sparse', 16358), ('funding', 7134), ('airplane', 701), ('highstrung', 8239), ('metin', 11102), ('stops', 16720), ('seeing', 15415), ('gloom', 7458), ('vivacious', 18789), ('hayat', 8030), ('lastminute', 9965), ('mallory', 10651), ('kane', 9593), ('ideologies', 8650), ('hazel', 8036), ('brugger', 2520), ('breezy', 2423), ('geese', 7289), ('chatty', 3133), ('gynecologists', 7817), ('frenchafrican', 7036), ('sali', 15110), ('longedfor', 10345), ('confrontation', 3783), ('reclusive', 14199), ('thugs', 17606), ('pawns', 12833), ('axwielding', 1543), ('ritual', 14788), ('greekaustralian', 7644), ('roiling', 14881), ('sexualidentity', 15625), ('odyssey', 12211), ('jeopardy', 9365), ('headspace', 8055), ('offering', 12227), ('meditations', 10960), ('jumpstart', 9540), ('physicians', 13036), ('psyche', 13740), ('ailments', 685), ('schedule', 15258), ('hartley', 7986), ('motherdaughter', 11509), ('oldfashioned', 12270), ('feminine', 6539), ('wiles', 19157), ('swindle', 17121), ('deepens', 4592), ('overtones', 12554), ('overdue', 12525), ('erupts', 5963), ('severed', 15609), ('operators', 12356), ('ontarios', 12332), ('highways', 8244), ('hedgehog', 8102), ('pigeon', 13072), ('habitat', 7824), ('telenovela', 17367), ('heidi', 8111), ('helios', 8129), ('steals', 16632), ('mobile', 11355), ('wmd', 19252), ('wipe', 19211), ('oath', 12132), ('cullen', 4293), ('bohannon', 2223), ('postcivil', 13361), ('hellboy', 8132), ('avenged', 1495), ('wesley', 19062), ('georgie', 7342), ('pretzel', 13518), ('overseas', 12543), ('aspirations', 1306), ('taste', 17294), ('epoque', 5919), ('privilege', 13573), ('benefited', 1908), ('pennsylvania', 12891), ('hemlock', 8147), ('evils', 6065), ('plain', 13149), ('lunas', 10489), ('tireless', 17682), ('leadership', 10038), ('philippineamerican', 13008), ('1899', 83), ('parttime', 12756), ('typical', 18159), ('sleekest', 16055), ('packages', 12592), ('bought', 2327), ('strategist', 16764), ('calculated', 2710), ('decimated', 4559), ('wen', 19053), ('nuan', 12086), ('signs', 15889), ('zhan', 19558), ('nanxian', 11706), ('analyzes', 947), ('pugilist', 13778), ('shantung', 15669), ('ladder', 9884), ('stellar', 16648), ('shine', 15748), ('sinclair', 15931), ('ssc', 16530), ('biomasks', 2053), ('hastily', 7999), ('defuse', 4628), ('missionary', 11309), ('virginias', 18754), ('voyeuristic', 18829), ('glitz', 7446), ('storied', 16725), ('fractures', 6969), ('tyrannical', 18162), ('lorenzo', 10391), ('arnolds', 1224), ('49', 282), ('reappears', 14138), ('remarried', 14418), ('abysmally', 409), ('academics', 412), ('arcade', 1153), ('akira', 719), ('prizewinning', 13580), ('marshal', 10783), ('abilene', 375), ('kansas', 9598), ('hickok', 8188), ('guns', 7788), ('gall', 7205), ('tidy', 17631), ('lawless', 10010), ('frontier', 7083), ('listening', 10249), ('hideandseek', 8195), ('germophobic', 7351), ('500member', 293), ('truce', 18038), ('intrusion', 9140), ('kuryu', 9856), ('takeover', 17227), ('amamiya', 882), ('befell', 1840), ('oya', 12575), ('delinquent', 4661), ('housen', 8490), ('crows', 4239), ('crossover', 4228), ('lockout', 10304), ('sidelines', 15867), ('leagues', 10046), ('structure', 16819), ('snake', 16140), ('handlers', 7899), ('motivates', 11517), ('innovators', 8993), ('deputy', 4739), ('curator', 4317), ('chaebolfunded', 3031), ('gallery', 7208), ('überelite', 19604), ('thailands', 17483), ('policies', 13258), ('perhaps', 12930), ('vital', 18780), ('priceless', 13531), ('instruments', 9042), ('veera', 18596), ('captors', 2816), ('emancipated', 5682), ('hazardous', 8034), ('canadas', 2764), ('towing', 17820), ('hardship', 7953), ('wrecked', 19357), ('direction', 4956), ('jonathan', 9464), ('adversity', 593), ('kindness', 9729), ('hikaru', 8252), ('utada', 18527), ('makuhari', 10627), ('messe', 11079), ('hilda', 8261), ('yale', 19422), ('accusations', 448), ('forsaking', 6926), ('mcs', 10909), ('djs', 5144), ('detailed', 4803), ('1945', 113), ('hiroshima', 8287), ('includes', 8822), ('prelude', 13460), ('sudan', 16906), ('bait', 1613), ('snakegoddess', 16142), ('nagin', 11685), ('immortalitygranting', 8738), ('essence', 5988), ('reptilian', 14508), ('puccios', 13769), ('roastmaster', 14822), ('slew', 16072), ('poke', 13240), ('honoring', 8394), ('infographics', 8941), ('bitesize', 2078), ('breakthroughs', 2414), ('movements', 11553), ('highflying', 8212), ('bout', 2337), ('cage', 2695), ('profane', 13615), ('engagingly', 5808), ('swear', 17100), ('scams', 15226), ('hitch', 8306), ('impression', 8785), ('nosing', 12040), ('hitlers', 8311), ('imagemaking', 8709), ('nearworld', 11798), ('conquest', 3818), ('betrayals', 1960), ('designs', 4771), ('propaganda', 13668), ('1936', 106), ('microscope', 11133), ('armored', 1216), ('15car', 43), ('headquarters', 8053), ('boasting', 2200), ('communications', 3654), ('antiaircraft', 1044), ('cannons', 2782), ('rita', 14785), ('hjørdis', 8320), ('karachi', 9605), ('postcollege', 13362), ('compulsive', 3709), ('hoarders', 8324), ('acquisition', 470), ('overwhelms', 12560), ('hasselhoff', 7997), ('rails', 13975), ('hogie', 8333), ('locales', 10294), ('galapagos', 7197), ('resurrect', 14600), ('notsotalented', 12065), ('iskender', 9225), ('iffy', 8655), ('naturalist', 11757), ('wolves', 19260), ('blamed', 2113), ('15year', 47), ('colon', 3554), ('plusones', 13213), ('benjamin', 1915), ('bradley', 2363), ('nester', 11854), ('solo', 16235), ('honeymoon', 8387), ('tighten', 17642), ('belts', 1895), ('lean', 10049), ('gateway', 7268), ('threepart', 17583), ('st', 16531), ('patricks', 12810), ('comprise', 3704), ('puppeteer', 13807), ('somewhere', 16254), ('postworld', 13380), ('electronic', 5622), ('divine', 5129), ('nuns', 12103), ('expectancy', 6189), ('imagination', 8713), ('uncoordinated', 18239), ('monks', 11429), ('monastery', 11412), ('exmember', 6168), ('idealism', 8639), ('disenchantment', 5023), ('alarming', 729), ('tengs', 17410), ('quarry', 13868), ('relics', 14392), ('karnataka', 9620), ('eviction', 6061), ('currents', 4331), ('sociopolitical', 16203), ('johanne', 9436), ('24day', 227), ('exdoctor', 6122), ('duos', 5432), ('beyoncés', 1975), ('coachella', 3461), ('channel', 3070), ('creativity', 4144), ('covid19', 4085), ('isolation', 9241), ('genrespanning', 7325), ('juvie', 9564), ('bronx', 2492), ('rec', 14169), ('daniels', 4429), ('discouragement', 5007), ('honeymoons', 8388), ('naive', 11693), ('merciless', 11053), ('loosely', 10379), ('hansel', 7922), ('gretel', 7660), ('pan', 12651), ('grown', 7720), ('workaholic', 19302), ('neverland', 11880), ('pirate', 13113), ('hook', 8401), ('easter', 5504), ('bunny', 2599), ('rabbits', 13922), ('multigenerational', 11590), ('mindsets', 11223), ('cryonically', 4265), ('cherished', 3177), ('toddler', 17701), ('miraculously', 11261), ('remission', 14432), ('ngoepe', 11911), ('recounted', 14227), ('ig', 8656), ('perish', 12936), ('horns', 8430), ('confess', 3758), ('frustration', 7095), ('pets', 12985), ('sofa', 16209), ('nightmares', 11942), ('mold', 11397), ('maggots', 10570), ('inconveniences', 8829), ('rumored', 15008), ('fondness', 6855), ('horses', 8446), ('lucid', 10466), ('trickling', 17988), ('malachi', 10629), ('disenchanted', 5022), ('conduct', 3748), ('exorcisms', 6177), ('lima', 10213), ('highlevel', 8215), ('ambassadors', 897), ('cheyenne', 3187), ('safely', 15075), ('tribes', 17981), ('montana', 11440), ('geeks', 7287), ('lifelike', 10182), ('dodge', 5167), ('interconnected', 9069), ('skewer', 16004), ('misunderstandings', 11328), ('sundance', 16951), ('breakout', 2411), ('rashida', 14072), ('intersection', 9105), ('rewiring', 14687), ('fundamental', 7132), ('resourceful', 14565), ('flighty', 6773), ('samberg', 15121), ('accidentprone', 428), ('buses', 2635), ('moped', 11463), ('separates', 15543), ('kato', 9638), ('tranquil', 17880), ('andi', 965), ('motivated', 11516), ('dishwasher', 5042), ('tread', 17942), ('mavis', 10867), ('lydia', 10511), ('transylvania', 17916), ('ericka', 5941), ('selfimposed', 15475), ('errors', 5956), ('simultaneous', 15921), ('arrivals', 1238), ('package', 12590), ('stressful', 16791), ('globewinning', 7456), ('posen', 13340), ('blending', 2125), ('myth', 11662), ('conspiracyminded', 3842), ('docufiction', 5155), ('argues', 1190), ('purchased', 13813), ('yugoslavias', 19506), ('bible', 1993), ('potfueled', 13387), ('felt', 6535), ('grinch', 7683), ('lou', 10411), ('lothario', 10406), ('boot', 2284), ('sponsor', 16459), ('dray', 5323), ('gathered', 7270), ('protest', 13705), ('formed', 6919), ('greenpeace', 7651), ('chemists', 3170), ('cripple', 4185), ('annalise', 1015), ('keating', 9649), ('plus', 13212), ('copywriter', 3972), ('websites', 18993), ('beeny', 1835), ('mortgage', 11492), ('greataunt', 7634), ('quilting', 13902), ('captivate', 2809), ('prodigal', 13602), ('tumi', 18077), ('pictureperfect', 13057), ('europes', 6019), ('caesar', 2691), ('mussolini', 11641), ('consolidated', 3839), ('considerable', 3834), ('coups', 4056), ('rider', 14729), ('berk', 1931), ('whimsical', 19093), ('roughandtumble', 14954), ('campaigns', 2754), ('deathbed', 4514), ('providence', 13720), ('dictates', 4887), ('duplicity', 5437), ('benevolence', 1910), ('hubies', 8508), ('salem', 15105), ('goodhearted', 7520), ('scaredycat', 15236), ('stationmaster', 16615), ('unlocking', 18366), ('pits', 13128), ('hulk', 8522), ('marvel', 10793), ('universes', 18348), ('wolverine', 19259), ('nisha', 11966), ('prem', 13461), ('stepson', 16663), ('division', 5131), ('breakthrough', 2413), ('morality', 11468), ('revelation', 14654), ('modification', 11380), ('crispr', 4193), ('outfit', 12480), ('khirad', 9685), ('ashar', 1283), ('disapprove', 4979), ('cowen', 4089), ('misadventure', 11274), ('belligerent', 1883), ('rhodes', 14696), ('diligent', 4931), ('contracted', 3901), ('dealings', 4508), ('sexobsessed', 15620), ('pacific', 12586), ('amphibious', 929), ('fired', 6670), ('forceofnature', 6881), ('bianca', 1988), ('scornful', 15316), ('pretenses', 13516), ('deb', 4518), ('domineering', 5206), ('welldeserved', 19036), ('retreated', 14627), ('grandeur', 7595), ('cracked', 4098), ('dogeatdog', 5175), ('highclass', 8204), ('clientele', 3407), ('playwright', 13186), ('ujin', 18182), ('soprano', 16283), ('yun', 19511), ('simdeok', 15902), ('diva', 5115), ('hyori', 8597), ('jeju', 9350), ('eating', 5512), ('essential', 5989), ('supercharged', 16967), ('custom', 4345), ('baddest', 1593), ('automotive', 1476), ('obstacle', 12168), ('rehearsing', 14336), ('usain', 18508), ('captivating', 2811), ('waterss', 18961), ('internationally', 9085), ('enslaved', 5852), ('ads', 569), ('newspapers', 11902), ('classified', 3371), ('jonas', 9463), ('irresistible', 9214), ('nathan', 11741), ('selfacceptance', 15455), ('glatze', 7432), ('renounce', 14454), ('shameless', 15658), ('chauvinist', 3139), ('locks', 10305), ('qualify', 13864), ('remarries', 14419), ('li', 10151), ('angsty', 998), ('unrequited', 18395), ('rein', 14346), ('baldwins', 1629), ('unfinished', 18305), ('medgar', 10946), ('evers', 6051), ('malcolm', 10638), ('propagandist', 13669), ('jong', 9468), ('ils', 8705), ('defection', 4604), ('nervous', 11852), ('scares', 15237), ('exmilitary', 6169), ('exspecial', 6258), ('doublecrossing', 5253), ('reddy', 14249), ('misogyny', 11302), ('anthem', 1038), ('hellbent', 8131), ('avenging', 1498), ('coverup', 4081), ('slimy', 16079), ('commonlaw', 3646), ('degenerates', 4632), ('affable', 611), ('hang', 7907), ('yim', 19463), ('tutor', 18113), ('loathes', 10287), ('penning', 12890), ('scripts', 15352), ('violinmaker', 18745), ('marcos', 10733), ('roster', 14948), ('maye', 10879), ('mourners', 11544), ('jobending', 9422), ('carpenter', 2879), ('passing', 12772), ('longwidowed', 10365), ('citizen', 3323), ('companionship', 3663), ('aoki', 1077), ('benihana', 1913), ('perennial', 12915), ('morin', 11476), ('agony', 664), ('toughminded', 17799), ('exdrug', 6124), ('mutual', 11649), ('twisty', 18141), ('evocative', 6067), ('undocumented', 18280), ('ulises', 18187), ('hooked', 8402), ('cumbia', 4308), ('situations', 15982), ('neuroses', 11869), ('sticking', 16679), ('foot', 6865), ('mouth', 11548), ('misgivings', 11293), ('charli', 3103), ('xcx', 19402), ('allgirl', 801), ('landlord', 9929), ('harper', 7974), ('tag', 17204), ('fling', 6776), ('shards', 15677), ('lodged', 10308), ('cyclist', 4370), ('wades', 18842), ('leaks', 10048), ('doping', 5235), ('paid', 12612), ('pursuers', 13822), ('defrosted', 4625), ('imachines', 8707), ('mikuri', 11172), ('commissioners', 3629), ('gleib', 7436), ('teasers', 17332), ('void', 18803), ('mourn', 11543), ('eduard', 5557), ('observe', 12157), ('milestones', 11186), ('igor', 8671), ('deformed', 4623), ('glickenstein', 7437), ('gretchen', 7659), ('tvs', 18118), ('iliza', 8680), ('shlesinger', 15771), ('undeniable', 18246), ('35', 257), ('applies', 1111), ('acerbic', 452), ('streamofconscious', 16776), ('2029', 201), ('illang', 8683), ('combats', 3582), ('koreas', 9817), ('lurking', 10497), ('pathway', 12799), ('solutions', 16238), ('vitiligo', 18784), ('portraits', 13332), ('today', 17698), ('illustrates', 8701), ('incest', 8815), ('bloodlust', 2157), ('kimchee', 9720), ('recipes', 14188), ('humanturnedvampire', 8539), ('dmitry', 5147), ('brawl', 2394), ('loyalty', 10453), ('bigger', 2011), ('supported', 17012), ('matrimony', 10846), ('absconds', 391), ('regains', 14306), ('attendant', 1407), ('cheats', 3150), ('reassess', 14148), ('domineered', 5205), ('lax', 10023), ('daughterinlaw', 4472), ('murderer', 11609), ('catapulted', 2947), ('assailants', 1310), ('consume', 3860), ('federico', 6506), ('fellini', 6530), ('kuwait', 9859), ('vices', 18669), ('oxygen', 12574), ('scuba', 15356), ('bankers', 1677), ('dizzying', 5141), ('fetishes', 6570), ('deceptions', 4550), ('cry', 4263), ('wade', 18841), ('grass', 7620), ('suzu', 17085), ('utero', 18529), ('subconscious', 16866), ('gizem', 7418), ('reawakens', 14152), ('hijacks', 8250), ('highsecurity', 8235), ('stopping', 16719), ('jilted', 9400), ('conceive', 3723), ('invite', 9179), ('senegal', 15515), ('retaining', 14606), ('stormy', 16730), ('elections', 5616), ('elastigirl', 5605), ('toughest', 17797), ('codenames', 3491), ('fulfilled', 7112), ('biologist', 2051), ('bonnin', 2264), ('stripped', 16806), ('residential', 14546), ('rink', 14760), ('matchmaker', 10828), ('sima', 15901), ('taparia', 17274), ('skulls', 16024), ('akator', 715), ('amazonian', 895), ('cradle', 4104), ('locate', 10296), ('covenant', 4075), ('songbird', 16260), ('victor', 18675), ('victors', 18681), ('reich', 14337), ('widening', 19128), ('italians', 9252), ('uneasiness', 18289), ('crisisridden', 4192), ('premiere', 13464), ('basterds', 1743), ('faceoff', 6313), ('conviction', 3934), ('substance', 16884), ('wage', 18845), ('allout', 815), ('attended', 1409), ('über', 19603), ('bloodthirsty', 2165), ('manifests', 10681), ('alain', 726), ('delambre', 4645), ('57', 304), ('pawn', 12832), ('18yearold', 88), ('tofu', 17708), ('wheel', 19080), ('elimination', 5644), ('protégée', 13712), ('harassment', 7935), ('unbeknownst', 18218), ('bookbinder', 2269), ('reading', 14115), ('20somethings', 209), ('maneuver', 10670), ('entanglements', 5861), ('bullied', 2576), ('pageants', 12610), ('gates', 7267), ('influenced', 8932), ('nypd', 12124), ('negotiator', 11823), ('butts', 2660), ('meticulous', 11101), ('machinations', 10534), ('immoral', 8735), ('freemasons', 7026), ('fraternal', 7001), ('psyches', 13742), ('dozens', 5283), ('israels', 9246), ('connolly', 3812), ('voluntary', 18812), ('intimidation', 9125), ('gadget', 7182), ('reactivated', 14110), ('overnight', 12537), ('rentals', 14462), ('rating', 14079), ('doorstep', 5232), ('tot', 17782), ('potsmuggling', 13391), ('dowdy', 5264), ('delightful', 4658), ('andhra', 964), ('pradesh', 13419), ('frame', 6973), ('laborers', 9875), ('torturing', 17778), ('avail', 1485), ('idealist', 8640), ('equation', 5925), ('jailhouse', 9288), ('shawcross', 15701), ('genesee', 7312), ('river', 14795), ('tangle', 17261), ('territorial', 17441), ('warlords', 18915), ('frightened', 7066), ('eruptions', 5962), ('hijacked', 8247), ('outrace', 12499), ('sun', 16950), ('pipa', 13109), ('simultaneously', 15922), ('perdida', 12913), ('yanked', 19428), ('schoolgirl', 15277), ('kagome', 9574), ('higurashi', 8245), ('reassemble', 14145), ('halfdemon', 7858), ('inuyasha', 9142), ('horai', 8424), ('saviors', 15209), ('sesshomaru', 15579), ('kikyo', 9707), ('beaqueathed', 1798), ('swords', 17141), ('fang', 6388), ('awakened', 1518), ('sealed', 15366), ('200', 171), ('defeated', 4601), ('emerging', 5711), ('zim', 19564), ('phase', 12994), ('dib', 4881), ('membrane', 11011), ('elected', 5613), ('nelson', 11834), ('mandela', 10668), ('1995', 161), ('rugby', 14986), ('saintexupérys', 15091), ('initiation', 8967), ('xhosa', 19404), ('closeted', 3438), ('bestkept', 1947), ('occupying', 12182), ('duels', 5408), ('superiority', 16977), ('ip', 9190), ('perseveres', 12950), ('chun', 3298), ('springs', 16495), ('wrestles', 19364), ('impairment', 8748), ('spice', 16409), ('triathlete', 17977), ('24mile', 229), ('swim', 17118), ('112mile', 21), ('bike', 2024), ('262mile', 235), ('kongs', 9803), ('shaw', 15700), ('blockbusters', 2149), ('30something', 249), ('ecommerce', 5527), ('skull', 16022), ('taskmaster', 17292), ('hydra', 8593), ('iron', 9207), ('stark', 16585), ('ingeniously', 8949), ('engineered', 5811), ('armor', 1215), ('shapeshifting', 15675), ('reptiles', 14507), ('spurs', 16507), ('abbie', 356), ('goof', 7526), ('bell', 1877), ('cranel', 4114), ('diminutive', 4936), ('hestia', 8180), ('helper', 8138), ('fore', 6887), ('duplicitous', 5436), ('rajiv', 13996), ('expresses', 6247), ('payal', 12838), ('deceitful', 4546), ('seduces', 15407), ('billionaires', 2037), ('fakes', 6355), ('coerce', 3498), ('letting', 10139), ('faiths', 6353), ('provinces', 13724), ('address', 522), ('prices', 13532), ('dwindling', 5460), ('rethinking', 14615), ('34', 256), ('isoken', 9238), ('maneuvered', 10671), ('genders', 7298), ('openness', 12344), ('banaras', 1655), ('overprotective', 12541), ('wynn', 19396), ('handman', 7901), ('recalled', 14171), ('laida', 9897), ('miggy', 11155), ('olsen', 12283), ('twains', 18120), ('pauper', 12824), ('9yearolds', 340), ('oldschool', 12273), ('devotes', 4854), ('pooch', 13294), ('respect', 14567), ('bellydancer', 1886), ('antisocial', 1059), ('selfless', 15478), ('psych', 13739), ('downontheirluck', 5271), ('stratospheric', 16766), ('allen', 791), ('iverson', 9260), ('indelible', 8846), ('benin', 1914), ('studentturnedzombie', 16832), ('retain', 14605), ('morgue', 11474), ('izzy', 9266), ('cuddly', 4285), ('magnetic', 10581), ('miniforce', 11238), ('megastar', 10984), ('chou', 3270), ('alist', 780), ('globetrotting', 7455), ('shankar', 15665), ('abandonment', 352), ('alimony', 779), ('payments', 12843), ('spitfire', 16442), ('couldnt', 4027), ('dejected', 4642), ('chatterbox', 3132), ('mechanical', 10935), ('shadow', 15634), ('understands', 18269), ('pastime', 12782), ('multimilliondollar', 11592), ('bruens', 2519), ('copturnedprivateinvestigator', 3969), ('whitehall', 19105), ('maps', 10720), ('pattinson', 12817), ('notoriously', 12062), ('stuffy', 16843), ('extravaganza', 6282), ('hotels', 8473), ('stupidity', 16855), ('welltraveled', 19049), ('jovial', 9496), ('southeast', 16319), ('strengthen', 16786), ('attendants', 1408), ('smuggling', 16131), ('dough', 5259), ('rachael', 13931), ('stirling', 16696), ('multifaceted', 11589), ('jacqueline', 9277), ('onassis', 12294), ('radziwill', 13950), ('lottery', 10409), ('ticket', 17624), ('salesperson', 15108), ('medic', 10950), ('wishing', 19229), ('marianne', 10742), ('gustav', 7801), ('tamilian', 17255), ('selfproclaimed', 15481), ('sacramento', 15059), ('cubby', 4278), ('skully', 16026), ('droughtstricken', 5371), ('ecologists', 5526), ('migrating', 11162), ('flamingoes', 6729), ('expecting', 6194), ('dusty', 5445), ('acaster', 415), ('mundane', 11600), ('wideranging', 19130), ('phishing', 13016), ('meena', 10967), ('romantically', 14908), ('jandino', 9305), ('asporaat', 1309), ('serenades', 15552), ('rousing', 14959), ('rendition', 14446), ('vowing', 18823), ('chaste', 3125), ('villanueva', 18725), ('slipup', 16084), ('rethink', 14614), ('jani', 9309), ('dueñas', 5410), ('pours', 13397), ('dieting', 4905), ('caustic', 2972), ('fraying', 7008), ('seams', 15368), ('earthquakes', 5497), ('devastate', 4826), ('resolve', 14559), ('sinking', 15958), ('archipelago', 1167), ('continuing', 3897), ('hezbollah', 8183), ('militiamen', 11193), ('shinda', 15747), ('laali', 9868), ('fully', 7124), ('relocate', 14403), ('sells', 15499), ('silent', 15892), ('bobs', 2207), ('egos', 5584), ('permission', 12940), ('tinseltown', 17672), ('mistrust', 11325), ('cagey', 2697), ('tailor', 17213), ('whereabouts', 19087), ('ventriloquist', 18629), ('achmed', 459), ('peanut', 12857), ('walter', 18891), ('size', 15990), ('dunham', 5426), ('slays', 16051), ('jalapeño', 9294), ('bubba', 2533), ('incorrect', 8830), ('pepper', 12903), ('dunhams', 5427), ('hysterical', 8610), ('entourage', 5887), ('trailer', 17866), ('slightly', 16077), ('demented', 4680), ('posse', 13348), ('puppets', 13809), ('gleeful', 7434), ('skewering', 16005), ('joined', 9448), ('grammynominated', 7587), ('foxworthy', 6965), ('cable', 2685), ('garlin', 7256), ('37th', 261), ('learnings', 10059), ('jeffrey', 9348), ('epstein', 5921), ('abuses', 405), ('rocker', 14853), ('jem', 9352), ('jen', 9353), ('kirkman', 9748), ('jenni', 9357), ('riveras', 14797), ('banda', 1658), ('jenny', 9359), ('slates', 16042), ('trebek', 17954), ('longestrunning', 10348), ('buzz', 2665), ('jeremiah', 9366), ('invention', 9154), ('jeremy', 9367), ('missouri', 11312), ('moschino', 11496), ('charted', 3115), ('blast', 2118), ('cuts', 4355), ('buffets', 2563), ('socalled', 16188), ('restaurants', 14583), ('tarts', 17288), ('charless', 3102), ('upandcomer', 18451), ('orny', 12433), ('adams', 503), ('soldout', 16227), ('bumpy', 2589), ('offstage', 12243), ('stretches', 16794), ('tips', 17679), ('jessica', 9374), ('darling', 4453), ('hugh', 8516), ('bonneville', 2262), ('itinerant', 9257), ('immense', 8726), ('thaiswilliams', 17484), ('provided', 13719), ('lgbt', 10149), ('internets', 9089), ('infancy', 8905), ('webcam', 18990), ('kennedys', 9664), ('worldview', 19321), ('endured', 5792), ('predicaments', 13446), ('bandmates', 1664), ('britishruled', 2474), ('crusader', 4252), ('stunningly', 16851), ('immersive', 8729), ('kaufman', 9642), ('carrey', 2883), ('gaffigan', 7185), ('pockets', 13222), ('catholicism', 2961), ('wickedly', 19123), ('fifth', 6601), ('hourlong', 8481), ('bacon', 1587), ('weighty', 19020), ('disney', 5054), ('overweight', 12557), ('sardonic', 15172), ('jefferies', 9346), ('auditioning', 1439), ('famously', 6381), ('excruciating', 6119), ('generational', 7307), ('grabby', 7568), ('hypocrisy', 8609), ('illadvised', 8682), ('unrestricted', 18398), ('jaunt', 9325), ('filthy', 6636), ('norton', 12034), ('proclivities', 13600), ('hendrixs', 8150), ('carr', 2881), ('deadpan', 4501), ('uks', 18186), ('hammersmith', 7886), ('faint', 6339), ('gooey', 7525), ('retroville', 14634), ('neutron', 11871), ('simpleminded', 15912), ('hideaki', 8194), ('sanma', 15158), ('apprentice', 1120), ('oncejoyful', 12299), ('toymaker', 17828), ('petra', 12983), ('jinns', 9410), ('battleground', 1767), ('centuryold', 3018), ('jiro', 9415), ('ono', 12328), ('85yearold', 327), ('10seat', 11), ('300aplate', 245), ('foodies', 6859), ('pilgrimage', 13081), ('jo', 9417), ('koy', 9824), ('filterfree', 6634), ('spotlighting', 16478), ('oneofakind', 12318), ('bboys', 1785), ('joan', 9418), ('didion', 4896), ('griffin', 7675), ('dunne', 5429), ('78', 322), ('rivers', 14800), ('slowing', 16095), ('impersonator', 8762), ('reyes', 14691), ('zesty', 19554), ('bathroom', 1755), ('royalty', 14976), ('16thcentury', 54), ('strategic', 16762), ('mughal', 11577), ('genuine', 7331), ('woodstock', 19293), ('cocker', 3480), ('mande', 10667), ('critical', 4200), ('adulation', 570), ('rogan', 14872), ('vegans', 18601), ('boston', 2312), ('inquisitive', 8995), ('gummies', 7780), ('quasidocumentary', 13877), ('exhausted', 6146), ('servicing', 15576), ('neverbeforeseen', 11877), ('lennon', 10112), ('yoko', 19472), ('minute', 11255), ('apaches', 1079), ('oncefruitful', 12295), ('devolved', 4850), ('died', 4900), ('reformed', 14291), ('upends', 18463), ('leguizamo', 10097), ('3000', 243), ('mellencamp', 11001), ('mulaney', 11584), ('existential', 6160), ('catchy', 2954), ('eviscerates', 6066), ('laments', 9914), ('electric', 5618), ('redhot', 14258), ('quicksand', 13896), ('motown', 11533), ('boyish', 2356), ('beef', 1834), ('clinton', 3420), ('electronics', 5623), ('whiz', 19110), ('broadcasts', 2481), ('monitors', 11425), ('genetically', 7314), ('joestar', 9433), ('nickname', 11920), ('periods', 12935), ('infertile', 8918), ('situated', 15980), ('republic', 14509), ('fulfillment', 7114), ('surreal', 17048), ('meditative', 10961), ('tableaux', 17183), ('classes', 3366), ('1806', 65), ('norrell', 12026), ('conjurer', 3799), ('unjust', 18350), ('interpretation', 9095), ('brilliantly', 2460), ('colored', 3563), ('coat', 3470), ('mobilized', 11357), ('joshua', 9484), ('autonomy', 1477), ('untold', 18428), ('olasupo', 12265), ('shasore', 15694), ('greenland', 7649), ('archaic', 1159), ('inuit', 9141), ('paying', 12841), ('austria', 1459), ('assesses', 1327), ('obsessively', 12166), ('cursed', 4334), ('presides', 13500), ('municipality', 11604), ('juana', 9507), ('inés', 9188), ('cruz', 4262), ('burdened', 2603), ('judah', 9509), ('friedlander', 7055), ('explaining', 6213), ('judd', 9510), ('apatow', 1085), ('riffing', 14738), ('amusing', 939), ('lowerclass', 10444), ('counsel', 4031), ('afford', 625), ('raja', 13991), ('neverdull', 11878), ('judy', 9518), ('stink', 16693), ('alwaysupforfun', 874), ('opal', 12340), ('indomitable', 8871), ('tenacity', 17400), ('julie', 9527), ('524', 303), ('outlined', 12491), ('childs', 3218), ('lift', 10193), ('watchful', 18953), ('andrews', 971), ('henson', 8153), ('artwork', 1277), ('julius', 9531), ('juman', 9534), ('hisham', 8290), ('outlooks', 12494), ('sangah', 15149), ('shield', 15738), ('ahshin', 674), ('whirlwind', 19099), ('rushes', 15028), ('marthas', 10786), ('vineyard', 18732), ('relations', 14371), ('carolina', 2875), ('multitude', 11597), ('invited', 9180), ('nublar', 12091), ('hates', 8010), ('onceportly', 12304), ('overconfident', 12522), ('bets', 1966), ('homely', 8365), ('wager', 18847), ('uptight', 18490), ('liangliang', 10154), ('lighten', 10199), ('nevada', 11872), ('hinder', 8269), ('slick', 16075), ('sung', 16956), ('approached', 1123), ('bieber', 2002), ('snapshots', 16147), ('demme', 4684), ('deft', 4626), ('justins', 9559), ('olive', 12276), ('squidgy', 16524), ('tons', 17738), ('makebelieve', 10616), ('spina', 16421), ('bifida', 2003), ('realized', 14126), ('hunted', 8565), ('russias', 15035), ('ballistic', 1638), ('capt', 2807), ('vostrikov', 18819), ('chernobyllike', 3179), ('gorging', 7539), ('sugary', 16919), ('snacks', 16136), ('crank', 4116), ('sakuragaoka', 15098), ('seung', 15596), ('yeon', 19453), ('guardian', 7741), ('spacetime', 16337), ('wang', 18900), ('dadong', 4388), ('bale', 1630), ('anomaly', 1027), ('liu', 10261), ('bei', 1861), ('guan', 7737), ('zhang', 19559), ('fei', 6518), ('ko', 9789), ('visitors', 18774), ('locksmith', 10306), ('fled', 6752), ('aiding', 680), ('strata', 16761), ('expectation', 6191), ('restless', 14586), ('curses', 4335), ('infanticide', 8908), ('robbing', 14829), ('employer', 5740), ('simpleton', 15913), ('wayward', 18972), ('ikoma', 8679), ('fortress', 6930), ('battlegrounds', 1768), ('unato', 18211), ('region', 14322), ('kabane', 9571), ('exfootballer', 6141), ('rift', 14741), ('disowns', 5061), ('lower', 10442), ('exalted', 6079), ('shortfused', 15804), ('rage', 13960), ('turbulently', 18094), ('poet', 13229), ('imaginations', 8714), ('ahmedabad', 671), ('bartender', 1723), ('yumeko', 19510), ('jabami', 9267), ('enrolls', 5849), ('hyakkaou', 8587), ('ranked', 14044), ('winnings', 19203), ('mba', 10889), ('cheenu', 3156), ('resurrecting', 14602), ('excons', 6115), ('tenuous', 17421), ('slip', 16081), ('mess', 11075), ('solomon', 16236), ('mahlangu', 10593), ('battled', 1764), ('dropout', 5364), ('kandasamys', 9592), ('sexdetermination', 15614), ('unethical', 18295), ('sales', 15106), ('rep', 14469), ('kantaro', 9600), ('wraps', 19350), ('indulge', 8881), ('tastiest', 17296), ('sweets', 17114), ('frays', 7009), ('overthephone', 12551), ('kudret', 9843), ('léon', 10523), ('rivail', 14790), ('séance', 17177), ('spiritism', 16436), ('electrocution', 5621), ('braindamaged', 2368), ('moneyhungry', 11418), ('karol', 9621), ('modzelewski', 11383), ('łukasz', 19605), ('lotek', 10405), ('lodkowski', 10309), ('warsaws', 18937), ('klub', 9766), ('hybrydy', 8591), ('drone', 5361), ('nobility', 11977), ('1900s', 91), ('flimsy', 6774), ('flings', 6777), ('imparts', 8749), ('polish', 13263), ('rafał', 13954), ('pacześ', 12602), ('katarzyna', 9632), ('piasecka', 13046), ('anecdotes', 978), ('guiding', 7760), ('timetraveling', 17661), ('nobleman', 11979), ('chipper', 3242), ('boomer', 2277), ('papilloma', 12674), ('knockoff', 9779), ('fashions', 6433), ('finemeats', 6655), ('purveyor', 13827), ('kel', 9656), ('twomonth', 18144), ('brett', 2430), ('bolder', 2230), ('katherine', 9635), ('fancy', 6387), ('enraged', 5844), ('signing', 15888), ('uber', 18171), ('stereotypical', 16668), ('unflinching', 18308), ('roast', 14821), ('katt', 9639), ('ushers', 18519), ('kattpacalypse', 9640), ('exploding', 6218), ('doomsday', 5229), ('entertainer', 5873), ('2006', 178), ('paint', 12619), ('sassy', 15176), ('wonderful', 19274), ('kavin', 9644), ('bumbler', 2584), ('unparalleled', 18379), ('richards', 14713), ('bard', 1700), ('initiative', 8968), ('burnss', 2627), ('beleaguered', 1866), ('burns', 2626), ('theodore', 17509), ('franklin', 6992), ('eleanor', 5612), ('roosevelt', 14932), ('19th', 167), ('embarked', 5687), ('westward', 19068), ('expansion', 6184), ('jeong', 9360), ('hangover', 7910), ('ohma', 12254), ('tokita', 17714), ('disputes', 5083), ('settled', 15589), ('gladiator', 7421), ('forget', 6909), ('fusing', 7157), ('kenny', 9667), ('analytical', 945), ('frumpy', 7091), ('footwear', 6875), ('flightless', 6771), ('laughriot', 9988), ('indeed', 8844), ('shines', 15750), ('theatrical', 17500), ('recordbreaking', 14219), ('madison', 10553), ('7yearold', 323), ('brick', 2438), ('oven', 12514), ('contributions', 3910), ('entertaining', 5875), ('familyfriendly', 6376), ('dishing', 5038), ('taped', 17276), ('hudson', 8511), ('2001', 174), ('kevyn', 9677), ('aucoin', 1430), ('merged', 11060), ('recapture', 14174), ('cons', 3820), ('forcing', 6884), ('assemble', 1321), ('momentous', 11405), ('blazes', 2120), ('anxious', 1069), ('rely', 14410), ('crimebusting', 4170), ('missions', 11310), ('matriarchs', 10844), ('regimented', 14319), ('developing', 4835), ('beetle', 1839), ('hailey', 7838), ('ollie', 12281), ('opponents', 12362), ('sloans', 16087), ('brute', 2528), ('graduating', 7581), ('petrified', 12984), ('gutsy', 7803), ('racecar', 13927), ('worldfamous', 19317), ('manny', 10699), ('pacquiao', 12598), ('cookie', 3947), ('pudding', 13770), ('kitten', 9759), ('alfred', 766), ('freddy', 7013), ('heineken', 8114), ('gagged', 7188), ('carefully', 2846), ('nagger', 11684), ('declares', 4569), ('rampage', 14015), ('budd', 2549), ('elle', 5651), ('trap', 17917), ('teeming', 17350), ('efficiently', 5573), ('unraveled', 18388), ('scissor', 15303), ('ryuko', 15049), ('matoi', 10842), ('bogged', 2218), ('cautious', 2975), ('telecom', 17363), ('conference', 3757), ('fledgling', 6753), ('democracy', 4686), ('cleveland', 3403), ('crusading', 4254), ('nicaraguan', 11915), ('chinu', 3239), ('hateful', 8009), ('pi', 13041), ('hernandez', 8166), ('clowns', 3446), ('harvest', 7991), ('cocooning', 3487), ('cotton', 4025), ('souza', 16324), ('masterminding', 10821), ('reported', 14491), ('rallied', 14000), ('piers', 13066), ('shedding', 15706), ('spencer', 16401), ('spencers', 16402), ('entered', 5866), ('dollars', 5189), ('mobprotected', 11359), ('offenders', 12221), ('wheelchair', 19081), ('helpers', 8139), ('crosshairs', 4225), ('serbian', 15551), ('paratrooper', 12702), ('riverbed', 14798), ('littered', 10258), ('koreancanadian', 9815), ('coping', 3965), ('mercurial', 11054), ('saddled', 15066), ('strapped', 16759), ('projectionist', 13646), ('dvd', 5453), ('pirating', 13115), ('despicable', 4783), ('realization', 14123), ('obnoxious', 12149), ('210', 215), ('bc', 1786), ('qin', 13853), ('insurgent', 9047), ('xiang', 19405), ('spectacular', 16382), ('ranges', 14038), ('bowler', 2341), ('nosedive', 12038), ('ishmael', 9222), ('houseful', 8484), ('rodney', 14867), ('verdict', 18638), ('handed', 7895), ('masire', 10805), ('johannesburgs', 9438), ('entices', 5881), ('clashed', 3359), ('throat', 17595), ('skater', 15993), ('carley', 2862), ('thrills', 17590), ('dominates', 5201), ('soil', 16218), ('combating', 3581), ('sandee', 15141), ('either', 5599), ('ranching', 14028), ('coax', 3472), ('catcrazy', 2955), ('vets', 18659), ('rescues', 14523), ('felines', 6526), ('hockeyplaying', 8329), ('slayer', 16050), ('postman', 13369), ('crusades', 4253), ('siege', 15873), ('ocasiocortez', 12174), ('bigmoney', 2015), ('congress', 3796), ('culturally', 4303), ('insensitive', 9004), ('16th', 53), ('mit', 11329), ('astrophysics', 1365), ('capsule', 2806), ('quake', 13861), ('tutored', 18114), ('efsun', 5577), ('sinan', 15926), ('kodachrome', 9791), ('rohan', 14878), ('simran', 15916), ('koko', 9794), ('penny', 12892), ('patterson', 12816), ('taught', 17305), ('speechandhearingimpaired', 16390), ('basic', 1735), ('invader', 9145), ('steamship', 16637), ('lustful', 10502), ('explorer', 6228), ('heyerdahl', 8182), ('sails', 15089), ('balsa', 1647), ('raft', 13957), ('4300', 277), ('2050', 204), ('brighteyed', 2455), ('owl', 12565), ('kopitiam', 9810), ('pork', 13317), ('belly', 1885), ('koreans', 9816), ('hearingimpaired', 8071), ('persists', 12954), ('unforgiving', 18316), ('accepted', 421), ('dignity', 4921), ('snowplow', 16176), ('nils', 11951), ('norwegian', 12036), ('minstrels', 11252), ('folktales', 6843), ('rajasthan', 13993), ('artisan', 1266), ('payment', 12842), ('bihar', 2022), ('comicstripstyle', 3611), ('assigns', 1332), ('parrot', 12734), ('bengal', 1911), ('crocodile', 4207), ('foolishness', 6863), ('inconsiderate', 8828), ('courtiers', 4065), ('krisha', 9832), ('thanksgiving', 17489), ('grudges', 7726), ('addictions', 515), ('confused', 3788), ('indecisiveness', 8843), ('balarams', 1626), ('vrindavan', 18831), ('opting', 12380), ('coed', 3496), ('justine', 9558), ('handful', 7896), ('delay', 4647), ('hut', 8584), ('exstripper', 6260), ('alcoholics', 746), ('per', 12905), ('grocer', 7698), ('heroism', 8175), ('frogs', 7079), ('scorpions', 15318), ('spiders', 16413), ('amphibians', 928), ('darel', 4444), ('kulipari', 9845), ('formally', 6917), ('clad', 3342), ('axe', 1540), ('magoo', 10585), ('mutants', 11644), ('preparations', 13469), ('feast', 6490), ('mismatched', 11301), ('archaeologists', 1157), ('tibetan', 17622), ('youngsters', 19492), ('antique', 1054), ('suburbs', 16892), ('tetsuya', 17467), ('kuroko', 9853), ('seirin', 15438), ('samurai', 15133), ('nirvanas', 11965), ('cobains', 3475), ('drugaddled', 5378), ('costars', 4020), ('standin', 16564), ('kygo', 9863), ('venue', 18634), ('renders', 14444), ('incapable', 8808), ('aishwarya', 707), ('rai', 13968), ('vivek', 18790), ('oberoi', 12136), ('diya', 5140), ('coorg', 3958), ('interfering', 9076), ('léa', 10521), ('camille', 2749), ('notion', 12059), ('timely', 17658), ('ritchie', 14786), ('valens', 18547), ('depicted', 4723), ('hostages', 8460), ('manipulates', 10686), ('duration', 5440), ('altagracia', 855), ('elegant', 5625), ('1821', 67), ('featues', 6495), ('ludovico', 10475), ('federica', 6505), ('ludoviquito', 10476), ('ciudad', 3331), ('luche', 10463), ('marriageaverse', 10772), ('spouse', 16483), ('mago', 10584), ('awes', 1532), ('bystanders', 2672), ('reminiscing', 14430), ('taiwans', 17221), ('guo', 7794), ('xuehu', 19414), ('línea', 10524), ('guntoting', 7792), ('feared', 6483), ('desperado', 4780), ('guerrilla', 7751), ('reintegrates', 14353), ('estevan', 5998), ('oriol', 12428), ('mister', 11320), ('impacting', 8745), ('hop', 8413), ('yolanda', 19473), ('reimagined', 14344), ('besets', 1942), ('18th', 86), ('aristocracy', 1199), ('teresa', 17425), ('mendoza', 11030), ('perceived', 12907), ('conquering', 3816), ('inevitably', 8897), ('griselda', 7689), ('blanco', 2117), ('governs', 7562), ('rajesh', 13994), ('shankars', 15666), ('bloodtheft', 2163), ('rajeshs', 13995), ('explode', 6217), ('ratu', 14086), ('deepika', 4595), ('kumari', 9847), ('rose', 14941), ('no1', 11974), ('archer', 1162), ('indiabased', 8853), ('prashasti', 13432), ('singh', 15939), ('kaneez', 9594), ('surka', 17039), ('supriya', 17024), ('niveditha', 11970), ('prakasam', 13422), ('noholdsbarred', 11988), ('potentially', 13386), ('dirt', 4962), ('expect', 6188), ('bamford', 1652), ('nymph', 12122), ('complexs', 3693), ('marquis', 10768), ('kort', 9819), ('allie', 805), ('tabares', 17181), ('plucked', 13205), ('laerte', 9891), ('coutinho', 4073), ('brazils', 2403), ('cartoonists', 2900), ('1890s', 79), ('harshly', 7983), ('taxed', 17309), ('champaner', 3053), ('mooching', 11451), ('guiltridden', 7765), ('carries', 2885), ('dropping', 5366), ('reenlists', 14275), ('selfrighteous', 15489), ('industrial', 8884), ('apathy', 1084), ('hoxley', 8503), ('seducing', 15408), ('enterprise', 5868), ('gambit', 7219), ('gitrdone', 7413), ('swampy', 17089), ('walmart', 18886), ('worms', 19329), ('grate', 7621), ('tropical', 18025), ('larva', 9958), ('fantásticas', 6402), ('diver', 5120), ('floor', 6796), ('ncaa', 11782), ('footballs', 6870), ('fertile', 6561), ('recruiting', 14242), ('flags', 6722), ('offseason', 12241), ('midflight', 11145), ('planes', 13152), ('mankind', 10695), ('lau', 9982), ('ecological', 5525), ('wellbeing', 19034), ('edicts', 5543), ('tempting', 17394), ('acquaintances', 464), ('injuries', 8971), ('yankees', 19429), ('pitcher', 13121), ('chienming', 3206), ('majors', 10611), ('squirrel', 16525), ('runnerup', 15018), ('lavell', 10005), ('louiss', 10420), ('orpheum', 12440), ('raking', 13999), ('vagaries', 18542), ('truetolife', 18046), ('bootlegging', 2287), ('bondurant', 2254), ('prohibition', 13644), ('speeddating', 16392), ('ditch', 5111), ('wrapping', 19349), ('repeated', 14477), ('islam', 9227), ('blackmailing', 2098), ('karim', 9615), ('benzema', 1922), ('retraces', 14625), ('demo', 4685), ('scientology', 15299), ('accounts', 443), ('leah', 10047), ('remini', 14426), ('anna', 1014), ('chooses', 3260), ('february', 6501), ('29', 239), ('innkeeper', 8984), ('evaluate', 6027), ('félicie', 7169), ('1880s', 75), ('earlylearning', 5487), ('quigley', 13901), ('tad', 17199), ('jumbles', 9536), ('transport', 17913), ('axel', 1541), ('leapfrog', 10053), ('counting', 4044), ('numberland', 12096), ('alligator', 808), ('sounding', 16307), ('vowels', 18822), ('geared', 7282), ('contacts', 3865), ('enlisting', 5837), ('30000', 244), ('feet', 6517), ('bloodline', 2156), ('mikaelson', 11168), ('innate', 8981), ('ronnie', 14920), ('kray', 9829), ('elude', 5668), ('transfixing', 17893), ('soren', 16289), ('barn', 1710), ('accomplices', 436), ('relic', 14391), ('humankind', 8532), ('winged', 19195), ('humanoids', 8536), ('leo', 10115), ('teodora', 17422), ('alebrije', 750), ('lei', 10099), ('ying', 19464), ('tieh', 17635), ('hon', 8381), ('ti', 17618), ('tan', 17258), ('yunnan', 19512), ('redefined', 14252), ('messiah', 11082), ('natures', 11760), ('superman', 16978), ('disappearing', 4975), ('caper', 2795), ('amulet', 937), ('elvendale', 5674), ('heartlake', 8081), ('petacular', 12975), ('missteps', 11314), ('billund', 2041), ('130000squarefoot', 31), ('lego', 10094), ('bricks', 2439), ('awe', 1530), ('jurassic', 9552), ('velociraptor', 18612), ('dinosaursized', 4947), ('cando', 2772), ('rugged', 14988), ('behaviorist', 1857), ('ultron', 18197), ('avengers', 1496), ('killmonger', 9715), ('klaue', 9764), ('panther', 12667), ('wakandas', 18860), ('vibranium', 18664), ('ravagers', 14092), ('ninjago', 11960), ('quests', 13891), ('zane', 19527), ('elemental', 5626), ('spinjitzu', 16425), ('yangs', 19427), ('boomtown', 2280), ('awesomeness', 1534), ('loki', 10321), ('amassing', 888), ('spiderman', 16412), ('segregates', 15432), ('skirts', 16020), ('yorks', 19481), ('lenox', 10113), ('dedication', 4583), ('addicted', 513), ('webcams', 18991), ('voyeurism', 18828), ('leopard', 10122), ('tig', 17638), ('eschewing', 5973), ('lions', 10235), ('vegetarian', 18603), ('shun', 15844), ('les', 10125), ('bleus', 2130), ('mirrored', 11271), ('hugos', 8520), ('bigscreen', 2019), ('seduce', 15405), ('apnea', 1089), ('joyfully', 9499), ('priests', 13540), ('dunblane', 5422), ('newtown', 11905), ('connecticut', 3804), ('occurred', 12184), ('snowstorm', 16177), ('affecting', 616), ('scars', 15244), ('shall', 15654), ('residing', 14549), ('onepersonhousehold', 12319), ('levius', 10145), ('mecnun', 10938), ('newborns', 11884), ('mecnuns', 10939), ('manuscript', 10715), ('closet', 3437), ('unannounced', 18205), ('elects', 5624), ('rumor', 15007), ('disobeys', 5056), ('elders', 5608), ('riggers', 14744), ('adventureloving', 585), ('beau', 1814), ('patientcentered', 12802), ('hospitals', 8456), ('newlyappointed', 11893), ('log', 10312), ('dramatically', 5310), ('consumed', 3861), ('overjoyed', 12531), ('upandcomers', 18452), ('callcenter', 2722), ('neediest', 11805), ('intermingling', 9080), ('bias', 1990), ('bail', 1609), ('casteism', 2925), ('bbcs', 1783), ('sequences', 15549), ('hundreds', 8555), ('refugee', 14299), ('withdraw', 19237), ('uncertainties', 18226), ('comalike', 3577), ('resignation', 14550), ('cured', 4321), ('abbott', 357), ('habitats', 7825), ('shapeshifter', 15674), ('speeds', 16395), ('mortality', 11490), ('johnnie', 9441), ('tos', 17781), ('charactercentered', 3086), ('firefighting', 6672), ('dilemmas', 4929), ('shatters', 15698), ('enjoys', 5832), ('blessings', 2129), ('advertising', 595), ('caribbean', 2855), ('tita', 17683), ('peep', 12874), ('genrebending', 7323), ('attracted', 1421), ('initiate', 8965), ('kicking', 9691), ('testifying', 17460), ('exgangster', 6142), ('tagliano', 17206), ('societys', 16198), ('limmy', 10219), ('limond', 10220), ('headlines', 8049), ('costumed', 4024), ('falconhoof', 6358), ('spielberg', 16415), ('towering', 17819), ('abraham', 387), ('lincoln', 10221), ('stewardship', 16677), ('erased', 5936), ('triads', 17972), ('antiques', 1055), ('appraiser', 1118), ('tamer', 17252), ('adaeze', 500), ('liss', 10245), ('pereira', 12914), ('uncomfortable', 18233), ('triggering', 17997), ('senses', 15525), ('steering', 16642), ('quincy', 13904), ('bestknown', 1948), ('compilation', 3683), ('peppy', 12904), ('bumps', 2588), ('twinkle', 18131), ('jacus', 9278), ('rhyme', 14697), ('horrorcomedy', 8440), ('adopting', 551), ('snack', 16134), ('mrs', 11563), ('gonshas', 7516), ('primary', 13543), ('jakes', 9293), ('tonys', 17740), ('shops', 15796), ('traditionally', 17851), ('sumo', 16948), ('hiyori', 8319), ('revolutionize', 14680), ('nicky', 11923), ('oust', 12469), ('rohit', 14879), ('shettys', 15732), ('singham', 15940), ('kaal', 9568), ('vilest', 18716), ('singhams', 15941), ('chikki', 3208), ('bandarpur', 1659), ('kohinoor', 9793), ('badder', 1592), ('abductions', 364), ('mirchi', 11264), ('nagar', 11683), ('mirchigadh', 11265), ('goth', 7550), ('iraq', 9196), ('cohabiting', 3509), ('akko', 720), ('nova', 12069), ('attitude', 1416), ('pawtucket', 12835), ('liv', 10262), ('wisconsin', 19218), ('busiest', 2637), ('keepers', 9652), ('orderly', 12405), ('emilio', 5715), ('martínez', 10792), ('pushed', 13830), ('cardiac', 2829), ('400year', 269), ('divide', 5126), ('mentored', 11040), ('rollercoast', 14891), ('burned', 2621), ('spa', 16329), ('replaced', 14483), ('madefortv', 10548), ('lizzie', 10277), ('borden', 2294), ('1892', 80), ('axing', 1542), ('llama', 10279), ('sorrows', 16292), ('unanswered', 18206), ('asunta', 1368), ('basterra', 1744), ('porto', 13330), ('aguazul', 668), ('montserrat', 11447), ('wily', 19175), ('millionaires', 11205), ('startup', 16601), ('butter', 2654), ('benefactor', 1905), ('bundle', 2592), ('shiftless', 15741), ('lads', 9888), ('ivan', 9259), ('lockes', 10302), ('keys', 9681), ('manipulated', 10685), ('embezzling', 5696), ('highrisk', 8229), ('caucasian', 2964), ('lowborn', 10439), ('criminality', 4179), ('hiking', 8255), ('wall', 18878), ('23rd', 223), ('domed', 5194), ('exist', 6157), ('pleasures', 13192), ('drugfree', 5380), ('stefan', 16644), ('grab', 7565), ('kais', 9578), ('motive', 11521), ('reclusivebanker', 14200), ('hedonist', 8103), ('catalan', 2939), ('wyoming', 19397), ('rebuilding', 14167), ('musicloving', 11636), ('johny', 9445), ('dancefilled', 4417), ('preschooler', 13478), ('croupier', 4230), ('70', 316), ('lorena', 10390), ('ramírez', 14023), ('rarámuri', 14068), ('pastoral', 12784), ('straps', 16760), ('sandals', 15140), ('ultramarathon', 18195), ('capusotto', 2821), ('recurring', 14245), ('spurred', 16505), ('boredom', 2299), ('intersecting', 9104), ('chapultepec', 3084), ('testimonies', 17461), ('norteño', 12029), ('tigres', 17646), ('norte', 12028), ('folsom', 6852), ('cashs', 2913), ('coxless', 4091), ('rowed', 14969), ('charities', 3097), ('singerssongwriters', 15938), ('profession', 13617), ('containing', 3869), ('succubus', 16901), ('sustains', 17081), ('feeding', 6512), ('okon', 12262), ('bona', 2249), ('selected', 15447), ('robinson', 14836), ('neunatia', 11865), ('grammywinning', 7588), ('loudon', 10415), ('wainwright', 18852), ('iii', 8675), ('ck', 3341), ('milwaukee', 11210), ('hilariousthoughtprovoking', 8258), ('rats', 14082), ('mickey', 11130), ('goodnatured', 7523), ('gus', 7800), ('agonies', 662), ('cocreated', 3488), ('radically', 13945), ('biotech', 2056), ('consultant', 3857), ('flirty', 6786), ('societal', 16196), ('reevaluate', 14279), ('alerts', 755), ('vicinity', 18670), ('jojo', 9452), ('adversities', 592), ('wako', 18866), ('yumeaki', 19509), ('starlet', 16587), ('overcrowded', 12523), ('ballpark', 1641), ('outgoing', 12481), ('poetry', 13231), ('taiwanese', 17220), ('shelby', 15714), ('vegan', 18600), ('heirs', 8120), ('45day', 280), ('ican', 8618), ('enacts', 5757), ('ban', 1653), ('indoors', 8876), ('hardcore', 7942), ('facilitating', 6317), ('cherie', 3175), ('saleswoman', 15109), ('christmastime', 3284), ('selective', 15450), ('perception', 12908), ('prescribed', 13481), ('psychotherapist', 13756), ('toprak', 17753), ('wet', 19069), ('yusufs', 19518), ('motherless', 11512), ('yusuf', 19517), ('adoring', 562), ('governor', 7561), ('assert', 1325), ('shutterbug', 15850), ('fearing', 6484), ('ömer', 19602), ('aysem', 1548), ('marriagephobic', 10773), ('seductress', 15411), ('faithful', 6351), ('eagertowed', 5476), ('inclined', 8820), ('diametrically', 4873), ('opposed', 12366), ('morbid', 11471), ('yang', 19426), ('yiru', 19465), ('stud', 16828), ('jimmys', 9404), ('rut', 15038), ('cheries', 3176), ('agenda', 651), ('charlatan', 3100), ('individually', 8867), ('sanjay', 15154), ('karina', 9617), ('scuttle', 15362), ('hottempered', 8477), ('offtotheunited', 12245), ('horticulturist', 8449), ('titchmarsh', 17686), ('uplifting', 18470), ('planting', 13161), ('deserving', 4765), ('yuta', 19519), ('weirdo', 19024), ('rikka', 14752), ('delusions', 4672), ('nsfw', 12083), ('presented', 13485), ('fincher', 6648), ('sue', 16909), ('guarantees', 7739), ('lasting', 9964), ('vlogger', 18794), ('separating', 15544), ('allmale', 811), ('mindy', 11224), ('beachside', 1792), ('stripper', 16807), ('singledad', 15946), ('1958', 122), ('mildred', 11181), ('feverish', 6576), ('depressing', 4733), ('lu', 10457), ('deion', 4639), ('luccas', 10461), ('gi', 7371), ('heading', 8047), ('gymkhana', 7812), ('lucha', 10462), ('luciana', 10464), ('aymar', 1545), ('luciano', 10465), ('mellera', 11002), ('emphasizes', 5735), ('lovesick', 10435), ('luckee', 10469), ('satisfying', 15186), ('hormones', 8429), ('lucknow', 10471), ('ren', 14440), ('moneycrazy', 11417), ('petersburg', 12979), ('aditya', 530), ('resurfaced', 14598), ('suitcase', 16928), ('riff', 14737), ('anywhere', 1075), ('captivated', 2810), ('cohabitate', 3507), ('chest', 3182), ('petunia', 12988), ('amazia', 891), ('scrapbook', 15336), ('obscene', 12151), ('march', 10730), ('sevenyearold', 15606), ('dreamlike', 5334), ('arsène', 1251), ('lupin', 10491), ('assane', 1312), ('diop', 4949), ('inflicted', 8930), ('jigen', 9396), ('goemon', 7492), ('cagliostros', 2698), ('detour', 4821), ('2013s', 189), ('talkies', 17243), ('gangland', 7238), ('khurana', 9688), ('lynne', 10517), ('koplitz', 9811), ('childlessness', 3214), ('layers', 10027), ('1927', 101), ('rainey', 13982), ('recording', 14221), ('session', 15580), ('viola', 18735), ('denzel', 4714), ('wolfe', 19258), ('parisbased', 12717), ('devin', 4844), ('overstreet', 12547), ('valedictorian', 18546), ('mac', 10526), ('10thyear', 14), ('relocating', 14406), ('killerforhire', 9711), ('machete', 10532), ('pretended', 13513), ('mode', 11370), ('exposure', 6243), ('womanchasing', 19262), ('maxs', 10871), ('retaliation', 14610), ('janitorial', 9312), ('conspires', 3845), ('pilfer', 13080), ('scheduled', 15259), ('cherrypicks', 3180), ('trailers', 17867), ('poster', 13365), ('47', 281), ('oldies', 12272), ('spattered', 16365), ('stockbroker', 16700), ('bipolar', 2059), ('cramped', 4112), ('bridge', 2445), ('strands', 16752), ('sadly', 15070), ('subsequent', 16881), ('supplier', 17007), ('aphrodisiac', 1087), ('stimulating', 16688), ('socialites', 16194), ('opulent', 12384), ('lagaan', 9892), ('millenniums', 11201), ('satyajit', 15191), ('bhatkal', 1983), ('resolute', 14558), ('nanny', 11704), ('intentions', 9063), ('originally', 12424), ('everlasting', 6050), ('magi', 10571), ('seas', 15376), ('started', 16597), ('dungeon', 5425), ('aladdin', 724), ('alibaba', 772), ('orchestrating', 12397), ('willman', 19167), ('cellphone', 3002), ('protector', 13702), ('industrialists', 8886), ('intervention', 9115), ('warps', 18929), ('magnus', 10583), ('carlsen', 2865), ('reinterpretation', 14354), ('ranjit', 14042), ('establishing', 5993), ('nerd', 11844), ('aryan', 1278), ('impressing', 8784), ('worried', 19330), ('mahi', 10589), ('tame', 17251), ('mahjong', 10592), ('council', 4029), ('misaki', 11276), ('prasad', 13431), ('sharma', 15687), ('milaap', 11174), ('fruition', 7090), ('usher', 18517), ('raghavan', 13962), ('ordinarylooking', 12408), ('weds', 19004), ('mismatch', 11300), ('lying', 10512), ('orthopedic', 12443), ('samir', 15127), ('conjure', 3798), ('chances', 3061), ('exoneree', 6174), ('witcher', 19234), ('jaskiers', 9319), ('authentically', 1460), ('portray', 13333), ('hasidic', 7995), ('pertain', 12966), ('h2o', 7819), ('merman', 11069), ('mako', 10624), ('wailing', 18850), ('prayers', 13433), ('autopilot', 1478), ('discontent', 5004), ('thorns', 17564), ('crony', 4210), ('nativist', 11752), ('espouses', 5984), ('abortion', 383), ('ok', 12260), ('brothersister', 2513), ('lifeguard', 10180), ('malibu', 10645), ('flounder', 6806), ('beachmaster', 1791), ('selftrained', 15493), ('weaving', 18987), ('motherly', 11513), ('characteristics', 3087), ('childish', 3213), ('idiot', 8651), ('girlfriendless', 7408), ('mobeen', 11354), ('beijing', 1862), ('pandering', 12657), ('illtempered', 8693), ('grylls', 7733), ('leone', 10120), ('stayathome', 16626), ('flagrant', 6721), ('sanctimonious', 15136), ('madam', 10542), ('brothel', 2505), ('assistance', 1335), ('teller', 17376), ('dementia', 4681), ('mulsim', 11585), ('heroics', 8171), ('jewell', 9384), ('foiled', 6836), ('horoscope', 8431), ('bode', 2210), ('reevaluated', 14280), ('scathing', 15246), ('screenwriter', 15348), ('herman', 8165), ('mankiewicz', 10694), ('finish', 6660), ('talker', 17242), ('hinders', 8271), ('manolo', 10700), ('blahnik', 2109), ('speaks', 16370), ('chime', 3230), ('redlight', 14262), ('1800s', 64), ('circumstance', 3319), ('pleasant', 13190), ('indopakistani', 8877), ('saadat', 15052), ('manto', 10708), ('censors', 3008), ('sadaat', 15064), ('culminate', 4294), ('partitioning', 12748), ('subcontinent', 16867), ('abstract', 396), ('twistfilled', 18138), ('rightful', 14747), ('burial', 2616), ('revolving', 14683), ('savage', 15197), ('greenhouses', 7647), ('fuller', 7119), ('maradona', 10721), ('culiacán', 4290), ('sinaloa', 15925), ('dorados', 5237), ('thefts', 17503), ('owned', 12567), ('heists', 8122), ('marc', 10728), ('maron', 10766), ('swamp', 17088), ('vitamin', 18783), ('hustlers', 8581), ('evangelicals', 6030), ('endtimes', 5789), ('investigated', 9162), ('shogi', 15781), ('topranked', 17754), ('marching', 10731), ('memorize', 11019), ('tend', 17403), ('slay', 16049), ('marco', 10732), ('luque', 10492), ('polo', 13279), ('kublai', 9840), ('warriormonk', 18933), ('khans', 9684), ('chains', 3035), ('earns', 5492), ('30minute', 247), ('exassassin', 6093), ('alleys', 799), ('theaters', 17498), ('ohsoawkward', 12257), ('shotathome', 15810), ('twoperson', 18146), ('mariah', 10741), ('carey', 2853), ('plagues', 13148), ('mariusz', 10757), ('kałamaga', 9648), ('kopiec', 9809), ('wiolka', 19210), ('walaszczyk', 18867), ('warsaw', 18936), ('gatiss', 7273), ('mycroft', 11652), ('benedict', 1904), ('cumberbatch', 4306), ('freeman', 7025), ('friendliest', 7058), ('postsplit', 13377), ('rollicking', 14894), ('marlon', 10765), ('wayans', 18968), ('ageappropriate', 648), ('kardashians', 9610), ('saurabh', 15195), ('accidental', 426), ('awardnominated', 1526), ('noah', 11975), ('baumbach', 1775), ('compatibility', 3671), ('spacecraft', 16331), ('2033', 202), ('colonize', 3558), ('marseille', 10781), ('reins', 14351), ('zhi', 19561), ('actorcomedian', 490), ('lawrences', 10017), ('95', 336), ('theses', 17521), ('quebecois', 13879), ('matte', 10849), ('antidowry', 1051), ('victimized', 18673), ('abusers', 404), ('logan', 10313), ('xman', 19410), ('dissolution', 5093), ('xmen', 19411), ('reassembled', 14146), ('xavier', 19401), ('ymir', 19467), ('phil', 13000), ('coulson', 4028), ('marvels', 10794), ('blinded', 2134), ('matt', 10848), ('murdock', 11616), ('hells', 8134), ('rand', 14030), ('presumed', 13510), ('hulks', 8523), ('gamma', 7230), ('starks', 16586), ('reactor', 14111), ('tormentor', 17766), ('hoodiewearing', 8397), ('unbreakable', 18221), ('punish', 13794), ('endor', 5787), ('foremost', 6895), ('rice', 14710), ('objections', 12141), ('retail', 14603), ('portas', 13326), ('collaborates', 3525), ('complainedabout', 3684), ('stores', 16724), ('fedup', 6509), ('momdaughter', 11403), ('neena', 11809), ('masaba', 10799), ('gupta', 7796), ('shifts', 15742), ('arabia', 1140), ('20112019', 186), ('suits', 16931), ('mascot', 10801), ('masha', 10803), ('thunder', 17609), ('retells', 14613), ('tends', 17408), ('jumbled', 9535), ('irani', 9192), ('core', 3980), ('borne', 2303), ('needing', 11806), ('bargains', 1706), ('ledger', 10076), ('dev', 4825), ('elevate', 5632), ('abandon', 349), ('direct', 4954), ('collision', 3548), ('intriguing', 9132), ('30s', 248), ('staunch', 16622), ('expects', 6195), ('uphold', 18468), ('possessive', 13353), ('overindulged', 12530), ('mau', 10857), ('nieto', 11930), ('sober', 16185), ('maurício', 10863), ('meirelles', 10991), ('scathingly', 15247), ('prejudices', 13459), ('turtles', 18109), ('unfaithful', 18302), ('messaging', 11078), ('mute', 11646), ('excess', 6103), ('inability', 8804), ('distrust', 5105), ('onagain', 12293), ('offagain', 12215), ('angelou', 989), ('illustrating', 8702), ('appetite', 1107), ('maydays', 10878), ('summoned', 16945), ('detests', 4816), ('atlantas', 1383), ('maynard', 10881), ('africanamerican', 637), ('maz', 10886), ('jobrani', 9424), ('pump', 13786), ('keyboardist', 9679), ('anda', 959), ('bares', 1703), ('pariah', 12714), ('hoodlum', 8398), ('inveterate', 9174), ('rinella', 14757), ('scrounges', 15354), ('wildest', 19150), ('unscripted', 18406), ('ducks', 5403), ('deer', 4597), ('merited', 11062), ('awarding', 1525), ('maestro', 10562), ('spratt', 16486), ('cdc', 2982), ('cosimo', 4012), ('medici', 10955), ('15thcentury', 46), ('florence', 6799), ('steers', 16643), ('fated', 6450), ('convergence', 3928), ('ensures', 5858), ('annihilation', 1018), ('instill', 9031), ('pushback', 13829), ('goldrush', 7507), ('enterprises', 5869), ('largescale', 9953), ('ashita', 1286), ('mechanized', 10937), ('megalo', 10978), ('boxers', 2347), ('supremacy', 17020), ('ridealong', 14728), ('rig', 14742), ('haul', 8015), ('loads', 10282), ('bengali', 1912), ('cassette', 2918), ('performer', 12925), ('pastry', 12785), ('bake', 1615), ('melvin', 11008), ('conversation', 3929), ('disclose', 5000), ('blogs', 2153), ('augmentedreality', 1442), ('hostel', 8462), ('memorization', 11018), ('jiaen', 9392), ('recipient', 14189), ('extraterrestrials', 6280), ('reprise', 14503), ('unofficial', 18374), ('civilian', 3334), ('voyage', 18826), ('humantrafficking', 8538), ('heperi', 8155), ('mita', 11330), ('maori', 10718), ('merata', 11045), ('caledonia', 2713), ('soane', 16180), ('spaceflight', 16333), ('halfsiblings', 7864), ('surfaces', 17029), ('autorickshaw', 1480), ('hiralal', 8281), ('tiwari', 17692), ('gravely', 7624), ('treks', 17960), ('owning', 12571), ('pupils', 13805), ('familyoriented', 6377), ('merlin', 11066), ('arriving', 1241), ('camelot', 2744), ('10day', 9), ('vigilante', 18703), ('blackmailed', 2097), ('richest', 14715), ('abuja', 400), ('concealing', 3721), ('lowlifes', 10447), ('elites', 5648), ('metallica', 11089), ('roadie', 14811), ('errand', 5950), ('checking', 3153), ('stillthriving', 16686), ('shancai', 15660), ('highachievers', 8201), ('disgusted', 5033), ('goldchain', 7502), ('snatchers', 16151), ('chennai', 3173), ('stamina', 16559), ('angelino', 988), ('meat', 10928), ('shivaji', 15770), ('medieval', 10957), ('mi5', 11115), ('pearce', 12858), ('scapegoat', 15232), ('spycraft', 16509), ('sleeve', 16065), ('unicorns', 18329), ('panthea', 12666), ('menial', 11032), ('75000', 320), ('bolton', 2238), ('telethon', 17372), ('homophobia', 8379), ('benjie', 1917), ('nycum', 12120), ('mcintyre', 10905), ('scenestealing', 15256), ('buteau', 2651), ('dazzles', 4489), ('adore', 559), ('massages', 10813), ('childbirth', 3211), ('otters', 12464), ('billing', 2034), ('rafe', 13955), ('handbook', 7893), ('middleditch', 11140), ('schwartz', 15289), ('epically', 5911), ('listeners', 10248), ('syndicated', 17163), ('scarred', 15243), ('backstreets', 1582), ('shinjuku', 15753), ('patrons', 12812), ('particular', 12745), ('mallika', 10650), ('dua', 5397), ('shalishka', 15653), ('whips', 19097), ('meal', 10916), ('youngster', 19491), ('fanatics', 6384), ('express', 6246), ('welcomes', 19029), ('tracksville', 17840), ('boundless', 2333), ('decorating', 4575), ('devouring', 4856), ('spraying', 16488), ('holi', 8344), ('townspeople', 17823), ('makar', 10613), ('sankranti', 15157), ('zedd', 19542), ('repulsa', 14511), ('raju', 13998), ('toetotoe', 17707), ('capoeira', 2799), ('birbiglia', 2061), ('riotous', 14764), ('culled', 4292), ('epps', 5920), ('unapologetically', 18208), ('misconduct', 11281), ('ed', 5534), ('campaigner', 2753), ('milada', 11175), ('horáková', 8451), ('czechoslovakia', 4380), ('communist', 3656), ('asset', 1328), ('nowadult', 12076), ('mythology', 11668), ('40s', 271), ('steamy', 16638), ('sean', 15371), ('penn', 12888), ('milk', 11194), ('supervisor', 17004), ('1978', 142), ('adulting', 575), ('unemployment', 18293), ('listings', 10251), ('hamptons', 7888), ('nextgen', 11908), ('restaurateurs', 14585), ('eateries', 5510), ('discerning', 4993), ('investors', 9173), ('unsuccessful', 18419), ('shin', 15746), ('monthly', 11444), ('sum', 16938), ('foretell', 6903), ('paralegal', 12686), ('uneasily', 18288), ('alltooreal', 826), ('stepping', 16660), ('methane', 11097), ('miners', 11229), ('minecraft', 11226), ('wisely', 19224), ('miniwolf', 11248), ('defenseless', 4611), ('zenos', 19551), ('interviewed', 9117), ('virtues', 18759), ('olympian', 12285), ('apolo', 1094), ('anton', 1065), ('ohno', 12255), ('completing', 3688), ('60second', 310), ('disability', 4966), ('commanders', 3616), ('noir', 11989), ('citysaving', 3329), ('continuum', 3898), ('glitch', 7442), ('vera', 18636), ('displaces', 5075), ('fouryearold', 6962), ('kun', 9849), ('colleen', 3542), ('ballinger', 1637), ('magichinry', 10575), ('grimm', 7681), ('fairskinned', 6345), ('dwarves', 5455), ('ged', 7285), ('strategies', 16763), ('sleeping', 16059), ('passenger', 12768), ('drunk', 5391), ('posts', 13375), ('netherlands', 11859), ('singled', 15945), ('setup', 15595), ('tentative', 17420), ('aren', 1183), ('harnessing', 7971), ('ditching', 5113), ('valentina', 18548), ('oei', 12212), ('tetsuzo', 17468), ('hokusai', 8335), ('woodblock', 19287), ('prints', 13560), ('edo', 5555), ('quirk', 13909), ('sweetnatured', 17113), ('disapproval', 4978), ('sexism', 15618), ('tea', 17315), ('talkshow', 17246), ('dials', 4872), ('1890', 78), ('coaxes', 3473), ('valet', 18550), ('towel', 17817), ('patissier', 12805), ('gloomy', 7460), ('easygoing', 5507), ('mainstream', 10604), ('medias', 10949), ('disparaging', 5062), ('portrayals', 13335), ('contribute', 3908), ('underrepresentation', 18264), ('females', 6537), ('positions', 13345), ('resolving', 14561), ('siyi', 15988), ('interfere', 9075), ('rb', 14101), ('joness', 9467), ('pancreatic', 12653), ('intact', 9050), ('oceanographer', 12193), ('sylvia', 17154), ('earles', 5481), ('overfishing', 12526), ('apollos', 1093), ('command', 3614), ('squadron', 16515), ('cardsharp', 2833), ('mitt', 11336), ('romney', 14915), ('bites', 2077), ('arabamerican', 1139), ('mo', 11350), ('amer', 907), ('mohammed', 11390), ('dynamics', 5465), ('gathering', 7271), ('espers', 5981), ('banagher', 1654), ('burne', 2620), ('gundam', 7782), ('colony', 3560), ('terraformed', 17432), ('postdisaster', 13363), ('allergy', 795), ('invisible', 9177), ('firsts', 6687), ('moesha', 11384), ('occasional', 12176), ('investing', 9170), ('flexible', 6765), ('chauffeurs', 3137), ('1812', 66), ('pursued', 13821), ('thirsting', 17548), ('mohenjo', 11393), ('daro', 4456), ('mechanics', 10936), ('chick', 3198), ('pastelcolored', 12781), ('molly', 11401), ('bloom', 2167), ('lofty', 10311), ('stepdaughter', 16652), ('furious', 7149), ('perpetrators', 12942), ('walked', 18871), ('salon', 15114), ('mailholding', 10599), ('promote', 13657), ('1953', 121), ('wellesley', 19038), ('measured', 10925), ('quo', 13917), ('maría', 10798), ('tequila', 17424), ('upper', 18473), ('craftspeople', 4109), ('garbage', 7247), ('dump', 5418), ('hatchett', 8005), ('asım', 1370), ('noyan', 12082), ('jin', 9405), ('draka', 5305), ('zoologist', 19586), ('mcgavin', 10899), ('behaviors', 1858), ('primates', 13544), ('khon', 9687), ('lazy', 10033), ('dimwitted', 4939), ('festive', 6568), ('witchs', 19236), ('clawdeen', 3383), ('howleen', 8499), ('fangtastic', 6391), ('gala', 7196), ('comet', 3600), ('nefera', 11812), ('normies', 12024), ('alike', 778), ('moanicas', 11351), ('lagoona', 9893), ('stein', 16646), ('skulltimate', 16025), ('clawd', 3382), ('deuce', 4824), ('afoot', 632), ('administrators', 538), ('merger', 11061), ('draculaura', 5291), ('whisked', 19100), ('frightfully', 7068), ('flaws', 6750), ('frenemy', 7040), ('spectra', 16385), ('vondergeist', 18816), ('spookery', 16467), ('ultracool', 18191), ('ghoul', 7367), ('nile', 11950), ('roost', 14933), ('scaris', 15240), ('screams', 15343), ('draculauras', 5292), ('ghoulfriends', 7368), ('suspicions', 17077), ('unbeating', 18217), ('vacant', 18535), ('goo', 7518), ('thumbs', 17608), ('temp', 17380), ('platoon', 13169), ('tentacled', 17419), ('rapid', 14053), ('imitates', 8723), ('chiyo', 3247), ('dig', 4915), ('conceptions', 3727), ('horticultural', 8448), ('hideaways', 8196), ('luxurious', 10509), ('botanical', 2314), ('pythons', 13848), ('supremely', 17022), ('comedys', 3598), ('terry', 17452), ('gilliam', 7395), ('livetotape', 10273), ('hiatus', 8185), ('tickled', 17627), ('ribs', 14704), ('phonetic', 13021), ('accent', 416), ('timing', 17665), ('penchant', 12880), ('crossdressing', 4220), ('judea', 9511), ('antiroman', 1057), ('zealots', 19539), ('alltime', 823), ('monzón', 11450), ('alicia', 774), ('muñiz', 11651), ('sarang', 15168), ('astronaut', 1358), ('crimeinfested', 4173), ('brainaddled', 2366), ('railway', 13976), ('estrangement', 6000), ('mila', 11173), ('morphle', 11484), ('heidelberg', 8110), ('mortified', 11494), ('chaturthi', 3134), ('moshe', 11498), ('kasher', 9626), ('oakland', 12129), ('uproarious', 18483), ('bossa', 2308), ('transitioned', 17906), ('iraqi', 9197), ('mosul', 11506), ('shuhei', 15840), ('erratic', 5952), ('awaken', 1517), ('distorted', 5099), ('towards', 17816), ('returnee', 14638), ('bhopal', 1987), ('solely', 16229), ('associated', 1340), ('fraudulent', 7005), ('ashram', 1290), ('paintbrush', 12620), ('motu', 11535), ('patlu', 12806), ('breathtaking', 2418), ('imagery', 8710), ('narration', 11721), ('viewers', 18701), ('summits', 16943), ('choreographers', 3266), ('shaping', 15676), ('eyepopping', 6295), ('sketchcomedy', 16001), ('collage', 3528), ('kentucky', 9668), ('fried', 7053), ('louie', 10416), ('schwartzberg', 15290), ('flowers', 6813), ('melissa', 11000), ('chan', 3059), ('cabdriver', 2680), ('temporary', 17389), ('redefines', 14253), ('longfellow', 10349), ('bigwig', 2021), ('pounce', 13393), ('worldrenowned', 19319), ('underperforming', 18261), ('mater', 10831), ('bullwinkle', 2579), ('peabody', 12849), ('sherman', 15729), ('foreclosure', 6890), ('hog', 8331), ('riches', 14714), ('1871', 74), ('shinmiyangyo', 15754), ('noblewoman', 11981), ('feng', 6548), ('shui', 15842), ('warning', 18924), ('fallen', 6361), ('gym', 7811), ('graduates', 7580), ('asleep', 1302), ('unmarried', 18370), ('wellconnected', 19035), ('tenderhearted', 17406), ('mercado', 11046), ('poignantly', 13234), ('mahir', 10590), ('mud', 11572), ('prejudice', 13458), ('specialist', 16375), ('costume', 4023), ('temper', 17381), ('pleas', 13189), ('mukhsin', 11583), ('tomboy', 17724), ('orked', 12429), ('inklings', 8976), ('begrudgingly', 1851), ('virgin', 18751), ('32', 252), ('bombings', 2245), ('healer', 8060), ('jassi', 9324), ('mune', 11601), ('successor', 16900), ('muppets', 11605), ('godfearing', 7486), ('pandit', 12659), ('kant', 9599), ('breakdown', 2408), ('reconciliation', 14208), ('jingle', 9406), ('nandas', 11702), ('hitchhikes', 8309), ('rope', 14937), ('nanda', 11701), ('paired', 12628), ('sources', 16313), ('artfully', 1255), ('humboldt', 8543), ('hairdresser', 7841), ('plucks', 13206), ('main', 10600), ('cyntoia', 4376), ('physiology', 13039), ('spouses', 16484), ('expupil', 6251), ('gulf', 7775), ('fart', 6421), ('seamy', 15370), ('louder', 10413), ('omars', 12290), ('ninetofivers', 11958), ('nemeses', 11836), ('brando', 2383), ('nuanced', 12088), ('lt', 10456), ('fletcher', 6762), ('hms', 8322), ('mutiny', 11648), ('ships', 15762), ('bligh', 2132), ('triggers', 17998), ('2013', 188), ('communal', 3648), ('uttar', 18532), ('zombies', 19582), ('beasties', 1804), ('regularly', 14331), ('stroke', 16812), ('relearns', 14379), ('impulse', 8798), ('kaul', 9643), ('blurred', 2192), ('hivpositive', 8318), ('swimmer', 17119), ('goryeo', 7545), ('proclaim', 13598), ('pessimistic', 12972), ('page', 12607), ('astronomer', 1360), ('relocated', 14404), ('highschoolers', 8234), ('cali', 2717), ('gio', 7404), ('reenters', 14276), ('taeo', 17201), ('commissioned', 3627), ('goebbels', 7491), ('georgian', 7340), ('announces', 1023), ('humanlike', 8534), ('hologram', 8356), ('prickly', 13534), ('fumbles', 7126), ('assertive', 1326), ('straighten', 16743), ('sexiest', 15617), ('selfie', 15474), ('kumiko', 9848), ('9yearold', 339), ('stopmotion', 16718), ('rj', 14806), ('anmol', 1012), ('successes', 16897), ('6monthold', 313), ('yearbook', 19440), ('sunset', 16963), ('shimmer', 15745), ('rainbow', 13980), ('applejack', 1109), ('sporting', 16473), ('counterparts', 4041), ('pony', 13292), ('everfree', 6048), ('pinkie', 13096), ('pie', 13060), ('rarity', 14067), ('fluttershy', 6818), ('vanishing', 18575), ('names', 11699), ('kinship', 9744), ('curiosityfueled', 4325), ('excursions', 6121), ('billions', 2039), ('kelp', 9658), ('twelve', 18122), ('manhood', 10678), ('cortez', 4008), ('pitches', 13122), ('amal', 879), ('authoritarian', 1462), ('cruelty', 4244), ('neglect', 11815), ('egotistic', 5585), ('refined', 14283), ('transferred', 17891), ('fistfights', 6699), ('stonewalled', 16713), ('higherups', 8210), ('theroux', 17520), ('nutritionist', 12118), ('chaebol', 3030), ('slept', 16068), ('introvert', 9138), ('cheery', 3161), ('extrovert', 6288), ('sued', 16910), ('emancipation', 5683), ('hypnosis', 8604), ('ramez', 14011), ('fawns', 6476), ('ironworks', 9210), ('possibly', 13357), ('bossman', 2310), ('longsuffering', 10361), ('declaring', 4570), ('archie', 1166), ('videotapes', 18689), ('reactions', 14109), ('junkies', 9549), ('riley', 14755), ('infatuation', 8912), ('eid', 5592), ('ayvalık', 1551), ('astray', 1353), ('silvio', 15900), ('berlusconi', 1935), ('putin', 13836), ('marilyn', 10749), ('frivolity', 7074), ('leaning', 10050), ('castanhari', 2922), ('facts', 6328), ('joel', 9432), ('commentary', 3622), ('mst3k', 11565), ('jonah', 9462), ('survives', 17061), ('blitz', 2144), ('cheesy', 3163), ('bluecollar', 2178), ('parlor', 12727), ('resolves', 14560), ('mortician', 11493), ('listen', 10247), ('feigns', 6519), ('mythic', 11664), ('orphanages', 12436), ('disguising', 5032), ('nadiya', 11682), ('hussain', 8578), ('delicious', 4656), ('shortcuts', 15803), ('favorites', 6472), ('todays', 17699), ('timestrapped', 17660), ('naked', 11695), ('gurus', 7799), ('transcending', 17888), ('bakers', 1617), ('edible', 5542), ('masterpieces', 10823), ('dessert', 4787), ('5000', 290), ('euro', 6016), ('nailed', 11689), ('youve', 19501), ('desserts', 4788), ('delightfully', 4659), ('fondant', 6854), ('duplicating', 5435), ('trophy', 18024), ('botswana', 2322), ('loyally', 10451), ('bellboy', 1879), ('dismay', 5050), ('londonborn', 10326), ('jasmeet', 9320), ('malhotra', 10643), ('western', 19064), ('arranges', 1231), ('jazzs', 9338), ('ballu', 1644), ('bassem', 1741), ('motivation', 11518), ('fractious', 6967), ('naomi', 11708), ('ely', 5676), ('setback', 15583), ('infamously', 8903), ('fuels', 7103), ('narcos', 11714), ('guadalajara', 7734), ('outwit', 12512), ('naruto', 11728), ('konohagakure', 9804), ('sasuke', 15177), ('raikage', 13973), ('hozuki', 8505), ('uzumaki', 18534), ('priestess', 13537), ('nin', 11954), ('ambushed', 904), ('temujin', 17397), ('exuberant', 6289), ('sakura', 15097), ('kakashi', 9581), ('crescent', 4161), ('natalia', 11736), ('oreiro', 12412), ('fuses', 7156), ('irreverence', 9216), ('reproductive', 14506), ('respecting', 14570), ('chiles', 3223), ('valdebenito', 18545), ('santiagos', 15163), ('teatro', 17334), ('caupolicán', 2966), ('onewoman', 12325), ('irony', 9211), ('soft', 16211), ('natalie', 11737), ('palamides', 12638), ('consent', 3827), ('viennese', 18694), ('basement', 1731), ('headlinemaking', 8048), ('ordering', 12404), ('microfilm', 11132), ('recipe', 14187), ('cookies', 3948), ('loosecannon', 10378), ('colt', 3571), ('bythebook', 2673), ('luger', 10478), ('redford', 14257), ('aweinspiring', 1531), ('stashed', 16604), ('shakespearean', 15649), ('ungrateful', 18321), ('fleeting', 6758), ('vitalyzdtv', 18782), ('roady', 14813), ('atwood', 1427), ('prankwood', 13429), ('custombuilt', 4346), ('attached', 1393), ('sneaky', 16156), ('orcas', 12390), ('owls', 12566), ('discovered', 5009), ('scans', 15231), ('patterns', 12815), ('significant', 15886), ('migrations', 11164), ('caribou', 2856), ('zebras', 19541), ('packham', 12594), ('geographical', 7333), ('reared', 14140), ('concentration', 3725), ('camps', 2759), ('buchenwald', 2541), ('ohrdruf', 12256), ('eisenhower', 5598), ('hardware', 7957), ('defenses', 4612), ('fortifications', 6928), ('uboats', 18174), ('missiles', 11306), ('ncis', 11783), ('naval', 11765), ('mandate', 10666), ('zha', 19557), ('imperil', 8756), ('soulbaring', 16299), ('chappelles', 3082), ('cocreator', 3489), ('neal', 11786), ('brennan', 2426), ('rapist', 14057), ('evades', 6025), ('unnerving', 18373), ('mechabutler', 10932), ('kaz', 9647), ('kaan', 9569), ('neo', 11838), ('yokios', 19471), ('ikari', 8677), ('leftist', 10081), ('neruda', 11847), ('wills', 19170), ('upandcoming', 18453), ('unlike', 18361), ('indianamerican', 8857), ('rebounding', 14163), ('gabi', 7175), ('hookup', 8407), ('creeps', 4158), ('experienced', 6201), ('displayed', 5077), ('affected', 615), ('cris', 4188), ('mai', 10594), ('250000', 232), ('unearthing', 18285), ('reggaeton', 14314), ('jams', 9302), ('scamming', 15225), ('viable', 18663), ('securing', 15401), ('juvenile', 9562), ('environmentalists', 5903), ('explosives', 6235), ('ecoterrorism', 5532), ('lifts', 10197), ('veil', 18610), ('bats', 1760), ('crews', 4164), ('climbed', 3414), ('dived', 5119), ('froze', 7088), ('documentarys', 5161), ('sunlit', 16959), ('trolling', 18018), ('telepath', 17369), ('yerim', 19454), ('nightmarish', 11943), ('increased', 8831), ('exasperated', 6090), ('flanner', 6732), ('nikki', 11948), ('glaser', 7426), ('spare', 16349), ('mature', 10855), ('gravitates', 7627), ('ozunu', 12579), ('raizo', 13989), ('mitsubas', 11335), ('turtle', 18108), ('venus', 18635), ('milo', 11209), ('counterpart', 4040), ('alberto', 736), ('nisman', 11969), ('israelite', 9244), ('association', 1342), ('elixir', 5649), ('bequeathed', 1924), ('veterinary', 18658), ('horseracing', 8445), ('sexist', 15619), ('dylans', 5463), ('sideways', 15870), ('sora', 16284), ('disboard', 4991), ('machina', 10533), ('skipping', 16018), ('lall', 9905), ('temptation', 17391), ('nieces', 11928), ('artemis', 1253), ('dynamo', 5466), ('straitjacketed', 16748), ('evie', 6063), ('endofdays', 5784), ('crackpot', 4102), ('venice', 18626), ('upperclassmen', 18477), ('recluse', 14198), ('nurturing', 12113), ('intends', 9058), ('offline', 12240), ('hogans', 8332), ('gawker', 7277), ('critics', 4203), ('angelus', 991), ('systems', 17171), ('exhusbands', 6152), ('destabilizes', 4789), ('susans', 17067), ('upending', 18462), ('toyland', 17827), ('noddy', 11985), ('wiser', 19225), ('stressed', 16789), ('8thcentury', 328), ('mill', 11195), ('parsons', 12737), ('hale', 7852), ('grappled', 7614), ('diaries', 4878), ('theologian', 17510), ('hull', 8524), ('impressionistic', 8787), ('slow', 16093), ('descent', 4756), ('blindness', 2135), ('pops', 13309), ('biographical', 2048), ('evangelical', 6029), ('edir', 5546), ('macedo', 10531), ('avian', 1504), ('aptitude', 1133), ('examples', 6087), ('puzzlesolving', 13841), ('parrots', 12735), ('astrophysicists', 1364), ('radiation', 13942), ('chariot', 3095), ('millennia', 11197), ('drilling', 5347), ('crater', 4123), ('asteroid', 1348), ('cassini', 2920), ('saturn', 15190), ('eclipse', 5524), ('storms', 16729), ('tusks', 18110), ('weaponry', 18979), ('expeditions', 6197), ('13000yearold', 32), ('skeleton', 15997), ('lithuania', 10257), ('dug', 5413), ('floods', 6795), ('predict', 13447), ('lengthy', 10110), ('correct', 3997), ('forecasting', 6889), ('flourishing', 6810), ('predictions', 13450), ('statistics', 16617), ('algorithms', 768), ('reliability', 14389), ('armorer', 1217), ('rediscovering', 14260), ('metalworking', 11090), ('relying', 14411), ('rovers', 14964), ('ontheground', 12333), ('responders', 14574), ('anguish', 999), ('unfolded', 18311), ('nov', 12068), ('progress', 13641), ('treading', 17943), ('uneasy', 18290), ('waxing', 18966), ('passage', 12766), ('1970', 133), ('rockumentary', 14860), ('halloffame', 7872), ('jazzrock', 9337), ('charttopping', 3118), ('dauntless', 4475), ('socialist', 16192), ('uphill', 18467), ('diving', 5130), ('tattooed', 17303), ('auschwitz', 1451), ('rikuo', 14753), ('yokai', 19470), ('relies', 14394), ('meds', 10964), ('exhausting', 6147), ('selfdiagnosed', 15468), ('nymphomaniac', 12123), ('lars', 9957), ('triers', 17992), ('reignited', 14342), ('schoolmates', 15281), ('type', 18157), ('oasis', 12130), ('noel', 11986), ('gallagher', 7206), ('causeandeffect', 2968), ('interplay', 9093), ('intruders', 9139), ('initiates', 8966), ('silk', 15894), ('glove', 7466), ('restart', 14581), ('sinatra', 15927), ('downright', 5273), ('deloris', 4668), ('viv', 18788), ('geoff', 7332), ('explorers', 6229), ('octonauts', 12198), ('combs', 3588), ('caves', 2978), ('swarms', 17096), ('coraleating', 3975), ('starfish', 16581), ('oddsville', 12205), ('dressed', 5341), ('spookycostume', 16471), ('oddbods', 12202), ('bubbless', 2537), ('naughtyornice', 11763), ('zaps', 19530), ('jeopardizing', 9364), ('settop', 15594), ('domino', 5209), ('ease', 5500), ('freewheeling', 7031), ('insightful', 9012), ('uselessness', 18513), ('degrees', 4637), ('swayed', 17099), ('spaniards', 16343), ('advertised', 594), ('amaia', 877), ('baztan', 1780), ('worthiness', 19337), ('terrence', 17435), ('downe', 5266), ('scientifically', 15296), ('supercop', 16969), ('jan', 9303), ('hacks', 7831), ('obstetrician', 12170), ('thirties', 17551), ('wimpy', 19177), ('oggy', 12248), ('snooze', 16166), ('bothered', 2319), ('cockroaches', 3482), ('replacing', 14486), ('confidently', 3768), ('libidinous', 10166), ('haughty', 8014), ('ghostbusting', 7364), ('lurk', 10496), ('taew', 17203), ('mod', 11369), ('dum', 5417), ('cartoons', 2901), ('communicates', 3651), ('shopkeeper', 15788), ('kanji', 9596), ('bhai', 1980), ('lawsuit', 10020), ('policy', 13260), ('cover', 4076), ('grownups', 7722), ('concoction', 3737), ('yuck', 19503), ('mates', 10837), ('ickiest', 8627), ('geriatrics', 7347), ('andrei', 969), ('aloof', 839), ('schoolmate', 15280), ('ramona', 14013), ('anemona', 980), ('septuagenarian', 15546), ('snapped', 16145), ('upperclass', 18475), ('exflames', 6140), ('ethics', 6008), ('timothy', 17667), ('mcveighs', 10911), ('1900', 90), ('munich', 11602), ('brewer', 2431), ('curt', 4336), ('dominate', 5199), ('oktoberfest', 12263), ('cerrado', 3024), ('savanna', 15200), ('deforestation', 4622), ('backstabbing', 1579), ('blackmail', 2096), ('underreported', 18263), ('snail', 16139), ('salma', 15112), ('monitored', 11424), ('247', 226), ('surveillance', 17055), ('mystic', 11658), ('parental', 12708), ('dysfunction', 5469), ('innercity', 8983), ('drugrelated', 5383), ('offense', 12222), ('stefano', 16645), ('cucchi', 4282), ('transitions', 17908), ('regular', 14330), ('neill', 11830), ('10year', 16), ('retreats', 14628), ('ezra', 6301), ('standout', 16567), ('meighan', 10989), ('sergio', 15560), ('pizzorno', 13138), ('20plus', 206), ('moby', 11362), ('guitarist', 7772), ('rodgers', 14866), ('sessions', 15581), ('onerepublic', 12320), ('tlc', 17694), ('demolition', 4688), ('youssef', 19495), ('disciple', 4995), ('sect', 15398), ('tutelage', 18112), ('temperamental', 17382), ('sage', 15078), ('ushering', 18518), ('outlived', 12492), ('compassion', 3669), ('shoaib', 15773), ('pressing', 13504), ('spaghetti', 16339), ('flinty', 6780), ('gunslinger', 7790), ('railroad', 13974), ('transamerican', 17885), ('solicits', 16231), ('overlooked', 12534), ('latina', 9977), ('branch', 2378), ('spurlock', 16503), ('combination', 3584), ('ar', 1138), ('rahman', 13966), ('satnam', 15187), ('bhamara', 1981), ('indiaborn', 8854), ('boozefueled', 2292), ('vancouver', 18566), ('dentist', 4709), ('infertility', 8919), ('assisted', 1338), ('reproduction', 14505), ('disappointment', 4977), ('disharmony', 5035), ('ostracism', 12453), ('ultraorthodox', 18196), ('athleteturnedsportscaster', 1378), ('flex', 6763), ('breanna', 2416), ('luffy', 10477), ('straw', 16768), ('jeongin', 9361), ('jiho', 9398), ('6th', 314), ('senbatsu', 15511), ('ennui', 5840), ('izmir', 9264), ('crimeboss', 4169), ('flies', 6768), ('supervise', 17002), ('ware', 18911), ('domesticated', 5196), ('perennially', 12916), ('pestered', 12973), ('musics', 11638), ('onehit', 12312), ('crimeplagued', 4174), ('aide', 678), ('airborne', 697), ('pave', 12827), ('map', 10719), ('adventurers', 587), ('trekked', 17959), ('klondike', 9765), ('mekong', 10994), ('ending', 5780), ('arouses', 1228), ('operator', 12355), ('drs', 5373), ('xand', 19398), ('tulleken', 18073), ('educate', 5558), ('yiseuls', 19466), ('baekho', 1601), ('evacuate', 6023), ('yemen', 19451), ('sympathetic', 17160), ('kwangtung', 9861), ('tigers', 17640), ('chiaosan', 3190), ('opium', 12360), ('exonerated', 6173), ('weeds', 19006), ('civic', 3332), ('pickpockets', 13053), ('onemonthold', 12316), ('punkrock', 13802), ('biryani', 2072), ('plate', 13164), ('hazards', 8035), ('marauding', 10725), ('chickens', 3200), ('adversaries', 591), ('unveil', 18436), ('implant', 8766), ('beta', 1954), ('yields', 19460), ('induces', 8879), ('timecompressed', 17654), ('explanations', 6216), ('modus', 11382), ('operandi', 12347), ('kuttappayi', 9858), ('tommaso', 17728), ('buscetta', 2634), ('toplevel', 17750), ('testify', 17459), ('generate', 7304), ('wireless', 19216), ('dumps', 5420), ('lovechallenged', 10427), ('bookshop', 2272), ('scope', 15308), ('produce', 13607), ('heres', 8163), ('percussions', 12912), ('merits', 11063), ('canon', 2784), ('addie', 517), ('platonically', 13168), ('alleviate', 796), ('loneliness', 10332), ('blossom', 2169), ('haruhi', 7987), ('ouran', 12468), ('guerrillas', 7752), ('yield', 19459), ('tortured', 17776), ('brainwashed', 2372), ('australias', 1458), ('bigrig', 2018), ('wildfires', 19152), ('downpours', 5272), ('chassisdeep', 3124), ('haves', 8022), ('havenots', 8021), ('gabaldons', 7172), ('fantasyromance', 6401), ('timecrossed', 17655), ('exroyal', 6255), ('38yearold', 263), ('advocated', 603), ('android', 973), ('bastian', 1745), ('notsocheery', 12063), ('province', 13723), ('advisors', 601), ('pounds', 13396), ('carves', 2903), ('adviser', 598), ('ozarks', 12578), ('launder', 9995), ('500', 289), ('appease', 1106), ('grandma', 7599), ('orchestrated', 12395), ('duck', 5401), ('wombat', 19268), ('chumpkins', 3297), ('tumor', 18078), ('paan', 12581), ('tomar', 17720), ('brigand', 2452), ('planned', 13155), ('skydwelling', 16028), ('sinning', 15961), ('botch', 2317), ('wellintentioned', 19042), ('theyyam', 17528), ('conceals', 3722), ('abortions', 384), ('practitioner', 13417), ('crayons', 4127), ('drugtrafficking', 5386), ('druglord', 5382), ('eyewitness', 6298), ('pac', 12583), ('pacworld', 12601), ('betrayus', 1963), ('pacenstein', 12585), ('cyli', 4371), ('pacula', 12600), ('statue', 16618), ('andean', 960), ('shaman', 15656), ('covert', 4080), ('perus', 12968), ('coastline', 3469), ('humiliation', 8548), ('markets', 10762), ('hygienic', 8596), ('lowcost', 10441), ('sanitary', 15151), ('pad', 12603), ('poorest', 13300), ('superstitions', 16997), ('underbelly', 18248), ('statwart', 16621), ('vijaydan', 18706), ('detha', 4817), ('nepal', 11842), ('profitseekers', 13634), ('fictionalized', 6588), ('plunge', 13209), ('hustling', 8582), ('despairing', 4779), ('blame', 2112), ('yus', 19516), ('peking', 12879), ('pajanimals', 12633), ('roberto', 14833), ('palazuelos', 12641), ('siena', 15874), ('forum', 6936), ('ofelia', 12214), ('faun', 6466), ('influenza', 8938), ('lowly', 10448), ('imminent', 8734), ('catandmouse', 2945), ('burglars', 2614), ('maratha', 10722), ('afghan', 627), ('lebanons', 10069), ('paradoxes', 12682), ('stemming', 16649), ('lied', 10173), ('stan', 16560), ('amazingly', 893), ('paprika', 12677), ('paquita', 12678), ('mehdi', 10987), ('moonlights', 11459), ('bumble', 2582), ('squabble', 16512), ('snort', 16167), ('neil', 11829), ('sow', 16327), ('seeds', 15413), ('daryl', 4459), ('playground', 13178), ('hematologist', 8146), ('plunged', 13210), ('inexplicable', 8899), ('unwillingly', 18442), ('gotoguy', 7554), ('investigations', 9166), ('micah', 11120), ('ouija', 12467), ('communicating', 3652), ('parasites', 12700), ('migi', 11158), ('docile', 5150), ('parasitic', 12701), ('parchís', 12705), ('companycreated', 3665), ('boygirl', 2354), ('balls', 1643), ('sustenance', 17082), ('whatifs', 19077), ('sassier', 15175), ('dirtier', 4963), ('insisting', 9014), ('fliegender', 6767), ('zirkus', 19573), ('probing', 13586), ('fingablast', 6659), ('slizzard', 16086), ('paskal', 12764), ('cutter', 4356), ('rane', 14034), ('delivered', 4663), ('trends', 17964), ('como', 3659), ('considerate', 3835), ('remove', 14438), ('microchips', 11131), ('highlighting', 8217), ('18541867', 70), ('foundational', 6946), ('flatlining', 6740), ('sunday', 16952), ('spoiling', 16457), ('screenplay', 15346), ('farcical', 6406), ('craziness', 4132), ('patton', 12818), ('oswalt', 12456), ('glut', 7470), ('dread', 5325), ('dennys', 4706), ('proms', 13664), ('clown', 3445), ('miserly', 11287), ('amount', 926), ('embarrassment', 5691), ('particularly', 12746), ('harrison', 7978), ('corey', 3981), ('appraise', 1117), ('expensive', 6199), ('parikshit', 12715), ('jayesh', 9335), ('parag', 12683), ('bhavesh', 1984), ('applicants', 1110), ('cremation', 4160), ('mortuary', 11495), ('1919', 97), ('birmingham', 2066), ('feudalistic', 6573), ('revolt', 14677), ('oppressed', 12371), ('adventurefilled', 584), ('starck', 16577), ('18000kilometer', 63), ('maks', 10626), ('nak', 11694), ('manganiello', 10674), ('peewee', 12877), ('masses', 10814), ('childlike', 3215), ('avalanche', 1488), ('skates', 15994), ('glides', 7439), ('carols', 2877), ('charo', 3112), ('indigent', 8863), ('subsidy', 16883), ('suspension', 17075), ('oncelegendary', 12300), ('exmovie', 6171), ('pusher', 13831), ('cochlear', 3479), ('implants', 8767), ('nationally', 11748), ('manipuri', 10690), ('background', 1574), ('qualifier', 13863), ('superfan', 16970), ('seclusion', 15388), ('penguin', 12884), ('skipper', 16017), ('kowalski', 9823), ('rico', 14724), ('suave', 16864), ('powermad', 13409), ('octavius', 12196), ('brine', 2462), ('dorian', 5239), ('woven', 19344), ('remakes', 14416), ('stretch', 16792), ('policewoman', 13257), ('longrunning', 10357), ('ro', 14808), ('scent', 15257), ('glands', 7425), ('excised', 6107), ('menstruation', 11035), ('pads', 12606), ('stride', 16798), ('reese', 14278), ('finch', 6647), ('critically', 4201), ('medium', 10963), ('shopper', 15792), ('pete', 12976), ('davidson', 4478), ('hilltop', 8264), ('vermont', 18644), ('backbreaking', 1567), ('grizzled', 7695), ('organic', 12415), ('dunning', 5430), ('rascally', 14070), ('veggies', 18606), ('mcgregors', 10902), ('pettersson', 12986), ('findus', 6653), ('highlands', 8214), ('1126', 20), ('madman', 10555), ('beckett', 1822), ('wrongful', 19382), ('termination', 17430), ('ajay', 711), ('ria', 14702), ('disfiguring', 5026), ('festering', 6566), ('4bia', 283), ('swapping', 17093), ('participant', 12740), ('menstruating', 11034), ('braves', 2393), ('stigmas', 16683), ('napkins', 11710), ('labrador', 9876), ('puppies', 13810), ('20month', 205), ('chasm', 3123), ('spellbinding', 16397), ('psychosexual', 13754), ('ann', 1013), ('opts', 12383), ('twoyearold', 18150), ('usaustralian', 18509), ('pine', 13091), ('fissures', 6697), ('stoned', 16710), ('server', 15572), ('unjustly', 18351), ('attacker', 1397), ('defended', 4606), ('pinkfong', 13095), ('pinky', 13098), ('malinky', 10647), ('wiener', 19140), ('guileless', 7762), ('preserved', 13490), ('1915', 96), ('1946', 114), ('restores', 14589), ('transcended', 17887), ('thakur', 17485), ('avadh', 1484), ('scrape', 15337), ('convictions', 3935), ('hardscrabble', 7952), ('pj', 13139), ('masks', 10808), ('aamir', 342), ('rajkumar', 13997), ('hirani', 8282), ('blossoms', 2171), ('waning', 18901), ('reminiscent', 14428), ('suburbia', 16891), ('treated', 17949), ('diversity', 5124), ('himalayan', 8266), ('everywhere', 6059), ('sakaar', 15095), ('musclebound', 11624), ('slavery', 16047), ('preworld', 13525), ('purport', 13818), ('sergeants', 15558), ('semiautobiographical', 15504), ('writerdirector', 19370), ('oliver', 12277), ('romania', 14902), ('coaching', 3463), ('soothe', 16278), ('chambers', 3050), ('ubisoft', 18173), ('offices', 12234), ('vandenberghes', 18570), ('pnl', 13216), ('hypnotic', 8605), ('visuals', 18779), ('dans', 4433), ('légende', 10522), ('bercy', 1925), ('pocoyo', 13223), ('richly', 14719), ('pocoyos', 13224), ('spooked', 16466), ('golf', 7508), ('goh', 7495), ('fellows', 6532), ('cerises', 3022), ('pokémon', 13245), ('pikachu', 13075), ('hooh', 8400), ('fula', 7110), ('alola', 834), ('ketchum', 9674), ('aim', 686), ('ashs', 1291), ('misty', 11326), ('brock', 2484), ('mewtwo', 11106), ('artificially', 1265), ('polaroid', 13248), ('afterward', 643), ('shrink', 15835), ('polly', 13278), ('petite', 12981), ('rehabilitate', 14333), ('trustworthy', 18054), ('fourpanel', 6955), ('popuko', 13310), ('pipimi', 13110), ('stomp', 16708), ('wim', 19176), ('wenders', 19054), ('pontiffs', 13290), ('humanist', 8528), ('wrecks', 19358), ('superstrong', 17000), ('sailor', 15087), ('popeye', 13304), ('washes', 18943), ('ashore', 1288), ('rooming', 14928), ('oyl', 12576), ('popple', 13307), ('pororo', 13320), ('loopy', 10376), ('beaver', 1818), ('poby', 13220), ('crong', 4208), ('brownstein', 2517), ('ore', 12410), ('artisanal', 1267), ('bulbs', 2572), ('bookstores', 2274), ('portuguese', 13338), ('resonating', 14562), ('1987', 152), ('fixture', 6717), ('blanca', 2116), ('spells', 16400), ('revelers', 14656), ('capsizes', 2805), ('scholastic', 15271), ('brusque', 2523), ('raconteur', 13939), ('faints', 6340), ('stunned', 16849), ('promoting', 13659), ('vasectomies', 18587), ('alreadydelicate', 851), ('bigfoot', 2009), ('jino', 9411), ('bluewill', 2184), ('butting', 2657), ('stuntman', 16853), ('figuresized', 6612), ('energems', 5797), ('sledge', 16054), ('returned', 14637), ('accomplished', 437), ('dino', 4944), ('gems', 7295), ('enabling', 5755), ('mesogog', 11074), ('turbo', 18091), ('tj', 17693), ('cassie', 2919), ('ashley', 1287), ('zordon', 19587), ('specter', 16384), ('rumble', 15004), ('graves', 7625), ('mariner', 10752), ('lightspeed', 10203), ('quasar', 13875), ('sabers', 15054), ('scorpius', 15319), ('unleashed', 18356), ('sorceress', 16287), ('udonna', 18175), ('empowers', 5746), ('galvanax', 7213), ('lothor', 10407), ('shane', 15661), ('waldo', 18868), ('dillon', 4932), ('troobian', 18020), ('bsquad', 2532), ('delta', 4669), ('morphs', 11485), ('squash', 16520), ('symbols', 17159), ('shiba', 15735), ('rpm', 14978), ('xandreds', 19400), ('mooger', 11454), ('creepiest', 4157), ('netherworld', 11860), ('megaforce', 10977), ('vekar', 18611), ('augments', 1443), ('vrak', 18830), ('mavro', 10868), ('armada', 1210), ('xandred', 19399), ('serrator', 15566), ('megazords', 10986), ('nighlok', 11936), ('illusion', 8697), ('ransik', 14047), ('divatox', 5116), ('divazords', 5117), ('org', 12413), ('morphin', 11483), ('acquired', 467), ('zeo', 19552), ('scariest', 15239), ('conjures', 3800), ('robo', 14837), ('donated', 5214), ('ramblings', 14008), ('lynchpin', 10516), ('frights', 7069), ('hiddencamera', 8192), ('fullblown', 7116), ('capras', 2801), ('authoritarianism', 1463), ('liberty', 10165), ('prior', 13561), ('coronation', 3987), ('stern', 16670), ('springboard', 16494), ('fda', 6481), ('wander', 18895), ('fran', 6976), ('lebowitz', 10071), ('scorsese', 15320), ('heartstrings', 8085), ('bloodspattered', 2160), ('studious', 16838), ('teddys', 17348), ('missed', 11304), ('snowed', 16172), ('emil', 5714), ('moose', 11462), ('printing', 13559), ('options', 12382), ('sliver', 16085), ('stepniece', 16659), ('data', 4465), ('oceanside', 12195), ('addison', 519), ('montgomery', 11442), ('holistic', 8347), ('disguise', 5029), ('courted', 4064), ('wellestablished', 19040), ('amendment', 906), ('prohibiting', 13643), ('repeal', 14476), ('mocked', 11365), ('rebuffed', 14165), ('erodes', 5947), ('mckeyla', 10908), ('supersmart', 16990), ('pauses', 12826), ('exsoldier', 6256), ('pill', 13084), ('autistic', 1469), ('badminton', 1599), ('skateboarder', 15992), ('archeryclub', 1164), ('ferencz', 6550), ('nuremberg', 12105), ('gem', 7293), ('masquerades', 10810), ('gullible', 7777), ('garus', 7259), ('pucca', 13768), ('madoka', 10557), ('kaname', 9589), ('fanbase', 6385), ('couture', 4074), ('handbag', 7892), ('puffin', 13773), ('puffling', 13775), ('oona', 12337), ('baba', 1556), ('code', 3490), ('61', 311), ('stylized', 16863), ('burgerloving', 2611), ('philosophical', 13013), ('misjudged', 11297), ('labeled', 9871), ('rebarkable', 14153), ('cutest', 4354), ('cuddliest', 4284), ('dognapped', 5179), ('musicfilled', 11633), ('yorkie', 19480), ('replaces', 14485), ('pooches', 13295), ('wrath', 19351), ('busted', 2647), ('tumbling', 18076), ('humpty', 8553), ('dumpty', 5421), ('softpaws', 16214), ('accounting', 442), ('onceidyllic', 12297), ('removed', 14439), ('commitmentphobe', 3635), ('questioning', 13889), ('quentin', 13885), ('35yearold', 258), ('quarterbacks', 13870), ('landowner', 9934), ('statesman', 16611), ('shang', 15662), ('enact', 5756), ('reforms', 14293), ('chandigarh', 3064), ('realms', 14132), ('audiovisual', 1437), ('hardstyle', 7955), ('qlimax', 13856), ('javier', 9330), ('implicates', 8770), ('trainee', 17871), ('parrish', 12733), ('hour', 8480), ('2006s', 179), ('royale', 14975), ('infiltrated', 8924), ('mi6', 11116), ('verdis', 18641), ('sours', 16314), ('33yearold', 255), ('bounds', 2334), ('gertrude', 7354), ('turnofthecentury', 18106), ('sono', 16270), ('ism', 9233), ('unturned', 18432), ('pitting', 13131), ('fab', 6302), ('advise', 597), ('grooming', 7704), ('neardrowning', 11791), ('imitate', 8722), ('stockholm', 16702), ('suburb', 16889), ('welladjusted', 19033), ('wedemeyer', 19002), ('gehrigs', 7290), ('sharpshooting', 15692), ('shrunk', 15837), ('wonderfilled', 19273), ('item', 9255), ('goods', 7524), ('nebbish', 11799), ('americaneducated', 911), ('scion', 15302), ('retire', 14617), ('swindled', 17122), ('luster', 10501), ('thickens', 17532), ('halfbrothers', 7856), ('ranvir', 14049), ('dadá', 4391), ('figueiredo', 6609), ('trendsetting', 17965), ('lends', 10108), ('unpopular', 18381), ('valve', 18562), ('radium', 13949), ('bessie', 1944), ('raees', 13952), ('gujarats', 7774), ('banaś', 1656), ('michał', 11123), ('leja', 10101), ('offcolor', 12219), ('rafinha', 13956), ('bastos', 1747), ('lamotta', 9916), ('undone', 18281), ('sensuous', 15530), ('rigged', 14743), ('raginis', 13964), ('sleazy', 16052), ('pollution', 13276), ('melting', 11007), ('glaciers', 7420), ('labyrinth', 9878), ('occupation', 12179), ('savant', 15201), ('raymond', 14097), ('mistreated', 11322), ('teddy', 17347), ('choco', 3251), ('developmentally', 4837), ('fonz', 6856), ('kinky', 9743), ('partnerincrime', 12750), ('gujarat', 7773), ('resentful', 14532), ('internetrookie', 9088), ('cleaver', 3395), ('exdruggie', 6125), ('loathed', 10286), ('grasp', 7618), ('videogame', 18685), ('ralph', 14003), ('vanellope', 18571), ('ralphie', 14004), ('waffles', 18844), ('maui', 10858), ('pioneering', 13106), ('dass', 4464), ('calcutta', 2711), ('ramen', 14010), ('masato', 10800), ('retrace', 14624), ('lonewolf', 10337), ('williamson', 19163), ('cheong', 3174), ('envoy', 5907), ('chameleon', 3051), ('rango', 14040), ('indoburma', 8869), ('qawwal', 13849), ('hiphops', 8278), ('1947', 115), ('ratched', 14075), ('exterior', 6267), ('ratones', 14081), ('paranoicos', 12696), ('featured', 6497), ('icky', 8628), ('snakebite', 16141), ('repay', 14475), ('sundown', 16955), ('quebec', 13878), ('romano', 14905), ('cellar', 2999), ('23', 221), ('sweep', 17106), ('20thcentury', 211), ('sultanate', 16935), ('eleven', 5636), ('restrained', 14591), ('atsushi', 1392), ('tamura', 17257), ('salman', 15113), ('perfume', 12929), ('cadre', 2690), ('2000', 172), ('supermarket', 16980), ('bombs', 2246), ('schneider', 15267), ('fighterturnedpromoter', 6606), ('oldgeneration', 12271), ('contender', 3877), ('postgrad', 13366), ('outandproud', 12471), ('imposing', 8776), ('firmly', 6681), ('plato', 13166), ('seminar', 15506), ('psychodrama', 13746), ('seduction', 15409), ('cybersuperheroes', 4363), ('mikey', 11171), ('unreliable', 18394), ('stepbrother', 16651), ('dale', 4402), ('mage', 10567), ('siluca', 15897), ('wanders', 18897), ('atlatan', 1384), ('errant', 5951), ('theo', 17508), ('farmingbased', 6416), ('paratroopers', 12703), ('systematically', 17169), ('rabindranath', 13924), ('tagore', 17207), ('notice', 12055), ('parallels', 12688), ('nazioccupied', 11777), ('sciencefiction', 15292), ('assumed', 1345), ('grades', 7576), ('cairos', 2702), ('exists', 6161), ('innovator', 8992), ('grits', 7692), ('yates', 19434), ('unifying', 18332), ('principles', 13556), ('regiments', 14320), ('scots', 15324), ('magazines', 10566), ('capper', 2800), ('rechristens', 14186), ('reggae', 14313), ('cloaked', 3427), ('bluesman', 2182), ('jara', 9317), ('1973', 137), ('symbol', 17156), ('tonight', 17736), ('showband', 15815), ('cooke', 3946), ('drew', 5342), ('contributed', 3909), ('33', 254), ('nixons', 11971), ('rundmc', 15013), ('1976', 140), ('marley', 10764), ('zev', 19556), ('tylers', 18156), ('strained', 16746), ('unveiling', 18437), ('extracts', 6275), ('fixated', 6711), ('humiliate', 8545), ('rapists', 14058), ('shi', 15734), ('reviving', 14676), ('combustible', 3589), ('cellist', 3001), ('welsh', 19052), ('supersoldier', 16991), ('alice', 773), ('sanctuary', 15138), ('spur', 16502), ('residente', 14545), ('script', 15351), ('gentrified', 7329), ('wendy', 19055), ('whelan', 19085), ('likeminded', 10208), ('endangers', 5775), ('13thcentury', 34), ('sultans', 16936), ('andes', 963), ('artisans', 1268), ('disillusion', 5043), ('scammer', 15224), ('gangraped', 7240), ('supporters', 17013), ('lid', 10171), ('overturn', 12555), ('roe', 14871), ('shibuya', 15737), ('timewarps', 17662), ('2388', 222), ('daisuke', 4397), ('conscripted', 3825), ('ahrv', 673), ('revisions', 14668), ('roald', 14814), ('dahl', 4393), ('illustrator', 8703), ('blake', 2111), ('thirdgeneration', 17545), ('emptiness', 5748), ('albanian', 734), ('rezeta', 14693), ('daisy', 4398), ('snackable', 16135), ('snapworthy', 16148), ('rhys', 14699), ('nicholson', 11918), ('flexes', 6764), ('tranquilizers', 17881), ('harris', 7977), ('cardi', 2828), ('ricardo', 14708), ('ofarrill', 12213), ('observational', 12155), ('sarcasm', 15169), ('specific', 16380), ('sensibility', 15527), ('expressive', 6249), ('astute', 1367), ('sensibilities', 15526), ('tease', 17330), ('unscathed', 18405), ('droll', 5360), ('quevedo', 13893), ('teto', 17465), ('paula', 12820), ('pryors', 13738), ('richie', 14718), ('trillion', 17999), ('nonstop', 12007), ('slings', 16080), ('snark', 16149), ('blowout', 2174), ('weirdos', 19025), ('suggesting', 16920), ('kaoru', 9602), ('rilakkuma', 14754), ('endearingly', 5776), ('fuzzy', 7167), ('pandharpur', 12658), ('blessing', 2128), ('suffocating', 16916), ('andries', 972), ('riphagen', 14768), ('ripper', 14769), ('ottoman', 12466), ('sultan', 16934), ('mehmed', 10988), ('byzantine', 2675), ('constantinople', 3849), ('transformations', 17897), ('14th', 38), ('trails', 17868), ('matrimonial', 10845), ('endlessly', 5783), ('paralympic', 12689), ('fares', 6408), ('auctioned', 1431), ('bidders', 2001), ('atlético', 1385), ('plates', 13165), ('haruna', 7988), ('yamada', 19423), ('unreasonably', 18392), ('riverdale', 14799), ('krumping', 9837), ('originated', 12425), ('threatening', 17578), ('overpower', 12540), ('alfonso', 765), ('cuarón', 4274), ('roma', 14896), ('presses', 13503), ('repair', 14470), ('gandhi', 7232), ('victoria', 18676), ('izu', 9265), ('longrepressed', 10356), ('discord', 5005), ('bigtime', 2020), ('pong', 13287), ('pif', 13070), ('saviano', 15206), ('gomorrah', 7512), ('exposé', 6244), ('nottingham', 12066), ('hood', 8396), ('brooms', 2501), ('robocar', 14838), ('poli', 13251), ('robotruck', 14845), ('robotechnology', 14841), ('homemade', 8366), ('siffredi', 15876), ('showcased', 15818), ('defect', 4603), ('stallion', 16557), ('lifethreatening', 10190), ('fulfilling', 7113), ('rocko', 14857), ('otown', 12463), ('sylvester', 17153), ('stallone', 16558), ('balboa', 1627), ('creed', 4154), ('publicity', 13763), ('stunt', 16852), ('climax', 3412), ('reigning', 14340), ('pounding', 13395), ('humbled', 8542), ('exrival', 6254), ('regaining', 14305), ('pulverized', 13785), ('rockys', 14862), ('careerless', 2840), ('carrington', 2886), ('poking', 13244), ('gaining', 7193), ('guenveur', 7749), ('beating', 1810), ('sponsored', 16460), ('corporations', 3993), ('assembled', 1322), ('steubenville', 16673), ('paraplegic', 12699), ('cordell', 3978), ('denver', 4711), ('alchemic', 740), ('rolling', 14895), ('revue', 14684), ('ripe', 14767), ('reinvention', 14358), ('commodus', 3643), ('romes', 14914), ('naturally', 11758), ('sonoko', 16271), ('tetsuo', 17466), ('editorinchief', 5552), ('esra', 5986), ('quits', 13914), ('didem', 4894), ('cem', 3003), ('costar', 4019), ('leadup', 10041), ('camping', 2758), ('tater', 17299), ('salad', 15100), ('cynicism', 4373), ('colemans', 3523), ('ronny', 14921), ('chieng', 3205), ('asians', 1296), ('haeryung', 7836), ('historians', 8295), ('dominique', 5208), ('strausskahn', 16767), ('lotterysquandering', 10410), ('32yearold', 253), ('sublets', 16873), ('disarmingly', 4983), ('creepy', 4159), ('braid', 2364), ('broom', 2499), ('dogphobic', 5181), ('mielle', 11153), ('hydrocephalus', 8594), ('classical', 3368), ('rodeo', 14865), ('councilman', 4030), ('scovel', 15331), ('unfocused', 18309), ('mystify', 11660), ('thong', 17559), ('vengeanceobsessed', 18624), ('welloff', 19046), ('touristoccupied', 17806), ('foreigner', 6892), ('befoes', 1841), ('15k', 44), ('roxannes', 14971), ('roxanne', 14970), ('shante', 15667), ('lawson', 10019), ('freelance', 7022), ('crust', 4260), ('hector', 8099), ('maribels', 10744), ('payback', 12839), ('biotechnology', 2057), ('rugrats', 14990), ('pickles', 13051), ('euroreptarland', 6020), ('exmma', 6170), ('reduced', 14263), ('jhanvi', 9389), ('jhanvis', 9390), ('ganpat', 7244), ('veering', 18597), ('preset', 13492), ('pace', 12584), ('translator', 17909), ('columnist', 3575), ('bihari', 2023), ('elope', 5661), ('nomadic', 11995), ('swordsman', 17142), ('meijiera', 10990), ('40year', 273), ('rockers', 14854), ('formation', 6918), ('loquacious', 10383), ('ruminates', 15006), ('howard', 8497), ('plows', 13203), ('shortcomings', 15801), ('terrier', 17438), ('hunk', 8562), ('fourpart', 6956), ('furniture', 7152), ('reveling', 14657), ('ridiculously', 14733), ('stereotype', 16665), ('unsatirized', 18402), ('nadia', 11680), ('reliving', 14402), ('barrel', 1714), ('careerseeking', 2844), ('avery', 1503), ('shoaf', 15772), ('connor', 3813), ('mile', 11182), ('retro', 14632), ('hopefully', 8417), ('decorated', 4574), ('premeditated', 13462), ('folksy', 6842), ('hotair', 8470), ('ballooning', 1640), ('dalessandro', 4404), ('anticorruption', 1048), ('luk', 10481), ('pokeung', 13243), ('betting', 1969), ('drafting', 5295), ('blindsided', 2137), ('fidelity', 6590), ('spontaneously', 16463), ('hated', 8008), ('dislikes', 5048), ('megalopolis', 10980), ('nonmaterialistic', 12002), ('confounding', 3781), ('polio', 13262), ('manufacturer', 10713), ('terrorized', 17448), ('gianfranco', 7372), ('rosi', 14943), ('minivan', 11247), ('1966s', 129), ('cemetery', 3004), ('exboxer', 6096), ('sadie', 15067), ('mitchell', 11332), ('regression', 14326), ('savior', 15208), ('indiscretion', 8865), ('concerns', 3731), ('scorpion', 15317), ('hooker', 8403), ('afternoon', 642), ('remarry', 14420), ('greek', 7643), ('saint', 15090), ('downward', 5280), ('dakar', 4400), ('syria', 17166), ('retake', 14607), ('abdus', 369), ('salam', 15101), ('achievement', 456), ('samin', 15126), ('nosrat', 12042), ('audacity', 1433), ('onetime', 12324), ('shudders', 15839), ('hbo', 8041), ('kinison', 9741), ('rip', 14766), ('wiltern', 19174), ('segment', 15430), ('screaming', 15342), ('sin', 15924), ('sams', 15131), ('samantha', 15120), ('fringes', 7071), ('harebrained', 7960), ('rocks', 14859), ('disliked', 5047), ('stinginess', 16691), ('windfall', 19181), ('bordering', 2296), ('bongo', 2259), ('kool', 9808), ('herc', 8159), ('sampling', 15130), ('samson', 15132), ('swordandsandals', 17140), ('godgiven', 7487), ('brawn', 2398), ('scare', 15234), ('liri', 10242), ('valley', 18554), ('pietro', 13068), ('example', 6086), ('urmila', 18502), ('shrikant', 15832), ('choosey', 3261), ('sai', 15081), ('bedouin', 1830), ('chafes', 3032), ('checkered', 3152), ('dutt', 5450), ('vincenzo', 18729), ('muccioli', 11568), ('cared', 2836), ('charges', 3094), ('fiji', 6615), ('bureaucrat', 2606), ('realtors', 14134), ('sack', 15058), ('kittens', 9760), ('allergic', 793), ('reaction', 14108), ('happiest', 7929), ('betrayuss', 1964), ('slide', 16076), ('chimneys', 3231), ('lipsynching', 10239), ('posthealth', 13367), ('silverman', 15899), ('yeahshejustwentthere', 19438), ('arresting', 1235), ('archduke', 1160), ('franz', 6998), ('ferdinand', 6549), ('honorable', 8393), ('manisha', 10692), ('favors', 6473), ('manishas', 10693), ('mini', 11234), ('electoral', 5617), ('heated', 8090), ('ageold', 655), ('instrument', 9040), ('traditionalist', 17850), ('percussionist', 12911), ('artistactivist', 1270), ('worldviews', 19322), ('attitudes', 1417), ('busking', 2645), ('corners', 3984), ('contemplate', 3871), ('rebuilds', 14168), ('countrybumpkin', 4048), ('sarajevo', 15167), ('gogetter', 7494), ('priorities', 13562), ('floggings', 6791), ('executions', 6132), ('kanaka', 9588), ('shelters', 15721), ('satirist', 15184), ('saverio', 15204), ('raimondo', 13978), ('whiteknuckle', 19106), ('flights', 6772), ('seismic', 15439), ('walt', 18890), ('poppins', 13306), ('nut', 12114), ('clinging', 3415), ('megan', 10982), ('sayed', 15218), ('12th', 27), ('lehman', 10098), ('ghoulish', 7369), ('syfy', 17149), ('highquality', 8226), ('vote', 18820), ('repent', 14480), ('scream', 15341), ('matrix', 10847), ('swan', 17090), ('inception', 8814), ('widens', 19129), ('oskar', 12450), ('schindler', 15263), ('1100', 19), ('filthyrich', 6637), ('ramshackle', 14022), ('motel', 11507), ('historically', 8298), ('pledging', 13196), ('disadvantaged', 4968), ('schubert', 15285), ('dutifully', 5449), ('schulz', 15287), ('divisive', 5132), ('scissorwielding', 15304), ('hairdressing', 7842), ('quasiassassin', 13876), ('daphnes', 4438), ('moonscar', 11460), ('update', 18458), ('scoobydoo', 15306), ('shaggy', 15640), ('bedeviled', 1828), ('bedlam', 1829), ('nubian', 12090), ('allornothing', 814), ('vanquished', 18577), ('pilgrims', 13082), ('cyberbullying', 4360), ('lakewood', 9902), ('echoes', 5520), ('gale', 7201), ('bestseller', 1950), ('sidney', 15872), ('prescott', 13480), ('steroid', 16671), ('peddler', 12866), ('unlicensed', 18360), ('antiaging', 1043), ('manchildren', 10664), ('tactical', 17196), ('gallivant', 7209), ('debauchery', 4524), ('executes', 6129), ('osama', 12445), ('ladens', 9885), ('carjacked', 2858), ('implacable', 8765), ('competitions', 3679), ('albums', 739), ('wainraich', 18851), ('minibars', 11236), ('funerals', 7138), ('maniscalco', 10691), ('acerbically', 453), ('peacocks', 12854), ('annoyances', 1025), ('tirade', 17680), ('decorum', 4578), ('weve', 19072), ('beacon', 1793), ('nicknames', 11921), ('dodging', 5168), ('artistically', 1272), ('jennifer', 9358), ('outcasts', 12475), ('dianas', 4877), ('ninth', 11962), ('earl', 5480), ('althorp', 867), ('chatsworth', 3131), ('zenith', 19548), ('500yearold', 295), ('inextricably', 8901), ('viii', 18705), ('downton', 5278), ('highclere', 8205), ('yard', 19432), ('synonymous', 17165), ('selfridge', 15488), ('londoners', 10328), ('untouched', 18431), ('4400', 278), ('decipher', 4562), ('armory', 1218), ('amphitheater', 930), ('parliament', 12726), ('westminster', 19065), ('pageantry', 12609), ('ripples', 14771), ('prodigies', 13603), ('firebrand', 6668), ('allred', 820), ('ambulance', 902), ('organtrafficking', 12420), ('stacked', 16536), ('selena', 15452), ('washerwoman', 18942), ('consciousness', 3824), ('transplanted', 17911), ('bodys', 2217), ('brokers', 2491), ('oppenheim', 12361), ('luxe', 10507), ('buyers', 2662), ('ramps', 14019), ('8yearold', 329), ('klutzy', 9768), ('tekin', 17362), ('ayrton', 1547), ('senna', 15521), ('babylon', 1559), ('telepathically', 17370), ('davina', 4480), ('al', 722), ('revamp', 14648), ('postrevolution', 13374), ('summarily', 16939), ('guatemala', 7746), ('un', 18199), ('diplomat', 4951), ('vieira', 18692), ('mello', 11003), ('dweller', 5457), ('upward', 18493), ('mobility', 11356), ('craved', 4124), ('ruse', 15026), ('freeliving', 7023), ('singlehood', 15947), ('commitmentcraving', 3634), ('ukrainian', 18185), ('assistants', 1337), ('trick', 17984), ('cyprus', 4377), ('alumnus', 872), ('seth', 15585), ('meyers', 11112), ('rogen', 14873), ('combine', 3585), ('madhu', 10552), ('jayaganthan', 9334), ('engrossed', 5821), ('suitable', 16927), ('descendant', 4752), ('dwarfs', 5454), ('shuts', 15849), ('irs', 9218), ('jersey', 9370), ('sundays', 16953), ('reconnection', 14211), ('cantabria', 2787), ('malkin', 10648), ('allexpensespaid', 797), ('highend', 8207), ('otis', 12461), ('maeve', 10563), ('proposes', 13682), ('sextherapy', 15622), ('ins', 8996), ('outs', 12504), ('flare', 6733), ('noses', 12039), ('dadtobe', 4390), ('sextuplet', 15623), ('sort', 16293), ('rearview', 14142), ('urging', 18501), ('disconcertingly', 5003), ('blurry', 2193), ('shaka', 15645), ('zulu', 19594), ('mounting', 11541), ('beachhouse', 1790), ('infested', 8920), ('barnyard', 1712), ('sheepdog', 15709), ('bitzer', 2087), ('pidsley', 13059), ('shirley', 15765), ('oodles', 12336), ('llamas', 10280), ('unguarded', 18322), ('shawn', 15702), ('mendes', 11029), ('constable', 3847), ('sexualitys', 15627), ('legacies', 10084), ('adora', 555), ('shera', 15725), ('nola', 11992), ('averageguy', 1501), ('kirk', 9747), ('dropdeadgorgeous', 5363), ('morning', 11478), ('carroll', 2888), ('shelbys', 15715), ('ardent', 1179), ('unbalanced', 18215), ('doyles', 5281), ('prowls', 13733), ('chanchal', 3062), ('appu', 1131), ('jealousies', 9340), ('tonguetied', 17734), ('witherspoon', 19239), ('sandi', 15144), ('studentunion', 16833), ('sniper', 16159), ('policemen', 13255), ('sixhour', 15985), ('gunfight', 7783), ('shopkins', 15789), ('mart', 10784), ('shopville', 15797), ('peppamint', 12902), ('shoppie', 15793), ('scarletta', 15242), ('gateau', 7266), ('pawville', 12836), ('shoppies', 15794), ('vloggable', 18793), ('dredges', 5339), ('supervisors', 17005), ('eroding', 5948), ('oncesuccessful', 12306), ('stringers', 16804), ('scour', 15327), ('outlets', 12489), ('aptly', 1134), ('mick', 11129), ('songfilled', 16262), ('haredi', 7961), ('doldrums', 5184), ('horizon', 8427), ('fourteen', 6958), ('zaenab', 19525), ('doel', 5170), ('reuniting', 14646), ('outskirts', 12508), ('glass', 7428), ('misdiagnosed', 11284), ('mathematics', 10840), ('wrongnumber', 19385), ('policemans', 13254), ('reluctance', 14407), ('walkietalkie', 18874), ('transcends', 17889), ('similarities', 15904), ('decadeold', 4538), ('permeating', 12939), ('moonbot', 11456), ('storytellers', 16737), ('inventors', 9158), ('heather', 8091), ('compaq', 3667), ('founders', 6951), ('1982', 147), ('goliath', 7510), ('ibm', 8617), ('pc', 12848), ('dominance', 5197), ('postmarriage', 13371), ('oncewealthy', 12308), ('pat', 12787), ('unstable', 18417), ('simon', 15909), ('communication', 3653), ('introspective', 9137), ('amstell', 934), ('ayahuasca', 1544), ('manu', 10709), ('nna', 11973), ('telenovelas', 17368), ('mezcal', 11113), ('irate', 9199), ('crooner', 4214), ('sinatras', 15928), ('fond', 6853), ('bangladeshi', 1673), ('margins', 10739), ('tituss', 17691), ('burgess', 2612), ('notes', 12052), ('palina', 12644), ('rojinski', 14883), ('shyam', 15855), ('singaporeans', 15934), ('terrain', 17433), ('collectors', 3540), ('frames', 6975), ('bajirao', 1614), ('somewhat', 16253), ('pathetic', 12794), ('feedback', 6511), ('condominium', 3747), ('inhabited', 8955), ('preys', 13528), ('favela', 6467), ('maintaining', 10606), ('groomtobe', 7706), ('jaegers', 9282), ('sirius', 15965), ('werewolf', 19058), ('yuliy', 19508), ('startling', 16599), ('tia', 17619), ('landry', 9935), ('tamera', 17253), ('campbell', 2755), ('vendetta', 18615), ('roxy', 14972), ('edie', 5544), ('pari', 12713), ('nuances', 12089), ('arabian', 1141), ('complexions', 3690), ('naya', 11772), ('colorisms', 3565), ('sheila', 15713), ('nazarian', 11775), ('selves', 15502), ('rupaul', 15024), ('shunning', 15846), ('aleck', 752), ('pyrotechnic', 13846), ('cai', 2699), ('guoqiang', 7795), ('vietnamese', 18699), ('sơn', 17178), ('tùng', 18169), ('mtp', 11566), ('concerts', 3733), ('aerobatics', 609), ('fredric', 7014), ('aerobatic', 608), ('skylander', 16029), ('hurled', 8571), ('fathertobe', 6460), ('imagines', 8718), ('parent', 12707), ('rampaging', 14017), ('carnage', 2870), ('hooking', 8405), ('philanderers', 13003), ('reform', 14290), ('insomnia', 9016), ('motivational', 11519), ('speaker', 16368), ('sleepover', 16061), ('archrivals', 1176), ('murdering', 11613), ('highrise', 8228), ('slobby', 16088), ('robby', 14831), ('junkie', 9548), ('collectable', 3534), ('prostitution', 13695), ('sixyear', 15986), ('compelled', 3673), ('selfredemption', 15484), ('lawrence', 10016), ('wetherhold', 19070), ('biannual', 1989), ('collisions', 3549), ('definitely', 4619), ('encouraged', 5768), ('embezzled', 5695), ('flays', 6751), ('skins', 16015), ('spotting', 16481), ('clip', 3421), ('sneaker', 16154), ('wheelingdealing', 19083), ('congressman', 3797), ('taliban', 17239), ('wheeler', 19082), ('hal', 7851), ('dreaded', 5326), ('meteorologist', 11095), ('snowdens', 16171), ('remaining', 14413), ('circling', 3316), ('classdivided', 3365), ('viren', 18750), ('instagrams', 9026), ('narrative', 11722), ('indonesias', 8874), ('nationalist', 11745), ('niño', 11972), ('rivera', 14796), ('guadalajaras', 7735), ('degollado', 4634), ('averagegirl', 1500), ('canary', 2766), ('cliff', 3409), ('casanova', 2907), ('han', 7890), ('chewbacca', 3186), ('oncemurderous', 12302), ('holed', 8342), ('ownership', 12570), ('oneeyed', 12311), ('plussized', 13215), ('everybody', 6053), ('rosenthal', 14942), ('lisbon', 10244), ('blindsiding', 2138), ('braces', 2360), ('ballerino', 1635), ('uproar', 18482), ('fiancee', 6578), ('shoot', 15782), ('creep', 4156), ('sanborn', 15135), ('wines', 19190), ('dines', 4941), ('anxiously', 1070), ('receptionist', 14184), ('bickers', 1997), ('doctoral', 5152), ('luminous', 10485), ('funnywoman', 7146), ('sommore', 16256), ('wows', 19346), ('defender', 4607), ('songwriting', 16266), ('sonic', 16267), ('eggman', 5580), ('emeralds', 5705), ('understatement', 18270), ('badly', 1598), ('existed', 6158), ('tussle', 18111), ('sovereignty', 16325), ('sandeep', 15142), ('gunshot', 7789), ('aviation', 1505), ('kongpob', 9802), ('arthit', 1258), ('maka', 10612), ('meister', 10993), ('helpless', 8142), ('cordero', 3979), ('hawaiian', 8025), ('spellbook', 16398), ('volume', 18810), ('finewine', 6658), ('battlbox', 1762), ('explosions', 6233), ('nasa', 11729), ('overthehill', 12550), ('fourstar', 6957), ('militarys', 11191), ('liftoff', 10196), ('robyn', 14849), ('stardust', 16580), ('provincialism', 13725), ('supremes', 17023), ('sparring', 16357), ('thracian', 17574), ('outlast', 12485), ('executioners', 6131), ('reborn', 14161), ('palsy', 12648), ('branches', 2379), ('insular', 9044), ('jeweler', 9383), ('passports', 12778), ('liberdade', 10163), ('spenser', 16406), ('tasting', 17297), ('invincible', 9176), ('crop', 4215), ('bitten', 2081), ('radioactive', 13947), ('webslinging', 18994), ('alternatedimension', 861), ('skating', 15995), ('maricela', 10745), ('mare', 10735), ('herd', 8160), ('miradero', 11262), ('palomino', 12646), ('bluffs', 2185), ('boulder', 2328), ('excity', 6111), ('pru', 13734), ('abigail', 374), ('hiroyuki', 8288), ('ehara', 5589), ('consultations', 3858), ('lastsurviving', 9966), ('wally', 18885), ('spivak', 16443), ('splash', 16444), ('bubbles', 2535), ('dunk', 5428), ('ripple', 14770), ('spookley', 16468), ('pumpkin', 13787), ('editors', 5553), ('molestation', 11400), ('rite', 14787), ('bikinis', 2027), ('springsteen', 16496), ('jamaican', 9297), ('juni', 9544), ('secretagent', 15393), ('alexander', 760), ('minion', 11242), ('pintsize', 13102), ('gary', 7260), ('gerti', 7353), ('giggles', 7388), ('cecil', 2984), ('bore', 2297), ('bureau', 2604), ('phonetapping', 13020), ('unwed', 18439), ('acquaintance', 463), ('farmhouse', 6414), ('reflective', 14288), ('unflappable', 18307), ('civilizations', 3338), ('sisko', 15966), ('multispecies', 11596), ('federation', 6504), ('innovationexpanding', 8989), ('technologies', 17343), ('jeanluc', 9343), ('picard', 13047), ('voyagers', 18827), ('75year', 321), ('quadrant', 13857), ('remnants', 14434), ('kylo', 9865), ('rey', 14690), ('skywalker', 16032), ('zoey', 19578), ('starbeam', 16576), ('kidsized', 9704), ('fishbeard', 6690), ('everybodys', 6054), ('sleeves', 16066), ('tristan', 18009), ('thorn', 17562), ('stargate', 16582), ('roars', 14820), ('oneill', 12313), ('stargates', 16583), ('maneuvers', 10672), ('contradictions', 3905), ('starsky', 16594), ('hutch', 8585), ('huggy', 8515), ('joris', 9477), ('genevieve', 7317), ('gorder', 7535), ('lorimer', 10394), ('moneymaking', 11420), ('showstoppers', 15828), ('unshakeable', 18413), ('plunder', 13208), ('porter', 13327), ('diesel', 4903), ('engines', 5814), ('deliveries', 4664), ('erupting', 5960), ('brennans', 2427), ('dales', 4403), ('materialize', 10833), ('sorority', 16290), ('rhythmically', 14701), ('sisterhood', 15969), ('reminders', 14425), ('oncehappy', 12296), ('eriks', 5944), ('keying', 9680), ('foibles', 6834), ('fearlessness', 6487), ('quips', 13908), ('postpartition', 13372), ('pensioners', 12894), ('scrapes', 15338), ('glasgow', 7427), ('laughin', 9985), ('tomlin', 17726), ('tiffany', 17637), ('haddish', 7832), ('patrick', 12809), ('noting', 12058), ('odor', 12209), ('pajamas', 12632), ('chemical', 3167), ('groms', 7701), ('surfers', 17031), ('woody', 19295), ('moga', 11385), ('apprenticeship', 1121), ('mentors', 11042), ('dupes', 5434), ('outpace', 12497), ('treasureseeking', 17946), ('scavengers', 15251), ('contents', 3881), ('repossessed', 14496), ('storage', 16721), ('units', 18345), ('writings', 19377), ('nobel', 11976), ('early20thcentury', 5485), ('storybots', 16734), ('apps', 1130), ('brainiac', 2370), ('ocd', 12188), ('collegeage', 3544), ('erratically', 5953), ('numbered', 12095), ('unpleasant', 18380), ('disturb', 5106), ('strawberry', 16769), ('shortcake', 15800), ('bitty', 2086), ('rendezvous', 14445), ('noha', 11987), ('impressionable', 8786), ('flavorful', 6746), ('innovation', 8988), ('offerings', 12228), ('armstrong', 1221), ('charter', 3116), ('hoofer', 8399), ('hastings', 8000), ('graceless', 7572), ('quartercentury', 13871), ('madonna', 10558), ('1990', 155), ('indolent', 8870), ('impulsively', 8801), ('cajoles', 2703), ('gabrielle', 7179), ('reece', 14265), ('bongsoon', 2261), ('procures', 13601), ('yance', 19425), ('fords', 6886), ('naturalborn', 11756), ('aldo', 748), ('socioeconomic', 16200), ('disadvantages', 4969), ('scotlands', 15323), ('stony', 16714), ('sculptor', 15358), ('stanislav', 16572), ('szukalski', 17173), ('astounding', 1352), ('stuart', 16825), ('entrenched', 5891), ('lonesome', 10336), ('discotheque', 5006), ('glittery', 7445), ('conservatory', 3832), ('tuition', 18072), ('hellscape', 8135), ('styling', 16860), ('bolden', 2229), ('adair', 501), ('jsn', 9505), ('chicest', 3197), ('neardeath', 11790), ('comrade', 3715), ('endemic', 5779), ('ern', 5945), ('ped', 12865), ('recuperate', 14244), ('spiraling', 16432), ('suffragette', 16917), ('ingredient', 8951), ('besttasting', 1952), ('jolly', 9457), ('prisonerofwar', 13566), ('quartering', 13872), ('gambles', 7223), ('watering', 18957), ('adriatic', 567), ('moccias', 11363), ('911', 333), ('chiara', 3191), ('sunderland', 16954), ('201718', 195), ('relegation', 14384), ('correlation', 4000), ('projects', 13647), ('renewable', 14450), ('bunnies', 2598), ('wherever', 19088), ('3danimated', 265), ('vyom', 18838), ('wedge', 19003), ('lobo', 10291), ('glorb', 7461), ('vida', 18683), ('pitchfork', 13123), ('katya', 9641), ('drac', 5286), ('adorably', 558), ('deck', 4567), ('halls', 7874), ('afraid', 634), ('día', 5473), ('muertos', 11576), ('spooktacular', 16469), ('parade', 12680), ('lend', 10107), ('purple', 13817), ('howlers', 8500), ('unappreciated', 18209), ('drudgery', 5375), ('booze', 2291), ('youngblood', 19488), ('net', 11856), ('avert', 1502), ('kara', 9604), ('danvers', 4435), ('supermans', 16979), ('chitón', 3246), ('lois', 10320), ('lex', 10147), ('luthor', 10505), ('trivia', 18013), ('stuffing', 16842), ('carts', 2902), ('crisscross', 4194), ('aerodynamics', 610), ('processes', 13597), ('enabled', 5753), ('upcoming', 18457), ('statewide', 16612), ('overshadow', 12546), ('closeup', 3439), ('expectant', 6190), ('pras', 13430), ('arini', 1195), ('meirose', 10992), ('momentum', 11407), ('followup', 6851), ('critique', 4204), ('packaged', 12591), ('howto', 8502), ('largerthanlife', 9952), ('bayless', 1778), ('researches', 14528), ('cults', 4301), ('buddhist', 2552), ('americanized', 912), ('revered', 14663), ('tremblay', 17961), ('robb', 14824), ('wells', 19047), ('kickoff', 9692), ('webbased', 18989), ('swearnet', 17101), ('baker', 1616), ('pies', 13067), ('toast', 17695), ('maddie', 10545), ('serenity', 15555), ('triple', 18005), ('shipwrecked', 15763), ('rampant', 14018), ('ayumis', 1550), ('evaporates', 6033), ('envious', 5900), ('zenko', 19550), ('avatars', 1493), ('karen', 9612), ('gaming', 7229), ('pitohui', 13127), ('anonymously', 1029), ('tung', 18085), ('chienchen', 3204), ('wu', 19390), ('tang', 17260), ('nursed', 12107), ('knifethrowing', 9772), ('mitts', 11338), ('billion', 2035), ('encryption', 5771), ('hack', 7827), ('infernal', 8916), ('outgrows', 12482), ('benni', 1918), ('childservices', 3219), ('manav', 10662), ('mansi', 10704), ('mansis', 10706), ('daydreamer', 4486), ('ishaan', 9221), ('histories', 8299), ('confiscated', 3774), ('moneylender', 11419), ('tahaan', 17209), ('conflicttorn', 3780), ('kashmir', 9627), ('simulated', 15917), ('flagging', 6720), ('jumps', 9539), ('miao', 11119), ('fen', 6542), ('supervision', 17003), ('cashier', 2912), ('20082012', 181), ('pep', 12900), ('guardiola', 7744), ('hypercompetitive', 8600), ('adderall', 511), ('coders', 3493), ('beret', 1927), ('jeddah', 9344), ('interschool', 9102), ('conscious', 3823), ('ignorance', 8666), ('singleton', 15951), ('28', 237), ('barbary', 1692), ('cohorts', 3512), ('slouching', 16092), ('6foot1', 312), ('jodi', 9429), ('neglectful', 11817), ('dependency', 4721), ('ved', 18594), ('tango', 17265), ('londonbased', 10325), ('vastly', 18589), ('provoke', 13730), ('fare', 6407), ('ascend', 1279), ('doubting', 5256), ('godly', 7488), ('pilates', 13078), ('rot', 14950), ('decay', 4542), ('monumental', 11449), ('halfway', 7867), ('tomlinson', 17727), ('routes', 14961), ('tayo', 17312), ('duri', 5441), ('neverbefore', 11875), ('pont', 13289), ('schultz', 15286), ('kaylie', 9646), ('konrad', 9806), ('swaps', 17094), ('courtordered', 4067), ('teased', 17331), ('takagisan', 17222), ('middleschooler', 11143), ('nishikata', 11967), ('swears', 17102), ('golfer', 7509), ('ariya', 1203), ('jutanugarns', 9561), ('lpga', 10455), ('numberone', 12097), ('goon', 7529), ('teefa', 17349), ('longing', 10352), ('perci', 12910), ('trachtenberg', 17834), ('venkat', 18627), ('subramaniam', 16880), ('foundations', 6947), ('probability', 13582), ('chat', 3126), ('theory', 17514), ('dens', 4707), ('sterling', 16669), ('buttkicking', 2658), ('splinter', 16447), ('amok', 923), ('shredder', 15829), ('ooze', 12338), ('obtains', 12173), ('junk', 9547), ('glowing', 7468), ('sewers', 15611), ('flamboyant', 6724), ('gamble', 7220), ('swipe', 17130), ('speeding', 16393), ('trusts', 18053), ('marcus', 10734), ('teenaged', 17353), ('telluria', 17379), ('tourists', 17807), ('wilds', 19155), ('2025', 200), ('depicting', 4724), ('crackdowns', 4097), ('ironfisted', 9208), ('benefit', 1907), ('tx', 18151), ('t1000', 17179), ('dominating', 5202), ('militaristic', 11189), ('oahu', 12128), ('batch', 1750), ('snowboarder', 16170), ('karuizawa', 9623), ('dilapidated', 4926), ('slicing', 16074), ('slaughtering', 16045), ('enforcement', 5800), ('surprisingly', 17047), ('echolocation', 5521), ('farright', 6420), ('sena', 15509), ('bal', 1622), ('thackeray', 17478), ('longestranged', 10347), ('impostor', 8779), ('infidelities', 8921), ('indulging', 8883), ('hazy', 8039), ('enrich', 5845), ('deceiving', 4547), ('soo', 16273), ('remorse', 14436), ('ultimatum', 18190), ('habitable', 7823), ('exspy', 6259), ('octogenarian', 12197), ('saboteur', 15056), ('ford', 6885), ('motor', 11527), ('enzo', 5909), ('alia', 770), ('consults', 3859), ('says', 15220), ('ayotzinapa', 1546), ('iguala', 8672), ('reappear', 14137), ('none', 11999), ('aged', 649), ('administration', 536), ('sleepaway', 16057), ('suspenseful', 17074), ('complicity', 3698), ('elliott', 5656), ('toying', 17826), ('archaeological', 1155), ('multiply', 11595), ('connoisseur', 3811), ('dreamers', 5331), ('sharkboy', 15684), ('fireproducing', 6676), ('lavagirl', 10004), ('baddie', 1594), ('hyper', 8598), ('cohort', 3511), ('tails', 17215), ('prower', 13732), ('mobius', 11358), ('robotnik', 14844), ('georges', 7338), ('remis', 14431), ('tintin', 17673), ('faceless', 6312), ('vocalize', 18797), ('congolese', 3794), ('transplants', 17912), ('friendmanager', 7060), ('uptodate', 18491), ('tempts', 17396), ('hilton', 8265), ('ostrovsky', 12455), ('brittany', 2476), ('furlan', 7150), ('kirill', 9746), ('bichutsky', 1995), ('hustle', 8579), ('lobbyist', 10290), ('hairraising', 7846), ('ordeal', 12400), ('lutz', 10506), ('homespun', 8372), ('mayberry', 10877), ('ashraf', 1289), ('marwan', 10795), ('protesters', 13706), ('durie', 5442), ('baptismal', 1686), ('selfdestructive', 15467), ('smashing', 16112), ('arbitration', 1151), ('dismissal', 5052), ('gynecologist', 7816), ('sexologist', 15621), ('taboo', 17186), ('publish', 13765), ('crunch', 4250), ('calhoun', 2716), ('motorcyclist', 11531), ('mostly', 11504), ('ambassador', 896), ('oscars', 12448), ('blackandwhite', 2093), ('silentera', 15893), ('defining', 4618), ('gianni', 7373), ('versace', 18646), ('surgically', 17038), ('coroners', 3989), ('unidentified', 18330), ('motti', 11534), ('errol', 5954), ('morris', 11486), ('elsa', 5665), ('dorfman', 5238), ('luminaries', 10484), ('martins', 10791), ('homegrown', 8362), ('bedtime', 1832), ('satanic', 15179), ('contestant', 3883), ('fedotowsky', 6508), ('banished', 1674), ('wasteland', 18948), ('drugsoaked', 5385), ('cannibals', 2781), ('ineffective', 8893), ('cornwall', 3986), ('probably', 13583), ('mojave', 11394), ('adhere', 528), ('coen', 3497), ('settlers', 15591), ('assassinated', 1315), ('slowfooted', 16094), ('disparity', 5064), ('fence', 6543), ('tortuous', 17774), ('roleplay', 14886), ('mavericks', 10866), ('underdogs', 18251), ('bing', 2045), ('midway', 11149), ('guilty', 7767), ('triggered', 17995), ('drumming', 5389), ('tending', 17407), ('urbanization', 18496), ('neuroscience', 11867), ('rutkowski', 15042), ('olka', 12280), ('szczęśniak', 17172), ('francesca', 6980), ('stavrakopoulou', 16624), ('testament', 17456), ('angler', 995), ('florists', 6805), ('sculptors', 15359), ('boldest', 2231), ('sculptures', 15361), ('wwe', 19392), ('fiancés', 6582), ('midwives', 11152), ('avant', 1490), ('rainmaker', 13983), ('exiled', 6155), ('resides', 14548), ('baddies', 1595), ('agricultural', 667), ('wepner', 19057), ('fastgrowing', 6440), ('innovate', 8987), ('51st', 302), ('allegory', 790), ('montage', 11439), ('kinetics', 9732), ('acid', 460), ('disposal', 5079), ('methodical', 11099), ('1897', 82), ('eli', 5639), ('barren', 1715), ('borgia', 2300), ('lucrezia', 10474), ('sprung', 16499), ('corp', 3990), ('textile', 17475), ('foreman', 6894), ('stirring', 16697), ('hostility', 8466), ('filthiest', 6635), ('supermonster', 16983), ('bailjumper', 1611), ('nicole', 11926), ('girlgeek', 7410), ('kamkwamba', 9587), ('turbine', 18090), ('malawian', 10632), ('1968', 131), ('reckoning', 14195), ('unspoken', 18415), ('crowley', 4236), ('albania', 733), ('mashup', 10804), ('erica', 5940), ('bain', 1612), ('muhammad', 11579), ('slope', 16089), ('disguises', 5031), ('nobodys', 11983), ('weekly', 19011), ('instudio', 9043), ('cohabitating', 3508), ('brookes', 2496), ('spats', 16364), ('condo', 3746), ('mel', 10995), ('habaek', 7820), ('yoruba', 19483), ('igbo', 8658), ('selfinterested', 15476), ('exterminators', 6271), ('fullest', 7120), ('wrought', 19388), ('substances', 16886), ('coal', 3464), ('poets', 13232), ('offcampus', 12218), ('bye', 2668), ('fracking', 6966), ('lakota', 9903), ('fastliving', 6441), ('selfcare', 15459), ('cleanse', 3390), ('foodcrazed', 6858), ('onceinalifetime', 12298), ('kidnapper', 9699), ('hinting', 8275), ('driverless', 5354), ('sedan', 15403), ('da', 4383), ('cyberpunks', 4362), ('eighttime', 5596), ('unyielding', 18449), ('christianity', 3276), ('verifiable', 18643), ('māori', 11676), ('kaiora', 9576), ('tipene', 17676), ('polynesian', 13282), ('awfully', 1536), ('nifty', 11932), ('executives', 6135), ('chalet', 3041), ('alumni', 871), ('contests', 3885), ('eliminations', 5645), ('hookups', 8408), ('slaughterhouse', 16044), ('lofts', 10310), ('brooke', 2495), ('knowitall', 9784), ('1937', 107), ('belgian', 1867), ('assassinate', 1314), ('trotsky', 18027), ('zika', 19563), ('vaccine', 18539), ('pantanal', 12665), ('progressive', 13642), ('allnighter', 813), ('straighttalking', 16744), ('nowteenage', 12081), ('naughty', 11762), ('depressionera', 4735), ('cocksure', 3483), ('titular', 17690), ('cincinnati', 3309), ('lancey', 9923), ('flirt', 6782), ('catfish', 2957), ('r300000', 13918), ('ekes', 5601), ('infomercials', 8942), ('stereotypebusting', 16666), ('senegalesefrench', 15517), ('everest', 6047), ('orbiting', 12388), ('mdma', 10913), ('sautoy', 15196), ('mathematical', 10839), ('underlying', 18259), ('ussoviet', 18523), ('15minute', 45), ('downsizing', 5276), ('repel', 14479), ('wedded', 18999), ('partnersincrime', 12752), ('infamy', 8904), ('confessed', 3759), ('coerced', 3499), ('involuntary', 9183), ('handyman', 7905), ('toolbox', 17742), ('paralysis', 12690), ('wright', 19367), ('spinechiller', 16423), ('visas', 18763), ('objective', 12142), ('jaeyeong', 9283), ('neuroscientist', 11868), ('eagleman', 5478), ('taps', 17279), ('brainbending', 2367), ('risktaking', 14783), ('misstep', 11313), ('inhabiting', 8956), ('raping', 14056), ('obliterates', 12147), ('unworldly', 18445), ('draven', 5317), ('crow', 4231), ('iis', 8676), ('ira', 9191), ('fergus', 6551), ('jody', 9430), ('dil', 4923), ('puppeteers', 13808), ('thra', 17573), ('cuba', 4276), ('mcconnell', 10895), ('fills', 6626), ('inappropriate', 8806), ('scotia', 15321), ('classs', 3375), ('20year', 212), ('scored', 15312), ('marginally', 10738), ('alum', 870), ('louvre', 10423), ('cryptographer', 4268), ('vinci', 18730), ('spite', 16441), ('srintil', 16527), ('unconditional', 18235), ('gelfling', 7292), ('overlords', 12535), ('drain', 5304), ('caldwell', 2712), ('jorgeson', 9476), ('staggering', 16545), ('freeclimbing', 7016), ('yosemite', 19484), ('castillo', 2928), ('detached', 4801), ('begs', 1852), ('headmasters', 8051), ('tyranny', 18164), ('distance', 5094), ('marsha', 10782), ('cristi', 4196), ('puius', 13779), ('realtime', 14133), ('travails', 17929), ('waits', 18857), ('shuttles', 15853), ('stalin', 16551), ('fisticuffsfueled', 6700), ('bitterly', 2083), ('nektons', 11833), ('nearfatal', 11792), ('brass', 2387), ('standups', 16570), ('coarse', 3465), ('halfhour', 7861), ('corrections', 3998), ('postwar', 13379), ('friedkin', 7054), ('91yearold', 334), ('ente', 5864), ('satan', 15178), ('alciel', 742), ('deity', 4641), ('jog', 9435), ('millenniumlong', 11200), ('duponts', 5438), ('chemicals', 3168), ('teflon', 17360), ('disturbances', 5107), ('mötley', 11675), ('crües', 4271), ('superstardom', 16994), ('3yearold', 266), ('madeleine', 10549), ('mccann', 10892), ('sophomore', 16282), ('kusuo', 9857), ('saiki', 15084), ('swore', 17144), ('gaggle', 7189), ('backwater', 1584), ('regarded', 14310), ('belonged', 1888), ('elven', 5673), ('seymours', 15632), ('testimony', 17462), ('busan', 2633), ('headfirst', 8045), ('exports', 6238), ('varietyshow', 18582), ('blurs', 2194), ('katherines', 9636), ('pondering', 13285), ('1866', 72), ('despot', 4786), ('hazzard', 8040), ('charger', 3093), ('cycle', 4367), ('presidencies', 13495), ('nadines', 11681), ('detested', 4815), ('cynics', 4374), ('unbearable', 18216), ('massmurderer', 10817), ('eichmanns', 5590), ('relives', 14401), ('angles', 996), ('pharaonic', 12990), ('actioncomedy', 478), ('seele', 15421), ('evas', 6034), ('gendo', 7299), ('trigger', 17994), ('instrumentality', 9041), ('lipsky', 10238), ('fiveday', 6706), ('videotape', 18688), ('footballers', 6869), ('fourthgrade', 6960), ('undieswearing', 18278), ('raimis', 13977), ('kaiser', 9579), ('wilhelm', 19158), ('garcia', 7249), ('teendom', 17356), ('robotics', 14843), ('fascination', 6428), ('blows', 2175), ('manzonis', 10717), ('normandy', 12022), ('difficulty', 4914), ('occasionally', 12177), ('brighton', 2456), ('selfeducated', 15472), ('petitions', 12982), ('executed', 6128), ('twisting', 18139), ('snag', 16137), ('orgasm', 12421), ('xie', 19408), ('zhen', 19560), ('defeats', 4602), ('halfbrother', 7855), ('oncetalented', 12307), ('bestowed', 1949), ('obannon', 12134), ('palates', 12639), ('starpacked', 16589), ('imperiled', 8757), ('athenian', 1375), ('attorneys', 1419), ('spearhead', 16371), ('museum', 11627), ('parthenon', 12739), ('porta', 13323), ('dos', 5246), ('fundos', 7135), ('twotiming', 18148), ('rotating', 14951), ('forensics', 6897), ('squares', 16519), ('flintstones', 6779), ('barney', 1711), ('yabbadabbadoo', 19418), ('wilma', 19172), ('posits', 13347), ('qingdynasty', 13855), ('wielders', 19137), ('jackie', 9275), ('cataclysmic', 2936), ('sullen', 16933), ('griefscarred', 7667), ('nothings', 12054), ('conman', 3801), ('noises', 11990), ('radha', 13941), ('multiethnic', 11588), ('brood', 2493), ('mcdonald', 10898), ('kroc', 9834), ('dismemberment', 5051), ('1827', 68), ('freestyle', 7029), ('skier', 16008), ('jossi', 9486), ('highlining', 8219), ('frenchies', 7037), ('atop', 1389), ('pyrenees', 13845), ('servaz', 15569), ('alaska', 730), ('trooper', 18021), ('17yearoldprostitute', 61), ('predators', 13442), ('inspirational', 9020), ('shutin', 15848), ('furchester', 7148), ('melanie', 10996), ('adjusts', 534), ('derwin', 4749), ('wilks', 19159), ('compare', 3668), ('plants', 13162), ('spoiler', 16455), ('skips', 16019), ('alienation', 776), ('lasagnaloving', 9960), ('fat', 6447), ('teasing', 17333), ('geeky', 7288), ('tormenting', 17765), ('odie', 12206), ('moonlight', 11457), ('motorsport', 11532), ('1977', 141), ('breakneck', 2410), ('boisterous', 2226), ('brawling', 2396), ('malacca', 10628), ('lan', 9920), ('ratting', 14083), ('1843', 69), ('crippled', 4186), ('anatolian', 954), ('internetobsessed', 9087), ('prying', 13736), ('lyricist', 10519), ('javed', 9328), ('195075', 118), ('sickness', 15859), ('clay', 3385), ('pathologically', 12796), ('fiveyearold', 6709), ('selfabsorbed', 15454), ('shellstrop', 15718), ('dealership', 4506), ('gwyneth', 7810), ('paltrow', 12649), ('goop', 7531), ('psychedelics', 13741), ('wordforword', 19298), ('aramaicspeaking', 1147), ('gospel', 7546), ('texts', 17477), ('reenacted', 14271), ('gospels', 7547), ('jesuss', 9377), ('disciples', 4996), ('lauded', 9983), ('accuracy', 447), ('apostle', 1095), ('matthew', 10853), ('highlighted', 8216), ('gong', 7515), ('seventhcentury', 15604), ('ansi', 1033), ('manchun', 10665), ('10week', 15), ('whipping', 19096), ('prue', 13735), ('leith', 10100), ('tent', 17418), ('dozen', 5282), ('amiably', 916), ('tasty', 17298), ('cambridge', 2740), ('analytica', 944), ('symbolize', 17157), ('reproduce', 14504), ('immortals', 8739), ('filipinos', 6621), ('1963', 128), ('squeezed', 16523), ('logging', 10315), ('soup', 16310), ('guernsey', 7750), ('bloodthirst', 2164), ('addicts', 516), ('chu', 3293), ('expartner', 6185), ('waylaid', 18969), ('blizzard', 2146), ('dicey', 4884), ('stagecoach', 16543), ('rogues', 14876), ('smear', 16113), ('vitriol', 18786), ('hathaway', 8011), ('au', 1429), ('gothic', 7552), ('fractured', 6968), ('extends', 6263), ('scruffy', 15355), ('dude', 5405), ('javanese', 9327), ('didi', 4895), ('kempot', 9660), ('stiller', 16685), ('describe', 4757), ('industrys', 8890), ('interviewing', 9118), ('housemaids', 8488), ('brooding', 2494), ('lark', 9955), ('boswell', 2313), ('steely', 16639), ('advent', 582), ('predicting', 13449), ('pointing', 13236), ('unwrap', 18447), ('portals', 13325), ('straightarrow', 16742), ('exlawman', 6163), ('leland', 10102), ('neglected', 11816), ('panelists', 12662), ('abnormal', 379), ('summit', 16942), ('natasha', 11738), ('leggero', 10091), ('dissect', 5088), ('hung', 8556), ('aval', 1487), ('mora', 11464), ('fannie', 6393), ('haughton', 8013), ('grenada', 7658), ('vinay', 18726), ('pathak', 12793), ('breadwinner', 2405), ('parsi', 12736), ('collectively', 3538), ('scoring', 15314), ('orchestral', 12393), ('soundtracks', 16309), ('bollywoods', 2235), ('caseworker', 2910), ('begun', 1853), ('authority', 1466), ('shortcut', 15802), ('outracing', 12500), ('showdowns', 15821), ('milehigh', 11184), ('600', 307), ('parnassus', 12728), ('renegotiate', 14449), ('generated', 7305), ('2004', 177), ('tsunami', 18063), ('meddled', 10943), ('ribtickling', 14705), ('wretched', 19366), ('nomans', 11996), ('stairwell', 16547), ('mithco', 11333), ('gigantic', 7386), ('peach', 12853), ('sunnytowns', 16961), ('wooden', 19288), ('cupboard', 4313), ('iroquois', 9212), ('figurine', 6613), ('cabinet', 2683), ('pricefixing', 13530), ('whitacre', 19102), ('grishams', 7690), ('nonfiction', 12001), ('june', 9541), ('confusing', 3789), ('gunz', 7793), ('tic', 17623), ('disloyal', 5049), ('aspires', 1307), ('fueling', 7102), ('grabbed', 7566), ('aristocrat', 1200), ('quadriplegia', 13858), ('fibs', 6584), ('inconclusive', 8827), ('criminologist', 4182), ('williamsthomas', 19165), ('reexamines', 14282), ('fbitrained', 6479), ('navarre', 11766), ('nowdead', 12077), ('sheeran', 15711), ('bufalino', 2561), ('niro', 11964), ('pacino', 12588), ('pesci', 12970), ('thatcher', 17492), ('tatsuya', 17301), ('miyuki', 11346), ('miyukis', 11347), ('honors', 8395), ('colonel', 3555), ('intel', 9052), ('techilliterate', 17336), ('basementdwelling', 1732), ('dweebs', 5456), ('cloddish', 3430), ('fascist', 6429), ('intercept', 9067), ('jaime', 9289), ('maussan', 10864), ('resemble', 14530), ('austens', 1453), ('trending', 17963), ('mchales', 10904), ('22yearold', 220), ('eldon', 5611), ('frontline', 7085), ('somalian', 16246), ('gossip', 7548), ('derision', 4746), ('mowgli', 11561), ('bagheera', 1606), ('baloo', 1646), ('shere', 15726), ('literacy', 10253), ('dre', 5324), ('cesnik', 3026), ('badlands', 1597), ('cabeleira', 2681), ('gunman', 7785), ('curated', 4316), ('edges', 5540), ('logothetis', 10318), ('carouser', 2878), ('hostilities', 8465), ('portal', 13324), ('vi', 18661), ('stutter', 16856), ('lionel', 10234), ('logue', 10319), ('strangest', 16757), ('kirlian', 9750), ('elles', 5653), ('longdistance', 10344), ('sandy', 15148), ('kominsky', 9797), ('newlander', 11891), ('laughing', 9986), ('everchanging', 6045), ('lesbians', 10127), ('overturned', 12556), ('bigdreaming', 2007), ('nativity', 11753), ('abdel', 358), ('alsharqawi', 853), ('pills', 13085), ('anders', 961), ('scavenging', 15252), ('lapis', 9947), ('lazuli', 10032), ('yellow', 19449), ('aggression', 657), ('unexploded', 18301), ('ordnance', 12409), ('scrapyard', 15340), ('antiwar', 1062), ('hallenbeck', 7871), ('czar', 4379), ('nicholas', 11917), ('bulls', 2578), ('unaired', 18204), ('199798', 164), ('robber', 14825), ('mindaltering', 11216), ('beths', 1957), ('tepid', 17423), ('footloose', 6872), ('mere', 11056), ('supper', 17006), ('peruvian', 12969), ('shining', 15751), ('norse', 12027), ('uhtred', 18181), ('saxon', 15215), ('vikings', 18709), ('birthright', 2071), ('cernan', 3023), ('lunar', 10488), ('landings', 9927), ('2041', 203), ('sexes', 15615), ('primitive', 13549), ('retirees', 14620), ('excolonel', 6113), ('paramilitary', 12693), ('combatting', 3583), ('paraguayan', 12685), ('clinically', 3419), ('hardhitting', 7947), ('quit', 13912), ('winatallcosts', 19179), ('rekindles', 14367), ('eulogist', 6014), ('pituitary', 13132), ('raging', 13963), ('panama', 12652), ('superrich', 16987), ('physicist', 13037), ('thermodynamics', 17519), ('faulty', 6465), ('cycling', 4369), ('movistar', 11559), ('baztán', 1781), ('trend', 17962), ('decriminalization', 4579), ('bhagat', 1979), ('1920', 98), ('duffel', 5411), ('nutball', 12115), ('2monthold', 240), ('newparents', 11897), ('prophecies', 13676), ('fickle', 6585), ('kwazulunatal', 9862), ('recipients', 14190), ('hitmaking', 8312), ('seohui', 15537), ('taesik', 17202), ('daycare', 4485), ('restored', 14588), ('pod', 13225), ('unconventionally', 18238), ('opinionated', 12358), ('gardener', 7251), ('overscheduled', 12542), ('cantankerous', 2788), ('lobby', 10289), ('annexation', 1017), ('soraya', 16285), ('nabil', 11679), ('talal', 17231), ('eavesdrops', 5514), ('45', 279), ('tempted', 17393), ('angering', 993), ('jose', 9478), ('canseco', 2785), ('mcgwire', 10903), ('roped', 14938), ('hitches', 8308), ('crewe', 4163), ('gridiron', 7664), ('warner', 18923), ('eyebrows', 6293), ('aragorn', 1145), ('gandalf', 7231), ('fellowship', 6533), ('gondor', 7513), ('frodo', 7077), ('mordor', 11472), ('gimli', 7398), ('legolas', 10095), ('orccaptured', 12391), ('pippin', 13111), ('aunts', 1448), ('ranchs', 14029), ('masquerade', 10809), ('channeling', 3071), ('adrianne', 565), ('forgive', 6912), ('splitsville', 16451), ('unwilling', 18441), ('jongil', 9469), ('absolution', 394), ('mortals', 11491), ('ketogenic', 9675), ('ms', 11564), ('frizzle', 7075), ('anthill', 1039), ('frizzles', 7076), ('walkerville', 18873), ('sciencefueled', 15293), ('zones', 19584), ('tardigrade', 17281), ('splits', 16450), ('scattering', 15249), ('coldwater', 3521), ('specializing', 16376), ('intimidating', 9124), ('frigid', 7070), ('majesty', 10609), ('chillier', 3226), ('leveraging', 10144), ('withstand', 19242), ('highaction', 8203), ('meta', 11087), ('lewan', 10146), ('bilked', 2030), ('gravitydefying', 7629), ('matures', 10856), ('substancefueled', 16885), ('revelry', 14658), ('bloodstained', 2161), ('romcom', 14911), ('selfprofessed', 15482), ('nerds', 11845), ('zorro', 19588), ('torch', 17758), ('schooling', 15279), ('discipline', 4998), ('pranked', 13425), ('heavydrinking', 8097), ('semblance', 15503), ('lancaster', 9921), ('dodd', 5166), ('perceive', 12906), ('simulation', 15918), ('zion', 19568), ('pinpointed', 13101), ('unconscious', 18236), ('selma', 15501), ('bosnian', 2306), ('cleansing', 3391), ('prioritizes', 13563), ('healthcares', 8065), ('150', 42), ('incumbent', 8836), ('b17', 1555), ('execute', 6127), ('latches', 9968), ('unbelievable', 18219), ('lyn', 10515), ('starlets', 16588), ('defaults', 4599), ('traversing', 17938), ('trippy', 18007), ('simulator', 15920), ('caster', 2926), ('dairy', 4396), ('narrator', 11724), ('artistry', 1273), ('happening', 7926), ('disorders', 5058), ('minimalism', 11239), ('millburn', 11196), ('nicodemus', 11924), ('sniffly', 16158), ('sweaty', 17103), ('publisher', 13766), ('eras', 5934), ('early80s', 5486), ('polices', 13256), ('fog', 6831), ('farther', 6422), ('brokendown', 2488), ('humiliating', 8547), ('gawky', 7278), ('guignol', 7761), ('stalled', 16556), ('receding', 14177), ('hairline', 7845), ('revitalize', 14672), ('atheist', 1372), ('madalyn', 10541), ('ohair', 12252), ('manipulating', 10687), ('penthouse', 12896), ('18month', 85), ('stabbing', 16533), ('bristol', 2467), ('autobiography', 1472), ('tenor', 17414), ('bocelli', 2209), ('toru', 17779), ('muranishi', 11606), ('revolutionized', 14681), ('drebin', 5338), ('intend', 9056), ('suppress', 17017), ('cellardwelling', 3000), ('urged', 18498), ('javiers', 9331), ('spade', 16338), ('titles', 17689), ('skits', 16021), ('liberates', 10161), ('scrolls', 15353), ('gonzo', 7517), ('journalism', 9490), ('miyagi', 11345), ('chilly', 3229), ('alpine', 847), ('sparing', 16351), ('usfocused', 18516), ('hanks', 7916), ('nsu', 12084), ('eluded', 5669), ('grouchy', 7710), ('kicked', 9690), ('maurys', 10862), ('clara', 3351), ('allowing', 818), ('stalking', 16554), ('deluded', 4670), ('dunder', 5423), ('mifflin', 11154), ('undying', 18282), ('protected', 13698), ('sentences', 15534), ('preferred', 13453), ('sophie', 16280), ('ina', 8803), ('pledges', 13195), ('cedric', 2985), ('bernie', 1937), ('mikaelsons', 11169), ('elopes', 5662), ('connives', 3809), ('obscurity', 12153), ('jockeys', 9428), ('weir', 19021), ('brotherhood', 2508), ('contemplates', 3872), ('layered', 10026), ('outnumbered', 12495), ('offensive', 12224), ('kamdesh', 9586), ('grandchild', 7591), ('editorial', 5551), ('ángel', 19600), ('undergraduate', 18255), ('monica', 11423), ('darby', 4440), ('justices', 9556), ('july', 9533), ('1998', 165), ('conglomerate', 3792), ('gins', 7403), ('enhance', 5825), ('shaky', 15652), ('finances', 6643), ('horrorthriller', 8442), ('1870', 73), ('pharmacist', 12992), ('extremes', 6285), ('catalán', 2944), ('negatives', 11814), ('atrocities', 1391), ('11thcentury', 23), ('persia', 12951), ('jew', 9381), ('admit', 542), ('christians', 3277), ('clouseau', 3444), ('spritely', 16498), ('tinker', 17671), ('zarina', 19531), ('pixie', 13136), ('dust', 5443), ('somalia', 16245), ('hijackers', 8248), ('pixar', 13134), ('motorcycleriding', 11530), ('sewn', 15612), ('wrocław', 19379), ('jailer', 9287), ('programming', 13639), ('factfinding', 6323), ('truthseeking', 18058), ('résumés', 15051), ('fumble', 7125), ('warmhearted', 18917), ('payton', 12845), ('polishborn', 13264), ('ponzi', 13293), ('heman', 8145), ('stretched', 16793), ('gripped', 7685), ('banlieue', 1683), ('konomi', 9805), ('frog', 7078), ('downtoearth', 5277), ('margarets', 10737), ('stacy', 16538), ('descended', 4753), ('copturnedconvict', 3968), ('lorded', 10386), ('nightly', 11940), ('oxford', 12573), ('dictionary', 4893), ('vocabulary', 18795), ('wwi', 19393), ('lifted', 10194), ('unpaid', 18378), ('internship', 9090), ('brokerage', 2490), ('snowmobile', 16175), ('korgan', 9818), ('spinal', 16422), ('cord', 3977), ('ancients', 958), ('drafts', 5296), ('gowns', 7563), ('conquistador', 3819), ('heredia', 8162), ('catalina', 2940), ('seventeen', 15602), ('dolezal', 5186), ('wipes', 19214), ('scandinavias', 15230), ('fits', 6703), ('lyricists', 10520), ('jermaine', 9368), ('dupris', 5439), ('rbs', 14102), ('finest', 6657), ('coexistence', 3501), ('rodents', 14864), ('byproducts', 2670), ('hooliganism', 8410), ('hooligans', 8411), ('rowdiest', 14967), ('fumio', 7128), ('demura', 4701), ('devotees', 4853), ('influencing', 8936), ('wheels', 19084), ('manuela', 10711), ('olmo', 12282), ('ethiopian', 6009), ('overall', 12516), ('toughness', 17800), ('reebok', 14264), ('visionaries', 18767), ('rewrote', 14688), ('narratives', 11723), ('runway', 15023), ('timeworn', 17663), ('heirlooms', 8119), ('embabah', 5685), ('january', 9313), ('slush', 16101), ('myungbak', 11670), ('slows', 16097), ('nearstrangers', 11797), ('safari', 15071), ('knife', 9771), ('stockburn', 16701), ('wreckage', 19356), ('serbia', 15550), ('possess', 13349), ('quality', 13865), ('rears', 14141), ('heedless', 8106), ('rafting', 13958), ('argument', 1191), ('macho', 10537), ('10city', 8), ('acclimating', 431), ('sara', 15165), ('purification', 13816), ('taoist', 17272), ('erics', 5942), ('nowhere', 12080), ('knocked', 9777), ('investor', 9172), ('info', 8940), ('depp', 4730), ('thompsons', 17557), ('runaways', 15012), ('paving', 12829), ('1881', 76), ('describes', 4758), ('romanovs', 14906), ('lenins', 10111), ('ulyanov', 18198), ('milans', 11178), ('ndrangheta', 11784), ('contracting', 3902), ('hemophiliac', 8148), ('templar', 17385), ('homesteader', 8373), ('avenges', 1497), ('gail', 7191), ('cynthia', 4375), ('wielding', 19138), ('lightup', 10204), ('unintended', 18334), ('readytoretire', 14119), ('safecracker', 15073), ('fuji', 7108), ('wanderer', 18896), ('muddy', 11575), ('astrobiologists', 1355), ('kanaya', 9591), ('snowball', 16169), ('gidget', 7377), ('vendettas', 18616), ('deposed', 4729), ('disbanded', 4989), ('dowd', 5263), ('policing', 13259), ('salvation', 15118), ('mauritius', 10861), ('courses', 4062), ('serendipitous', 15553), ('lambert', 9910), ('overwhelming', 12559), ('swoon', 17136), ('favorable', 6470), ('nicks', 11922), ('francos', 6988), ('researching', 14529), ('shades', 15633), ('alluding', 827), ('tolls', 17718), ('disturbingly', 5109), ('stabs', 16535), ('trapper', 17919), ('succumbing', 16902), ('posthumously', 13368), ('gargamel', 7255), ('smurfs', 16133), ('smurfalikes', 16132), ('naughties', 11761), ('documentarydrama', 5160), ('networking', 11864), ('alarm', 728), ('creations', 4140), ('finchers', 6649), ('facebook', 6310), ('zuckerberg', 19592), ('ham', 7880), ('lorenzos', 10392), ('isolate', 9239), ('ridiculous', 14732), ('subpar', 16879), ('webtoonist', 18997), ('cho', 3249), ('seok', 15538), ('blunders', 2189), ('interplanetary', 9092), ('aimee', 688), ('sutter', 17083), ('rubiks', 14981), ('cubesolving', 4279), ('feliks', 6523), ('zemdegs', 19546), ('cityraised', 3327), ('tumbledown', 18074), ('clerkturnedsecret', 3402), ('cohen', 3510), ('yearslong', 19447), ('downloads', 5269), ('file', 6617), ('ahron', 672), ('bregmans', 2424), ('streetlevel', 16780), ('peterson', 12980), ('confiscating', 3775), ('livestock', 10271), ('freshest', 7047), ('conducting', 3749), ('stanford', 16571), ('mock', 11364), ('welltodo', 19048), ('religions', 14397), ('milliondollar', 11206), ('invested', 9160), ('prolong', 13649), ('scully', 15357), ('pioneers', 13107), ('superintendent', 16976), ('disappearances', 4973), ('bros', 2502), ('arci', 1177), ('gangaffiliated', 7236), ('philosophers', 13012), ('mixup', 11343), ('pickpocket', 13052), ('dispatcher', 5066), ('garber', 7248), ('lush', 10499), ('vandalized', 18568), ('graveyard', 7626), ('chainsawwielding', 3036), ('esteem', 5996), ('hawkings', 8028), ('increasing', 8832), ('dependence', 4720), ('beggar', 1846), ('unwitting', 18443), ('organ', 12414), ('sami', 15125), ('wildcats', 19147), ('conservation', 3829), ('required', 14516), ('hg', 8184), ('doubters', 5255), ('involuntarily', 9182), ('zips', 19572), ('trader', 17845), ('potatoes', 13383), ('currency', 4328), ('nelufar', 11835), ('hedayat', 8101), ('executiveturnedviral', 6136), ('empowered', 5744), ('medina', 10958), ('stoop', 16716), ('medication', 10953), ('coogan', 3943), ('brydon', 2529), ('gorge', 7537), ('runofthemill', 15020), ('burgle', 2615), ('covets', 4084), ('javid', 9329), ('abdelmoneim', 359), ('splendor', 16445), ('tudor', 18069), ('monarch', 11409), ('hospitalized', 8455), ('spys', 16511), ('computerized', 3713), ('tuxedo', 18115), ('jurors', 9553), ('rod', 14863), ('serling', 15565), ('tinged', 17670), ('subservient', 16882), ('xvi', 19416), ('chauvinistic', 3140), ('morningshow', 11479), ('commentator', 3623), ('noodle', 12012), ('counters', 4042), ('dropped', 5365), ('commodity', 3642), ('astronomical', 1362), ('rumsfeld', 15009), ('reviews', 14666), ('gerald', 7344), ('bush', 2636), ('dru', 5374), ('kal', 9582), ('wondering', 19276), ('interclan', 9068), ('soulmates', 16302), ('armistead', 1214), ('maupin', 10859), ('oslo', 12451), ('damon', 4413), ('exorcists', 6179), ('bemoans', 1898), ('undermined', 18260), ('laziness', 10031), ('aspergers', 1305), ('10part', 10), ('18hour', 84), ('violinist', 18744), ('chidi', 3202), ('eugenia', 6012), ('loudmouthed', 10414), ('banding', 1660), ('eyesight', 6297), ('sevenpart', 15601), ('pattern', 12814), ('bonecrushing', 2256), ('playoffs', 13182), ('marred', 10770), ('superstition', 16996), ('josiah', 9485), ('bartlet', 1726), ('airstrikes', 704), ('pound', 13394), ('wiggles', 19144), ('choreography', 3267), ('perfectly', 12921), ('imperfect', 8754), ('alltoopublic', 825), ('homesteading', 8374), ('primeval', 13548), ('abusing', 406), ('geralt', 7345), ('rivia', 14802), ('mutated', 11645), ('monsterhunter', 11436), ('hissrich', 8293), ('powering', 13406), ('acoustics', 462), ('ears', 5494), ('libertine', 10164), ('hejie', 8123), ('xiaoqian', 19407), ('chengen', 3172), ('biggame', 2010), ('jacine', 9272), ('jadresko', 9281), ('rabbi', 13919), ('incite', 8819), ('shipyard', 15764), ('notices', 12056), ('equestrian', 5927), ('actressproperty', 494), ('caroline', 2876), ('conservationist', 3830), ('scaly', 15222), ('illegally', 8686), ('trafficked', 17855), ('belong', 1887), ('jill', 9399), ('murphys', 11620), ('eerily', 5568), ('texted', 17474), ('jiang', 9394), ('chenbo', 3171), ('catalyst', 2943), ('upturn', 18492), ('centurion', 3016), ('nazareth', 11774), ('bicycles', 1999), ('capsized', 2804), ('wineloving', 19189), ('superstitionshunning', 16998), ('massimo', 10815), ('bottura', 2326), ('needy', 11808), ('expo', 6236), ('mokia', 11396), ('thelonious', 17505), ('hypochondriac', 8607), ('pitt', 13129), ('chimpanzees', 3232), ('padnos', 12605), ('alqaida', 849), ('prospector', 13688), ('stoking', 16704), ('minority', 11250), ('preoccupied', 13466), ('yvan', 19521), ('antisemitism', 1058), ('powered', 13401), ('entertainers', 5874), ('welless', 19039), ('the', 17496), ('thiago', 17529), ('ventura', 18630), ('highwayman', 8243), ('lichte', 10170), ('downtrodden', 5279), ('flanders', 6730), ('halfdutch', 7860), ('pramoedya', 13423), ('ananta', 948), ('toers', 17704), ('hackers', 7829), ('exploit', 6219), ('sous', 16315), ('tomorrowland', 17730), ('centenarians', 3009), ('inheritancehungry', 8960), ('girlcrazy', 7406), ('greatgrandson', 7637), ('sodor', 16207), ('flurry', 6817), ('inventions', 9155), ('useful', 18512), ('weave', 18985), ('delays', 4648), ('debacles', 4519), ('muay', 11567), ('asgard', 1281), ('stumped', 16847), ('thorne', 17563), ('dragged', 5298), ('dedicates', 4582), ('awaiting', 1515), ('occurring', 12186), ('polygamist', 13280), ('rockland', 14856), ('mormons', 11477), ('utah', 18528), ('cristy', 4198), ('conceal', 3719), ('debuts', 4534), ('compton', 3708), ('ufc', 18176), ('ronda', 14919), ('rouseys', 14958), ('p47', 12580), ('thunderbolt', 17610), ('shown', 15824), ('raids', 13972), ('mcteers', 10910), ('orphelin', 12439), ('generationslong', 7309), ('sirens', 15964), ('tidying', 17632), ('marie', 10746), ('kondo', 9799), ('trainees', 17872), ('madrids', 10560), ('melilla', 10999), ('rif', 14735), ('handpicked', 7902), ('oozing', 12339), ('bombastic', 2241), ('studded', 16829), ('unpretentious', 18385), ('notaro', 12047), ('announced', 1021), ('studied', 16834), ('zoo', 19585), ('murderforhire', 11612), ('frente', 7042), ('tijuana', 17647), ('preventing', 13521), ('middlemen', 11141), ('cooperative', 3956), ('speculative', 16388), ('mirrorfiction', 11272), ('headlong', 8050), ('deepest', 4594), ('stuff', 16841), ('lawn', 10014), ('grunts', 7732), ('lawns', 10015), ('flanked', 6731), ('orchestra', 12392), ('minchin', 11214), ('albert', 735), ('wonderfully', 19275), ('canvas', 2790), ('delhis', 4652), ('archaeology', 1158), ('kalief', 9583), ('browder', 2515), ('spousal', 16482), ('computergenerated', 3712), ('graphics', 7612), ('retell', 14611), ('impish', 8764), ('lamb', 9909), ('fairness', 6344), ('fearsomelooking', 6489), ('neverbeast', 11874), ('fawn', 6475), ('journal', 9489), ('sixyearold', 15987), ('weisbarth', 19026), ('giffin', 7379), ('hypercustomized', 8601), ('replacement', 14484), ('meadow', 10914), ('titipo', 17687), ('reliably', 14390), ('pantsula', 12669), ('officially', 12236), ('seattlebased', 15384), ('article', 1261), ('nationalism', 11744), ('venezuelas', 18622), ('multibilliondollar', 11586), ('simone', 15910), ('senegalese', 15516), ('nervosa', 11851), ('midwestern', 11150), ('classically', 3369), ('horrid', 8434), ('tobots', 17696), ('flightdelayed', 6770), ('appointments', 1114), ('bonedry', 2257), ('wine', 19186), ('bounces', 2330), ('kit', 9755), ('denying', 4713), ('compliments', 3700), ('lauriente', 10002), ('animatedly', 1005), ('slices', 16073), ('quixotic', 13915), ('sanitation', 15152), ('predominantly', 13451), ('transactional', 17884), ('weighing', 19017), ('booth', 2285), ('reassigned', 14149), ('papa', 12670), ('staten', 16608), ('segura', 15434), ('uncomfortably', 18234), ('youd', 19485), ('offhand', 12230), ('appraisals', 1116), ('digestive', 4916), ('blunt', 2190), ('bearded', 1800), ('piercings', 13065), ('tyson', 18167), ('tomasz', 17721), ('jachimek', 9271), ('jacek', 9270), ('stramik', 16750), ('megalomaniacal', 10979), ('patience', 12800), ('arguably', 1189), ('robbins', 14830), ('megaevent', 10976), ('mingle', 11232), ('twelveyearold', 18123), ('calvin', 2734), ('guadalcanal', 7736), ('brig', 2451), ('toon', 17744), ('biz', 2088), ('skyrockets', 16031), ('knocking', 9778), ('persistently', 12953), ('ufos', 18178), ('hayes', 8031), ('grier', 7669), ('tightrope', 17645), ('nomad', 11994), ('postmanturnedsoothsayer', 13370), ('unspool', 18416), ('poem', 13228), ('ryūji', 15050), ('taiga', 17211), ('tongue', 17732), ('exarmy', 6089), ('toros', 17771), ('toro', 17769), ('booming', 2278), ('interspersed', 9108), ('bongs', 2260), ('douglas', 5261), ('quaid', 13860), ('insurrection', 9049), ('perpetual', 12943), ('queenslands', 13882), ('semis', 15507), ('málaga', 11671), ('retrial', 14629), ('messenger', 11080), ('livelihood', 10266), ('julians', 9526), ('rickys', 14723), ('julian', 9525), ('legit', 10093), ('demolish', 4687), ('bravado', 2389), ('intoxicated', 9127), ('requirements', 14517), ('miscreants', 11282), ('lamest', 9915), ('sunnyvale', 16962), ('jroc', 9504), ('rapped', 14060), ('barb', 1689), ('lahey', 9895), ('lam', 9906), ('renton', 14464), ('infiltration', 8927), ('briefcase', 2450), ('singularity', 15955), ('computers', 3714), ('boating', 2202), ('woodworker', 19294), ('florian', 6800), ('powerlifter', 13407), ('kroczaleski', 9835), ('autobots', 1474), ('decepticons', 4548), ('megatron', 10985), ('bots', 2321), ('cybertron', 4364), ('optimus', 12379), ('allspark', 821), ('memoryscrambled', 11021), ('transformers', 17900), ('heatwave', 8092), ('blades', 2106), ('autobot', 1473), ('ravage', 14090), ('heap', 8068), ('loutish', 10422), ('onur', 12335), ('incurable', 8838), ('klutz', 9767), ('şeref', 19607), ('organizes', 12419), ('crafting', 4106), ('astroworld', 1366), ('travis', 17939), ('bulldozer', 2573), ('damien', 4411), ('hirsts', 8289), ('oceanic', 12192), ('virtue', 18758), ('politeness', 13267), ('trees', 17957), ('brotherandsister', 2507), ('toby', 17697), ('teri', 17426), ('seismologist', 15440), ('readings', 14116), ('equipment', 5928), ('handymen', 7906), ('30footlong', 246), ('suck', 16904), ('supersucking', 17001), ('worming', 19327), ('worm', 19325), ('burt', 2631), ('gummer', 7779), ('graboids', 7570), ('survivalist', 17057), ('wormlike', 19328), ('graboidhunter', 7569), ('weaponized', 18978), ('naming', 11700), ('shouldnt', 15813), ('tacos', 17195), ('snakes', 16143), ('immunity', 8741), ('jostling', 9487), ('systemic', 17170), ('emphasis', 5734), ('goan', 7480), ('nowderelict', 12078), ('recalling', 14172), ('interpersonal', 9091), ('shoplifters', 15790), ('distinct', 5096), ('adept', 527), ('tampa', 17256), ('buccaneers', 2540), ('muscle', 11623), ('trixie', 18015), ('mattel', 10850), ('poppy', 13308), ('bergens', 1928), ('celebrations', 2992), ('trotro', 18026), ('aphrodite', 1088), ('herdsman', 8161), ('sparta', 16359), ('homers', 8369), ('odysseuss', 12210), ('extension', 6264), ('lecherous', 10072), ('somethings', 16251), ('bartleby', 1724), ('mattie', 10854), ('crusty', 4261), ('rooster', 14934), ('cogburn', 3506), ('forcibly', 6883), ('venezuela', 18620), ('bleed', 2122), ('freshly', 7048), ('grippitygrab', 7687), ('grizelda', 7694), ('bracelet', 2359), ('grabbleapple', 7567), ('glummy', 7469), ('glooma', 7459), ('autumn', 1481), ('loneliest', 10331), ('contagious', 3867), ('cue', 4286), ('neverending', 11879), ('dillydally', 4933), ('spinner', 16426), ('pinocchio', 13099), ('yeti', 19457), ('howling', 8501), ('greenies', 7648), ('freezing', 7033), ('wishfest', 19228), ('dogooding', 5180), ('tippy', 17678), ('wuzzle', 19391), ('wegg', 19013), ('bartlebys', 1725), ('weggstealing', 19014), ('blacklisted', 2095), ('dalton', 4408), ('trumbo', 18048), ('canceled', 2768), ('noisy', 11991), ('toucan', 17788), ('tuca', 18067), ('selfdoubting', 15471), ('thrush', 17602), ('bertie', 1940), ('relax', 14376), ('saints', 15092), ('ramifications', 14012), ('morake', 11465), ('fisheries', 6691), ('cultivation', 4300), ('pleasureseeking', 13193), ('reticent', 14616), ('bakery', 1618), ('stranglehold', 16758), ('speedobsessed', 16394), ('imbues', 8721), ('amps', 931), ('1778', 57), ('abe', 370), ('woodhull', 19289), ('cabbage', 2678), ('obliged', 12145), ('spying', 16510), ('wiseguy', 19223), ('podcaster', 13227), ('seafarer', 15364), ('transformational', 17896), ('walrusmonster', 18887), ('reggies', 14316), ('reenacts', 14274), ('tsutomu', 18064), ('yamaguchi', 19424), ('vitoriagasteiz', 18785), ('mimicking', 11211), ('palmer', 12645), ('lips', 10236), ('bead', 1794), ('twirlywoos', 18134), ('boat', 2201), ('ganesha', 7234), ('lawmakers', 10011), ('catalonias', 2942), ('seunggi', 15597), ('jasper', 9323), ('honolulu', 8391), ('heavyweight', 8098), ('acquiesce', 465), ('rear', 14139), ('kabir', 9572), ('kuhu', 9844), ('halfnaked', 7863), ('whim', 19091), ('bs', 2531), ('grub', 7725), ('storyline', 16735), ('representing', 14499), ('sainz', 15093), ('ultraman', 18194), ('rescuerforhire', 14521), ('uncharted', 18228), ('fanatic', 6383), ('follower', 6847), ('composes', 3702), ('preyed', 13527), ('kaczynski', 9573), ('unabomber', 18202), ('greer', 7652), ('shipper', 15761), ('secondincommand', 15390), ('spate', 16363), ('anymore', 1071), ('kimmys', 9722), ('reverends', 14664), ('stave', 16623), ('lluís', 10281), ('carlana', 2860), ('carlanas', 2861), ('crystals', 4270), ('adrenalinerush', 564), ('yemeni', 19452), ('uae', 18170), ('sommelier', 16255), ('implicate', 8768), ('playoff', 13181), ('lawbreakers', 10009), ('warns', 18926), ('beaches', 1789), ('riccione', 14709), ('iraniraq', 9195), ('liquid', 10240), ('campground', 2757), ('weekends', 19009), ('iiera', 8674), ('archenemy', 1161), ('foosball', 6864), ('incarnated', 8811), ('batchmates', 1751), ('arthurs', 1260), ('choir', 3257), ('cybercrimes', 4361), ('somber', 16247), ('comicsloving', 3609), ('eradicating', 5933), ('selecting', 15448), ('editing', 5548), ('phd', 12996), ('fatigue', 6461), ('puzzling', 13842), ('laurie', 10001), ('pedophile', 12870), ('abrupt', 389), ('romanias', 14904), ('roam', 14815), ('ghastly', 7362), ('overnighting', 12538), ('bingham', 2046), ('firing', 6679), ('assets', 1329), ('indy', 8891), ('fray', 7007), ('callous', 2728), ('tricked', 17985), ('exploiters', 6222), ('urzila', 18504), ('carlson', 2866), ('roaring', 14819), ('recasting', 14176), ('boxed', 2345), ('supplies', 17009), ('fastspreading', 6444), ('bloodsucking', 2162), ('fiends', 6593), ('invading', 9148), ('dalgeon', 4405), ('haeri', 7835), ('elísabet', 5678), ('benavent', 1901), ('helicopter', 8127), ('unseemly', 18409), ('disciplinary', 4997), ('committee', 3640), ('gentrifying', 7330), ('antiterrorism', 1060), ('ashton', 1292), ('bandit', 1661), ('punches', 13790), ('calmer', 2731), ('pacifist', 12587), ('entrants', 5890), ('vitro', 18787), ('fertilization', 6563), ('veggie', 18605), ('horizons', 8428), ('faithbased', 6350), ('tomato', 17722), ('cucumber', 4283), ('seamstress', 15369), ('snap', 16144), ('velvet', 18613), ('holding', 8339), ('minding', 11220), ('gilded', 7393), ('polygamy', 13281), ('piety', 13069), ('congenial', 3791), ('fourway', 6961), ('edinburgh', 5545), ('fahri', 6332), ('aisha', 706), ('thiru', 17554), ('di', 4864), ('viceroy', 18668), ('mountbatten', 11540), ('oversee', 12544), ('bilbao', 2029), ('jihadi', 9397), ('vega', 18599), ('olaya', 12266), ('miner', 11227), ('emigrates', 5713), ('1934', 105), ('odin', 12207), ('parcak', 12704), ('explorations', 6225), ('pub', 13759), ('terse', 17453), ('violet', 18742), ('evergarden', 6049), ('emotionless', 5729), ('vir', 18748), ('das', 4460), ('globalism', 7449), ('cleverly', 3405), ('crosscut', 4219), ('vedas', 18595), ('vasco', 18586), ('gama', 7217), ('vacuous', 18540), ('plotlines', 13200), ('homebound', 8360), ('sahay', 15080), ('grandkids', 7598), ('gorillas', 7541), ('virunga', 18760), ('rulers', 15001), ('nascent', 11731), ('1974', 138), ('anatolia', 953), ('trepidation', 17967), ('tvobsessed', 18117), ('bemused', 1899), ('ezekiel', 6299), ('nontraditional', 12008), ('pharrell', 12993), ('megapowerful', 10983), ('voltron', 18809), ('yacine', 19420), ('belhousse', 1869), ('talese', 17238), ('spied', 16414), ('bombshell', 2247), ('halfcar', 7857), ('halfanimal', 7854), ('zippy', 19571), ('kamau', 9585), ('dustups', 5444), ('woke', 19254), ('grid', 7663), ('glossy', 7465), ('juxtaposes', 9565), ('winthrop', 19207), ('dishonorably', 5041), ('bbc', 1782), ('ask', 1298), ('passive', 12777), ('wadi', 18843), ('serene', 15554), ('educators', 5563), ('reformers', 14292), ('eighthour', 5595), ('shenaniganz', 15723), ('anesthesiologist', 981), ('brat', 2388), ('meaningless', 10921), ('significantly', 15887), ('attic', 1415), ('yugo', 19505), ('eliatrope', 5640), ('wakfu', 18864), ('qilby', 13852), ('ogrests', 12249), ('crying', 4264), ('amalias', 880), ('dofus', 5173), ('zen', 19547), ('thich', 17530), ('nhat', 11912), ('hanh', 7914), ('mindfulness', 11219), ('monastic', 11413), ('occurs', 12187), ('paperman', 12672), ('wanda', 18894), ('sykes', 17150), ('nekfeu', 11832), ('polaropposite', 13249), ('taut', 17307), ('actionthriller', 482), ('indiapakistan', 8859), ('englishman', 5819), ('cavalry', 2976), ('headon', 8052), ('hubris', 8509), ('intimidated', 9123), ('happenings', 7927), ('soontoberetiring', 16276), ('lino', 10231), ('halobearer', 7878), ('demonhunting', 4691), ('striking', 16802), ('dated', 4467), ('joon', 9472), ('rushing', 15029), ('barons', 1713), ('waterschool', 18960), ('warren', 18930), ('bedandbreakfast', 1827), ('amputee', 932), ('grandmaster', 7600), ('careeroriented', 2842), ('solidarité', 16232), ('nationalistic', 11746), ('fervor', 6565), ('rostock', 14949), ('xenophobic', 19403), ('vandana', 18569), ('unchecked', 18229), ('visceral', 18764), ('hackman', 7830), ('corps', 3994), ('lalaloopsy', 9904), ('collaboration', 3526), ('thesis', 17522), ('retailers', 14604), ('glock', 7457), ('pistol', 13117), ('implications', 8771), ('kirkuk', 9749), ('coffins', 3504), ('foreshadows', 6898), ('mathiass', 10841), ('mediafriendly', 10948), ('buoyed', 2601), ('farce', 6405), ('respectable', 14568), ('dim', 4934), ('draculas', 5290), ('illiterate', 8690), ('correspondence', 4001), ('hostiles', 8464), ('paranoia', 12695), ('campers', 2756), ('droughtridden', 5370), ('briberylaced', 2437), ('bone', 2255), ('marrow', 10777), ('donation', 5215), ('leukemia', 10140), ('bea', 1787), ('insult', 9045), ('mecca', 10930), ('wellheeled', 19041), ('infantry', 8909), ('lacking', 9880), ('firepower', 6675), ('peninsula', 12886), ('simmons', 15907), ('westside', 19067), ('barbell', 1694), ('powerlifting', 13408), ('firewood', 6678), ('hankypanky', 7917), ('hooky', 8409), ('nayla', 11773), ('interrogates', 9098), ('onechild', 12310), ('septuplets', 15547), ('detection', 4806), ('wakeup', 18863), ('neverbeforeheard', 11876), ('nowgrown', 12079), ('jokingly', 9456), ('longterm', 10362), ('monogamous', 11430), ('reassure', 14150), ('psychopathy', 13753), ('nonviolent', 12010), ('peimei', 12878), ('fortuitously', 6931), ('postapocalypse', 13359), ('crabby', 4094), ('healthcare', 8064), ('industries', 8887), ('glam', 7422), ('fertility', 6562), ('sardinian', 15171), ('loren', 10389), ('gilbert', 7392), ('edition', 5549), ('modernity', 11377), ('yogesh', 19469), ('astrological', 1357), ('uppercrust', 18478), ('theyd', 17524), ('coordinating', 3957), ('unluckyinlove', 18369), ('dongbaek', 5218), ('persuade', 12965), ('prodigious', 13604), ('allwhite', 830), ('hipster', 8280), ('initially', 8964), ('whindersson', 19094), ('nunes', 12102), ('attachments', 1394), ('glimmers', 7440), ('verse', 18648), ('captor', 2815), ('commanding', 3617), ('wolfdogs', 19257), ('distinctly', 5098), ('romping', 14917), ('essex', 5990), ('ibiza', 8616), ('narrow', 11725), ('kari', 9614), ('byron', 2671), ('tory', 17780), ('belleci', 1882), ('imahara', 8719), ('mythbusters', 11663), ('whitney', 19109), ('cummings', 4309), ('4yearold', 287), ('frustratingly', 7094), ('alago', 725), ('signed', 15885), ('desirable', 4772), ('geneticist', 7315), ('dispels', 5069), ('monogamy', 11431), ('russoamerican', 15036), ('varied', 18580), ('continental', 3889), ('abundance', 401), ('surrendering', 17049), ('exguerrilla', 6145), ('avoids', 1513), ('utopian', 18531), ('ingenious', 8948), ('arsenal', 1245), ('topnotch', 17751), ('liberated', 10160), ('verdies', 18640), ('grimps', 7682), ('tickets', 17625), ('holders', 8338), ('confectionary', 3753), ('firearms', 6667), ('constructs', 3856), ('product', 13612), ('winesoaked', 19191), ('napa', 11709), ('messier', 11083), ('faison', 6348), ('numericalbased', 12099), ('tidbits', 17629), ('smallest', 16104), ('93', 335), ('ukraine', 18184), ('exlieutenant', 6164), ('moribund', 11475), ('aidan', 677), ('tack', 17188), ('sameaged', 15122), ('harmony', 7969), ('other', 12457), ('suzannah', 17084), ('lipscomb', 10237), ('17th', 58), ('defrauding', 4624), ('arshile', 1248), ('gorky', 7542), ('arcadia', 1154), ('timebending', 17653), ('specialoperations', 16377), ('crossed', 4221), ('strips', 16808), ('wonho', 19282), ('chung', 3299), ('ratchets', 14076), ('floats', 6788), ('potent', 13384), ('decays', 4543), ('reminisce', 14427), ('pecks', 12862), ('bailey', 1610), ('franny', 6995), ('kip', 9745), ('lulu', 10483), ('tilly', 17650), ('maternity', 10836), ('renxin', 14466), ('wow', 19345), ('winx', 19209), ('worldly', 19318), ('rescuers', 14522), ('definition', 4620), ('workings', 19309), ('metropolises', 11104), ('avoided', 1511), ('profiling', 13630), ('bubbleshaped', 2536), ('bottles', 2324), ('fantastically', 6399), ('residences', 14543), ('mkultra', 11348), ('winnertakesall', 19200), ('boori', 2282), ('pryor', 13737), ('controlling', 3915), ('bootlegger', 2286), ('huston', 8583), ('aleutian', 757), ('wyatt', 19395), ('cenac', 3005), ('borough', 2304), ('sitcoms', 15974), ('cheesemongers', 3162), ('earp', 5493), ('corral', 3996), ('holliday', 8349), ('revenants', 14660), ('obesityrelated', 12138), ('hasbeen', 7994), ('allure', 828), ('touched', 17790), ('rushseeker', 15030), ('deemed', 4589), ('untouchable', 18429), ('cooperating', 3955), ('xxx', 19417), ('augustus', 1445), ('gibbons', 7376), ('tenoch', 17413), ('julio', 9530), ('luisa', 10480), ('fervent', 6564), ('frías', 7097), ('parras', 12732), ('im', 8706), ('industrious', 8888), ('dharam', 4862), ('swati', 17097), ('virtually', 18757), ('qing', 13854), ('leprosy', 10124), ('clamors', 3349), ('harshu', 7984), ('balances', 1624), ('tags', 17208), ('tomboyish', 17725), ('distractions', 5100), ('heartaches', 8076), ('attractions', 1424), ('refresh', 14294), ('devoutly', 4858), ('suppressing', 17018), ('seungri', 15598), ('bigbangs', 2005), ('ygs', 19458), ('frees', 7027), ('nates', 11740), ('allimportant', 809), ('oto', 12462), ('viks', 18712), ('playgrounds', 13179), ('vik', 18707), ('whichever', 19090), ('yoo', 19474), ('byungjae', 2674), ('touchy', 17793), ('writerturnedcomedian', 19374), ('bare', 1701), ('yoohoo', 19475), ('insert', 9006), ('footing', 6871), ('brandnew', 2382), ('moneyminded', 11421), ('christmasloving', 3282), ('hairstylist', 7848), ('youll', 19486), ('dallying', 4407), ('manchild', 10663), ('georgina', 7343), ('announcing', 1024), ('incriminating', 8835), ('incendiary', 8812), ('hate', 8007), ('fasttracking', 6446), ('wallander', 18880), ('prodigys', 13606), ('jiahan', 9393), ('birdy', 2064), ('kanan', 9590), ('gill', 7394), ('tumult', 18079), ('morsis', 11488), ('ouster', 12470), ('demonstrators', 4699), ('calamities', 2708), ('replaying', 14487), ('yugi', 19504), ('moto', 11524), ('téa', 18168), ('pendulum', 12882), ('technique', 17340), ('yuyas', 19520), ('dueltainer', 5409), ('creatively', 4142), ('fatherly', 6457), ('mongol', 11422), ('invasions', 9151), ('yunus', 19513), ('emre', 5750), ('temptations', 17392), ('dervish', 4748), ('zé', 19597), ('pianoplaying', 13045), ('miri', 11268), ('zak', 19526), ('bermuda', 1936), ('unqualified', 18386), ('disapproves', 4980), ('dogtraining', 5183), ('obey', 12139), ('cureall', 4320), ('clearance', 3393), ('partys', 12762), ('vertically', 18652), ('laundering', 9996), ('zig', 19562), ('islandbound', 9230), ('hyena', 8595), ('sharko', 15685), ('kashaf', 9625), ('zaroon', 19532), ('tripbachelor', 18004), ('sadist', 15068), ('clark', 3356), ('zip', 19569), ('zap', 19529), ('zoé', 19591), ('franciscos', 6986), ('zoids', 19579), ('untapped', 18424), ('dorky', 5240), ('roughneck', 14955), ('deprives', 4737), ('zozo', 19590), ('introducing', 9136), ('adriano', 566), ('zumbo', 19595), ('amateurs', 890), ('mystique', 11661), ('bluesrock', 2183)])"
            ]
          },
          "metadata": {},
          "execution_count": 60
        }
      ]
    },
    {
      "cell_type": "code",
      "source": [
        "vocab = [ ]\n",
        "count_of_vocab = []\n",
        "for key , value in dictionary:\n",
        "  vocab.append( key )\n",
        "  count_of_vocab.append( value )"
      ],
      "metadata": {
        "id": "j4qvXjXMnalU"
      },
      "execution_count": null,
      "outputs": []
    },
    {
      "cell_type": "markdown",
      "source": [
        "###<B>Creating a new DataFrame vocab_before_stemming\n"
      ],
      "metadata": {
        "id": "WOYgUocindvK"
      }
    },
    {
      "cell_type": "code",
      "source": [
        "# Store the count in panadas dataframe with vocab as index\n",
        "vocab_before_stemming = pd.DataFrame({\"Word\": vocab ,\n",
        "                                      \"count\" :count_of_vocab})\n",
        "# Sort the dataframe\n",
        "vocab_before_stemming = vocab_before_stemming.sort_values(\"count\" ,ascending=False)"
      ],
      "metadata": {
        "id": "uvP0F8tunjr7"
      },
      "execution_count": null,
      "outputs": []
    },
    {
      "cell_type": "code",
      "source": [
        "vocab_before_stemming.head(4)"
      ],
      "metadata": {
        "id": "OQzqET8YnlN8",
        "outputId": "3163bf65-ca67-4c5f-dae1-28d6dbd8339e",
        "colab": {
          "base_uri": "https://localhost:8080/",
          "height": 175
        }
      },
      "execution_count": null,
      "outputs": [
        {
          "output_type": "execute_result",
          "data": {
            "text/plain": [
              "            Word  count\n",
              "18869      şeref  19607\n",
              "10401      ōarai  19606\n",
              "12385     łukasz  19605\n",
              "11110  überelite  19604"
            ],
            "text/html": [
              "\n",
              "  <div id=\"df-17cac209-d92e-40c3-af67-1995b3722a1a\">\n",
              "    <div class=\"colab-df-container\">\n",
              "      <div>\n",
              "<style scoped>\n",
              "    .dataframe tbody tr th:only-of-type {\n",
              "        vertical-align: middle;\n",
              "    }\n",
              "\n",
              "    .dataframe tbody tr th {\n",
              "        vertical-align: top;\n",
              "    }\n",
              "\n",
              "    .dataframe thead th {\n",
              "        text-align: right;\n",
              "    }\n",
              "</style>\n",
              "<table border=\"1\" class=\"dataframe\">\n",
              "  <thead>\n",
              "    <tr style=\"text-align: right;\">\n",
              "      <th></th>\n",
              "      <th>Word</th>\n",
              "      <th>count</th>\n",
              "    </tr>\n",
              "  </thead>\n",
              "  <tbody>\n",
              "    <tr>\n",
              "      <th>18869</th>\n",
              "      <td>şeref</td>\n",
              "      <td>19607</td>\n",
              "    </tr>\n",
              "    <tr>\n",
              "      <th>10401</th>\n",
              "      <td>ōarai</td>\n",
              "      <td>19606</td>\n",
              "    </tr>\n",
              "    <tr>\n",
              "      <th>12385</th>\n",
              "      <td>łukasz</td>\n",
              "      <td>19605</td>\n",
              "    </tr>\n",
              "    <tr>\n",
              "      <th>11110</th>\n",
              "      <td>überelite</td>\n",
              "      <td>19604</td>\n",
              "    </tr>\n",
              "  </tbody>\n",
              "</table>\n",
              "</div>\n",
              "      <button class=\"colab-df-convert\" onclick=\"convertToInteractive('df-17cac209-d92e-40c3-af67-1995b3722a1a')\"\n",
              "              title=\"Convert this dataframe to an interactive table.\"\n",
              "              style=\"display:none;\">\n",
              "        \n",
              "  <svg xmlns=\"http://www.w3.org/2000/svg\" height=\"24px\"viewBox=\"0 0 24 24\"\n",
              "       width=\"24px\">\n",
              "    <path d=\"M0 0h24v24H0V0z\" fill=\"none\"/>\n",
              "    <path d=\"M18.56 5.44l.94 2.06.94-2.06 2.06-.94-2.06-.94-.94-2.06-.94 2.06-2.06.94zm-11 1L8.5 8.5l.94-2.06 2.06-.94-2.06-.94L8.5 2.5l-.94 2.06-2.06.94zm10 10l.94 2.06.94-2.06 2.06-.94-2.06-.94-.94-2.06-.94 2.06-2.06.94z\"/><path d=\"M17.41 7.96l-1.37-1.37c-.4-.4-.92-.59-1.43-.59-.52 0-1.04.2-1.43.59L10.3 9.45l-7.72 7.72c-.78.78-.78 2.05 0 2.83L4 21.41c.39.39.9.59 1.41.59.51 0 1.02-.2 1.41-.59l7.78-7.78 2.81-2.81c.8-.78.8-2.07 0-2.86zM5.41 20L4 18.59l7.72-7.72 1.47 1.35L5.41 20z\"/>\n",
              "  </svg>\n",
              "      </button>\n",
              "      \n",
              "  <style>\n",
              "    .colab-df-container {\n",
              "      display:flex;\n",
              "      flex-wrap:wrap;\n",
              "      gap: 12px;\n",
              "    }\n",
              "\n",
              "    .colab-df-convert {\n",
              "      background-color: #E8F0FE;\n",
              "      border: none;\n",
              "      border-radius: 50%;\n",
              "      cursor: pointer;\n",
              "      display: none;\n",
              "      fill: #1967D2;\n",
              "      height: 32px;\n",
              "      padding: 0 0 0 0;\n",
              "      width: 32px;\n",
              "    }\n",
              "\n",
              "    .colab-df-convert:hover {\n",
              "      background-color: #E2EBFA;\n",
              "      box-shadow: 0px 1px 2px rgba(60, 64, 67, 0.3), 0px 1px 3px 1px rgba(60, 64, 67, 0.15);\n",
              "      fill: #174EA6;\n",
              "    }\n",
              "\n",
              "    [theme=dark] .colab-df-convert {\n",
              "      background-color: #3B4455;\n",
              "      fill: #D2E3FC;\n",
              "    }\n",
              "\n",
              "    [theme=dark] .colab-df-convert:hover {\n",
              "      background-color: #434B5C;\n",
              "      box-shadow: 0px 1px 3px 1px rgba(0, 0, 0, 0.15);\n",
              "      filter: drop-shadow(0px 1px 2px rgba(0, 0, 0, 0.3));\n",
              "      fill: #FFFFFF;\n",
              "    }\n",
              "  </style>\n",
              "\n",
              "      <script>\n",
              "        const buttonEl =\n",
              "          document.querySelector('#df-17cac209-d92e-40c3-af67-1995b3722a1a button.colab-df-convert');\n",
              "        buttonEl.style.display =\n",
              "          google.colab.kernel.accessAllowed ? 'block' : 'none';\n",
              "\n",
              "        async function convertToInteractive(key) {\n",
              "          const element = document.querySelector('#df-17cac209-d92e-40c3-af67-1995b3722a1a');\n",
              "          const dataTable =\n",
              "            await google.colab.kernel.invokeFunction('convertToInteractive',\n",
              "                                                     [key], {});\n",
              "          if (!dataTable) return;\n",
              "\n",
              "          const docLinkHtml = 'Like what you see? Visit the ' +\n",
              "            '<a target=\"_blank\" href=https://colab.research.google.com/notebooks/data_table.ipynb>data table notebook</a>'\n",
              "            + ' to learn more about interactive tables.';\n",
              "          element.innerHTML = '';\n",
              "          dataTable['output_type'] = 'display_data';\n",
              "          await google.colab.output.renderOutput(dataTable, element);\n",
              "          const docLink = document.createElement('div');\n",
              "          docLink.innerHTML = docLinkHtml;\n",
              "          element.appendChild(docLink);\n",
              "        }\n",
              "      </script>\n",
              "    </div>\n",
              "  </div>\n",
              "  "
            ]
          },
          "metadata": {},
          "execution_count": 63
        }
      ]
    },
    {
      "cell_type": "code",
      "source": [
        "vocab_before_stemming.head(20).T"
      ],
      "metadata": {
        "id": "DnK3oQsynlRK",
        "outputId": "3b3574ef-811f-4845-fcf7-2f8b468500ef",
        "colab": {
          "base_uri": "https://localhost:8080/",
          "height": 112
        }
      },
      "execution_count": null,
      "outputs": [
        {
          "output_type": "execute_result",
          "data": {
            "text/plain": [
              "       18869  10401   12385      11110  11681  13302  6591   18207   10439  \\\n",
              "Word   şeref  ōarai  łukasz  überelite   über   ömer  émile  ángel  álvaro   \n",
              "count  19607  19606   19605      19604  19603  19602  19601  19600   19599   \n",
              "\n",
              "       9872   19569   6543   19604  16427  7198        18409  19594  19601  \\\n",
              "Word    álex     zé  zurich  zumbo   zulu   zuhu  zuckerberg    zoé   zozo   \n",
              "count  19598  19597   19596  19595  19594  19593       19592  19591  19590   \n",
              "\n",
              "       10304  18084  \n",
              "Word    zoya  zorro  \n",
              "count  19589  19588  "
            ],
            "text/html": [
              "\n",
              "  <div id=\"df-efaaa1df-6b23-4525-9de7-09eacb328a59\">\n",
              "    <div class=\"colab-df-container\">\n",
              "      <div>\n",
              "<style scoped>\n",
              "    .dataframe tbody tr th:only-of-type {\n",
              "        vertical-align: middle;\n",
              "    }\n",
              "\n",
              "    .dataframe tbody tr th {\n",
              "        vertical-align: top;\n",
              "    }\n",
              "\n",
              "    .dataframe thead th {\n",
              "        text-align: right;\n",
              "    }\n",
              "</style>\n",
              "<table border=\"1\" class=\"dataframe\">\n",
              "  <thead>\n",
              "    <tr style=\"text-align: right;\">\n",
              "      <th></th>\n",
              "      <th>18869</th>\n",
              "      <th>10401</th>\n",
              "      <th>12385</th>\n",
              "      <th>11110</th>\n",
              "      <th>11681</th>\n",
              "      <th>13302</th>\n",
              "      <th>6591</th>\n",
              "      <th>18207</th>\n",
              "      <th>10439</th>\n",
              "      <th>9872</th>\n",
              "      <th>19569</th>\n",
              "      <th>6543</th>\n",
              "      <th>19604</th>\n",
              "      <th>16427</th>\n",
              "      <th>7198</th>\n",
              "      <th>18409</th>\n",
              "      <th>19594</th>\n",
              "      <th>19601</th>\n",
              "      <th>10304</th>\n",
              "      <th>18084</th>\n",
              "    </tr>\n",
              "  </thead>\n",
              "  <tbody>\n",
              "    <tr>\n",
              "      <th>Word</th>\n",
              "      <td>şeref</td>\n",
              "      <td>ōarai</td>\n",
              "      <td>łukasz</td>\n",
              "      <td>überelite</td>\n",
              "      <td>über</td>\n",
              "      <td>ömer</td>\n",
              "      <td>émile</td>\n",
              "      <td>ángel</td>\n",
              "      <td>álvaro</td>\n",
              "      <td>álex</td>\n",
              "      <td>zé</td>\n",
              "      <td>zurich</td>\n",
              "      <td>zumbo</td>\n",
              "      <td>zulu</td>\n",
              "      <td>zuhu</td>\n",
              "      <td>zuckerberg</td>\n",
              "      <td>zoé</td>\n",
              "      <td>zozo</td>\n",
              "      <td>zoya</td>\n",
              "      <td>zorro</td>\n",
              "    </tr>\n",
              "    <tr>\n",
              "      <th>count</th>\n",
              "      <td>19607</td>\n",
              "      <td>19606</td>\n",
              "      <td>19605</td>\n",
              "      <td>19604</td>\n",
              "      <td>19603</td>\n",
              "      <td>19602</td>\n",
              "      <td>19601</td>\n",
              "      <td>19600</td>\n",
              "      <td>19599</td>\n",
              "      <td>19598</td>\n",
              "      <td>19597</td>\n",
              "      <td>19596</td>\n",
              "      <td>19595</td>\n",
              "      <td>19594</td>\n",
              "      <td>19593</td>\n",
              "      <td>19592</td>\n",
              "      <td>19591</td>\n",
              "      <td>19590</td>\n",
              "      <td>19589</td>\n",
              "      <td>19588</td>\n",
              "    </tr>\n",
              "  </tbody>\n",
              "</table>\n",
              "</div>\n",
              "      <button class=\"colab-df-convert\" onclick=\"convertToInteractive('df-efaaa1df-6b23-4525-9de7-09eacb328a59')\"\n",
              "              title=\"Convert this dataframe to an interactive table.\"\n",
              "              style=\"display:none;\">\n",
              "        \n",
              "  <svg xmlns=\"http://www.w3.org/2000/svg\" height=\"24px\"viewBox=\"0 0 24 24\"\n",
              "       width=\"24px\">\n",
              "    <path d=\"M0 0h24v24H0V0z\" fill=\"none\"/>\n",
              "    <path d=\"M18.56 5.44l.94 2.06.94-2.06 2.06-.94-2.06-.94-.94-2.06-.94 2.06-2.06.94zm-11 1L8.5 8.5l.94-2.06 2.06-.94-2.06-.94L8.5 2.5l-.94 2.06-2.06.94zm10 10l.94 2.06.94-2.06 2.06-.94-2.06-.94-.94-2.06-.94 2.06-2.06.94z\"/><path d=\"M17.41 7.96l-1.37-1.37c-.4-.4-.92-.59-1.43-.59-.52 0-1.04.2-1.43.59L10.3 9.45l-7.72 7.72c-.78.78-.78 2.05 0 2.83L4 21.41c.39.39.9.59 1.41.59.51 0 1.02-.2 1.41-.59l7.78-7.78 2.81-2.81c.8-.78.8-2.07 0-2.86zM5.41 20L4 18.59l7.72-7.72 1.47 1.35L5.41 20z\"/>\n",
              "  </svg>\n",
              "      </button>\n",
              "      \n",
              "  <style>\n",
              "    .colab-df-container {\n",
              "      display:flex;\n",
              "      flex-wrap:wrap;\n",
              "      gap: 12px;\n",
              "    }\n",
              "\n",
              "    .colab-df-convert {\n",
              "      background-color: #E8F0FE;\n",
              "      border: none;\n",
              "      border-radius: 50%;\n",
              "      cursor: pointer;\n",
              "      display: none;\n",
              "      fill: #1967D2;\n",
              "      height: 32px;\n",
              "      padding: 0 0 0 0;\n",
              "      width: 32px;\n",
              "    }\n",
              "\n",
              "    .colab-df-convert:hover {\n",
              "      background-color: #E2EBFA;\n",
              "      box-shadow: 0px 1px 2px rgba(60, 64, 67, 0.3), 0px 1px 3px 1px rgba(60, 64, 67, 0.15);\n",
              "      fill: #174EA6;\n",
              "    }\n",
              "\n",
              "    [theme=dark] .colab-df-convert {\n",
              "      background-color: #3B4455;\n",
              "      fill: #D2E3FC;\n",
              "    }\n",
              "\n",
              "    [theme=dark] .colab-df-convert:hover {\n",
              "      background-color: #434B5C;\n",
              "      box-shadow: 0px 1px 3px 1px rgba(0, 0, 0, 0.15);\n",
              "      filter: drop-shadow(0px 1px 2px rgba(0, 0, 0, 0.3));\n",
              "      fill: #FFFFFF;\n",
              "    }\n",
              "  </style>\n",
              "\n",
              "      <script>\n",
              "        const buttonEl =\n",
              "          document.querySelector('#df-efaaa1df-6b23-4525-9de7-09eacb328a59 button.colab-df-convert');\n",
              "        buttonEl.style.display =\n",
              "          google.colab.kernel.accessAllowed ? 'block' : 'none';\n",
              "\n",
              "        async function convertToInteractive(key) {\n",
              "          const element = document.querySelector('#df-efaaa1df-6b23-4525-9de7-09eacb328a59');\n",
              "          const dataTable =\n",
              "            await google.colab.kernel.invokeFunction('convertToInteractive',\n",
              "                                                     [key], {});\n",
              "          if (!dataTable) return;\n",
              "\n",
              "          const docLinkHtml = 'Like what you see? Visit the ' +\n",
              "            '<a target=\"_blank\" href=https://colab.research.google.com/notebooks/data_table.ipynb>data table notebook</a>'\n",
              "            + ' to learn more about interactive tables.';\n",
              "          element.innerHTML = '';\n",
              "          dataTable['output_type'] = 'display_data';\n",
              "          await google.colab.output.renderOutput(dataTable, element);\n",
              "          const docLink = document.createElement('div');\n",
              "          docLink.innerHTML = docLinkHtml;\n",
              "          element.appendChild(docLink);\n",
              "        }\n",
              "      </script>\n",
              "    </div>\n",
              "  </div>\n",
              "  "
            ]
          },
          "metadata": {},
          "execution_count": 64
        }
      ]
    },
    {
      "cell_type": "code",
      "source": [
        "vocab_before_stemming.tail(4)\n"
      ],
      "metadata": {
        "id": "Aezh5C1gnlT2",
        "outputId": "69feb8e4-ba43-4a8c-9353-5d952ce4205d",
        "colab": {
          "base_uri": "https://localhost:8080/",
          "height": 175
        }
      },
      "execution_count": null,
      "outputs": [
        {
          "output_type": "execute_result",
          "data": {
            "text/plain": [
              "     Word  count\n",
              "639   100      3\n",
              "7622   10      2\n",
              "7968  009      1\n",
              "6873  007      0"
            ],
            "text/html": [
              "\n",
              "  <div id=\"df-2a2cfd09-5453-4978-9e89-b3254cdc5437\">\n",
              "    <div class=\"colab-df-container\">\n",
              "      <div>\n",
              "<style scoped>\n",
              "    .dataframe tbody tr th:only-of-type {\n",
              "        vertical-align: middle;\n",
              "    }\n",
              "\n",
              "    .dataframe tbody tr th {\n",
              "        vertical-align: top;\n",
              "    }\n",
              "\n",
              "    .dataframe thead th {\n",
              "        text-align: right;\n",
              "    }\n",
              "</style>\n",
              "<table border=\"1\" class=\"dataframe\">\n",
              "  <thead>\n",
              "    <tr style=\"text-align: right;\">\n",
              "      <th></th>\n",
              "      <th>Word</th>\n",
              "      <th>count</th>\n",
              "    </tr>\n",
              "  </thead>\n",
              "  <tbody>\n",
              "    <tr>\n",
              "      <th>639</th>\n",
              "      <td>100</td>\n",
              "      <td>3</td>\n",
              "    </tr>\n",
              "    <tr>\n",
              "      <th>7622</th>\n",
              "      <td>10</td>\n",
              "      <td>2</td>\n",
              "    </tr>\n",
              "    <tr>\n",
              "      <th>7968</th>\n",
              "      <td>009</td>\n",
              "      <td>1</td>\n",
              "    </tr>\n",
              "    <tr>\n",
              "      <th>6873</th>\n",
              "      <td>007</td>\n",
              "      <td>0</td>\n",
              "    </tr>\n",
              "  </tbody>\n",
              "</table>\n",
              "</div>\n",
              "      <button class=\"colab-df-convert\" onclick=\"convertToInteractive('df-2a2cfd09-5453-4978-9e89-b3254cdc5437')\"\n",
              "              title=\"Convert this dataframe to an interactive table.\"\n",
              "              style=\"display:none;\">\n",
              "        \n",
              "  <svg xmlns=\"http://www.w3.org/2000/svg\" height=\"24px\"viewBox=\"0 0 24 24\"\n",
              "       width=\"24px\">\n",
              "    <path d=\"M0 0h24v24H0V0z\" fill=\"none\"/>\n",
              "    <path d=\"M18.56 5.44l.94 2.06.94-2.06 2.06-.94-2.06-.94-.94-2.06-.94 2.06-2.06.94zm-11 1L8.5 8.5l.94-2.06 2.06-.94-2.06-.94L8.5 2.5l-.94 2.06-2.06.94zm10 10l.94 2.06.94-2.06 2.06-.94-2.06-.94-.94-2.06-.94 2.06-2.06.94z\"/><path d=\"M17.41 7.96l-1.37-1.37c-.4-.4-.92-.59-1.43-.59-.52 0-1.04.2-1.43.59L10.3 9.45l-7.72 7.72c-.78.78-.78 2.05 0 2.83L4 21.41c.39.39.9.59 1.41.59.51 0 1.02-.2 1.41-.59l7.78-7.78 2.81-2.81c.8-.78.8-2.07 0-2.86zM5.41 20L4 18.59l7.72-7.72 1.47 1.35L5.41 20z\"/>\n",
              "  </svg>\n",
              "      </button>\n",
              "      \n",
              "  <style>\n",
              "    .colab-df-container {\n",
              "      display:flex;\n",
              "      flex-wrap:wrap;\n",
              "      gap: 12px;\n",
              "    }\n",
              "\n",
              "    .colab-df-convert {\n",
              "      background-color: #E8F0FE;\n",
              "      border: none;\n",
              "      border-radius: 50%;\n",
              "      cursor: pointer;\n",
              "      display: none;\n",
              "      fill: #1967D2;\n",
              "      height: 32px;\n",
              "      padding: 0 0 0 0;\n",
              "      width: 32px;\n",
              "    }\n",
              "\n",
              "    .colab-df-convert:hover {\n",
              "      background-color: #E2EBFA;\n",
              "      box-shadow: 0px 1px 2px rgba(60, 64, 67, 0.3), 0px 1px 3px 1px rgba(60, 64, 67, 0.15);\n",
              "      fill: #174EA6;\n",
              "    }\n",
              "\n",
              "    [theme=dark] .colab-df-convert {\n",
              "      background-color: #3B4455;\n",
              "      fill: #D2E3FC;\n",
              "    }\n",
              "\n",
              "    [theme=dark] .colab-df-convert:hover {\n",
              "      background-color: #434B5C;\n",
              "      box-shadow: 0px 1px 3px 1px rgba(0, 0, 0, 0.15);\n",
              "      filter: drop-shadow(0px 1px 2px rgba(0, 0, 0, 0.3));\n",
              "      fill: #FFFFFF;\n",
              "    }\n",
              "  </style>\n",
              "\n",
              "      <script>\n",
              "        const buttonEl =\n",
              "          document.querySelector('#df-2a2cfd09-5453-4978-9e89-b3254cdc5437 button.colab-df-convert');\n",
              "        buttonEl.style.display =\n",
              "          google.colab.kernel.accessAllowed ? 'block' : 'none';\n",
              "\n",
              "        async function convertToInteractive(key) {\n",
              "          const element = document.querySelector('#df-2a2cfd09-5453-4978-9e89-b3254cdc5437');\n",
              "          const dataTable =\n",
              "            await google.colab.kernel.invokeFunction('convertToInteractive',\n",
              "                                                     [key], {});\n",
              "          if (!dataTable) return;\n",
              "\n",
              "          const docLinkHtml = 'Like what you see? Visit the ' +\n",
              "            '<a target=\"_blank\" href=https://colab.research.google.com/notebooks/data_table.ipynb>data table notebook</a>'\n",
              "            + ' to learn more about interactive tables.';\n",
              "          element.innerHTML = '';\n",
              "          dataTable['output_type'] = 'display_data';\n",
              "          await google.colab.output.renderOutput(dataTable, element);\n",
              "          const docLink = document.createElement('div');\n",
              "          docLink.innerHTML = docLinkHtml;\n",
              "          element.appendChild(docLink);\n",
              "        }\n",
              "      </script>\n",
              "    </div>\n",
              "  </div>\n",
              "  "
            ]
          },
          "metadata": {},
          "execution_count": 65
        }
      ]
    },
    {
      "cell_type": "markdown",
      "source": [
        "###<B>TOP 10 most occurred words"
      ],
      "metadata": {
        "id": "7OWOcs7Wnw2c"
      }
    },
    {
      "cell_type": "code",
      "source": [
        "top15_most_ocurred_vacab = vocab_before_stemming.head(15)"
      ],
      "metadata": {
        "id": "F9uYaX7PntwW"
      },
      "execution_count": null,
      "outputs": []
    },
    {
      "cell_type": "code",
      "source": [
        "top15_most_occurred_words = top15_most_ocurred_vacab.Word.values \n",
        "top15_most_occurred_words"
      ],
      "metadata": {
        "id": "WtIafmSNntyc",
        "outputId": "57c5dcc2-2b6c-4a96-9df6-225d61d6f962",
        "colab": {
          "base_uri": "https://localhost:8080/"
        }
      },
      "execution_count": null,
      "outputs": [
        {
          "output_type": "execute_result",
          "data": {
            "text/plain": [
              "array(['şeref', 'ōarai', 'łukasz', 'überelite', 'über', 'ömer', 'émile',\n",
              "       'ángel', 'álvaro', 'álex', 'zé', 'zurich', 'zumbo', 'zulu', 'zuhu'],\n",
              "      dtype=object)"
            ]
          },
          "metadata": {},
          "execution_count": 67
        }
      ]
    },
    {
      "cell_type": "code",
      "source": [
        "top15_most_occurred_words_count = top15_most_ocurred_vacab['count'].values \n",
        "top15_most_occurred_words_count"
      ],
      "metadata": {
        "id": "SK-f2GDWnt2C",
        "outputId": "69e90398-690e-4037-bf24-84c33c66b0d9",
        "colab": {
          "base_uri": "https://localhost:8080/"
        }
      },
      "execution_count": null,
      "outputs": [
        {
          "output_type": "execute_result",
          "data": {
            "text/plain": [
              "array([19607, 19606, 19605, 19604, 19603, 19602, 19601, 19600, 19599,\n",
              "       19598, 19597, 19596, 19595, 19594, 19593])"
            ]
          },
          "metadata": {},
          "execution_count": 68
        }
      ]
    },
    {
      "cell_type": "code",
      "source": [
        "plt.figure( figsize = ( 16,6 ))\n",
        "plt.xlim(19550, 19600)\n",
        "plt.barh(top15_most_occurred_words , top15_most_occurred_words_count )"
      ],
      "metadata": {
        "id": "dEifX8nOn-CG",
        "outputId": "68df7b5e-ce68-469f-b17a-85b5c6a4c1c3",
        "colab": {
          "base_uri": "https://localhost:8080/",
          "height": 391
        }
      },
      "execution_count": null,
      "outputs": [
        {
          "output_type": "execute_result",
          "data": {
            "text/plain": [
              "<BarContainer object of 15 artists>"
            ]
          },
          "metadata": {},
          "execution_count": 69
        },
        {
          "output_type": "display_data",
          "data": {
            "text/plain": [
              "<Figure size 1152x432 with 1 Axes>"
            ],
            "image/png": "[encoded data removed]"
          },
          "metadata": {
            "needs_background": "light"
          }
        }
      ]
    },
    {
      "cell_type": "markdown",
      "source": [
        "##<B>SnowballStemmer( 'english' )"
      ],
      "metadata": {
        "id": "zZpIi6LBoCRA"
      }
    },
    {
      "cell_type": "code",
      "source": [
        "# Create an object of stemming function\n",
        "stemmer = SnowballStemmer(\"english\")"
      ],
      "metadata": {
        "id": "wnniYgZjoIZH"
      },
      "execution_count": null,
      "outputs": []
    },
    {
      "cell_type": "code",
      "source": [
        "def Apply_stemming(text):    \n",
        "    '''a function which stems each word in the given text'''\n",
        "    text = [stemmer.stem(word) for word in text.split()]\n",
        "    return \" \".join(text)"
      ],
      "metadata": {
        "id": "uaxK_Dg0oIbZ"
      },
      "execution_count": null,
      "outputs": []
    },
    {
      "cell_type": "code",
      "source": [
        "#Stemming for description\n",
        "nf['description'] = nf['description'].apply( Apply_stemming )\n",
        "nf.head()"
      ],
      "metadata": {
        "id": "pkFyy9UjoIex",
        "outputId": "ebeb8ae9-fb54-4bc2-bf91-14349d539e3c",
        "colab": {
          "base_uri": "https://localhost:8080/",
          "height": 337
        }
      },
      "execution_count": null,
      "outputs": [
        {
          "output_type": "execute_result",
          "data": {
            "text/plain": [
              "  show_id     type  title           director  \\\n",
              "0      s1  TV Show     3%                NaN   \n",
              "1      s2    Movie   7:19  Jorge Michel Grau   \n",
              "2      s3    Movie  23:59       Gilbert Chan   \n",
              "3      s4    Movie      9        Shane Acker   \n",
              "4      s5    Movie     21     Robert Luketic   \n",
              "\n",
              "                                                cast        country  \\\n",
              "0  João Miguel, Bianca Comparato, Michel Gomes, R...         Brazil   \n",
              "1  Demián Bichir, Héctor Bonilla, Oscar Serrano, ...         Mexico   \n",
              "2  Tedd Chan, Stella Chung, Henley Hii, Lawrence ...      Singapore   \n",
              "3  Elijah Wood, John C. Reilly, Jennifer Connelly...  United States   \n",
              "4  Jim Sturgess, Kevin Spacey, Kate Bosworth, Aar...  United States   \n",
              "\n",
              "          date_added  release_year rating   duration  \\\n",
              "0    August 14, 2020          2020  TV-MA  4 Seasons   \n",
              "1  December 23, 2016          2016  TV-MA     93 min   \n",
              "2  December 20, 2018          2011      R     78 min   \n",
              "3  November 16, 2017          2009  PG-13     80 min   \n",
              "4    January 1, 2020          2008  PG-13    123 min   \n",
              "\n",
              "                                           listed_in  \\\n",
              "0  International TV Shows, TV Dramas, TV Sci-Fi &...   \n",
              "1                       Dramas, International Movies   \n",
              "2                Horror Movies, International Movies   \n",
              "3  Action & Adventure, Independent Movies, Sci-Fi...   \n",
              "4                                             Dramas   \n",
              "\n",
              "                                         description  \n",
              "0  futur elit inhabit island paradis far crowd sl...  \n",
              "1  devast earthquak hit mexico citi trap survivor...  \n",
              "2  armi recruit found dead fellow soldier forc co...  \n",
              "3  postapocalypt world ragdol robot hide fear dan...  \n",
              "4  brilliant group student becom cardcount expert...  "
            ],
            "text/html": [
              "\n",
              "  <div id=\"df-f66e5f6f-30ac-4d7e-a826-f5aac3df2445\">\n",
              "    <div class=\"colab-df-container\">\n",
              "      <div>\n",
              "<style scoped>\n",
              "    .dataframe tbody tr th:only-of-type {\n",
              "        vertical-align: middle;\n",
              "    }\n",
              "\n",
              "    .dataframe tbody tr th {\n",
              "        vertical-align: top;\n",
              "    }\n",
              "\n",
              "    .dataframe thead th {\n",
              "        text-align: right;\n",
              "    }\n",
              "</style>\n",
              "<table border=\"1\" class=\"dataframe\">\n",
              "  <thead>\n",
              "    <tr style=\"text-align: right;\">\n",
              "      <th></th>\n",
              "      <th>show_id</th>\n",
              "      <th>type</th>\n",
              "      <th>title</th>\n",
              "      <th>director</th>\n",
              "      <th>cast</th>\n",
              "      <th>country</th>\n",
              "      <th>date_added</th>\n",
              "      <th>release_year</th>\n",
              "      <th>rating</th>\n",
              "      <th>duration</th>\n",
              "      <th>listed_in</th>\n",
              "      <th>description</th>\n",
              "    </tr>\n",
              "  </thead>\n",
              "  <tbody>\n",
              "    <tr>\n",
              "      <th>0</th>\n",
              "      <td>s1</td>\n",
              "      <td>TV Show</td>\n",
              "      <td>3%</td>\n",
              "      <td>NaN</td>\n",
              "      <td>João Miguel, Bianca Comparato, Michel Gomes, R...</td>\n",
              "      <td>Brazil</td>\n",
              "      <td>August 14, 2020</td>\n",
              "      <td>2020</td>\n",
              "      <td>TV-MA</td>\n",
              "      <td>4 Seasons</td>\n",
              "      <td>International TV Shows, TV Dramas, TV Sci-Fi &amp;...</td>\n",
              "      <td>futur elit inhabit island paradis far crowd sl...</td>\n",
              "    </tr>\n",
              "    <tr>\n",
              "      <th>1</th>\n",
              "      <td>s2</td>\n",
              "      <td>Movie</td>\n",
              "      <td>7:19</td>\n",
              "      <td>Jorge Michel Grau</td>\n",
              "      <td>Demián Bichir, Héctor Bonilla, Oscar Serrano, ...</td>\n",
              "      <td>Mexico</td>\n",
              "      <td>December 23, 2016</td>\n",
              "      <td>2016</td>\n",
              "      <td>TV-MA</td>\n",
              "      <td>93 min</td>\n",
              "      <td>Dramas, International Movies</td>\n",
              "      <td>devast earthquak hit mexico citi trap survivor...</td>\n",
              "    </tr>\n",
              "    <tr>\n",
              "      <th>2</th>\n",
              "      <td>s3</td>\n",
              "      <td>Movie</td>\n",
              "      <td>23:59</td>\n",
              "      <td>Gilbert Chan</td>\n",
              "      <td>Tedd Chan, Stella Chung, Henley Hii, Lawrence ...</td>\n",
              "      <td>Singapore</td>\n",
              "      <td>December 20, 2018</td>\n",
              "      <td>2011</td>\n",
              "      <td>R</td>\n",
              "      <td>78 min</td>\n",
              "      <td>Horror Movies, International Movies</td>\n",
              "      <td>armi recruit found dead fellow soldier forc co...</td>\n",
              "    </tr>\n",
              "    <tr>\n",
              "      <th>3</th>\n",
              "      <td>s4</td>\n",
              "      <td>Movie</td>\n",
              "      <td>9</td>\n",
              "      <td>Shane Acker</td>\n",
              "      <td>Elijah Wood, John C. Reilly, Jennifer Connelly...</td>\n",
              "      <td>United States</td>\n",
              "      <td>November 16, 2017</td>\n",
              "      <td>2009</td>\n",
              "      <td>PG-13</td>\n",
              "      <td>80 min</td>\n",
              "      <td>Action &amp; Adventure, Independent Movies, Sci-Fi...</td>\n",
              "      <td>postapocalypt world ragdol robot hide fear dan...</td>\n",
              "    </tr>\n",
              "    <tr>\n",
              "      <th>4</th>\n",
              "      <td>s5</td>\n",
              "      <td>Movie</td>\n",
              "      <td>21</td>\n",
              "      <td>Robert Luketic</td>\n",
              "      <td>Jim Sturgess, Kevin Spacey, Kate Bosworth, Aar...</td>\n",
              "      <td>United States</td>\n",
              "      <td>January 1, 2020</td>\n",
              "      <td>2008</td>\n",
              "      <td>PG-13</td>\n",
              "      <td>123 min</td>\n",
              "      <td>Dramas</td>\n",
              "      <td>brilliant group student becom cardcount expert...</td>\n",
              "    </tr>\n",
              "  </tbody>\n",
              "</table>\n",
              "</div>\n",
              "      <button class=\"colab-df-convert\" onclick=\"convertToInteractive('df-f66e5f6f-30ac-4d7e-a826-f5aac3df2445')\"\n",
              "              title=\"Convert this dataframe to an interactive table.\"\n",
              "              style=\"display:none;\">\n",
              "        \n",
              "  <svg xmlns=\"http://www.w3.org/2000/svg\" height=\"24px\"viewBox=\"0 0 24 24\"\n",
              "       width=\"24px\">\n",
              "    <path d=\"M0 0h24v24H0V0z\" fill=\"none\"/>\n",
              "    <path d=\"M18.56 5.44l.94 2.06.94-2.06 2.06-.94-2.06-.94-.94-2.06-.94 2.06-2.06.94zm-11 1L8.5 8.5l.94-2.06 2.06-.94-2.06-.94L8.5 2.5l-.94 2.06-2.06.94zm10 10l.94 2.06.94-2.06 2.06-.94-2.06-.94-.94-2.06-.94 2.06-2.06.94z\"/><path d=\"M17.41 7.96l-1.37-1.37c-.4-.4-.92-.59-1.43-.59-.52 0-1.04.2-1.43.59L10.3 9.45l-7.72 7.72c-.78.78-.78 2.05 0 2.83L4 21.41c.39.39.9.59 1.41.59.51 0 1.02-.2 1.41-.59l7.78-7.78 2.81-2.81c.8-.78.8-2.07 0-2.86zM5.41 20L4 18.59l7.72-7.72 1.47 1.35L5.41 20z\"/>\n",
              "  </svg>\n",
              "      </button>\n",
              "      \n",
              "  <style>\n",
              "    .colab-df-container {\n",
              "      display:flex;\n",
              "      flex-wrap:wrap;\n",
              "      gap: 12px;\n",
              "    }\n",
              "\n",
              "    .colab-df-convert {\n",
              "      background-color: #E8F0FE;\n",
              "      border: none;\n",
              "      border-radius: 50%;\n",
              "      cursor: pointer;\n",
              "      display: none;\n",
              "      fill: #1967D2;\n",
              "      height: 32px;\n",
              "      padding: 0 0 0 0;\n",
              "      width: 32px;\n",
              "    }\n",
              "\n",
              "    .colab-df-convert:hover {\n",
              "      background-color: #E2EBFA;\n",
              "      box-shadow: 0px 1px 2px rgba(60, 64, 67, 0.3), 0px 1px 3px 1px rgba(60, 64, 67, 0.15);\n",
              "      fill: #174EA6;\n",
              "    }\n",
              "\n",
              "    [theme=dark] .colab-df-convert {\n",
              "      background-color: #3B4455;\n",
              "      fill: #D2E3FC;\n",
              "    }\n",
              "\n",
              "    [theme=dark] .colab-df-convert:hover {\n",
              "      background-color: #434B5C;\n",
              "      box-shadow: 0px 1px 3px 1px rgba(0, 0, 0, 0.15);\n",
              "      filter: drop-shadow(0px 1px 2px rgba(0, 0, 0, 0.3));\n",
              "      fill: #FFFFFF;\n",
              "    }\n",
              "  </style>\n",
              "\n",
              "      <script>\n",
              "        const buttonEl =\n",
              "          document.querySelector('#df-f66e5f6f-30ac-4d7e-a826-f5aac3df2445 button.colab-df-convert');\n",
              "        buttonEl.style.display =\n",
              "          google.colab.kernel.accessAllowed ? 'block' : 'none';\n",
              "\n",
              "        async function convertToInteractive(key) {\n",
              "          const element = document.querySelector('#df-f66e5f6f-30ac-4d7e-a826-f5aac3df2445');\n",
              "          const dataTable =\n",
              "            await google.colab.kernel.invokeFunction('convertToInteractive',\n",
              "                                                     [key], {});\n",
              "          if (!dataTable) return;\n",
              "\n",
              "          const docLinkHtml = 'Like what you see? Visit the ' +\n",
              "            '<a target=\"_blank\" href=https://colab.research.google.com/notebooks/data_table.ipynb>data table notebook</a>'\n",
              "            + ' to learn more about interactive tables.';\n",
              "          element.innerHTML = '';\n",
              "          dataTable['output_type'] = 'display_data';\n",
              "          await google.colab.output.renderOutput(dataTable, element);\n",
              "          const docLink = document.createElement('div');\n",
              "          docLink.innerHTML = docLinkHtml;\n",
              "          element.appendChild(docLink);\n",
              "        }\n",
              "      </script>\n",
              "    </div>\n",
              "  </div>\n",
              "  "
            ]
          },
          "metadata": {},
          "execution_count": 75
        }
      ]
    },
    {
      "cell_type": "markdown",
      "source": [
        "##<B>Now again will use TfidfVectorizer (after stemming)\n"
      ],
      "metadata": {
        "id": "X0d8dyBvo0c6"
      }
    },
    {
      "cell_type": "code",
      "source": [
        "# Create the object of tfid vectorizer\n",
        "tfid_vectorizer = TfidfVectorizer()\n",
        "\n",
        "# Fit the vectorizer using the text data\n",
        "tfid_vectorizer.fit(nf['description'])\n",
        "\n",
        "# Collect the vocabulary items used in the vectorizer\n",
        "dictionary = tfid_vectorizer.vocabulary_.items()"
      ],
      "metadata": {
        "id": "6rkNRDLZo4Xk"
      },
      "execution_count": null,
      "outputs": []
    },
    {
      "cell_type": "code",
      "source": [
        "# Lists to store the vocab and counts\n",
        "vocab = []\n",
        "count_of_vocab = []\n",
        "# Iterate through each vocab and count append the value to designated lists\n",
        "for key, value in dictionary:\n",
        "    vocab.append(key)\n",
        "    count_of_vocab.append(value)"
      ],
      "metadata": {
        "id": "0okECRCuo4ab"
      },
      "execution_count": null,
      "outputs": []
    },
    {
      "cell_type": "markdown",
      "source": [
        "###<B>Creating a new DataFrame vocab_after_stemming"
      ],
      "metadata": {
        "id": "JgV9f7__pDty"
      }
    },
    {
      "cell_type": "code",
      "source": [
        "# Store the count in panadas dataframe with vocab as index\n",
        "vocab_after_stemming = pd.DataFrame({\"Word\": vocab ,\n",
        "                                      \"count\" :count_of_vocab})\n",
        "# Sort the dataframe\n",
        "vocab_after_stemming = vocab_after_stemming.sort_values(\"count\" ,ascending=False)"
      ],
      "metadata": {
        "id": "LONz-IBho4dK"
      },
      "execution_count": null,
      "outputs": []
    },
    {
      "cell_type": "code",
      "source": [
        "top15_most_ocurred_vocab = vocab_after_stemming.head(15)\n"
      ],
      "metadata": {
        "id": "WYRX3WlspMzr"
      },
      "execution_count": null,
      "outputs": []
    },
    {
      "cell_type": "code",
      "source": [
        "top15_most_occurred_words = top15_most_ocurred_vocab.Word.values \n",
        "top15_most_occurred_words"
      ],
      "metadata": {
        "id": "BZt4TyBwpReC",
        "outputId": "c2808480-829c-4ce3-f25f-1b4429029467",
        "colab": {
          "base_uri": "https://localhost:8080/"
        }
      },
      "execution_count": null,
      "outputs": [
        {
          "output_type": "execute_result",
          "data": {
            "text/plain": [
              "array(['şeref', 'ōarai', 'łukasz', 'überelit', 'über', 'ömer', 'émile',\n",
              "       'ángel', 'álvaro', 'álex', 'zé', 'zurich', 'zumbo', 'zulu', 'zuhu'],\n",
              "      dtype=object)"
            ]
          },
          "metadata": {},
          "execution_count": 81
        }
      ]
    },
    {
      "cell_type": "code",
      "source": [
        "top15_most_occurred_words_count = top15_most_ocurred_vocab['count'].values \n",
        "top15_most_occurred_words_count"
      ],
      "metadata": {
        "id": "mxatlZeSpUR0",
        "outputId": "a97bf033-2777-4656-e72b-393d1f2a8779",
        "colab": {
          "base_uri": "https://localhost:8080/"
        }
      },
      "execution_count": null,
      "outputs": [
        {
          "output_type": "execute_result",
          "data": {
            "text/plain": [
              "array([14252, 14251, 14250, 14249, 14248, 14247, 14246, 14245, 14244,\n",
              "       14243, 14242, 14241, 14240, 14239, 14238])"
            ]
          },
          "metadata": {},
          "execution_count": 82
        }
      ]
    },
    {
      "cell_type": "code",
      "source": [
        "plt.figure( figsize = ( 16,6 ))\n",
        "plt.xlim(14225, 14241)\n",
        "plt.barh(top15_most_occurred_words , top15_most_occurred_words_count )"
      ],
      "metadata": {
        "id": "kgQdHP6IpeH_",
        "outputId": "1dd408b7-679d-413f-b73f-7d7d8a4a8c2e",
        "colab": {
          "base_uri": "https://localhost:8080/",
          "height": 391
        }
      },
      "execution_count": null,
      "outputs": [
        {
          "output_type": "execute_result",
          "data": {
            "text/plain": [
              "<BarContainer object of 15 artists>"
            ]
          },
          "metadata": {},
          "execution_count": 83
        },
        {
          "output_type": "display_data",
          "data": {
            "text/plain": [
              "<Figure size 1152x432 with 1 Axes>"
            ],
            "image/png": "[encoded data removed]"
          },
          "metadata": {
            "needs_background": "light"
          }
        }
      ]
    },
    {
      "cell_type": "markdown",
      "source": [
        "##<B>Adding a new column length which will contain length of description"
      ],
      "metadata": {
        "id": "eM2cFOBzpit6"
      }
    },
    {
      "cell_type": "code",
      "source": [
        "nf['Length(description)'] = nf['description'].apply(lambda x: len(x))\n"
      ],
      "metadata": {
        "id": "wviwhTgNpn_C"
      },
      "execution_count": null,
      "outputs": []
    },
    {
      "cell_type": "code",
      "source": [
        "nf.head(3)"
      ],
      "metadata": {
        "id": "0Ve3PD-2poBb",
        "outputId": "ab48cac1-f4c3-4569-b3cc-254d28841ce1",
        "colab": {
          "base_uri": "https://localhost:8080/",
          "height": 257
        }
      },
      "execution_count": null,
      "outputs": [
        {
          "output_type": "execute_result",
          "data": {
            "text/plain": [
              "  show_id     type  title           director  \\\n",
              "0      s1  TV Show     3%                NaN   \n",
              "1      s2    Movie   7:19  Jorge Michel Grau   \n",
              "2      s3    Movie  23:59       Gilbert Chan   \n",
              "\n",
              "                                                cast    country  \\\n",
              "0  João Miguel, Bianca Comparato, Michel Gomes, R...     Brazil   \n",
              "1  Demián Bichir, Héctor Bonilla, Oscar Serrano, ...     Mexico   \n",
              "2  Tedd Chan, Stella Chung, Henley Hii, Lawrence ...  Singapore   \n",
              "\n",
              "          date_added  release_year rating   duration  \\\n",
              "0    August 14, 2020          2020  TV-MA  4 Seasons   \n",
              "1  December 23, 2016          2016  TV-MA     93 min   \n",
              "2  December 20, 2018          2011      R     78 min   \n",
              "\n",
              "                                           listed_in  \\\n",
              "0  International TV Shows, TV Dramas, TV Sci-Fi &...   \n",
              "1                       Dramas, International Movies   \n",
              "2                Horror Movies, International Movies   \n",
              "\n",
              "                                         description  Length(description)  \n",
              "0  futur elit inhabit island paradis far crowd sl...                   82  \n",
              "1  devast earthquak hit mexico citi trap survivor...                   88  \n",
              "2  armi recruit found dead fellow soldier forc co...                  102  "
            ],
            "text/html": [
              "\n",
              "  <div id=\"df-3a7e5cf1-a6a9-4389-9db2-030eae13dd15\">\n",
              "    <div class=\"colab-df-container\">\n",
              "      <div>\n",
              "<style scoped>\n",
              "    .dataframe tbody tr th:only-of-type {\n",
              "        vertical-align: middle;\n",
              "    }\n",
              "\n",
              "    .dataframe tbody tr th {\n",
              "        vertical-align: top;\n",
              "    }\n",
              "\n",
              "    .dataframe thead th {\n",
              "        text-align: right;\n",
              "    }\n",
              "</style>\n",
              "<table border=\"1\" class=\"dataframe\">\n",
              "  <thead>\n",
              "    <tr style=\"text-align: right;\">\n",
              "      <th></th>\n",
              "      <th>show_id</th>\n",
              "      <th>type</th>\n",
              "      <th>title</th>\n",
              "      <th>director</th>\n",
              "      <th>cast</th>\n",
              "      <th>country</th>\n",
              "      <th>date_added</th>\n",
              "      <th>release_year</th>\n",
              "      <th>rating</th>\n",
              "      <th>duration</th>\n",
              "      <th>listed_in</th>\n",
              "      <th>description</th>\n",
              "      <th>Length(description)</th>\n",
              "    </tr>\n",
              "  </thead>\n",
              "  <tbody>\n",
              "    <tr>\n",
              "      <th>0</th>\n",
              "      <td>s1</td>\n",
              "      <td>TV Show</td>\n",
              "      <td>3%</td>\n",
              "      <td>NaN</td>\n",
              "      <td>João Miguel, Bianca Comparato, Michel Gomes, R...</td>\n",
              "      <td>Brazil</td>\n",
              "      <td>August 14, 2020</td>\n",
              "      <td>2020</td>\n",
              "      <td>TV-MA</td>\n",
              "      <td>4 Seasons</td>\n",
              "      <td>International TV Shows, TV Dramas, TV Sci-Fi &amp;...</td>\n",
              "      <td>futur elit inhabit island paradis far crowd sl...</td>\n",
              "      <td>82</td>\n",
              "    </tr>\n",
              "    <tr>\n",
              "      <th>1</th>\n",
              "      <td>s2</td>\n",
              "      <td>Movie</td>\n",
              "      <td>7:19</td>\n",
              "      <td>Jorge Michel Grau</td>\n",
              "      <td>Demián Bichir, Héctor Bonilla, Oscar Serrano, ...</td>\n",
              "      <td>Mexico</td>\n",
              "      <td>December 23, 2016</td>\n",
              "      <td>2016</td>\n",
              "      <td>TV-MA</td>\n",
              "      <td>93 min</td>\n",
              "      <td>Dramas, International Movies</td>\n",
              "      <td>devast earthquak hit mexico citi trap survivor...</td>\n",
              "      <td>88</td>\n",
              "    </tr>\n",
              "    <tr>\n",
              "      <th>2</th>\n",
              "      <td>s3</td>\n",
              "      <td>Movie</td>\n",
              "      <td>23:59</td>\n",
              "      <td>Gilbert Chan</td>\n",
              "      <td>Tedd Chan, Stella Chung, Henley Hii, Lawrence ...</td>\n",
              "      <td>Singapore</td>\n",
              "      <td>December 20, 2018</td>\n",
              "      <td>2011</td>\n",
              "      <td>R</td>\n",
              "      <td>78 min</td>\n",
              "      <td>Horror Movies, International Movies</td>\n",
              "      <td>armi recruit found dead fellow soldier forc co...</td>\n",
              "      <td>102</td>\n",
              "    </tr>\n",
              "  </tbody>\n",
              "</table>\n",
              "</div>\n",
              "      <button class=\"colab-df-convert\" onclick=\"convertToInteractive('df-3a7e5cf1-a6a9-4389-9db2-030eae13dd15')\"\n",
              "              title=\"Convert this dataframe to an interactive table.\"\n",
              "              style=\"display:none;\">\n",
              "        \n",
              "  <svg xmlns=\"http://www.w3.org/2000/svg\" height=\"24px\"viewBox=\"0 0 24 24\"\n",
              "       width=\"24px\">\n",
              "    <path d=\"M0 0h24v24H0V0z\" fill=\"none\"/>\n",
              "    <path d=\"M18.56 5.44l.94 2.06.94-2.06 2.06-.94-2.06-.94-.94-2.06-.94 2.06-2.06.94zm-11 1L8.5 8.5l.94-2.06 2.06-.94-2.06-.94L8.5 2.5l-.94 2.06-2.06.94zm10 10l.94 2.06.94-2.06 2.06-.94-2.06-.94-.94-2.06-.94 2.06-2.06.94z\"/><path d=\"M17.41 7.96l-1.37-1.37c-.4-.4-.92-.59-1.43-.59-.52 0-1.04.2-1.43.59L10.3 9.45l-7.72 7.72c-.78.78-.78 2.05 0 2.83L4 21.41c.39.39.9.59 1.41.59.51 0 1.02-.2 1.41-.59l7.78-7.78 2.81-2.81c.8-.78.8-2.07 0-2.86zM5.41 20L4 18.59l7.72-7.72 1.47 1.35L5.41 20z\"/>\n",
              "  </svg>\n",
              "      </button>\n",
              "      \n",
              "  <style>\n",
              "    .colab-df-container {\n",
              "      display:flex;\n",
              "      flex-wrap:wrap;\n",
              "      gap: 12px;\n",
              "    }\n",
              "\n",
              "    .colab-df-convert {\n",
              "      background-color: #E8F0FE;\n",
              "      border: none;\n",
              "      border-radius: 50%;\n",
              "      cursor: pointer;\n",
              "      display: none;\n",
              "      fill: #1967D2;\n",
              "      height: 32px;\n",
              "      padding: 0 0 0 0;\n",
              "      width: 32px;\n",
              "    }\n",
              "\n",
              "    .colab-df-convert:hover {\n",
              "      background-color: #E2EBFA;\n",
              "      box-shadow: 0px 1px 2px rgba(60, 64, 67, 0.3), 0px 1px 3px 1px rgba(60, 64, 67, 0.15);\n",
              "      fill: #174EA6;\n",
              "    }\n",
              "\n",
              "    [theme=dark] .colab-df-convert {\n",
              "      background-color: #3B4455;\n",
              "      fill: #D2E3FC;\n",
              "    }\n",
              "\n",
              "    [theme=dark] .colab-df-convert:hover {\n",
              "      background-color: #434B5C;\n",
              "      box-shadow: 0px 1px 3px 1px rgba(0, 0, 0, 0.15);\n",
              "      filter: drop-shadow(0px 1px 2px rgba(0, 0, 0, 0.3));\n",
              "      fill: #FFFFFF;\n",
              "    }\n",
              "  </style>\n",
              "\n",
              "      <script>\n",
              "        const buttonEl =\n",
              "          document.querySelector('#df-3a7e5cf1-a6a9-4389-9db2-030eae13dd15 button.colab-df-convert');\n",
              "        buttonEl.style.display =\n",
              "          google.colab.kernel.accessAllowed ? 'block' : 'none';\n",
              "\n",
              "        async function convertToInteractive(key) {\n",
              "          const element = document.querySelector('#df-3a7e5cf1-a6a9-4389-9db2-030eae13dd15');\n",
              "          const dataTable =\n",
              "            await google.colab.kernel.invokeFunction('convertToInteractive',\n",
              "                                                     [key], {});\n",
              "          if (!dataTable) return;\n",
              "\n",
              "          const docLinkHtml = 'Like what you see? Visit the ' +\n",
              "            '<a target=\"_blank\" href=https://colab.research.google.com/notebooks/data_table.ipynb>data table notebook</a>'\n",
              "            + ' to learn more about interactive tables.';\n",
              "          element.innerHTML = '';\n",
              "          dataTable['output_type'] = 'display_data';\n",
              "          await google.colab.output.renderOutput(dataTable, element);\n",
              "          const docLink = document.createElement('div');\n",
              "          docLink.innerHTML = docLinkHtml;\n",
              "          element.appendChild(docLink);\n",
              "        }\n",
              "      </script>\n",
              "    </div>\n",
              "  </div>\n",
              "  "
            ]
          },
          "metadata": {},
          "execution_count": 85
        }
      ]
    },
    {
      "cell_type": "code",
      "source": [
        "nf.description.iloc[0]"
      ],
      "metadata": {
        "id": "eLBpogFdpoD-",
        "outputId": "88dd53a1-44b7-405d-d21f-e118c87eb1dc",
        "colab": {
          "base_uri": "https://localhost:8080/",
          "height": 35
        }
      },
      "execution_count": null,
      "outputs": [
        {
          "output_type": "execute_result",
          "data": {
            "text/plain": [
              "'futur elit inhabit island paradis far crowd slum get one chanc join 3 save squalor'"
            ],
            "application/vnd.google.colaboratory.intrinsic+json": {
              "type": "string"
            }
          },
          "metadata": {},
          "execution_count": 86
        }
      ]
    },
    {
      "cell_type": "code",
      "source": [
        "len(nf.description.iloc[0])\n"
      ],
      "metadata": {
        "id": "_noQFPi6poHz",
        "outputId": "d665f72e-f717-4bc4-d12f-b41306aeaeb5",
        "colab": {
          "base_uri": "https://localhost:8080/"
        }
      },
      "execution_count": null,
      "outputs": [
        {
          "output_type": "execute_result",
          "data": {
            "text/plain": [
              "82"
            ]
          },
          "metadata": {},
          "execution_count": 87
        }
      ]
    },
    {
      "cell_type": "code",
      "source": [
        "nf.columns"
      ],
      "metadata": {
        "id": "OoBNokBJp2xE",
        "outputId": "e3222855-a979-4f0f-e665-9a092f9cceb3",
        "colab": {
          "base_uri": "https://localhost:8080/"
        }
      },
      "execution_count": null,
      "outputs": [
        {
          "output_type": "execute_result",
          "data": {
            "text/plain": [
              "Index(['show_id', 'type', 'title', 'director', 'cast', 'country', 'date_added',\n",
              "       'release_year', 'rating', 'duration', 'listed_in', 'description',\n",
              "       'Length(description)'],\n",
              "      dtype='object')"
            ]
          },
          "metadata": {},
          "execution_count": 88
        }
      ]
    },
    {
      "cell_type": "code",
      "source": [
        "nf['listed_in'] = nf['listed_in'].apply(remove_punctuation)\n",
        "nf.head()"
      ],
      "metadata": {
        "id": "DjZ3B-dZp8aR",
        "outputId": "4f85fd55-ebcc-4251-d29c-a81470859127",
        "colab": {
          "base_uri": "https://localhost:8080/",
          "height": 372
        }
      },
      "execution_count": null,
      "outputs": [
        {
          "output_type": "execute_result",
          "data": {
            "text/plain": [
              "  show_id     type  title           director  \\\n",
              "0      s1  TV Show     3%                NaN   \n",
              "1      s2    Movie   7:19  Jorge Michel Grau   \n",
              "2      s3    Movie  23:59       Gilbert Chan   \n",
              "3      s4    Movie      9        Shane Acker   \n",
              "4      s5    Movie     21     Robert Luketic   \n",
              "\n",
              "                                                cast        country  \\\n",
              "0  João Miguel, Bianca Comparato, Michel Gomes, R...         Brazil   \n",
              "1  Demián Bichir, Héctor Bonilla, Oscar Serrano, ...         Mexico   \n",
              "2  Tedd Chan, Stella Chung, Henley Hii, Lawrence ...      Singapore   \n",
              "3  Elijah Wood, John C. Reilly, Jennifer Connelly...  United States   \n",
              "4  Jim Sturgess, Kevin Spacey, Kate Bosworth, Aar...  United States   \n",
              "\n",
              "          date_added  release_year rating   duration  \\\n",
              "0    August 14, 2020          2020  TV-MA  4 Seasons   \n",
              "1  December 23, 2016          2016  TV-MA     93 min   \n",
              "2  December 20, 2018          2011      R     78 min   \n",
              "3  November 16, 2017          2009  PG-13     80 min   \n",
              "4    January 1, 2020          2008  PG-13    123 min   \n",
              "\n",
              "                                           listed_in  \\\n",
              "0  International TV Shows TV Dramas TV SciFi  Fan...   \n",
              "1                        Dramas International Movies   \n",
              "2                 Horror Movies International Movies   \n",
              "3  Action  Adventure Independent Movies SciFi  Fa...   \n",
              "4                                             Dramas   \n",
              "\n",
              "                                         description  Length(description)  \n",
              "0  futur elit inhabit island paradis far crowd sl...                   82  \n",
              "1  devast earthquak hit mexico citi trap survivor...                   88  \n",
              "2  armi recruit found dead fellow soldier forc co...                  102  \n",
              "3  postapocalypt world ragdol robot hide fear dan...                   89  \n",
              "4  brilliant group student becom cardcount expert...                   99  "
            ],
            "text/html": [
              "\n",
              "  <div id=\"df-b09f7f87-481b-444c-99a5-058926092632\">\n",
              "    <div class=\"colab-df-container\">\n",
              "      <div>\n",
              "<style scoped>\n",
              "    .dataframe tbody tr th:only-of-type {\n",
              "        vertical-align: middle;\n",
              "    }\n",
              "\n",
              "    .dataframe tbody tr th {\n",
              "        vertical-align: top;\n",
              "    }\n",
              "\n",
              "    .dataframe thead th {\n",
              "        text-align: right;\n",
              "    }\n",
              "</style>\n",
              "<table border=\"1\" class=\"dataframe\">\n",
              "  <thead>\n",
              "    <tr style=\"text-align: right;\">\n",
              "      <th></th>\n",
              "      <th>show_id</th>\n",
              "      <th>type</th>\n",
              "      <th>title</th>\n",
              "      <th>director</th>\n",
              "      <th>cast</th>\n",
              "      <th>country</th>\n",
              "      <th>date_added</th>\n",
              "      <th>release_year</th>\n",
              "      <th>rating</th>\n",
              "      <th>duration</th>\n",
              "      <th>listed_in</th>\n",
              "      <th>description</th>\n",
              "      <th>Length(description)</th>\n",
              "    </tr>\n",
              "  </thead>\n",
              "  <tbody>\n",
              "    <tr>\n",
              "      <th>0</th>\n",
              "      <td>s1</td>\n",
              "      <td>TV Show</td>\n",
              "      <td>3%</td>\n",
              "      <td>NaN</td>\n",
              "      <td>João Miguel, Bianca Comparato, Michel Gomes, R...</td>\n",
              "      <td>Brazil</td>\n",
              "      <td>August 14, 2020</td>\n",
              "      <td>2020</td>\n",
              "      <td>TV-MA</td>\n",
              "      <td>4 Seasons</td>\n",
              "      <td>International TV Shows TV Dramas TV SciFi  Fan...</td>\n",
              "      <td>futur elit inhabit island paradis far crowd sl...</td>\n",
              "      <td>82</td>\n",
              "    </tr>\n",
              "    <tr>\n",
              "      <th>1</th>\n",
              "      <td>s2</td>\n",
              "      <td>Movie</td>\n",
              "      <td>7:19</td>\n",
              "      <td>Jorge Michel Grau</td>\n",
              "      <td>Demián Bichir, Héctor Bonilla, Oscar Serrano, ...</td>\n",
              "      <td>Mexico</td>\n",
              "      <td>December 23, 2016</td>\n",
              "      <td>2016</td>\n",
              "      <td>TV-MA</td>\n",
              "      <td>93 min</td>\n",
              "      <td>Dramas International Movies</td>\n",
              "      <td>devast earthquak hit mexico citi trap survivor...</td>\n",
              "      <td>88</td>\n",
              "    </tr>\n",
              "    <tr>\n",
              "      <th>2</th>\n",
              "      <td>s3</td>\n",
              "      <td>Movie</td>\n",
              "      <td>23:59</td>\n",
              "      <td>Gilbert Chan</td>\n",
              "      <td>Tedd Chan, Stella Chung, Henley Hii, Lawrence ...</td>\n",
              "      <td>Singapore</td>\n",
              "      <td>December 20, 2018</td>\n",
              "      <td>2011</td>\n",
              "      <td>R</td>\n",
              "      <td>78 min</td>\n",
              "      <td>Horror Movies International Movies</td>\n",
              "      <td>armi recruit found dead fellow soldier forc co...</td>\n",
              "      <td>102</td>\n",
              "    </tr>\n",
              "    <tr>\n",
              "      <th>3</th>\n",
              "      <td>s4</td>\n",
              "      <td>Movie</td>\n",
              "      <td>9</td>\n",
              "      <td>Shane Acker</td>\n",
              "      <td>Elijah Wood, John C. Reilly, Jennifer Connelly...</td>\n",
              "      <td>United States</td>\n",
              "      <td>November 16, 2017</td>\n",
              "      <td>2009</td>\n",
              "      <td>PG-13</td>\n",
              "      <td>80 min</td>\n",
              "      <td>Action  Adventure Independent Movies SciFi  Fa...</td>\n",
              "      <td>postapocalypt world ragdol robot hide fear dan...</td>\n",
              "      <td>89</td>\n",
              "    </tr>\n",
              "    <tr>\n",
              "      <th>4</th>\n",
              "      <td>s5</td>\n",
              "      <td>Movie</td>\n",
              "      <td>21</td>\n",
              "      <td>Robert Luketic</td>\n",
              "      <td>Jim Sturgess, Kevin Spacey, Kate Bosworth, Aar...</td>\n",
              "      <td>United States</td>\n",
              "      <td>January 1, 2020</td>\n",
              "      <td>2008</td>\n",
              "      <td>PG-13</td>\n",
              "      <td>123 min</td>\n",
              "      <td>Dramas</td>\n",
              "      <td>brilliant group student becom cardcount expert...</td>\n",
              "      <td>99</td>\n",
              "    </tr>\n",
              "  </tbody>\n",
              "</table>\n",
              "</div>\n",
              "      <button class=\"colab-df-convert\" onclick=\"convertToInteractive('df-b09f7f87-481b-444c-99a5-058926092632')\"\n",
              "              title=\"Convert this dataframe to an interactive table.\"\n",
              "              style=\"display:none;\">\n",
              "        \n",
              "  <svg xmlns=\"http://www.w3.org/2000/svg\" height=\"24px\"viewBox=\"0 0 24 24\"\n",
              "       width=\"24px\">\n",
              "    <path d=\"M0 0h24v24H0V0z\" fill=\"none\"/>\n",
              "    <path d=\"M18.56 5.44l.94 2.06.94-2.06 2.06-.94-2.06-.94-.94-2.06-.94 2.06-2.06.94zm-11 1L8.5 8.5l.94-2.06 2.06-.94-2.06-.94L8.5 2.5l-.94 2.06-2.06.94zm10 10l.94 2.06.94-2.06 2.06-.94-2.06-.94-.94-2.06-.94 2.06-2.06.94z\"/><path d=\"M17.41 7.96l-1.37-1.37c-.4-.4-.92-.59-1.43-.59-.52 0-1.04.2-1.43.59L10.3 9.45l-7.72 7.72c-.78.78-.78 2.05 0 2.83L4 21.41c.39.39.9.59 1.41.59.51 0 1.02-.2 1.41-.59l7.78-7.78 2.81-2.81c.8-.78.8-2.07 0-2.86zM5.41 20L4 18.59l7.72-7.72 1.47 1.35L5.41 20z\"/>\n",
              "  </svg>\n",
              "      </button>\n",
              "      \n",
              "  <style>\n",
              "    .colab-df-container {\n",
              "      display:flex;\n",
              "      flex-wrap:wrap;\n",
              "      gap: 12px;\n",
              "    }\n",
              "\n",
              "    .colab-df-convert {\n",
              "      background-color: #E8F0FE;\n",
              "      border: none;\n",
              "      border-radius: 50%;\n",
              "      cursor: pointer;\n",
              "      display: none;\n",
              "      fill: #1967D2;\n",
              "      height: 32px;\n",
              "      padding: 0 0 0 0;\n",
              "      width: 32px;\n",
              "    }\n",
              "\n",
              "    .colab-df-convert:hover {\n",
              "      background-color: #E2EBFA;\n",
              "      box-shadow: 0px 1px 2px rgba(60, 64, 67, 0.3), 0px 1px 3px 1px rgba(60, 64, 67, 0.15);\n",
              "      fill: #174EA6;\n",
              "    }\n",
              "\n",
              "    [theme=dark] .colab-df-convert {\n",
              "      background-color: #3B4455;\n",
              "      fill: #D2E3FC;\n",
              "    }\n",
              "\n",
              "    [theme=dark] .colab-df-convert:hover {\n",
              "      background-color: #434B5C;\n",
              "      box-shadow: 0px 1px 3px 1px rgba(0, 0, 0, 0.15);\n",
              "      filter: drop-shadow(0px 1px 2px rgba(0, 0, 0, 0.3));\n",
              "      fill: #FFFFFF;\n",
              "    }\n",
              "  </style>\n",
              "\n",
              "      <script>\n",
              "        const buttonEl =\n",
              "          document.querySelector('#df-b09f7f87-481b-444c-99a5-058926092632 button.colab-df-convert');\n",
              "        buttonEl.style.display =\n",
              "          google.colab.kernel.accessAllowed ? 'block' : 'none';\n",
              "\n",
              "        async function convertToInteractive(key) {\n",
              "          const element = document.querySelector('#df-b09f7f87-481b-444c-99a5-058926092632');\n",
              "          const dataTable =\n",
              "            await google.colab.kernel.invokeFunction('convertToInteractive',\n",
              "                                                     [key], {});\n",
              "          if (!dataTable) return;\n",
              "\n",
              "          const docLinkHtml = 'Like what you see? Visit the ' +\n",
              "            '<a target=\"_blank\" href=https://colab.research.google.com/notebooks/data_table.ipynb>data table notebook</a>'\n",
              "            + ' to learn more about interactive tables.';\n",
              "          element.innerHTML = '';\n",
              "          dataTable['output_type'] = 'display_data';\n",
              "          await google.colab.output.renderOutput(dataTable, element);\n",
              "          const docLink = document.createElement('div');\n",
              "          docLink.innerHTML = docLinkHtml;\n",
              "          element.appendChild(docLink);\n",
              "        }\n",
              "      </script>\n",
              "    </div>\n",
              "  </div>\n",
              "  "
            ]
          },
          "metadata": {},
          "execution_count": 89
        }
      ]
    },
    {
      "cell_type": "markdown",
      "source": [
        "##<B>Removing stopwords"
      ],
      "metadata": {
        "id": "NJj6wC5JqCZl"
      }
    },
    {
      "cell_type": "code",
      "source": [
        "#Remove stopwords for listed_in\n",
        "nf['listed_in'] = nf['listed_in'].apply( remove_stopwords )\n",
        "nf.head( 2 )"
      ],
      "metadata": {
        "id": "ptLfFSdip8cU",
        "outputId": "ddcbec39-753b-4476-b9af-cd0fe6273b41",
        "colab": {
          "base_uri": "https://localhost:8080/",
          "height": 208
        }
      },
      "execution_count": null,
      "outputs": [
        {
          "output_type": "execute_result",
          "data": {
            "text/plain": [
              "  show_id     type title           director  \\\n",
              "0      s1  TV Show    3%                NaN   \n",
              "1      s2    Movie  7:19  Jorge Michel Grau   \n",
              "\n",
              "                                                cast country  \\\n",
              "0  João Miguel, Bianca Comparato, Michel Gomes, R...  Brazil   \n",
              "1  Demián Bichir, Héctor Bonilla, Oscar Serrano, ...  Mexico   \n",
              "\n",
              "          date_added  release_year rating   duration  \\\n",
              "0    August 14, 2020          2020  TV-MA  4 Seasons   \n",
              "1  December 23, 2016          2016  TV-MA     93 min   \n",
              "\n",
              "                                           listed_in  \\\n",
              "0  international tv shows tv dramas tv scifi fantasy   \n",
              "1                        dramas international movies   \n",
              "\n",
              "                                         description  Length(description)  \n",
              "0  futur elit inhabit island paradis far crowd sl...                   82  \n",
              "1  devast earthquak hit mexico citi trap survivor...                   88  "
            ],
            "text/html": [
              "\n",
              "  <div id=\"df-42158e84-f31e-4d46-a6ef-7e58d2b1f247\">\n",
              "    <div class=\"colab-df-container\">\n",
              "      <div>\n",
              "<style scoped>\n",
              "    .dataframe tbody tr th:only-of-type {\n",
              "        vertical-align: middle;\n",
              "    }\n",
              "\n",
              "    .dataframe tbody tr th {\n",
              "        vertical-align: top;\n",
              "    }\n",
              "\n",
              "    .dataframe thead th {\n",
              "        text-align: right;\n",
              "    }\n",
              "</style>\n",
              "<table border=\"1\" class=\"dataframe\">\n",
              "  <thead>\n",
              "    <tr style=\"text-align: right;\">\n",
              "      <th></th>\n",
              "      <th>show_id</th>\n",
              "      <th>type</th>\n",
              "      <th>title</th>\n",
              "      <th>director</th>\n",
              "      <th>cast</th>\n",
              "      <th>country</th>\n",
              "      <th>date_added</th>\n",
              "      <th>release_year</th>\n",
              "      <th>rating</th>\n",
              "      <th>duration</th>\n",
              "      <th>listed_in</th>\n",
              "      <th>description</th>\n",
              "      <th>Length(description)</th>\n",
              "    </tr>\n",
              "  </thead>\n",
              "  <tbody>\n",
              "    <tr>\n",
              "      <th>0</th>\n",
              "      <td>s1</td>\n",
              "      <td>TV Show</td>\n",
              "      <td>3%</td>\n",
              "      <td>NaN</td>\n",
              "      <td>João Miguel, Bianca Comparato, Michel Gomes, R...</td>\n",
              "      <td>Brazil</td>\n",
              "      <td>August 14, 2020</td>\n",
              "      <td>2020</td>\n",
              "      <td>TV-MA</td>\n",
              "      <td>4 Seasons</td>\n",
              "      <td>international tv shows tv dramas tv scifi fantasy</td>\n",
              "      <td>futur elit inhabit island paradis far crowd sl...</td>\n",
              "      <td>82</td>\n",
              "    </tr>\n",
              "    <tr>\n",
              "      <th>1</th>\n",
              "      <td>s2</td>\n",
              "      <td>Movie</td>\n",
              "      <td>7:19</td>\n",
              "      <td>Jorge Michel Grau</td>\n",
              "      <td>Demián Bichir, Héctor Bonilla, Oscar Serrano, ...</td>\n",
              "      <td>Mexico</td>\n",
              "      <td>December 23, 2016</td>\n",
              "      <td>2016</td>\n",
              "      <td>TV-MA</td>\n",
              "      <td>93 min</td>\n",
              "      <td>dramas international movies</td>\n",
              "      <td>devast earthquak hit mexico citi trap survivor...</td>\n",
              "      <td>88</td>\n",
              "    </tr>\n",
              "  </tbody>\n",
              "</table>\n",
              "</div>\n",
              "      <button class=\"colab-df-convert\" onclick=\"convertToInteractive('df-42158e84-f31e-4d46-a6ef-7e58d2b1f247')\"\n",
              "              title=\"Convert this dataframe to an interactive table.\"\n",
              "              style=\"display:none;\">\n",
              "        \n",
              "  <svg xmlns=\"http://www.w3.org/2000/svg\" height=\"24px\"viewBox=\"0 0 24 24\"\n",
              "       width=\"24px\">\n",
              "    <path d=\"M0 0h24v24H0V0z\" fill=\"none\"/>\n",
              "    <path d=\"M18.56 5.44l.94 2.06.94-2.06 2.06-.94-2.06-.94-.94-2.06-.94 2.06-2.06.94zm-11 1L8.5 8.5l.94-2.06 2.06-.94-2.06-.94L8.5 2.5l-.94 2.06-2.06.94zm10 10l.94 2.06.94-2.06 2.06-.94-2.06-.94-.94-2.06-.94 2.06-2.06.94z\"/><path d=\"M17.41 7.96l-1.37-1.37c-.4-.4-.92-.59-1.43-.59-.52 0-1.04.2-1.43.59L10.3 9.45l-7.72 7.72c-.78.78-.78 2.05 0 2.83L4 21.41c.39.39.9.59 1.41.59.51 0 1.02-.2 1.41-.59l7.78-7.78 2.81-2.81c.8-.78.8-2.07 0-2.86zM5.41 20L4 18.59l7.72-7.72 1.47 1.35L5.41 20z\"/>\n",
              "  </svg>\n",
              "      </button>\n",
              "      \n",
              "  <style>\n",
              "    .colab-df-container {\n",
              "      display:flex;\n",
              "      flex-wrap:wrap;\n",
              "      gap: 12px;\n",
              "    }\n",
              "\n",
              "    .colab-df-convert {\n",
              "      background-color: #E8F0FE;\n",
              "      border: none;\n",
              "      border-radius: 50%;\n",
              "      cursor: pointer;\n",
              "      display: none;\n",
              "      fill: #1967D2;\n",
              "      height: 32px;\n",
              "      padding: 0 0 0 0;\n",
              "      width: 32px;\n",
              "    }\n",
              "\n",
              "    .colab-df-convert:hover {\n",
              "      background-color: #E2EBFA;\n",
              "      box-shadow: 0px 1px 2px rgba(60, 64, 67, 0.3), 0px 1px 3px 1px rgba(60, 64, 67, 0.15);\n",
              "      fill: #174EA6;\n",
              "    }\n",
              "\n",
              "    [theme=dark] .colab-df-convert {\n",
              "      background-color: #3B4455;\n",
              "      fill: #D2E3FC;\n",
              "    }\n",
              "\n",
              "    [theme=dark] .colab-df-convert:hover {\n",
              "      background-color: #434B5C;\n",
              "      box-shadow: 0px 1px 3px 1px rgba(0, 0, 0, 0.15);\n",
              "      filter: drop-shadow(0px 1px 2px rgba(0, 0, 0, 0.3));\n",
              "      fill: #FFFFFF;\n",
              "    }\n",
              "  </style>\n",
              "\n",
              "      <script>\n",
              "        const buttonEl =\n",
              "          document.querySelector('#df-42158e84-f31e-4d46-a6ef-7e58d2b1f247 button.colab-df-convert');\n",
              "        buttonEl.style.display =\n",
              "          google.colab.kernel.accessAllowed ? 'block' : 'none';\n",
              "\n",
              "        async function convertToInteractive(key) {\n",
              "          const element = document.querySelector('#df-42158e84-f31e-4d46-a6ef-7e58d2b1f247');\n",
              "          const dataTable =\n",
              "            await google.colab.kernel.invokeFunction('convertToInteractive',\n",
              "                                                     [key], {});\n",
              "          if (!dataTable) return;\n",
              "\n",
              "          const docLinkHtml = 'Like what you see? Visit the ' +\n",
              "            '<a target=\"_blank\" href=https://colab.research.google.com/notebooks/data_table.ipynb>data table notebook</a>'\n",
              "            + ' to learn more about interactive tables.';\n",
              "          element.innerHTML = '';\n",
              "          dataTable['output_type'] = 'display_data';\n",
              "          await google.colab.output.renderOutput(dataTable, element);\n",
              "          const docLink = document.createElement('div');\n",
              "          docLink.innerHTML = docLinkHtml;\n",
              "          element.appendChild(docLink);\n",
              "        }\n",
              "      </script>\n",
              "    </div>\n",
              "  </div>\n",
              "  "
            ]
          },
          "metadata": {},
          "execution_count": 90
        }
      ]
    },
    {
      "cell_type": "markdown",
      "source": [
        "##<B>Using CountVectorizer() to count vocabulary items\n"
      ],
      "metadata": {
        "id": "S_tHncq1qOSs"
      }
    },
    {
      "cell_type": "code",
      "source": [
        "# Create a count vectorizer object\n",
        "count_vectorizer = CountVectorizer()\n",
        "# fit the count vectorizer using the text data\n",
        "count_vectorizer.fit(nf['listed_in'])\n",
        "# Collect the vocabulary items used in the vectorizer\n",
        "dictionary = count_vectorizer.vocabulary_.items()"
      ],
      "metadata": {
        "id": "mEFTxUqYqTfu"
      },
      "execution_count": null,
      "outputs": []
    },
    {
      "cell_type": "code",
      "source": [
        "dictionary\n"
      ],
      "metadata": {
        "id": "ri8IrR7bqTh4",
        "outputId": "b3675b8a-1aa2-4140-9dd9-b9457cea0d02",
        "colab": {
          "base_uri": "https://localhost:8080/"
        }
      },
      "execution_count": null,
      "outputs": [
        {
          "output_type": "execute_result",
          "data": {
            "text/plain": [
              "dict_items([('international', 19), ('tv', 41), ('shows', 33), ('dramas', 12), ('scifi', 31), ('fantasy', 15), ('movies', 23), ('horror', 17), ('action', 0), ('adventure', 1), ('independent', 18), ('mysteries', 26), ('thrillers', 40), ('crime', 8), ('docuseries', 11), ('documentaries', 10), ('sports', 36), ('comedies', 6), ('anime', 2), ('series', 32), ('reality', 28), ('romantic', 29), ('science', 30), ('nature', 27), ('british', 3), ('korean', 21), ('music', 24), ('musicals', 25), ('lgbtq', 22), ('faith', 13), ('spirituality', 35), ('kids', 20), ('spanishlanguage', 34), ('children', 4), ('family', 14), ('classic', 5), ('cult', 9), ('standup', 37), ('comedy', 7), ('talk', 38), ('teen', 39), ('features', 16)])"
            ]
          },
          "metadata": {},
          "execution_count": 93
        }
      ]
    },
    {
      "cell_type": "code",
      "source": [
        "vocab = [ ]\n",
        "count_of_vocab = []\n",
        "for key , value in dictionary:\n",
        "  vocab.append( key )\n",
        "  count_of_vocab.append( value )"
      ],
      "metadata": {
        "id": "cex7GMY9qTkj"
      },
      "execution_count": null,
      "outputs": []
    },
    {
      "cell_type": "code",
      "source": [
        "listed_in_vocab_before_stem = pd.DataFrame({\"Word\": vocab , \"count\" :count_of_vocab})\n",
        "\n",
        "listed_in_vocab_before_stem = listed_in_vocab_before_stem.sort_values(\"count\" ,ascending=False)"
      ],
      "metadata": {
        "id": "WhF3-0YFqTov"
      },
      "execution_count": null,
      "outputs": []
    },
    {
      "cell_type": "code",
      "source": [
        "listed_in_vocab_before_stem.head()\n"
      ],
      "metadata": {
        "id": "Mj5r3rlEqkUC",
        "outputId": "1b71ac76-5538-4502-cd3a-342a2eacd3e3",
        "colab": {
          "base_uri": "https://localhost:8080/",
          "height": 206
        }
      },
      "execution_count": null,
      "outputs": [
        {
          "output_type": "execute_result",
          "data": {
            "text/plain": [
              "         Word  count\n",
              "1          tv     41\n",
              "12  thrillers     40\n",
              "40       teen     39\n",
              "39       talk     38\n",
              "37    standup     37"
            ],
            "text/html": [
              "\n",
              "  <div id=\"df-caa186fc-f3df-4f86-ae48-f4e1fab11ea1\">\n",
              "    <div class=\"colab-df-container\">\n",
              "      <div>\n",
              "<style scoped>\n",
              "    .dataframe tbody tr th:only-of-type {\n",
              "        vertical-align: middle;\n",
              "    }\n",
              "\n",
              "    .dataframe tbody tr th {\n",
              "        vertical-align: top;\n",
              "    }\n",
              "\n",
              "    .dataframe thead th {\n",
              "        text-align: right;\n",
              "    }\n",
              "</style>\n",
              "<table border=\"1\" class=\"dataframe\">\n",
              "  <thead>\n",
              "    <tr style=\"text-align: right;\">\n",
              "      <th></th>\n",
              "      <th>Word</th>\n",
              "      <th>count</th>\n",
              "    </tr>\n",
              "  </thead>\n",
              "  <tbody>\n",
              "    <tr>\n",
              "      <th>1</th>\n",
              "      <td>tv</td>\n",
              "      <td>41</td>\n",
              "    </tr>\n",
              "    <tr>\n",
              "      <th>12</th>\n",
              "      <td>thrillers</td>\n",
              "      <td>40</td>\n",
              "    </tr>\n",
              "    <tr>\n",
              "      <th>40</th>\n",
              "      <td>teen</td>\n",
              "      <td>39</td>\n",
              "    </tr>\n",
              "    <tr>\n",
              "      <th>39</th>\n",
              "      <td>talk</td>\n",
              "      <td>38</td>\n",
              "    </tr>\n",
              "    <tr>\n",
              "      <th>37</th>\n",
              "      <td>standup</td>\n",
              "      <td>37</td>\n",
              "    </tr>\n",
              "  </tbody>\n",
              "</table>\n",
              "</div>\n",
              "      <button class=\"colab-df-convert\" onclick=\"convertToInteractive('df-caa186fc-f3df-4f86-ae48-f4e1fab11ea1')\"\n",
              "              title=\"Convert this dataframe to an interactive table.\"\n",
              "              style=\"display:none;\">\n",
              "        \n",
              "  <svg xmlns=\"http://www.w3.org/2000/svg\" height=\"24px\"viewBox=\"0 0 24 24\"\n",
              "       width=\"24px\">\n",
              "    <path d=\"M0 0h24v24H0V0z\" fill=\"none\"/>\n",
              "    <path d=\"M18.56 5.44l.94 2.06.94-2.06 2.06-.94-2.06-.94-.94-2.06-.94 2.06-2.06.94zm-11 1L8.5 8.5l.94-2.06 2.06-.94-2.06-.94L8.5 2.5l-.94 2.06-2.06.94zm10 10l.94 2.06.94-2.06 2.06-.94-2.06-.94-.94-2.06-.94 2.06-2.06.94z\"/><path d=\"M17.41 7.96l-1.37-1.37c-.4-.4-.92-.59-1.43-.59-.52 0-1.04.2-1.43.59L10.3 9.45l-7.72 7.72c-.78.78-.78 2.05 0 2.83L4 21.41c.39.39.9.59 1.41.59.51 0 1.02-.2 1.41-.59l7.78-7.78 2.81-2.81c.8-.78.8-2.07 0-2.86zM5.41 20L4 18.59l7.72-7.72 1.47 1.35L5.41 20z\"/>\n",
              "  </svg>\n",
              "      </button>\n",
              "      \n",
              "  <style>\n",
              "    .colab-df-container {\n",
              "      display:flex;\n",
              "      flex-wrap:wrap;\n",
              "      gap: 12px;\n",
              "    }\n",
              "\n",
              "    .colab-df-convert {\n",
              "      background-color: #E8F0FE;\n",
              "      border: none;\n",
              "      border-radius: 50%;\n",
              "      cursor: pointer;\n",
              "      display: none;\n",
              "      fill: #1967D2;\n",
              "      height: 32px;\n",
              "      padding: 0 0 0 0;\n",
              "      width: 32px;\n",
              "    }\n",
              "\n",
              "    .colab-df-convert:hover {\n",
              "      background-color: #E2EBFA;\n",
              "      box-shadow: 0px 1px 2px rgba(60, 64, 67, 0.3), 0px 1px 3px 1px rgba(60, 64, 67, 0.15);\n",
              "      fill: #174EA6;\n",
              "    }\n",
              "\n",
              "    [theme=dark] .colab-df-convert {\n",
              "      background-color: #3B4455;\n",
              "      fill: #D2E3FC;\n",
              "    }\n",
              "\n",
              "    [theme=dark] .colab-df-convert:hover {\n",
              "      background-color: #434B5C;\n",
              "      box-shadow: 0px 1px 3px 1px rgba(0, 0, 0, 0.15);\n",
              "      filter: drop-shadow(0px 1px 2px rgba(0, 0, 0, 0.3));\n",
              "      fill: #FFFFFF;\n",
              "    }\n",
              "  </style>\n",
              "\n",
              "      <script>\n",
              "        const buttonEl =\n",
              "          document.querySelector('#df-caa186fc-f3df-4f86-ae48-f4e1fab11ea1 button.colab-df-convert');\n",
              "        buttonEl.style.display =\n",
              "          google.colab.kernel.accessAllowed ? 'block' : 'none';\n",
              "\n",
              "        async function convertToInteractive(key) {\n",
              "          const element = document.querySelector('#df-caa186fc-f3df-4f86-ae48-f4e1fab11ea1');\n",
              "          const dataTable =\n",
              "            await google.colab.kernel.invokeFunction('convertToInteractive',\n",
              "                                                     [key], {});\n",
              "          if (!dataTable) return;\n",
              "\n",
              "          const docLinkHtml = 'Like what you see? Visit the ' +\n",
              "            '<a target=\"_blank\" href=https://colab.research.google.com/notebooks/data_table.ipynb>data table notebook</a>'\n",
              "            + ' to learn more about interactive tables.';\n",
              "          element.innerHTML = '';\n",
              "          dataTable['output_type'] = 'display_data';\n",
              "          await google.colab.output.renderOutput(dataTable, element);\n",
              "          const docLink = document.createElement('div');\n",
              "          docLink.innerHTML = docLinkHtml;\n",
              "          element.appendChild(docLink);\n",
              "        }\n",
              "      </script>\n",
              "    </div>\n",
              "  </div>\n",
              "  "
            ]
          },
          "metadata": {},
          "execution_count": 96
        }
      ]
    },
    {
      "cell_type": "code",
      "source": [
        "listed_in_vocab_before_stem.tail()\n"
      ],
      "metadata": {
        "id": "BZchmCCVqkWg",
        "outputId": "5bf3a445-7a46-4312-b9ae-627de80eef39",
        "colab": {
          "base_uri": "https://localhost:8080/",
          "height": 206
        }
      },
      "execution_count": null,
      "outputs": [
        {
          "output_type": "execute_result",
          "data": {
            "text/plain": [
              "         Word  count\n",
              "33   children      4\n",
              "24    british      3\n",
              "18      anime      2\n",
              "9   adventure      1\n",
              "8      action      0"
            ],
            "text/html": [
              "\n",
              "  <div id=\"df-45808506-2779-49e7-909e-325fa9ba6dc1\">\n",
              "    <div class=\"colab-df-container\">\n",
              "      <div>\n",
              "<style scoped>\n",
              "    .dataframe tbody tr th:only-of-type {\n",
              "        vertical-align: middle;\n",
              "    }\n",
              "\n",
              "    .dataframe tbody tr th {\n",
              "        vertical-align: top;\n",
              "    }\n",
              "\n",
              "    .dataframe thead th {\n",
              "        text-align: right;\n",
              "    }\n",
              "</style>\n",
              "<table border=\"1\" class=\"dataframe\">\n",
              "  <thead>\n",
              "    <tr style=\"text-align: right;\">\n",
              "      <th></th>\n",
              "      <th>Word</th>\n",
              "      <th>count</th>\n",
              "    </tr>\n",
              "  </thead>\n",
              "  <tbody>\n",
              "    <tr>\n",
              "      <th>33</th>\n",
              "      <td>children</td>\n",
              "      <td>4</td>\n",
              "    </tr>\n",
              "    <tr>\n",
              "      <th>24</th>\n",
              "      <td>british</td>\n",
              "      <td>3</td>\n",
              "    </tr>\n",
              "    <tr>\n",
              "      <th>18</th>\n",
              "      <td>anime</td>\n",
              "      <td>2</td>\n",
              "    </tr>\n",
              "    <tr>\n",
              "      <th>9</th>\n",
              "      <td>adventure</td>\n",
              "      <td>1</td>\n",
              "    </tr>\n",
              "    <tr>\n",
              "      <th>8</th>\n",
              "      <td>action</td>\n",
              "      <td>0</td>\n",
              "    </tr>\n",
              "  </tbody>\n",
              "</table>\n",
              "</div>\n",
              "      <button class=\"colab-df-convert\" onclick=\"convertToInteractive('df-45808506-2779-49e7-909e-325fa9ba6dc1')\"\n",
              "              title=\"Convert this dataframe to an interactive table.\"\n",
              "              style=\"display:none;\">\n",
              "        \n",
              "  <svg xmlns=\"http://www.w3.org/2000/svg\" height=\"24px\"viewBox=\"0 0 24 24\"\n",
              "       width=\"24px\">\n",
              "    <path d=\"M0 0h24v24H0V0z\" fill=\"none\"/>\n",
              "    <path d=\"M18.56 5.44l.94 2.06.94-2.06 2.06-.94-2.06-.94-.94-2.06-.94 2.06-2.06.94zm-11 1L8.5 8.5l.94-2.06 2.06-.94-2.06-.94L8.5 2.5l-.94 2.06-2.06.94zm10 10l.94 2.06.94-2.06 2.06-.94-2.06-.94-.94-2.06-.94 2.06-2.06.94z\"/><path d=\"M17.41 7.96l-1.37-1.37c-.4-.4-.92-.59-1.43-.59-.52 0-1.04.2-1.43.59L10.3 9.45l-7.72 7.72c-.78.78-.78 2.05 0 2.83L4 21.41c.39.39.9.59 1.41.59.51 0 1.02-.2 1.41-.59l7.78-7.78 2.81-2.81c.8-.78.8-2.07 0-2.86zM5.41 20L4 18.59l7.72-7.72 1.47 1.35L5.41 20z\"/>\n",
              "  </svg>\n",
              "      </button>\n",
              "      \n",
              "  <style>\n",
              "    .colab-df-container {\n",
              "      display:flex;\n",
              "      flex-wrap:wrap;\n",
              "      gap: 12px;\n",
              "    }\n",
              "\n",
              "    .colab-df-convert {\n",
              "      background-color: #E8F0FE;\n",
              "      border: none;\n",
              "      border-radius: 50%;\n",
              "      cursor: pointer;\n",
              "      display: none;\n",
              "      fill: #1967D2;\n",
              "      height: 32px;\n",
              "      padding: 0 0 0 0;\n",
              "      width: 32px;\n",
              "    }\n",
              "\n",
              "    .colab-df-convert:hover {\n",
              "      background-color: #E2EBFA;\n",
              "      box-shadow: 0px 1px 2px rgba(60, 64, 67, 0.3), 0px 1px 3px 1px rgba(60, 64, 67, 0.15);\n",
              "      fill: #174EA6;\n",
              "    }\n",
              "\n",
              "    [theme=dark] .colab-df-convert {\n",
              "      background-color: #3B4455;\n",
              "      fill: #D2E3FC;\n",
              "    }\n",
              "\n",
              "    [theme=dark] .colab-df-convert:hover {\n",
              "      background-color: #434B5C;\n",
              "      box-shadow: 0px 1px 3px 1px rgba(0, 0, 0, 0.15);\n",
              "      filter: drop-shadow(0px 1px 2px rgba(0, 0, 0, 0.3));\n",
              "      fill: #FFFFFF;\n",
              "    }\n",
              "  </style>\n",
              "\n",
              "      <script>\n",
              "        const buttonEl =\n",
              "          document.querySelector('#df-45808506-2779-49e7-909e-325fa9ba6dc1 button.colab-df-convert');\n",
              "        buttonEl.style.display =\n",
              "          google.colab.kernel.accessAllowed ? 'block' : 'none';\n",
              "\n",
              "        async function convertToInteractive(key) {\n",
              "          const element = document.querySelector('#df-45808506-2779-49e7-909e-325fa9ba6dc1');\n",
              "          const dataTable =\n",
              "            await google.colab.kernel.invokeFunction('convertToInteractive',\n",
              "                                                     [key], {});\n",
              "          if (!dataTable) return;\n",
              "\n",
              "          const docLinkHtml = 'Like what you see? Visit the ' +\n",
              "            '<a target=\"_blank\" href=https://colab.research.google.com/notebooks/data_table.ipynb>data table notebook</a>'\n",
              "            + ' to learn more about interactive tables.';\n",
              "          element.innerHTML = '';\n",
              "          dataTable['output_type'] = 'display_data';\n",
              "          await google.colab.output.renderOutput(dataTable, element);\n",
              "          const docLink = document.createElement('div');\n",
              "          docLink.innerHTML = docLinkHtml;\n",
              "          element.appendChild(docLink);\n",
              "        }\n",
              "      </script>\n",
              "    </div>\n",
              "  </div>\n",
              "  "
            ]
          },
          "metadata": {},
          "execution_count": 97
        }
      ]
    },
    {
      "cell_type": "markdown",
      "source": [
        "##<B>TOP 10 most occurred words in listed in\n"
      ],
      "metadata": {
        "id": "jnXgZcz5qq-Y"
      }
    },
    {
      "cell_type": "code",
      "source": [
        "top15_most_ocurred_vocab_listed_in = listed_in_vocab_before_stem.head(15)\n"
      ],
      "metadata": {
        "id": "_mZm_Z0IquPW"
      },
      "execution_count": null,
      "outputs": []
    },
    {
      "cell_type": "code",
      "source": [
        "top15_most_ocurred_words_listed_in = top15_most_ocurred_vocab_listed_in.Word.values \n",
        "top15_most_ocurred_words_listed_in"
      ],
      "metadata": {
        "id": "cJiDor63quSV",
        "outputId": "bb007909-6b01-4651-c565-9743f0d7a827",
        "colab": {
          "base_uri": "https://localhost:8080/"
        }
      },
      "execution_count": null,
      "outputs": [
        {
          "output_type": "execute_result",
          "data": {
            "text/plain": [
              "array(['tv', 'thrillers', 'teen', 'talk', 'standup', 'sports',\n",
              "       'spirituality', 'spanishlanguage', 'shows', 'series', 'scifi',\n",
              "       'science', 'romantic', 'reality', 'nature'], dtype=object)"
            ]
          },
          "metadata": {},
          "execution_count": 99
        }
      ]
    },
    {
      "cell_type": "code",
      "source": [
        "top15_most_occurred_words_in_listed_in_count = top15_most_ocurred_vocab_listed_in['count'].values \n",
        "top15_most_occurred_words_in_listed_in_count"
      ],
      "metadata": {
        "id": "An-1YPc_q1Nz",
        "outputId": "72a3e07d-e805-43fc-f41c-885955f06445",
        "colab": {
          "base_uri": "https://localhost:8080/"
        }
      },
      "execution_count": null,
      "outputs": [
        {
          "output_type": "execute_result",
          "data": {
            "text/plain": [
              "array([41, 40, 39, 38, 37, 36, 35, 34, 33, 32, 31, 30, 29, 28, 27])"
            ]
          },
          "metadata": {},
          "execution_count": 100
        }
      ]
    },
    {
      "cell_type": "code",
      "source": [
        "plt.figure( figsize = ( 10,6 ))\n",
        "plt.xlim(25, 42 )\n",
        "plt.barh(top15_most_ocurred_words_listed_in , top15_most_occurred_words_in_listed_in_count )"
      ],
      "metadata": {
        "id": "OhAceQ7Oq5pB",
        "outputId": "e5a59685-049b-45fa-b15d-1f7368a0ffd5",
        "colab": {
          "base_uri": "https://localhost:8080/",
          "height": 391
        }
      },
      "execution_count": null,
      "outputs": [
        {
          "output_type": "execute_result",
          "data": {
            "text/plain": [
              "<BarContainer object of 15 artists>"
            ]
          },
          "metadata": {},
          "execution_count": 101
        },
        {
          "output_type": "display_data",
          "data": {
            "text/plain": [
              "<Figure size 720x432 with 1 Axes>"
            ],
            "image/png": "[encoded data removed]"
          },
          "metadata": {
            "needs_background": "light"
          }
        }
      ]
    },
    {
      "cell_type": "markdown",
      "source": [
        "##<B>Now will use SnowballStemmer( 'english' )\n"
      ],
      "metadata": {
        "id": "3RETeF2crC3h"
      }
    },
    {
      "cell_type": "code",
      "source": [
        "#Stemming for description\n",
        "nf['listed_in'] = nf['listed_in'].apply( Apply_stemming )\n",
        "nf.head(3)"
      ],
      "metadata": {
        "id": "e9mSxMskrILE",
        "outputId": "8d872e71-2db6-4eca-a7ec-ff52a82c0db4",
        "colab": {
          "base_uri": "https://localhost:8080/",
          "height": 240
        }
      },
      "execution_count": null,
      "outputs": [
        {
          "output_type": "execute_result",
          "data": {
            "text/plain": [
              "  show_id     type  title           director  \\\n",
              "0      s1  TV Show     3%                NaN   \n",
              "1      s2    Movie   7:19  Jorge Michel Grau   \n",
              "2      s3    Movie  23:59       Gilbert Chan   \n",
              "\n",
              "                                                cast    country  \\\n",
              "0  João Miguel, Bianca Comparato, Michel Gomes, R...     Brazil   \n",
              "1  Demián Bichir, Héctor Bonilla, Oscar Serrano, ...     Mexico   \n",
              "2  Tedd Chan, Stella Chung, Henley Hii, Lawrence ...  Singapore   \n",
              "\n",
              "          date_added  release_year rating   duration  \\\n",
              "0    August 14, 2020          2020  TV-MA  4 Seasons   \n",
              "1  December 23, 2016          2016  TV-MA     93 min   \n",
              "2  December 20, 2018          2011      R     78 min   \n",
              "\n",
              "                                  listed_in  \\\n",
              "0  intern tv show tv drama tv scifi fantasi   \n",
              "1                         drama intern movi   \n",
              "2                   horror movi intern movi   \n",
              "\n",
              "                                         description  Length(description)  \n",
              "0  futur elit inhabit island paradis far crowd sl...                   82  \n",
              "1  devast earthquak hit mexico citi trap survivor...                   88  \n",
              "2  armi recruit found dead fellow soldier forc co...                  102  "
            ],
            "text/html": [
              "\n",
              "  <div id=\"df-edd13133-f8fa-430d-ad3e-a33bc9e0d237\">\n",
              "    <div class=\"colab-df-container\">\n",
              "      <div>\n",
              "<style scoped>\n",
              "    .dataframe tbody tr th:only-of-type {\n",
              "        vertical-align: middle;\n",
              "    }\n",
              "\n",
              "    .dataframe tbody tr th {\n",
              "        vertical-align: top;\n",
              "    }\n",
              "\n",
              "    .dataframe thead th {\n",
              "        text-align: right;\n",
              "    }\n",
              "</style>\n",
              "<table border=\"1\" class=\"dataframe\">\n",
              "  <thead>\n",
              "    <tr style=\"text-align: right;\">\n",
              "      <th></th>\n",
              "      <th>show_id</th>\n",
              "      <th>type</th>\n",
              "      <th>title</th>\n",
              "      <th>director</th>\n",
              "      <th>cast</th>\n",
              "      <th>country</th>\n",
              "      <th>date_added</th>\n",
              "      <th>release_year</th>\n",
              "      <th>rating</th>\n",
              "      <th>duration</th>\n",
              "      <th>listed_in</th>\n",
              "      <th>description</th>\n",
              "      <th>Length(description)</th>\n",
              "    </tr>\n",
              "  </thead>\n",
              "  <tbody>\n",
              "    <tr>\n",
              "      <th>0</th>\n",
              "      <td>s1</td>\n",
              "      <td>TV Show</td>\n",
              "      <td>3%</td>\n",
              "      <td>NaN</td>\n",
              "      <td>João Miguel, Bianca Comparato, Michel Gomes, R...</td>\n",
              "      <td>Brazil</td>\n",
              "      <td>August 14, 2020</td>\n",
              "      <td>2020</td>\n",
              "      <td>TV-MA</td>\n",
              "      <td>4 Seasons</td>\n",
              "      <td>intern tv show tv drama tv scifi fantasi</td>\n",
              "      <td>futur elit inhabit island paradis far crowd sl...</td>\n",
              "      <td>82</td>\n",
              "    </tr>\n",
              "    <tr>\n",
              "      <th>1</th>\n",
              "      <td>s2</td>\n",
              "      <td>Movie</td>\n",
              "      <td>7:19</td>\n",
              "      <td>Jorge Michel Grau</td>\n",
              "      <td>Demián Bichir, Héctor Bonilla, Oscar Serrano, ...</td>\n",
              "      <td>Mexico</td>\n",
              "      <td>December 23, 2016</td>\n",
              "      <td>2016</td>\n",
              "      <td>TV-MA</td>\n",
              "      <td>93 min</td>\n",
              "      <td>drama intern movi</td>\n",
              "      <td>devast earthquak hit mexico citi trap survivor...</td>\n",
              "      <td>88</td>\n",
              "    </tr>\n",
              "    <tr>\n",
              "      <th>2</th>\n",
              "      <td>s3</td>\n",
              "      <td>Movie</td>\n",
              "      <td>23:59</td>\n",
              "      <td>Gilbert Chan</td>\n",
              "      <td>Tedd Chan, Stella Chung, Henley Hii, Lawrence ...</td>\n",
              "      <td>Singapore</td>\n",
              "      <td>December 20, 2018</td>\n",
              "      <td>2011</td>\n",
              "      <td>R</td>\n",
              "      <td>78 min</td>\n",
              "      <td>horror movi intern movi</td>\n",
              "      <td>armi recruit found dead fellow soldier forc co...</td>\n",
              "      <td>102</td>\n",
              "    </tr>\n",
              "  </tbody>\n",
              "</table>\n",
              "</div>\n",
              "      <button class=\"colab-df-convert\" onclick=\"convertToInteractive('df-edd13133-f8fa-430d-ad3e-a33bc9e0d237')\"\n",
              "              title=\"Convert this dataframe to an interactive table.\"\n",
              "              style=\"display:none;\">\n",
              "        \n",
              "  <svg xmlns=\"http://www.w3.org/2000/svg\" height=\"24px\"viewBox=\"0 0 24 24\"\n",
              "       width=\"24px\">\n",
              "    <path d=\"M0 0h24v24H0V0z\" fill=\"none\"/>\n",
              "    <path d=\"M18.56 5.44l.94 2.06.94-2.06 2.06-.94-2.06-.94-.94-2.06-.94 2.06-2.06.94zm-11 1L8.5 8.5l.94-2.06 2.06-.94-2.06-.94L8.5 2.5l-.94 2.06-2.06.94zm10 10l.94 2.06.94-2.06 2.06-.94-2.06-.94-.94-2.06-.94 2.06-2.06.94z\"/><path d=\"M17.41 7.96l-1.37-1.37c-.4-.4-.92-.59-1.43-.59-.52 0-1.04.2-1.43.59L10.3 9.45l-7.72 7.72c-.78.78-.78 2.05 0 2.83L4 21.41c.39.39.9.59 1.41.59.51 0 1.02-.2 1.41-.59l7.78-7.78 2.81-2.81c.8-.78.8-2.07 0-2.86zM5.41 20L4 18.59l7.72-7.72 1.47 1.35L5.41 20z\"/>\n",
              "  </svg>\n",
              "      </button>\n",
              "      \n",
              "  <style>\n",
              "    .colab-df-container {\n",
              "      display:flex;\n",
              "      flex-wrap:wrap;\n",
              "      gap: 12px;\n",
              "    }\n",
              "\n",
              "    .colab-df-convert {\n",
              "      background-color: #E8F0FE;\n",
              "      border: none;\n",
              "      border-radius: 50%;\n",
              "      cursor: pointer;\n",
              "      display: none;\n",
              "      fill: #1967D2;\n",
              "      height: 32px;\n",
              "      padding: 0 0 0 0;\n",
              "      width: 32px;\n",
              "    }\n",
              "\n",
              "    .colab-df-convert:hover {\n",
              "      background-color: #E2EBFA;\n",
              "      box-shadow: 0px 1px 2px rgba(60, 64, 67, 0.3), 0px 1px 3px 1px rgba(60, 64, 67, 0.15);\n",
              "      fill: #174EA6;\n",
              "    }\n",
              "\n",
              "    [theme=dark] .colab-df-convert {\n",
              "      background-color: #3B4455;\n",
              "      fill: #D2E3FC;\n",
              "    }\n",
              "\n",
              "    [theme=dark] .colab-df-convert:hover {\n",
              "      background-color: #434B5C;\n",
              "      box-shadow: 0px 1px 3px 1px rgba(0, 0, 0, 0.15);\n",
              "      filter: drop-shadow(0px 1px 2px rgba(0, 0, 0, 0.3));\n",
              "      fill: #FFFFFF;\n",
              "    }\n",
              "  </style>\n",
              "\n",
              "      <script>\n",
              "        const buttonEl =\n",
              "          document.querySelector('#df-edd13133-f8fa-430d-ad3e-a33bc9e0d237 button.colab-df-convert');\n",
              "        buttonEl.style.display =\n",
              "          google.colab.kernel.accessAllowed ? 'block' : 'none';\n",
              "\n",
              "        async function convertToInteractive(key) {\n",
              "          const element = document.querySelector('#df-edd13133-f8fa-430d-ad3e-a33bc9e0d237');\n",
              "          const dataTable =\n",
              "            await google.colab.kernel.invokeFunction('convertToInteractive',\n",
              "                                                     [key], {});\n",
              "          if (!dataTable) return;\n",
              "\n",
              "          const docLinkHtml = 'Like what you see? Visit the ' +\n",
              "            '<a target=\"_blank\" href=https://colab.research.google.com/notebooks/data_table.ipynb>data table notebook</a>'\n",
              "            + ' to learn more about interactive tables.';\n",
              "          element.innerHTML = '';\n",
              "          dataTable['output_type'] = 'display_data';\n",
              "          await google.colab.output.renderOutput(dataTable, element);\n",
              "          const docLink = document.createElement('div');\n",
              "          docLink.innerHTML = docLinkHtml;\n",
              "          element.appendChild(docLink);\n",
              "        }\n",
              "      </script>\n",
              "    </div>\n",
              "  </div>\n",
              "  "
            ]
          },
          "metadata": {},
          "execution_count": 103
        }
      ]
    },
    {
      "cell_type": "markdown",
      "source": [
        "##<B>Now will use TfidfVectorizer (after stemming)\n"
      ],
      "metadata": {
        "id": "18CdeVoxrU6B"
      }
    },
    {
      "cell_type": "code",
      "source": [
        "# Create the object of tfid vectorizer\n",
        "tfid_vectorizer = TfidfVectorizer()\n",
        "\n",
        "# Fit the vectorizer using the text data\n",
        "tfid_vectorizer.fit(nf['listed_in'])\n",
        "\n",
        "# Collect the vocabulary items used in the vectorizer\n",
        "dictionary = tfid_vectorizer.vocabulary_.items()"
      ],
      "metadata": {
        "id": "KpejBsOYrINn"
      },
      "execution_count": null,
      "outputs": []
    },
    {
      "cell_type": "code",
      "source": [
        "dictionary\n"
      ],
      "metadata": {
        "id": "vCQhtFMNrIRE",
        "outputId": "ced85d47-5c9f-4e05-e47a-11b37d501628",
        "colab": {
          "base_uri": "https://localhost:8080/"
        }
      },
      "execution_count": null,
      "outputs": [
        {
          "output_type": "execute_result",
          "data": {
            "text/plain": [
              "dict_items([('intern', 18), ('tv', 39), ('show', 31), ('drama', 11), ('scifi', 29), ('fantasi', 14), ('movi', 22), ('horror', 16), ('action', 0), ('adventur', 1), ('independ', 17), ('mysteri', 24), ('thriller', 38), ('crime', 7), ('docuseri', 10), ('documentari', 9), ('sport', 34), ('comedi', 6), ('anim', 2), ('seri', 30), ('realiti', 26), ('romant', 27), ('scienc', 28), ('natur', 25), ('british', 3), ('korean', 20), ('music', 23), ('lgbtq', 21), ('faith', 12), ('spiritu', 33), ('kid', 19), ('spanishlanguag', 32), ('children', 4), ('famili', 13), ('classic', 5), ('cult', 8), ('standup', 35), ('talk', 36), ('teen', 37), ('featur', 15)])"
            ]
          },
          "metadata": {},
          "execution_count": 106
        }
      ]
    },
    {
      "cell_type": "code",
      "source": [
        "# Lists to store the vocab and counts\n",
        "vocab = []\n",
        "count_of_vocab = []\n",
        "# Iterate through each vocab and count append the value to designated lists\n",
        "for key, value in dictionary:\n",
        "    vocab.append(key)\n",
        "    count_of_vocab.append(value)"
      ],
      "metadata": {
        "id": "eUF8sy9KrhNv"
      },
      "execution_count": null,
      "outputs": []
    },
    {
      "cell_type": "markdown",
      "source": [
        "###<B>Creating a new DataFrame vocab_after_stemming_listed_in\n"
      ],
      "metadata": {
        "id": "4aHeEzlsrkGa"
      }
    },
    {
      "cell_type": "code",
      "source": [
        "vocab_after_stemming_listed_in = pd.DataFrame({\"Word\": vocab , \"count\" :count_of_vocab})\n",
        "# Sort the dataframe by count\n",
        "vocab_after_stemming_listed_in = vocab_after_stemming_listed_in.sort_values(\"count\" ,ascending=False)"
      ],
      "metadata": {
        "id": "MWSGv8xPro2M"
      },
      "execution_count": null,
      "outputs": []
    },
    {
      "cell_type": "code",
      "source": [
        "top15_most_ocurred_vocab_lised_in_after_stem = vocab_after_stemming_listed_in.head(15)\n"
      ],
      "metadata": {
        "id": "Lx8JP0RDro4j"
      },
      "execution_count": null,
      "outputs": []
    },
    {
      "cell_type": "code",
      "source": [
        "top15_most_ocurred_vocab_lised_in_after_stem_word = top15_most_ocurred_vocab_lised_in_after_stem.Word.values \n",
        "top15_most_ocurred_vocab_lised_in_after_stem_word"
      ],
      "metadata": {
        "id": "R2WXuc5bro7G",
        "outputId": "67339a63-94e1-44ab-8340-8e02d29d2cb4",
        "colab": {
          "base_uri": "https://localhost:8080/"
        }
      },
      "execution_count": null,
      "outputs": [
        {
          "output_type": "execute_result",
          "data": {
            "text/plain": [
              "array(['tv', 'thriller', 'teen', 'talk', 'standup', 'sport', 'spiritu',\n",
              "       'spanishlanguag', 'show', 'seri', 'scifi', 'scienc', 'romant',\n",
              "       'realiti', 'natur'], dtype=object)"
            ]
          },
          "metadata": {},
          "execution_count": 110
        }
      ]
    },
    {
      "cell_type": "code",
      "source": [
        "top15_most_occurred_words_listed_in_count = top15_most_ocurred_vocab_lised_in_after_stem['count'].values \n",
        "top15_most_occurred_words_listed_in_count"
      ],
      "metadata": {
        "id": "-3zC0fEhrwRx",
        "outputId": "93e69349-afd4-4ac4-be1c-4b22a02a8b4c",
        "colab": {
          "base_uri": "https://localhost:8080/"
        }
      },
      "execution_count": null,
      "outputs": [
        {
          "output_type": "execute_result",
          "data": {
            "text/plain": [
              "array([39, 38, 37, 36, 35, 34, 33, 32, 31, 30, 29, 28, 27, 26, 25])"
            ]
          },
          "metadata": {},
          "execution_count": 111
        }
      ]
    },
    {
      "cell_type": "markdown",
      "source": [
        "###<B>Plot of the top vocab present in listed_in (after stemming)\n"
      ],
      "metadata": {
        "id": "0g3CVH_rr1kO"
      }
    },
    {
      "cell_type": "code",
      "source": [
        "plt.figure( figsize = ( 10,6 ))\n",
        "plt.xlim(25, 40 )\n",
        "plt.barh(top15_most_ocurred_vocab_lised_in_after_stem_word , top15_most_occurred_words_listed_in_count )"
      ],
      "metadata": {
        "id": "ZHmTuuErrwUl",
        "outputId": "53a4d957-b0f9-4efe-8788-162eb029a33d",
        "colab": {
          "base_uri": "https://localhost:8080/",
          "height": 391
        }
      },
      "execution_count": null,
      "outputs": [
        {
          "output_type": "execute_result",
          "data": {
            "text/plain": [
              "<BarContainer object of 15 artists>"
            ]
          },
          "metadata": {},
          "execution_count": 112
        },
        {
          "output_type": "display_data",
          "data": {
            "text/plain": [
              "<Figure size 720x432 with 1 Axes>"
            ],
            "image/png": "[encoded data removed]"
          },
          "metadata": {
            "needs_background": "light"
          }
        }
      ]
    },
    {
      "cell_type": "markdown",
      "source": [
        "####<B>Adding a new column length( listed-in ) which will contain length of listed_in"
      ],
      "metadata": {
        "id": "HmeiZUDKr-Dn"
      }
    },
    {
      "cell_type": "code",
      "source": [
        "nf['Length(listed-in)'] = nf['listed_in'].apply(lambda x: len(x))\n",
        "nf.head(3)"
      ],
      "metadata": {
        "id": "-CPG4dXvrwXc",
        "outputId": "c132fb17-c81d-4308-fe3c-4b74ad45cc50",
        "colab": {
          "base_uri": "https://localhost:8080/",
          "height": 309
        }
      },
      "execution_count": null,
      "outputs": [
        {
          "output_type": "execute_result",
          "data": {
            "text/plain": [
              "  show_id     type  title           director  \\\n",
              "0      s1  TV Show     3%                NaN   \n",
              "1      s2    Movie   7:19  Jorge Michel Grau   \n",
              "2      s3    Movie  23:59       Gilbert Chan   \n",
              "\n",
              "                                                cast    country  \\\n",
              "0  João Miguel, Bianca Comparato, Michel Gomes, R...     Brazil   \n",
              "1  Demián Bichir, Héctor Bonilla, Oscar Serrano, ...     Mexico   \n",
              "2  Tedd Chan, Stella Chung, Henley Hii, Lawrence ...  Singapore   \n",
              "\n",
              "          date_added  release_year rating   duration  \\\n",
              "0    August 14, 2020          2020  TV-MA  4 Seasons   \n",
              "1  December 23, 2016          2016  TV-MA     93 min   \n",
              "2  December 20, 2018          2011      R     78 min   \n",
              "\n",
              "                                  listed_in  \\\n",
              "0  intern tv show tv drama tv scifi fantasi   \n",
              "1                         drama intern movi   \n",
              "2                   horror movi intern movi   \n",
              "\n",
              "                                         description  Length(description)  \\\n",
              "0  futur elit inhabit island paradis far crowd sl...                   82   \n",
              "1  devast earthquak hit mexico citi trap survivor...                   88   \n",
              "2  armi recruit found dead fellow soldier forc co...                  102   \n",
              "\n",
              "   Length(listed-in)  \n",
              "0                 40  \n",
              "1                 17  \n",
              "2                 23  "
            ],
            "text/html": [
              "\n",
              "  <div id=\"df-3cec935c-5286-47d5-9572-f57fd73afee2\">\n",
              "    <div class=\"colab-df-container\">\n",
              "      <div>\n",
              "<style scoped>\n",
              "    .dataframe tbody tr th:only-of-type {\n",
              "        vertical-align: middle;\n",
              "    }\n",
              "\n",
              "    .dataframe tbody tr th {\n",
              "        vertical-align: top;\n",
              "    }\n",
              "\n",
              "    .dataframe thead th {\n",
              "        text-align: right;\n",
              "    }\n",
              "</style>\n",
              "<table border=\"1\" class=\"dataframe\">\n",
              "  <thead>\n",
              "    <tr style=\"text-align: right;\">\n",
              "      <th></th>\n",
              "      <th>show_id</th>\n",
              "      <th>type</th>\n",
              "      <th>title</th>\n",
              "      <th>director</th>\n",
              "      <th>cast</th>\n",
              "      <th>country</th>\n",
              "      <th>date_added</th>\n",
              "      <th>release_year</th>\n",
              "      <th>rating</th>\n",
              "      <th>duration</th>\n",
              "      <th>listed_in</th>\n",
              "      <th>description</th>\n",
              "      <th>Length(description)</th>\n",
              "      <th>Length(listed-in)</th>\n",
              "    </tr>\n",
              "  </thead>\n",
              "  <tbody>\n",
              "    <tr>\n",
              "      <th>0</th>\n",
              "      <td>s1</td>\n",
              "      <td>TV Show</td>\n",
              "      <td>3%</td>\n",
              "      <td>NaN</td>\n",
              "      <td>João Miguel, Bianca Comparato, Michel Gomes, R...</td>\n",
              "      <td>Brazil</td>\n",
              "      <td>August 14, 2020</td>\n",
              "      <td>2020</td>\n",
              "      <td>TV-MA</td>\n",
              "      <td>4 Seasons</td>\n",
              "      <td>intern tv show tv drama tv scifi fantasi</td>\n",
              "      <td>futur elit inhabit island paradis far crowd sl...</td>\n",
              "      <td>82</td>\n",
              "      <td>40</td>\n",
              "    </tr>\n",
              "    <tr>\n",
              "      <th>1</th>\n",
              "      <td>s2</td>\n",
              "      <td>Movie</td>\n",
              "      <td>7:19</td>\n",
              "      <td>Jorge Michel Grau</td>\n",
              "      <td>Demián Bichir, Héctor Bonilla, Oscar Serrano, ...</td>\n",
              "      <td>Mexico</td>\n",
              "      <td>December 23, 2016</td>\n",
              "      <td>2016</td>\n",
              "      <td>TV-MA</td>\n",
              "      <td>93 min</td>\n",
              "      <td>drama intern movi</td>\n",
              "      <td>devast earthquak hit mexico citi trap survivor...</td>\n",
              "      <td>88</td>\n",
              "      <td>17</td>\n",
              "    </tr>\n",
              "    <tr>\n",
              "      <th>2</th>\n",
              "      <td>s3</td>\n",
              "      <td>Movie</td>\n",
              "      <td>23:59</td>\n",
              "      <td>Gilbert Chan</td>\n",
              "      <td>Tedd Chan, Stella Chung, Henley Hii, Lawrence ...</td>\n",
              "      <td>Singapore</td>\n",
              "      <td>December 20, 2018</td>\n",
              "      <td>2011</td>\n",
              "      <td>R</td>\n",
              "      <td>78 min</td>\n",
              "      <td>horror movi intern movi</td>\n",
              "      <td>armi recruit found dead fellow soldier forc co...</td>\n",
              "      <td>102</td>\n",
              "      <td>23</td>\n",
              "    </tr>\n",
              "  </tbody>\n",
              "</table>\n",
              "</div>\n",
              "      <button class=\"colab-df-convert\" onclick=\"convertToInteractive('df-3cec935c-5286-47d5-9572-f57fd73afee2')\"\n",
              "              title=\"Convert this dataframe to an interactive table.\"\n",
              "              style=\"display:none;\">\n",
              "        \n",
              "  <svg xmlns=\"http://www.w3.org/2000/svg\" height=\"24px\"viewBox=\"0 0 24 24\"\n",
              "       width=\"24px\">\n",
              "    <path d=\"M0 0h24v24H0V0z\" fill=\"none\"/>\n",
              "    <path d=\"M18.56 5.44l.94 2.06.94-2.06 2.06-.94-2.06-.94-.94-2.06-.94 2.06-2.06.94zm-11 1L8.5 8.5l.94-2.06 2.06-.94-2.06-.94L8.5 2.5l-.94 2.06-2.06.94zm10 10l.94 2.06.94-2.06 2.06-.94-2.06-.94-.94-2.06-.94 2.06-2.06.94z\"/><path d=\"M17.41 7.96l-1.37-1.37c-.4-.4-.92-.59-1.43-.59-.52 0-1.04.2-1.43.59L10.3 9.45l-7.72 7.72c-.78.78-.78 2.05 0 2.83L4 21.41c.39.39.9.59 1.41.59.51 0 1.02-.2 1.41-.59l7.78-7.78 2.81-2.81c.8-.78.8-2.07 0-2.86zM5.41 20L4 18.59l7.72-7.72 1.47 1.35L5.41 20z\"/>\n",
              "  </svg>\n",
              "      </button>\n",
              "      \n",
              "  <style>\n",
              "    .colab-df-container {\n",
              "      display:flex;\n",
              "      flex-wrap:wrap;\n",
              "      gap: 12px;\n",
              "    }\n",
              "\n",
              "    .colab-df-convert {\n",
              "      background-color: #E8F0FE;\n",
              "      border: none;\n",
              "      border-radius: 50%;\n",
              "      cursor: pointer;\n",
              "      display: none;\n",
              "      fill: #1967D2;\n",
              "      height: 32px;\n",
              "      padding: 0 0 0 0;\n",
              "      width: 32px;\n",
              "    }\n",
              "\n",
              "    .colab-df-convert:hover {\n",
              "      background-color: #E2EBFA;\n",
              "      box-shadow: 0px 1px 2px rgba(60, 64, 67, 0.3), 0px 1px 3px 1px rgba(60, 64, 67, 0.15);\n",
              "      fill: #174EA6;\n",
              "    }\n",
              "\n",
              "    [theme=dark] .colab-df-convert {\n",
              "      background-color: #3B4455;\n",
              "      fill: #D2E3FC;\n",
              "    }\n",
              "\n",
              "    [theme=dark] .colab-df-convert:hover {\n",
              "      background-color: #434B5C;\n",
              "      box-shadow: 0px 1px 3px 1px rgba(0, 0, 0, 0.15);\n",
              "      filter: drop-shadow(0px 1px 2px rgba(0, 0, 0, 0.3));\n",
              "      fill: #FFFFFF;\n",
              "    }\n",
              "  </style>\n",
              "\n",
              "      <script>\n",
              "        const buttonEl =\n",
              "          document.querySelector('#df-3cec935c-5286-47d5-9572-f57fd73afee2 button.colab-df-convert');\n",
              "        buttonEl.style.display =\n",
              "          google.colab.kernel.accessAllowed ? 'block' : 'none';\n",
              "\n",
              "        async function convertToInteractive(key) {\n",
              "          const element = document.querySelector('#df-3cec935c-5286-47d5-9572-f57fd73afee2');\n",
              "          const dataTable =\n",
              "            await google.colab.kernel.invokeFunction('convertToInteractive',\n",
              "                                                     [key], {});\n",
              "          if (!dataTable) return;\n",
              "\n",
              "          const docLinkHtml = 'Like what you see? Visit the ' +\n",
              "            '<a target=\"_blank\" href=https://colab.research.google.com/notebooks/data_table.ipynb>data table notebook</a>'\n",
              "            + ' to learn more about interactive tables.';\n",
              "          element.innerHTML = '';\n",
              "          dataTable['output_type'] = 'display_data';\n",
              "          await google.colab.output.renderOutput(dataTable, element);\n",
              "          const docLink = document.createElement('div');\n",
              "          docLink.innerHTML = docLinkHtml;\n",
              "          element.appendChild(docLink);\n",
              "        }\n",
              "      </script>\n",
              "    </div>\n",
              "  </div>\n",
              "  "
            ]
          },
          "metadata": {},
          "execution_count": 113
        }
      ]
    },
    {
      "cell_type": "code",
      "source": [
        "nf.columns\n"
      ],
      "metadata": {
        "id": "3SPiw2eFro-D",
        "outputId": "5e6b93a2-1d26-4811-e424-46be31e8e972",
        "colab": {
          "base_uri": "https://localhost:8080/"
        }
      },
      "execution_count": null,
      "outputs": [
        {
          "output_type": "execute_result",
          "data": {
            "text/plain": [
              "Index(['show_id', 'type', 'title', 'director', 'cast', 'country', 'date_added',\n",
              "       'release_year', 'rating', 'duration', 'listed_in', 'description',\n",
              "       'Length(description)', 'Length(listed-in)'],\n",
              "      dtype='object')"
            ]
          },
          "metadata": {},
          "execution_count": 114
        }
      ]
    },
    {
      "cell_type": "code",
      "source": [
        "nf[['description', 'Length(description)', 'listed_in' ,'Length(listed-in)' ]].head(3)"
      ],
      "metadata": {
        "id": "swRKi30DsL2h",
        "outputId": "172036ce-3bf3-4931-d139-73e23515bd1d",
        "colab": {
          "base_uri": "https://localhost:8080/",
          "height": 143
        }
      },
      "execution_count": null,
      "outputs": [
        {
          "output_type": "execute_result",
          "data": {
            "text/plain": [
              "                                         description  Length(description)  \\\n",
              "0  futur elit inhabit island paradis far crowd sl...                   82   \n",
              "1  devast earthquak hit mexico citi trap survivor...                   88   \n",
              "2  armi recruit found dead fellow soldier forc co...                  102   \n",
              "\n",
              "                                  listed_in  Length(listed-in)  \n",
              "0  intern tv show tv drama tv scifi fantasi                 40  \n",
              "1                         drama intern movi                 17  \n",
              "2                   horror movi intern movi                 23  "
            ],
            "text/html": [
              "\n",
              "  <div id=\"df-4c70fd64-0fce-47bc-938e-2c4129b8f97a\">\n",
              "    <div class=\"colab-df-container\">\n",
              "      <div>\n",
              "<style scoped>\n",
              "    .dataframe tbody tr th:only-of-type {\n",
              "        vertical-align: middle;\n",
              "    }\n",
              "\n",
              "    .dataframe tbody tr th {\n",
              "        vertical-align: top;\n",
              "    }\n",
              "\n",
              "    .dataframe thead th {\n",
              "        text-align: right;\n",
              "    }\n",
              "</style>\n",
              "<table border=\"1\" class=\"dataframe\">\n",
              "  <thead>\n",
              "    <tr style=\"text-align: right;\">\n",
              "      <th></th>\n",
              "      <th>description</th>\n",
              "      <th>Length(description)</th>\n",
              "      <th>listed_in</th>\n",
              "      <th>Length(listed-in)</th>\n",
              "    </tr>\n",
              "  </thead>\n",
              "  <tbody>\n",
              "    <tr>\n",
              "      <th>0</th>\n",
              "      <td>futur elit inhabit island paradis far crowd sl...</td>\n",
              "      <td>82</td>\n",
              "      <td>intern tv show tv drama tv scifi fantasi</td>\n",
              "      <td>40</td>\n",
              "    </tr>\n",
              "    <tr>\n",
              "      <th>1</th>\n",
              "      <td>devast earthquak hit mexico citi trap survivor...</td>\n",
              "      <td>88</td>\n",
              "      <td>drama intern movi</td>\n",
              "      <td>17</td>\n",
              "    </tr>\n",
              "    <tr>\n",
              "      <th>2</th>\n",
              "      <td>armi recruit found dead fellow soldier forc co...</td>\n",
              "      <td>102</td>\n",
              "      <td>horror movi intern movi</td>\n",
              "      <td>23</td>\n",
              "    </tr>\n",
              "  </tbody>\n",
              "</table>\n",
              "</div>\n",
              "      <button class=\"colab-df-convert\" onclick=\"convertToInteractive('df-4c70fd64-0fce-47bc-938e-2c4129b8f97a')\"\n",
              "              title=\"Convert this dataframe to an interactive table.\"\n",
              "              style=\"display:none;\">\n",
              "        \n",
              "  <svg xmlns=\"http://www.w3.org/2000/svg\" height=\"24px\"viewBox=\"0 0 24 24\"\n",
              "       width=\"24px\">\n",
              "    <path d=\"M0 0h24v24H0V0z\" fill=\"none\"/>\n",
              "    <path d=\"M18.56 5.44l.94 2.06.94-2.06 2.06-.94-2.06-.94-.94-2.06-.94 2.06-2.06.94zm-11 1L8.5 8.5l.94-2.06 2.06-.94-2.06-.94L8.5 2.5l-.94 2.06-2.06.94zm10 10l.94 2.06.94-2.06 2.06-.94-2.06-.94-.94-2.06-.94 2.06-2.06.94z\"/><path d=\"M17.41 7.96l-1.37-1.37c-.4-.4-.92-.59-1.43-.59-.52 0-1.04.2-1.43.59L10.3 9.45l-7.72 7.72c-.78.78-.78 2.05 0 2.83L4 21.41c.39.39.9.59 1.41.59.51 0 1.02-.2 1.41-.59l7.78-7.78 2.81-2.81c.8-.78.8-2.07 0-2.86zM5.41 20L4 18.59l7.72-7.72 1.47 1.35L5.41 20z\"/>\n",
              "  </svg>\n",
              "      </button>\n",
              "      \n",
              "  <style>\n",
              "    .colab-df-container {\n",
              "      display:flex;\n",
              "      flex-wrap:wrap;\n",
              "      gap: 12px;\n",
              "    }\n",
              "\n",
              "    .colab-df-convert {\n",
              "      background-color: #E8F0FE;\n",
              "      border: none;\n",
              "      border-radius: 50%;\n",
              "      cursor: pointer;\n",
              "      display: none;\n",
              "      fill: #1967D2;\n",
              "      height: 32px;\n",
              "      padding: 0 0 0 0;\n",
              "      width: 32px;\n",
              "    }\n",
              "\n",
              "    .colab-df-convert:hover {\n",
              "      background-color: #E2EBFA;\n",
              "      box-shadow: 0px 1px 2px rgba(60, 64, 67, 0.3), 0px 1px 3px 1px rgba(60, 64, 67, 0.15);\n",
              "      fill: #174EA6;\n",
              "    }\n",
              "\n",
              "    [theme=dark] .colab-df-convert {\n",
              "      background-color: #3B4455;\n",
              "      fill: #D2E3FC;\n",
              "    }\n",
              "\n",
              "    [theme=dark] .colab-df-convert:hover {\n",
              "      background-color: #434B5C;\n",
              "      box-shadow: 0px 1px 3px 1px rgba(0, 0, 0, 0.15);\n",
              "      filter: drop-shadow(0px 1px 2px rgba(0, 0, 0, 0.3));\n",
              "      fill: #FFFFFF;\n",
              "    }\n",
              "  </style>\n",
              "\n",
              "      <script>\n",
              "        const buttonEl =\n",
              "          document.querySelector('#df-4c70fd64-0fce-47bc-938e-2c4129b8f97a button.colab-df-convert');\n",
              "        buttonEl.style.display =\n",
              "          google.colab.kernel.accessAllowed ? 'block' : 'none';\n",
              "\n",
              "        async function convertToInteractive(key) {\n",
              "          const element = document.querySelector('#df-4c70fd64-0fce-47bc-938e-2c4129b8f97a');\n",
              "          const dataTable =\n",
              "            await google.colab.kernel.invokeFunction('convertToInteractive',\n",
              "                                                     [key], {});\n",
              "          if (!dataTable) return;\n",
              "\n",
              "          const docLinkHtml = 'Like what you see? Visit the ' +\n",
              "            '<a target=\"_blank\" href=https://colab.research.google.com/notebooks/data_table.ipynb>data table notebook</a>'\n",
              "            + ' to learn more about interactive tables.';\n",
              "          element.innerHTML = '';\n",
              "          dataTable['output_type'] = 'display_data';\n",
              "          await google.colab.output.renderOutput(dataTable, element);\n",
              "          const docLink = document.createElement('div');\n",
              "          docLink.innerHTML = docLinkHtml;\n",
              "          element.appendChild(docLink);\n",
              "        }\n",
              "      </script>\n",
              "    </div>\n",
              "  </div>\n",
              "  "
            ]
          },
          "metadata": {},
          "execution_count": 115
        }
      ]
    },
    {
      "cell_type": "markdown",
      "source": [
        "#<B>Applying Different Clustering Algorithms\n"
      ],
      "metadata": {
        "id": "3F5c-MqmsRtJ"
      }
    },
    {
      "cell_type": "markdown",
      "source": [
        "**Clustering:**\n",
        "\n",
        "Clustering can be considered the most important unsupervised learning problem. So, as every other problem of this kind, it deals with finding a structure in a collection of unlabeled data. A loose definition of clustering could be “the process of organizing objects into groups whose members are similar in some way”.\n",
        "\n",
        "A cluster is therefore a collection of objects which are “similar” between them and are “dissimilar” to the objects belonging to other clusters."
      ],
      "metadata": {
        "id": "2czYPbefsX0t"
      }
    },
    {
      "cell_type": "markdown",
      "source": [
        "![download.png](data:image/png;base64,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)"
      ],
      "metadata": {
        "id": "zqFq8By6sxOh"
      }
    },
    {
      "cell_type": "markdown",
      "source": [
        "##<B> We have used 5 Clustering algo:\n",
        "### 1. Silhouette score\n",
        "### 2. Elbow Method\n",
        "### 3. DBSCAN\n",
        "### 4. Dendrogram\n",
        "### 5. AgglomerativeClustering"
      ],
      "metadata": {
        "id": "NDGYVgqJtEM7"
      }
    },
    {
      "cell_type": "markdown",
      "source": [
        "##<B>1.Silhouette Score"
      ],
      "metadata": {
        "id": "s6dvSP4DtTy7"
      }
    },
    {
      "cell_type": "code",
      "source": [
        ""
      ],
      "metadata": {
        "id": "F_Db8ARLsL5L"
      },
      "execution_count": null,
      "outputs": []
    },
    {
      "cell_type": "code",
      "source": [
        ""
      ],
      "metadata": {
        "id": "zg8u1yr5sL8J"
      },
      "execution_count": null,
      "outputs": []
    }
  ]
}