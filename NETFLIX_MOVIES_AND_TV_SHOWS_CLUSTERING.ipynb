{
  "nbformat": 4,
  "nbformat_minor": 0,
  "metadata": {
    "colab": {
      "name": "NETFLIX MOVIES AND TV SHOWS CLUSTERING.ipynb",
      "provenance": [],
      "collapsed_sections": [],
      "include_colab_link": true
    },
    "kernelspec": {
      "name": "python3",
      "display_name": "Python 3"
    },
    "language_info": {
      "name": "python"
    }
  },
  "cells": [
    {
      "cell_type": "markdown",
      "metadata": {
        "id": "view-in-github",
        "colab_type": "text"
      },
      "source": [
        "<a href=\"https://colab.research.google.com/github/Harisha-AlmaBetter/NETFLIX-MOVIES-AND-TV-SHOWS-CLUSTERING/blob/main/NETFLIX_MOVIES_AND_TV_SHOWS_CLUSTERING.ipynb\" target=\"_parent\"><img src=\"https://colab.research.google.com/assets/colab-badge.svg\" alt=\"Open In Colab\"/></a>"
      ]
    },
    {
      "cell_type": "markdown",
      "source": [
        "#<B>NETFLIX MOVIES AND TV SHOWS CLUSTERING"
      ],
      "metadata": {
        "id": "fI0UcTAT0ZoX"
      }
    },
    {
      "cell_type": "markdown",
      "source": [
        "# <B>Problem Statement"
      ],
      "metadata": {
        "id": "oRNsknx80W4W"
      }
    },
    {
      "cell_type": "markdown",
      "metadata": {
        "id": "8M5kyFaVjzXk"
      },
      "source": [
        "**This** dataset consists of tv shows and movies available on Netflix as of 2019. The dataset is collected from Flixable which is a third-party Netflix search engine.\n",
        "\n",
        "In 2018, they released an interesting report which shows that the number of TV shows on Netflix has nearly tripled since 2010. The streaming service’s number of movies has decreased by more than 2,000 titles since 2010, while its number of TV shows has nearly tripled. It will be interesting to explore what all other insights can be obtained from the same dataset.\n",
        "\n",
        "Integrating this dataset with other external datasets such as IMDB ratings, rotten tomatoes can also provide many interesting findings."
      ]
    },
    {
      "cell_type": "markdown",
      "metadata": {
        "id": "tLx5cJO8hzb1"
      },
      "source": [
        "## <b>In this  project, you are required to do </b>\n",
        "1. Exploratory Data Analysis \n",
        "\n",
        "2. Understanding what type content is available in different countries\n",
        "\n",
        "3. Is Netflix has increasingly focusing on TV rather than movies in recent years.\n",
        "4. Clustering similar content by matching text-based features\n",
        "\n"
      ]
    },
    {
      "cell_type": "markdown",
      "metadata": {
        "id": "AzGDqdC4fZ-b"
      },
      "source": [
        "# **Attribute Information**"
      ]
    },
    {
      "cell_type": "markdown",
      "metadata": {
        "id": "jhfLYargscGV"
      },
      "source": [
        "1. show_id : Unique ID for every Movie / Tv Show\n",
        "\n",
        "2. type : Identifier - A Movie or TV Show\n",
        "\n",
        "3. title : Title of the Movie / Tv Show\n",
        "\n",
        "4. director : Director of the Movie\n",
        "\n",
        "5. cast : Actors involved in the movie / show\n",
        "\n",
        "6. country : Country where the movie / show was produced\n",
        "\n",
        "7. date_added : Date it was added on Netflix\n",
        "\n",
        "8. release_year : Actual Releaseyear of the movie / show\n",
        "\n",
        "9. rating : TV Rating of the movie / show\n",
        "\n",
        "10. duration : Total Duration - in minutes or number of seasons\n",
        "\n",
        "11. listed_in : Genere\n",
        "\n",
        "12. description: The Summary description"
      ]
    },
    {
      "cell_type": "markdown",
      "source": [
        "#<b> Import Packages"
      ],
      "metadata": {
        "id": "ozGtdhZFzzZm"
      }
    },
    {
      "cell_type": "code",
      "source": [
        "!pip install xplotter --upgrade\n",
        "!pip install pycountry-convert\n",
        "!pip install geopy\n",
        "!pip install folium\n",
        "!pip install geopandas"
      ],
      "metadata": {
        "id": "6S584AI29Wb1"
      },
      "execution_count": 152,
      "outputs": []
    },
    {
      "cell_type": "code",
      "source": [
        "import pandas as pd\n",
        "import numpy as np\n",
        "\n",
        "import missingno as msno\n",
        "\n",
        "import seaborn as sns\n",
        "import matplotlib.pyplot as plt\n",
        "import plotly.express as px\n",
        "import plotly.graph_objects as go\n",
        "\n",
        "import warnings \n",
        "warnings.filterwarnings('ignore')\n",
        "\n",
        "%matplotlib inline\n",
        "\n",
        "# Importing Date & Time util modules\n",
        "from dateutil.parser import parse\n",
        "\n",
        "from collections import Counter\n",
        "\n",
        "\n",
        "# Xplotter\n",
        "from xplotter.insights import *\n",
        "from xplotter.formatter import format_spines"
      ],
      "metadata": {
        "id": "heJXGwFpnZm-"
      },
      "execution_count": 153,
      "outputs": []
    },
    {
      "cell_type": "markdown",
      "source": [
        "#<B>Load & Read the dataset"
      ],
      "metadata": {
        "id": "OWpNIKwj1SDJ"
      }
    },
    {
      "cell_type": "code",
      "source": [
        "from google.colab import drive\n",
        "drive.mount('/content/drive')"
      ],
      "metadata": {
        "id": "PrmXLXxc1k_M"
      },
      "execution_count": null,
      "outputs": []
    },
    {
      "cell_type": "code",
      "source": [
        "nf=pd.read_csv('/content/drive/MyDrive/Netflix/NETFLIX MOVIES AND TV SHOWS CLUSTERING.csv')"
      ],
      "metadata": {
        "id": "x477-z741u1T"
      },
      "execution_count": 214,
      "outputs": []
    },
    {
      "cell_type": "code",
      "source": [
        "nf.head(5).append(nf.tail(5))"
      ],
      "metadata": {
        "colab": {
          "base_uri": "https://localhost:8080/",
          "height": 737
        },
        "id": "tJ5pvJof26fb",
        "outputId": "f3c403e9-c92e-4e71-94fb-96db0f09d331"
      },
      "execution_count": 156,
      "outputs": [
        {
          "output_type": "execute_result",
          "data": {
            "text/html": [
              "\n",
              "  <div id=\"df-b9293de8-27f8-4958-9cc7-3f504d8787a7\">\n",
              "    <div class=\"colab-df-container\">\n",
              "      <div>\n",
              "<style scoped>\n",
              "    .dataframe tbody tr th:only-of-type {\n",
              "        vertical-align: middle;\n",
              "    }\n",
              "\n",
              "    .dataframe tbody tr th {\n",
              "        vertical-align: top;\n",
              "    }\n",
              "\n",
              "    .dataframe thead th {\n",
              "        text-align: right;\n",
              "    }\n",
              "</style>\n",
              "<table border=\"1\" class=\"dataframe\">\n",
              "  <thead>\n",
              "    <tr style=\"text-align: right;\">\n",
              "      <th></th>\n",
              "      <th>show_id</th>\n",
              "      <th>type</th>\n",
              "      <th>title</th>\n",
              "      <th>director</th>\n",
              "      <th>cast</th>\n",
              "      <th>country</th>\n",
              "      <th>date_added</th>\n",
              "      <th>release_year</th>\n",
              "      <th>rating</th>\n",
              "      <th>duration</th>\n",
              "      <th>listed_in</th>\n",
              "      <th>description</th>\n",
              "    </tr>\n",
              "  </thead>\n",
              "  <tbody>\n",
              "    <tr>\n",
              "      <th>0</th>\n",
              "      <td>s1</td>\n",
              "      <td>TV Show</td>\n",
              "      <td>3%</td>\n",
              "      <td>NaN</td>\n",
              "      <td>João Miguel, Bianca Comparato, Michel Gomes, R...</td>\n",
              "      <td>Brazil</td>\n",
              "      <td>August 14, 2020</td>\n",
              "      <td>2020</td>\n",
              "      <td>TV-MA</td>\n",
              "      <td>4 Seasons</td>\n",
              "      <td>International TV Shows, TV Dramas, TV Sci-Fi &amp;...</td>\n",
              "      <td>In a future where the elite inhabit an island ...</td>\n",
              "    </tr>\n",
              "    <tr>\n",
              "      <th>1</th>\n",
              "      <td>s2</td>\n",
              "      <td>Movie</td>\n",
              "      <td>7:19</td>\n",
              "      <td>Jorge Michel Grau</td>\n",
              "      <td>Demián Bichir, Héctor Bonilla, Oscar Serrano, ...</td>\n",
              "      <td>Mexico</td>\n",
              "      <td>December 23, 2016</td>\n",
              "      <td>2016</td>\n",
              "      <td>TV-MA</td>\n",
              "      <td>93 min</td>\n",
              "      <td>Dramas, International Movies</td>\n",
              "      <td>After a devastating earthquake hits Mexico Cit...</td>\n",
              "    </tr>\n",
              "    <tr>\n",
              "      <th>2</th>\n",
              "      <td>s3</td>\n",
              "      <td>Movie</td>\n",
              "      <td>23:59</td>\n",
              "      <td>Gilbert Chan</td>\n",
              "      <td>Tedd Chan, Stella Chung, Henley Hii, Lawrence ...</td>\n",
              "      <td>Singapore</td>\n",
              "      <td>December 20, 2018</td>\n",
              "      <td>2011</td>\n",
              "      <td>R</td>\n",
              "      <td>78 min</td>\n",
              "      <td>Horror Movies, International Movies</td>\n",
              "      <td>When an army recruit is found dead, his fellow...</td>\n",
              "    </tr>\n",
              "    <tr>\n",
              "      <th>3</th>\n",
              "      <td>s4</td>\n",
              "      <td>Movie</td>\n",
              "      <td>9</td>\n",
              "      <td>Shane Acker</td>\n",
              "      <td>Elijah Wood, John C. Reilly, Jennifer Connelly...</td>\n",
              "      <td>United States</td>\n",
              "      <td>November 16, 2017</td>\n",
              "      <td>2009</td>\n",
              "      <td>PG-13</td>\n",
              "      <td>80 min</td>\n",
              "      <td>Action &amp; Adventure, Independent Movies, Sci-Fi...</td>\n",
              "      <td>In a postapocalyptic world, rag-doll robots hi...</td>\n",
              "    </tr>\n",
              "    <tr>\n",
              "      <th>4</th>\n",
              "      <td>s5</td>\n",
              "      <td>Movie</td>\n",
              "      <td>21</td>\n",
              "      <td>Robert Luketic</td>\n",
              "      <td>Jim Sturgess, Kevin Spacey, Kate Bosworth, Aar...</td>\n",
              "      <td>United States</td>\n",
              "      <td>January 1, 2020</td>\n",
              "      <td>2008</td>\n",
              "      <td>PG-13</td>\n",
              "      <td>123 min</td>\n",
              "      <td>Dramas</td>\n",
              "      <td>A brilliant group of students become card-coun...</td>\n",
              "    </tr>\n",
              "    <tr>\n",
              "      <th>7782</th>\n",
              "      <td>s7783</td>\n",
              "      <td>Movie</td>\n",
              "      <td>Zozo</td>\n",
              "      <td>Josef Fares</td>\n",
              "      <td>Imad Creidi, Antoinette Turk, Elias Gergi, Car...</td>\n",
              "      <td>Sweden, Czech Republic, United Kingdom, Denmar...</td>\n",
              "      <td>October 19, 2020</td>\n",
              "      <td>2005</td>\n",
              "      <td>TV-MA</td>\n",
              "      <td>99 min</td>\n",
              "      <td>Dramas, International Movies</td>\n",
              "      <td>When Lebanon's Civil War deprives Zozo of his ...</td>\n",
              "    </tr>\n",
              "    <tr>\n",
              "      <th>7783</th>\n",
              "      <td>s7784</td>\n",
              "      <td>Movie</td>\n",
              "      <td>Zubaan</td>\n",
              "      <td>Mozez Singh</td>\n",
              "      <td>Vicky Kaushal, Sarah-Jane Dias, Raaghav Chanan...</td>\n",
              "      <td>India</td>\n",
              "      <td>March 2, 2019</td>\n",
              "      <td>2015</td>\n",
              "      <td>TV-14</td>\n",
              "      <td>111 min</td>\n",
              "      <td>Dramas, International Movies, Music &amp; Musicals</td>\n",
              "      <td>A scrappy but poor boy worms his way into a ty...</td>\n",
              "    </tr>\n",
              "    <tr>\n",
              "      <th>7784</th>\n",
              "      <td>s7785</td>\n",
              "      <td>Movie</td>\n",
              "      <td>Zulu Man in Japan</td>\n",
              "      <td>NaN</td>\n",
              "      <td>Nasty C</td>\n",
              "      <td>NaN</td>\n",
              "      <td>September 25, 2020</td>\n",
              "      <td>2019</td>\n",
              "      <td>TV-MA</td>\n",
              "      <td>44 min</td>\n",
              "      <td>Documentaries, International Movies, Music &amp; M...</td>\n",
              "      <td>In this documentary, South African rapper Nast...</td>\n",
              "    </tr>\n",
              "    <tr>\n",
              "      <th>7785</th>\n",
              "      <td>s7786</td>\n",
              "      <td>TV Show</td>\n",
              "      <td>Zumbo's Just Desserts</td>\n",
              "      <td>NaN</td>\n",
              "      <td>Adriano Zumbo, Rachel Khoo</td>\n",
              "      <td>Australia</td>\n",
              "      <td>October 31, 2020</td>\n",
              "      <td>2019</td>\n",
              "      <td>TV-PG</td>\n",
              "      <td>1 Season</td>\n",
              "      <td>International TV Shows, Reality TV</td>\n",
              "      <td>Dessert wizard Adriano Zumbo looks for the nex...</td>\n",
              "    </tr>\n",
              "    <tr>\n",
              "      <th>7786</th>\n",
              "      <td>s7787</td>\n",
              "      <td>Movie</td>\n",
              "      <td>ZZ TOP: THAT LITTLE OL' BAND FROM TEXAS</td>\n",
              "      <td>Sam Dunn</td>\n",
              "      <td>NaN</td>\n",
              "      <td>United Kingdom, Canada, United States</td>\n",
              "      <td>March 1, 2020</td>\n",
              "      <td>2019</td>\n",
              "      <td>TV-MA</td>\n",
              "      <td>90 min</td>\n",
              "      <td>Documentaries, Music &amp; Musicals</td>\n",
              "      <td>This documentary delves into the mystique behi...</td>\n",
              "    </tr>\n",
              "  </tbody>\n",
              "</table>\n",
              "</div>\n",
              "      <button class=\"colab-df-convert\" onclick=\"convertToInteractive('df-b9293de8-27f8-4958-9cc7-3f504d8787a7')\"\n",
              "              title=\"Convert this dataframe to an interactive table.\"\n",
              "              style=\"display:none;\">\n",
              "        \n",
              "  <svg xmlns=\"http://www.w3.org/2000/svg\" height=\"24px\"viewBox=\"0 0 24 24\"\n",
              "       width=\"24px\">\n",
              "    <path d=\"M0 0h24v24H0V0z\" fill=\"none\"/>\n",
              "    <path d=\"M18.56 5.44l.94 2.06.94-2.06 2.06-.94-2.06-.94-.94-2.06-.94 2.06-2.06.94zm-11 1L8.5 8.5l.94-2.06 2.06-.94-2.06-.94L8.5 2.5l-.94 2.06-2.06.94zm10 10l.94 2.06.94-2.06 2.06-.94-2.06-.94-.94-2.06-.94 2.06-2.06.94z\"/><path d=\"M17.41 7.96l-1.37-1.37c-.4-.4-.92-.59-1.43-.59-.52 0-1.04.2-1.43.59L10.3 9.45l-7.72 7.72c-.78.78-.78 2.05 0 2.83L4 21.41c.39.39.9.59 1.41.59.51 0 1.02-.2 1.41-.59l7.78-7.78 2.81-2.81c.8-.78.8-2.07 0-2.86zM5.41 20L4 18.59l7.72-7.72 1.47 1.35L5.41 20z\"/>\n",
              "  </svg>\n",
              "      </button>\n",
              "      \n",
              "  <style>\n",
              "    .colab-df-container {\n",
              "      display:flex;\n",
              "      flex-wrap:wrap;\n",
              "      gap: 12px;\n",
              "    }\n",
              "\n",
              "    .colab-df-convert {\n",
              "      background-color: #E8F0FE;\n",
              "      border: none;\n",
              "      border-radius: 50%;\n",
              "      cursor: pointer;\n",
              "      display: none;\n",
              "      fill: #1967D2;\n",
              "      height: 32px;\n",
              "      padding: 0 0 0 0;\n",
              "      width: 32px;\n",
              "    }\n",
              "\n",
              "    .colab-df-convert:hover {\n",
              "      background-color: #E2EBFA;\n",
              "      box-shadow: 0px 1px 2px rgba(60, 64, 67, 0.3), 0px 1px 3px 1px rgba(60, 64, 67, 0.15);\n",
              "      fill: #174EA6;\n",
              "    }\n",
              "\n",
              "    [theme=dark] .colab-df-convert {\n",
              "      background-color: #3B4455;\n",
              "      fill: #D2E3FC;\n",
              "    }\n",
              "\n",
              "    [theme=dark] .colab-df-convert:hover {\n",
              "      background-color: #434B5C;\n",
              "      box-shadow: 0px 1px 3px 1px rgba(0, 0, 0, 0.15);\n",
              "      filter: drop-shadow(0px 1px 2px rgba(0, 0, 0, 0.3));\n",
              "      fill: #FFFFFF;\n",
              "    }\n",
              "  </style>\n",
              "\n",
              "      <script>\n",
              "        const buttonEl =\n",
              "          document.querySelector('#df-b9293de8-27f8-4958-9cc7-3f504d8787a7 button.colab-df-convert');\n",
              "        buttonEl.style.display =\n",
              "          google.colab.kernel.accessAllowed ? 'block' : 'none';\n",
              "\n",
              "        async function convertToInteractive(key) {\n",
              "          const element = document.querySelector('#df-b9293de8-27f8-4958-9cc7-3f504d8787a7');\n",
              "          const dataTable =\n",
              "            await google.colab.kernel.invokeFunction('convertToInteractive',\n",
              "                                                     [key], {});\n",
              "          if (!dataTable) return;\n",
              "\n",
              "          const docLinkHtml = 'Like what you see? Visit the ' +\n",
              "            '<a target=\"_blank\" href=https://colab.research.google.com/notebooks/data_table.ipynb>data table notebook</a>'\n",
              "            + ' to learn more about interactive tables.';\n",
              "          element.innerHTML = '';\n",
              "          dataTable['output_type'] = 'display_data';\n",
              "          await google.colab.output.renderOutput(dataTable, element);\n",
              "          const docLink = document.createElement('div');\n",
              "          docLink.innerHTML = docLinkHtml;\n",
              "          element.appendChild(docLink);\n",
              "        }\n",
              "      </script>\n",
              "    </div>\n",
              "  </div>\n",
              "  "
            ],
            "text/plain": [
              "     show_id  ...                                        description\n",
              "0         s1  ...  In a future where the elite inhabit an island ...\n",
              "1         s2  ...  After a devastating earthquake hits Mexico Cit...\n",
              "2         s3  ...  When an army recruit is found dead, his fellow...\n",
              "3         s4  ...  In a postapocalyptic world, rag-doll robots hi...\n",
              "4         s5  ...  A brilliant group of students become card-coun...\n",
              "7782   s7783  ...  When Lebanon's Civil War deprives Zozo of his ...\n",
              "7783   s7784  ...  A scrappy but poor boy worms his way into a ty...\n",
              "7784   s7785  ...  In this documentary, South African rapper Nast...\n",
              "7785   s7786  ...  Dessert wizard Adriano Zumbo looks for the nex...\n",
              "7786   s7787  ...  This documentary delves into the mystique behi...\n",
              "\n",
              "[10 rows x 12 columns]"
            ]
          },
          "metadata": {},
          "execution_count": 156
        }
      ]
    },
    {
      "cell_type": "markdown",
      "source": [
        "After a quick glimpse at the dataset, it looks like a typical movies/shows dataset without user ratings. We can also see that there are NaN values in some columns."
      ],
      "metadata": {
        "id": "ejXm1mOfrEKM"
      }
    },
    {
      "cell_type": "markdown",
      "source": [
        "#<B>Checking Shape and Column Names"
      ],
      "metadata": {
        "id": "t5Bs3Qw6YH1C"
      }
    },
    {
      "cell_type": "code",
      "source": [
        "nf.shape"
      ],
      "metadata": {
        "colab": {
          "base_uri": "https://localhost:8080/"
        },
        "id": "htCGcBIuYHIV",
        "outputId": "5dd56e33-aaba-4f73-9448-1b013581a9bf"
      },
      "execution_count": 157,
      "outputs": [
        {
          "output_type": "execute_result",
          "data": {
            "text/plain": [
              "(7787, 12)"
            ]
          },
          "metadata": {},
          "execution_count": 157
        }
      ]
    },
    {
      "cell_type": "code",
      "source": [
        "nf.columns"
      ],
      "metadata": {
        "colab": {
          "base_uri": "https://localhost:8080/"
        },
        "id": "BSkUPihSYoYT",
        "outputId": "d0db4633-ba7e-4a8b-da70-eab429e303d6"
      },
      "execution_count": 158,
      "outputs": [
        {
          "output_type": "execute_result",
          "data": {
            "text/plain": [
              "Index(['show_id', 'type', 'title', 'director', 'cast', 'country', 'date_added',\n",
              "       'release_year', 'rating', 'duration', 'listed_in', 'description'],\n",
              "      dtype='object')"
            ]
          },
          "metadata": {},
          "execution_count": 158
        }
      ]
    },
    {
      "cell_type": "markdown",
      "source": [
        "<B>To make the column names more meaningful, \"listed_in\" has been changed to \"genres\"."
      ],
      "metadata": {
        "id": "FwVSr3PCYxh3"
      }
    },
    {
      "cell_type": "code",
      "source": [
        "nf.rename(columns = {\"listed_in\":\"genres\"},inplace = True)\n",
        "nf.columns"
      ],
      "metadata": {
        "colab": {
          "base_uri": "https://localhost:8080/"
        },
        "id": "_8EspSHnY1hR",
        "outputId": "0239d579-1838-4d7b-f6fb-6ccdc262a7f0"
      },
      "execution_count": 159,
      "outputs": [
        {
          "output_type": "execute_result",
          "data": {
            "text/plain": [
              "Index(['show_id', 'type', 'title', 'director', 'cast', 'country', 'date_added',\n",
              "       'release_year', 'rating', 'duration', 'genres', 'description'],\n",
              "      dtype='object')"
            ]
          },
          "metadata": {},
          "execution_count": 159
        }
      ]
    },
    {
      "cell_type": "markdown",
      "source": [
        "<B>Validating Duplicate Records"
      ],
      "metadata": {
        "id": "BUJCR3W0Zh8z"
      }
    },
    {
      "cell_type": "code",
      "source": [
        "#Drop duplicates if any\n",
        "nf=nf.drop_duplicates()\n",
        "nf.shape"
      ],
      "metadata": {
        "colab": {
          "base_uri": "https://localhost:8080/"
        },
        "id": "uZ_2GC1-ZkXy",
        "outputId": "0945833c-4b3a-4142-b3ea-49ca12455b54"
      },
      "execution_count": 160,
      "outputs": [
        {
          "output_type": "execute_result",
          "data": {
            "text/plain": [
              "(7787, 12)"
            ]
          },
          "metadata": {},
          "execution_count": 160
        }
      ]
    },
    {
      "cell_type": "markdown",
      "source": [
        "<B>No duplicates found."
      ],
      "metadata": {
        "id": "wie3ZaiXZ6Ls"
      }
    },
    {
      "cell_type": "markdown",
      "source": [
        "# **3. Data Preparation and Cleaning**"
      ],
      "metadata": {
        "id": "0MhrO-Chur-9"
      }
    },
    {
      "cell_type": "code",
      "source": [
        "nf.info()"
      ],
      "metadata": {
        "colab": {
          "base_uri": "https://localhost:8080/"
        },
        "id": "XdRlQnNH3KQN",
        "outputId": "673a5c62-7bd7-482e-82d8-bc3e55a881fb"
      },
      "execution_count": 161,
      "outputs": [
        {
          "output_type": "stream",
          "name": "stdout",
          "text": [
            "<class 'pandas.core.frame.DataFrame'>\n",
            "Int64Index: 7787 entries, 0 to 7786\n",
            "Data columns (total 12 columns):\n",
            " #   Column        Non-Null Count  Dtype \n",
            "---  ------        --------------  ----- \n",
            " 0   show_id       7787 non-null   object\n",
            " 1   type          7787 non-null   object\n",
            " 2   title         7787 non-null   object\n",
            " 3   director      5398 non-null   object\n",
            " 4   cast          7069 non-null   object\n",
            " 5   country       7280 non-null   object\n",
            " 6   date_added    7777 non-null   object\n",
            " 7   release_year  7787 non-null   int64 \n",
            " 8   rating        7780 non-null   object\n",
            " 9   duration      7787 non-null   object\n",
            " 10  genres        7787 non-null   object\n",
            " 11  description   7787 non-null   object\n",
            "dtypes: int64(1), object(11)\n",
            "memory usage: 790.9+ KB\n"
          ]
        }
      ]
    },
    {
      "cell_type": "markdown",
      "source": [
        "There are 7,787 entries and 12 columns to work with for EDA. Right off the bat, there are a few columns that contain null values ('director', 'cast', 'country', 'date_added', 'rating')."
      ],
      "metadata": {
        "id": "DqlYYJHa3Zq6"
      }
    },
    {
      "cell_type": "code",
      "source": [
        "nf.nunique()"
      ],
      "metadata": {
        "id": "-7eWAYnrsEUt",
        "outputId": "17d6dfd4-ddd1-48c3-a2a0-8e54e307235b",
        "colab": {
          "base_uri": "https://localhost:8080/"
        }
      },
      "execution_count": 162,
      "outputs": [
        {
          "output_type": "execute_result",
          "data": {
            "text/plain": [
              "show_id         7787\n",
              "type               2\n",
              "title           7787\n",
              "director        4049\n",
              "cast            6831\n",
              "country          681\n",
              "date_added      1565\n",
              "release_year      73\n",
              "rating            14\n",
              "duration         216\n",
              "genres           492\n",
              "description     7769\n",
              "dtype: int64"
            ]
          },
          "metadata": {},
          "execution_count": 162
        }
      ]
    },
    {
      "cell_type": "markdown",
      "source": [
        "**Observation**: All the show IDs and Titles are unique whereas others might have been repeated once or more times!"
      ],
      "metadata": {
        "id": "cZvgyB47sLsm"
      }
    },
    {
      "cell_type": "markdown",
      "source": [
        "<B>Analyzing basic statistics about each feature, such as count, min, max, and mean."
      ],
      "metadata": {
        "id": "D9pE0tosuBcX"
      }
    },
    {
      "cell_type": "code",
      "source": [
        "nf.describe()"
      ],
      "metadata": {
        "colab": {
          "base_uri": "https://localhost:8080/",
          "height": 300
        },
        "id": "sLdI28983O-7",
        "outputId": "8d32af69-fd9f-46e4-cfe1-646f8587270d"
      },
      "execution_count": 163,
      "outputs": [
        {
          "output_type": "execute_result",
          "data": {
            "text/html": [
              "\n",
              "  <div id=\"df-e9624578-a630-41b0-b463-de4db3fc9c1f\">\n",
              "    <div class=\"colab-df-container\">\n",
              "      <div>\n",
              "<style scoped>\n",
              "    .dataframe tbody tr th:only-of-type {\n",
              "        vertical-align: middle;\n",
              "    }\n",
              "\n",
              "    .dataframe tbody tr th {\n",
              "        vertical-align: top;\n",
              "    }\n",
              "\n",
              "    .dataframe thead th {\n",
              "        text-align: right;\n",
              "    }\n",
              "</style>\n",
              "<table border=\"1\" class=\"dataframe\">\n",
              "  <thead>\n",
              "    <tr style=\"text-align: right;\">\n",
              "      <th></th>\n",
              "      <th>release_year</th>\n",
              "    </tr>\n",
              "  </thead>\n",
              "  <tbody>\n",
              "    <tr>\n",
              "      <th>count</th>\n",
              "      <td>7787.000000</td>\n",
              "    </tr>\n",
              "    <tr>\n",
              "      <th>mean</th>\n",
              "      <td>2013.932580</td>\n",
              "    </tr>\n",
              "    <tr>\n",
              "      <th>std</th>\n",
              "      <td>8.757395</td>\n",
              "    </tr>\n",
              "    <tr>\n",
              "      <th>min</th>\n",
              "      <td>1925.000000</td>\n",
              "    </tr>\n",
              "    <tr>\n",
              "      <th>25%</th>\n",
              "      <td>2013.000000</td>\n",
              "    </tr>\n",
              "    <tr>\n",
              "      <th>50%</th>\n",
              "      <td>2017.000000</td>\n",
              "    </tr>\n",
              "    <tr>\n",
              "      <th>75%</th>\n",
              "      <td>2018.000000</td>\n",
              "    </tr>\n",
              "    <tr>\n",
              "      <th>max</th>\n",
              "      <td>2021.000000</td>\n",
              "    </tr>\n",
              "  </tbody>\n",
              "</table>\n",
              "</div>\n",
              "      <button class=\"colab-df-convert\" onclick=\"convertToInteractive('df-e9624578-a630-41b0-b463-de4db3fc9c1f')\"\n",
              "              title=\"Convert this dataframe to an interactive table.\"\n",
              "              style=\"display:none;\">\n",
              "        \n",
              "  <svg xmlns=\"http://www.w3.org/2000/svg\" height=\"24px\"viewBox=\"0 0 24 24\"\n",
              "       width=\"24px\">\n",
              "    <path d=\"M0 0h24v24H0V0z\" fill=\"none\"/>\n",
              "    <path d=\"M18.56 5.44l.94 2.06.94-2.06 2.06-.94-2.06-.94-.94-2.06-.94 2.06-2.06.94zm-11 1L8.5 8.5l.94-2.06 2.06-.94-2.06-.94L8.5 2.5l-.94 2.06-2.06.94zm10 10l.94 2.06.94-2.06 2.06-.94-2.06-.94-.94-2.06-.94 2.06-2.06.94z\"/><path d=\"M17.41 7.96l-1.37-1.37c-.4-.4-.92-.59-1.43-.59-.52 0-1.04.2-1.43.59L10.3 9.45l-7.72 7.72c-.78.78-.78 2.05 0 2.83L4 21.41c.39.39.9.59 1.41.59.51 0 1.02-.2 1.41-.59l7.78-7.78 2.81-2.81c.8-.78.8-2.07 0-2.86zM5.41 20L4 18.59l7.72-7.72 1.47 1.35L5.41 20z\"/>\n",
              "  </svg>\n",
              "      </button>\n",
              "      \n",
              "  <style>\n",
              "    .colab-df-container {\n",
              "      display:flex;\n",
              "      flex-wrap:wrap;\n",
              "      gap: 12px;\n",
              "    }\n",
              "\n",
              "    .colab-df-convert {\n",
              "      background-color: #E8F0FE;\n",
              "      border: none;\n",
              "      border-radius: 50%;\n",
              "      cursor: pointer;\n",
              "      display: none;\n",
              "      fill: #1967D2;\n",
              "      height: 32px;\n",
              "      padding: 0 0 0 0;\n",
              "      width: 32px;\n",
              "    }\n",
              "\n",
              "    .colab-df-convert:hover {\n",
              "      background-color: #E2EBFA;\n",
              "      box-shadow: 0px 1px 2px rgba(60, 64, 67, 0.3), 0px 1px 3px 1px rgba(60, 64, 67, 0.15);\n",
              "      fill: #174EA6;\n",
              "    }\n",
              "\n",
              "    [theme=dark] .colab-df-convert {\n",
              "      background-color: #3B4455;\n",
              "      fill: #D2E3FC;\n",
              "    }\n",
              "\n",
              "    [theme=dark] .colab-df-convert:hover {\n",
              "      background-color: #434B5C;\n",
              "      box-shadow: 0px 1px 3px 1px rgba(0, 0, 0, 0.15);\n",
              "      filter: drop-shadow(0px 1px 2px rgba(0, 0, 0, 0.3));\n",
              "      fill: #FFFFFF;\n",
              "    }\n",
              "  </style>\n",
              "\n",
              "      <script>\n",
              "        const buttonEl =\n",
              "          document.querySelector('#df-e9624578-a630-41b0-b463-de4db3fc9c1f button.colab-df-convert');\n",
              "        buttonEl.style.display =\n",
              "          google.colab.kernel.accessAllowed ? 'block' : 'none';\n",
              "\n",
              "        async function convertToInteractive(key) {\n",
              "          const element = document.querySelector('#df-e9624578-a630-41b0-b463-de4db3fc9c1f');\n",
              "          const dataTable =\n",
              "            await google.colab.kernel.invokeFunction('convertToInteractive',\n",
              "                                                     [key], {});\n",
              "          if (!dataTable) return;\n",
              "\n",
              "          const docLinkHtml = 'Like what you see? Visit the ' +\n",
              "            '<a target=\"_blank\" href=https://colab.research.google.com/notebooks/data_table.ipynb>data table notebook</a>'\n",
              "            + ' to learn more about interactive tables.';\n",
              "          element.innerHTML = '';\n",
              "          dataTable['output_type'] = 'display_data';\n",
              "          await google.colab.output.renderOutput(dataTable, element);\n",
              "          const docLink = document.createElement('div');\n",
              "          docLink.innerHTML = docLinkHtml;\n",
              "          element.appendChild(docLink);\n",
              "        }\n",
              "      </script>\n",
              "    </div>\n",
              "  </div>\n",
              "  "
            ],
            "text/plain": [
              "       release_year\n",
              "count   7787.000000\n",
              "mean    2013.932580\n",
              "std        8.757395\n",
              "min     1925.000000\n",
              "25%     2013.000000\n",
              "50%     2017.000000\n",
              "75%     2018.000000\n",
              "max     2021.000000"
            ]
          },
          "metadata": {},
          "execution_count": 163
        }
      ]
    },
    {
      "cell_type": "markdown",
      "source": [
        "**Observation**\n",
        "\n",
        "\n",
        "*   Netflix has 25% of movies and TV shows that were released in 2013\n",
        "\n",
        "*   About 75% of Netflix's content consists of movies and TV shows released after 2013\n",
        "\n",
        "\n",
        "*   Data from Netflix shows that new trend movies or TV shows are more prevalent.\n",
        "\n",
        "*   For more subscribers, Netflix should invest in classic Movies and TV shows."
      ],
      "metadata": {
        "id": "_OuiXoKeuHFE"
      }
    },
    {
      "cell_type": "markdown",
      "source": [
        "##**Handling Null Values**"
      ],
      "metadata": {
        "id": "JxBZNHA2sTZu"
      }
    },
    {
      "cell_type": "markdown",
      "source": [
        "We can see that for each of the columns, there are alot different unique values for some of them. It makes sense that show_id is large since it is a unique key used to identify a movie/show. Title, director, cast, country, date_added, listed_in, and description contain many unique values as well."
      ],
      "metadata": {
        "id": "KvF_8Ah7scWA"
      }
    },
    {
      "cell_type": "code",
      "source": [
        "nf.isnull().values.any()"
      ],
      "metadata": {
        "id": "SpZr88Kzsgug",
        "outputId": "31c836c5-a89a-441b-f46d-8a07f091666b",
        "colab": {
          "base_uri": "https://localhost:8080/"
        }
      },
      "execution_count": 164,
      "outputs": [
        {
          "output_type": "execute_result",
          "data": {
            "text/plain": [
              "True"
            ]
          },
          "metadata": {},
          "execution_count": 164
        }
      ]
    },
    {
      "cell_type": "code",
      "source": [
        "nf.isnull().sum().sum()"
      ],
      "metadata": {
        "id": "wo6TOb0HsqOT",
        "outputId": "068a71b3-081f-434b-ad1a-f781168797a6",
        "colab": {
          "base_uri": "https://localhost:8080/"
        }
      },
      "execution_count": 165,
      "outputs": [
        {
          "output_type": "execute_result",
          "data": {
            "text/plain": [
              "3631"
            ]
          },
          "metadata": {},
          "execution_count": 165
        }
      ]
    },
    {
      "cell_type": "code",
      "source": [
        "sns.heatmap(nf.isnull(), cbar=False)\n",
        "plt.title('Null Values Heatmap')\n",
        "plt.show()"
      ],
      "metadata": {
        "colab": {
          "base_uri": "https://localhost:8080/",
          "height": 345
        },
        "id": "BPT8-7Z9VBKE",
        "outputId": "ab3581a3-4f6b-4ff1-a23c-b9eadef4e0e8"
      },
      "execution_count": 166,
      "outputs": [
        {
          "output_type": "display_data",
          "data": {
            "image/png": "[encoded data removed]",
            "text/plain": [
              "<Figure size 432x288 with 1 Axes>"
            ]
          },
          "metadata": {
            "needs_background": "light"
          }
        }
      ]
    },
    {
      "cell_type": "markdown",
      "source": [
        "**Observation:** Using this matrix we can quickly find the pattern of 'missingness' in the dataset. From the above visualisation we can observe that \"director\" has a peculiar pattern that stands out.\"cast\" and \"country\" have a similar pattern of missing values while column \"date_added\" shows a different pattern."
      ],
      "metadata": {
        "id": "mldPjnnBVoZC"
      }
    },
    {
      "cell_type": "code",
      "source": [
        "nf.isnull().sum()"
      ],
      "metadata": {
        "id": "nHgjruGCtU_4",
        "outputId": "3f0c363a-e999-4a2c-95a5-457885cea5a0",
        "colab": {
          "base_uri": "https://localhost:8080/"
        }
      },
      "execution_count": 167,
      "outputs": [
        {
          "output_type": "execute_result",
          "data": {
            "text/plain": [
              "show_id            0\n",
              "type               0\n",
              "title              0\n",
              "director        2389\n",
              "cast             718\n",
              "country          507\n",
              "date_added        10\n",
              "release_year       0\n",
              "rating             7\n",
              "duration           0\n",
              "genres             0\n",
              "description        0\n",
              "dtype: int64"
            ]
          },
          "metadata": {},
          "execution_count": 167
        }
      ]
    },
    {
      "cell_type": "markdown",
      "source": [
        "Above in the heatmap and table, we can see that there are quite a few null values in the dataset. There are a total of 3,631 null values across the entire dataset with 2,389 missing points under 'director', 718 under 'cast', 507 under 'country', 10 under 'date_added', and 7 under 'rating'. We will have to handle all null data points before we can dive into EDA and modeling."
      ],
      "metadata": {
        "id": "N9uc8A3btatN"
      }
    },
    {
      "cell_type": "code",
      "source": [
        "for i in nf.columns:\n",
        "  null_rate = nf[i].isnull().sum()/len(nf)*100\n",
        "  if null_rate > 0 :\n",
        "        print( \"{}'s null rate: {}%\".format(i, round(null_rate, 2)))"
      ],
      "metadata": {
        "colab": {
          "base_uri": "https://localhost:8080/"
        },
        "id": "9HGIrMC7cxeb",
        "outputId": "cc7b8586-69c0-472b-8469-2495837d406e"
      },
      "execution_count": 168,
      "outputs": [
        {
          "output_type": "stream",
          "name": "stdout",
          "text": [
            "director's null rate: 30.68%\n",
            "cast's null rate: 9.22%\n",
            "country's null rate: 6.51%\n",
            "date_added's null rate: 0.13%\n",
            "rating's null rate: 0.09%\n"
          ]
        }
      ]
    },
    {
      "cell_type": "markdown",
      "source": [
        "Observation: As per our earlier analysis, we can see that the 'director' column has the highest whereas 'rating' column has the lowest number of missing values!"
      ],
      "metadata": {
        "id": "v8tf0qjne-Zm"
      }
    },
    {
      "cell_type": "code",
      "source": [
        "nf['director'].fillna('No Director', inplace=True)\n",
        "nf['cast'].fillna('No Cast', inplace=True)\n",
        "nf['country'].fillna('Country Unavailable', inplace=True)\n",
        "nf.dropna(subset=['date_added','rating'],inplace=True)"
      ],
      "metadata": {
        "id": "qhNMKhEiHlus"
      },
      "execution_count": 169,
      "outputs": []
    },
    {
      "cell_type": "code",
      "source": [
        "nf.isnull().any()"
      ],
      "metadata": {
        "colab": {
          "base_uri": "https://localhost:8080/"
        },
        "id": "XlWnzM1lHlw8",
        "outputId": "5031935b-68ca-4b13-d450-800800ca62c7"
      },
      "execution_count": 170,
      "outputs": [
        {
          "output_type": "execute_result",
          "data": {
            "text/plain": [
              "show_id         False\n",
              "type            False\n",
              "title           False\n",
              "director        False\n",
              "cast            False\n",
              "country         False\n",
              "date_added      False\n",
              "release_year    False\n",
              "rating          False\n",
              "duration        False\n",
              "genres          False\n",
              "description     False\n",
              "dtype: bool"
            ]
          },
          "metadata": {},
          "execution_count": 170
        }
      ]
    },
    {
      "cell_type": "markdown",
      "source": [
        "For null values, the easiest way to get rid of them would be to delete the rows with the missing data. However, this wouldn't be beneficial to our EDA since there is loss of information. \n",
        "\n",
        "Since 'director', 'cast', and 'country' contain the majority of null values, we will choose to treat each missing value as unavailable. The other two labels 'date_added' and 'rating' contains an insignificant portion of the data so we will drop them from the dataset. After, we can see that there are no more null values in the dataset."
      ],
      "metadata": {
        "id": "b-w4zH9vI5eH"
      }
    },
    {
      "cell_type": "markdown",
      "source": [
        "###<B>Splitting the Dataset"
      ],
      "metadata": {
        "id": "BwHwyOsiNVz-"
      }
    },
    {
      "cell_type": "markdown",
      "source": [
        "Since the dataset can either contain movies or shows, it'd be nice to have datasets for both so we can take a deep dive into just Netflix movies or Netflix TV shows so we will create two new datasets. One for movies and the other one for shows."
      ],
      "metadata": {
        "id": "OWIOlwwdNV0A"
      }
    },
    {
      "cell_type": "code",
      "source": [
        "nf_movies = nf[nf['type']=='Movie'].copy()\n",
        "nf_movies.head()"
      ],
      "metadata": {
        "colab": {
          "base_uri": "https://localhost:8080/",
          "height": 337
        },
        "outputId": "1ade8747-13d9-440a-eca1-dc294024561d",
        "id": "k3PWPGHONV0B"
      },
      "execution_count": 171,
      "outputs": [
        {
          "output_type": "execute_result",
          "data": {
            "text/html": [
              "\n",
              "  <div id=\"df-38b22946-fc6f-4346-9e46-c4ff36264f41\">\n",
              "    <div class=\"colab-df-container\">\n",
              "      <div>\n",
              "<style scoped>\n",
              "    .dataframe tbody tr th:only-of-type {\n",
              "        vertical-align: middle;\n",
              "    }\n",
              "\n",
              "    .dataframe tbody tr th {\n",
              "        vertical-align: top;\n",
              "    }\n",
              "\n",
              "    .dataframe thead th {\n",
              "        text-align: right;\n",
              "    }\n",
              "</style>\n",
              "<table border=\"1\" class=\"dataframe\">\n",
              "  <thead>\n",
              "    <tr style=\"text-align: right;\">\n",
              "      <th></th>\n",
              "      <th>show_id</th>\n",
              "      <th>type</th>\n",
              "      <th>title</th>\n",
              "      <th>director</th>\n",
              "      <th>cast</th>\n",
              "      <th>country</th>\n",
              "      <th>date_added</th>\n",
              "      <th>release_year</th>\n",
              "      <th>rating</th>\n",
              "      <th>duration</th>\n",
              "      <th>genres</th>\n",
              "      <th>description</th>\n",
              "    </tr>\n",
              "  </thead>\n",
              "  <tbody>\n",
              "    <tr>\n",
              "      <th>1</th>\n",
              "      <td>s2</td>\n",
              "      <td>Movie</td>\n",
              "      <td>7:19</td>\n",
              "      <td>Jorge Michel Grau</td>\n",
              "      <td>Demián Bichir, Héctor Bonilla, Oscar Serrano, ...</td>\n",
              "      <td>Mexico</td>\n",
              "      <td>December 23, 2016</td>\n",
              "      <td>2016</td>\n",
              "      <td>TV-MA</td>\n",
              "      <td>93 min</td>\n",
              "      <td>Dramas, International Movies</td>\n",
              "      <td>After a devastating earthquake hits Mexico Cit...</td>\n",
              "    </tr>\n",
              "    <tr>\n",
              "      <th>2</th>\n",
              "      <td>s3</td>\n",
              "      <td>Movie</td>\n",
              "      <td>23:59</td>\n",
              "      <td>Gilbert Chan</td>\n",
              "      <td>Tedd Chan, Stella Chung, Henley Hii, Lawrence ...</td>\n",
              "      <td>Singapore</td>\n",
              "      <td>December 20, 2018</td>\n",
              "      <td>2011</td>\n",
              "      <td>R</td>\n",
              "      <td>78 min</td>\n",
              "      <td>Horror Movies, International Movies</td>\n",
              "      <td>When an army recruit is found dead, his fellow...</td>\n",
              "    </tr>\n",
              "    <tr>\n",
              "      <th>3</th>\n",
              "      <td>s4</td>\n",
              "      <td>Movie</td>\n",
              "      <td>9</td>\n",
              "      <td>Shane Acker</td>\n",
              "      <td>Elijah Wood, John C. Reilly, Jennifer Connelly...</td>\n",
              "      <td>United States</td>\n",
              "      <td>November 16, 2017</td>\n",
              "      <td>2009</td>\n",
              "      <td>PG-13</td>\n",
              "      <td>80 min</td>\n",
              "      <td>Action &amp; Adventure, Independent Movies, Sci-Fi...</td>\n",
              "      <td>In a postapocalyptic world, rag-doll robots hi...</td>\n",
              "    </tr>\n",
              "    <tr>\n",
              "      <th>4</th>\n",
              "      <td>s5</td>\n",
              "      <td>Movie</td>\n",
              "      <td>21</td>\n",
              "      <td>Robert Luketic</td>\n",
              "      <td>Jim Sturgess, Kevin Spacey, Kate Bosworth, Aar...</td>\n",
              "      <td>United States</td>\n",
              "      <td>January 1, 2020</td>\n",
              "      <td>2008</td>\n",
              "      <td>PG-13</td>\n",
              "      <td>123 min</td>\n",
              "      <td>Dramas</td>\n",
              "      <td>A brilliant group of students become card-coun...</td>\n",
              "    </tr>\n",
              "    <tr>\n",
              "      <th>6</th>\n",
              "      <td>s7</td>\n",
              "      <td>Movie</td>\n",
              "      <td>122</td>\n",
              "      <td>Yasir Al Yasiri</td>\n",
              "      <td>Amina Khalil, Ahmed Dawood, Tarek Lotfy, Ahmed...</td>\n",
              "      <td>Egypt</td>\n",
              "      <td>June 1, 2020</td>\n",
              "      <td>2019</td>\n",
              "      <td>TV-MA</td>\n",
              "      <td>95 min</td>\n",
              "      <td>Horror Movies, International Movies</td>\n",
              "      <td>After an awful accident, a couple admitted to ...</td>\n",
              "    </tr>\n",
              "  </tbody>\n",
              "</table>\n",
              "</div>\n",
              "      <button class=\"colab-df-convert\" onclick=\"convertToInteractive('df-38b22946-fc6f-4346-9e46-c4ff36264f41')\"\n",
              "              title=\"Convert this dataframe to an interactive table.\"\n",
              "              style=\"display:none;\">\n",
              "        \n",
              "  <svg xmlns=\"http://www.w3.org/2000/svg\" height=\"24px\"viewBox=\"0 0 24 24\"\n",
              "       width=\"24px\">\n",
              "    <path d=\"M0 0h24v24H0V0z\" fill=\"none\"/>\n",
              "    <path d=\"M18.56 5.44l.94 2.06.94-2.06 2.06-.94-2.06-.94-.94-2.06-.94 2.06-2.06.94zm-11 1L8.5 8.5l.94-2.06 2.06-.94-2.06-.94L8.5 2.5l-.94 2.06-2.06.94zm10 10l.94 2.06.94-2.06 2.06-.94-2.06-.94-.94-2.06-.94 2.06-2.06.94z\"/><path d=\"M17.41 7.96l-1.37-1.37c-.4-.4-.92-.59-1.43-.59-.52 0-1.04.2-1.43.59L10.3 9.45l-7.72 7.72c-.78.78-.78 2.05 0 2.83L4 21.41c.39.39.9.59 1.41.59.51 0 1.02-.2 1.41-.59l7.78-7.78 2.81-2.81c.8-.78.8-2.07 0-2.86zM5.41 20L4 18.59l7.72-7.72 1.47 1.35L5.41 20z\"/>\n",
              "  </svg>\n",
              "      </button>\n",
              "      \n",
              "  <style>\n",
              "    .colab-df-container {\n",
              "      display:flex;\n",
              "      flex-wrap:wrap;\n",
              "      gap: 12px;\n",
              "    }\n",
              "\n",
              "    .colab-df-convert {\n",
              "      background-color: #E8F0FE;\n",
              "      border: none;\n",
              "      border-radius: 50%;\n",
              "      cursor: pointer;\n",
              "      display: none;\n",
              "      fill: #1967D2;\n",
              "      height: 32px;\n",
              "      padding: 0 0 0 0;\n",
              "      width: 32px;\n",
              "    }\n",
              "\n",
              "    .colab-df-convert:hover {\n",
              "      background-color: #E2EBFA;\n",
              "      box-shadow: 0px 1px 2px rgba(60, 64, 67, 0.3), 0px 1px 3px 1px rgba(60, 64, 67, 0.15);\n",
              "      fill: #174EA6;\n",
              "    }\n",
              "\n",
              "    [theme=dark] .colab-df-convert {\n",
              "      background-color: #3B4455;\n",
              "      fill: #D2E3FC;\n",
              "    }\n",
              "\n",
              "    [theme=dark] .colab-df-convert:hover {\n",
              "      background-color: #434B5C;\n",
              "      box-shadow: 0px 1px 3px 1px rgba(0, 0, 0, 0.15);\n",
              "      filter: drop-shadow(0px 1px 2px rgba(0, 0, 0, 0.3));\n",
              "      fill: #FFFFFF;\n",
              "    }\n",
              "  </style>\n",
              "\n",
              "      <script>\n",
              "        const buttonEl =\n",
              "          document.querySelector('#df-38b22946-fc6f-4346-9e46-c4ff36264f41 button.colab-df-convert');\n",
              "        buttonEl.style.display =\n",
              "          google.colab.kernel.accessAllowed ? 'block' : 'none';\n",
              "\n",
              "        async function convertToInteractive(key) {\n",
              "          const element = document.querySelector('#df-38b22946-fc6f-4346-9e46-c4ff36264f41');\n",
              "          const dataTable =\n",
              "            await google.colab.kernel.invokeFunction('convertToInteractive',\n",
              "                                                     [key], {});\n",
              "          if (!dataTable) return;\n",
              "\n",
              "          const docLinkHtml = 'Like what you see? Visit the ' +\n",
              "            '<a target=\"_blank\" href=https://colab.research.google.com/notebooks/data_table.ipynb>data table notebook</a>'\n",
              "            + ' to learn more about interactive tables.';\n",
              "          element.innerHTML = '';\n",
              "          dataTable['output_type'] = 'display_data';\n",
              "          await google.colab.output.renderOutput(dataTable, element);\n",
              "          const docLink = document.createElement('div');\n",
              "          docLink.innerHTML = docLinkHtml;\n",
              "          element.appendChild(docLink);\n",
              "        }\n",
              "      </script>\n",
              "    </div>\n",
              "  </div>\n",
              "  "
            ],
            "text/plain": [
              "  show_id  ...                                        description\n",
              "1      s2  ...  After a devastating earthquake hits Mexico Cit...\n",
              "2      s3  ...  When an army recruit is found dead, his fellow...\n",
              "3      s4  ...  In a postapocalyptic world, rag-doll robots hi...\n",
              "4      s5  ...  A brilliant group of students become card-coun...\n",
              "6      s7  ...  After an awful accident, a couple admitted to ...\n",
              "\n",
              "[5 rows x 12 columns]"
            ]
          },
          "metadata": {},
          "execution_count": 171
        }
      ]
    },
    {
      "cell_type": "code",
      "source": [
        "nf_shows = nf[nf['type']=='TV Show'].copy()\n",
        "nf_shows.head()"
      ],
      "metadata": {
        "colab": {
          "base_uri": "https://localhost:8080/",
          "height": 337
        },
        "outputId": "ea623018-de0f-49c8-dc07-5c30aaf7a8e1",
        "id": "_8oZByFcNV0D"
      },
      "execution_count": 172,
      "outputs": [
        {
          "output_type": "execute_result",
          "data": {
            "text/html": [
              "\n",
              "  <div id=\"df-30d42128-7de3-4dc5-8a56-bd8058c6bd0b\">\n",
              "    <div class=\"colab-df-container\">\n",
              "      <div>\n",
              "<style scoped>\n",
              "    .dataframe tbody tr th:only-of-type {\n",
              "        vertical-align: middle;\n",
              "    }\n",
              "\n",
              "    .dataframe tbody tr th {\n",
              "        vertical-align: top;\n",
              "    }\n",
              "\n",
              "    .dataframe thead th {\n",
              "        text-align: right;\n",
              "    }\n",
              "</style>\n",
              "<table border=\"1\" class=\"dataframe\">\n",
              "  <thead>\n",
              "    <tr style=\"text-align: right;\">\n",
              "      <th></th>\n",
              "      <th>show_id</th>\n",
              "      <th>type</th>\n",
              "      <th>title</th>\n",
              "      <th>director</th>\n",
              "      <th>cast</th>\n",
              "      <th>country</th>\n",
              "      <th>date_added</th>\n",
              "      <th>release_year</th>\n",
              "      <th>rating</th>\n",
              "      <th>duration</th>\n",
              "      <th>genres</th>\n",
              "      <th>description</th>\n",
              "    </tr>\n",
              "  </thead>\n",
              "  <tbody>\n",
              "    <tr>\n",
              "      <th>0</th>\n",
              "      <td>s1</td>\n",
              "      <td>TV Show</td>\n",
              "      <td>3%</td>\n",
              "      <td>No Director</td>\n",
              "      <td>João Miguel, Bianca Comparato, Michel Gomes, R...</td>\n",
              "      <td>Brazil</td>\n",
              "      <td>August 14, 2020</td>\n",
              "      <td>2020</td>\n",
              "      <td>TV-MA</td>\n",
              "      <td>4 Seasons</td>\n",
              "      <td>International TV Shows, TV Dramas, TV Sci-Fi &amp;...</td>\n",
              "      <td>In a future where the elite inhabit an island ...</td>\n",
              "    </tr>\n",
              "    <tr>\n",
              "      <th>5</th>\n",
              "      <td>s6</td>\n",
              "      <td>TV Show</td>\n",
              "      <td>46</td>\n",
              "      <td>Serdar Akar</td>\n",
              "      <td>Erdal Beşikçioğlu, Yasemin Allen, Melis Birkan...</td>\n",
              "      <td>Turkey</td>\n",
              "      <td>July 1, 2017</td>\n",
              "      <td>2016</td>\n",
              "      <td>TV-MA</td>\n",
              "      <td>1 Season</td>\n",
              "      <td>International TV Shows, TV Dramas, TV Mysteries</td>\n",
              "      <td>A genetics professor experiments with a treatm...</td>\n",
              "    </tr>\n",
              "    <tr>\n",
              "      <th>11</th>\n",
              "      <td>s12</td>\n",
              "      <td>TV Show</td>\n",
              "      <td>1983</td>\n",
              "      <td>No Director</td>\n",
              "      <td>Robert Więckiewicz, Maciej Musiał, Michalina O...</td>\n",
              "      <td>Poland, United States</td>\n",
              "      <td>November 30, 2018</td>\n",
              "      <td>2018</td>\n",
              "      <td>TV-MA</td>\n",
              "      <td>1 Season</td>\n",
              "      <td>Crime TV Shows, International TV Shows, TV Dramas</td>\n",
              "      <td>In this dark alt-history thriller, a naïve law...</td>\n",
              "    </tr>\n",
              "    <tr>\n",
              "      <th>12</th>\n",
              "      <td>s13</td>\n",
              "      <td>TV Show</td>\n",
              "      <td>1994</td>\n",
              "      <td>Diego Enrique Osorno</td>\n",
              "      <td>No Cast</td>\n",
              "      <td>Mexico</td>\n",
              "      <td>May 17, 2019</td>\n",
              "      <td>2019</td>\n",
              "      <td>TV-MA</td>\n",
              "      <td>1 Season</td>\n",
              "      <td>Crime TV Shows, Docuseries, International TV S...</td>\n",
              "      <td>Archival video and new interviews examine Mexi...</td>\n",
              "    </tr>\n",
              "    <tr>\n",
              "      <th>16</th>\n",
              "      <td>s17</td>\n",
              "      <td>TV Show</td>\n",
              "      <td>Feb-09</td>\n",
              "      <td>No Director</td>\n",
              "      <td>Shahd El Yaseen, Shaila Sabt, Hala, Hanadi Al-...</td>\n",
              "      <td>Country Unavailable</td>\n",
              "      <td>March 20, 2019</td>\n",
              "      <td>2018</td>\n",
              "      <td>TV-14</td>\n",
              "      <td>1 Season</td>\n",
              "      <td>International TV Shows, TV Dramas</td>\n",
              "      <td>As a psychology professor faces Alzheimer's, h...</td>\n",
              "    </tr>\n",
              "  </tbody>\n",
              "</table>\n",
              "</div>\n",
              "      <button class=\"colab-df-convert\" onclick=\"convertToInteractive('df-30d42128-7de3-4dc5-8a56-bd8058c6bd0b')\"\n",
              "              title=\"Convert this dataframe to an interactive table.\"\n",
              "              style=\"display:none;\">\n",
              "        \n",
              "  <svg xmlns=\"http://www.w3.org/2000/svg\" height=\"24px\"viewBox=\"0 0 24 24\"\n",
              "       width=\"24px\">\n",
              "    <path d=\"M0 0h24v24H0V0z\" fill=\"none\"/>\n",
              "    <path d=\"M18.56 5.44l.94 2.06.94-2.06 2.06-.94-2.06-.94-.94-2.06-.94 2.06-2.06.94zm-11 1L8.5 8.5l.94-2.06 2.06-.94-2.06-.94L8.5 2.5l-.94 2.06-2.06.94zm10 10l.94 2.06.94-2.06 2.06-.94-2.06-.94-.94-2.06-.94 2.06-2.06.94z\"/><path d=\"M17.41 7.96l-1.37-1.37c-.4-.4-.92-.59-1.43-.59-.52 0-1.04.2-1.43.59L10.3 9.45l-7.72 7.72c-.78.78-.78 2.05 0 2.83L4 21.41c.39.39.9.59 1.41.59.51 0 1.02-.2 1.41-.59l7.78-7.78 2.81-2.81c.8-.78.8-2.07 0-2.86zM5.41 20L4 18.59l7.72-7.72 1.47 1.35L5.41 20z\"/>\n",
              "  </svg>\n",
              "      </button>\n",
              "      \n",
              "  <style>\n",
              "    .colab-df-container {\n",
              "      display:flex;\n",
              "      flex-wrap:wrap;\n",
              "      gap: 12px;\n",
              "    }\n",
              "\n",
              "    .colab-df-convert {\n",
              "      background-color: #E8F0FE;\n",
              "      border: none;\n",
              "      border-radius: 50%;\n",
              "      cursor: pointer;\n",
              "      display: none;\n",
              "      fill: #1967D2;\n",
              "      height: 32px;\n",
              "      padding: 0 0 0 0;\n",
              "      width: 32px;\n",
              "    }\n",
              "\n",
              "    .colab-df-convert:hover {\n",
              "      background-color: #E2EBFA;\n",
              "      box-shadow: 0px 1px 2px rgba(60, 64, 67, 0.3), 0px 1px 3px 1px rgba(60, 64, 67, 0.15);\n",
              "      fill: #174EA6;\n",
              "    }\n",
              "\n",
              "    [theme=dark] .colab-df-convert {\n",
              "      background-color: #3B4455;\n",
              "      fill: #D2E3FC;\n",
              "    }\n",
              "\n",
              "    [theme=dark] .colab-df-convert:hover {\n",
              "      background-color: #434B5C;\n",
              "      box-shadow: 0px 1px 3px 1px rgba(0, 0, 0, 0.15);\n",
              "      filter: drop-shadow(0px 1px 2px rgba(0, 0, 0, 0.3));\n",
              "      fill: #FFFFFF;\n",
              "    }\n",
              "  </style>\n",
              "\n",
              "      <script>\n",
              "        const buttonEl =\n",
              "          document.querySelector('#df-30d42128-7de3-4dc5-8a56-bd8058c6bd0b button.colab-df-convert');\n",
              "        buttonEl.style.display =\n",
              "          google.colab.kernel.accessAllowed ? 'block' : 'none';\n",
              "\n",
              "        async function convertToInteractive(key) {\n",
              "          const element = document.querySelector('#df-30d42128-7de3-4dc5-8a56-bd8058c6bd0b');\n",
              "          const dataTable =\n",
              "            await google.colab.kernel.invokeFunction('convertToInteractive',\n",
              "                                                     [key], {});\n",
              "          if (!dataTable) return;\n",
              "\n",
              "          const docLinkHtml = 'Like what you see? Visit the ' +\n",
              "            '<a target=\"_blank\" href=https://colab.research.google.com/notebooks/data_table.ipynb>data table notebook</a>'\n",
              "            + ' to learn more about interactive tables.';\n",
              "          element.innerHTML = '';\n",
              "          dataTable['output_type'] = 'display_data';\n",
              "          await google.colab.output.renderOutput(dataTable, element);\n",
              "          const docLink = document.createElement('div');\n",
              "          docLink.innerHTML = docLinkHtml;\n",
              "          element.appendChild(docLink);\n",
              "        }\n",
              "      </script>\n",
              "    </div>\n",
              "  </div>\n",
              "  "
            ],
            "text/plain": [
              "   show_id  ...                                        description\n",
              "0       s1  ...  In a future where the elite inhabit an island ...\n",
              "5       s6  ...  A genetics professor experiments with a treatm...\n",
              "11     s12  ...  In this dark alt-history thriller, a naïve law...\n",
              "12     s13  ...  Archival video and new interviews examine Mexi...\n",
              "16     s17  ...  As a psychology professor faces Alzheimer's, h...\n",
              "\n",
              "[5 rows x 12 columns]"
            ]
          },
          "metadata": {},
          "execution_count": 172
        }
      ]
    },
    {
      "cell_type": "markdown",
      "source": [
        "Date Added: First, the date is in the following format: 25 September, 2021. This is a text (string) which is not actionable. We need to take the text and turn it into a date format. The second thing we want to do is to seperate the year and place it in a different column which we will call \"added_year\". This will help me in next steps\n",
        "\n",
        "Rating: It appears like there is nothing wrong with 'rating'. But, to the outside reader - ratings like 'TV-MA' or 'PG-13' means nothing. We just know that the rating means \"for specific audiance\". So, we want to conduct a research to understand all the ratings, and then change the text into a more readable, appropriate text\n",
        "\n",
        "Listed In: simply put, 'genre'. However, we do notice something odd. Values like \"International TV Show\" or \"International Movie\" are not genres. These are types of content. So, let's split all the \"International\" to a different column, and remove them from \"listed_in"
      ],
      "metadata": {
        "id": "Z_hY1ODGBtjv"
      }
    },
    {
      "cell_type": "code",
      "source": [
        "#adding columns of month and year of addition\n",
        "nf['year_added'] = pd.DatetimeIndex(nf['date_added']).year\n",
        "nf['month_added'] = pd.DatetimeIndex(nf['date_added']).month_name()\n",
        "nf.head()"
      ],
      "metadata": {
        "id": "3HVzDeXns0AV",
        "outputId": "4b5d3176-7614-493d-d920-37701de40948",
        "colab": {
          "base_uri": "https://localhost:8080/",
          "height": 406
        }
      },
      "execution_count": 173,
      "outputs": [
        {
          "output_type": "execute_result",
          "data": {
            "text/html": [
              "\n",
              "  <div id=\"df-ea904882-33c3-4033-a7d0-6cd191f931ff\">\n",
              "    <div class=\"colab-df-container\">\n",
              "      <div>\n",
              "<style scoped>\n",
              "    .dataframe tbody tr th:only-of-type {\n",
              "        vertical-align: middle;\n",
              "    }\n",
              "\n",
              "    .dataframe tbody tr th {\n",
              "        vertical-align: top;\n",
              "    }\n",
              "\n",
              "    .dataframe thead th {\n",
              "        text-align: right;\n",
              "    }\n",
              "</style>\n",
              "<table border=\"1\" class=\"dataframe\">\n",
              "  <thead>\n",
              "    <tr style=\"text-align: right;\">\n",
              "      <th></th>\n",
              "      <th>show_id</th>\n",
              "      <th>type</th>\n",
              "      <th>title</th>\n",
              "      <th>director</th>\n",
              "      <th>cast</th>\n",
              "      <th>country</th>\n",
              "      <th>date_added</th>\n",
              "      <th>release_year</th>\n",
              "      <th>rating</th>\n",
              "      <th>duration</th>\n",
              "      <th>genres</th>\n",
              "      <th>description</th>\n",
              "      <th>year_added</th>\n",
              "      <th>month_added</th>\n",
              "    </tr>\n",
              "  </thead>\n",
              "  <tbody>\n",
              "    <tr>\n",
              "      <th>0</th>\n",
              "      <td>s1</td>\n",
              "      <td>TV Show</td>\n",
              "      <td>3%</td>\n",
              "      <td>No Director</td>\n",
              "      <td>João Miguel, Bianca Comparato, Michel Gomes, R...</td>\n",
              "      <td>Brazil</td>\n",
              "      <td>August 14, 2020</td>\n",
              "      <td>2020</td>\n",
              "      <td>TV-MA</td>\n",
              "      <td>4 Seasons</td>\n",
              "      <td>International TV Shows, TV Dramas, TV Sci-Fi &amp;...</td>\n",
              "      <td>In a future where the elite inhabit an island ...</td>\n",
              "      <td>2020</td>\n",
              "      <td>August</td>\n",
              "    </tr>\n",
              "    <tr>\n",
              "      <th>1</th>\n",
              "      <td>s2</td>\n",
              "      <td>Movie</td>\n",
              "      <td>7:19</td>\n",
              "      <td>Jorge Michel Grau</td>\n",
              "      <td>Demián Bichir, Héctor Bonilla, Oscar Serrano, ...</td>\n",
              "      <td>Mexico</td>\n",
              "      <td>December 23, 2016</td>\n",
              "      <td>2016</td>\n",
              "      <td>TV-MA</td>\n",
              "      <td>93 min</td>\n",
              "      <td>Dramas, International Movies</td>\n",
              "      <td>After a devastating earthquake hits Mexico Cit...</td>\n",
              "      <td>2016</td>\n",
              "      <td>December</td>\n",
              "    </tr>\n",
              "    <tr>\n",
              "      <th>2</th>\n",
              "      <td>s3</td>\n",
              "      <td>Movie</td>\n",
              "      <td>23:59</td>\n",
              "      <td>Gilbert Chan</td>\n",
              "      <td>Tedd Chan, Stella Chung, Henley Hii, Lawrence ...</td>\n",
              "      <td>Singapore</td>\n",
              "      <td>December 20, 2018</td>\n",
              "      <td>2011</td>\n",
              "      <td>R</td>\n",
              "      <td>78 min</td>\n",
              "      <td>Horror Movies, International Movies</td>\n",
              "      <td>When an army recruit is found dead, his fellow...</td>\n",
              "      <td>2018</td>\n",
              "      <td>December</td>\n",
              "    </tr>\n",
              "    <tr>\n",
              "      <th>3</th>\n",
              "      <td>s4</td>\n",
              "      <td>Movie</td>\n",
              "      <td>9</td>\n",
              "      <td>Shane Acker</td>\n",
              "      <td>Elijah Wood, John C. Reilly, Jennifer Connelly...</td>\n",
              "      <td>United States</td>\n",
              "      <td>November 16, 2017</td>\n",
              "      <td>2009</td>\n",
              "      <td>PG-13</td>\n",
              "      <td>80 min</td>\n",
              "      <td>Action &amp; Adventure, Independent Movies, Sci-Fi...</td>\n",
              "      <td>In a postapocalyptic world, rag-doll robots hi...</td>\n",
              "      <td>2017</td>\n",
              "      <td>November</td>\n",
              "    </tr>\n",
              "    <tr>\n",
              "      <th>4</th>\n",
              "      <td>s5</td>\n",
              "      <td>Movie</td>\n",
              "      <td>21</td>\n",
              "      <td>Robert Luketic</td>\n",
              "      <td>Jim Sturgess, Kevin Spacey, Kate Bosworth, Aar...</td>\n",
              "      <td>United States</td>\n",
              "      <td>January 1, 2020</td>\n",
              "      <td>2008</td>\n",
              "      <td>PG-13</td>\n",
              "      <td>123 min</td>\n",
              "      <td>Dramas</td>\n",
              "      <td>A brilliant group of students become card-coun...</td>\n",
              "      <td>2020</td>\n",
              "      <td>January</td>\n",
              "    </tr>\n",
              "  </tbody>\n",
              "</table>\n",
              "</div>\n",
              "      <button class=\"colab-df-convert\" onclick=\"convertToInteractive('df-ea904882-33c3-4033-a7d0-6cd191f931ff')\"\n",
              "              title=\"Convert this dataframe to an interactive table.\"\n",
              "              style=\"display:none;\">\n",
              "        \n",
              "  <svg xmlns=\"http://www.w3.org/2000/svg\" height=\"24px\"viewBox=\"0 0 24 24\"\n",
              "       width=\"24px\">\n",
              "    <path d=\"M0 0h24v24H0V0z\" fill=\"none\"/>\n",
              "    <path d=\"M18.56 5.44l.94 2.06.94-2.06 2.06-.94-2.06-.94-.94-2.06-.94 2.06-2.06.94zm-11 1L8.5 8.5l.94-2.06 2.06-.94-2.06-.94L8.5 2.5l-.94 2.06-2.06.94zm10 10l.94 2.06.94-2.06 2.06-.94-2.06-.94-.94-2.06-.94 2.06-2.06.94z\"/><path d=\"M17.41 7.96l-1.37-1.37c-.4-.4-.92-.59-1.43-.59-.52 0-1.04.2-1.43.59L10.3 9.45l-7.72 7.72c-.78.78-.78 2.05 0 2.83L4 21.41c.39.39.9.59 1.41.59.51 0 1.02-.2 1.41-.59l7.78-7.78 2.81-2.81c.8-.78.8-2.07 0-2.86zM5.41 20L4 18.59l7.72-7.72 1.47 1.35L5.41 20z\"/>\n",
              "  </svg>\n",
              "      </button>\n",
              "      \n",
              "  <style>\n",
              "    .colab-df-container {\n",
              "      display:flex;\n",
              "      flex-wrap:wrap;\n",
              "      gap: 12px;\n",
              "    }\n",
              "\n",
              "    .colab-df-convert {\n",
              "      background-color: #E8F0FE;\n",
              "      border: none;\n",
              "      border-radius: 50%;\n",
              "      cursor: pointer;\n",
              "      display: none;\n",
              "      fill: #1967D2;\n",
              "      height: 32px;\n",
              "      padding: 0 0 0 0;\n",
              "      width: 32px;\n",
              "    }\n",
              "\n",
              "    .colab-df-convert:hover {\n",
              "      background-color: #E2EBFA;\n",
              "      box-shadow: 0px 1px 2px rgba(60, 64, 67, 0.3), 0px 1px 3px 1px rgba(60, 64, 67, 0.15);\n",
              "      fill: #174EA6;\n",
              "    }\n",
              "\n",
              "    [theme=dark] .colab-df-convert {\n",
              "      background-color: #3B4455;\n",
              "      fill: #D2E3FC;\n",
              "    }\n",
              "\n",
              "    [theme=dark] .colab-df-convert:hover {\n",
              "      background-color: #434B5C;\n",
              "      box-shadow: 0px 1px 3px 1px rgba(0, 0, 0, 0.15);\n",
              "      filter: drop-shadow(0px 1px 2px rgba(0, 0, 0, 0.3));\n",
              "      fill: #FFFFFF;\n",
              "    }\n",
              "  </style>\n",
              "\n",
              "      <script>\n",
              "        const buttonEl =\n",
              "          document.querySelector('#df-ea904882-33c3-4033-a7d0-6cd191f931ff button.colab-df-convert');\n",
              "        buttonEl.style.display =\n",
              "          google.colab.kernel.accessAllowed ? 'block' : 'none';\n",
              "\n",
              "        async function convertToInteractive(key) {\n",
              "          const element = document.querySelector('#df-ea904882-33c3-4033-a7d0-6cd191f931ff');\n",
              "          const dataTable =\n",
              "            await google.colab.kernel.invokeFunction('convertToInteractive',\n",
              "                                                     [key], {});\n",
              "          if (!dataTable) return;\n",
              "\n",
              "          const docLinkHtml = 'Like what you see? Visit the ' +\n",
              "            '<a target=\"_blank\" href=https://colab.research.google.com/notebooks/data_table.ipynb>data table notebook</a>'\n",
              "            + ' to learn more about interactive tables.';\n",
              "          element.innerHTML = '';\n",
              "          dataTable['output_type'] = 'display_data';\n",
              "          await google.colab.output.renderOutput(dataTable, element);\n",
              "          const docLink = document.createElement('div');\n",
              "          docLink.innerHTML = docLinkHtml;\n",
              "          element.appendChild(docLink);\n",
              "        }\n",
              "      </script>\n",
              "    </div>\n",
              "  </div>\n",
              "  "
            ],
            "text/plain": [
              "  show_id     type  ... year_added month_added\n",
              "0      s1  TV Show  ...       2020      August\n",
              "1      s2    Movie  ...       2016    December\n",
              "2      s3    Movie  ...       2018    December\n",
              "3      s4    Movie  ...       2017    November\n",
              "4      s5    Movie  ...       2020     January\n",
              "\n",
              "[5 rows x 14 columns]"
            ]
          },
          "metadata": {},
          "execution_count": 173
        }
      ]
    },
    {
      "cell_type": "markdown",
      "source": [
        "Processing the 'rating' column'. Here we have 2 phases, because not only we need to interpert what every rating means, we also need to change it to a more understandable text. Our course of action will be:\n",
        "\n",
        "1. Listing all the unique ratings for movies and TV shows apart\n",
        "2.Check for similarities / differences between TV and movie ratings\n",
        "3. Interpert what every rating means\n",
        "4. Decide on new rating categories and change accordingly"
      ],
      "metadata": {
        "id": "jZzA2giiE_cn"
      }
    },
    {
      "cell_type": "code",
      "source": [
        "print('TV Shows Ratings:',nf[nf['type'] == 'TV Show']['rating'].unique(),'\\n')\n",
        "print('Movies Ratings:',nf[nf['type'] == 'Movie']['rating'].unique())"
      ],
      "metadata": {
        "colab": {
          "base_uri": "https://localhost:8080/"
        },
        "id": "rz-biIZvEpoK",
        "outputId": "17c7aaa5-137d-4c1c-c804-4ea79a21b7e4"
      },
      "execution_count": 174,
      "outputs": [
        {
          "output_type": "stream",
          "name": "stdout",
          "text": [
            "TV Shows Ratings: ['TV-MA' 'TV-14' 'TV-PG' 'TV-Y7' 'TV-G' 'TV-Y' 'NR' 'R' 'TV-Y7-FV'] \n",
            "\n",
            "Movies Ratings: ['TV-MA' 'R' 'PG-13' 'TV-14' 'TV-PG' 'NR' 'TV-G' 'TV-Y' 'PG' 'G' 'TV-Y7'\n",
            " 'NC-17' 'TV-Y7-FV' 'UR']\n"
          ]
        }
      ]
    },
    {
      "cell_type": "markdown",
      "source": [
        "We see here that although all TV shows have a rating that starts with 'TV-' that makes them unique, some of the movie titles also have a rating that starts with 'TV-'. So its a mix.\n",
        "\n",
        "After research, we decided to categorize the different ratings based on CONTENT (and not AGE). From our understanding, there are 6 content categories in which we want to divide the ratings by:\n",
        "\n",
        "*   Kids\n",
        "*   All Ages\n",
        "*   Teens\n",
        "*   Brief Violence/Nude\n",
        "*   Adult Content\n",
        "*   Unrated"
      ],
      "metadata": {
        "id": "f7yZ761aFrHd"
      }
    },
    {
      "cell_type": "code",
      "source": [
        "nf['rating'] = nf['rating'].replace({'TV-PG':'Brief Violence/Nude',\n",
        "                                               'PG': 'Brief Violence/Nude', \n",
        "                                               'TV-G':'All Ages', \n",
        "                                               'G':'All Ages', \n",
        "                                               'TV-14':'Teens', \n",
        "                                               'PG-13':'Teens', \n",
        "                                               'TV-MA':'Adult Content',\n",
        "                                               'R':'Adult Content',\n",
        "                                               'NC-17':'Adult Content',\n",
        "                                               'TV-Y':'Kids',\n",
        "                                               'TV-Y7':'Kids',\n",
        "                                               'TV-Y7-FV':'Kids',\n",
        "                                               'NR':'Unrated',\n",
        "                                               'UR':'Unrated'})"
      ],
      "metadata": {
        "id": "htf7aGc1Go9z"
      },
      "execution_count": 175,
      "outputs": []
    },
    {
      "cell_type": "markdown",
      "source": [
        "Now, let's deal with \"International\" types:"
      ],
      "metadata": {
        "id": "mVJX2jLTHJPC"
      }
    },
    {
      "cell_type": "code",
      "source": [
        "nf['international'] = nf['genres'].apply(lambda x: \"International\" in x) \n",
        "\n",
        "nf['genres'] = nf['genres'].apply(lambda x: x.split(\", \")) \n",
        "\n",
        "nf[(nf['type'] == 'TV Show') & (nf['international'] == True)]['genres'].apply(lambda x: x.remove(\"International TV Shows\"))\n",
        "\n",
        "nf[(nf['type'] == 'Movie') & (nf['international'] == True)]['genres'].apply(lambda x: x.remove(\"International Movies\"))\n",
        "\n",
        "nf['genres'] = nf['genres'].apply(lambda x: \", \".join(x)) "
      ],
      "metadata": {
        "id": "ZWk9NVYZKUBh"
      },
      "execution_count": 176,
      "outputs": []
    },
    {
      "cell_type": "markdown",
      "source": [
        "Next and final issue is to make sure to replace all NaN values with \"Not Available\" as we initially wanted"
      ],
      "metadata": {
        "id": "S221xx6DMacB"
      }
    },
    {
      "cell_type": "code",
      "source": [
        "nf = nf.fillna(\"Not Available\")"
      ],
      "metadata": {
        "id": "wzHcnr0AMlR3"
      },
      "execution_count": 177,
      "outputs": []
    },
    {
      "cell_type": "markdown",
      "source": [
        "# **Handling Comma-Delimited Values**\n",
        "\n",
        "First the is the need to make sure all comma-delimited values were placed in the correct order/form"
      ],
      "metadata": {
        "id": "1yXJQNacNiBp"
      }
    },
    {
      "cell_type": "code",
      "source": [
        "comma_columns = ['cast','director','country','genres']\n",
        "\n",
        "for column in comma_columns:\n",
        "    if len(nf[nf[column].str.startswith(\",\")]) > 0:\n",
        "        print(\"In column:\",column,\"there are bad entries that BEGIN with a comma\")\n",
        "    if len(nf[nf[column].str.endswith(\",\")]) > 0:\n",
        "        print(\"In column:\",column,\"there are bad entries that END with a comma\")\n",
        "    if len(nf[nf[column] == '']) > 0:\n",
        "        print(\"In column:\",column,\"there are bad entries that CONTAIN empty values ''\")"
      ],
      "metadata": {
        "colab": {
          "base_uri": "https://localhost:8080/"
        },
        "id": "-AzfX9IgNt_W",
        "outputId": "7aaf9300-21a2-4a38-f7ae-285d1530e51b"
      },
      "execution_count": 178,
      "outputs": [
        {
          "output_type": "stream",
          "name": "stdout",
          "text": [
            "In column: country there are bad entries that END with a comma\n",
            "In column: genres there are bad entries that CONTAIN empty values ''\n"
          ]
        }
      ]
    },
    {
      "cell_type": "markdown",
      "source": [
        "So there are bad entries that needs to be fixed. Let's fix it:"
      ],
      "metadata": {
        "id": "V3HHjkbKSOhm"
      }
    },
    {
      "cell_type": "code",
      "source": [
        "nf[nf['country'].str.endswith(\",\")]"
      ],
      "metadata": {
        "colab": {
          "base_uri": "https://localhost:8080/",
          "height": 392
        },
        "id": "8XFbIXBwST_0",
        "outputId": "eaa0f926-a44c-43b2-cc72-f9fd66180636"
      },
      "execution_count": 179,
      "outputs": [
        {
          "output_type": "execute_result",
          "data": {
            "text/html": [
              "\n",
              "  <div id=\"df-91421567-36b4-4c66-9fa0-a34a6b222c79\">\n",
              "    <div class=\"colab-df-container\">\n",
              "      <div>\n",
              "<style scoped>\n",
              "    .dataframe tbody tr th:only-of-type {\n",
              "        vertical-align: middle;\n",
              "    }\n",
              "\n",
              "    .dataframe tbody tr th {\n",
              "        vertical-align: top;\n",
              "    }\n",
              "\n",
              "    .dataframe thead th {\n",
              "        text-align: right;\n",
              "    }\n",
              "</style>\n",
              "<table border=\"1\" class=\"dataframe\">\n",
              "  <thead>\n",
              "    <tr style=\"text-align: right;\">\n",
              "      <th></th>\n",
              "      <th>show_id</th>\n",
              "      <th>type</th>\n",
              "      <th>title</th>\n",
              "      <th>director</th>\n",
              "      <th>cast</th>\n",
              "      <th>country</th>\n",
              "      <th>date_added</th>\n",
              "      <th>release_year</th>\n",
              "      <th>rating</th>\n",
              "      <th>duration</th>\n",
              "      <th>genres</th>\n",
              "      <th>description</th>\n",
              "      <th>year_added</th>\n",
              "      <th>month_added</th>\n",
              "      <th>international</th>\n",
              "    </tr>\n",
              "  </thead>\n",
              "  <tbody>\n",
              "    <tr>\n",
              "      <th>1402</th>\n",
              "      <td>s1403</td>\n",
              "      <td>Movie</td>\n",
              "      <td>City of Joy</td>\n",
              "      <td>Madeleine Gavin</td>\n",
              "      <td>No Cast</td>\n",
              "      <td>United States,</td>\n",
              "      <td>September 7, 2018</td>\n",
              "      <td>2018</td>\n",
              "      <td>Adult Content</td>\n",
              "      <td>77 min</td>\n",
              "      <td>Documentaries</td>\n",
              "      <td>Women who've been sexually brutalized in war-t...</td>\n",
              "      <td>2018</td>\n",
              "      <td>September</td>\n",
              "      <td>False</td>\n",
              "    </tr>\n",
              "    <tr>\n",
              "      <th>2315</th>\n",
              "      <td>s2316</td>\n",
              "      <td>Movie</td>\n",
              "      <td>Funan</td>\n",
              "      <td>Denis Do</td>\n",
              "      <td>Bérénice Bejo, Louis Garrel, Colette Kieffer, ...</td>\n",
              "      <td>France, Belgium, Luxembourg, Cambodia,</td>\n",
              "      <td>July 18, 2020</td>\n",
              "      <td>2018</td>\n",
              "      <td>Teens</td>\n",
              "      <td>87 min</td>\n",
              "      <td>Dramas</td>\n",
              "      <td>Separated from their young son during the brut...</td>\n",
              "      <td>2020</td>\n",
              "      <td>July</td>\n",
              "      <td>True</td>\n",
              "    </tr>\n",
              "    <tr>\n",
              "      <th>2827</th>\n",
              "      <td>s2828</td>\n",
              "      <td>Movie</td>\n",
              "      <td>Hotel Pacific</td>\n",
              "      <td>Janusz Majewski</td>\n",
              "      <td>Marek Kondrat, Roman Wilhelmi, Roman Skamene, ...</td>\n",
              "      <td>Poland,</td>\n",
              "      <td>October 1, 2019</td>\n",
              "      <td>1975</td>\n",
              "      <td>Adult Content</td>\n",
              "      <td>96 min</td>\n",
              "      <td>Classic Movies, Dramas</td>\n",
              "      <td>A motivated teen strives to rise from dishwash...</td>\n",
              "      <td>2019</td>\n",
              "      <td>October</td>\n",
              "      <td>True</td>\n",
              "    </tr>\n",
              "    <tr>\n",
              "      <th>7433</th>\n",
              "      <td>s7434</td>\n",
              "      <td>Movie</td>\n",
              "      <td>Virunga</td>\n",
              "      <td>Orlando von Einsiedel</td>\n",
              "      <td>No Cast</td>\n",
              "      <td>United Kingdom,</td>\n",
              "      <td>November 7, 2014</td>\n",
              "      <td>2014</td>\n",
              "      <td>Adult Content</td>\n",
              "      <td>100 min</td>\n",
              "      <td>Documentaries</td>\n",
              "      <td>The Oscar-nominated true story of the rangers ...</td>\n",
              "      <td>2014</td>\n",
              "      <td>November</td>\n",
              "      <td>True</td>\n",
              "    </tr>\n",
              "  </tbody>\n",
              "</table>\n",
              "</div>\n",
              "      <button class=\"colab-df-convert\" onclick=\"convertToInteractive('df-91421567-36b4-4c66-9fa0-a34a6b222c79')\"\n",
              "              title=\"Convert this dataframe to an interactive table.\"\n",
              "              style=\"display:none;\">\n",
              "        \n",
              "  <svg xmlns=\"http://www.w3.org/2000/svg\" height=\"24px\"viewBox=\"0 0 24 24\"\n",
              "       width=\"24px\">\n",
              "    <path d=\"M0 0h24v24H0V0z\" fill=\"none\"/>\n",
              "    <path d=\"M18.56 5.44l.94 2.06.94-2.06 2.06-.94-2.06-.94-.94-2.06-.94 2.06-2.06.94zm-11 1L8.5 8.5l.94-2.06 2.06-.94-2.06-.94L8.5 2.5l-.94 2.06-2.06.94zm10 10l.94 2.06.94-2.06 2.06-.94-2.06-.94-.94-2.06-.94 2.06-2.06.94z\"/><path d=\"M17.41 7.96l-1.37-1.37c-.4-.4-.92-.59-1.43-.59-.52 0-1.04.2-1.43.59L10.3 9.45l-7.72 7.72c-.78.78-.78 2.05 0 2.83L4 21.41c.39.39.9.59 1.41.59.51 0 1.02-.2 1.41-.59l7.78-7.78 2.81-2.81c.8-.78.8-2.07 0-2.86zM5.41 20L4 18.59l7.72-7.72 1.47 1.35L5.41 20z\"/>\n",
              "  </svg>\n",
              "      </button>\n",
              "      \n",
              "  <style>\n",
              "    .colab-df-container {\n",
              "      display:flex;\n",
              "      flex-wrap:wrap;\n",
              "      gap: 12px;\n",
              "    }\n",
              "\n",
              "    .colab-df-convert {\n",
              "      background-color: #E8F0FE;\n",
              "      border: none;\n",
              "      border-radius: 50%;\n",
              "      cursor: pointer;\n",
              "      display: none;\n",
              "      fill: #1967D2;\n",
              "      height: 32px;\n",
              "      padding: 0 0 0 0;\n",
              "      width: 32px;\n",
              "    }\n",
              "\n",
              "    .colab-df-convert:hover {\n",
              "      background-color: #E2EBFA;\n",
              "      box-shadow: 0px 1px 2px rgba(60, 64, 67, 0.3), 0px 1px 3px 1px rgba(60, 64, 67, 0.15);\n",
              "      fill: #174EA6;\n",
              "    }\n",
              "\n",
              "    [theme=dark] .colab-df-convert {\n",
              "      background-color: #3B4455;\n",
              "      fill: #D2E3FC;\n",
              "    }\n",
              "\n",
              "    [theme=dark] .colab-df-convert:hover {\n",
              "      background-color: #434B5C;\n",
              "      box-shadow: 0px 1px 3px 1px rgba(0, 0, 0, 0.15);\n",
              "      filter: drop-shadow(0px 1px 2px rgba(0, 0, 0, 0.3));\n",
              "      fill: #FFFFFF;\n",
              "    }\n",
              "  </style>\n",
              "\n",
              "      <script>\n",
              "        const buttonEl =\n",
              "          document.querySelector('#df-91421567-36b4-4c66-9fa0-a34a6b222c79 button.colab-df-convert');\n",
              "        buttonEl.style.display =\n",
              "          google.colab.kernel.accessAllowed ? 'block' : 'none';\n",
              "\n",
              "        async function convertToInteractive(key) {\n",
              "          const element = document.querySelector('#df-91421567-36b4-4c66-9fa0-a34a6b222c79');\n",
              "          const dataTable =\n",
              "            await google.colab.kernel.invokeFunction('convertToInteractive',\n",
              "                                                     [key], {});\n",
              "          if (!dataTable) return;\n",
              "\n",
              "          const docLinkHtml = 'Like what you see? Visit the ' +\n",
              "            '<a target=\"_blank\" href=https://colab.research.google.com/notebooks/data_table.ipynb>data table notebook</a>'\n",
              "            + ' to learn more about interactive tables.';\n",
              "          element.innerHTML = '';\n",
              "          dataTable['output_type'] = 'display_data';\n",
              "          await google.colab.output.renderOutput(dataTable, element);\n",
              "          const docLink = document.createElement('div');\n",
              "          docLink.innerHTML = docLinkHtml;\n",
              "          element.appendChild(docLink);\n",
              "        }\n",
              "      </script>\n",
              "    </div>\n",
              "  </div>\n",
              "  "
            ],
            "text/plain": [
              "     show_id   type          title  ... year_added month_added international\n",
              "1402   s1403  Movie    City of Joy  ...       2018   September         False\n",
              "2315   s2316  Movie          Funan  ...       2020        July          True\n",
              "2827   s2828  Movie  Hotel Pacific  ...       2019     October          True\n",
              "7433   s7434  Movie        Virunga  ...       2014    November          True\n",
              "\n",
              "[4 rows x 15 columns]"
            ]
          },
          "metadata": {},
          "execution_count": 179
        }
      ]
    },
    {
      "cell_type": "code",
      "source": [
        "#correcting entries\n",
        "nf.loc[1402,'country'] = 'United States'\n",
        "nf.loc[2315,'country'] = 'France, Belgium, Luxembourg, Cambodia'\n",
        "nf.loc[2827,'country'] = 'Poland'\n",
        "nf.loc[7433,'country'] = 'United Kingdom'"
      ],
      "metadata": {
        "id": "BIXLbwezStg7"
      },
      "execution_count": 180,
      "outputs": []
    },
    {
      "cell_type": "markdown",
      "source": [
        "Having look at empty genres values"
      ],
      "metadata": {
        "id": "jbaHXE5wTyVF"
      }
    },
    {
      "cell_type": "code",
      "source": [
        "nf[nf['genres']=='']"
      ],
      "metadata": {
        "colab": {
          "base_uri": "https://localhost:8080/",
          "height": 458
        },
        "id": "9xNofYMGWnv6",
        "outputId": "fe26989f-9f89-4e1e-e779-6d14e2aed169"
      },
      "execution_count": 181,
      "outputs": [
        {
          "output_type": "execute_result",
          "data": {
            "text/html": [
              "\n",
              "  <div id=\"df-298dc422-a9aa-4c9c-b193-9ba65e8fbc0e\">\n",
              "    <div class=\"colab-df-container\">\n",
              "      <div>\n",
              "<style scoped>\n",
              "    .dataframe tbody tr th:only-of-type {\n",
              "        vertical-align: middle;\n",
              "    }\n",
              "\n",
              "    .dataframe tbody tr th {\n",
              "        vertical-align: top;\n",
              "    }\n",
              "\n",
              "    .dataframe thead th {\n",
              "        text-align: right;\n",
              "    }\n",
              "</style>\n",
              "<table border=\"1\" class=\"dataframe\">\n",
              "  <thead>\n",
              "    <tr style=\"text-align: right;\">\n",
              "      <th></th>\n",
              "      <th>show_id</th>\n",
              "      <th>type</th>\n",
              "      <th>title</th>\n",
              "      <th>director</th>\n",
              "      <th>cast</th>\n",
              "      <th>country</th>\n",
              "      <th>date_added</th>\n",
              "      <th>release_year</th>\n",
              "      <th>rating</th>\n",
              "      <th>duration</th>\n",
              "      <th>genres</th>\n",
              "      <th>description</th>\n",
              "      <th>year_added</th>\n",
              "      <th>month_added</th>\n",
              "      <th>international</th>\n",
              "    </tr>\n",
              "  </thead>\n",
              "  <tbody>\n",
              "    <tr>\n",
              "      <th>1707</th>\n",
              "      <td>s1708</td>\n",
              "      <td>Movie</td>\n",
              "      <td>Derren Brown: Miracle</td>\n",
              "      <td>No Director</td>\n",
              "      <td>Derren Brown</td>\n",
              "      <td>United Kingdom</td>\n",
              "      <td>June 22, 2018</td>\n",
              "      <td>2018</td>\n",
              "      <td>Adult Content</td>\n",
              "      <td>74 min</td>\n",
              "      <td></td>\n",
              "      <td>Illusionist Derren Brown reinvents the concept...</td>\n",
              "      <td>2018</td>\n",
              "      <td>June</td>\n",
              "      <td>True</td>\n",
              "    </tr>\n",
              "    <tr>\n",
              "      <th>1729</th>\n",
              "      <td>s1730</td>\n",
              "      <td>TV Show</td>\n",
              "      <td>Devlok with Devdutt Pattanaik</td>\n",
              "      <td>No Director</td>\n",
              "      <td>Rasika Dugal, Devdutt Pattanaik</td>\n",
              "      <td>India</td>\n",
              "      <td>October 15, 2018</td>\n",
              "      <td>2017</td>\n",
              "      <td>Brief Violence/Nude</td>\n",
              "      <td>1 Season</td>\n",
              "      <td></td>\n",
              "      <td>Through chats with host Rasika Dugal, mytholog...</td>\n",
              "      <td>2018</td>\n",
              "      <td>October</td>\n",
              "      <td>True</td>\n",
              "    </tr>\n",
              "    <tr>\n",
              "      <th>2035</th>\n",
              "      <td>s2036</td>\n",
              "      <td>TV Show</td>\n",
              "      <td>Eurovision Song Contest</td>\n",
              "      <td>No Director</td>\n",
              "      <td>Bar Refaeli, Erez Tal, Assi Azar, Lucy Ayoub</td>\n",
              "      <td>Country Unavailable</td>\n",
              "      <td>July 23, 2019</td>\n",
              "      <td>2019</td>\n",
              "      <td>Brief Violence/Nude</td>\n",
              "      <td>1 Season</td>\n",
              "      <td></td>\n",
              "      <td>Singers from all over Europe represent their c...</td>\n",
              "      <td>2019</td>\n",
              "      <td>July</td>\n",
              "      <td>True</td>\n",
              "    </tr>\n",
              "    <tr>\n",
              "      <th>3494</th>\n",
              "      <td>s3495</td>\n",
              "      <td>Movie</td>\n",
              "      <td>La Gran Ilusión</td>\n",
              "      <td>Antonio Díaz</td>\n",
              "      <td>Antonio Díaz</td>\n",
              "      <td>Country Unavailable</td>\n",
              "      <td>October 28, 2020</td>\n",
              "      <td>2016</td>\n",
              "      <td>Teens</td>\n",
              "      <td>50 min</td>\n",
              "      <td></td>\n",
              "      <td>Known as \"El Mago Pop,\" illusionist Antonio Dí...</td>\n",
              "      <td>2020</td>\n",
              "      <td>October</td>\n",
              "      <td>True</td>\n",
              "    </tr>\n",
              "    <tr>\n",
              "      <th>4341</th>\n",
              "      <td>s4342</td>\n",
              "      <td>Movie</td>\n",
              "      <td>My Next Guest with David Letterman and Shah Ru...</td>\n",
              "      <td>Michael Steed</td>\n",
              "      <td>Shah Rukh Khan, David Letterman</td>\n",
              "      <td>Country Unavailable</td>\n",
              "      <td>October 25, 2019</td>\n",
              "      <td>2019</td>\n",
              "      <td>Brief Violence/Nude</td>\n",
              "      <td>61 min</td>\n",
              "      <td></td>\n",
              "      <td>\"King of Bollywood\" Shah Rukh Khan opens up ab...</td>\n",
              "      <td>2019</td>\n",
              "      <td>October</td>\n",
              "      <td>True</td>\n",
              "    </tr>\n",
              "  </tbody>\n",
              "</table>\n",
              "</div>\n",
              "      <button class=\"colab-df-convert\" onclick=\"convertToInteractive('df-298dc422-a9aa-4c9c-b193-9ba65e8fbc0e')\"\n",
              "              title=\"Convert this dataframe to an interactive table.\"\n",
              "              style=\"display:none;\">\n",
              "        \n",
              "  <svg xmlns=\"http://www.w3.org/2000/svg\" height=\"24px\"viewBox=\"0 0 24 24\"\n",
              "       width=\"24px\">\n",
              "    <path d=\"M0 0h24v24H0V0z\" fill=\"none\"/>\n",
              "    <path d=\"M18.56 5.44l.94 2.06.94-2.06 2.06-.94-2.06-.94-.94-2.06-.94 2.06-2.06.94zm-11 1L8.5 8.5l.94-2.06 2.06-.94-2.06-.94L8.5 2.5l-.94 2.06-2.06.94zm10 10l.94 2.06.94-2.06 2.06-.94-2.06-.94-.94-2.06-.94 2.06-2.06.94z\"/><path d=\"M17.41 7.96l-1.37-1.37c-.4-.4-.92-.59-1.43-.59-.52 0-1.04.2-1.43.59L10.3 9.45l-7.72 7.72c-.78.78-.78 2.05 0 2.83L4 21.41c.39.39.9.59 1.41.59.51 0 1.02-.2 1.41-.59l7.78-7.78 2.81-2.81c.8-.78.8-2.07 0-2.86zM5.41 20L4 18.59l7.72-7.72 1.47 1.35L5.41 20z\"/>\n",
              "  </svg>\n",
              "      </button>\n",
              "      \n",
              "  <style>\n",
              "    .colab-df-container {\n",
              "      display:flex;\n",
              "      flex-wrap:wrap;\n",
              "      gap: 12px;\n",
              "    }\n",
              "\n",
              "    .colab-df-convert {\n",
              "      background-color: #E8F0FE;\n",
              "      border: none;\n",
              "      border-radius: 50%;\n",
              "      cursor: pointer;\n",
              "      display: none;\n",
              "      fill: #1967D2;\n",
              "      height: 32px;\n",
              "      padding: 0 0 0 0;\n",
              "      width: 32px;\n",
              "    }\n",
              "\n",
              "    .colab-df-convert:hover {\n",
              "      background-color: #E2EBFA;\n",
              "      box-shadow: 0px 1px 2px rgba(60, 64, 67, 0.3), 0px 1px 3px 1px rgba(60, 64, 67, 0.15);\n",
              "      fill: #174EA6;\n",
              "    }\n",
              "\n",
              "    [theme=dark] .colab-df-convert {\n",
              "      background-color: #3B4455;\n",
              "      fill: #D2E3FC;\n",
              "    }\n",
              "\n",
              "    [theme=dark] .colab-df-convert:hover {\n",
              "      background-color: #434B5C;\n",
              "      box-shadow: 0px 1px 3px 1px rgba(0, 0, 0, 0.15);\n",
              "      filter: drop-shadow(0px 1px 2px rgba(0, 0, 0, 0.3));\n",
              "      fill: #FFFFFF;\n",
              "    }\n",
              "  </style>\n",
              "\n",
              "      <script>\n",
              "        const buttonEl =\n",
              "          document.querySelector('#df-298dc422-a9aa-4c9c-b193-9ba65e8fbc0e button.colab-df-convert');\n",
              "        buttonEl.style.display =\n",
              "          google.colab.kernel.accessAllowed ? 'block' : 'none';\n",
              "\n",
              "        async function convertToInteractive(key) {\n",
              "          const element = document.querySelector('#df-298dc422-a9aa-4c9c-b193-9ba65e8fbc0e');\n",
              "          const dataTable =\n",
              "            await google.colab.kernel.invokeFunction('convertToInteractive',\n",
              "                                                     [key], {});\n",
              "          if (!dataTable) return;\n",
              "\n",
              "          const docLinkHtml = 'Like what you see? Visit the ' +\n",
              "            '<a target=\"_blank\" href=https://colab.research.google.com/notebooks/data_table.ipynb>data table notebook</a>'\n",
              "            + ' to learn more about interactive tables.';\n",
              "          element.innerHTML = '';\n",
              "          dataTable['output_type'] = 'display_data';\n",
              "          await google.colab.output.renderOutput(dataTable, element);\n",
              "          const docLink = document.createElement('div');\n",
              "          docLink.innerHTML = docLinkHtml;\n",
              "          element.appendChild(docLink);\n",
              "        }\n",
              "      </script>\n",
              "    </div>\n",
              "  </div>\n",
              "  "
            ],
            "text/plain": [
              "     show_id     type  ... month_added international\n",
              "1707   s1708    Movie  ...        June          True\n",
              "1729   s1730  TV Show  ...     October          True\n",
              "2035   s2036  TV Show  ...        July          True\n",
              "3494   s3495    Movie  ...     October          True\n",
              "4341   s4342    Movie  ...     October          True\n",
              "\n",
              "[5 rows x 15 columns]"
            ]
          },
          "metadata": {},
          "execution_count": 181
        }
      ]
    },
    {
      "cell_type": "code",
      "source": [
        "#filling up entries by getting idea from description\n",
        "nf.loc[1707,'genres'] = 'Sci-Fi & Fantasy'\n",
        "nf.loc[1729,'genres'] = 'Stand-Up Comedy'\n",
        "nf.loc[2035,'genres'] = 'Reality TV'\n",
        "nf.loc[3494,'genres'] = 'Sci-Fi & Fantasy'\n",
        "nf.loc[4341,'genres'] = 'Stand-Up Comedy & Talk Shows'"
      ],
      "metadata": {
        "id": "O93rlfxdXHvd"
      },
      "execution_count": 182,
      "outputs": []
    },
    {
      "cell_type": "code",
      "source": [
        "nf.head()"
      ],
      "metadata": {
        "colab": {
          "base_uri": "https://localhost:8080/",
          "height": 424
        },
        "id": "yaPQgEfqf39k",
        "outputId": "400f9b3d-1664-4c3b-bb8f-ef4db351c18b"
      },
      "execution_count": 183,
      "outputs": [
        {
          "output_type": "execute_result",
          "data": {
            "text/html": [
              "\n",
              "  <div id=\"df-ccfd902a-36e3-40a3-9802-50bca68e1060\">\n",
              "    <div class=\"colab-df-container\">\n",
              "      <div>\n",
              "<style scoped>\n",
              "    .dataframe tbody tr th:only-of-type {\n",
              "        vertical-align: middle;\n",
              "    }\n",
              "\n",
              "    .dataframe tbody tr th {\n",
              "        vertical-align: top;\n",
              "    }\n",
              "\n",
              "    .dataframe thead th {\n",
              "        text-align: right;\n",
              "    }\n",
              "</style>\n",
              "<table border=\"1\" class=\"dataframe\">\n",
              "  <thead>\n",
              "    <tr style=\"text-align: right;\">\n",
              "      <th></th>\n",
              "      <th>show_id</th>\n",
              "      <th>type</th>\n",
              "      <th>title</th>\n",
              "      <th>director</th>\n",
              "      <th>cast</th>\n",
              "      <th>country</th>\n",
              "      <th>date_added</th>\n",
              "      <th>release_year</th>\n",
              "      <th>rating</th>\n",
              "      <th>duration</th>\n",
              "      <th>genres</th>\n",
              "      <th>description</th>\n",
              "      <th>year_added</th>\n",
              "      <th>month_added</th>\n",
              "      <th>international</th>\n",
              "    </tr>\n",
              "  </thead>\n",
              "  <tbody>\n",
              "    <tr>\n",
              "      <th>0</th>\n",
              "      <td>s1</td>\n",
              "      <td>TV Show</td>\n",
              "      <td>3%</td>\n",
              "      <td>No Director</td>\n",
              "      <td>João Miguel, Bianca Comparato, Michel Gomes, R...</td>\n",
              "      <td>Brazil</td>\n",
              "      <td>August 14, 2020</td>\n",
              "      <td>2020</td>\n",
              "      <td>Adult Content</td>\n",
              "      <td>4 Seasons</td>\n",
              "      <td>TV Dramas, TV Sci-Fi &amp; Fantasy</td>\n",
              "      <td>In a future where the elite inhabit an island ...</td>\n",
              "      <td>2020</td>\n",
              "      <td>August</td>\n",
              "      <td>True</td>\n",
              "    </tr>\n",
              "    <tr>\n",
              "      <th>1</th>\n",
              "      <td>s2</td>\n",
              "      <td>Movie</td>\n",
              "      <td>7:19</td>\n",
              "      <td>Jorge Michel Grau</td>\n",
              "      <td>Demián Bichir, Héctor Bonilla, Oscar Serrano, ...</td>\n",
              "      <td>Mexico</td>\n",
              "      <td>December 23, 2016</td>\n",
              "      <td>2016</td>\n",
              "      <td>Adult Content</td>\n",
              "      <td>93 min</td>\n",
              "      <td>Dramas</td>\n",
              "      <td>After a devastating earthquake hits Mexico Cit...</td>\n",
              "      <td>2016</td>\n",
              "      <td>December</td>\n",
              "      <td>True</td>\n",
              "    </tr>\n",
              "    <tr>\n",
              "      <th>2</th>\n",
              "      <td>s3</td>\n",
              "      <td>Movie</td>\n",
              "      <td>23:59</td>\n",
              "      <td>Gilbert Chan</td>\n",
              "      <td>Tedd Chan, Stella Chung, Henley Hii, Lawrence ...</td>\n",
              "      <td>Singapore</td>\n",
              "      <td>December 20, 2018</td>\n",
              "      <td>2011</td>\n",
              "      <td>Adult Content</td>\n",
              "      <td>78 min</td>\n",
              "      <td>Horror Movies</td>\n",
              "      <td>When an army recruit is found dead, his fellow...</td>\n",
              "      <td>2018</td>\n",
              "      <td>December</td>\n",
              "      <td>True</td>\n",
              "    </tr>\n",
              "    <tr>\n",
              "      <th>3</th>\n",
              "      <td>s4</td>\n",
              "      <td>Movie</td>\n",
              "      <td>9</td>\n",
              "      <td>Shane Acker</td>\n",
              "      <td>Elijah Wood, John C. Reilly, Jennifer Connelly...</td>\n",
              "      <td>United States</td>\n",
              "      <td>November 16, 2017</td>\n",
              "      <td>2009</td>\n",
              "      <td>Teens</td>\n",
              "      <td>80 min</td>\n",
              "      <td>Action &amp; Adventure, Independent Movies, Sci-Fi...</td>\n",
              "      <td>In a postapocalyptic world, rag-doll robots hi...</td>\n",
              "      <td>2017</td>\n",
              "      <td>November</td>\n",
              "      <td>False</td>\n",
              "    </tr>\n",
              "    <tr>\n",
              "      <th>4</th>\n",
              "      <td>s5</td>\n",
              "      <td>Movie</td>\n",
              "      <td>21</td>\n",
              "      <td>Robert Luketic</td>\n",
              "      <td>Jim Sturgess, Kevin Spacey, Kate Bosworth, Aar...</td>\n",
              "      <td>United States</td>\n",
              "      <td>January 1, 2020</td>\n",
              "      <td>2008</td>\n",
              "      <td>Teens</td>\n",
              "      <td>123 min</td>\n",
              "      <td>Dramas</td>\n",
              "      <td>A brilliant group of students become card-coun...</td>\n",
              "      <td>2020</td>\n",
              "      <td>January</td>\n",
              "      <td>False</td>\n",
              "    </tr>\n",
              "  </tbody>\n",
              "</table>\n",
              "</div>\n",
              "      <button class=\"colab-df-convert\" onclick=\"convertToInteractive('df-ccfd902a-36e3-40a3-9802-50bca68e1060')\"\n",
              "              title=\"Convert this dataframe to an interactive table.\"\n",
              "              style=\"display:none;\">\n",
              "        \n",
              "  <svg xmlns=\"http://www.w3.org/2000/svg\" height=\"24px\"viewBox=\"0 0 24 24\"\n",
              "       width=\"24px\">\n",
              "    <path d=\"M0 0h24v24H0V0z\" fill=\"none\"/>\n",
              "    <path d=\"M18.56 5.44l.94 2.06.94-2.06 2.06-.94-2.06-.94-.94-2.06-.94 2.06-2.06.94zm-11 1L8.5 8.5l.94-2.06 2.06-.94-2.06-.94L8.5 2.5l-.94 2.06-2.06.94zm10 10l.94 2.06.94-2.06 2.06-.94-2.06-.94-.94-2.06-.94 2.06-2.06.94z\"/><path d=\"M17.41 7.96l-1.37-1.37c-.4-.4-.92-.59-1.43-.59-.52 0-1.04.2-1.43.59L10.3 9.45l-7.72 7.72c-.78.78-.78 2.05 0 2.83L4 21.41c.39.39.9.59 1.41.59.51 0 1.02-.2 1.41-.59l7.78-7.78 2.81-2.81c.8-.78.8-2.07 0-2.86zM5.41 20L4 18.59l7.72-7.72 1.47 1.35L5.41 20z\"/>\n",
              "  </svg>\n",
              "      </button>\n",
              "      \n",
              "  <style>\n",
              "    .colab-df-container {\n",
              "      display:flex;\n",
              "      flex-wrap:wrap;\n",
              "      gap: 12px;\n",
              "    }\n",
              "\n",
              "    .colab-df-convert {\n",
              "      background-color: #E8F0FE;\n",
              "      border: none;\n",
              "      border-radius: 50%;\n",
              "      cursor: pointer;\n",
              "      display: none;\n",
              "      fill: #1967D2;\n",
              "      height: 32px;\n",
              "      padding: 0 0 0 0;\n",
              "      width: 32px;\n",
              "    }\n",
              "\n",
              "    .colab-df-convert:hover {\n",
              "      background-color: #E2EBFA;\n",
              "      box-shadow: 0px 1px 2px rgba(60, 64, 67, 0.3), 0px 1px 3px 1px rgba(60, 64, 67, 0.15);\n",
              "      fill: #174EA6;\n",
              "    }\n",
              "\n",
              "    [theme=dark] .colab-df-convert {\n",
              "      background-color: #3B4455;\n",
              "      fill: #D2E3FC;\n",
              "    }\n",
              "\n",
              "    [theme=dark] .colab-df-convert:hover {\n",
              "      background-color: #434B5C;\n",
              "      box-shadow: 0px 1px 3px 1px rgba(0, 0, 0, 0.15);\n",
              "      filter: drop-shadow(0px 1px 2px rgba(0, 0, 0, 0.3));\n",
              "      fill: #FFFFFF;\n",
              "    }\n",
              "  </style>\n",
              "\n",
              "      <script>\n",
              "        const buttonEl =\n",
              "          document.querySelector('#df-ccfd902a-36e3-40a3-9802-50bca68e1060 button.colab-df-convert');\n",
              "        buttonEl.style.display =\n",
              "          google.colab.kernel.accessAllowed ? 'block' : 'none';\n",
              "\n",
              "        async function convertToInteractive(key) {\n",
              "          const element = document.querySelector('#df-ccfd902a-36e3-40a3-9802-50bca68e1060');\n",
              "          const dataTable =\n",
              "            await google.colab.kernel.invokeFunction('convertToInteractive',\n",
              "                                                     [key], {});\n",
              "          if (!dataTable) return;\n",
              "\n",
              "          const docLinkHtml = 'Like what you see? Visit the ' +\n",
              "            '<a target=\"_blank\" href=https://colab.research.google.com/notebooks/data_table.ipynb>data table notebook</a>'\n",
              "            + ' to learn more about interactive tables.';\n",
              "          element.innerHTML = '';\n",
              "          dataTable['output_type'] = 'display_data';\n",
              "          await google.colab.output.renderOutput(dataTable, element);\n",
              "          const docLink = document.createElement('div');\n",
              "          docLink.innerHTML = docLinkHtml;\n",
              "          element.appendChild(docLink);\n",
              "        }\n",
              "      </script>\n",
              "    </div>\n",
              "  </div>\n",
              "  "
            ],
            "text/plain": [
              "  show_id     type  title  ... year_added month_added international\n",
              "0      s1  TV Show     3%  ...       2020      August          True\n",
              "1      s2    Movie   7:19  ...       2016    December          True\n",
              "2      s3    Movie  23:59  ...       2018    December          True\n",
              "3      s4    Movie      9  ...       2017    November         False\n",
              "4      s5    Movie     21  ...       2020     January         False\n",
              "\n",
              "[5 rows x 15 columns]"
            ]
          },
          "metadata": {},
          "execution_count": 183
        }
      ]
    },
    {
      "cell_type": "markdown",
      "source": [
        "###<B>Splitting the Dataset"
      ],
      "metadata": {
        "id": "ABo8lPG_JFvL"
      }
    },
    {
      "cell_type": "markdown",
      "source": [
        "Since the dataset can either contain movies or shows, it'd be nice to have datasets for both so we can take a deep dive into just Netflix movies or Netflix TV shows so we will create two new datasets. One for movies and the other one for shows."
      ],
      "metadata": {
        "id": "emgwHywiJL02"
      }
    },
    {
      "cell_type": "code",
      "source": [
        "nf_movies = nf[nf['type']=='Movie'].copy()\n",
        "nf_movies.duration = nf_movies.duration.str.replace(' min','').astype(int)\n",
        "nf_movies.head()"
      ],
      "metadata": {
        "colab": {
          "base_uri": "https://localhost:8080/",
          "height": 441
        },
        "id": "u8lCAj4_Hly2",
        "outputId": "80d6b7ba-b39a-47ab-9c61-7af401bf1b04"
      },
      "execution_count": 184,
      "outputs": [
        {
          "output_type": "execute_result",
          "data": {
            "text/html": [
              "\n",
              "  <div id=\"df-b9ca488a-eeca-48b3-9051-c32d6fcbe2d0\">\n",
              "    <div class=\"colab-df-container\">\n",
              "      <div>\n",
              "<style scoped>\n",
              "    .dataframe tbody tr th:only-of-type {\n",
              "        vertical-align: middle;\n",
              "    }\n",
              "\n",
              "    .dataframe tbody tr th {\n",
              "        vertical-align: top;\n",
              "    }\n",
              "\n",
              "    .dataframe thead th {\n",
              "        text-align: right;\n",
              "    }\n",
              "</style>\n",
              "<table border=\"1\" class=\"dataframe\">\n",
              "  <thead>\n",
              "    <tr style=\"text-align: right;\">\n",
              "      <th></th>\n",
              "      <th>show_id</th>\n",
              "      <th>type</th>\n",
              "      <th>title</th>\n",
              "      <th>director</th>\n",
              "      <th>cast</th>\n",
              "      <th>country</th>\n",
              "      <th>date_added</th>\n",
              "      <th>release_year</th>\n",
              "      <th>rating</th>\n",
              "      <th>duration</th>\n",
              "      <th>genres</th>\n",
              "      <th>description</th>\n",
              "      <th>year_added</th>\n",
              "      <th>month_added</th>\n",
              "      <th>international</th>\n",
              "    </tr>\n",
              "  </thead>\n",
              "  <tbody>\n",
              "    <tr>\n",
              "      <th>1</th>\n",
              "      <td>s2</td>\n",
              "      <td>Movie</td>\n",
              "      <td>7:19</td>\n",
              "      <td>Jorge Michel Grau</td>\n",
              "      <td>Demián Bichir, Héctor Bonilla, Oscar Serrano, ...</td>\n",
              "      <td>Mexico</td>\n",
              "      <td>December 23, 2016</td>\n",
              "      <td>2016</td>\n",
              "      <td>Adult Content</td>\n",
              "      <td>93</td>\n",
              "      <td>Dramas</td>\n",
              "      <td>After a devastating earthquake hits Mexico Cit...</td>\n",
              "      <td>2016</td>\n",
              "      <td>December</td>\n",
              "      <td>True</td>\n",
              "    </tr>\n",
              "    <tr>\n",
              "      <th>2</th>\n",
              "      <td>s3</td>\n",
              "      <td>Movie</td>\n",
              "      <td>23:59</td>\n",
              "      <td>Gilbert Chan</td>\n",
              "      <td>Tedd Chan, Stella Chung, Henley Hii, Lawrence ...</td>\n",
              "      <td>Singapore</td>\n",
              "      <td>December 20, 2018</td>\n",
              "      <td>2011</td>\n",
              "      <td>Adult Content</td>\n",
              "      <td>78</td>\n",
              "      <td>Horror Movies</td>\n",
              "      <td>When an army recruit is found dead, his fellow...</td>\n",
              "      <td>2018</td>\n",
              "      <td>December</td>\n",
              "      <td>True</td>\n",
              "    </tr>\n",
              "    <tr>\n",
              "      <th>3</th>\n",
              "      <td>s4</td>\n",
              "      <td>Movie</td>\n",
              "      <td>9</td>\n",
              "      <td>Shane Acker</td>\n",
              "      <td>Elijah Wood, John C. Reilly, Jennifer Connelly...</td>\n",
              "      <td>United States</td>\n",
              "      <td>November 16, 2017</td>\n",
              "      <td>2009</td>\n",
              "      <td>Teens</td>\n",
              "      <td>80</td>\n",
              "      <td>Action &amp; Adventure, Independent Movies, Sci-Fi...</td>\n",
              "      <td>In a postapocalyptic world, rag-doll robots hi...</td>\n",
              "      <td>2017</td>\n",
              "      <td>November</td>\n",
              "      <td>False</td>\n",
              "    </tr>\n",
              "    <tr>\n",
              "      <th>4</th>\n",
              "      <td>s5</td>\n",
              "      <td>Movie</td>\n",
              "      <td>21</td>\n",
              "      <td>Robert Luketic</td>\n",
              "      <td>Jim Sturgess, Kevin Spacey, Kate Bosworth, Aar...</td>\n",
              "      <td>United States</td>\n",
              "      <td>January 1, 2020</td>\n",
              "      <td>2008</td>\n",
              "      <td>Teens</td>\n",
              "      <td>123</td>\n",
              "      <td>Dramas</td>\n",
              "      <td>A brilliant group of students become card-coun...</td>\n",
              "      <td>2020</td>\n",
              "      <td>January</td>\n",
              "      <td>False</td>\n",
              "    </tr>\n",
              "    <tr>\n",
              "      <th>6</th>\n",
              "      <td>s7</td>\n",
              "      <td>Movie</td>\n",
              "      <td>122</td>\n",
              "      <td>Yasir Al Yasiri</td>\n",
              "      <td>Amina Khalil, Ahmed Dawood, Tarek Lotfy, Ahmed...</td>\n",
              "      <td>Egypt</td>\n",
              "      <td>June 1, 2020</td>\n",
              "      <td>2019</td>\n",
              "      <td>Adult Content</td>\n",
              "      <td>95</td>\n",
              "      <td>Horror Movies</td>\n",
              "      <td>After an awful accident, a couple admitted to ...</td>\n",
              "      <td>2020</td>\n",
              "      <td>June</td>\n",
              "      <td>True</td>\n",
              "    </tr>\n",
              "  </tbody>\n",
              "</table>\n",
              "</div>\n",
              "      <button class=\"colab-df-convert\" onclick=\"convertToInteractive('df-b9ca488a-eeca-48b3-9051-c32d6fcbe2d0')\"\n",
              "              title=\"Convert this dataframe to an interactive table.\"\n",
              "              style=\"display:none;\">\n",
              "        \n",
              "  <svg xmlns=\"http://www.w3.org/2000/svg\" height=\"24px\"viewBox=\"0 0 24 24\"\n",
              "       width=\"24px\">\n",
              "    <path d=\"M0 0h24v24H0V0z\" fill=\"none\"/>\n",
              "    <path d=\"M18.56 5.44l.94 2.06.94-2.06 2.06-.94-2.06-.94-.94-2.06-.94 2.06-2.06.94zm-11 1L8.5 8.5l.94-2.06 2.06-.94-2.06-.94L8.5 2.5l-.94 2.06-2.06.94zm10 10l.94 2.06.94-2.06 2.06-.94-2.06-.94-.94-2.06-.94 2.06-2.06.94z\"/><path d=\"M17.41 7.96l-1.37-1.37c-.4-.4-.92-.59-1.43-.59-.52 0-1.04.2-1.43.59L10.3 9.45l-7.72 7.72c-.78.78-.78 2.05 0 2.83L4 21.41c.39.39.9.59 1.41.59.51 0 1.02-.2 1.41-.59l7.78-7.78 2.81-2.81c.8-.78.8-2.07 0-2.86zM5.41 20L4 18.59l7.72-7.72 1.47 1.35L5.41 20z\"/>\n",
              "  </svg>\n",
              "      </button>\n",
              "      \n",
              "  <style>\n",
              "    .colab-df-container {\n",
              "      display:flex;\n",
              "      flex-wrap:wrap;\n",
              "      gap: 12px;\n",
              "    }\n",
              "\n",
              "    .colab-df-convert {\n",
              "      background-color: #E8F0FE;\n",
              "      border: none;\n",
              "      border-radius: 50%;\n",
              "      cursor: pointer;\n",
              "      display: none;\n",
              "      fill: #1967D2;\n",
              "      height: 32px;\n",
              "      padding: 0 0 0 0;\n",
              "      width: 32px;\n",
              "    }\n",
              "\n",
              "    .colab-df-convert:hover {\n",
              "      background-color: #E2EBFA;\n",
              "      box-shadow: 0px 1px 2px rgba(60, 64, 67, 0.3), 0px 1px 3px 1px rgba(60, 64, 67, 0.15);\n",
              "      fill: #174EA6;\n",
              "    }\n",
              "\n",
              "    [theme=dark] .colab-df-convert {\n",
              "      background-color: #3B4455;\n",
              "      fill: #D2E3FC;\n",
              "    }\n",
              "\n",
              "    [theme=dark] .colab-df-convert:hover {\n",
              "      background-color: #434B5C;\n",
              "      box-shadow: 0px 1px 3px 1px rgba(0, 0, 0, 0.15);\n",
              "      filter: drop-shadow(0px 1px 2px rgba(0, 0, 0, 0.3));\n",
              "      fill: #FFFFFF;\n",
              "    }\n",
              "  </style>\n",
              "\n",
              "      <script>\n",
              "        const buttonEl =\n",
              "          document.querySelector('#df-b9ca488a-eeca-48b3-9051-c32d6fcbe2d0 button.colab-df-convert');\n",
              "        buttonEl.style.display =\n",
              "          google.colab.kernel.accessAllowed ? 'block' : 'none';\n",
              "\n",
              "        async function convertToInteractive(key) {\n",
              "          const element = document.querySelector('#df-b9ca488a-eeca-48b3-9051-c32d6fcbe2d0');\n",
              "          const dataTable =\n",
              "            await google.colab.kernel.invokeFunction('convertToInteractive',\n",
              "                                                     [key], {});\n",
              "          if (!dataTable) return;\n",
              "\n",
              "          const docLinkHtml = 'Like what you see? Visit the ' +\n",
              "            '<a target=\"_blank\" href=https://colab.research.google.com/notebooks/data_table.ipynb>data table notebook</a>'\n",
              "            + ' to learn more about interactive tables.';\n",
              "          element.innerHTML = '';\n",
              "          dataTable['output_type'] = 'display_data';\n",
              "          await google.colab.output.renderOutput(dataTable, element);\n",
              "          const docLink = document.createElement('div');\n",
              "          docLink.innerHTML = docLinkHtml;\n",
              "          element.appendChild(docLink);\n",
              "        }\n",
              "      </script>\n",
              "    </div>\n",
              "  </div>\n",
              "  "
            ],
            "text/plain": [
              "  show_id   type  title  ... year_added month_added international\n",
              "1      s2  Movie   7:19  ...       2016    December          True\n",
              "2      s3  Movie  23:59  ...       2018    December          True\n",
              "3      s4  Movie      9  ...       2017    November         False\n",
              "4      s5  Movie     21  ...       2020     January         False\n",
              "6      s7  Movie    122  ...       2020        June          True\n",
              "\n",
              "[5 rows x 15 columns]"
            ]
          },
          "metadata": {},
          "execution_count": 184
        }
      ]
    },
    {
      "cell_type": "markdown",
      "source": [
        "In the duration column, there appears to be a discrepancy between movies and shows. Movies are based on the duration of the movie and shows are based on the number of seasons. To make EDA easier, we will convert the values in these columns into integers for both the movies and shows datasets."
      ],
      "metadata": {
        "id": "wUEPShqsu2n6"
      }
    },
    {
      "cell_type": "code",
      "source": [
        "nf_shows = nf[nf['type']=='TV Show'].copy()\n",
        "nf_shows.rename(columns={'duration':'seasons'}, inplace=True)\n",
        "nf_shows.replace({'seasons':{'1 Season':'1 Seasons'}}, inplace=True)\n",
        "nf_shows.seasons = nf_shows.seasons.str.replace(' Seasons','').astype(int)\n",
        "nf_shows.head()"
      ],
      "metadata": {
        "colab": {
          "base_uri": "https://localhost:8080/",
          "height": 424
        },
        "id": "xBNWERgqHl3I",
        "outputId": "acb7bfb2-453c-47e6-863c-05c1fac9340f"
      },
      "execution_count": 185,
      "outputs": [
        {
          "output_type": "execute_result",
          "data": {
            "text/html": [
              "\n",
              "  <div id=\"df-d98f0781-c2fc-4838-ab40-b04008d2666e\">\n",
              "    <div class=\"colab-df-container\">\n",
              "      <div>\n",
              "<style scoped>\n",
              "    .dataframe tbody tr th:only-of-type {\n",
              "        vertical-align: middle;\n",
              "    }\n",
              "\n",
              "    .dataframe tbody tr th {\n",
              "        vertical-align: top;\n",
              "    }\n",
              "\n",
              "    .dataframe thead th {\n",
              "        text-align: right;\n",
              "    }\n",
              "</style>\n",
              "<table border=\"1\" class=\"dataframe\">\n",
              "  <thead>\n",
              "    <tr style=\"text-align: right;\">\n",
              "      <th></th>\n",
              "      <th>show_id</th>\n",
              "      <th>type</th>\n",
              "      <th>title</th>\n",
              "      <th>director</th>\n",
              "      <th>cast</th>\n",
              "      <th>country</th>\n",
              "      <th>date_added</th>\n",
              "      <th>release_year</th>\n",
              "      <th>rating</th>\n",
              "      <th>seasons</th>\n",
              "      <th>genres</th>\n",
              "      <th>description</th>\n",
              "      <th>year_added</th>\n",
              "      <th>month_added</th>\n",
              "      <th>international</th>\n",
              "    </tr>\n",
              "  </thead>\n",
              "  <tbody>\n",
              "    <tr>\n",
              "      <th>0</th>\n",
              "      <td>s1</td>\n",
              "      <td>TV Show</td>\n",
              "      <td>3%</td>\n",
              "      <td>No Director</td>\n",
              "      <td>João Miguel, Bianca Comparato, Michel Gomes, R...</td>\n",
              "      <td>Brazil</td>\n",
              "      <td>August 14, 2020</td>\n",
              "      <td>2020</td>\n",
              "      <td>Adult Content</td>\n",
              "      <td>4</td>\n",
              "      <td>TV Dramas, TV Sci-Fi &amp; Fantasy</td>\n",
              "      <td>In a future where the elite inhabit an island ...</td>\n",
              "      <td>2020</td>\n",
              "      <td>August</td>\n",
              "      <td>True</td>\n",
              "    </tr>\n",
              "    <tr>\n",
              "      <th>5</th>\n",
              "      <td>s6</td>\n",
              "      <td>TV Show</td>\n",
              "      <td>46</td>\n",
              "      <td>Serdar Akar</td>\n",
              "      <td>Erdal Beşikçioğlu, Yasemin Allen, Melis Birkan...</td>\n",
              "      <td>Turkey</td>\n",
              "      <td>July 1, 2017</td>\n",
              "      <td>2016</td>\n",
              "      <td>Adult Content</td>\n",
              "      <td>1</td>\n",
              "      <td>TV Dramas, TV Mysteries</td>\n",
              "      <td>A genetics professor experiments with a treatm...</td>\n",
              "      <td>2017</td>\n",
              "      <td>July</td>\n",
              "      <td>True</td>\n",
              "    </tr>\n",
              "    <tr>\n",
              "      <th>11</th>\n",
              "      <td>s12</td>\n",
              "      <td>TV Show</td>\n",
              "      <td>1983</td>\n",
              "      <td>No Director</td>\n",
              "      <td>Robert Więckiewicz, Maciej Musiał, Michalina O...</td>\n",
              "      <td>Poland, United States</td>\n",
              "      <td>November 30, 2018</td>\n",
              "      <td>2018</td>\n",
              "      <td>Adult Content</td>\n",
              "      <td>1</td>\n",
              "      <td>Crime TV Shows, TV Dramas</td>\n",
              "      <td>In this dark alt-history thriller, a naïve law...</td>\n",
              "      <td>2018</td>\n",
              "      <td>November</td>\n",
              "      <td>True</td>\n",
              "    </tr>\n",
              "    <tr>\n",
              "      <th>12</th>\n",
              "      <td>s13</td>\n",
              "      <td>TV Show</td>\n",
              "      <td>1994</td>\n",
              "      <td>Diego Enrique Osorno</td>\n",
              "      <td>No Cast</td>\n",
              "      <td>Mexico</td>\n",
              "      <td>May 17, 2019</td>\n",
              "      <td>2019</td>\n",
              "      <td>Adult Content</td>\n",
              "      <td>1</td>\n",
              "      <td>Crime TV Shows, Docuseries</td>\n",
              "      <td>Archival video and new interviews examine Mexi...</td>\n",
              "      <td>2019</td>\n",
              "      <td>May</td>\n",
              "      <td>True</td>\n",
              "    </tr>\n",
              "    <tr>\n",
              "      <th>16</th>\n",
              "      <td>s17</td>\n",
              "      <td>TV Show</td>\n",
              "      <td>Feb-09</td>\n",
              "      <td>No Director</td>\n",
              "      <td>Shahd El Yaseen, Shaila Sabt, Hala, Hanadi Al-...</td>\n",
              "      <td>Country Unavailable</td>\n",
              "      <td>March 20, 2019</td>\n",
              "      <td>2018</td>\n",
              "      <td>Teens</td>\n",
              "      <td>1</td>\n",
              "      <td>TV Dramas</td>\n",
              "      <td>As a psychology professor faces Alzheimer's, h...</td>\n",
              "      <td>2019</td>\n",
              "      <td>March</td>\n",
              "      <td>True</td>\n",
              "    </tr>\n",
              "  </tbody>\n",
              "</table>\n",
              "</div>\n",
              "      <button class=\"colab-df-convert\" onclick=\"convertToInteractive('df-d98f0781-c2fc-4838-ab40-b04008d2666e')\"\n",
              "              title=\"Convert this dataframe to an interactive table.\"\n",
              "              style=\"display:none;\">\n",
              "        \n",
              "  <svg xmlns=\"http://www.w3.org/2000/svg\" height=\"24px\"viewBox=\"0 0 24 24\"\n",
              "       width=\"24px\">\n",
              "    <path d=\"M0 0h24v24H0V0z\" fill=\"none\"/>\n",
              "    <path d=\"M18.56 5.44l.94 2.06.94-2.06 2.06-.94-2.06-.94-.94-2.06-.94 2.06-2.06.94zm-11 1L8.5 8.5l.94-2.06 2.06-.94-2.06-.94L8.5 2.5l-.94 2.06-2.06.94zm10 10l.94 2.06.94-2.06 2.06-.94-2.06-.94-.94-2.06-.94 2.06-2.06.94z\"/><path d=\"M17.41 7.96l-1.37-1.37c-.4-.4-.92-.59-1.43-.59-.52 0-1.04.2-1.43.59L10.3 9.45l-7.72 7.72c-.78.78-.78 2.05 0 2.83L4 21.41c.39.39.9.59 1.41.59.51 0 1.02-.2 1.41-.59l7.78-7.78 2.81-2.81c.8-.78.8-2.07 0-2.86zM5.41 20L4 18.59l7.72-7.72 1.47 1.35L5.41 20z\"/>\n",
              "  </svg>\n",
              "      </button>\n",
              "      \n",
              "  <style>\n",
              "    .colab-df-container {\n",
              "      display:flex;\n",
              "      flex-wrap:wrap;\n",
              "      gap: 12px;\n",
              "    }\n",
              "\n",
              "    .colab-df-convert {\n",
              "      background-color: #E8F0FE;\n",
              "      border: none;\n",
              "      border-radius: 50%;\n",
              "      cursor: pointer;\n",
              "      display: none;\n",
              "      fill: #1967D2;\n",
              "      height: 32px;\n",
              "      padding: 0 0 0 0;\n",
              "      width: 32px;\n",
              "    }\n",
              "\n",
              "    .colab-df-convert:hover {\n",
              "      background-color: #E2EBFA;\n",
              "      box-shadow: 0px 1px 2px rgba(60, 64, 67, 0.3), 0px 1px 3px 1px rgba(60, 64, 67, 0.15);\n",
              "      fill: #174EA6;\n",
              "    }\n",
              "\n",
              "    [theme=dark] .colab-df-convert {\n",
              "      background-color: #3B4455;\n",
              "      fill: #D2E3FC;\n",
              "    }\n",
              "\n",
              "    [theme=dark] .colab-df-convert:hover {\n",
              "      background-color: #434B5C;\n",
              "      box-shadow: 0px 1px 3px 1px rgba(0, 0, 0, 0.15);\n",
              "      filter: drop-shadow(0px 1px 2px rgba(0, 0, 0, 0.3));\n",
              "      fill: #FFFFFF;\n",
              "    }\n",
              "  </style>\n",
              "\n",
              "      <script>\n",
              "        const buttonEl =\n",
              "          document.querySelector('#df-d98f0781-c2fc-4838-ab40-b04008d2666e button.colab-df-convert');\n",
              "        buttonEl.style.display =\n",
              "          google.colab.kernel.accessAllowed ? 'block' : 'none';\n",
              "\n",
              "        async function convertToInteractive(key) {\n",
              "          const element = document.querySelector('#df-d98f0781-c2fc-4838-ab40-b04008d2666e');\n",
              "          const dataTable =\n",
              "            await google.colab.kernel.invokeFunction('convertToInteractive',\n",
              "                                                     [key], {});\n",
              "          if (!dataTable) return;\n",
              "\n",
              "          const docLinkHtml = 'Like what you see? Visit the ' +\n",
              "            '<a target=\"_blank\" href=https://colab.research.google.com/notebooks/data_table.ipynb>data table notebook</a>'\n",
              "            + ' to learn more about interactive tables.';\n",
              "          element.innerHTML = '';\n",
              "          dataTable['output_type'] = 'display_data';\n",
              "          await google.colab.output.renderOutput(dataTable, element);\n",
              "          const docLink = document.createElement('div');\n",
              "          docLink.innerHTML = docLinkHtml;\n",
              "          element.appendChild(docLink);\n",
              "        }\n",
              "      </script>\n",
              "    </div>\n",
              "  </div>\n",
              "  "
            ],
            "text/plain": [
              "   show_id     type   title  ... year_added month_added international\n",
              "0       s1  TV Show      3%  ...       2020      August          True\n",
              "5       s6  TV Show      46  ...       2017        July          True\n",
              "11     s12  TV Show    1983  ...       2018    November          True\n",
              "12     s13  TV Show    1994  ...       2019         May          True\n",
              "16     s17  TV Show  Feb-09  ...       2019       March          True\n",
              "\n",
              "[5 rows x 15 columns]"
            ]
          },
          "metadata": {},
          "execution_count": 185
        }
      ]
    },
    {
      "cell_type": "markdown",
      "source": [
        "# **4. Exploratory Data Analysis and Visualization**"
      ],
      "metadata": {
        "id": "_JgC4re9yj3P"
      }
    },
    {
      "cell_type": "markdown",
      "source": [
        "##**4.1 TV Shows or Movies?**\n",
        "Movies & TV shows - Distribution"
      ],
      "metadata": {
        "id": "oRpTQ9FNQXha"
      }
    },
    {
      "cell_type": "code",
      "source": [
        "# Balance of Netflix products\n",
        "plot_donut_chart(df=nf, col='type', colors=['dimgrey', 'crimson'], title='Does Netflix had more \\nMovies or TV Shows on 2019?')"
      ],
      "metadata": {
        "id": "X9n_vpUtuzKy",
        "outputId": "75866de2-e2cb-426d-cbe3-bcd5d1639289",
        "colab": {
          "base_uri": "https://localhost:8080/",
          "height": 501
        }
      },
      "execution_count": 186,
      "outputs": [
        {
          "output_type": "display_data",
          "data": {
            "image/png": "[encoded data removed]",
            "text/plain": [
              "<Figure size 576x576 with 1 Axes>"
            ]
          },
          "metadata": {}
        }
      ]
    },
    {
      "cell_type": "code",
      "source": [
        "plt.figure(figsize=(12,6))\n",
        "plt.title(\"Percentage distribution of Netflix content\")\n",
        "g = plt.pie(nf.type.value_counts(), explode=(0.025,0.025), labels=nf.type.value_counts().index, colors=['skyblue','yellow'],autopct='%1.1f%%', startangle=180);\n",
        "plt.legend()\n",
        "plt.show()"
      ],
      "metadata": {
        "id": "Kihs3POd1J72",
        "outputId": "39f178b2-5f7f-46e6-9253-9dfcd659c47c",
        "colab": {
          "base_uri": "https://localhost:8080/",
          "height": 373
        }
      },
      "execution_count": 187,
      "outputs": [
        {
          "output_type": "display_data",
          "data": {
            "image/png": "[encoded data removed]",
            "text/plain": [
              "<Figure size 864x432 with 1 Axes>"
            ]
          },
          "metadata": {}
        }
      ]
    },
    {
      "cell_type": "markdown",
      "source": [
        "**Observation**\n",
        "\n",
        "*   Netflix has 69% of its content as movies\n",
        "\n",
        "*   Movies are clearly more popular on Netflix than TV shows(30.9%).\n",
        "\n",
        "\n",
        "Let's find out number of movies added to Netflix yearly."
      ],
      "metadata": {
        "id": "rHL0425k16XH"
      }
    },
    {
      "cell_type": "markdown",
      "source": [
        "##<B>4.2 Ratings on Netflix\n",
        "\n",
        "\n"
      ],
      "metadata": {
        "id": "N7gQ1u64q-vu"
      }
    },
    {
      "cell_type": "markdown",
      "source": [
        "Now, we will explore the ratings which are based on the film rating system. The ordering of the ratings will be based on the age of the respective audience from youngest to oldest. We will not include the ratings 'NR' and 'UR' in the visuals since they stand for unrated and non-rated content."
      ],
      "metadata": {
        "id": "CwgAbWXWPoVN"
      }
    },
    {
      "cell_type": "code",
      "source": [
        "nf.rating"
      ],
      "metadata": {
        "id": "RoPI89j6bxpV",
        "outputId": "d244ba4a-f66a-4d90-afef-c02d5591ef7c",
        "colab": {
          "base_uri": "https://localhost:8080/"
        }
      },
      "execution_count": 188,
      "outputs": [
        {
          "output_type": "execute_result",
          "data": {
            "text/plain": [
              "0             Adult Content\n",
              "1             Adult Content\n",
              "2             Adult Content\n",
              "3                     Teens\n",
              "4                     Teens\n",
              "               ...         \n",
              "7782          Adult Content\n",
              "7783                  Teens\n",
              "7784          Adult Content\n",
              "7785    Brief Violence/Nude\n",
              "7786          Adult Content\n",
              "Name: rating, Length: 7770, dtype: object"
            ]
          },
          "metadata": {},
          "execution_count": 188
        }
      ]
    },
    {
      "cell_type": "code",
      "source": [
        "order = ['All Ages','Kids','Brief Violence/Nude','Teens','Adult Content']\n",
        "plt.figure(figsize=(15,7))\n",
        "g = sns.countplot(nf.rating, hue=nf.type, order=order, palette=\"pastel\");\n",
        "plt.title(\"Ratings for Movies & TV Shows\")\n",
        "plt.xlabel(\"Rating\")\n",
        "plt.ylabel(\"Total Count\")\n",
        "plt.show()"
      ],
      "metadata": {
        "id": "GuYMKOzCjrr5",
        "outputId": "8df3edc3-d717-4f68-fd47-df3005072a11",
        "colab": {
          "base_uri": "https://localhost:8080/",
          "height": 464
        }
      },
      "execution_count": 189,
      "outputs": [
        {
          "output_type": "display_data",
          "data": {
            "image/png": "[encoded data removed]",
            "text/plain": [
              "<Figure size 1080x504 with 1 Axes>"
            ]
          },
          "metadata": {
            "needs_background": "light"
          }
        }
      ]
    },
    {
      "cell_type": "code",
      "source": [
        "fig, ax = plt.subplots(1,2, figsize=(19, 5))\n",
        "g1 = sns.countplot(nf_movies.rating, order=order,palette=\"Set2\", ax=ax[0]);\n",
        "g1.set_title(\"Ratings for Movies\")\n",
        "g1.set_xlabel(\"Rating\")\n",
        "g1.set_ylabel(\"Total Count\")\n",
        "g2 = sns.countplot(nf_shows.rating, order=order,palette=\"Set2\", ax=ax[1]);\n",
        "g2.set(yticks=np.arange(0,1600,200))\n",
        "g2.set_title(\"Ratings for TV Shows\")\n",
        "g2.set_xlabel(\"Rating\")\n",
        "g2.set_ylabel(\"Total Count\")\n",
        "fig.show()"
      ],
      "metadata": {
        "colab": {
          "base_uri": "https://localhost:8080/",
          "height": 355
        },
        "id": "dc3P0w5YJms0",
        "outputId": "31c3b276-1b8c-4016-b7d7-65222c55ea94"
      },
      "execution_count": 190,
      "outputs": [
        {
          "output_type": "display_data",
          "data": {
            "image/png": "[encoded data removed]",
            "text/plain": [
              "<Figure size 1368x360 with 2 Axes>"
            ]
          },
          "metadata": {
            "needs_background": "light"
          }
        }
      ]
    },
    {
      "cell_type": "code",
      "source": [
        "fig, ax = plt.subplots(1,2, figsize=(19, 5))\n",
        "g1 = sns.countplot(nf_movies.rating, order=order,palette=\"Set2\", ax=ax[0]);\n",
        "g1.set_title(\"Ratings for Movies\")\n",
        "g1.set_xlabel(\"Rating\")\n",
        "g1.set_ylabel(\"Total Count\")\n",
        "g2 = sns.countplot(nf_shows.rating, order=order,palette=\"Set2\", ax=ax[1]);\n",
        "g2.set(yticks=np.arange(0,1600,200))\n",
        "g2.set_title(\"Ratings for TV Shows\")\n",
        "g2.set_xlabel(\"Rating\")\n",
        "g2.set_ylabel(\"Total Count\")\n",
        "fig.show()"
      ],
      "metadata": {
        "id": "hmEwQeS1vduU",
        "outputId": "df325596-14d8-4200-b3fa-dcbf8b83dd9f",
        "colab": {
          "base_uri": "https://localhost:8080/",
          "height": 355
        }
      },
      "execution_count": 191,
      "outputs": [
        {
          "output_type": "display_data",
          "data": {
            "image/png": "[encoded data removed]",
            "text/plain": [
              "<Figure size 1368x360 with 2 Axes>"
            ]
          },
          "metadata": {
            "needs_background": "light"
          }
        }
      ]
    },
    {
      "cell_type": "code",
      "source": [
        "# Plotting and customizing a rating analysis\n",
        "plot_countplot(nf, 'rating', order=True, figsize=(17, 10),\n",
        "               title='A Rating Analysis on Netflix Titles', size_title=18)\n",
        "plt.xticks(fontsize=16)\n",
        "plt.show()"
      ],
      "metadata": {
        "colab": {
          "base_uri": "https://localhost:8080/",
          "height": 650
        },
        "id": "q-gS5sRergOv",
        "outputId": "22a79dab-17bb-4b59-c3e7-ed166a4cee93"
      },
      "execution_count": 192,
      "outputs": [
        {
          "output_type": "display_data",
          "data": {
            "image/png": "[encoded data removed]",
            "text/plain": [
              "<Figure size 1224x720 with 1 Axes>"
            ]
          },
          "metadata": {
            "needs_background": "light"
          }
        }
      ]
    },
    {
      "cell_type": "markdown",
      "source": [
        "<B>Let's break the count analysis by title type."
      ],
      "metadata": {
        "id": "q9Rv9t-iQ9In"
      }
    },
    {
      "cell_type": "code",
      "source": [
        "# Plotting and customizing a rating analysis\n",
        "plot_countplot(nf, 'rating', hue='type', order=True, figsize=(17, 10), palette=['crimson', 'dimgrey'],\n",
        "               title='A Rating Analysis on Netflix Titles by Type', size_title=20)\n",
        "plt.xticks(fontsize=10)\n",
        "plt.show()"
      ],
      "metadata": {
        "colab": {
          "base_uri": "https://localhost:8080/",
          "height": 646
        },
        "id": "0lgxnH6rrr2f",
        "outputId": "d6999c24-eab9-4b31-8964-676cfba16125"
      },
      "execution_count": 193,
      "outputs": [
        {
          "output_type": "display_data",
          "data": {
            "image/png": "[encoded data removed]",
            "text/plain": [
              "<Figure size 1224x720 with 1 Axes>"
            ]
          },
          "metadata": {
            "needs_background": "light"
          }
        }
      ]
    },
    {
      "cell_type": "markdown",
      "source": [
        "The above plot shows the top Movies and TV Shows based on rating system. Overall, there is much more content for a more mature audience. For the mature audience, there is much more movie content than there are TV shows. However, for the younger audience (under the age of 17), it is the opposite, there are slightly more TV shows than there are movies."
      ],
      "metadata": {
        "id": "fbpqKFCxs6Ce"
      }
    },
    {
      "cell_type": "markdown",
      "source": [
        "##<B>4.3 Content added each yearly, monthly\n"
      ],
      "metadata": {
        "id": "ypsnx0KhRpvv"
      }
    },
    {
      "cell_type": "code",
      "source": [
        "nf['year_added'] = pd.DatetimeIndex(nf['date_added']).year\n",
        "nf_movies['year_added'] = pd.DatetimeIndex(nf_movies['date_added']).year\n",
        "nf_shows['year_added'] = pd.DatetimeIndex(nf_shows['date_added']).year\n",
        "nf['month_added'] = pd.DatetimeIndex(nf['date_added']).month\n",
        "nf_movies['month_added'] = pd.DatetimeIndex(nf_movies['date_added']).month\n",
        "nf_shows['month_added'] = pd.DatetimeIndex(nf_shows['date_added']).month"
      ],
      "metadata": {
        "id": "LF_dFkmwRLkn"
      },
      "execution_count": 217,
      "outputs": []
    },
    {
      "cell_type": "markdown",
      "source": [
        "Now we will take a look at the amount content Netflix has added throughout the previous years. Since we are interested in when Netflix added the title onto their platform, we will add a 'year_added' column shows the year of the date from the 'date_added' column as shown above."
      ],
      "metadata": {
        "id": "KoP4MSWOR07B"
      }
    },
    {
      "cell_type": "code",
      "source": [
        "netflix_year = nf['year_added'].value_counts().to_frame().reset_index().rename(columns={'index': 'year','year_added':'count'})\n",
        "netflix_year = netflix_year[netflix_year.year != 2020]\n",
        "netflix_year"
      ],
      "metadata": {
        "colab": {
          "base_uri": "https://localhost:8080/",
          "height": 457
        },
        "id": "X5itHQUtRLnF",
        "outputId": "e9ca5e47-3cff-457b-9b22-e88b01937adf"
      },
      "execution_count": 195,
      "outputs": [
        {
          "output_type": "execute_result",
          "data": {
            "text/html": [
              "\n",
              "  <div id=\"df-56b76f6a-84de-4c6a-830a-46033173d768\">\n",
              "    <div class=\"colab-df-container\">\n",
              "      <div>\n",
              "<style scoped>\n",
              "    .dataframe tbody tr th:only-of-type {\n",
              "        vertical-align: middle;\n",
              "    }\n",
              "\n",
              "    .dataframe tbody tr th {\n",
              "        vertical-align: top;\n",
              "    }\n",
              "\n",
              "    .dataframe thead th {\n",
              "        text-align: right;\n",
              "    }\n",
              "</style>\n",
              "<table border=\"1\" class=\"dataframe\">\n",
              "  <thead>\n",
              "    <tr style=\"text-align: right;\">\n",
              "      <th></th>\n",
              "      <th>year</th>\n",
              "      <th>count</th>\n",
              "    </tr>\n",
              "  </thead>\n",
              "  <tbody>\n",
              "    <tr>\n",
              "      <th>0</th>\n",
              "      <td>2019</td>\n",
              "      <td>2153</td>\n",
              "    </tr>\n",
              "    <tr>\n",
              "      <th>2</th>\n",
              "      <td>2018</td>\n",
              "      <td>1684</td>\n",
              "    </tr>\n",
              "    <tr>\n",
              "      <th>3</th>\n",
              "      <td>2017</td>\n",
              "      <td>1222</td>\n",
              "    </tr>\n",
              "    <tr>\n",
              "      <th>4</th>\n",
              "      <td>2016</td>\n",
              "      <td>440</td>\n",
              "    </tr>\n",
              "    <tr>\n",
              "      <th>5</th>\n",
              "      <td>2021</td>\n",
              "      <td>117</td>\n",
              "    </tr>\n",
              "    <tr>\n",
              "      <th>6</th>\n",
              "      <td>2015</td>\n",
              "      <td>88</td>\n",
              "    </tr>\n",
              "    <tr>\n",
              "      <th>7</th>\n",
              "      <td>2014</td>\n",
              "      <td>25</td>\n",
              "    </tr>\n",
              "    <tr>\n",
              "      <th>8</th>\n",
              "      <td>2011</td>\n",
              "      <td>13</td>\n",
              "    </tr>\n",
              "    <tr>\n",
              "      <th>9</th>\n",
              "      <td>2013</td>\n",
              "      <td>11</td>\n",
              "    </tr>\n",
              "    <tr>\n",
              "      <th>10</th>\n",
              "      <td>2012</td>\n",
              "      <td>3</td>\n",
              "    </tr>\n",
              "    <tr>\n",
              "      <th>11</th>\n",
              "      <td>2008</td>\n",
              "      <td>2</td>\n",
              "    </tr>\n",
              "    <tr>\n",
              "      <th>12</th>\n",
              "      <td>2009</td>\n",
              "      <td>2</td>\n",
              "    </tr>\n",
              "    <tr>\n",
              "      <th>13</th>\n",
              "      <td>2010</td>\n",
              "      <td>1</td>\n",
              "    </tr>\n",
              "  </tbody>\n",
              "</table>\n",
              "</div>\n",
              "      <button class=\"colab-df-convert\" onclick=\"convertToInteractive('df-56b76f6a-84de-4c6a-830a-46033173d768')\"\n",
              "              title=\"Convert this dataframe to an interactive table.\"\n",
              "              style=\"display:none;\">\n",
              "        \n",
              "  <svg xmlns=\"http://www.w3.org/2000/svg\" height=\"24px\"viewBox=\"0 0 24 24\"\n",
              "       width=\"24px\">\n",
              "    <path d=\"M0 0h24v24H0V0z\" fill=\"none\"/>\n",
              "    <path d=\"M18.56 5.44l.94 2.06.94-2.06 2.06-.94-2.06-.94-.94-2.06-.94 2.06-2.06.94zm-11 1L8.5 8.5l.94-2.06 2.06-.94-2.06-.94L8.5 2.5l-.94 2.06-2.06.94zm10 10l.94 2.06.94-2.06 2.06-.94-2.06-.94-.94-2.06-.94 2.06-2.06.94z\"/><path d=\"M17.41 7.96l-1.37-1.37c-.4-.4-.92-.59-1.43-.59-.52 0-1.04.2-1.43.59L10.3 9.45l-7.72 7.72c-.78.78-.78 2.05 0 2.83L4 21.41c.39.39.9.59 1.41.59.51 0 1.02-.2 1.41-.59l7.78-7.78 2.81-2.81c.8-.78.8-2.07 0-2.86zM5.41 20L4 18.59l7.72-7.72 1.47 1.35L5.41 20z\"/>\n",
              "  </svg>\n",
              "      </button>\n",
              "      \n",
              "  <style>\n",
              "    .colab-df-container {\n",
              "      display:flex;\n",
              "      flex-wrap:wrap;\n",
              "      gap: 12px;\n",
              "    }\n",
              "\n",
              "    .colab-df-convert {\n",
              "      background-color: #E8F0FE;\n",
              "      border: none;\n",
              "      border-radius: 50%;\n",
              "      cursor: pointer;\n",
              "      display: none;\n",
              "      fill: #1967D2;\n",
              "      height: 32px;\n",
              "      padding: 0 0 0 0;\n",
              "      width: 32px;\n",
              "    }\n",
              "\n",
              "    .colab-df-convert:hover {\n",
              "      background-color: #E2EBFA;\n",
              "      box-shadow: 0px 1px 2px rgba(60, 64, 67, 0.3), 0px 1px 3px 1px rgba(60, 64, 67, 0.15);\n",
              "      fill: #174EA6;\n",
              "    }\n",
              "\n",
              "    [theme=dark] .colab-df-convert {\n",
              "      background-color: #3B4455;\n",
              "      fill: #D2E3FC;\n",
              "    }\n",
              "\n",
              "    [theme=dark] .colab-df-convert:hover {\n",
              "      background-color: #434B5C;\n",
              "      box-shadow: 0px 1px 3px 1px rgba(0, 0, 0, 0.15);\n",
              "      filter: drop-shadow(0px 1px 2px rgba(0, 0, 0, 0.3));\n",
              "      fill: #FFFFFF;\n",
              "    }\n",
              "  </style>\n",
              "\n",
              "      <script>\n",
              "        const buttonEl =\n",
              "          document.querySelector('#df-56b76f6a-84de-4c6a-830a-46033173d768 button.colab-df-convert');\n",
              "        buttonEl.style.display =\n",
              "          google.colab.kernel.accessAllowed ? 'block' : 'none';\n",
              "\n",
              "        async function convertToInteractive(key) {\n",
              "          const element = document.querySelector('#df-56b76f6a-84de-4c6a-830a-46033173d768');\n",
              "          const dataTable =\n",
              "            await google.colab.kernel.invokeFunction('convertToInteractive',\n",
              "                                                     [key], {});\n",
              "          if (!dataTable) return;\n",
              "\n",
              "          const docLinkHtml = 'Like what you see? Visit the ' +\n",
              "            '<a target=\"_blank\" href=https://colab.research.google.com/notebooks/data_table.ipynb>data table notebook</a>'\n",
              "            + ' to learn more about interactive tables.';\n",
              "          element.innerHTML = '';\n",
              "          dataTable['output_type'] = 'display_data';\n",
              "          await google.colab.output.renderOutput(dataTable, element);\n",
              "          const docLink = document.createElement('div');\n",
              "          docLink.innerHTML = docLinkHtml;\n",
              "          element.appendChild(docLink);\n",
              "        }\n",
              "      </script>\n",
              "    </div>\n",
              "  </div>\n",
              "  "
            ],
            "text/plain": [
              "    year  count\n",
              "0   2019   2153\n",
              "2   2018   1684\n",
              "3   2017   1222\n",
              "4   2016    440\n",
              "5   2021    117\n",
              "6   2015     88\n",
              "7   2014     25\n",
              "8   2011     13\n",
              "9   2013     11\n",
              "10  2012      3\n",
              "11  2008      2\n",
              "12  2009      2\n",
              "13  2010      1"
            ]
          },
          "metadata": {},
          "execution_count": 195
        }
      ]
    },
    {
      "cell_type": "code",
      "source": [
        "netflix_year2 = nf[['type','year_added']]\n",
        "movie_year = netflix_year2[netflix_year2['type']=='Movie'].year_added.value_counts().to_frame().reset_index().rename(columns={'index': 'year','year_added':'count'})\n",
        "movie_year = movie_year[movie_year.year != 2020]\n",
        "show_year = netflix_year2[netflix_year2['type']=='TV Show'].year_added.value_counts().to_frame().reset_index().rename(columns={'index': 'year','year_added':'count'})\n",
        "show_year = show_year[show_year.year != 2020]"
      ],
      "metadata": {
        "id": "Ssk_XOTrRLpv"
      },
      "execution_count": 196,
      "outputs": []
    },
    {
      "cell_type": "code",
      "source": [
        "fig, ax = plt.subplots(figsize=(10, 6))\n",
        "sns.lineplot(data=netflix_year, x='year', y='count')\n",
        "sns.lineplot(data=movie_year, x='year', y='count')\n",
        "sns.lineplot(data=show_year, x='year', y='count')\n",
        "ax.set_xticks(np.arange(2008, 2020, 1))\n",
        "plt.title(\"Total content added each year (up to 2019)\")\n",
        "plt.legend(['Total','Movie','TV Show'])\n",
        "plt.ylabel(\"Releases\")\n",
        "plt.xlabel(\"Year\")\n",
        "plt.show()"
      ],
      "metadata": {
        "colab": {
          "base_uri": "https://localhost:8080/",
          "height": 410
        },
        "id": "m-4CC2jzRLsS",
        "outputId": "bb865660-a07e-4060-e995-cec61fc97128"
      },
      "execution_count": 197,
      "outputs": [
        {
          "output_type": "display_data",
          "data": {
            "image/png": "[encoded data removed]",
            "text/plain": [
              "<Figure size 720x432 with 1 Axes>"
            ]
          },
          "metadata": {
            "needs_background": "light"
          }
        }
      ]
    },
    {
      "cell_type": "markdown",
      "source": [
        "**Observation**: Based on the above timeline, we can see that the popular streaming platform started gaining traction after 2014. Since then, the amount of content added has been tremendous. I decided to exclude content added during 2020 since the data does not include a full years worth of data. We can see that there has been a consistent growth in the number of movies on Netflix compared to shows.\n",
        "\n"
      ],
      "metadata": {
        "id": "ghkPBPnHSNHB"
      }
    },
    {
      "cell_type": "code",
      "source": [
        "month_year_df = nf.groupby('year_added')['month_added'].value_counts().unstack().fillna(0).T\n",
        "\n",
        "plt.figure(figsize=(11,8))\n",
        "sns.heatmap(month_year_df, linewidths=0.025, cmap=\"YlGnBu\")\n",
        "plt.title(\"Content Heatmap\")\n",
        "plt.ylabel(\"Month\")\n",
        "plt.xlabel(\"Year\")\n",
        "plt.show()"
      ],
      "metadata": {
        "colab": {
          "base_uri": "https://localhost:8080/",
          "height": 518
        },
        "id": "nzW4j1uTSVd-",
        "outputId": "f38a6149-ca2b-4b53-86a7-1f971b45206c"
      },
      "execution_count": 198,
      "outputs": [
        {
          "output_type": "display_data",
          "data": {
            "image/png": "[encoded data removed]",
            "text/plain": [
              "<Figure size 792x576 with 2 Axes>"
            ]
          },
          "metadata": {
            "needs_background": "light"
          }
        }
      ]
    },
    {
      "cell_type": "markdown",
      "source": [
        "In the above heatmap, we can see that around 2014 is when Netflix began to increase their content count. We can see over the years and months, Netflix continues to slowly increase the amount of content that is being added into their platform. We can see in 2020, the data stops at January since that is the latest month available in the dataset."
      ],
      "metadata": {
        "id": "10_pbL1kSfHQ"
      }
    },
    {
      "cell_type": "markdown",
      "source": [
        "**Movies added to Netflix each year**"
      ],
      "metadata": {
        "id": "1sf0A7BTQ7We"
      }
    },
    {
      "cell_type": "code",
      "source": [
        "fig = plt.figure(figsize=(15,5))\n",
        "sns.set(style='whitegrid')\n",
        "fig.set_facecolor(\"lightgrey\")\n",
        "sns.countplot(data = nf_movies,x = 'year_added',palette =\"Reds\")\n",
        "plt.title('Movies added to Netflix each year ', fontsize=14)\n",
        "plt.ylabel('No. of movies added to Netflix', fontsize=12)\n",
        "plt.xlabel('Year -> (Movies added to Netflix) ', fontsize=12)"
      ],
      "metadata": {
        "id": "9Ikj7wJ91-0O",
        "outputId": "e0ecbdc6-f8df-4f8a-a7fb-275175c4b6e4",
        "colab": {
          "base_uri": "https://localhost:8080/",
          "height": 373
        }
      },
      "execution_count": 199,
      "outputs": [
        {
          "output_type": "execute_result",
          "data": {
            "text/plain": [
              "Text(0.5, 0, 'Year -> (Movies added to Netflix) ')"
            ]
          },
          "metadata": {},
          "execution_count": 199
        },
        {
          "output_type": "display_data",
          "data": {
            "image/png": "[encoded data removed]",
            "text/plain": [
              "<Figure size 1080x360 with 1 Axes>"
            ]
          },
          "metadata": {}
        }
      ]
    },
    {
      "cell_type": "markdown",
      "source": [
        "**Observation**\n",
        "\n",
        "\n",
        "*   According to the above graph, **Netflix has started adding content since 2014**.\n",
        "\n",
        "*   The popularity of OTT has boomed in the last 5 years, so we're seeing a dramatic increase in content being added.\n",
        "\n",
        "\n",
        "*   There were 2000 (23%) Movies and TV shows added in the year 2019 (Highest until date)."
      ],
      "metadata": {
        "id": "W08Ab8X4XEUJ"
      }
    },
    {
      "cell_type": "markdown",
      "source": [
        "**Number of TV shows added to Netflix yearly**"
      ],
      "metadata": {
        "id": "wQuAfkuF4WzX"
      }
    },
    {
      "cell_type": "code",
      "source": [
        "fig = plt.figure(figsize=(15,5))\n",
        "sns.set(style='whitegrid')\n",
        "fig.set_facecolor(\"lightgrey\")\n",
        "sns.countplot(data = nf_shows,x = 'year_added',palette =\"Blues\")\n",
        "plt.title('Shows added to Netflix each year ', fontsize=14)\n",
        "plt.ylabel('No. of shows added to Netflix', fontsize=12)\n",
        "plt.xlabel('Year -> (Shows added to Netflix) ', fontsize=12)"
      ],
      "metadata": {
        "id": "b53_ha0D4cpS",
        "outputId": "ee1602f6-2330-465b-dd21-4249f0e57aa1",
        "colab": {
          "base_uri": "https://localhost:8080/",
          "height": 373
        }
      },
      "execution_count": 200,
      "outputs": [
        {
          "output_type": "execute_result",
          "data": {
            "text/plain": [
              "Text(0.5, 0, 'Year -> (Shows added to Netflix) ')"
            ]
          },
          "metadata": {},
          "execution_count": 200
        },
        {
          "output_type": "display_data",
          "data": {
            "image/png": "[encoded data removed]",
            "text/plain": [
              "<Figure size 1080x360 with 1 Axes>"
            ]
          },
          "metadata": {}
        }
      ]
    },
    {
      "cell_type": "markdown",
      "source": [
        "##**Checking number of new Contents added monthly**"
      ],
      "metadata": {
        "id": "ft-PBYOPweEL"
      }
    },
    {
      "cell_type": "code",
      "source": [
        "fig = plt.figure(figsize=(15,5))\n",
        "sns.set(style='whitegrid')\n",
        "fig.set_facecolor(\"lightgrey\")\n",
        "sns.countplot(data=nf,x = 'month_added',palette =\"Reds\")\n",
        "plt.title('Count Plot - Movies added to Netflix by month ', fontsize=14)\n",
        "plt.ylabel('\"No. of movies added to Netflix', fontsize=12)\n",
        "plt.xlabel('Month -> (Movies added to Netflix) ', fontsize=12)"
      ],
      "metadata": {
        "id": "SnLFwYC9wggN",
        "outputId": "767c26ca-4130-43ed-8eb0-cf924d923575",
        "colab": {
          "base_uri": "https://localhost:8080/",
          "height": 373
        }
      },
      "execution_count": 201,
      "outputs": [
        {
          "output_type": "execute_result",
          "data": {
            "text/plain": [
              "Text(0.5, 0, 'Month -> (Movies added to Netflix) ')"
            ]
          },
          "metadata": {},
          "execution_count": 201
        },
        {
          "output_type": "display_data",
          "data": {
            "image/png": "[encoded data removed]",
            "text/plain": [
              "<Figure size 1080x360 with 1 Axes>"
            ]
          },
          "metadata": {}
        }
      ]
    },
    {
      "cell_type": "markdown",
      "source": [
        "**Observation**\n",
        "\n",
        "\n",
        "*   Each month, we see consistent content additions"
      ],
      "metadata": {
        "id": "J-wcp_1hwoOb"
      }
    },
    {
      "cell_type": "markdown",
      "source": [
        "##<B>4.4 Movies and TV Shows Duration (Minutes and Seasons)"
      ],
      "metadata": {
        "id": "heLE4wRA6INh"
      }
    },
    {
      "cell_type": "code",
      "source": [
        "fig, ax = plt.subplots(1,2, figsize=(19, 5))\n",
        "g1 = sns.distplot(nf_movies.duration, color='skyblue',ax=ax[0]);\n",
        "g1.set_xticks(np.arange(0,360,30))\n",
        "g1.set_title(\"Duration Distribution for Netflix Movies\")\n",
        "g1.set_ylabel(\"% of All Netflix Movies\")\n",
        "g1.set_xlabel(\"Duration (minutes)\")\n",
        "g2 = sns.countplot(nf_shows.seasons, color='skyblue',ax=ax[1]);\n",
        "g2.set_title(\"Netflix TV Shows Seasons\")\n",
        "g2.set_ylabel(\"Count\")\n",
        "g2.set_xlabel(\"Season(s)\")\n",
        "fig.show()"
      ],
      "metadata": {
        "colab": {
          "base_uri": "https://localhost:8080/",
          "height": 355
        },
        "id": "hOjHM2Y4RLwM",
        "outputId": "e07a2608-b94c-427f-d45d-672523c5cceb"
      },
      "execution_count": 202,
      "outputs": [
        {
          "output_type": "display_data",
          "data": {
            "image/png": "[encoded data removed]",
            "text/plain": [
              "<Figure size 1368x360 with 2 Axes>"
            ]
          },
          "metadata": {}
        }
      ]
    },
    {
      "cell_type": "markdown",
      "source": [
        "Now we will look into the duration of Netflix films. Since movies are measured in time and shows are measured by seasons, we need to split the dataset between movies and TV shows. Above on the left, we can see that the duration for Netflix movies closely resembles a normal distribution with the average viewing time spanning about 90 minutes which seems to make sense. Netflix TV shows on the other hand seems to be heavily skewed to the right where the majority of shows only have 1 season. "
      ],
      "metadata": {
        "id": "7SxKp1-RUb1o"
      }
    },
    {
      "cell_type": "markdown",
      "source": [
        "##<B>4.5 Countries with the most content available"
      ],
      "metadata": {
        "id": "POfS2sW4xyRr"
      }
    },
    {
      "cell_type": "code",
      "source": [
        "filtered_countries = nf.set_index('title').country.str.split(', ', expand=True).stack().reset_index(level=1, drop=True);\n",
        "filtered_countries = filtered_countries[filtered_countries != 'Country Unavailable']\n",
        "\n",
        "plt.figure(figsize=(12,9))\n",
        "g = sns.countplot(y = filtered_countries, order=filtered_countries.value_counts().index[:20])\n",
        "plt.title('Top 20 Countries on Netflix')\n",
        "plt.xlabel('Titles')\n",
        "plt.ylabel('Country')\n",
        "plt.show()"
      ],
      "metadata": {
        "id": "_rvoXyj2BtOy",
        "outputId": "84d6058e-59ba-469e-b7a2-caa577ae904f",
        "colab": {
          "base_uri": "https://localhost:8080/",
          "height": 573
        }
      },
      "execution_count": 203,
      "outputs": [
        {
          "output_type": "display_data",
          "data": {
            "image/png": "[encoded data removed]",
            "text/plain": [
              "<Figure size 864x648 with 1 Axes>"
            ]
          },
          "metadata": {}
        }
      ]
    },
    {
      "cell_type": "markdown",
      "source": [
        "Now we will explore the countries with the most content on Netflix. Films typically are available in multiple countries as shown in the original dataset. Therefore, we need to seperate all countries within a film before we can analyze the data. After seperating countries and removing titles with no countries available, we can plot a Top 20 list to see which countries have the highest availability of films on Netflix. Unsurprisingly, the United States stands out on top since Netflix is an American company. India surprisingly comes in second followed by the UK and Canada. China interestingly is not even close to the top even though it has about 18% of the world's population. Reasons for this could be for political reasons and the banning of certain applications which isn't uncommon between the United States and China."
      ],
      "metadata": {
        "id": "-fnX2JlLx90x"
      }
    },
    {
      "cell_type": "markdown",
      "source": [
        "##<B>4.6 Popular Genres"
      ],
      "metadata": {
        "id": "VhtzK9NrVu7K"
      }
    },
    {
      "cell_type": "code",
      "source": [
        "filtered_genres = nf.set_index('title').genres.str.split(', ', expand=True).stack().reset_index(level=1, drop=True);\n",
        "\n",
        "plt.figure(figsize=(7,9))\n",
        "g = sns.countplot(y = filtered_genres, order=filtered_genres.value_counts().index[:20])\n",
        "plt.title('Top 20 Genres on Netflix')\n",
        "plt.xlabel('Titles')\n",
        "plt.ylabel('Genres')\n",
        "plt.show()"
      ],
      "metadata": {
        "id": "x9-rOkKzEcD_",
        "outputId": "9e354b22-65d7-4860-8159-71f61e606dba",
        "colab": {
          "base_uri": "https://localhost:8080/",
          "height": 573
        }
      },
      "execution_count": 204,
      "outputs": [
        {
          "output_type": "display_data",
          "data": {
            "image/png": "[encoded data removed]",
            "text/plain": [
              "<Figure size 504x648 with 1 Axes>"
            ]
          },
          "metadata": {}
        }
      ]
    },
    {
      "cell_type": "markdown",
      "source": [
        "In terms of genres, international movies takes the cake surprisingly followed by dramas and comedies. Even though the United States has the most content available, it looks like Netflix has decided to release a ton of international movies. The reason for this could be that most Netflix subscribers aren't actually in the United States, but rather the majority of viewers are actually international subscribers."
      ],
      "metadata": {
        "id": "AricL4RhyoUK"
      }
    },
    {
      "cell_type": "markdown",
      "source": [
        "###<B>Targets based on \"rating\"\n"
      ],
      "metadata": {
        "id": "5Yvp3CcMyvg8"
      }
    },
    {
      "cell_type": "markdown",
      "source": [
        "**Classifying the 'rating' feature into three categories. (Kids, Teenagers, Adults)**\n",
        "\n",
        "TV-Y\tKids\n",
        "\n",
        "TV-Y7\tKids\n",
        "\n",
        "TV-Y7-FV\tKids\n",
        "\n",
        "G\tKids\n",
        "\n",
        "TV-G\tKids\n",
        "\n",
        "PG\tKids\n",
        "\n",
        "TV-PG\tKids\n",
        "\n",
        "PG-13\tTeenagers\n",
        "\n",
        "TV-14\tTeenagers\n",
        "\n",
        "TV-MA\tAdults\n",
        "\n",
        "R\tAdults\n",
        "\n",
        "NC-17\tAdults\n",
        "\n",
        "NR\tAdults\n",
        "\n",
        "UR\tAdults"
      ],
      "metadata": {
        "id": "Ru4gzL7jyxsD"
      }
    },
    {
      "cell_type": "code",
      "source": [
        "custom_rating = {\n",
        "    'TV-PG': 'Older Kids',\n",
        "    'TV-MA': 'Adults',\n",
        "    'TV-Y7-FV': 'Older Kids',\n",
        "    'TV-Y7': 'Older Kids',\n",
        "    'TV-14': 'Teens',\n",
        "    'R': 'Adults',\n",
        "    'TV-Y': 'Kids',\n",
        "    'NR': 'Adults',\n",
        "    'PG-13': 'Teens',\n",
        "    'TV-G': 'Kids',\n",
        "    'PG': 'Older Kids',\n",
        "    'G': 'Kids',\n",
        "    'UR': 'Adults',\n",
        "    'NC-17': 'Adults'\n",
        "}\n",
        "\n",
        "nf['ratings_cat'] = nf['rating'].replace(to_replace = custom_rating)\n",
        "nf['ratings_cat'].unique()"
      ],
      "metadata": {
        "id": "Liy-EkDZy6fU",
        "outputId": "05907761-4633-44d6-c576-bdf8c3cf9d42",
        "colab": {
          "base_uri": "https://localhost:8080/"
        }
      },
      "execution_count": 215,
      "outputs": [
        {
          "output_type": "execute_result",
          "data": {
            "text/plain": [
              "array(['Adults', 'Teens', 'Older Kids', 'Kids', nan], dtype=object)"
            ]
          },
          "metadata": {},
          "execution_count": 215
        }
      ]
    },
    {
      "cell_type": "markdown",
      "source": [
        "**Observation:** This looks so much more clear. Using the target_ages column we can easily make out the intended audience for a particular movie!"
      ],
      "metadata": {
        "id": "LcOGUBOLzBkJ"
      }
    },
    {
      "cell_type": "markdown",
      "source": [
        "Let's fix the datatype"
      ],
      "metadata": {
        "id": "nouH49wYzJuV"
      }
    },
    {
      "cell_type": "code",
      "source": [
        "#type should be a category\n",
        "nf['type'] = pd.Categorical(nf['type'])\n",
        "\n",
        "# ratings_cat is another category (4 classes)\n",
        "nf['ratings_cat'] = pd.Categorical(nf['ratings_cat'], categories=['Kids', 'Older Kids', 'Teens', 'Adults'])\n",
        "\n",
        "# Year added should be integer so we can compare with `released_year`\n",
        "nf['year_added'] = pd.to_numeric(nf['year_added'])\n"
      ],
      "metadata": {
        "id": "_iomD_rFy8YZ"
      },
      "execution_count": 218,
      "outputs": []
    },
    {
      "cell_type": "code",
      "source": [
        "rating_replacements = {\n",
        "    67: 'TV-PG',\n",
        "    2359: 'TV-14',\n",
        "    3660: 'TV-MA',\n",
        "    3736: 'TV-MA',\n",
        "    3737: 'NR',\n",
        "    3738: 'TV-MA',\n",
        "    4323: 'TV-MA '\n",
        "}\n",
        "\n",
        "for id, rate in rating_replacements.items():\n",
        "    nf.iloc[id, 8] = rate\n",
        "    \n",
        "nf['rating'].isnull().sum()"
      ],
      "metadata": {
        "id": "8rnYjJn4zOCb",
        "outputId": "009ffe9e-a0d9-454d-8069-55fff79fbe54",
        "colab": {
          "base_uri": "https://localhost:8080/"
        }
      },
      "execution_count": 219,
      "outputs": [
        {
          "output_type": "execute_result",
          "data": {
            "text/plain": [
              "0"
            ]
          },
          "metadata": {},
          "execution_count": 219
        }
      ]
    },
    {
      "cell_type": "markdown",
      "source": [
        "**Observation:** All the missing values in the ratings column has been fixed!"
      ],
      "metadata": {
        "id": "SWS7rB4rzUo7"
      }
    },
    {
      "cell_type": "code",
      "source": [
        "# type should be a category\n",
        "nf['type'] = pd.Categorical(nf['type'])\n",
        "\n",
        "# target_ages is another category (4 classes)\n",
        "nf['ratings_cat'] = pd.Categorical(nf['ratings_cat'], categories=['Kids', 'Older Kids', 'Teens', 'Adults'])\n",
        "\n",
        "# Year added should be integer so we can compare with `released_year`\n",
        "nf['year_added'] = pd.to_numeric(nf['year_added'])"
      ],
      "metadata": {
        "id": "nFd94USVzQu-"
      },
      "execution_count": 220,
      "outputs": []
    },
    {
      "cell_type": "markdown",
      "source": [
        "**Trends Movies vs TV Shows in recent years.**"
      ],
      "metadata": {
        "id": "9Adg6Ss6zc0o"
      }
    },
    {
      "cell_type": "code",
      "source": [
        "nf_movies = nf[nf['type']=='Movie'].groupby('release_year').count()\n",
        "nf_shows = nf[nf['type']=='TV Show'].groupby('release_year').count()"
      ],
      "metadata": {
        "id": "spAW0biuzaFM"
      },
      "execution_count": 221,
      "outputs": []
    },
    {
      "cell_type": "code",
      "source": [
        "nf_movies.reset_index(level=0, inplace=True)\n",
        "nf_shows.reset_index(level=0, inplace=True)\n",
        "\n",
        "# fig = px.line(data_movie, x=\"release_year\", y=\"show_id\")\n",
        "# fig.show()\n",
        "\n",
        "fig = go.Figure()\n",
        "fig.add_trace(go.Scatter(x=nf_movies['release_year'], y=nf_movies['show_id'],\n",
        "                    mode='lines',\n",
        "                    name='Movies', marker_color='mediumpurple'))\n",
        "fig.add_trace(go.Scatter(x=nf_shows['release_year'], y=nf_shows['show_id'],\n",
        "                    mode='lines',\n",
        "                    name='TV Shows', marker_color='lightcoral'))\n",
        "fig.update_layout(title_text='Trend Movies vs TV Shows in recent years', title_x=0.5)\n",
        "fig.show()"
      ],
      "metadata": {
        "id": "f8LWOu1qzfmI",
        "outputId": "09700f4d-45bd-421d-d33b-74bb9c8ee341",
        "colab": {
          "base_uri": "https://localhost:8080/",
          "height": 542
        }
      },
      "execution_count": 222,
      "outputs": [
        {
          "output_type": "display_data",
          "data": {
            "text/html": [
              "<html>\n",
              "<head><meta charset=\"utf-8\" /></head>\n",
              "<body>\n",
              "    <div>            <script src=\"https://cdnjs.cloudflare.com/ajax/libs/mathjax/2.7.5/MathJax.js?config=TeX-AMS-MML_SVG\"></script><script type=\"text/javascript\">if (window.MathJax) {MathJax.Hub.Config({SVG: {font: \"STIX-Web\"}});}</script>                <script type=\"text/javascript\">window.PlotlyConfig = {MathJaxConfig: 'local'};</script>\n",
              "        <script src=\"https://cdn.plot.ly/plotly-2.8.3.min.js\"></script>                <div id=\"9a5b28f9-e5e1-4585-b8e3-642f1a66eb93\" class=\"plotly-graph-div\" style=\"height:525px; width:100%;\"></div>            <script type=\"text/javascript\">                                    window.PLOTLYENV=window.PLOTLYENV || {};                                    if (document.getElementById(\"9a5b28f9-e5e1-4585-b8e3-642f1a66eb93\")) {                    Plotly.newPlot(                        \"9a5b28f9-e5e1-4585-b8e3-642f1a66eb93\",                        [{\"marker\":{\"color\":\"mediumpurple\"},\"mode\":\"lines\",\"name\":\"Movies\",\"x\":[1942,1943,1944,1945,1946,1947,1954,1955,1956,1958,1959,1960,1962,1963,1964,1965,1966,1967,1968,1969,1970,1971,1972,1973,1974,1975,1976,1977,1978,1979,1980,1981,1982,1983,1984,1985,1986,1987,1988,1989,1990,1991,1992,1993,1994,1995,1996,1997,1998,1999,2000,2001,2002,2003,2004,2005,2006,2007,2008,2009,2010,2011,2012,2013,2014,2015,2016,2017,2018,2019,2020,2021],\"y\":[2,3,3,3,1,1,2,3,2,3,1,4,3,1,1,2,1,4,4,2,2,5,3,10,6,6,9,6,6,10,9,8,15,9,9,8,8,7,14,12,17,16,16,18,15,17,16,26,27,26,30,32,39,40,50,61,72,72,102,103,136,127,158,202,244,382,642,744,734,582,411,12],\"type\":\"scatter\"},{\"marker\":{\"color\":\"lightcoral\"},\"mode\":\"lines\",\"name\":\"TV Shows\",\"x\":[1925,1946,1963,1967,1968,1972,1974,1977,1979,1981,1985,1986,1988,1989,1990,1991,1992,1993,1994,1995,1996,1997,1998,1999,2000,2001,2002,2003,2004,2005,2006,2007,2008,2009,2010,2011,2012,2013,2014,2015,2016,2017,2018,2019,2020,2021],\"y\":[1,1,1,1,1,1,1,1,1,1,1,2,2,1,3,1,2,4,1,2,3,4,4,7,4,4,6,9,9,12,13,13,23,34,37,39,61,65,90,159,240,268,387,414,457,19],\"type\":\"scatter\"}],                        {\"template\":{\"data\":{\"bar\":[{\"error_x\":{\"color\":\"#2a3f5f\"},\"error_y\":{\"color\":\"#2a3f5f\"},\"marker\":{\"line\":{\"color\":\"#E5ECF6\",\"width\":0.5},\"pattern\":{\"fillmode\":\"overlay\",\"size\":10,\"solidity\":0.2}},\"type\":\"bar\"}],\"barpolar\":[{\"marker\":{\"line\":{\"color\":\"#E5ECF6\",\"width\":0.5},\"pattern\":{\"fillmode\":\"overlay\",\"size\":10,\"solidity\":0.2}},\"type\":\"barpolar\"}],\"carpet\":[{\"aaxis\":{\"endlinecolor\":\"#2a3f5f\",\"gridcolor\":\"white\",\"linecolor\":\"white\",\"minorgridcolor\":\"white\",\"startlinecolor\":\"#2a3f5f\"},\"baxis\":{\"endlinecolor\":\"#2a3f5f\",\"gridcolor\":\"white\",\"linecolor\":\"white\",\"minorgridcolor\":\"white\",\"startlinecolor\":\"#2a3f5f\"},\"type\":\"carpet\"}],\"choropleth\":[{\"colorbar\":{\"outlinewidth\":0,\"ticks\":\"\"},\"type\":\"choropleth\"}],\"contour\":[{\"colorbar\":{\"outlinewidth\":0,\"ticks\":\"\"},\"colorscale\":[[0.0,\"#0d0887\"],[0.1111111111111111,\"#46039f\"],[0.2222222222222222,\"#7201a8\"],[0.3333333333333333,\"#9c179e\"],[0.4444444444444444,\"#bd3786\"],[0.5555555555555556,\"#d8576b\"],[0.6666666666666666,\"#ed7953\"],[0.7777777777777778,\"#fb9f3a\"],[0.8888888888888888,\"#fdca26\"],[1.0,\"#f0f921\"]],\"type\":\"contour\"}],\"contourcarpet\":[{\"colorbar\":{\"outlinewidth\":0,\"ticks\":\"\"},\"type\":\"contourcarpet\"}],\"heatmap\":[{\"colorbar\":{\"outlinewidth\":0,\"ticks\":\"\"},\"colorscale\":[[0.0,\"#0d0887\"],[0.1111111111111111,\"#46039f\"],[0.2222222222222222,\"#7201a8\"],[0.3333333333333333,\"#9c179e\"],[0.4444444444444444,\"#bd3786\"],[0.5555555555555556,\"#d8576b\"],[0.6666666666666666,\"#ed7953\"],[0.7777777777777778,\"#fb9f3a\"],[0.8888888888888888,\"#fdca26\"],[1.0,\"#f0f921\"]],\"type\":\"heatmap\"}],\"heatmapgl\":[{\"colorbar\":{\"outlinewidth\":0,\"ticks\":\"\"},\"colorscale\":[[0.0,\"#0d0887\"],[0.1111111111111111,\"#46039f\"],[0.2222222222222222,\"#7201a8\"],[0.3333333333333333,\"#9c179e\"],[0.4444444444444444,\"#bd3786\"],[0.5555555555555556,\"#d8576b\"],[0.6666666666666666,\"#ed7953\"],[0.7777777777777778,\"#fb9f3a\"],[0.8888888888888888,\"#fdca26\"],[1.0,\"#f0f921\"]],\"type\":\"heatmapgl\"}],\"histogram\":[{\"marker\":{\"pattern\":{\"fillmode\":\"overlay\",\"size\":10,\"solidity\":0.2}},\"type\":\"histogram\"}],\"histogram2d\":[{\"colorbar\":{\"outlinewidth\":0,\"ticks\":\"\"},\"colorscale\":[[0.0,\"#0d0887\"],[0.1111111111111111,\"#46039f\"],[0.2222222222222222,\"#7201a8\"],[0.3333333333333333,\"#9c179e\"],[0.4444444444444444,\"#bd3786\"],[0.5555555555555556,\"#d8576b\"],[0.6666666666666666,\"#ed7953\"],[0.7777777777777778,\"#fb9f3a\"],[0.8888888888888888,\"#fdca26\"],[1.0,\"#f0f921\"]],\"type\":\"histogram2d\"}],\"histogram2dcontour\":[{\"colorbar\":{\"outlinewidth\":0,\"ticks\":\"\"},\"colorscale\":[[0.0,\"#0d0887\"],[0.1111111111111111,\"#46039f\"],[0.2222222222222222,\"#7201a8\"],[0.3333333333333333,\"#9c179e\"],[0.4444444444444444,\"#bd3786\"],[0.5555555555555556,\"#d8576b\"],[0.6666666666666666,\"#ed7953\"],[0.7777777777777778,\"#fb9f3a\"],[0.8888888888888888,\"#fdca26\"],[1.0,\"#f0f921\"]],\"type\":\"histogram2dcontour\"}],\"mesh3d\":[{\"colorbar\":{\"outlinewidth\":0,\"ticks\":\"\"},\"type\":\"mesh3d\"}],\"parcoords\":[{\"line\":{\"colorbar\":{\"outlinewidth\":0,\"ticks\":\"\"}},\"type\":\"parcoords\"}],\"pie\":[{\"automargin\":true,\"type\":\"pie\"}],\"scatter\":[{\"marker\":{\"colorbar\":{\"outlinewidth\":0,\"ticks\":\"\"}},\"type\":\"scatter\"}],\"scatter3d\":[{\"line\":{\"colorbar\":{\"outlinewidth\":0,\"ticks\":\"\"}},\"marker\":{\"colorbar\":{\"outlinewidth\":0,\"ticks\":\"\"}},\"type\":\"scatter3d\"}],\"scattercarpet\":[{\"marker\":{\"colorbar\":{\"outlinewidth\":0,\"ticks\":\"\"}},\"type\":\"scattercarpet\"}],\"scattergeo\":[{\"marker\":{\"colorbar\":{\"outlinewidth\":0,\"ticks\":\"\"}},\"type\":\"scattergeo\"}],\"scattergl\":[{\"marker\":{\"colorbar\":{\"outlinewidth\":0,\"ticks\":\"\"}},\"type\":\"scattergl\"}],\"scattermapbox\":[{\"marker\":{\"colorbar\":{\"outlinewidth\":0,\"ticks\":\"\"}},\"type\":\"scattermapbox\"}],\"scatterpolar\":[{\"marker\":{\"colorbar\":{\"outlinewidth\":0,\"ticks\":\"\"}},\"type\":\"scatterpolar\"}],\"scatterpolargl\":[{\"marker\":{\"colorbar\":{\"outlinewidth\":0,\"ticks\":\"\"}},\"type\":\"scatterpolargl\"}],\"scatterternary\":[{\"marker\":{\"colorbar\":{\"outlinewidth\":0,\"ticks\":\"\"}},\"type\":\"scatterternary\"}],\"surface\":[{\"colorbar\":{\"outlinewidth\":0,\"ticks\":\"\"},\"colorscale\":[[0.0,\"#0d0887\"],[0.1111111111111111,\"#46039f\"],[0.2222222222222222,\"#7201a8\"],[0.3333333333333333,\"#9c179e\"],[0.4444444444444444,\"#bd3786\"],[0.5555555555555556,\"#d8576b\"],[0.6666666666666666,\"#ed7953\"],[0.7777777777777778,\"#fb9f3a\"],[0.8888888888888888,\"#fdca26\"],[1.0,\"#f0f921\"]],\"type\":\"surface\"}],\"table\":[{\"cells\":{\"fill\":{\"color\":\"#EBF0F8\"},\"line\":{\"color\":\"white\"}},\"header\":{\"fill\":{\"color\":\"#C8D4E3\"},\"line\":{\"color\":\"white\"}},\"type\":\"table\"}]},\"layout\":{\"annotationdefaults\":{\"arrowcolor\":\"#2a3f5f\",\"arrowhead\":0,\"arrowwidth\":1},\"autotypenumbers\":\"strict\",\"coloraxis\":{\"colorbar\":{\"outlinewidth\":0,\"ticks\":\"\"}},\"colorscale\":{\"diverging\":[[0,\"#8e0152\"],[0.1,\"#c51b7d\"],[0.2,\"#de77ae\"],[0.3,\"#f1b6da\"],[0.4,\"#fde0ef\"],[0.5,\"#f7f7f7\"],[0.6,\"#e6f5d0\"],[0.7,\"#b8e186\"],[0.8,\"#7fbc41\"],[0.9,\"#4d9221\"],[1,\"#276419\"]],\"sequential\":[[0.0,\"#0d0887\"],[0.1111111111111111,\"#46039f\"],[0.2222222222222222,\"#7201a8\"],[0.3333333333333333,\"#9c179e\"],[0.4444444444444444,\"#bd3786\"],[0.5555555555555556,\"#d8576b\"],[0.6666666666666666,\"#ed7953\"],[0.7777777777777778,\"#fb9f3a\"],[0.8888888888888888,\"#fdca26\"],[1.0,\"#f0f921\"]],\"sequentialminus\":[[0.0,\"#0d0887\"],[0.1111111111111111,\"#46039f\"],[0.2222222222222222,\"#7201a8\"],[0.3333333333333333,\"#9c179e\"],[0.4444444444444444,\"#bd3786\"],[0.5555555555555556,\"#d8576b\"],[0.6666666666666666,\"#ed7953\"],[0.7777777777777778,\"#fb9f3a\"],[0.8888888888888888,\"#fdca26\"],[1.0,\"#f0f921\"]]},\"colorway\":[\"#636efa\",\"#EF553B\",\"#00cc96\",\"#ab63fa\",\"#FFA15A\",\"#19d3f3\",\"#FF6692\",\"#B6E880\",\"#FF97FF\",\"#FECB52\"],\"font\":{\"color\":\"#2a3f5f\"},\"geo\":{\"bgcolor\":\"white\",\"lakecolor\":\"white\",\"landcolor\":\"#E5ECF6\",\"showlakes\":true,\"showland\":true,\"subunitcolor\":\"white\"},\"hoverlabel\":{\"align\":\"left\"},\"hovermode\":\"closest\",\"mapbox\":{\"style\":\"light\"},\"paper_bgcolor\":\"white\",\"plot_bgcolor\":\"#E5ECF6\",\"polar\":{\"angularaxis\":{\"gridcolor\":\"white\",\"linecolor\":\"white\",\"ticks\":\"\"},\"bgcolor\":\"#E5ECF6\",\"radialaxis\":{\"gridcolor\":\"white\",\"linecolor\":\"white\",\"ticks\":\"\"}},\"scene\":{\"xaxis\":{\"backgroundcolor\":\"#E5ECF6\",\"gridcolor\":\"white\",\"gridwidth\":2,\"linecolor\":\"white\",\"showbackground\":true,\"ticks\":\"\",\"zerolinecolor\":\"white\"},\"yaxis\":{\"backgroundcolor\":\"#E5ECF6\",\"gridcolor\":\"white\",\"gridwidth\":2,\"linecolor\":\"white\",\"showbackground\":true,\"ticks\":\"\",\"zerolinecolor\":\"white\"},\"zaxis\":{\"backgroundcolor\":\"#E5ECF6\",\"gridcolor\":\"white\",\"gridwidth\":2,\"linecolor\":\"white\",\"showbackground\":true,\"ticks\":\"\",\"zerolinecolor\":\"white\"}},\"shapedefaults\":{\"line\":{\"color\":\"#2a3f5f\"}},\"ternary\":{\"aaxis\":{\"gridcolor\":\"white\",\"linecolor\":\"white\",\"ticks\":\"\"},\"baxis\":{\"gridcolor\":\"white\",\"linecolor\":\"white\",\"ticks\":\"\"},\"bgcolor\":\"#E5ECF6\",\"caxis\":{\"gridcolor\":\"white\",\"linecolor\":\"white\",\"ticks\":\"\"}},\"title\":{\"x\":0.05},\"xaxis\":{\"automargin\":true,\"gridcolor\":\"white\",\"linecolor\":\"white\",\"ticks\":\"\",\"title\":{\"standoff\":15},\"zerolinecolor\":\"white\",\"zerolinewidth\":2},\"yaxis\":{\"automargin\":true,\"gridcolor\":\"white\",\"linecolor\":\"white\",\"ticks\":\"\",\"title\":{\"standoff\":15},\"zerolinecolor\":\"white\",\"zerolinewidth\":2}}},\"title\":{\"text\":\"Trend Movies vs TV Shows in recent years\",\"x\":0.5}},                        {\"responsive\": true}                    ).then(function(){\n",
              "                            \n",
              "var gd = document.getElementById('9a5b28f9-e5e1-4585-b8e3-642f1a66eb93');\n",
              "var x = new MutationObserver(function (mutations, observer) {{\n",
              "        var display = window.getComputedStyle(gd).display;\n",
              "        if (!display || display === 'none') {{\n",
              "            console.log([gd, 'removed!']);\n",
              "            Plotly.purge(gd);\n",
              "            observer.disconnect();\n",
              "        }}\n",
              "}});\n",
              "\n",
              "// Listen for the removal of the full notebook cells\n",
              "var notebookContainer = gd.closest('#notebook-container');\n",
              "if (notebookContainer) {{\n",
              "    x.observe(notebookContainer, {childList: true});\n",
              "}}\n",
              "\n",
              "// Listen for the clearing of the current output cell\n",
              "var outputEl = gd.closest('.output');\n",
              "if (outputEl) {{\n",
              "    x.observe(outputEl, {childList: true});\n",
              "}}\n",
              "\n",
              "                        })                };                            </script>        </div>\n",
              "</body>\n",
              "</html>"
            ]
          },
          "metadata": {}
        }
      ]
    },
    {
      "cell_type": "markdown",
      "source": [
        "##<B>4.7 How content is distributed based on maturity level - kids, teens, and adults"
      ],
      "metadata": {
        "id": "y8nY03pdzn90"
      }
    },
    {
      "cell_type": "code",
      "source": [
        "def generate_rating_df(nf):\n",
        "    rating_df = nf.groupby(['rating', 'ratings_cat']).agg({'show_id': 'count'}).reset_index()\n",
        "    rating_df = rating_df[rating_df['show_id'] != 0]\n",
        "    rating_df.columns = ['rating', 'ratings_cat', 'counts']\n",
        "    rating_df = rating_df.sort_values('ratings_cat')\n",
        "    return rating_df\n",
        "\n",
        "\n",
        "rating_df = generate_rating_df(nf)\n",
        "fig = px.bar(rating_df, x='rating', y='counts', color='ratings_cat', title='Ratings of Movies And TV Shows Based On Target Age Groups',  labels={'counts':'COUNT', 'rating':'RATINGS', 'target_ages':'TARGET AGE GROUPS' })\n",
        "fig.show()"
      ],
      "metadata": {
        "id": "dpPGYa1OzjIS",
        "outputId": "7a6bbab8-cebf-478f-9076-901b03728ca2",
        "colab": {
          "base_uri": "https://localhost:8080/",
          "height": 542
        }
      },
      "execution_count": 223,
      "outputs": [
        {
          "output_type": "display_data",
          "data": {
            "text/html": [
              "<html>\n",
              "<head><meta charset=\"utf-8\" /></head>\n",
              "<body>\n",
              "    <div>            <script src=\"https://cdnjs.cloudflare.com/ajax/libs/mathjax/2.7.5/MathJax.js?config=TeX-AMS-MML_SVG\"></script><script type=\"text/javascript\">if (window.MathJax) {MathJax.Hub.Config({SVG: {font: \"STIX-Web\"}});}</script>                <script type=\"text/javascript\">window.PlotlyConfig = {MathJaxConfig: 'local'};</script>\n",
              "        <script src=\"https://cdn.plot.ly/plotly-2.8.3.min.js\"></script>                <div id=\"35708843-9b61-46c7-85e2-dd36a419ce52\" class=\"plotly-graph-div\" style=\"height:525px; width:100%;\"></div>            <script type=\"text/javascript\">                                    window.PLOTLYENV=window.PLOTLYENV || {};                                    if (document.getElementById(\"35708843-9b61-46c7-85e2-dd36a419ce52\")) {                    Plotly.newPlot(                        \"35708843-9b61-46c7-85e2-dd36a419ce52\",                        [{\"alignmentgroup\":\"True\",\"hovertemplate\":\"ratings_cat=Kids<br>RATINGS=%{x}<br>COUNT=%{y}<extra></extra>\",\"legendgroup\":\"Kids\",\"marker\":{\"color\":\"#636efa\",\"pattern\":{\"shape\":\"\"}},\"name\":\"Kids\",\"offsetgroup\":\"Kids\",\"orientation\":\"v\",\"showlegend\":true,\"textposition\":\"auto\",\"x\":[\"G\",\"TV-G\",\"TV-Y\"],\"xaxis\":\"x\",\"y\":[39,194,280],\"yaxis\":\"y\",\"type\":\"bar\"},{\"alignmentgroup\":\"True\",\"hovertemplate\":\"ratings_cat=Older Kids<br>RATINGS=%{x}<br>COUNT=%{y}<extra></extra>\",\"legendgroup\":\"Older Kids\",\"marker\":{\"color\":\"#EF553B\",\"pattern\":{\"shape\":\"\"}},\"name\":\"Older Kids\",\"offsetgroup\":\"Older Kids\",\"orientation\":\"v\",\"showlegend\":true,\"textposition\":\"auto\",\"x\":[\"PG\",\"TV-PG\",\"TV-Y7\",\"TV-Y7-FV\"],\"xaxis\":\"x\",\"y\":[247,806,271,6],\"yaxis\":\"y\",\"type\":\"bar\"},{\"alignmentgroup\":\"True\",\"hovertemplate\":\"ratings_cat=Teens<br>RATINGS=%{x}<br>COUNT=%{y}<extra></extra>\",\"legendgroup\":\"Teens\",\"marker\":{\"color\":\"#00cc96\",\"pattern\":{\"shape\":\"\"}},\"name\":\"Teens\",\"offsetgroup\":\"Teens\",\"orientation\":\"v\",\"showlegend\":true,\"textposition\":\"auto\",\"x\":[\"PG-13\",\"TV-14\"],\"xaxis\":\"x\",\"y\":[386,1931],\"yaxis\":\"y\",\"type\":\"bar\"},{\"alignmentgroup\":\"True\",\"hovertemplate\":\"ratings_cat=Adults<br>RATINGS=%{x}<br>COUNT=%{y}<extra></extra>\",\"legendgroup\":\"Adults\",\"marker\":{\"color\":\"#ab63fa\",\"pattern\":{\"shape\":\"\"}},\"name\":\"Adults\",\"offsetgroup\":\"Adults\",\"orientation\":\"v\",\"showlegend\":true,\"textposition\":\"auto\",\"x\":[\"NC-17\",\"NR\",\"R\",\"TV-MA\",\"UR\"],\"xaxis\":\"x\",\"y\":[3,84,665,2863,5],\"yaxis\":\"y\",\"type\":\"bar\"}],                        {\"template\":{\"data\":{\"bar\":[{\"error_x\":{\"color\":\"#2a3f5f\"},\"error_y\":{\"color\":\"#2a3f5f\"},\"marker\":{\"line\":{\"color\":\"#E5ECF6\",\"width\":0.5},\"pattern\":{\"fillmode\":\"overlay\",\"size\":10,\"solidity\":0.2}},\"type\":\"bar\"}],\"barpolar\":[{\"marker\":{\"line\":{\"color\":\"#E5ECF6\",\"width\":0.5},\"pattern\":{\"fillmode\":\"overlay\",\"size\":10,\"solidity\":0.2}},\"type\":\"barpolar\"}],\"carpet\":[{\"aaxis\":{\"endlinecolor\":\"#2a3f5f\",\"gridcolor\":\"white\",\"linecolor\":\"white\",\"minorgridcolor\":\"white\",\"startlinecolor\":\"#2a3f5f\"},\"baxis\":{\"endlinecolor\":\"#2a3f5f\",\"gridcolor\":\"white\",\"linecolor\":\"white\",\"minorgridcolor\":\"white\",\"startlinecolor\":\"#2a3f5f\"},\"type\":\"carpet\"}],\"choropleth\":[{\"colorbar\":{\"outlinewidth\":0,\"ticks\":\"\"},\"type\":\"choropleth\"}],\"contour\":[{\"colorbar\":{\"outlinewidth\":0,\"ticks\":\"\"},\"colorscale\":[[0.0,\"#0d0887\"],[0.1111111111111111,\"#46039f\"],[0.2222222222222222,\"#7201a8\"],[0.3333333333333333,\"#9c179e\"],[0.4444444444444444,\"#bd3786\"],[0.5555555555555556,\"#d8576b\"],[0.6666666666666666,\"#ed7953\"],[0.7777777777777778,\"#fb9f3a\"],[0.8888888888888888,\"#fdca26\"],[1.0,\"#f0f921\"]],\"type\":\"contour\"}],\"contourcarpet\":[{\"colorbar\":{\"outlinewidth\":0,\"ticks\":\"\"},\"type\":\"contourcarpet\"}],\"heatmap\":[{\"colorbar\":{\"outlinewidth\":0,\"ticks\":\"\"},\"colorscale\":[[0.0,\"#0d0887\"],[0.1111111111111111,\"#46039f\"],[0.2222222222222222,\"#7201a8\"],[0.3333333333333333,\"#9c179e\"],[0.4444444444444444,\"#bd3786\"],[0.5555555555555556,\"#d8576b\"],[0.6666666666666666,\"#ed7953\"],[0.7777777777777778,\"#fb9f3a\"],[0.8888888888888888,\"#fdca26\"],[1.0,\"#f0f921\"]],\"type\":\"heatmap\"}],\"heatmapgl\":[{\"colorbar\":{\"outlinewidth\":0,\"ticks\":\"\"},\"colorscale\":[[0.0,\"#0d0887\"],[0.1111111111111111,\"#46039f\"],[0.2222222222222222,\"#7201a8\"],[0.3333333333333333,\"#9c179e\"],[0.4444444444444444,\"#bd3786\"],[0.5555555555555556,\"#d8576b\"],[0.6666666666666666,\"#ed7953\"],[0.7777777777777778,\"#fb9f3a\"],[0.8888888888888888,\"#fdca26\"],[1.0,\"#f0f921\"]],\"type\":\"heatmapgl\"}],\"histogram\":[{\"marker\":{\"pattern\":{\"fillmode\":\"overlay\",\"size\":10,\"solidity\":0.2}},\"type\":\"histogram\"}],\"histogram2d\":[{\"colorbar\":{\"outlinewidth\":0,\"ticks\":\"\"},\"colorscale\":[[0.0,\"#0d0887\"],[0.1111111111111111,\"#46039f\"],[0.2222222222222222,\"#7201a8\"],[0.3333333333333333,\"#9c179e\"],[0.4444444444444444,\"#bd3786\"],[0.5555555555555556,\"#d8576b\"],[0.6666666666666666,\"#ed7953\"],[0.7777777777777778,\"#fb9f3a\"],[0.8888888888888888,\"#fdca26\"],[1.0,\"#f0f921\"]],\"type\":\"histogram2d\"}],\"histogram2dcontour\":[{\"colorbar\":{\"outlinewidth\":0,\"ticks\":\"\"},\"colorscale\":[[0.0,\"#0d0887\"],[0.1111111111111111,\"#46039f\"],[0.2222222222222222,\"#7201a8\"],[0.3333333333333333,\"#9c179e\"],[0.4444444444444444,\"#bd3786\"],[0.5555555555555556,\"#d8576b\"],[0.6666666666666666,\"#ed7953\"],[0.7777777777777778,\"#fb9f3a\"],[0.8888888888888888,\"#fdca26\"],[1.0,\"#f0f921\"]],\"type\":\"histogram2dcontour\"}],\"mesh3d\":[{\"colorbar\":{\"outlinewidth\":0,\"ticks\":\"\"},\"type\":\"mesh3d\"}],\"parcoords\":[{\"line\":{\"colorbar\":{\"outlinewidth\":0,\"ticks\":\"\"}},\"type\":\"parcoords\"}],\"pie\":[{\"automargin\":true,\"type\":\"pie\"}],\"scatter\":[{\"marker\":{\"colorbar\":{\"outlinewidth\":0,\"ticks\":\"\"}},\"type\":\"scatter\"}],\"scatter3d\":[{\"line\":{\"colorbar\":{\"outlinewidth\":0,\"ticks\":\"\"}},\"marker\":{\"colorbar\":{\"outlinewidth\":0,\"ticks\":\"\"}},\"type\":\"scatter3d\"}],\"scattercarpet\":[{\"marker\":{\"colorbar\":{\"outlinewidth\":0,\"ticks\":\"\"}},\"type\":\"scattercarpet\"}],\"scattergeo\":[{\"marker\":{\"colorbar\":{\"outlinewidth\":0,\"ticks\":\"\"}},\"type\":\"scattergeo\"}],\"scattergl\":[{\"marker\":{\"colorbar\":{\"outlinewidth\":0,\"ticks\":\"\"}},\"type\":\"scattergl\"}],\"scattermapbox\":[{\"marker\":{\"colorbar\":{\"outlinewidth\":0,\"ticks\":\"\"}},\"type\":\"scattermapbox\"}],\"scatterpolar\":[{\"marker\":{\"colorbar\":{\"outlinewidth\":0,\"ticks\":\"\"}},\"type\":\"scatterpolar\"}],\"scatterpolargl\":[{\"marker\":{\"colorbar\":{\"outlinewidth\":0,\"ticks\":\"\"}},\"type\":\"scatterpolargl\"}],\"scatterternary\":[{\"marker\":{\"colorbar\":{\"outlinewidth\":0,\"ticks\":\"\"}},\"type\":\"scatterternary\"}],\"surface\":[{\"colorbar\":{\"outlinewidth\":0,\"ticks\":\"\"},\"colorscale\":[[0.0,\"#0d0887\"],[0.1111111111111111,\"#46039f\"],[0.2222222222222222,\"#7201a8\"],[0.3333333333333333,\"#9c179e\"],[0.4444444444444444,\"#bd3786\"],[0.5555555555555556,\"#d8576b\"],[0.6666666666666666,\"#ed7953\"],[0.7777777777777778,\"#fb9f3a\"],[0.8888888888888888,\"#fdca26\"],[1.0,\"#f0f921\"]],\"type\":\"surface\"}],\"table\":[{\"cells\":{\"fill\":{\"color\":\"#EBF0F8\"},\"line\":{\"color\":\"white\"}},\"header\":{\"fill\":{\"color\":\"#C8D4E3\"},\"line\":{\"color\":\"white\"}},\"type\":\"table\"}]},\"layout\":{\"annotationdefaults\":{\"arrowcolor\":\"#2a3f5f\",\"arrowhead\":0,\"arrowwidth\":1},\"autotypenumbers\":\"strict\",\"coloraxis\":{\"colorbar\":{\"outlinewidth\":0,\"ticks\":\"\"}},\"colorscale\":{\"diverging\":[[0,\"#8e0152\"],[0.1,\"#c51b7d\"],[0.2,\"#de77ae\"],[0.3,\"#f1b6da\"],[0.4,\"#fde0ef\"],[0.5,\"#f7f7f7\"],[0.6,\"#e6f5d0\"],[0.7,\"#b8e186\"],[0.8,\"#7fbc41\"],[0.9,\"#4d9221\"],[1,\"#276419\"]],\"sequential\":[[0.0,\"#0d0887\"],[0.1111111111111111,\"#46039f\"],[0.2222222222222222,\"#7201a8\"],[0.3333333333333333,\"#9c179e\"],[0.4444444444444444,\"#bd3786\"],[0.5555555555555556,\"#d8576b\"],[0.6666666666666666,\"#ed7953\"],[0.7777777777777778,\"#fb9f3a\"],[0.8888888888888888,\"#fdca26\"],[1.0,\"#f0f921\"]],\"sequentialminus\":[[0.0,\"#0d0887\"],[0.1111111111111111,\"#46039f\"],[0.2222222222222222,\"#7201a8\"],[0.3333333333333333,\"#9c179e\"],[0.4444444444444444,\"#bd3786\"],[0.5555555555555556,\"#d8576b\"],[0.6666666666666666,\"#ed7953\"],[0.7777777777777778,\"#fb9f3a\"],[0.8888888888888888,\"#fdca26\"],[1.0,\"#f0f921\"]]},\"colorway\":[\"#636efa\",\"#EF553B\",\"#00cc96\",\"#ab63fa\",\"#FFA15A\",\"#19d3f3\",\"#FF6692\",\"#B6E880\",\"#FF97FF\",\"#FECB52\"],\"font\":{\"color\":\"#2a3f5f\"},\"geo\":{\"bgcolor\":\"white\",\"lakecolor\":\"white\",\"landcolor\":\"#E5ECF6\",\"showlakes\":true,\"showland\":true,\"subunitcolor\":\"white\"},\"hoverlabel\":{\"align\":\"left\"},\"hovermode\":\"closest\",\"mapbox\":{\"style\":\"light\"},\"paper_bgcolor\":\"white\",\"plot_bgcolor\":\"#E5ECF6\",\"polar\":{\"angularaxis\":{\"gridcolor\":\"white\",\"linecolor\":\"white\",\"ticks\":\"\"},\"bgcolor\":\"#E5ECF6\",\"radialaxis\":{\"gridcolor\":\"white\",\"linecolor\":\"white\",\"ticks\":\"\"}},\"scene\":{\"xaxis\":{\"backgroundcolor\":\"#E5ECF6\",\"gridcolor\":\"white\",\"gridwidth\":2,\"linecolor\":\"white\",\"showbackground\":true,\"ticks\":\"\",\"zerolinecolor\":\"white\"},\"yaxis\":{\"backgroundcolor\":\"#E5ECF6\",\"gridcolor\":\"white\",\"gridwidth\":2,\"linecolor\":\"white\",\"showbackground\":true,\"ticks\":\"\",\"zerolinecolor\":\"white\"},\"zaxis\":{\"backgroundcolor\":\"#E5ECF6\",\"gridcolor\":\"white\",\"gridwidth\":2,\"linecolor\":\"white\",\"showbackground\":true,\"ticks\":\"\",\"zerolinecolor\":\"white\"}},\"shapedefaults\":{\"line\":{\"color\":\"#2a3f5f\"}},\"ternary\":{\"aaxis\":{\"gridcolor\":\"white\",\"linecolor\":\"white\",\"ticks\":\"\"},\"baxis\":{\"gridcolor\":\"white\",\"linecolor\":\"white\",\"ticks\":\"\"},\"bgcolor\":\"#E5ECF6\",\"caxis\":{\"gridcolor\":\"white\",\"linecolor\":\"white\",\"ticks\":\"\"}},\"title\":{\"x\":0.05},\"xaxis\":{\"automargin\":true,\"gridcolor\":\"white\",\"linecolor\":\"white\",\"ticks\":\"\",\"title\":{\"standoff\":15},\"zerolinecolor\":\"white\",\"zerolinewidth\":2},\"yaxis\":{\"automargin\":true,\"gridcolor\":\"white\",\"linecolor\":\"white\",\"ticks\":\"\",\"title\":{\"standoff\":15},\"zerolinecolor\":\"white\",\"zerolinewidth\":2}}},\"xaxis\":{\"anchor\":\"y\",\"domain\":[0.0,1.0],\"title\":{\"text\":\"RATINGS\"}},\"yaxis\":{\"anchor\":\"x\",\"domain\":[0.0,1.0],\"title\":{\"text\":\"COUNT\"}},\"legend\":{\"title\":{\"text\":\"ratings_cat\"},\"tracegroupgap\":0},\"title\":{\"text\":\"Ratings of Movies And TV Shows Based On Target Age Groups\"},\"barmode\":\"relative\"},                        {\"responsive\": true}                    ).then(function(){\n",
              "                            \n",
              "var gd = document.getElementById('35708843-9b61-46c7-85e2-dd36a419ce52');\n",
              "var x = new MutationObserver(function (mutations, observer) {{\n",
              "        var display = window.getComputedStyle(gd).display;\n",
              "        if (!display || display === 'none') {{\n",
              "            console.log([gd, 'removed!']);\n",
              "            Plotly.purge(gd);\n",
              "            observer.disconnect();\n",
              "        }}\n",
              "}});\n",
              "\n",
              "// Listen for the removal of the full notebook cells\n",
              "var notebookContainer = gd.closest('#notebook-container');\n",
              "if (notebookContainer) {{\n",
              "    x.observe(notebookContainer, {childList: true});\n",
              "}}\n",
              "\n",
              "// Listen for the clearing of the current output cell\n",
              "var outputEl = gd.closest('.output');\n",
              "if (outputEl) {{\n",
              "    x.observe(outputEl, {childList: true});\n",
              "}}\n",
              "\n",
              "                        })                };                            </script>        </div>\n",
              "</body>\n",
              "</html>"
            ]
          },
          "metadata": {}
        }
      ]
    },
    {
      "cell_type": "code",
      "source": [
        "nf_shows = nf[nf[\"type\"] == \"TV Show\"]\n",
        "nf_movies = nf[nf[\"type\"] == \"Movie\"]"
      ],
      "metadata": {
        "id": "T5DSR9fLzrY5"
      },
      "execution_count": 224,
      "outputs": []
    },
    {
      "cell_type": "code",
      "source": [
        "rating_order_movie =  ['G', 'TV-Y', 'TV-G', 'PG', 'TV-Y7', 'TV-Y7-FV', 'TV-PG', 'PG-13', 'TV-14', 'R', 'NC-17', 'TV-MA']\n",
        "rating_order_tv =  [ 'TV-Y', 'TV-G', 'TV-Y7', 'TV-Y7-FV', 'TV-PG', 'TV-14', 'R', 'TV-MA']\n",
        "movie_rating = nf_movies['rating'].value_counts()[rating_order_movie]\n",
        "tv_rating = nf_shows['rating'].value_counts()[rating_order_tv].fillna(0)\n",
        "def rating_barplot(data, title, height, h_lim=None):\n",
        "    fig, ax = plt.subplots(1,1, figsize=(15, 7))\n",
        "    if h_lim :\n",
        "        ax.set_ylim(0, h_lim)\n",
        "    ax.bar(data.index, data,  color=\"#d0d0d0\", width=0.6, edgecolor='black')\n",
        "\n",
        "    color =  ['green',  'blue',  'orange',  'red']\n",
        "    span_range = [[0, 2], [3,  6], [7, 8], [9, 11]]\n",
        "\n",
        "    for idx, sub_title in enumerate(['Little Kids', 'Older Kids', 'Teens', 'Mature']):\n",
        "        ax.annotate(sub_title,\n",
        "                    xy=(sum(span_range[idx])/2 ,height),\n",
        "                    xytext=(0,0), textcoords='offset points',\n",
        "                    va=\"center\", ha=\"center\",\n",
        "                    color=\"w\", fontsize=16, fontweight='bold',\n",
        "                    bbox=dict(boxstyle='round4', pad=0.4, color=color[idx], alpha=0.6))\n",
        "        ax.axvspan(span_range[idx][0]-0.4,span_range[idx][1]+0.4,  color=color[idx], alpha=0.1)\n",
        "\n",
        "    ax.set_title(f'Distribution of {title} Rating', fontsize=20, fontweight='bold', position=(0.5, 1.0+0.03))\n",
        "    plt.show()"
      ],
      "metadata": {
        "id": "-Ctj4FV7zvUt"
      },
      "execution_count": 225,
      "outputs": []
    },
    {
      "cell_type": "code",
      "source": [
        "rating_barplot(movie_rating,'Movie', 1500)"
      ],
      "metadata": {
        "id": "mcuQog-tzyUo",
        "outputId": "047da312-4666-4414-813c-36bde0f6da8f",
        "colab": {
          "base_uri": "https://localhost:8080/",
          "height": 463
        }
      },
      "execution_count": 226,
      "outputs": [
        {
          "output_type": "display_data",
          "data": {
            "image/png": "[encoded data removed]",
            "text/plain": [
              "<Figure size 1080x504 with 1 Axes>"
            ]
          },
          "metadata": {}
        }
      ]
    },
    {
      "cell_type": "markdown",
      "source": [
        "**Observation:**There's less movies for the kids while more for teens and adults."
      ],
      "metadata": {
        "id": "5zE3G7u2z5jF"
      }
    },
    {
      "cell_type": "code",
      "source": [
        "rating_barplot(tv_rating,'TV Show' , 600, 1500)"
      ],
      "metadata": {
        "id": "NwoHq2Qsz1lP",
        "outputId": "21dee717-0c15-4b66-82ed-397cdc147bfc",
        "colab": {
          "base_uri": "https://localhost:8080/",
          "height": 463
        }
      },
      "execution_count": 227,
      "outputs": [
        {
          "output_type": "display_data",
          "data": {
            "image/png": "[encoded data removed]",
            "text/plain": [
              "<Figure size 1080x504 with 1 Axes>"
            ]
          },
          "metadata": {}
        }
      ]
    },
    {
      "cell_type": "markdown",
      "source": [
        "**Observation:**TV Shows are more for the kids and teens."
      ],
      "metadata": {
        "id": "N0OWxxmm0G84"
      }
    },
    {
      "cell_type": "markdown",
      "source": [
        "##<B>4.8 Distribution of Release Type"
      ],
      "metadata": {
        "id": "3ZuTZ7Dw67WS"
      }
    },
    {
      "cell_type": "code",
      "source": [
        "def release(release_date):\n",
        "    if 1960<=release_date<=1990:\n",
        "        return 'Very old'\n",
        "    elif 1990<release_date<= 2000:\n",
        "        return 'Old'\n",
        "    elif 2000<release_date<=2015:\n",
        "        return 'Early 21st century'\n",
        "    elif 2015<release_date<=2021:\n",
        "        return 'New'\n",
        "    else:\n",
        "        return None\n",
        "nf['Movie Release type']=nf['release_year'].apply(release)"
      ],
      "metadata": {
        "id": "N8z3NtX447AK"
      },
      "execution_count": 228,
      "outputs": []
    },
    {
      "cell_type": "code",
      "source": [
        "t=nf.groupby('Movie Release type').type.value_counts()"
      ],
      "metadata": {
        "id": "en1nnhOW7JV9"
      },
      "execution_count": 229,
      "outputs": []
    },
    {
      "cell_type": "code",
      "source": [
        "sns.countplot(nf['Movie Release type'][:],hue=nf['type'],color='grey')"
      ],
      "metadata": {
        "id": "g75xMASt7N9d",
        "outputId": "7fe77e9f-c756-46d4-e646-ae1ba7e8c838",
        "colab": {
          "base_uri": "https://localhost:8080/",
          "height": 302
        }
      },
      "execution_count": 230,
      "outputs": [
        {
          "output_type": "execute_result",
          "data": {
            "text/plain": [
              "<matplotlib.axes._subplots.AxesSubplot at 0x7f2f4e5a74d0>"
            ]
          },
          "metadata": {},
          "execution_count": 230
        },
        {
          "output_type": "display_data",
          "data": {
            "image/png": "[encoded data removed]",
            "text/plain": [
              "<Figure size 432x288 with 1 Axes>"
            ]
          },
          "metadata": {}
        }
      ]
    },
    {
      "cell_type": "markdown",
      "source": [
        "##<B> 4.9 Using a map to visualise the spread of Netflix around the world.\n",
        "\n"
      ],
      "metadata": {
        "id": "FkLKuNB8Ai1m"
      }
    },
    {
      "cell_type": "code",
      "source": [
        "import plotly.express as px\n",
        "pxdf = px.data.gapminder()\n",
        "\n",
        "country_isoAlpha = pxdf[['country', 'iso_alpha']].drop_duplicates()\n",
        "country_isoAlpha.set_index('country', inplace=True)\n",
        "country_map = country_isoAlpha.to_dict('index')"
      ],
      "metadata": {
        "id": "9RzfRxZU_4ig"
      },
      "execution_count": 231,
      "outputs": []
    },
    {
      "cell_type": "code",
      "source": [
        "def getCountryIsoAlpha(country):\n",
        "    try:\n",
        "        return country_map[country]['iso_alpha']\n",
        "    except:\n",
        "        return country\n",
        "nf['iso_alpha'] = nf['country'].apply(getCountryIsoAlpha)\n"
      ],
      "metadata": {
        "id": "Wl4cUEnw_6AV"
      },
      "execution_count": 232,
      "outputs": []
    },
    {
      "cell_type": "code",
      "source": [
        "nf_plot = nf.groupby('iso_alpha').count().reset_index()\n",
        "fig = px.choropleth(nf_plot, locations=\"iso_alpha\",\n",
        "                    color=\"show_id\", \n",
        "                    hover_name=\"iso_alpha\", # column to add to hover information\n",
        "                    color_continuous_scale=px.colors.sequential.Plasma)\n",
        "fig.show()\n",
        "nf.drop('iso_alpha', axis=1, inplace=True)"
      ],
      "metadata": {
        "id": "5unMglTXAIei",
        "outputId": "ef8e0382-440e-4655-dc77-659190388dd2",
        "colab": {
          "base_uri": "https://localhost:8080/",
          "height": 542
        }
      },
      "execution_count": 233,
      "outputs": [
        {
          "output_type": "display_data",
          "data": {
            "text/html": [
              "<html>\n",
              "<head><meta charset=\"utf-8\" /></head>\n",
              "<body>\n",
              "    <div>            <script src=\"https://cdnjs.cloudflare.com/ajax/libs/mathjax/2.7.5/MathJax.js?config=TeX-AMS-MML_SVG\"></script><script type=\"text/javascript\">if (window.MathJax) {MathJax.Hub.Config({SVG: {font: \"STIX-Web\"}});}</script>                <script type=\"text/javascript\">window.PlotlyConfig = {MathJaxConfig: 'local'};</script>\n",
              "        <script src=\"https://cdn.plot.ly/plotly-2.8.3.min.js\"></script>                <div id=\"72fdaf8d-dc3c-4b10-b328-ea176d0582df\" class=\"plotly-graph-div\" style=\"height:525px; width:100%;\"></div>            <script type=\"text/javascript\">                                    window.PLOTLYENV=window.PLOTLYENV || {};                                    if (document.getElementById(\"72fdaf8d-dc3c-4b10-b328-ea176d0582df\")) {                    Plotly.newPlot(                        \"72fdaf8d-dc3c-4b10-b328-ea176d0582df\",                        [{\"coloraxis\":\"coloraxis\",\"geo\":\"geo\",\"hovertemplate\":\"<b>%{hovertext}</b><br><br>iso_alpha=%{location}<br>show_id=%{z}<extra></extra>\",\"hovertext\":[\"ARG\",\"AUS\",\"AUT\",\"Argentina, Brazil, France, Poland, Germany, Denmark\",\"Argentina, Chile\",\"Argentina, Chile, Peru\",\"Argentina, France\",\"Argentina, France, United States, Germany, Qatar\",\"Argentina, Italy\",\"Argentina, Spain\",\"Argentina, United States\",\"Argentina, United States, Mexico\",\"Argentina, Uruguay, Serbia\",\"Argentina, Uruguay, Spain, France\",\"Australia, Armenia, Japan, Jordan, Mexico, Mongolia, New Zealand, Philippines, South Africa, Sweden, United States, Uruguay\",\"Australia, Canada\",\"Australia, France\",\"Australia, France, Ireland\",\"Australia, India\",\"Australia, Iraq\",\"Australia, New Zealand\",\"Australia, New Zealand, United States\",\"Australia, United Arab Emirates\",\"Australia, United Kingdom\",\"Australia, United Kingdom, Canada\",\"Australia, United Kingdom, United Arab Emirates, Canada\",\"Australia, United Kingdom, United States, New Zealand, Italy, France\",\"Australia, United States\",\"Austria, Czech Republic\",\"Austria, Germany\",\"Austria, Iraq, United States\",\"Austria, United States\",\"BEL\",\"BGD\",\"BGR\",\"BRA\",\"Belarus\",\"Belgium, France\",\"Belgium, Ireland, Netherlands, Germany, Afghanistan\",\"Belgium, Netherlands\",\"Belgium, United Kingdom, United States\",\"Brazil, France\",\"Brazil, France, Germany\",\"Brazil, India, China, United States\",\"Brazil, Netherlands, United States, Colombia, Austria, Germany\",\"Brazil, United Kingdom\",\"Brazil, United States\",\"Bulgaria, United States\",\"Bulgaria, United States, Spain, Canada\",\"CAN\",\"CHE\",\"CHL\",\"CHN\",\"COL\",\"Cambodia, United States\",\"Canada, Australia\",\"Canada, Belgium\",\"Canada, Brazil\",\"Canada, France\",\"Canada, France, Italy, Morocco, United States\",\"Canada, France, United States\",\"Canada, Germany\",\"Canada, Germany, France, United States\",\"Canada, Germany, South Africa\",\"Canada, Hungary, United States\",\"Canada, India\",\"Canada, India, Thailand, United States, United Arab Emirates\",\"Canada, Ireland, United States\",\"Canada, Japan, Netherlands\",\"Canada, Japan, United States\",\"Canada, Luxembourg\",\"Canada, Mexico, Germany, South Africa\",\"Canada, Nigeria\",\"Canada, Norway\",\"Canada, South Africa\",\"Canada, South Korea, United States\",\"Canada, Spain\",\"Canada, Spain, France\",\"Canada, United Kingdom\",\"Canada, United Kingdom, Netherlands\",\"Canada, United Kingdom, United States\",\"Canada, United States\",\"Canada, United States, Cayman Islands\",\"Canada, United States, France\",\"Canada, United States, Germany\",\"Canada, United States, India, United Kingdom\",\"Canada, United States, Ireland\",\"Canada, United States, United Kingdom\",\"Canada, United States, United Kingdom, France, Luxembourg\",\"Chile, Argentina\",\"Chile, Argentina, France, Spain, United States\",\"Chile, France\",\"Chile, Italy\",\"Chile, Peru\",\"Chile, Spain, Argentina, Germany\",\"Chile, United States, France\",\"China, Canada, United States\",\"China, Germany, India, United States\",\"China, Hong Kong\",\"China, Hong Kong, United States\",\"China, India, Nepal\",\"China, Japan\",\"China, Morocco, Hong Kong\",\"China, South Korea, United States\",\"China, Spain, South Korea, United States\",\"China, Taiwan\",\"China, United Kingdom\",\"China, United States\",\"China, United States, Australia\",\"China, United States, United Kingdom\",\"Colombia, Mexico\",\"Colombia, Mexico, United States\",\"Colombia, Peru, United Kingdom\",\"Colombia, United States\",\"Croatia, Slovenia, Serbia, Montenegro\",\"Cyprus\",\"Czech Republic, France\",\"Czech Republic, Slovakia\",\"Czech Republic, United Kingdom, France\",\"Czech Republic, United States\",\"DEU\",\"DNK\",\"Denmark, Brazil, France, Portugal, Sweden\",\"Denmark, China\",\"Denmark, France, Belgium, Italy, Netherlands, United States, United Kingdom\",\"Denmark, France, Poland\",\"Denmark, France, United States, Sweden\",\"Denmark, Germany, Belgium, United Kingdom, France\",\"Denmark, Germany, Belgium, United Kingdom, France, Sweden\",\"Denmark, Indonesia, Finland, Norway, United Kingdom, Israel, France, United States, Germany, Netherlands\",\"Denmark, Singapore, Canada, United States\",\"Denmark, Spain\",\"Denmark, Sweden, Israel, United States\",\"Denmark, United Kingdom, South Africa, Sweden, Belgium\",\"Denmark, United Kingdom, Sweden\",\"Denmark, United States\",\"Denmark, Zimbabwe\",\"EGY\",\"ESP\",\"Egypt, Algeria\",\"Egypt, Austria, United States\",\"Egypt, France\",\"FIN\",\"FRA\",\"Finland, France\",\"Finland, Germany\",\"Finland, Germany, Belgium\",\"Finland, Sweden, Norway, Latvia, Germany\",\"Finland, United States\",\"France, Algeria\",\"France, Australia, Germany\",\"France, Belgium\",\"France, Belgium, China, United States\",\"France, Belgium, Italy\",\"France, Belgium, Luxembourg, Cambodia,\",\"France, Belgium, Luxembourg, Romania, Canada, United States\",\"France, Belgium, Spain\",\"France, Belgium, United States\",\"France, Brazil, Spain, Belgium\",\"France, Canada\",\"France, Canada, Belgium\",\"France, Canada, China, Cambodia\",\"France, Canada, Italy, United States, China\",\"France, Canada, United States\",\"France, China, Japan, United States\",\"France, Egypt\",\"France, Germany\",\"France, Germany, Czech Republic, Belgium\",\"France, Germany, Switzerland\",\"France, Iran, United States\",\"France, Japan\",\"France, Japan, United States\",\"France, Lebanon\",\"France, Lebanon, United Kingdom\",\"France, Luxembourg, Canada\",\"France, Luxembourg, United States\",\"France, Malta, United States\",\"France, Morocco\",\"France, Netherlands, Singapore\",\"France, Netherlands, South Africa, Finland\",\"France, New Zealand\",\"France, Norway, Lebanon, Belgium\",\"France, Qatar\",\"France, Senegal, Belgium\",\"France, South Korea, Japan\",\"France, Switzerland, Spain, United States, United Arab Emirates\",\"France, United Kingdom\",\"France, United Kingdom, India\",\"France, United Kingdom, United States\",\"France, United States\",\"France, United States, Canada\",\"France, United States, Mexico\",\"GBR\",\"GHA\",\"GTM\",\"Georgia\",\"Georgia, Germany, France\",\"Germany, Australia\",\"Germany, Australia, France, China\",\"Germany, Belgium\",\"Germany, Canada, United States\",\"Germany, China, United Kingdom\",\"Germany, Czech Republic\",\"Germany, France, Luxembourg, United Kingdom, United States\",\"Germany, France, Russia\",\"Germany, France, United States, Canada, United Kingdom\",\"Germany, Italy\",\"Germany, Jordan, Netherlands\",\"Germany, Sri Lanka\",\"Germany, United Kingdom\",\"Germany, United Kingdom, United States\",\"Germany, United States\",\"Germany, United States, Canada\",\"Germany, United States, France\",\"Germany, United States, Hong Kong, Singapore\",\"Germany, United States, Italy\",\"Germany, United States, Sweden\",\"Germany, United States, United Kingdom, Canada\",\"Ghana, United States\",\"Greece, United States\",\"HKG\",\"HRV\",\"HUN\",\"Hong Kong\",\"Hong Kong, China, Singapore\",\"Hong Kong, China, United States\",\"Hong Kong, Iceland, United States\",\"Hong Kong, Taiwan\",\"Hong Kong, United States\",\"IDN\",\"IND\",\"IRL\",\"ISL\",\"ISR\",\"ITA\",\"Iceland, Sweden, Belgium\",\"India, Australia\",\"India, Canada\",\"India, France\",\"India, Germany\",\"India, Germany, Austria\",\"India, Germany, France\",\"India, Iran\",\"India, Japan\",\"India, Malaysia\",\"India, Mexico\",\"India, Nepal\",\"India, Pakistan\",\"India, Soviet Union\",\"India, Switzerland\",\"India, Turkey\",\"India, United Kingdom\",\"India, United Kingdom, Canada, United States\",\"India, United Kingdom, China, Canada, Japan, South Korea, United States\",\"India, United States\",\"Indonesia, Netherlands\",\"Indonesia, Singapore\",\"Indonesia, South Korea, Singapore\",\"Indonesia, United Kingdom\",\"Indonesia, United States\",\"Iran, France\",\"Ireland, Canada\",\"Ireland, Canada, Luxembourg, United States, United Kingdom, Philippines, India\",\"Ireland, Canada, United Kingdom, United States\",\"Ireland, Canada, United States, United Kingdom\",\"Ireland, France, Iceland, United States, Mexico, Belgium, United Kingdom, Hong Kong\",\"Ireland, Luxembourg, Belgium\",\"Ireland, South Africa\",\"Ireland, United Kingdom\",\"Ireland, United Kingdom, Greece, France, Netherlands\",\"Ireland, United Kingdom, Italy, United States\",\"Ireland, United Kingdom, United States\",\"Ireland, United States\",\"Ireland, United States, France\",\"Israel, Germany\",\"Israel, Germany, France\",\"Israel, Germany, Poland, Luxembourg, Belgium, France, United States\",\"Israel, Sweden, Germany, Netherlands\",\"Israel, United States\",\"Italy, Belgium\",\"Italy, Canada, France\",\"Italy, France\",\"Italy, France, Switzerland\",\"Italy, Germany\",\"Italy, India\",\"Italy, South Africa, West Germany, Australia, United States\",\"Italy, Switzerland, Albania, Poland\",\"Italy, Switzerland, France, Germany\",\"Italy, Turkey\",\"Italy, United Kingdom, France\",\"Italy, United States\",\"Italy, United States, Argentina\",\"JOR\",\"JPN\",\"Jamaica, United States\",\"Japan, Canada\",\"Japan, Canada, United States\",\"Japan, United States\",\"KEN\",\"KHM\",\"KWT\",\"Kenya, United States\",\"LBN\",\"Lebanon, Canada, France\",\"Lebanon, France\",\"Lebanon, Qatar\",\"Lebanon, United Arab Emirates, France, Switzerland, Germany\",\"Lebanon, United States, United Arab Emirates\",\"MEX\",\"MYS\",\"Malaysia, Singapore, Hong Kong\",\"Mauritius, South Africa\",\"Mexico, Argentina\",\"Mexico, Finland\",\"Mexico, France\",\"Mexico, Netherlands\",\"Mexico, Spain\",\"Mexico, United States\",\"Mexico, United States, Spain, Colombia\",\"NAM\",\"NGA\",\"NLD\",\"NOR\",\"NZL\",\"Netherlands, Belgium\",\"Netherlands, Belgium, Germany, Jordan\",\"Netherlands, Belgium, United Kingdom, United States\",\"Netherlands, Denmark, France, Germany\",\"Netherlands, Denmark, South Africa\",\"Netherlands, Germany, Denmark, United Kingdom\",\"Netherlands, Germany, Italy, Canada\",\"Netherlands, United States\",\"New Zealand, United Kingdom\",\"New Zealand, United Kingdom, Australia\",\"New Zealand, United States\",\"Nigeria, United Kingdom\",\"Norway, Denmark\",\"Norway, Denmark, Netherlands, Sweden\",\"Norway, Denmark, Sweden\",\"Norway, Germany\",\"Norway, Germany, Sweden\",\"Norway, Iceland, United States\",\"Norway, Sweden\",\"Norway, United Kingdom, France, Ireland\",\"Norway, United States\",\"PAK\",\"PER\",\"PHL\",\"POL\",\"Pakistan, Norway, United States\",\"Pakistan, United Arab Emirates\",\"Pakistan, United States\",\"Paraguay, Argentina\",\"Peru, Germany, Norway\",\"Peru, United States, United Kingdom\",\"Philippines, Canada, United Kingdom, United States\",\"Philippines, Qatar\",\"Philippines, Singapore\",\"Philippines, United States\",\"Poland,\",\"Poland, United States\",\"Poland, West Germany\",\"Portugal, France, Poland, United States\",\"Portugal, Spain\",\"Puerto Rico, United States, Colombia\",\"ROU\",\"Romania, Bulgaria, Hungary\",\"Romania, France, Switzerland, Germany\",\"Romania, United Kingdom\",\"Romania, United States\",\"Russia\",\"Russia, Poland, Serbia\",\"Russia, Spain\",\"Russia, United States\",\"Russia, United States, China\",\"SAU\",\"SEN\",\"SGP\",\"SWE\",\"Saudi Arabia, Netherlands, Germany, Jordan, United Arab Emirates, United States\",\"Saudi Arabia, Syria, Egypt, Lebanon, Kuwait\",\"Saudi Arabia, United Arab Emirates\",\"Serbia, South Korea, Slovenia\",\"Serbia, United States\",\"Singapore, France\",\"Singapore, Japan, France\",\"Singapore, Malaysia\",\"Singapore, United States\",\"Slovenia, Croatia, Germany, Czech Republic, Qatar\",\"Somalia, Kenya, Sudan, South Africa, United States\",\"South Africa, Angola\",\"South Africa, China, United States\",\"South Africa, Germany, Netherlands, France\",\"South Africa, Nigeria\",\"South Africa, United States\",\"South Africa, United States, Germany\",\"South Africa, United States, New Zealand, Canada\",\"South Korea\",\"South Korea, Canada, United States, China\",\"South Korea, China\",\"South Korea, China, United States\",\"South Korea, Czech Republic\",\"South Korea, France\",\"South Korea, Japan\",\"South Korea, United States\",\"Soviet Union, India\",\"Spain, Argentina\",\"Spain, Belgium\",\"Spain, Belgium, Switzerland, United States, China, United Kingdom\",\"Spain, Canada, United States\",\"Spain, Colombia\",\"Spain, Cuba\",\"Spain, France\",\"Spain, France, Canada\",\"Spain, France, Canada, United States\",\"Spain, France, Italy\",\"Spain, France, United States\",\"Spain, France, Uruguay\",\"Spain, Germany\",\"Spain, Germany, Denmark, United States\",\"Spain, Italy\",\"Spain, Italy, Argentina\",\"Spain, Mexico\",\"Spain, Mexico, France\",\"Spain, Portugal\",\"Spain, Switzerland\",\"Spain, Thailand, United States\",\"Spain, United Kingdom\",\"Spain, United Kingdom, United States\",\"Spain, United States\",\"Sweden, Czech Republic, United Kingdom, Denmark, Netherlands\",\"Sweden, Netherlands\",\"Sweden, United Kingdom, Finland\",\"Sweden, United States\",\"Switzerland, France\",\"Switzerland, France, Belgium, United States\",\"Switzerland, United Kingdom, United States\",\"Switzerland, United States\",\"Switzerland, Vatican City, Italy, Germany, France\",\"THA\",\"TUR\",\"TWN\",\"Taiwan, China\",\"Taiwan, China, France, United States\",\"Taiwan, Hong Kong, United States, China\",\"Taiwan, Malaysia\",\"Thailand, Canada, United States\",\"Thailand, China, United States\",\"Thailand, United States\",\"Turkey, Azerbaijan\",\"Turkey, France, Germany, Poland\",\"Turkey, India\",\"Turkey, South Korea\",\"Turkey, United States\",\"URY\",\"USA\",\"Ukraine\",\"United Arab Emirates\",\"United Arab Emirates, Jordan\",\"United Arab Emirates, Jordan, Lebanon\",\"United Arab Emirates, Romania\",\"United Arab Emirates, United Kingdom, India\",\"United Arab Emirates, United States\",\"United Arab Emirates, United States, United Kingdom\",\"United Kingdom,\",\"United Kingdom, Australia\",\"United Kingdom, Australia, Canada, United States\",\"United Kingdom, Belgium\",\"United Kingdom, Belgium, Sweden\",\"United Kingdom, Brazil, Germany\",\"United Kingdom, Canada\",\"United Kingdom, Canada, France, United States\",\"United Kingdom, Canada, Italy\",\"United Kingdom, Canada, Japan\",\"United Kingdom, Canada, United States\",\"United Kingdom, Canada, United States, Cayman Islands\",\"United Kingdom, Canada, United States, Germany\",\"United Kingdom, China\",\"United Kingdom, China, United States\",\"United Kingdom, China, United States, India\",\"United Kingdom, Czech Republic, Germany, United States\",\"United Kingdom, Czech Republic, United States, Germany, Bahamas\",\"United Kingdom, Denmark, Canada, Croatia\",\"United Kingdom, Egypt, United States\",\"United Kingdom, Finland, Germany\",\"United Kingdom, France\",\"United Kingdom, France, Belgium\",\"United Kingdom, France, Belgium, Canada, United States\",\"United Kingdom, France, Belgium, United States\",\"United Kingdom, France, Belgium, United States, China\",\"United Kingdom, France, Canada, Belgium, United States\",\"United Kingdom, France, Germany\",\"United Kingdom, France, Germany, Spain\",\"United Kingdom, France, Germany, United States\",\"United Kingdom, France, United States\",\"United Kingdom, France, United States, Belgium\",\"United Kingdom, France, United States, Belgium, Luxembourg, China, Germany\",\"United Kingdom, Germany\",\"United Kingdom, Germany, Canada\",\"United Kingdom, Germany, Canada, United States\",\"United Kingdom, Germany, France, United States\",\"United Kingdom, Germany, United Arab Emirates, New Zealand\",\"United Kingdom, Germany, United States\",\"United Kingdom, Germany, United States, France\",\"United Kingdom, Hong Kong\",\"United Kingdom, Hungary, Australia\",\"United Kingdom, India\",\"United Kingdom, India, Sweden\",\"United Kingdom, India, United States\",\"United Kingdom, Ireland\",\"United Kingdom, Ireland, United States\",\"United Kingdom, Israel, Russia\",\"United Kingdom, Italy\",\"United Kingdom, Italy, Israel, Peru, United States\",\"United Kingdom, Japan, United States\",\"United Kingdom, Jordan, Qatar, Iran\",\"United Kingdom, Kenya\",\"United Kingdom, Lithuania\",\"United Kingdom, Malawi\",\"United Kingdom, Namibia, South Africa, Zimbabwe, United States\",\"United Kingdom, New Zealand\",\"United Kingdom, Nigeria\",\"United Kingdom, Norway, Denmark, Germany, Sweden\",\"United Kingdom, Pakistan\",\"United Kingdom, Poland\",\"United Kingdom, Poland, United States\",\"United Kingdom, Russia\",\"United Kingdom, Russia, United States\",\"United Kingdom, Singapore\",\"United Kingdom, South Africa\",\"United Kingdom, South Africa, Australia, United States\",\"United Kingdom, South Korea\",\"United Kingdom, Spain\",\"United Kingdom, Spain, Belgium\",\"United Kingdom, Spain, United States\",\"United Kingdom, Spain, United States, Germany\",\"United Kingdom, Thailand\",\"United Kingdom, Ukraine, United States\",\"United Kingdom, United States\",\"United Kingdom, United States, Australia\",\"United Kingdom, United States, Canada\",\"United Kingdom, United States, Czech Republic\",\"United Kingdom, United States, Dominican Republic\",\"United Kingdom, United States, France\",\"United Kingdom, United States, France, Germany\",\"United Kingdom, United States, Germany, Denmark, Belgium, Japan\",\"United Kingdom, United States, Japan\",\"United Kingdom, United States, Morocco\",\"United Kingdom, United States, Spain, Germany, Greece, Canada\",\"United Kingdom, West Germany\",\"United States,\",\"United States, Argentina\",\"United States, Australia\",\"United States, Australia, China\",\"United States, Australia, Mexico\",\"United States, Australia, Samoa, United Kingdom\",\"United States, Australia, South Africa, United Kingdom\",\"United States, Belgium, Canada\",\"United States, Bermuda, Ecuador\",\"United States, Botswana\",\"United States, Brazil\",\"United States, Brazil, India, Uganda, China\",\"United States, Brazil, South Korea, Mexico, Japan, Germany\",\"United States, Bulgaria\",\"United States, Cambodia\",\"United States, Canada\",\"United States, Canada, Belgium, United Kingdom\",\"United States, Canada, China\",\"United States, Canada, France\",\"United States, Canada, Germany\",\"United States, Canada, Indonesia, United Kingdom, China, Singapore\",\"United States, Canada, Ireland\",\"United States, Canada, Japan, Panama\",\"United States, Canada, United Kingdom\",\"United States, Chile\",\"United States, Chile, Israel\",\"United States, China\",\"United States, China, Canada\",\"United States, China, Colombia\",\"United States, China, Hong Kong\",\"United States, Colombia\",\"United States, Colombia, Mexico\",\"United States, Czech Republic\",\"United States, Czech Republic, United Kingdom\",\"United States, Denmark\",\"United States, East Germany, West Germany\",\"United States, France\",\"United States, France, Canada\",\"United States, France, Canada, Belgium\",\"United States, France, Canada, Lebanon, Qatar\",\"United States, France, Canada, Spain\",\"United States, France, Italy, United Kingdom\",\"United States, France, Japan\",\"United States, France, Mexico\",\"United States, France, Serbia\",\"United States, France, South Korea, Indonesia\",\"United States, France, United Kingdom, Japan\",\"United States, Germany\",\"United States, Germany, Australia\",\"United States, Germany, Canada\",\"United States, Germany, Mexico\",\"United States, Germany, United Kingdom\",\"United States, Germany, United Kingdom, Australia\",\"United States, Germany, United Kingdom, Italy\",\"United States, Greece\",\"United States, Greece, Brazil\",\"United States, Greece, United Kingdom\",\"United States, Hong Kong\",\"United States, Hungary\",\"United States, Hungary, Ireland, Canada\",\"United States, Iceland\",\"United States, India\",\"United States, India, Bangladesh\",\"United States, India, South Korea, China\",\"United States, India, United Arab Emirates\",\"United States, Indonesia\",\"United States, Ireland\",\"United States, Ireland, United Kingdom, India\",\"United States, Israel, Italy, South Africa\",\"United States, Israel, United Kingdom, Canada\",\"United States, Italy\",\"United States, Italy, United Kingdom, Liechtenstein\",\"United States, Japan\",\"United States, Japan, Canada\",\"United States, Kazakhstan\",\"United States, Malta, France, United Kingdom\",\"United States, Mexico\",\"United States, Mexico, Colombia\",\"United States, Mexico, Spain, Malta\",\"United States, Morocco\",\"United States, Netherlands, Japan, France\",\"United States, New Zealand\",\"United States, New Zealand, Japan\",\"United States, New Zealand, United Kingdom\",\"United States, Nicaragua\",\"United States, Nigeria\",\"United States, Norway, Canada\",\"United States, Philippines\",\"United States, Poland\",\"United States, Russia\",\"United States, Senegal\",\"United States, South Africa\",\"United States, South Korea\",\"United States, South Korea, China\",\"United States, South Korea, Japan\",\"United States, Spain\",\"United States, Spain, Germany\",\"United States, Spain, Italy\",\"United States, Sweden\",\"United States, Sweden, Norway\",\"United States, Taiwan\",\"United States, Thailand\",\"United States, United Arab Emirates\",\"United States, United Kingdom\",\"United States, United Kingdom, Australia\",\"United States, United Kingdom, Canada\",\"United States, United Kingdom, Canada, China\",\"United States, United Kingdom, Canada, Japan\",\"United States, United Kingdom, Denmark, Sweden\",\"United States, United Kingdom, France\",\"United States, United Kingdom, France, Germany, Japan\",\"United States, United Kingdom, Germany\",\"United States, United Kingdom, India\",\"United States, United Kingdom, Italy\",\"United States, United Kingdom, Japan\",\"United States, United Kingdom, Morocco\",\"United States, United Kingdom, Spain, South Korea\",\"United States, Uruguay\",\"United States, Venezuela\",\"Uruguay, Argentina\",\"Uruguay, Argentina, Germany, Spain\",\"Uruguay, Argentina, Spain\",\"Uruguay, Germany\",\"Uruguay, Guatemala\",\"Uruguay, Spain, Mexico\",\"VEN\",\"VNM\",\"Venezuela, Colombia\",\"West Germany\",\"ZAF\",\"ZWE\"],\"locations\":[\"ARG\",\"AUS\",\"AUT\",\"Argentina, Brazil, France, Poland, Germany, Denmark\",\"Argentina, Chile\",\"Argentina, Chile, Peru\",\"Argentina, France\",\"Argentina, France, United States, Germany, Qatar\",\"Argentina, Italy\",\"Argentina, Spain\",\"Argentina, United States\",\"Argentina, United States, Mexico\",\"Argentina, Uruguay, Serbia\",\"Argentina, Uruguay, Spain, France\",\"Australia, Armenia, Japan, Jordan, Mexico, Mongolia, New Zealand, Philippines, South Africa, Sweden, United States, Uruguay\",\"Australia, Canada\",\"Australia, France\",\"Australia, France, Ireland\",\"Australia, India\",\"Australia, Iraq\",\"Australia, New Zealand\",\"Australia, New Zealand, United States\",\"Australia, United Arab Emirates\",\"Australia, United Kingdom\",\"Australia, United Kingdom, Canada\",\"Australia, United Kingdom, United Arab Emirates, Canada\",\"Australia, United Kingdom, United States, New Zealand, Italy, France\",\"Australia, United States\",\"Austria, Czech Republic\",\"Austria, Germany\",\"Austria, Iraq, United States\",\"Austria, United States\",\"BEL\",\"BGD\",\"BGR\",\"BRA\",\"Belarus\",\"Belgium, France\",\"Belgium, Ireland, Netherlands, Germany, Afghanistan\",\"Belgium, Netherlands\",\"Belgium, United Kingdom, United States\",\"Brazil, France\",\"Brazil, France, Germany\",\"Brazil, India, China, United States\",\"Brazil, Netherlands, United States, Colombia, Austria, Germany\",\"Brazil, United Kingdom\",\"Brazil, United States\",\"Bulgaria, United States\",\"Bulgaria, United States, Spain, Canada\",\"CAN\",\"CHE\",\"CHL\",\"CHN\",\"COL\",\"Cambodia, United States\",\"Canada, Australia\",\"Canada, Belgium\",\"Canada, Brazil\",\"Canada, France\",\"Canada, France, Italy, Morocco, United States\",\"Canada, France, United States\",\"Canada, Germany\",\"Canada, Germany, France, United States\",\"Canada, Germany, South Africa\",\"Canada, Hungary, United States\",\"Canada, India\",\"Canada, India, Thailand, United States, United Arab Emirates\",\"Canada, Ireland, United States\",\"Canada, Japan, Netherlands\",\"Canada, Japan, United States\",\"Canada, Luxembourg\",\"Canada, Mexico, Germany, South Africa\",\"Canada, Nigeria\",\"Canada, Norway\",\"Canada, South Africa\",\"Canada, South Korea, United States\",\"Canada, Spain\",\"Canada, Spain, France\",\"Canada, United Kingdom\",\"Canada, United Kingdom, Netherlands\",\"Canada, United Kingdom, United States\",\"Canada, United States\",\"Canada, United States, Cayman Islands\",\"Canada, United States, France\",\"Canada, United States, Germany\",\"Canada, United States, India, United Kingdom\",\"Canada, United States, Ireland\",\"Canada, United States, United Kingdom\",\"Canada, United States, United Kingdom, France, Luxembourg\",\"Chile, Argentina\",\"Chile, Argentina, France, Spain, United States\",\"Chile, France\",\"Chile, Italy\",\"Chile, Peru\",\"Chile, Spain, Argentina, Germany\",\"Chile, United States, France\",\"China, Canada, United States\",\"China, Germany, India, United States\",\"China, Hong Kong\",\"China, Hong Kong, United States\",\"China, India, Nepal\",\"China, Japan\",\"China, Morocco, Hong Kong\",\"China, South Korea, United States\",\"China, Spain, South Korea, United States\",\"China, Taiwan\",\"China, United Kingdom\",\"China, United States\",\"China, United States, Australia\",\"China, United States, United Kingdom\",\"Colombia, Mexico\",\"Colombia, Mexico, United States\",\"Colombia, Peru, United Kingdom\",\"Colombia, United States\",\"Croatia, Slovenia, Serbia, Montenegro\",\"Cyprus\",\"Czech Republic, France\",\"Czech Republic, Slovakia\",\"Czech Republic, United Kingdom, France\",\"Czech Republic, United States\",\"DEU\",\"DNK\",\"Denmark, Brazil, France, Portugal, Sweden\",\"Denmark, China\",\"Denmark, France, Belgium, Italy, Netherlands, United States, United Kingdom\",\"Denmark, France, Poland\",\"Denmark, France, United States, Sweden\",\"Denmark, Germany, Belgium, United Kingdom, France\",\"Denmark, Germany, Belgium, United Kingdom, France, Sweden\",\"Denmark, Indonesia, Finland, Norway, United Kingdom, Israel, France, United States, Germany, Netherlands\",\"Denmark, Singapore, Canada, United States\",\"Denmark, Spain\",\"Denmark, Sweden, Israel, United States\",\"Denmark, United Kingdom, South Africa, Sweden, Belgium\",\"Denmark, United Kingdom, Sweden\",\"Denmark, United States\",\"Denmark, Zimbabwe\",\"EGY\",\"ESP\",\"Egypt, Algeria\",\"Egypt, Austria, United States\",\"Egypt, France\",\"FIN\",\"FRA\",\"Finland, France\",\"Finland, Germany\",\"Finland, Germany, Belgium\",\"Finland, Sweden, Norway, Latvia, Germany\",\"Finland, United States\",\"France, Algeria\",\"France, Australia, Germany\",\"France, Belgium\",\"France, Belgium, China, United States\",\"France, Belgium, Italy\",\"France, Belgium, Luxembourg, Cambodia,\",\"France, Belgium, Luxembourg, Romania, Canada, United States\",\"France, Belgium, Spain\",\"France, Belgium, United States\",\"France, Brazil, Spain, Belgium\",\"France, Canada\",\"France, Canada, Belgium\",\"France, Canada, China, Cambodia\",\"France, Canada, Italy, United States, China\",\"France, Canada, United States\",\"France, China, Japan, United States\",\"France, Egypt\",\"France, Germany\",\"France, Germany, Czech Republic, Belgium\",\"France, Germany, Switzerland\",\"France, Iran, United States\",\"France, Japan\",\"France, Japan, United States\",\"France, Lebanon\",\"France, Lebanon, United Kingdom\",\"France, Luxembourg, Canada\",\"France, Luxembourg, United States\",\"France, Malta, United States\",\"France, Morocco\",\"France, Netherlands, Singapore\",\"France, Netherlands, South Africa, Finland\",\"France, New Zealand\",\"France, Norway, Lebanon, Belgium\",\"France, Qatar\",\"France, Senegal, Belgium\",\"France, South Korea, Japan\",\"France, Switzerland, Spain, United States, United Arab Emirates\",\"France, United Kingdom\",\"France, United Kingdom, India\",\"France, United Kingdom, United States\",\"France, United States\",\"France, United States, Canada\",\"France, United States, Mexico\",\"GBR\",\"GHA\",\"GTM\",\"Georgia\",\"Georgia, Germany, France\",\"Germany, Australia\",\"Germany, Australia, France, China\",\"Germany, Belgium\",\"Germany, Canada, United States\",\"Germany, China, United Kingdom\",\"Germany, Czech Republic\",\"Germany, France, Luxembourg, United Kingdom, United States\",\"Germany, France, Russia\",\"Germany, France, United States, Canada, United Kingdom\",\"Germany, Italy\",\"Germany, Jordan, Netherlands\",\"Germany, Sri Lanka\",\"Germany, United Kingdom\",\"Germany, United Kingdom, United States\",\"Germany, United States\",\"Germany, United States, Canada\",\"Germany, United States, France\",\"Germany, United States, Hong Kong, Singapore\",\"Germany, United States, Italy\",\"Germany, United States, Sweden\",\"Germany, United States, United Kingdom, Canada\",\"Ghana, United States\",\"Greece, United States\",\"HKG\",\"HRV\",\"HUN\",\"Hong Kong\",\"Hong Kong, China, Singapore\",\"Hong Kong, China, United States\",\"Hong Kong, Iceland, United States\",\"Hong Kong, Taiwan\",\"Hong Kong, United States\",\"IDN\",\"IND\",\"IRL\",\"ISL\",\"ISR\",\"ITA\",\"Iceland, Sweden, Belgium\",\"India, Australia\",\"India, Canada\",\"India, France\",\"India, Germany\",\"India, Germany, Austria\",\"India, Germany, France\",\"India, Iran\",\"India, Japan\",\"India, Malaysia\",\"India, Mexico\",\"India, Nepal\",\"India, Pakistan\",\"India, Soviet Union\",\"India, Switzerland\",\"India, Turkey\",\"India, United Kingdom\",\"India, United Kingdom, Canada, United States\",\"India, United Kingdom, China, Canada, Japan, South Korea, United States\",\"India, United States\",\"Indonesia, Netherlands\",\"Indonesia, Singapore\",\"Indonesia, South Korea, Singapore\",\"Indonesia, United Kingdom\",\"Indonesia, United States\",\"Iran, France\",\"Ireland, Canada\",\"Ireland, Canada, Luxembourg, United States, United Kingdom, Philippines, India\",\"Ireland, Canada, United Kingdom, United States\",\"Ireland, Canada, United States, United Kingdom\",\"Ireland, France, Iceland, United States, Mexico, Belgium, United Kingdom, Hong Kong\",\"Ireland, Luxembourg, Belgium\",\"Ireland, South Africa\",\"Ireland, United Kingdom\",\"Ireland, United Kingdom, Greece, France, Netherlands\",\"Ireland, United Kingdom, Italy, United States\",\"Ireland, United Kingdom, United States\",\"Ireland, United States\",\"Ireland, United States, France\",\"Israel, Germany\",\"Israel, Germany, France\",\"Israel, Germany, Poland, Luxembourg, Belgium, France, United States\",\"Israel, Sweden, Germany, Netherlands\",\"Israel, United States\",\"Italy, Belgium\",\"Italy, Canada, France\",\"Italy, France\",\"Italy, France, Switzerland\",\"Italy, Germany\",\"Italy, India\",\"Italy, South Africa, West Germany, Australia, United States\",\"Italy, Switzerland, Albania, Poland\",\"Italy, Switzerland, France, Germany\",\"Italy, Turkey\",\"Italy, United Kingdom, France\",\"Italy, United States\",\"Italy, United States, Argentina\",\"JOR\",\"JPN\",\"Jamaica, United States\",\"Japan, Canada\",\"Japan, Canada, United States\",\"Japan, United States\",\"KEN\",\"KHM\",\"KWT\",\"Kenya, United States\",\"LBN\",\"Lebanon, Canada, France\",\"Lebanon, France\",\"Lebanon, Qatar\",\"Lebanon, United Arab Emirates, France, Switzerland, Germany\",\"Lebanon, United States, United Arab Emirates\",\"MEX\",\"MYS\",\"Malaysia, Singapore, Hong Kong\",\"Mauritius, South Africa\",\"Mexico, Argentina\",\"Mexico, Finland\",\"Mexico, France\",\"Mexico, Netherlands\",\"Mexico, Spain\",\"Mexico, United States\",\"Mexico, United States, Spain, Colombia\",\"NAM\",\"NGA\",\"NLD\",\"NOR\",\"NZL\",\"Netherlands, Belgium\",\"Netherlands, Belgium, Germany, Jordan\",\"Netherlands, Belgium, United Kingdom, United States\",\"Netherlands, Denmark, France, Germany\",\"Netherlands, Denmark, South Africa\",\"Netherlands, Germany, Denmark, United Kingdom\",\"Netherlands, Germany, Italy, Canada\",\"Netherlands, United States\",\"New Zealand, United Kingdom\",\"New Zealand, United Kingdom, Australia\",\"New Zealand, United States\",\"Nigeria, United Kingdom\",\"Norway, Denmark\",\"Norway, Denmark, Netherlands, Sweden\",\"Norway, Denmark, Sweden\",\"Norway, Germany\",\"Norway, Germany, Sweden\",\"Norway, Iceland, United States\",\"Norway, Sweden\",\"Norway, United Kingdom, France, Ireland\",\"Norway, United States\",\"PAK\",\"PER\",\"PHL\",\"POL\",\"Pakistan, Norway, United States\",\"Pakistan, United Arab Emirates\",\"Pakistan, United States\",\"Paraguay, Argentina\",\"Peru, Germany, Norway\",\"Peru, United States, United Kingdom\",\"Philippines, Canada, United Kingdom, United States\",\"Philippines, Qatar\",\"Philippines, Singapore\",\"Philippines, United States\",\"Poland,\",\"Poland, United States\",\"Poland, West Germany\",\"Portugal, France, Poland, United States\",\"Portugal, Spain\",\"Puerto Rico, United States, Colombia\",\"ROU\",\"Romania, Bulgaria, Hungary\",\"Romania, France, Switzerland, Germany\",\"Romania, United Kingdom\",\"Romania, United States\",\"Russia\",\"Russia, Poland, Serbia\",\"Russia, Spain\",\"Russia, United States\",\"Russia, United States, China\",\"SAU\",\"SEN\",\"SGP\",\"SWE\",\"Saudi Arabia, Netherlands, Germany, Jordan, United Arab Emirates, United States\",\"Saudi Arabia, Syria, Egypt, Lebanon, Kuwait\",\"Saudi Arabia, United Arab Emirates\",\"Serbia, South Korea, Slovenia\",\"Serbia, United States\",\"Singapore, France\",\"Singapore, Japan, France\",\"Singapore, Malaysia\",\"Singapore, United States\",\"Slovenia, Croatia, Germany, Czech Republic, Qatar\",\"Somalia, Kenya, Sudan, South Africa, United States\",\"South Africa, Angola\",\"South Africa, China, United States\",\"South Africa, Germany, Netherlands, France\",\"South Africa, Nigeria\",\"South Africa, United States\",\"South Africa, United States, Germany\",\"South Africa, United States, New Zealand, Canada\",\"South Korea\",\"South Korea, Canada, United States, China\",\"South Korea, China\",\"South Korea, China, United States\",\"South Korea, Czech Republic\",\"South Korea, France\",\"South Korea, Japan\",\"South Korea, United States\",\"Soviet Union, India\",\"Spain, Argentina\",\"Spain, Belgium\",\"Spain, Belgium, Switzerland, United States, China, United Kingdom\",\"Spain, Canada, United States\",\"Spain, Colombia\",\"Spain, Cuba\",\"Spain, France\",\"Spain, France, Canada\",\"Spain, France, Canada, United States\",\"Spain, France, Italy\",\"Spain, France, United States\",\"Spain, France, Uruguay\",\"Spain, Germany\",\"Spain, Germany, Denmark, United States\",\"Spain, Italy\",\"Spain, Italy, Argentina\",\"Spain, Mexico\",\"Spain, Mexico, France\",\"Spain, Portugal\",\"Spain, Switzerland\",\"Spain, Thailand, United States\",\"Spain, United Kingdom\",\"Spain, United Kingdom, United States\",\"Spain, United States\",\"Sweden, Czech Republic, United Kingdom, Denmark, Netherlands\",\"Sweden, Netherlands\",\"Sweden, United Kingdom, Finland\",\"Sweden, United States\",\"Switzerland, France\",\"Switzerland, France, Belgium, United States\",\"Switzerland, United Kingdom, United States\",\"Switzerland, United States\",\"Switzerland, Vatican City, Italy, Germany, France\",\"THA\",\"TUR\",\"TWN\",\"Taiwan, China\",\"Taiwan, China, France, United States\",\"Taiwan, Hong Kong, United States, China\",\"Taiwan, Malaysia\",\"Thailand, Canada, United States\",\"Thailand, China, United States\",\"Thailand, United States\",\"Turkey, Azerbaijan\",\"Turkey, France, Germany, Poland\",\"Turkey, India\",\"Turkey, South Korea\",\"Turkey, United States\",\"URY\",\"USA\",\"Ukraine\",\"United Arab Emirates\",\"United Arab Emirates, Jordan\",\"United Arab Emirates, Jordan, Lebanon\",\"United Arab Emirates, Romania\",\"United Arab Emirates, United Kingdom, India\",\"United Arab Emirates, United States\",\"United Arab Emirates, United States, United Kingdom\",\"United Kingdom,\",\"United Kingdom, Australia\",\"United Kingdom, Australia, Canada, United States\",\"United Kingdom, Belgium\",\"United Kingdom, Belgium, Sweden\",\"United Kingdom, Brazil, Germany\",\"United Kingdom, Canada\",\"United Kingdom, Canada, France, United States\",\"United Kingdom, Canada, Italy\",\"United Kingdom, Canada, Japan\",\"United Kingdom, Canada, United States\",\"United Kingdom, Canada, United States, Cayman Islands\",\"United Kingdom, Canada, United States, Germany\",\"United Kingdom, China\",\"United Kingdom, China, United States\",\"United Kingdom, China, United States, India\",\"United Kingdom, Czech Republic, Germany, United States\",\"United Kingdom, Czech Republic, United States, Germany, Bahamas\",\"United Kingdom, Denmark, Canada, Croatia\",\"United Kingdom, Egypt, United States\",\"United Kingdom, Finland, Germany\",\"United Kingdom, France\",\"United Kingdom, France, Belgium\",\"United Kingdom, France, Belgium, Canada, United States\",\"United Kingdom, France, Belgium, United States\",\"United Kingdom, France, Belgium, United States, China\",\"United Kingdom, France, Canada, Belgium, United States\",\"United Kingdom, France, Germany\",\"United Kingdom, France, Germany, Spain\",\"United Kingdom, France, Germany, United States\",\"United Kingdom, France, United States\",\"United Kingdom, France, United States, Belgium\",\"United Kingdom, France, United States, Belgium, Luxembourg, China, Germany\",\"United Kingdom, Germany\",\"United Kingdom, Germany, Canada\",\"United Kingdom, Germany, Canada, United States\",\"United Kingdom, Germany, France, United States\",\"United Kingdom, Germany, United Arab Emirates, New Zealand\",\"United Kingdom, Germany, United States\",\"United Kingdom, Germany, United States, France\",\"United Kingdom, Hong Kong\",\"United Kingdom, Hungary, Australia\",\"United Kingdom, India\",\"United Kingdom, India, Sweden\",\"United Kingdom, India, United States\",\"United Kingdom, Ireland\",\"United Kingdom, Ireland, United States\",\"United Kingdom, Israel, Russia\",\"United Kingdom, Italy\",\"United Kingdom, Italy, Israel, Peru, United States\",\"United Kingdom, Japan, United States\",\"United Kingdom, Jordan, Qatar, Iran\",\"United Kingdom, Kenya\",\"United Kingdom, Lithuania\",\"United Kingdom, Malawi\",\"United Kingdom, Namibia, South Africa, Zimbabwe, United States\",\"United Kingdom, New Zealand\",\"United Kingdom, Nigeria\",\"United Kingdom, Norway, Denmark, Germany, Sweden\",\"United Kingdom, Pakistan\",\"United Kingdom, Poland\",\"United Kingdom, Poland, United States\",\"United Kingdom, Russia\",\"United Kingdom, Russia, United States\",\"United Kingdom, Singapore\",\"United Kingdom, South Africa\",\"United Kingdom, South Africa, Australia, United States\",\"United Kingdom, South Korea\",\"United Kingdom, Spain\",\"United Kingdom, Spain, Belgium\",\"United Kingdom, Spain, United States\",\"United Kingdom, Spain, United States, Germany\",\"United Kingdom, Thailand\",\"United Kingdom, Ukraine, United States\",\"United Kingdom, United States\",\"United Kingdom, United States, Australia\",\"United Kingdom, United States, Canada\",\"United Kingdom, United States, Czech Republic\",\"United Kingdom, United States, Dominican Republic\",\"United Kingdom, United States, France\",\"United Kingdom, United States, France, Germany\",\"United Kingdom, United States, Germany, Denmark, Belgium, Japan\",\"United Kingdom, United States, Japan\",\"United Kingdom, United States, Morocco\",\"United Kingdom, United States, Spain, Germany, Greece, Canada\",\"United Kingdom, West Germany\",\"United States,\",\"United States, Argentina\",\"United States, Australia\",\"United States, Australia, China\",\"United States, Australia, Mexico\",\"United States, Australia, Samoa, United Kingdom\",\"United States, Australia, South Africa, United Kingdom\",\"United States, Belgium, Canada\",\"United States, Bermuda, Ecuador\",\"United States, Botswana\",\"United States, Brazil\",\"United States, Brazil, India, Uganda, China\",\"United States, Brazil, South Korea, Mexico, Japan, Germany\",\"United States, Bulgaria\",\"United States, Cambodia\",\"United States, Canada\",\"United States, Canada, Belgium, United Kingdom\",\"United States, Canada, China\",\"United States, Canada, France\",\"United States, Canada, Germany\",\"United States, Canada, Indonesia, United Kingdom, China, Singapore\",\"United States, Canada, Ireland\",\"United States, Canada, Japan, Panama\",\"United States, Canada, United Kingdom\",\"United States, Chile\",\"United States, Chile, Israel\",\"United States, China\",\"United States, China, Canada\",\"United States, China, Colombia\",\"United States, China, Hong Kong\",\"United States, Colombia\",\"United States, Colombia, Mexico\",\"United States, Czech Republic\",\"United States, Czech Republic, United Kingdom\",\"United States, Denmark\",\"United States, East Germany, West Germany\",\"United States, France\",\"United States, France, Canada\",\"United States, France, Canada, Belgium\",\"United States, France, Canada, Lebanon, Qatar\",\"United States, France, Canada, Spain\",\"United States, France, Italy, United Kingdom\",\"United States, France, Japan\",\"United States, France, Mexico\",\"United States, France, Serbia\",\"United States, France, South Korea, Indonesia\",\"United States, France, United Kingdom, Japan\",\"United States, Germany\",\"United States, Germany, Australia\",\"United States, Germany, Canada\",\"United States, Germany, Mexico\",\"United States, Germany, United Kingdom\",\"United States, Germany, United Kingdom, Australia\",\"United States, Germany, United Kingdom, Italy\",\"United States, Greece\",\"United States, Greece, Brazil\",\"United States, Greece, United Kingdom\",\"United States, Hong Kong\",\"United States, Hungary\",\"United States, Hungary, Ireland, Canada\",\"United States, Iceland\",\"United States, India\",\"United States, India, Bangladesh\",\"United States, India, South Korea, China\",\"United States, India, United Arab Emirates\",\"United States, Indonesia\",\"United States, Ireland\",\"United States, Ireland, United Kingdom, India\",\"United States, Israel, Italy, South Africa\",\"United States, Israel, United Kingdom, Canada\",\"United States, Italy\",\"United States, Italy, United Kingdom, Liechtenstein\",\"United States, Japan\",\"United States, Japan, Canada\",\"United States, Kazakhstan\",\"United States, Malta, France, United Kingdom\",\"United States, Mexico\",\"United States, Mexico, Colombia\",\"United States, Mexico, Spain, Malta\",\"United States, Morocco\",\"United States, Netherlands, Japan, France\",\"United States, New Zealand\",\"United States, New Zealand, Japan\",\"United States, New Zealand, United Kingdom\",\"United States, Nicaragua\",\"United States, Nigeria\",\"United States, Norway, Canada\",\"United States, Philippines\",\"United States, Poland\",\"United States, Russia\",\"United States, Senegal\",\"United States, South Africa\",\"United States, South Korea\",\"United States, South Korea, China\",\"United States, South Korea, Japan\",\"United States, Spain\",\"United States, Spain, Germany\",\"United States, Spain, Italy\",\"United States, Sweden\",\"United States, Sweden, Norway\",\"United States, Taiwan\",\"United States, Thailand\",\"United States, United Arab Emirates\",\"United States, United Kingdom\",\"United States, United Kingdom, Australia\",\"United States, United Kingdom, Canada\",\"United States, United Kingdom, Canada, China\",\"United States, United Kingdom, Canada, Japan\",\"United States, United Kingdom, Denmark, Sweden\",\"United States, United Kingdom, France\",\"United States, United Kingdom, France, Germany, Japan\",\"United States, United Kingdom, Germany\",\"United States, United Kingdom, India\",\"United States, United Kingdom, Italy\",\"United States, United Kingdom, Japan\",\"United States, United Kingdom, Morocco\",\"United States, United Kingdom, Spain, South Korea\",\"United States, Uruguay\",\"United States, Venezuela\",\"Uruguay, Argentina\",\"Uruguay, Argentina, Germany, Spain\",\"Uruguay, Argentina, Spain\",\"Uruguay, Germany\",\"Uruguay, Guatemala\",\"Uruguay, Spain, Mexico\",\"VEN\",\"VNM\",\"Venezuela, Colombia\",\"West Germany\",\"ZAF\",\"ZWE\"],\"name\":\"\",\"z\":[50,83,4,1,1,1,1,1,1,8,1,1,1,1,1,2,1,1,1,1,1,1,2,1,1,1,1,10,1,1,1,1,8,2,1,72,1,3,1,1,1,2,1,1,1,1,1,3,1,177,2,14,57,31,1,2,1,1,1,1,1,1,1,1,1,2,1,1,1,1,1,1,1,1,1,1,1,1,2,1,2,42,1,2,1,1,1,3,1,1,1,1,1,1,1,1,2,1,14,1,1,1,1,1,1,1,1,2,1,1,1,2,1,1,1,1,1,1,1,2,61,13,1,1,1,1,1,1,1,1,1,1,1,1,1,3,1,101,134,1,1,2,1,115,1,1,1,1,1,1,1,27,1,1,1,1,1,1,1,3,1,1,1,1,1,3,1,1,1,1,1,1,1,1,1,1,1,1,1,1,1,1,1,1,2,1,1,1,3,6,1,1,397,3,1,1,1,1,1,1,1,1,1,1,1,1,1,1,1,2,1,10,1,1,1,1,1,1,1,1,16,1,4,52,1,2,1,1,4,70,923,11,4,12,40,1,1,1,5,2,1,1,1,1,1,1,1,1,2,1,1,1,1,1,9,1,2,1,1,1,1,1,1,1,1,1,1,1,2,1,1,2,1,1,1,1,1,1,3,1,1,5,1,1,1,1,1,1,1,1,3,1,1,226,1,1,1,9,2,1,6,1,14,2,1,1,1,1,100,22,1,1,1,1,1,1,4,14,1,1,70,16,11,11,2,1,1,1,1,1,1,1,1,1,2,1,1,1,1,1,1,1,1,1,1,18,4,71,20,1,1,2,1,1,1,1,1,1,1,1,4,1,1,1,1,6,1,1,1,1,16,1,1,1,1,7,1,23,10,1,1,1,1,2,1,1,1,2,1,1,1,1,1,1,4,1,1,183,1,1,1,1,1,1,5,1,2,1,1,1,1,1,5,1,1,1,1,1,3,1,2,1,2,1,1,1,1,2,1,1,1,1,1,3,1,1,1,1,1,57,100,78,1,1,1,1,1,1,2,1,1,1,1,2,3,2555,2,12,1,1,1,1,2,1,1,1,1,1,1,1,4,1,1,1,6,1,1,1,1,1,1,1,1,1,1,6,1,1,1,1,1,1,1,1,4,1,1,4,1,1,1,1,1,1,1,1,2,1,2,2,1,1,2,1,4,1,1,1,1,1,1,2,1,1,1,1,1,1,1,1,1,1,1,1,1,1,1,1,64,2,1,1,1,1,1,1,1,1,4,1,1,2,11,1,1,1,1,1,1,1,1,1,1,3,1,60,1,1,1,1,1,1,1,2,2,1,7,1,1,1,1,1,5,1,1,1,14,1,1,1,1,1,6,1,1,1,1,12,1,2,1,1,1,1,2,1,1,3,1,1,1,8,1,1,1,1,3,1,1,1,5,1,13,2,1,1,11,1,1,1,1,3,1,1,1,1,1,1,1,3,1,3,1,2,1,4,1,1,3,1,1,1,3,37,4,1,1,1,1,3,1,2,1,1,1,1,1,1,1,1,1,1,1,1,1,1,5,1,1,25,1],\"type\":\"choropleth\"}],                        {\"template\":{\"data\":{\"bar\":[{\"error_x\":{\"color\":\"#2a3f5f\"},\"error_y\":{\"color\":\"#2a3f5f\"},\"marker\":{\"line\":{\"color\":\"#E5ECF6\",\"width\":0.5},\"pattern\":{\"fillmode\":\"overlay\",\"size\":10,\"solidity\":0.2}},\"type\":\"bar\"}],\"barpolar\":[{\"marker\":{\"line\":{\"color\":\"#E5ECF6\",\"width\":0.5},\"pattern\":{\"fillmode\":\"overlay\",\"size\":10,\"solidity\":0.2}},\"type\":\"barpolar\"}],\"carpet\":[{\"aaxis\":{\"endlinecolor\":\"#2a3f5f\",\"gridcolor\":\"white\",\"linecolor\":\"white\",\"minorgridcolor\":\"white\",\"startlinecolor\":\"#2a3f5f\"},\"baxis\":{\"endlinecolor\":\"#2a3f5f\",\"gridcolor\":\"white\",\"linecolor\":\"white\",\"minorgridcolor\":\"white\",\"startlinecolor\":\"#2a3f5f\"},\"type\":\"carpet\"}],\"choropleth\":[{\"colorbar\":{\"outlinewidth\":0,\"ticks\":\"\"},\"type\":\"choropleth\"}],\"contour\":[{\"colorbar\":{\"outlinewidth\":0,\"ticks\":\"\"},\"colorscale\":[[0.0,\"#0d0887\"],[0.1111111111111111,\"#46039f\"],[0.2222222222222222,\"#7201a8\"],[0.3333333333333333,\"#9c179e\"],[0.4444444444444444,\"#bd3786\"],[0.5555555555555556,\"#d8576b\"],[0.6666666666666666,\"#ed7953\"],[0.7777777777777778,\"#fb9f3a\"],[0.8888888888888888,\"#fdca26\"],[1.0,\"#f0f921\"]],\"type\":\"contour\"}],\"contourcarpet\":[{\"colorbar\":{\"outlinewidth\":0,\"ticks\":\"\"},\"type\":\"contourcarpet\"}],\"heatmap\":[{\"colorbar\":{\"outlinewidth\":0,\"ticks\":\"\"},\"colorscale\":[[0.0,\"#0d0887\"],[0.1111111111111111,\"#46039f\"],[0.2222222222222222,\"#7201a8\"],[0.3333333333333333,\"#9c179e\"],[0.4444444444444444,\"#bd3786\"],[0.5555555555555556,\"#d8576b\"],[0.6666666666666666,\"#ed7953\"],[0.7777777777777778,\"#fb9f3a\"],[0.8888888888888888,\"#fdca26\"],[1.0,\"#f0f921\"]],\"type\":\"heatmap\"}],\"heatmapgl\":[{\"colorbar\":{\"outlinewidth\":0,\"ticks\":\"\"},\"colorscale\":[[0.0,\"#0d0887\"],[0.1111111111111111,\"#46039f\"],[0.2222222222222222,\"#7201a8\"],[0.3333333333333333,\"#9c179e\"],[0.4444444444444444,\"#bd3786\"],[0.5555555555555556,\"#d8576b\"],[0.6666666666666666,\"#ed7953\"],[0.7777777777777778,\"#fb9f3a\"],[0.8888888888888888,\"#fdca26\"],[1.0,\"#f0f921\"]],\"type\":\"heatmapgl\"}],\"histogram\":[{\"marker\":{\"pattern\":{\"fillmode\":\"overlay\",\"size\":10,\"solidity\":0.2}},\"type\":\"histogram\"}],\"histogram2d\":[{\"colorbar\":{\"outlinewidth\":0,\"ticks\":\"\"},\"colorscale\":[[0.0,\"#0d0887\"],[0.1111111111111111,\"#46039f\"],[0.2222222222222222,\"#7201a8\"],[0.3333333333333333,\"#9c179e\"],[0.4444444444444444,\"#bd3786\"],[0.5555555555555556,\"#d8576b\"],[0.6666666666666666,\"#ed7953\"],[0.7777777777777778,\"#fb9f3a\"],[0.8888888888888888,\"#fdca26\"],[1.0,\"#f0f921\"]],\"type\":\"histogram2d\"}],\"histogram2dcontour\":[{\"colorbar\":{\"outlinewidth\":0,\"ticks\":\"\"},\"colorscale\":[[0.0,\"#0d0887\"],[0.1111111111111111,\"#46039f\"],[0.2222222222222222,\"#7201a8\"],[0.3333333333333333,\"#9c179e\"],[0.4444444444444444,\"#bd3786\"],[0.5555555555555556,\"#d8576b\"],[0.6666666666666666,\"#ed7953\"],[0.7777777777777778,\"#fb9f3a\"],[0.8888888888888888,\"#fdca26\"],[1.0,\"#f0f921\"]],\"type\":\"histogram2dcontour\"}],\"mesh3d\":[{\"colorbar\":{\"outlinewidth\":0,\"ticks\":\"\"},\"type\":\"mesh3d\"}],\"parcoords\":[{\"line\":{\"colorbar\":{\"outlinewidth\":0,\"ticks\":\"\"}},\"type\":\"parcoords\"}],\"pie\":[{\"automargin\":true,\"type\":\"pie\"}],\"scatter\":[{\"marker\":{\"colorbar\":{\"outlinewidth\":0,\"ticks\":\"\"}},\"type\":\"scatter\"}],\"scatter3d\":[{\"line\":{\"colorbar\":{\"outlinewidth\":0,\"ticks\":\"\"}},\"marker\":{\"colorbar\":{\"outlinewidth\":0,\"ticks\":\"\"}},\"type\":\"scatter3d\"}],\"scattercarpet\":[{\"marker\":{\"colorbar\":{\"outlinewidth\":0,\"ticks\":\"\"}},\"type\":\"scattercarpet\"}],\"scattergeo\":[{\"marker\":{\"colorbar\":{\"outlinewidth\":0,\"ticks\":\"\"}},\"type\":\"scattergeo\"}],\"scattergl\":[{\"marker\":{\"colorbar\":{\"outlinewidth\":0,\"ticks\":\"\"}},\"type\":\"scattergl\"}],\"scattermapbox\":[{\"marker\":{\"colorbar\":{\"outlinewidth\":0,\"ticks\":\"\"}},\"type\":\"scattermapbox\"}],\"scatterpolar\":[{\"marker\":{\"colorbar\":{\"outlinewidth\":0,\"ticks\":\"\"}},\"type\":\"scatterpolar\"}],\"scatterpolargl\":[{\"marker\":{\"colorbar\":{\"outlinewidth\":0,\"ticks\":\"\"}},\"type\":\"scatterpolargl\"}],\"scatterternary\":[{\"marker\":{\"colorbar\":{\"outlinewidth\":0,\"ticks\":\"\"}},\"type\":\"scatterternary\"}],\"surface\":[{\"colorbar\":{\"outlinewidth\":0,\"ticks\":\"\"},\"colorscale\":[[0.0,\"#0d0887\"],[0.1111111111111111,\"#46039f\"],[0.2222222222222222,\"#7201a8\"],[0.3333333333333333,\"#9c179e\"],[0.4444444444444444,\"#bd3786\"],[0.5555555555555556,\"#d8576b\"],[0.6666666666666666,\"#ed7953\"],[0.7777777777777778,\"#fb9f3a\"],[0.8888888888888888,\"#fdca26\"],[1.0,\"#f0f921\"]],\"type\":\"surface\"}],\"table\":[{\"cells\":{\"fill\":{\"color\":\"#EBF0F8\"},\"line\":{\"color\":\"white\"}},\"header\":{\"fill\":{\"color\":\"#C8D4E3\"},\"line\":{\"color\":\"white\"}},\"type\":\"table\"}]},\"layout\":{\"annotationdefaults\":{\"arrowcolor\":\"#2a3f5f\",\"arrowhead\":0,\"arrowwidth\":1},\"autotypenumbers\":\"strict\",\"coloraxis\":{\"colorbar\":{\"outlinewidth\":0,\"ticks\":\"\"}},\"colorscale\":{\"diverging\":[[0,\"#8e0152\"],[0.1,\"#c51b7d\"],[0.2,\"#de77ae\"],[0.3,\"#f1b6da\"],[0.4,\"#fde0ef\"],[0.5,\"#f7f7f7\"],[0.6,\"#e6f5d0\"],[0.7,\"#b8e186\"],[0.8,\"#7fbc41\"],[0.9,\"#4d9221\"],[1,\"#276419\"]],\"sequential\":[[0.0,\"#0d0887\"],[0.1111111111111111,\"#46039f\"],[0.2222222222222222,\"#7201a8\"],[0.3333333333333333,\"#9c179e\"],[0.4444444444444444,\"#bd3786\"],[0.5555555555555556,\"#d8576b\"],[0.6666666666666666,\"#ed7953\"],[0.7777777777777778,\"#fb9f3a\"],[0.8888888888888888,\"#fdca26\"],[1.0,\"#f0f921\"]],\"sequentialminus\":[[0.0,\"#0d0887\"],[0.1111111111111111,\"#46039f\"],[0.2222222222222222,\"#7201a8\"],[0.3333333333333333,\"#9c179e\"],[0.4444444444444444,\"#bd3786\"],[0.5555555555555556,\"#d8576b\"],[0.6666666666666666,\"#ed7953\"],[0.7777777777777778,\"#fb9f3a\"],[0.8888888888888888,\"#fdca26\"],[1.0,\"#f0f921\"]]},\"colorway\":[\"#636efa\",\"#EF553B\",\"#00cc96\",\"#ab63fa\",\"#FFA15A\",\"#19d3f3\",\"#FF6692\",\"#B6E880\",\"#FF97FF\",\"#FECB52\"],\"font\":{\"color\":\"#2a3f5f\"},\"geo\":{\"bgcolor\":\"white\",\"lakecolor\":\"white\",\"landcolor\":\"#E5ECF6\",\"showlakes\":true,\"showland\":true,\"subunitcolor\":\"white\"},\"hoverlabel\":{\"align\":\"left\"},\"hovermode\":\"closest\",\"mapbox\":{\"style\":\"light\"},\"paper_bgcolor\":\"white\",\"plot_bgcolor\":\"#E5ECF6\",\"polar\":{\"angularaxis\":{\"gridcolor\":\"white\",\"linecolor\":\"white\",\"ticks\":\"\"},\"bgcolor\":\"#E5ECF6\",\"radialaxis\":{\"gridcolor\":\"white\",\"linecolor\":\"white\",\"ticks\":\"\"}},\"scene\":{\"xaxis\":{\"backgroundcolor\":\"#E5ECF6\",\"gridcolor\":\"white\",\"gridwidth\":2,\"linecolor\":\"white\",\"showbackground\":true,\"ticks\":\"\",\"zerolinecolor\":\"white\"},\"yaxis\":{\"backgroundcolor\":\"#E5ECF6\",\"gridcolor\":\"white\",\"gridwidth\":2,\"linecolor\":\"white\",\"showbackground\":true,\"ticks\":\"\",\"zerolinecolor\":\"white\"},\"zaxis\":{\"backgroundcolor\":\"#E5ECF6\",\"gridcolor\":\"white\",\"gridwidth\":2,\"linecolor\":\"white\",\"showbackground\":true,\"ticks\":\"\",\"zerolinecolor\":\"white\"}},\"shapedefaults\":{\"line\":{\"color\":\"#2a3f5f\"}},\"ternary\":{\"aaxis\":{\"gridcolor\":\"white\",\"linecolor\":\"white\",\"ticks\":\"\"},\"baxis\":{\"gridcolor\":\"white\",\"linecolor\":\"white\",\"ticks\":\"\"},\"bgcolor\":\"#E5ECF6\",\"caxis\":{\"gridcolor\":\"white\",\"linecolor\":\"white\",\"ticks\":\"\"}},\"title\":{\"x\":0.05},\"xaxis\":{\"automargin\":true,\"gridcolor\":\"white\",\"linecolor\":\"white\",\"ticks\":\"\",\"title\":{\"standoff\":15},\"zerolinecolor\":\"white\",\"zerolinewidth\":2},\"yaxis\":{\"automargin\":true,\"gridcolor\":\"white\",\"linecolor\":\"white\",\"ticks\":\"\",\"title\":{\"standoff\":15},\"zerolinecolor\":\"white\",\"zerolinewidth\":2}}},\"geo\":{\"domain\":{\"x\":[0.0,1.0],\"y\":[0.0,1.0]},\"center\":{}},\"coloraxis\":{\"colorbar\":{\"title\":{\"text\":\"show_id\"}},\"colorscale\":[[0.0,\"#0d0887\"],[0.1111111111111111,\"#46039f\"],[0.2222222222222222,\"#7201a8\"],[0.3333333333333333,\"#9c179e\"],[0.4444444444444444,\"#bd3786\"],[0.5555555555555556,\"#d8576b\"],[0.6666666666666666,\"#ed7953\"],[0.7777777777777778,\"#fb9f3a\"],[0.8888888888888888,\"#fdca26\"],[1.0,\"#f0f921\"]]},\"legend\":{\"tracegroupgap\":0},\"margin\":{\"t\":60}},                        {\"responsive\": true}                    ).then(function(){\n",
              "                            \n",
              "var gd = document.getElementById('72fdaf8d-dc3c-4b10-b328-ea176d0582df');\n",
              "var x = new MutationObserver(function (mutations, observer) {{\n",
              "        var display = window.getComputedStyle(gd).display;\n",
              "        if (!display || display === 'none') {{\n",
              "            console.log([gd, 'removed!']);\n",
              "            Plotly.purge(gd);\n",
              "            observer.disconnect();\n",
              "        }}\n",
              "}});\n",
              "\n",
              "// Listen for the removal of the full notebook cells\n",
              "var notebookContainer = gd.closest('#notebook-container');\n",
              "if (notebookContainer) {{\n",
              "    x.observe(notebookContainer, {childList: true});\n",
              "}}\n",
              "\n",
              "// Listen for the clearing of the current output cell\n",
              "var outputEl = gd.closest('.output');\n",
              "if (outputEl) {{\n",
              "    x.observe(outputEl, {childList: true});\n",
              "}}\n",
              "\n",
              "                        })                };                            </script>        </div>\n",
              "</body>\n",
              "</html>"
            ]
          },
          "metadata": {}
        }
      ]
    },
    {
      "cell_type": "markdown",
      "source": [
        "An interesting format to see how is Netflix around the world.\n",
        "\n"
      ],
      "metadata": {
        "id": "oHWEPfI2CWR8"
      }
    },
    {
      "cell_type": "markdown",
      "source": [
        "#<B>5. Asking and Answering Questions"
      ],
      "metadata": {
        "id": "-Y0wjw0l0P1V"
      }
    },
    {
      "cell_type": "code",
      "source": [
        ""
      ],
      "metadata": {
        "id": "LceoYb327TUo"
      },
      "execution_count": 233,
      "outputs": []
    }
  ]
}